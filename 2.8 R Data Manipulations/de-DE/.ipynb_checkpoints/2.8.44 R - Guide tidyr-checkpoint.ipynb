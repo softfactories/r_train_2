{
 "cells": [
  {
   "cell_type": "markdown",
   "metadata": {},
   "source": [
    "# Tag 2. Kapitel 8. Daten-Manipulationen\n",
    "\n",
    "## Lektion 44.  Guide zur Verwendung von tidyr\n",
    "\n",
    "Wir kennen jetzt bereits `dplyr` und seine Funktionen. Zusätzlich können wir uns jetzt `tidyr` aneignen. Dies ist ein komplementäres Paket, das uns dabei hilft, ordentliche Datensätze zu erstellen. Was meinen wir überhaupt wenn wir \"ordentlicher\" Datensatz sagen?\n",
    "\n",
    "Ordentliche Daten liegen vor, wenn jede Zeile eine eigene Beobachtung darstellt und jede Spalte eine Variable. Durch diese Organisation der Daten beinhaltet jede Zelle genau den Wert für eine Variable für eine Beobachtung. Durch diese Format können wir Daten leichter verstehen, analysieren und visualisieren.\n",
    "\n",
    "Nach dieser Lektion könnt ihr euch auf folgendes Cheatsheet beziehen: [Data Wrangling](http://www.rstudio.com/wp-content/uploads/2015/02/data-wrangling-cheatsheet.pdf)\n",
    "\n",
    "## Installation von tidyr"
   ]
  },
  {
   "cell_type": "code",
   "execution_count": 86,
   "metadata": {},
   "outputs": [
    {
     "name": "stderr",
     "output_type": "stream",
     "text": [
      "Warning message:\n",
      "\"package 'tidyr' is in use and will not be installed\"Warning message:\n",
      "\"package 'data.table' is in use and will not be installed\""
     ]
    }
   ],
   "source": [
    "install.packages('tidyr',repos = 'http://cran.us.r-project.org')\n",
    "# Evtl. data.table installieren\n",
    "install.packages(\"data.table\")"
   ]
  },
  {
   "cell_type": "code",
   "execution_count": 88,
   "metadata": {},
   "outputs": [],
   "source": [
    "library(tidyr)\n",
    "library(data.table)"
   ]
  },
  {
   "cell_type": "markdown",
   "metadata": {},
   "source": [
    "## Data.frames versus data.tables\n",
    "\n",
    "Alle data.tables sind auch data.frames. Vereinfacht gesagt sind data.tables data.frames die extra Features bieten. \n",
    "\n",
    "data.frame ist in der Installation von R inbegriffen.\n",
    "\n",
    "data.table ist ein Paket, dass data.frame erweitert. Zwei der wichtigsten Features sind Geschwindigkeit und saubere Syntax.\n",
    "\n",
    "Jedoch ist die Syntax der data.table etwas unterschiedlich zur Standard R Syntax von data.frame. Diese Unterschiede können für ein untrainiertes Auge allerdings schwer zu erkennen sein. Wenn man mit einem Code-Abschnitt arbeitet, der nicht anzeigt, dass mit data.tables gearbeitet wird, und diesen auf einen Data Frame anwenden möchte, dann kann es zu Errors kommen.\n",
    "\n",
    "Um einige der Unterschiede festzuhalten:\n",
    "\n",
    "* viel schnellerer und sehr intuitive **by** Operationen\n",
    "* Wir werden nicht ausversehen riesige Data Frames ausgeben, die wir mit Strg-C stoppen müssten. data.table verhindert solche Vorfälle\n",
    "* schnellere und einfacheres Lesen von Datein mit **fread**\n",
    "* das Paket beinhaltet weitere Funktionen wie %between% oder rbindlist\n",
    "* und insgesamt einfach etwas schnellere Grundfunktionen\n",
    "\n",
    "# Nutzung von tidyr\n",
    "\n",
    "Wir werden einige der nützlichsten Funktionen in tidyr abdecken. Dazu gehören die folgenden:\n",
    "\n",
    "* gather()\n",
    "* spread()\n",
    "* separate()\n",
    "* unite()"
   ]
  },
  {
   "cell_type": "markdown",
   "metadata": {},
   "source": [
    "## Beispiel Datensatz\n",
    "\n",
    "Lass uns jetzt einige Daten erzeugen, die mit tidyr ordentlich gemacht werden müssen"
   ]
  },
  {
   "cell_type": "code",
   "execution_count": 89,
   "metadata": {},
   "outputs": [],
   "source": [
    "firma <- c(1,1,1,2,2,2,3,3,3)\n",
    "jr <- c(1998,1999,2000,1998,1999,2000,1998,1999,2000)\n",
    "q1 <- runif(9, min=0, max=100)\n",
    "q2 <- runif(9, min=0, max=100)\n",
    "q3 <- runif(9, min=0, max=100)\n",
    "q4 <- runif(9, min=0, max=100)\n",
    "\n",
    "df <- data.frame(firma=firma,jahr=jr,Qtr1 = q1,Qtr2 = q2,Qtr3 = q3,Qtr4 = q4)"
   ]
  },
  {
   "cell_type": "code",
   "execution_count": 90,
   "metadata": {},
   "outputs": [
    {
     "data": {
      "text/html": [
       "<table>\n",
       "<thead><tr><th scope=col>firma</th><th scope=col>jahr</th><th scope=col>Qtr1</th><th scope=col>Qtr2</th><th scope=col>Qtr3</th><th scope=col>Qtr4</th></tr></thead>\n",
       "<tbody>\n",
       "\t<tr><td>1        </td><td>1998     </td><td>31.24142 </td><td>64.35533 </td><td>15.103400</td><td>84.05206 </td></tr>\n",
       "\t<tr><td>1        </td><td>1999     </td><td>17.05111 </td><td>34.88872 </td><td>26.342010</td><td>45.00045 </td></tr>\n",
       "\t<tr><td>1        </td><td>2000     </td><td>14.54117 </td><td>14.71333 </td><td> 6.414722</td><td>97.07631 </td></tr>\n",
       "\t<tr><td>2        </td><td>1998     </td><td>73.57931 </td><td>75.81704 </td><td>92.919413</td><td>88.97070 </td></tr>\n",
       "\t<tr><td>2        </td><td>1999     </td><td>42.08913 </td><td>25.10458 </td><td>34.529138</td><td>15.35714 </td></tr>\n",
       "\t<tr><td>2        </td><td>2000     </td><td>11.43164 </td><td>50.19196 </td><td>43.868852</td><td>16.83074 </td></tr>\n",
       "\t<tr><td>3        </td><td>1998     </td><td>49.17495 </td><td>73.39670 </td><td>44.732164</td><td>75.35942 </td></tr>\n",
       "\t<tr><td>3        </td><td>1999     </td><td>96.18519 </td><td>72.92747 </td><td>67.636679</td><td>55.11637 </td></tr>\n",
       "\t<tr><td>3        </td><td>2000     </td><td>68.16501 </td><td>43.82732 </td><td> 7.909525</td><td>81.83202 </td></tr>\n",
       "</tbody>\n",
       "</table>\n"
      ],
      "text/latex": [
       "\\begin{tabular}{r|llllll}\n",
       " firma & jahr & Qtr1 & Qtr2 & Qtr3 & Qtr4\\\\\n",
       "\\hline\n",
       "\t 1         & 1998      & 31.24142  & 64.35533  & 15.103400 & 84.05206 \\\\\n",
       "\t 1         & 1999      & 17.05111  & 34.88872  & 26.342010 & 45.00045 \\\\\n",
       "\t 1         & 2000      & 14.54117  & 14.71333  &  6.414722 & 97.07631 \\\\\n",
       "\t 2         & 1998      & 73.57931  & 75.81704  & 92.919413 & 88.97070 \\\\\n",
       "\t 2         & 1999      & 42.08913  & 25.10458  & 34.529138 & 15.35714 \\\\\n",
       "\t 2         & 2000      & 11.43164  & 50.19196  & 43.868852 & 16.83074 \\\\\n",
       "\t 3         & 1998      & 49.17495  & 73.39670  & 44.732164 & 75.35942 \\\\\n",
       "\t 3         & 1999      & 96.18519  & 72.92747  & 67.636679 & 55.11637 \\\\\n",
       "\t 3         & 2000      & 68.16501  & 43.82732  &  7.909525 & 81.83202 \\\\\n",
       "\\end{tabular}\n"
      ],
      "text/markdown": [
       "\n",
       "| firma | jahr | Qtr1 | Qtr2 | Qtr3 | Qtr4 |\n",
       "|---|---|---|---|---|---|\n",
       "| 1         | 1998      | 31.24142  | 64.35533  | 15.103400 | 84.05206  |\n",
       "| 1         | 1999      | 17.05111  | 34.88872  | 26.342010 | 45.00045  |\n",
       "| 1         | 2000      | 14.54117  | 14.71333  |  6.414722 | 97.07631  |\n",
       "| 2         | 1998      | 73.57931  | 75.81704  | 92.919413 | 88.97070  |\n",
       "| 2         | 1999      | 42.08913  | 25.10458  | 34.529138 | 15.35714  |\n",
       "| 2         | 2000      | 11.43164  | 50.19196  | 43.868852 | 16.83074  |\n",
       "| 3         | 1998      | 49.17495  | 73.39670  | 44.732164 | 75.35942  |\n",
       "| 3         | 1999      | 96.18519  | 72.92747  | 67.636679 | 55.11637  |\n",
       "| 3         | 2000      | 68.16501  | 43.82732  |  7.909525 | 81.83202  |\n",
       "\n"
      ],
      "text/plain": [
       "  firma jahr Qtr1     Qtr2     Qtr3      Qtr4    \n",
       "1 1     1998 31.24142 64.35533 15.103400 84.05206\n",
       "2 1     1999 17.05111 34.88872 26.342010 45.00045\n",
       "3 1     2000 14.54117 14.71333  6.414722 97.07631\n",
       "4 2     1998 73.57931 75.81704 92.919413 88.97070\n",
       "5 2     1999 42.08913 25.10458 34.529138 15.35714\n",
       "6 2     2000 11.43164 50.19196 43.868852 16.83074\n",
       "7 3     1998 49.17495 73.39670 44.732164 75.35942\n",
       "8 3     1999 96.18519 72.92747 67.636679 55.11637\n",
       "9 3     2000 68.16501 43.82732  7.909525 81.83202"
      ]
     },
     "metadata": {},
     "output_type": "display_data"
    }
   ],
   "source": [
    "df"
   ]
  },
  {
   "cell_type": "markdown",
   "metadata": {},
   "source": [
    "# Gather() und Spread()\n",
    "\n",
    "Manchmal vergleichen Leute diese Operationen mit Pivot-Tabellen in Excel. Schauen wir uns einige Beispiele an:"
   ]
  },
  {
   "cell_type": "markdown",
   "metadata": {},
   "source": [
    "## gather()\n",
    "\n",
    "Die `gather()` Funktion fasst mehrere Spalten in Schlüssel-Paar Werte zusammen. Der Data Frame von oben würde als \"breit\" bezeichnet werden, da jedes Quartal eine eigene Spalte bzw. Variable hat. Um diese Zeitdimension neu zu ordnen, können wir alle Quartale in eine Spalte vereinen. Außerdem können wir dann alle Werte, die mit den einzelnen Quartalen asoziiert sind, in eine zweite Spalte schreiben."
   ]
  },
  {
   "cell_type": "code",
   "execution_count": 91,
   "metadata": {},
   "outputs": [
    {
     "data": {
      "text/html": [
       "<table>\n",
       "<thead><tr><th scope=col>firma</th><th scope=col>jahr</th><th scope=col>Quartal</th><th scope=col>Umsatz</th></tr></thead>\n",
       "<tbody>\n",
       "\t<tr><td>1       </td><td>1998    </td><td>Qtr1    </td><td>31.24142</td></tr>\n",
       "\t<tr><td>1       </td><td>1999    </td><td>Qtr1    </td><td>17.05111</td></tr>\n",
       "\t<tr><td>1       </td><td>2000    </td><td>Qtr1    </td><td>14.54117</td></tr>\n",
       "\t<tr><td>2       </td><td>1998    </td><td>Qtr1    </td><td>73.57931</td></tr>\n",
       "\t<tr><td>2       </td><td>1999    </td><td>Qtr1    </td><td>42.08913</td></tr>\n",
       "\t<tr><td>2       </td><td>2000    </td><td>Qtr1    </td><td>11.43164</td></tr>\n",
       "</tbody>\n",
       "</table>\n"
      ],
      "text/latex": [
       "\\begin{tabular}{r|llll}\n",
       " firma & jahr & Quartal & Umsatz\\\\\n",
       "\\hline\n",
       "\t 1        & 1998     & Qtr1     & 31.24142\\\\\n",
       "\t 1        & 1999     & Qtr1     & 17.05111\\\\\n",
       "\t 1        & 2000     & Qtr1     & 14.54117\\\\\n",
       "\t 2        & 1998     & Qtr1     & 73.57931\\\\\n",
       "\t 2        & 1999     & Qtr1     & 42.08913\\\\\n",
       "\t 2        & 2000     & Qtr1     & 11.43164\\\\\n",
       "\\end{tabular}\n"
      ],
      "text/markdown": [
       "\n",
       "| firma | jahr | Quartal | Umsatz |\n",
       "|---|---|---|---|\n",
       "| 1        | 1998     | Qtr1     | 31.24142 |\n",
       "| 1        | 1999     | Qtr1     | 17.05111 |\n",
       "| 1        | 2000     | Qtr1     | 14.54117 |\n",
       "| 2        | 1998     | Qtr1     | 73.57931 |\n",
       "| 2        | 1999     | Qtr1     | 42.08913 |\n",
       "| 2        | 2000     | Qtr1     | 11.43164 |\n",
       "\n"
      ],
      "text/plain": [
       "  firma jahr Quartal Umsatz  \n",
       "1 1     1998 Qtr1    31.24142\n",
       "2 1     1999 Qtr1    17.05111\n",
       "3 1     2000 Qtr1    14.54117\n",
       "4 2     1998 Qtr1    73.57931\n",
       "5 2     1999 Qtr1    42.08913\n",
       "6 2     2000 Qtr1    11.43164"
      ]
     },
     "metadata": {},
     "output_type": "display_data"
    }
   ],
   "source": [
    "# Unter Verwendung des Pipe Operators\n",
    "df %>% gather(Quartal,Umsatz,Qtr1:Qtr4) %>% head"
   ]
  },
  {
   "cell_type": "code",
   "execution_count": 92,
   "metadata": {},
   "outputs": [
    {
     "data": {
      "text/html": [
       "<table>\n",
       "<thead><tr><th scope=col>firma</th><th scope=col>jahr</th><th scope=col>Quartal</th><th scope=col>Umsatz</th></tr></thead>\n",
       "<tbody>\n",
       "\t<tr><td>1       </td><td>1998    </td><td>Qtr1    </td><td>31.24142</td></tr>\n",
       "\t<tr><td>1       </td><td>1999    </td><td>Qtr1    </td><td>17.05111</td></tr>\n",
       "\t<tr><td>1       </td><td>2000    </td><td>Qtr1    </td><td>14.54117</td></tr>\n",
       "\t<tr><td>2       </td><td>1998    </td><td>Qtr1    </td><td>73.57931</td></tr>\n",
       "\t<tr><td>2       </td><td>1999    </td><td>Qtr1    </td><td>42.08913</td></tr>\n",
       "\t<tr><td>2       </td><td>2000    </td><td>Qtr1    </td><td>11.43164</td></tr>\n",
       "</tbody>\n",
       "</table>\n"
      ],
      "text/latex": [
       "\\begin{tabular}{r|llll}\n",
       " firma & jahr & Quartal & Umsatz\\\\\n",
       "\\hline\n",
       "\t 1        & 1998     & Qtr1     & 31.24142\\\\\n",
       "\t 1        & 1999     & Qtr1     & 17.05111\\\\\n",
       "\t 1        & 2000     & Qtr1     & 14.54117\\\\\n",
       "\t 2        & 1998     & Qtr1     & 73.57931\\\\\n",
       "\t 2        & 1999     & Qtr1     & 42.08913\\\\\n",
       "\t 2        & 2000     & Qtr1     & 11.43164\\\\\n",
       "\\end{tabular}\n"
      ],
      "text/markdown": [
       "\n",
       "| firma | jahr | Quartal | Umsatz |\n",
       "|---|---|---|---|\n",
       "| 1        | 1998     | Qtr1     | 31.24142 |\n",
       "| 1        | 1999     | Qtr1     | 17.05111 |\n",
       "| 1        | 2000     | Qtr1     | 14.54117 |\n",
       "| 2        | 1998     | Qtr1     | 73.57931 |\n",
       "| 2        | 1999     | Qtr1     | 42.08913 |\n",
       "| 2        | 2000     | Qtr1     | 11.43164 |\n",
       "\n"
      ],
      "text/plain": [
       "  firma jahr Quartal Umsatz  \n",
       "1 1     1998 Qtr1    31.24142\n",
       "2 1     1999 Qtr1    17.05111\n",
       "3 1     2000 Qtr1    14.54117\n",
       "4 2     1998 Qtr1    73.57931\n",
       "5 2     1999 Qtr1    42.08913\n",
       "6 2     2000 Qtr1    11.43164"
      ]
     },
     "metadata": {},
     "output_type": "display_data"
    }
   ],
   "source": [
    "# Nur mit der Funktion\n",
    "head(gather(df,Quartal,Umsatz,Qtr1:Qtr4))"
   ]
  },
  {
   "cell_type": "markdown",
   "metadata": {},
   "source": [
    "## spread()\n",
    "\n",
    "Ist das Gegenstück zu `gather()`:"
   ]
  },
  {
   "cell_type": "code",
   "execution_count": 93,
   "metadata": {},
   "outputs": [
    {
     "data": {
      "text/html": [
       "<table>\n",
       "<thead><tr><th scope=col>datum</th><th scope=col>X</th><th scope=col>Y</th><th scope=col>Z</th></tr></thead>\n",
       "<tbody>\n",
       "\t<tr><td>2009-01-01 </td><td> 1.10509159</td><td> 2.0340756 </td><td>-5.0715554 </td></tr>\n",
       "\t<tr><td>2009-01-02 </td><td> 0.05493291</td><td> 2.3002347 </td><td>-3.0552499 </td></tr>\n",
       "\t<tr><td>2009-01-03 </td><td>-0.53703429</td><td> 3.9320139 </td><td>-1.0288409 </td></tr>\n",
       "\t<tr><td>2009-01-04 </td><td>-0.81873941</td><td>-0.4090300 </td><td> 0.4213357 </td></tr>\n",
       "\t<tr><td>2009-01-05 </td><td> 1.02677054</td><td>-0.2470760 </td><td>-6.2706810 </td></tr>\n",
       "\t<tr><td>2009-01-06 </td><td>-0.52386910</td><td> 3.1813537 </td><td>-7.0499903 </td></tr>\n",
       "\t<tr><td>2009-01-07 </td><td> 0.75928170</td><td> 0.2255228 </td><td>-2.0214215 </td></tr>\n",
       "\t<tr><td>2009-01-08 </td><td> 0.31538345</td><td> 0.4337674 </td><td>-6.7384930 </td></tr>\n",
       "\t<tr><td>2009-01-09 </td><td> 0.35598608</td><td> 0.2968420 </td><td> 0.5154720 </td></tr>\n",
       "\t<tr><td>2009-01-10 </td><td> 0.69384972</td><td> 3.4733101 </td><td> 6.5739083 </td></tr>\n",
       "</tbody>\n",
       "</table>\n"
      ],
      "text/latex": [
       "\\begin{tabular}{r|llll}\n",
       " datum & X & Y & Z\\\\\n",
       "\\hline\n",
       "\t 2009-01-01  &  1.10509159 &  2.0340756  & -5.0715554 \\\\\n",
       "\t 2009-01-02  &  0.05493291 &  2.3002347  & -3.0552499 \\\\\n",
       "\t 2009-01-03  & -0.53703429 &  3.9320139  & -1.0288409 \\\\\n",
       "\t 2009-01-04  & -0.81873941 & -0.4090300  &  0.4213357 \\\\\n",
       "\t 2009-01-05  &  1.02677054 & -0.2470760  & -6.2706810 \\\\\n",
       "\t 2009-01-06  & -0.52386910 &  3.1813537  & -7.0499903 \\\\\n",
       "\t 2009-01-07  &  0.75928170 &  0.2255228  & -2.0214215 \\\\\n",
       "\t 2009-01-08  &  0.31538345 &  0.4337674  & -6.7384930 \\\\\n",
       "\t 2009-01-09  &  0.35598608 &  0.2968420  &  0.5154720 \\\\\n",
       "\t 2009-01-10  &  0.69384972 &  3.4733101  &  6.5739083 \\\\\n",
       "\\end{tabular}\n"
      ],
      "text/markdown": [
       "\n",
       "| datum | X | Y | Z |\n",
       "|---|---|---|---|\n",
       "| 2009-01-01  |  1.10509159 |  2.0340756  | -5.0715554  |\n",
       "| 2009-01-02  |  0.05493291 |  2.3002347  | -3.0552499  |\n",
       "| 2009-01-03  | -0.53703429 |  3.9320139  | -1.0288409  |\n",
       "| 2009-01-04  | -0.81873941 | -0.4090300  |  0.4213357  |\n",
       "| 2009-01-05  |  1.02677054 | -0.2470760  | -6.2706810  |\n",
       "| 2009-01-06  | -0.52386910 |  3.1813537  | -7.0499903  |\n",
       "| 2009-01-07  |  0.75928170 |  0.2255228  | -2.0214215  |\n",
       "| 2009-01-08  |  0.31538345 |  0.4337674  | -6.7384930  |\n",
       "| 2009-01-09  |  0.35598608 |  0.2968420  |  0.5154720  |\n",
       "| 2009-01-10  |  0.69384972 |  3.4733101  |  6.5739083  |\n",
       "\n"
      ],
      "text/plain": [
       "   datum      X           Y          Z         \n",
       "1  2009-01-01  1.10509159  2.0340756 -5.0715554\n",
       "2  2009-01-02  0.05493291  2.3002347 -3.0552499\n",
       "3  2009-01-03 -0.53703429  3.9320139 -1.0288409\n",
       "4  2009-01-04 -0.81873941 -0.4090300  0.4213357\n",
       "5  2009-01-05  1.02677054 -0.2470760 -6.2706810\n",
       "6  2009-01-06 -0.52386910  3.1813537 -7.0499903\n",
       "7  2009-01-07  0.75928170  0.2255228 -2.0214215\n",
       "8  2009-01-08  0.31538345  0.4337674 -6.7384930\n",
       "9  2009-01-09  0.35598608  0.2968420  0.5154720\n",
       "10 2009-01-10  0.69384972  3.4733101  6.5739083"
      ]
     },
     "metadata": {},
     "output_type": "display_data"
    }
   ],
   "source": [
    "# Step 1.\n",
    "aktien <- data.frame(\n",
    "  datum = as.Date('2009-01-01') + 0:9,\n",
    "  X = rnorm(10, 0, 1),\n",
    "  Y = rnorm(10, 0, 2),\n",
    "  Z = rnorm(10, 0, 4)\n",
    ")\n",
    "aktien"
   ]
  },
  {
   "cell_type": "code",
   "execution_count": 94,
   "metadata": {},
   "outputs": [
    {
     "data": {
      "text/html": [
       "<table>\n",
       "<thead><tr><th scope=col>datum</th><th scope=col>aktie</th><th scope=col>preis</th></tr></thead>\n",
       "<tbody>\n",
       "\t<tr><td>2009-01-01 </td><td>X          </td><td> 1.10509159</td></tr>\n",
       "\t<tr><td>2009-01-02 </td><td>X          </td><td> 0.05493291</td></tr>\n",
       "\t<tr><td>2009-01-03 </td><td>X          </td><td>-0.53703429</td></tr>\n",
       "\t<tr><td>2009-01-04 </td><td>X          </td><td>-0.81873941</td></tr>\n",
       "\t<tr><td>2009-01-05 </td><td>X          </td><td> 1.02677054</td></tr>\n",
       "\t<tr><td>2009-01-06 </td><td>X          </td><td>-0.52386910</td></tr>\n",
       "\t<tr><td>2009-01-07 </td><td>X          </td><td> 0.75928170</td></tr>\n",
       "\t<tr><td>2009-01-08 </td><td>X          </td><td> 0.31538345</td></tr>\n",
       "\t<tr><td>2009-01-09 </td><td>X          </td><td> 0.35598608</td></tr>\n",
       "\t<tr><td>2009-01-10 </td><td>X          </td><td> 0.69384972</td></tr>\n",
       "\t<tr><td>2009-01-01 </td><td>Y          </td><td> 2.03407556</td></tr>\n",
       "\t<tr><td>2009-01-02 </td><td>Y          </td><td> 2.30023473</td></tr>\n",
       "\t<tr><td>2009-01-03 </td><td>Y          </td><td> 3.93201387</td></tr>\n",
       "\t<tr><td>2009-01-04 </td><td>Y          </td><td>-0.40902996</td></tr>\n",
       "\t<tr><td>2009-01-05 </td><td>Y          </td><td>-0.24707596</td></tr>\n",
       "\t<tr><td>2009-01-06 </td><td>Y          </td><td> 3.18135371</td></tr>\n",
       "\t<tr><td>2009-01-07 </td><td>Y          </td><td> 0.22552283</td></tr>\n",
       "\t<tr><td>2009-01-08 </td><td>Y          </td><td> 0.43376743</td></tr>\n",
       "\t<tr><td>2009-01-09 </td><td>Y          </td><td> 0.29684203</td></tr>\n",
       "\t<tr><td>2009-01-10 </td><td>Y          </td><td> 3.47331006</td></tr>\n",
       "\t<tr><td>2009-01-01 </td><td>Z          </td><td>-5.07155536</td></tr>\n",
       "\t<tr><td>2009-01-02 </td><td>Z          </td><td>-3.05524994</td></tr>\n",
       "\t<tr><td>2009-01-03 </td><td>Z          </td><td>-1.02884094</td></tr>\n",
       "\t<tr><td>2009-01-04 </td><td>Z          </td><td> 0.42133567</td></tr>\n",
       "\t<tr><td>2009-01-05 </td><td>Z          </td><td>-6.27068102</td></tr>\n",
       "\t<tr><td>2009-01-06 </td><td>Z          </td><td>-7.04999030</td></tr>\n",
       "\t<tr><td>2009-01-07 </td><td>Z          </td><td>-2.02142147</td></tr>\n",
       "\t<tr><td>2009-01-08 </td><td>Z          </td><td>-6.73849303</td></tr>\n",
       "\t<tr><td>2009-01-09 </td><td>Z          </td><td> 0.51547201</td></tr>\n",
       "\t<tr><td>2009-01-10 </td><td>Z          </td><td> 6.57390833</td></tr>\n",
       "</tbody>\n",
       "</table>\n"
      ],
      "text/latex": [
       "\\begin{tabular}{r|lll}\n",
       " datum & aktie & preis\\\\\n",
       "\\hline\n",
       "\t 2009-01-01  & X           &  1.10509159\\\\\n",
       "\t 2009-01-02  & X           &  0.05493291\\\\\n",
       "\t 2009-01-03  & X           & -0.53703429\\\\\n",
       "\t 2009-01-04  & X           & -0.81873941\\\\\n",
       "\t 2009-01-05  & X           &  1.02677054\\\\\n",
       "\t 2009-01-06  & X           & -0.52386910\\\\\n",
       "\t 2009-01-07  & X           &  0.75928170\\\\\n",
       "\t 2009-01-08  & X           &  0.31538345\\\\\n",
       "\t 2009-01-09  & X           &  0.35598608\\\\\n",
       "\t 2009-01-10  & X           &  0.69384972\\\\\n",
       "\t 2009-01-01  & Y           &  2.03407556\\\\\n",
       "\t 2009-01-02  & Y           &  2.30023473\\\\\n",
       "\t 2009-01-03  & Y           &  3.93201387\\\\\n",
       "\t 2009-01-04  & Y           & -0.40902996\\\\\n",
       "\t 2009-01-05  & Y           & -0.24707596\\\\\n",
       "\t 2009-01-06  & Y           &  3.18135371\\\\\n",
       "\t 2009-01-07  & Y           &  0.22552283\\\\\n",
       "\t 2009-01-08  & Y           &  0.43376743\\\\\n",
       "\t 2009-01-09  & Y           &  0.29684203\\\\\n",
       "\t 2009-01-10  & Y           &  3.47331006\\\\\n",
       "\t 2009-01-01  & Z           & -5.07155536\\\\\n",
       "\t 2009-01-02  & Z           & -3.05524994\\\\\n",
       "\t 2009-01-03  & Z           & -1.02884094\\\\\n",
       "\t 2009-01-04  & Z           &  0.42133567\\\\\n",
       "\t 2009-01-05  & Z           & -6.27068102\\\\\n",
       "\t 2009-01-06  & Z           & -7.04999030\\\\\n",
       "\t 2009-01-07  & Z           & -2.02142147\\\\\n",
       "\t 2009-01-08  & Z           & -6.73849303\\\\\n",
       "\t 2009-01-09  & Z           &  0.51547201\\\\\n",
       "\t 2009-01-10  & Z           &  6.57390833\\\\\n",
       "\\end{tabular}\n"
      ],
      "text/markdown": [
       "\n",
       "| datum | aktie | preis |\n",
       "|---|---|---|\n",
       "| 2009-01-01  | X           |  1.10509159 |\n",
       "| 2009-01-02  | X           |  0.05493291 |\n",
       "| 2009-01-03  | X           | -0.53703429 |\n",
       "| 2009-01-04  | X           | -0.81873941 |\n",
       "| 2009-01-05  | X           |  1.02677054 |\n",
       "| 2009-01-06  | X           | -0.52386910 |\n",
       "| 2009-01-07  | X           |  0.75928170 |\n",
       "| 2009-01-08  | X           |  0.31538345 |\n",
       "| 2009-01-09  | X           |  0.35598608 |\n",
       "| 2009-01-10  | X           |  0.69384972 |\n",
       "| 2009-01-01  | Y           |  2.03407556 |\n",
       "| 2009-01-02  | Y           |  2.30023473 |\n",
       "| 2009-01-03  | Y           |  3.93201387 |\n",
       "| 2009-01-04  | Y           | -0.40902996 |\n",
       "| 2009-01-05  | Y           | -0.24707596 |\n",
       "| 2009-01-06  | Y           |  3.18135371 |\n",
       "| 2009-01-07  | Y           |  0.22552283 |\n",
       "| 2009-01-08  | Y           |  0.43376743 |\n",
       "| 2009-01-09  | Y           |  0.29684203 |\n",
       "| 2009-01-10  | Y           |  3.47331006 |\n",
       "| 2009-01-01  | Z           | -5.07155536 |\n",
       "| 2009-01-02  | Z           | -3.05524994 |\n",
       "| 2009-01-03  | Z           | -1.02884094 |\n",
       "| 2009-01-04  | Z           |  0.42133567 |\n",
       "| 2009-01-05  | Z           | -6.27068102 |\n",
       "| 2009-01-06  | Z           | -7.04999030 |\n",
       "| 2009-01-07  | Z           | -2.02142147 |\n",
       "| 2009-01-08  | Z           | -6.73849303 |\n",
       "| 2009-01-09  | Z           |  0.51547201 |\n",
       "| 2009-01-10  | Z           |  6.57390833 |\n",
       "\n"
      ],
      "text/plain": [
       "   datum      aktie preis      \n",
       "1  2009-01-01 X      1.10509159\n",
       "2  2009-01-02 X      0.05493291\n",
       "3  2009-01-03 X     -0.53703429\n",
       "4  2009-01-04 X     -0.81873941\n",
       "5  2009-01-05 X      1.02677054\n",
       "6  2009-01-06 X     -0.52386910\n",
       "7  2009-01-07 X      0.75928170\n",
       "8  2009-01-08 X      0.31538345\n",
       "9  2009-01-09 X      0.35598608\n",
       "10 2009-01-10 X      0.69384972\n",
       "11 2009-01-01 Y      2.03407556\n",
       "12 2009-01-02 Y      2.30023473\n",
       "13 2009-01-03 Y      3.93201387\n",
       "14 2009-01-04 Y     -0.40902996\n",
       "15 2009-01-05 Y     -0.24707596\n",
       "16 2009-01-06 Y      3.18135371\n",
       "17 2009-01-07 Y      0.22552283\n",
       "18 2009-01-08 Y      0.43376743\n",
       "19 2009-01-09 Y      0.29684203\n",
       "20 2009-01-10 Y      3.47331006\n",
       "21 2009-01-01 Z     -5.07155536\n",
       "22 2009-01-02 Z     -3.05524994\n",
       "23 2009-01-03 Z     -1.02884094\n",
       "24 2009-01-04 Z      0.42133567\n",
       "25 2009-01-05 Z     -6.27068102\n",
       "26 2009-01-06 Z     -7.04999030\n",
       "27 2009-01-07 Z     -2.02142147\n",
       "28 2009-01-08 Z     -6.73849303\n",
       "29 2009-01-09 Z      0.51547201\n",
       "30 2009-01-10 Z      6.57390833"
      ]
     },
     "metadata": {},
     "output_type": "display_data"
    }
   ],
   "source": [
    "# Step 2.\n",
    "# Daten als Key-Value Paare darstellen\n",
    "aktienm <- aktien %>% gather(\"aktie\", \"preis\", -datum)\n",
    "aktienm # 30 x 3 Datensatz"
   ]
  },
  {
   "cell_type": "code",
   "execution_count": 95,
   "metadata": {},
   "outputs": [
    {
     "data": {
      "text/html": [
       "<table>\n",
       "<thead><tr><th scope=col>datum</th><th scope=col>X</th><th scope=col>Y</th><th scope=col>Z</th></tr></thead>\n",
       "<tbody>\n",
       "\t<tr><td>2009-01-01 </td><td> 1.10509159</td><td> 2.0340756 </td><td>-5.0715554 </td></tr>\n",
       "\t<tr><td>2009-01-02 </td><td> 0.05493291</td><td> 2.3002347 </td><td>-3.0552499 </td></tr>\n",
       "\t<tr><td>2009-01-03 </td><td>-0.53703429</td><td> 3.9320139 </td><td>-1.0288409 </td></tr>\n",
       "\t<tr><td>2009-01-04 </td><td>-0.81873941</td><td>-0.4090300 </td><td> 0.4213357 </td></tr>\n",
       "\t<tr><td>2009-01-05 </td><td> 1.02677054</td><td>-0.2470760 </td><td>-6.2706810 </td></tr>\n",
       "\t<tr><td>2009-01-06 </td><td>-0.52386910</td><td> 3.1813537 </td><td>-7.0499903 </td></tr>\n",
       "\t<tr><td>2009-01-07 </td><td> 0.75928170</td><td> 0.2255228 </td><td>-2.0214215 </td></tr>\n",
       "\t<tr><td>2009-01-08 </td><td> 0.31538345</td><td> 0.4337674 </td><td>-6.7384930 </td></tr>\n",
       "\t<tr><td>2009-01-09 </td><td> 0.35598608</td><td> 0.2968420 </td><td> 0.5154720 </td></tr>\n",
       "\t<tr><td>2009-01-10 </td><td> 0.69384972</td><td> 3.4733101 </td><td> 6.5739083 </td></tr>\n",
       "</tbody>\n",
       "</table>\n"
      ],
      "text/latex": [
       "\\begin{tabular}{r|llll}\n",
       " datum & X & Y & Z\\\\\n",
       "\\hline\n",
       "\t 2009-01-01  &  1.10509159 &  2.0340756  & -5.0715554 \\\\\n",
       "\t 2009-01-02  &  0.05493291 &  2.3002347  & -3.0552499 \\\\\n",
       "\t 2009-01-03  & -0.53703429 &  3.9320139  & -1.0288409 \\\\\n",
       "\t 2009-01-04  & -0.81873941 & -0.4090300  &  0.4213357 \\\\\n",
       "\t 2009-01-05  &  1.02677054 & -0.2470760  & -6.2706810 \\\\\n",
       "\t 2009-01-06  & -0.52386910 &  3.1813537  & -7.0499903 \\\\\n",
       "\t 2009-01-07  &  0.75928170 &  0.2255228  & -2.0214215 \\\\\n",
       "\t 2009-01-08  &  0.31538345 &  0.4337674  & -6.7384930 \\\\\n",
       "\t 2009-01-09  &  0.35598608 &  0.2968420  &  0.5154720 \\\\\n",
       "\t 2009-01-10  &  0.69384972 &  3.4733101  &  6.5739083 \\\\\n",
       "\\end{tabular}\n"
      ],
      "text/markdown": [
       "\n",
       "| datum | X | Y | Z |\n",
       "|---|---|---|---|\n",
       "| 2009-01-01  |  1.10509159 |  2.0340756  | -5.0715554  |\n",
       "| 2009-01-02  |  0.05493291 |  2.3002347  | -3.0552499  |\n",
       "| 2009-01-03  | -0.53703429 |  3.9320139  | -1.0288409  |\n",
       "| 2009-01-04  | -0.81873941 | -0.4090300  |  0.4213357  |\n",
       "| 2009-01-05  |  1.02677054 | -0.2470760  | -6.2706810  |\n",
       "| 2009-01-06  | -0.52386910 |  3.1813537  | -7.0499903  |\n",
       "| 2009-01-07  |  0.75928170 |  0.2255228  | -2.0214215  |\n",
       "| 2009-01-08  |  0.31538345 |  0.4337674  | -6.7384930  |\n",
       "| 2009-01-09  |  0.35598608 |  0.2968420  |  0.5154720  |\n",
       "| 2009-01-10  |  0.69384972 |  3.4733101  |  6.5739083  |\n",
       "\n"
      ],
      "text/plain": [
       "   datum      X           Y          Z         \n",
       "1  2009-01-01  1.10509159  2.0340756 -5.0715554\n",
       "2  2009-01-02  0.05493291  2.3002347 -3.0552499\n",
       "3  2009-01-03 -0.53703429  3.9320139 -1.0288409\n",
       "4  2009-01-04 -0.81873941 -0.4090300  0.4213357\n",
       "5  2009-01-05  1.02677054 -0.2470760 -6.2706810\n",
       "6  2009-01-06 -0.52386910  3.1813537 -7.0499903\n",
       "7  2009-01-07  0.75928170  0.2255228 -2.0214215\n",
       "8  2009-01-08  0.31538345  0.4337674 -6.7384930\n",
       "9  2009-01-09  0.35598608  0.2968420  0.5154720\n",
       "10 2009-01-10  0.69384972  3.4733101  6.5739083"
      ]
     },
     "metadata": {},
     "output_type": "display_data"
    }
   ],
   "source": [
    "# Step 3.\n",
    "# Key-Value Datensätze über Aktie darstellen\n",
    "aktienm %>% spread(\"aktie\", \"preis\")"
   ]
  },
  {
   "cell_type": "code",
   "execution_count": 96,
   "metadata": {},
   "outputs": [
    {
     "data": {
      "text/html": [
       "<table>\n",
       "<thead><tr><th scope=col>aktie</th><th scope=col>2009-01-01</th><th scope=col>2009-01-02</th><th scope=col>2009-01-03</th><th scope=col>2009-01-04</th><th scope=col>2009-01-05</th><th scope=col>2009-01-06</th><th scope=col>2009-01-07</th><th scope=col>2009-01-08</th><th scope=col>2009-01-09</th><th scope=col>2009-01-10</th></tr></thead>\n",
       "<tbody>\n",
       "\t<tr><td>X          </td><td> 1.105092  </td><td> 0.05493291</td><td>-0.5370343 </td><td>-0.8187394 </td><td> 1.026771  </td><td>-0.5238691 </td><td> 0.7592817 </td><td> 0.3153835 </td><td>0.3559861  </td><td>0.6938497  </td></tr>\n",
       "\t<tr><td>Y          </td><td> 2.034076  </td><td> 2.30023473</td><td> 3.9320139 </td><td>-0.4090300 </td><td>-0.247076  </td><td> 3.1813537 </td><td> 0.2255228 </td><td> 0.4337674 </td><td>0.2968420  </td><td>3.4733101  </td></tr>\n",
       "\t<tr><td>Z          </td><td>-5.071555  </td><td>-3.05524994</td><td>-1.0288409 </td><td> 0.4213357 </td><td>-6.270681  </td><td>-7.0499903 </td><td>-2.0214215 </td><td>-6.7384930 </td><td>0.5154720  </td><td>6.5739083  </td></tr>\n",
       "</tbody>\n",
       "</table>\n"
      ],
      "text/latex": [
       "\\begin{tabular}{r|lllllllllll}\n",
       " aktie & 2009-01-01 & 2009-01-02 & 2009-01-03 & 2009-01-04 & 2009-01-05 & 2009-01-06 & 2009-01-07 & 2009-01-08 & 2009-01-09 & 2009-01-10\\\\\n",
       "\\hline\n",
       "\t X           &  1.105092   &  0.05493291 & -0.5370343  & -0.8187394  &  1.026771   & -0.5238691  &  0.7592817  &  0.3153835  & 0.3559861   & 0.6938497  \\\\\n",
       "\t Y           &  2.034076   &  2.30023473 &  3.9320139  & -0.4090300  & -0.247076   &  3.1813537  &  0.2255228  &  0.4337674  & 0.2968420   & 3.4733101  \\\\\n",
       "\t Z           & -5.071555   & -3.05524994 & -1.0288409  &  0.4213357  & -6.270681   & -7.0499903  & -2.0214215  & -6.7384930  & 0.5154720   & 6.5739083  \\\\\n",
       "\\end{tabular}\n"
      ],
      "text/markdown": [
       "\n",
       "| aktie | 2009-01-01 | 2009-01-02 | 2009-01-03 | 2009-01-04 | 2009-01-05 | 2009-01-06 | 2009-01-07 | 2009-01-08 | 2009-01-09 | 2009-01-10 |\n",
       "|---|---|---|---|---|---|---|---|---|---|---|\n",
       "| X           |  1.105092   |  0.05493291 | -0.5370343  | -0.8187394  |  1.026771   | -0.5238691  |  0.7592817  |  0.3153835  | 0.3559861   | 0.6938497   |\n",
       "| Y           |  2.034076   |  2.30023473 |  3.9320139  | -0.4090300  | -0.247076   |  3.1813537  |  0.2255228  |  0.4337674  | 0.2968420   | 3.4733101   |\n",
       "| Z           | -5.071555   | -3.05524994 | -1.0288409  |  0.4213357  | -6.270681   | -7.0499903  | -2.0214215  | -6.7384930  | 0.5154720   | 6.5739083   |\n",
       "\n"
      ],
      "text/plain": [
       "  aktie 2009-01-01 2009-01-02  2009-01-03 2009-01-04 2009-01-05 2009-01-06\n",
       "1 X      1.105092   0.05493291 -0.5370343 -0.8187394  1.026771  -0.5238691\n",
       "2 Y      2.034076   2.30023473  3.9320139 -0.4090300 -0.247076   3.1813537\n",
       "3 Z     -5.071555  -3.05524994 -1.0288409  0.4213357 -6.270681  -7.0499903\n",
       "  2009-01-07 2009-01-08 2009-01-09 2009-01-10\n",
       "1  0.7592817  0.3153835 0.3559861  0.6938497 \n",
       "2  0.2255228  0.4337674 0.2968420  3.4733101 \n",
       "3 -2.0214215 -6.7384930 0.5154720  6.5739083 "
      ]
     },
     "metadata": {},
     "output_type": "display_data"
    }
   ],
   "source": [
    "# Step 3.\n",
    "# Key-Value Datensätze über Datum darstellen\n",
    "aktienm %>% spread(\"datum\", \"preis\")"
   ]
  },
  {
   "cell_type": "markdown",
   "metadata": {},
   "source": [
    "# Separate und Unite"
   ]
  },
  {
   "cell_type": "markdown",
   "metadata": {},
   "source": [
    "## separate()\n",
    "\n",
    "Ausgehend von einer Regular Expression oder einem Vektor von Zeichenpositionen kann `separate()` eine einzelne Spalte in mehrere aufteilen:"
   ]
  },
  {
   "cell_type": "code",
   "execution_count": 97,
   "metadata": {},
   "outputs": [
    {
     "data": {
      "text/html": [
       "<ol class=list-inline>\n",
       "\t<li>NA</li>\n",
       "\t<li>'a.x'</li>\n",
       "\t<li>'b.y'</li>\n",
       "\t<li>'c.z'</li>\n",
       "</ol>\n"
      ],
      "text/latex": [
       "\\begin{enumerate*}\n",
       "\\item NA\n",
       "\\item 'a.x'\n",
       "\\item 'b.y'\n",
       "\\item 'c.z'\n",
       "\\end{enumerate*}\n"
      ],
      "text/markdown": [
       "1. NA\n",
       "2. 'a.x'\n",
       "3. 'b.y'\n",
       "4. 'c.z'\n",
       "\n",
       "\n"
      ],
      "text/plain": [
       "[1] NA    \"a.x\" \"b.y\" \"c.z\""
      ]
     },
     "metadata": {},
     "output_type": "display_data"
    },
    {
     "data": {
      "text/html": [
       "<table>\n",
       "<thead><tr><th scope=col>v</th></tr></thead>\n",
       "<tbody>\n",
       "\t<tr><td>NA </td></tr>\n",
       "\t<tr><td>a.x</td></tr>\n",
       "\t<tr><td>b.y</td></tr>\n",
       "\t<tr><td>c.z</td></tr>\n",
       "</tbody>\n",
       "</table>\n"
      ],
      "text/latex": [
       "\\begin{tabular}{r|l}\n",
       " v\\\\\n",
       "\\hline\n",
       "\t NA \\\\\n",
       "\t a.x\\\\\n",
       "\t b.y\\\\\n",
       "\t c.z\\\\\n",
       "\\end{tabular}\n"
      ],
      "text/markdown": [
       "\n",
       "| v |\n",
       "|---|\n",
       "| NA  |\n",
       "| a.x |\n",
       "| b.y |\n",
       "| c.z |\n",
       "\n"
      ],
      "text/plain": [
       "  v  \n",
       "1 NA \n",
       "2 a.x\n",
       "3 b.y\n",
       "4 c.z"
      ]
     },
     "metadata": {},
     "output_type": "display_data"
    }
   ],
   "source": [
    "v <- c(NA, \"a.x\", \"b.y\", \"c.z\")\n",
    "df <- data.frame(v)\n",
    "v\n",
    "df"
   ]
  },
  {
   "cell_type": "code",
   "execution_count": 98,
   "metadata": {},
   "outputs": [
    {
     "data": {
      "text/html": [
       "<table>\n",
       "<thead><tr><th scope=col>col1</th><th scope=col>col2</th></tr></thead>\n",
       "<tbody>\n",
       "\t<tr><td>NA</td><td>NA</td></tr>\n",
       "\t<tr><td>a </td><td>x </td></tr>\n",
       "\t<tr><td>b </td><td>y </td></tr>\n",
       "\t<tr><td>c </td><td>z </td></tr>\n",
       "</tbody>\n",
       "</table>\n"
      ],
      "text/latex": [
       "\\begin{tabular}{r|ll}\n",
       " col1 & col2\\\\\n",
       "\\hline\n",
       "\t NA & NA\\\\\n",
       "\t a  & x \\\\\n",
       "\t b  & y \\\\\n",
       "\t c  & z \\\\\n",
       "\\end{tabular}\n"
      ],
      "text/markdown": [
       "\n",
       "| col1 | col2 |\n",
       "|---|---|\n",
       "| NA | NA |\n",
       "| a  | x  |\n",
       "| b  | y  |\n",
       "| c  | z  |\n",
       "\n"
      ],
      "text/plain": [
       "  col1 col2\n",
       "1 NA   NA  \n",
       "2 a    x   \n",
       "3 b    y   \n",
       "4 c    z   "
      ]
     },
     "metadata": {},
     "output_type": "display_data"
    }
   ],
   "source": [
    "df %>% separate(v, c(\"col1\", \"col2\"))"
   ]
  },
  {
   "cell_type": "markdown",
   "metadata": {},
   "source": [
    "## unite()\n",
    "\n",
    "`unite()` ist üblicherweise die Funktion um mehrere Spalten zu einer zusammenzufassen:"
   ]
  },
  {
   "cell_type": "code",
   "execution_count": 99,
   "metadata": {},
   "outputs": [
    {
     "data": {
      "text/html": [
       "<table>\n",
       "<thead><tr><th></th><th scope=col>mpg</th><th scope=col>cyl</th><th scope=col>disp</th><th scope=col>hp</th><th scope=col>drat</th><th scope=col>wt</th><th scope=col>qsec</th><th scope=col>vs</th><th scope=col>am</th><th scope=col>gear</th><th scope=col>carb</th></tr></thead>\n",
       "<tbody>\n",
       "\t<tr><th scope=row>Mazda RX4</th><td>21.0 </td><td>6    </td><td>160  </td><td>110  </td><td>3.90 </td><td>2.620</td><td>16.46</td><td>0    </td><td>1    </td><td>4    </td><td>4    </td></tr>\n",
       "\t<tr><th scope=row>Mazda RX4 Wag</th><td>21.0 </td><td>6    </td><td>160  </td><td>110  </td><td>3.90 </td><td>2.875</td><td>17.02</td><td>0    </td><td>1    </td><td>4    </td><td>4    </td></tr>\n",
       "\t<tr><th scope=row>Datsun 710</th><td>22.8 </td><td>4    </td><td>108  </td><td> 93  </td><td>3.85 </td><td>2.320</td><td>18.61</td><td>1    </td><td>1    </td><td>4    </td><td>1    </td></tr>\n",
       "\t<tr><th scope=row>Hornet 4 Drive</th><td>21.4 </td><td>6    </td><td>258  </td><td>110  </td><td>3.08 </td><td>3.215</td><td>19.44</td><td>1    </td><td>0    </td><td>3    </td><td>1    </td></tr>\n",
       "\t<tr><th scope=row>Hornet Sportabout</th><td>18.7 </td><td>8    </td><td>360  </td><td>175  </td><td>3.15 </td><td>3.440</td><td>17.02</td><td>0    </td><td>0    </td><td>3    </td><td>2    </td></tr>\n",
       "\t<tr><th scope=row>Valiant</th><td>18.1 </td><td>6    </td><td>225  </td><td>105  </td><td>2.76 </td><td>3.460</td><td>20.22</td><td>1    </td><td>0    </td><td>3    </td><td>1    </td></tr>\n",
       "</tbody>\n",
       "</table>\n"
      ],
      "text/latex": [
       "\\begin{tabular}{r|lllllllllll}\n",
       "  & mpg & cyl & disp & hp & drat & wt & qsec & vs & am & gear & carb\\\\\n",
       "\\hline\n",
       "\tMazda RX4 & 21.0  & 6     & 160   & 110   & 3.90  & 2.620 & 16.46 & 0     & 1     & 4     & 4    \\\\\n",
       "\tMazda RX4 Wag & 21.0  & 6     & 160   & 110   & 3.90  & 2.875 & 17.02 & 0     & 1     & 4     & 4    \\\\\n",
       "\tDatsun 710 & 22.8  & 4     & 108   &  93   & 3.85  & 2.320 & 18.61 & 1     & 1     & 4     & 1    \\\\\n",
       "\tHornet 4 Drive & 21.4  & 6     & 258   & 110   & 3.08  & 3.215 & 19.44 & 1     & 0     & 3     & 1    \\\\\n",
       "\tHornet Sportabout & 18.7  & 8     & 360   & 175   & 3.15  & 3.440 & 17.02 & 0     & 0     & 3     & 2    \\\\\n",
       "\tValiant & 18.1  & 6     & 225   & 105   & 2.76  & 3.460 & 20.22 & 1     & 0     & 3     & 1    \\\\\n",
       "\\end{tabular}\n"
      ],
      "text/markdown": [
       "\n",
       "| <!--/--> | mpg | cyl | disp | hp | drat | wt | qsec | vs | am | gear | carb |\n",
       "|---|---|---|---|---|---|---|---|---|---|---|---|\n",
       "| Mazda RX4 | 21.0  | 6     | 160   | 110   | 3.90  | 2.620 | 16.46 | 0     | 1     | 4     | 4     |\n",
       "| Mazda RX4 Wag | 21.0  | 6     | 160   | 110   | 3.90  | 2.875 | 17.02 | 0     | 1     | 4     | 4     |\n",
       "| Datsun 710 | 22.8  | 4     | 108   |  93   | 3.85  | 2.320 | 18.61 | 1     | 1     | 4     | 1     |\n",
       "| Hornet 4 Drive | 21.4  | 6     | 258   | 110   | 3.08  | 3.215 | 19.44 | 1     | 0     | 3     | 1     |\n",
       "| Hornet Sportabout | 18.7  | 8     | 360   | 175   | 3.15  | 3.440 | 17.02 | 0     | 0     | 3     | 2     |\n",
       "| Valiant | 18.1  | 6     | 225   | 105   | 2.76  | 3.460 | 20.22 | 1     | 0     | 3     | 1     |\n",
       "\n"
      ],
      "text/plain": [
       "                  mpg  cyl disp hp  drat wt    qsec  vs am gear carb\n",
       "Mazda RX4         21.0 6   160  110 3.90 2.620 16.46 0  1  4    4   \n",
       "Mazda RX4 Wag     21.0 6   160  110 3.90 2.875 17.02 0  1  4    4   \n",
       "Datsun 710        22.8 4   108   93 3.85 2.320 18.61 1  1  4    1   \n",
       "Hornet 4 Drive    21.4 6   258  110 3.08 3.215 19.44 1  0  3    1   \n",
       "Hornet Sportabout 18.7 8   360  175 3.15 3.440 17.02 0  0  3    2   \n",
       "Valiant           18.1 6   225  105 2.76 3.460 20.22 1  0  3    1   "
      ]
     },
     "metadata": {},
     "output_type": "display_data"
    }
   ],
   "source": [
    "head(mtcars)"
   ]
  },
  {
   "cell_type": "code",
   "execution_count": 100,
   "metadata": {},
   "outputs": [
    {
     "data": {
      "text/html": [
       "<table>\n",
       "<thead><tr><th></th><th scope=col>mpg</th><th scope=col>cyl</th><th scope=col>disp</th><th scope=col>hp</th><th scope=col>drat</th><th scope=col>wt</th><th scope=col>qsec</th><th scope=col>vs_am</th><th scope=col>gear</th><th scope=col>carb</th></tr></thead>\n",
       "<tbody>\n",
       "\t<tr><th scope=row>Mazda RX4</th><td>21.0 </td><td>6    </td><td>160  </td><td>110  </td><td>3.90 </td><td>2.620</td><td>16.46</td><td>0_1  </td><td>4    </td><td>4    </td></tr>\n",
       "\t<tr><th scope=row>Mazda RX4 Wag</th><td>21.0 </td><td>6    </td><td>160  </td><td>110  </td><td>3.90 </td><td>2.875</td><td>17.02</td><td>0_1  </td><td>4    </td><td>4    </td></tr>\n",
       "\t<tr><th scope=row>Datsun 710</th><td>22.8 </td><td>4    </td><td>108  </td><td> 93  </td><td>3.85 </td><td>2.320</td><td>18.61</td><td>1_1  </td><td>4    </td><td>1    </td></tr>\n",
       "\t<tr><th scope=row>Hornet 4 Drive</th><td>21.4 </td><td>6    </td><td>258  </td><td>110  </td><td>3.08 </td><td>3.215</td><td>19.44</td><td>1_0  </td><td>3    </td><td>1    </td></tr>\n",
       "\t<tr><th scope=row>Hornet Sportabout</th><td>18.7 </td><td>8    </td><td>360  </td><td>175  </td><td>3.15 </td><td>3.440</td><td>17.02</td><td>0_0  </td><td>3    </td><td>2    </td></tr>\n",
       "\t<tr><th scope=row>Valiant</th><td>18.1 </td><td>6    </td><td>225  </td><td>105  </td><td>2.76 </td><td>3.460</td><td>20.22</td><td>1_0  </td><td>3    </td><td>1    </td></tr>\n",
       "</tbody>\n",
       "</table>\n"
      ],
      "text/latex": [
       "\\begin{tabular}{r|llllllllll}\n",
       "  & mpg & cyl & disp & hp & drat & wt & qsec & vs\\_am & gear & carb\\\\\n",
       "\\hline\n",
       "\tMazda RX4 & 21.0  & 6     & 160   & 110   & 3.90  & 2.620 & 16.46 & 0\\_1 & 4     & 4    \\\\\n",
       "\tMazda RX4 Wag & 21.0  & 6     & 160   & 110   & 3.90  & 2.875 & 17.02 & 0\\_1 & 4     & 4    \\\\\n",
       "\tDatsun 710 & 22.8  & 4     & 108   &  93   & 3.85  & 2.320 & 18.61 & 1\\_1 & 4     & 1    \\\\\n",
       "\tHornet 4 Drive & 21.4  & 6     & 258   & 110   & 3.08  & 3.215 & 19.44 & 1\\_0 & 3     & 1    \\\\\n",
       "\tHornet Sportabout & 18.7  & 8     & 360   & 175   & 3.15  & 3.440 & 17.02 & 0\\_0 & 3     & 2    \\\\\n",
       "\tValiant & 18.1  & 6     & 225   & 105   & 2.76  & 3.460 & 20.22 & 1\\_0 & 3     & 1    \\\\\n",
       "\\end{tabular}\n"
      ],
      "text/markdown": [
       "\n",
       "| <!--/--> | mpg | cyl | disp | hp | drat | wt | qsec | vs_am | gear | carb |\n",
       "|---|---|---|---|---|---|---|---|---|---|---|\n",
       "| Mazda RX4 | 21.0  | 6     | 160   | 110   | 3.90  | 2.620 | 16.46 | 0_1   | 4     | 4     |\n",
       "| Mazda RX4 Wag | 21.0  | 6     | 160   | 110   | 3.90  | 2.875 | 17.02 | 0_1   | 4     | 4     |\n",
       "| Datsun 710 | 22.8  | 4     | 108   |  93   | 3.85  | 2.320 | 18.61 | 1_1   | 4     | 1     |\n",
       "| Hornet 4 Drive | 21.4  | 6     | 258   | 110   | 3.08  | 3.215 | 19.44 | 1_0   | 3     | 1     |\n",
       "| Hornet Sportabout | 18.7  | 8     | 360   | 175   | 3.15  | 3.440 | 17.02 | 0_0   | 3     | 2     |\n",
       "| Valiant | 18.1  | 6     | 225   | 105   | 2.76  | 3.460 | 20.22 | 1_0   | 3     | 1     |\n",
       "\n"
      ],
      "text/plain": [
       "                  mpg  cyl disp hp  drat wt    qsec  vs_am gear carb\n",
       "Mazda RX4         21.0 6   160  110 3.90 2.620 16.46 0_1   4    4   \n",
       "Mazda RX4 Wag     21.0 6   160  110 3.90 2.875 17.02 0_1   4    4   \n",
       "Datsun 710        22.8 4   108   93 3.85 2.320 18.61 1_1   4    1   \n",
       "Hornet 4 Drive    21.4 6   258  110 3.08 3.215 19.44 1_0   3    1   \n",
       "Hornet Sportabout 18.7 8   360  175 3.15 3.440 17.02 0_0   3    2   \n",
       "Valiant           18.1 6   225  105 2.76 3.460 20.22 1_0   3    1   "
      ]
     },
     "metadata": {},
     "output_type": "display_data"
    }
   ],
   "source": [
    "mtcars %>%\n",
    "  unite(vs_am, vs, am) %>% head"
   ]
  },
  {
   "cell_type": "code",
   "execution_count": 101,
   "metadata": {},
   "outputs": [
    {
     "data": {
      "text/html": [
       "<table>\n",
       "<thead><tr><th></th><th scope=col>mpg</th><th scope=col>cyl</th><th scope=col>disp</th><th scope=col>hp</th><th scope=col>drat</th><th scope=col>wt</th><th scope=col>qsec</th><th scope=col>vs</th><th scope=col>am</th><th scope=col>gear</th><th scope=col>carb</th></tr></thead>\n",
       "<tbody>\n",
       "\t<tr><th scope=row>Mazda RX4</th><td>21.0 </td><td>6    </td><td>160  </td><td>110  </td><td>3.90 </td><td>2.620</td><td>16.46</td><td>0    </td><td>1    </td><td>4    </td><td>4    </td></tr>\n",
       "\t<tr><th scope=row>Mazda RX4 Wag</th><td>21.0 </td><td>6    </td><td>160  </td><td>110  </td><td>3.90 </td><td>2.875</td><td>17.02</td><td>0    </td><td>1    </td><td>4    </td><td>4    </td></tr>\n",
       "\t<tr><th scope=row>Datsun 710</th><td>22.8 </td><td>4    </td><td>108  </td><td> 93  </td><td>3.85 </td><td>2.320</td><td>18.61</td><td>1    </td><td>1    </td><td>4    </td><td>1    </td></tr>\n",
       "\t<tr><th scope=row>Hornet 4 Drive</th><td>21.4 </td><td>6    </td><td>258  </td><td>110  </td><td>3.08 </td><td>3.215</td><td>19.44</td><td>1    </td><td>0    </td><td>3    </td><td>1    </td></tr>\n",
       "\t<tr><th scope=row>Hornet Sportabout</th><td>18.7 </td><td>8    </td><td>360  </td><td>175  </td><td>3.15 </td><td>3.440</td><td>17.02</td><td>0    </td><td>0    </td><td>3    </td><td>2    </td></tr>\n",
       "\t<tr><th scope=row>Valiant</th><td>18.1 </td><td>6    </td><td>225  </td><td>105  </td><td>2.76 </td><td>3.460</td><td>20.22</td><td>1    </td><td>0    </td><td>3    </td><td>1    </td></tr>\n",
       "</tbody>\n",
       "</table>\n"
      ],
      "text/latex": [
       "\\begin{tabular}{r|lllllllllll}\n",
       "  & mpg & cyl & disp & hp & drat & wt & qsec & vs & am & gear & carb\\\\\n",
       "\\hline\n",
       "\tMazda RX4 & 21.0  & 6     & 160   & 110   & 3.90  & 2.620 & 16.46 & 0     & 1     & 4     & 4    \\\\\n",
       "\tMazda RX4 Wag & 21.0  & 6     & 160   & 110   & 3.90  & 2.875 & 17.02 & 0     & 1     & 4     & 4    \\\\\n",
       "\tDatsun 710 & 22.8  & 4     & 108   &  93   & 3.85  & 2.320 & 18.61 & 1     & 1     & 4     & 1    \\\\\n",
       "\tHornet 4 Drive & 21.4  & 6     & 258   & 110   & 3.08  & 3.215 & 19.44 & 1     & 0     & 3     & 1    \\\\\n",
       "\tHornet Sportabout & 18.7  & 8     & 360   & 175   & 3.15  & 3.440 & 17.02 & 0     & 0     & 3     & 2    \\\\\n",
       "\tValiant & 18.1  & 6     & 225   & 105   & 2.76  & 3.460 & 20.22 & 1     & 0     & 3     & 1    \\\\\n",
       "\\end{tabular}\n"
      ],
      "text/markdown": [
       "\n",
       "| <!--/--> | mpg | cyl | disp | hp | drat | wt | qsec | vs | am | gear | carb |\n",
       "|---|---|---|---|---|---|---|---|---|---|---|---|\n",
       "| Mazda RX4 | 21.0  | 6     | 160   | 110   | 3.90  | 2.620 | 16.46 | 0     | 1     | 4     | 4     |\n",
       "| Mazda RX4 Wag | 21.0  | 6     | 160   | 110   | 3.90  | 2.875 | 17.02 | 0     | 1     | 4     | 4     |\n",
       "| Datsun 710 | 22.8  | 4     | 108   |  93   | 3.85  | 2.320 | 18.61 | 1     | 1     | 4     | 1     |\n",
       "| Hornet 4 Drive | 21.4  | 6     | 258   | 110   | 3.08  | 3.215 | 19.44 | 1     | 0     | 3     | 1     |\n",
       "| Hornet Sportabout | 18.7  | 8     | 360   | 175   | 3.15  | 3.440 | 17.02 | 0     | 0     | 3     | 2     |\n",
       "| Valiant | 18.1  | 6     | 225   | 105   | 2.76  | 3.460 | 20.22 | 1     | 0     | 3     | 1     |\n",
       "\n"
      ],
      "text/plain": [
       "                  mpg  cyl disp hp  drat wt    qsec  vs am gear carb\n",
       "Mazda RX4         21.0 6   160  110 3.90 2.620 16.46 0  1  4    4   \n",
       "Mazda RX4 Wag     21.0 6   160  110 3.90 2.875 17.02 0  1  4    4   \n",
       "Datsun 710        22.8 4   108   93 3.85 2.320 18.61 1  1  4    1   \n",
       "Hornet 4 Drive    21.4 6   258  110 3.08 3.215 19.44 1  0  3    1   \n",
       "Hornet Sportabout 18.7 8   360  175 3.15 3.440 17.02 0  0  3    2   \n",
       "Valiant           18.1 6   225  105 2.76 3.460 20.22 1  0  3    1   "
      ]
     },
     "metadata": {},
     "output_type": "display_data"
    }
   ],
   "source": [
    "# separate() ist das Gegenstück zu unite()\n",
    "# vergleichen Sie \n",
    "mtcars %>%\n",
    "  unite(vs_am, vs, am) %>%\n",
    "  separate(vs_am, c(\"vs\", \"am\")) %>% head"
   ]
  },
  {
   "cell_type": "code",
   "execution_count": 102,
   "metadata": {},
   "outputs": [
    {
     "data": {
      "text/html": [
       "<table>\n",
       "<thead><tr><th></th><th scope=col>mpg</th><th scope=col>cyl</th><th scope=col>disp</th><th scope=col>hp</th><th scope=col>drat</th><th scope=col>wt</th><th scope=col>qsec</th><th scope=col>vs</th><th scope=col>am</th><th scope=col>gear</th><th scope=col>carb</th></tr></thead>\n",
       "<tbody>\n",
       "\t<tr><th scope=row>Mazda RX4</th><td>21.0 </td><td>6    </td><td>160  </td><td>110  </td><td>3.90 </td><td>2.620</td><td>16.46</td><td>0    </td><td>1    </td><td>4    </td><td>4    </td></tr>\n",
       "\t<tr><th scope=row>Mazda RX4 Wag</th><td>21.0 </td><td>6    </td><td>160  </td><td>110  </td><td>3.90 </td><td>2.875</td><td>17.02</td><td>0    </td><td>1    </td><td>4    </td><td>4    </td></tr>\n",
       "\t<tr><th scope=row>Datsun 710</th><td>22.8 </td><td>4    </td><td>108  </td><td> 93  </td><td>3.85 </td><td>2.320</td><td>18.61</td><td>1    </td><td>1    </td><td>4    </td><td>1    </td></tr>\n",
       "\t<tr><th scope=row>Hornet 4 Drive</th><td>21.4 </td><td>6    </td><td>258  </td><td>110  </td><td>3.08 </td><td>3.215</td><td>19.44</td><td>1    </td><td>0    </td><td>3    </td><td>1    </td></tr>\n",
       "\t<tr><th scope=row>Hornet Sportabout</th><td>18.7 </td><td>8    </td><td>360  </td><td>175  </td><td>3.15 </td><td>3.440</td><td>17.02</td><td>0    </td><td>0    </td><td>3    </td><td>2    </td></tr>\n",
       "\t<tr><th scope=row>Valiant</th><td>18.1 </td><td>6    </td><td>225  </td><td>105  </td><td>2.76 </td><td>3.460</td><td>20.22</td><td>1    </td><td>0    </td><td>3    </td><td>1    </td></tr>\n",
       "</tbody>\n",
       "</table>\n"
      ],
      "text/latex": [
       "\\begin{tabular}{r|lllllllllll}\n",
       "  & mpg & cyl & disp & hp & drat & wt & qsec & vs & am & gear & carb\\\\\n",
       "\\hline\n",
       "\tMazda RX4 & 21.0  & 6     & 160   & 110   & 3.90  & 2.620 & 16.46 & 0     & 1     & 4     & 4    \\\\\n",
       "\tMazda RX4 Wag & 21.0  & 6     & 160   & 110   & 3.90  & 2.875 & 17.02 & 0     & 1     & 4     & 4    \\\\\n",
       "\tDatsun 710 & 22.8  & 4     & 108   &  93   & 3.85  & 2.320 & 18.61 & 1     & 1     & 4     & 1    \\\\\n",
       "\tHornet 4 Drive & 21.4  & 6     & 258   & 110   & 3.08  & 3.215 & 19.44 & 1     & 0     & 3     & 1    \\\\\n",
       "\tHornet Sportabout & 18.7  & 8     & 360   & 175   & 3.15  & 3.440 & 17.02 & 0     & 0     & 3     & 2    \\\\\n",
       "\tValiant & 18.1  & 6     & 225   & 105   & 2.76  & 3.460 & 20.22 & 1     & 0     & 3     & 1    \\\\\n",
       "\\end{tabular}\n"
      ],
      "text/markdown": [
       "\n",
       "| <!--/--> | mpg | cyl | disp | hp | drat | wt | qsec | vs | am | gear | carb |\n",
       "|---|---|---|---|---|---|---|---|---|---|---|---|\n",
       "| Mazda RX4 | 21.0  | 6     | 160   | 110   | 3.90  | 2.620 | 16.46 | 0     | 1     | 4     | 4     |\n",
       "| Mazda RX4 Wag | 21.0  | 6     | 160   | 110   | 3.90  | 2.875 | 17.02 | 0     | 1     | 4     | 4     |\n",
       "| Datsun 710 | 22.8  | 4     | 108   |  93   | 3.85  | 2.320 | 18.61 | 1     | 1     | 4     | 1     |\n",
       "| Hornet 4 Drive | 21.4  | 6     | 258   | 110   | 3.08  | 3.215 | 19.44 | 1     | 0     | 3     | 1     |\n",
       "| Hornet Sportabout | 18.7  | 8     | 360   | 175   | 3.15  | 3.440 | 17.02 | 0     | 0     | 3     | 2     |\n",
       "| Valiant | 18.1  | 6     | 225   | 105   | 2.76  | 3.460 | 20.22 | 1     | 0     | 3     | 1     |\n",
       "\n"
      ],
      "text/plain": [
       "                  mpg  cyl disp hp  drat wt    qsec  vs am gear carb\n",
       "Mazda RX4         21.0 6   160  110 3.90 2.620 16.46 0  1  4    4   \n",
       "Mazda RX4 Wag     21.0 6   160  110 3.90 2.875 17.02 0  1  4    4   \n",
       "Datsun 710        22.8 4   108   93 3.85 2.320 18.61 1  1  4    1   \n",
       "Hornet 4 Drive    21.4 6   258  110 3.08 3.215 19.44 1  0  3    1   \n",
       "Hornet Sportabout 18.7 8   360  175 3.15 3.440 17.02 0  0  3    2   \n",
       "Valiant           18.1 6   225  105 2.76 3.460 20.22 1  0  3    1   "
      ]
     },
     "metadata": {},
     "output_type": "display_data"
    }
   ],
   "source": [
    "# ... mit mtcars\n",
    "mtcars %>% head"
   ]
  },
  {
   "cell_type": "markdown",
   "metadata": {},
   "source": [
    "Herzlichen Glückwunsch! Sie sind mit Lektion 44. fertig!"
   ]
  }
 ],
 "metadata": {
  "kernelspec": {
   "display_name": "R",
   "language": "R",
   "name": "ir"
  },
  "language_info": {
   "codemirror_mode": "r",
   "file_extension": ".r",
   "mimetype": "text/x-r-source",
   "name": "R",
   "pygments_lexer": "r",
   "version": "3.6.1"
  }
 },
 "nbformat": 4,
 "nbformat_minor": 1
}
