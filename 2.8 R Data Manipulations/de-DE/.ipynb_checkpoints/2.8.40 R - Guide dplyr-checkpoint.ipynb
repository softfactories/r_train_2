{
 "cells": [
  {
   "cell_type": "markdown",
   "metadata": {},
   "source": [
    "# Tag 2. Kapitel 8. Daten-Manipulationen\n",
    "\n",
    "## Lektion 40. Daten-Manipulationen mit dplyr\n",
    "\n",
    "Wenn Sie mit Daten arbeiten, müssen Sie:\n",
    "\n",
    "* Herausfinden was Sie vorhaben.\n",
    "* Beschreiben Sie diese Aufgaben in Form eines Computerprogramms.\n",
    "* Das Programm ausführen.\n",
    "\n",
    "Das Paket **dplyr** macht diese Daten-Manipulationen Schritte schnell und einfach:\n",
    "\n",
    "* Indem man mögliche Optionen einschränket, wird es für Sie leichter gemacht über Ihre Herausforderungen bei der Datenmanipulation nachzudenken.\n",
    "* Es bietet einfache „Verben“ - Funktionen, die den häufigsten Datenbearbeitungsaufgaben entsprechen und Ihnen dabei helfen, Ihre Gedanken in Code zu übersetzen.\n",
    "* Es werden effiziente Methoden verwendet, sodass Sie weniger Zeit auf den Computer warten müssen.\n",
    "\n",
    "Wir werden die folgenden Funktionen behandeln:\n",
    "\n",
    "* filter() (und slice())\n",
    "* arrange()\n",
    "* select() (und rename())\n",
    "* distinct()\n",
    "* mutate() (und transmute())\n",
    "* summarise()\n",
    "* sample_n() und sample_frac()\n",
    "\n",
    "# Installation\n",
    "\n",
    "Wir können `dplyr` installieren, indem wir folgendes ausführen:"
   ]
  },
  {
   "cell_type": "code",
   "execution_count": 1,
   "metadata": {},
   "outputs": [
    {
     "name": "stdout",
     "output_type": "stream",
     "text": [
      "package 'dplyr' successfully unpacked and MD5 sums checked\n",
      "\n",
      "The downloaded binary packages are in\n",
      "\tC:\\Users\\dm_78\\AppData\\Local\\Temp\\Rtmp0UWRIf\\downloaded_packages\n"
     ]
    }
   ],
   "source": [
    "install.packages('dplyr')"
   ]
  },
  {
   "cell_type": "code",
   "execution_count": 3,
   "metadata": {},
   "outputs": [],
   "source": [
    "# Ausführen durch\n",
    "library(dplyr)"
   ]
  },
  {
   "cell_type": "code",
   "execution_count": 27,
   "metadata": {},
   "outputs": [],
   "source": [
    "# Hilfe zu dplyr Paket\n",
    "help(dplyr)"
   ]
  },
  {
   "cell_type": "markdown",
   "metadata": {},
   "source": [
    "## Beispiel Datensatz\n",
    "\n",
    "Wir können einige Flugdaten für unsere Beispiele verwenden. Wir laden dazu den nycflights12 Datensatz herunter:"
   ]
  },
  {
   "cell_type": "code",
   "execution_count": 5,
   "metadata": {},
   "outputs": [
    {
     "name": "stdout",
     "output_type": "stream",
     "text": [
      "package 'survival' successfully unpacked and MD5 sums checked\n",
      "\n",
      "The downloaded binary packages are in\n",
      "\tC:\\Users\\dm_78\\AppData\\Local\\Temp\\Rtmp0UWRIf\\downloaded_packages\n"
     ]
    }
   ],
   "source": [
    "install.packages(\"survival\")"
   ]
  },
  {
   "cell_type": "code",
   "execution_count": 6,
   "metadata": {},
   "outputs": [],
   "source": [
    "library(survival)"
   ]
  },
  {
   "cell_type": "code",
   "execution_count": 7,
   "metadata": {},
   "outputs": [],
   "source": [
    "#Hilfe zum Datensatz aufrufen\n",
    "help(ovarian)"
   ]
  },
  {
   "cell_type": "code",
   "execution_count": 8,
   "metadata": {},
   "outputs": [
    {
     "data": {
      "text/plain": [
       "     futime           fustat            age           resid.ds    \n",
       " Min.   :  59.0   Min.   :0.0000   Min.   :38.89   Min.   :1.000  \n",
       " 1st Qu.: 368.0   1st Qu.:0.0000   1st Qu.:50.17   1st Qu.:1.000  \n",
       " Median : 476.0   Median :0.0000   Median :56.85   Median :2.000  \n",
       " Mean   : 599.5   Mean   :0.4615   Mean   :56.17   Mean   :1.577  \n",
       " 3rd Qu.: 794.8   3rd Qu.:1.0000   3rd Qu.:62.38   3rd Qu.:2.000  \n",
       " Max.   :1227.0   Max.   :1.0000   Max.   :74.50   Max.   :2.000  \n",
       "       rx         ecog.ps     \n",
       " Min.   :1.0   Min.   :1.000  \n",
       " 1st Qu.:1.0   1st Qu.:1.000  \n",
       " Median :1.5   Median :1.000  \n",
       " Mean   :1.5   Mean   :1.462  \n",
       " 3rd Qu.:2.0   3rd Qu.:2.000  \n",
       " Max.   :2.0   Max.   :2.000  "
      ]
     },
     "metadata": {},
     "output_type": "display_data"
    }
   ],
   "source": [
    "# Statistische Werte je Spalte \n",
    "summary(ovarian)"
   ]
  },
  {
   "cell_type": "code",
   "execution_count": 9,
   "metadata": {},
   "outputs": [
    {
     "data": {
      "text/html": [
       "<ol class=list-inline>\n",
       "\t<li>26</li>\n",
       "\t<li>6</li>\n",
       "</ol>\n"
      ],
      "text/latex": [
       "\\begin{enumerate*}\n",
       "\\item 26\n",
       "\\item 6\n",
       "\\end{enumerate*}\n"
      ],
      "text/markdown": [
       "1. 26\n",
       "2. 6\n",
       "\n",
       "\n"
      ],
      "text/plain": [
       "[1] 26  6"
      ]
     },
     "metadata": {},
     "output_type": "display_data"
    }
   ],
   "source": [
    "# Größe des Datensatzes ( Zeilen / Spalten)\n",
    "dim(ovarian)"
   ]
  },
  {
   "cell_type": "code",
   "execution_count": 10,
   "metadata": {},
   "outputs": [
    {
     "data": {
      "text/html": [
       "<table>\n",
       "<thead><tr><th scope=col>futime</th><th scope=col>fustat</th><th scope=col>age</th><th scope=col>resid.ds</th><th scope=col>rx</th><th scope=col>ecog.ps</th></tr></thead>\n",
       "<tbody>\n",
       "\t<tr><td> 59    </td><td>1      </td><td>72.3315</td><td>2      </td><td>1      </td><td>1      </td></tr>\n",
       "\t<tr><td>115    </td><td>1      </td><td>74.4932</td><td>2      </td><td>1      </td><td>1      </td></tr>\n",
       "\t<tr><td>156    </td><td>1      </td><td>66.4658</td><td>2      </td><td>1      </td><td>2      </td></tr>\n",
       "\t<tr><td>421    </td><td>0      </td><td>53.3644</td><td>2      </td><td>2      </td><td>1      </td></tr>\n",
       "\t<tr><td>431    </td><td>1      </td><td>50.3397</td><td>2      </td><td>1      </td><td>1      </td></tr>\n",
       "\t<tr><td>448    </td><td>0      </td><td>56.4301</td><td>1      </td><td>1      </td><td>2      </td></tr>\n",
       "</tbody>\n",
       "</table>\n"
      ],
      "text/latex": [
       "\\begin{tabular}{r|llllll}\n",
       " futime & fustat & age & resid.ds & rx & ecog.ps\\\\\n",
       "\\hline\n",
       "\t  59     & 1       & 72.3315 & 2       & 1       & 1      \\\\\n",
       "\t 115     & 1       & 74.4932 & 2       & 1       & 1      \\\\\n",
       "\t 156     & 1       & 66.4658 & 2       & 1       & 2      \\\\\n",
       "\t 421     & 0       & 53.3644 & 2       & 2       & 1      \\\\\n",
       "\t 431     & 1       & 50.3397 & 2       & 1       & 1      \\\\\n",
       "\t 448     & 0       & 56.4301 & 1       & 1       & 2      \\\\\n",
       "\\end{tabular}\n"
      ],
      "text/markdown": [
       "\n",
       "| futime | fustat | age | resid.ds | rx | ecog.ps |\n",
       "|---|---|---|---|---|---|\n",
       "|  59     | 1       | 72.3315 | 2       | 1       | 1       |\n",
       "| 115     | 1       | 74.4932 | 2       | 1       | 1       |\n",
       "| 156     | 1       | 66.4658 | 2       | 1       | 2       |\n",
       "| 421     | 0       | 53.3644 | 2       | 2       | 1       |\n",
       "| 431     | 1       | 50.3397 | 2       | 1       | 1       |\n",
       "| 448     | 0       | 56.4301 | 1       | 1       | 2       |\n",
       "\n"
      ],
      "text/plain": [
       "  futime fustat age     resid.ds rx ecog.ps\n",
       "1  59    1      72.3315 2        1  1      \n",
       "2 115    1      74.4932 2        1  1      \n",
       "3 156    1      66.4658 2        1  2      \n",
       "4 421    0      53.3644 2        2  1      \n",
       "5 431    1      50.3397 2        1  1      \n",
       "6 448    0      56.4301 1        1  2      "
      ]
     },
     "metadata": {},
     "output_type": "display_data"
    }
   ],
   "source": [
    "# Ungefilterte Daten \n",
    "head(ovarian) # erste 6 Zeilen"
   ]
  },
  {
   "cell_type": "code",
   "execution_count": 11,
   "metadata": {},
   "outputs": [
    {
     "data": {
      "text/html": [
       "<table>\n",
       "<thead><tr><th></th><th scope=col>futime</th><th scope=col>fustat</th><th scope=col>age</th><th scope=col>resid.ds</th><th scope=col>rx</th><th scope=col>ecog.ps</th></tr></thead>\n",
       "<tbody>\n",
       "\t<tr><th scope=row>21</th><td>1227   </td><td>0      </td><td>59.5890</td><td>1      </td><td>2      </td><td>2      </td></tr>\n",
       "\t<tr><th scope=row>22</th><td> 268   </td><td>1      </td><td>74.5041</td><td>2      </td><td>1      </td><td>2      </td></tr>\n",
       "\t<tr><th scope=row>23</th><td> 329   </td><td>1      </td><td>43.1370</td><td>2      </td><td>1      </td><td>1      </td></tr>\n",
       "\t<tr><th scope=row>24</th><td> 353   </td><td>1      </td><td>63.2192</td><td>1      </td><td>2      </td><td>2      </td></tr>\n",
       "\t<tr><th scope=row>25</th><td> 365   </td><td>1      </td><td>64.4247</td><td>2      </td><td>2      </td><td>1      </td></tr>\n",
       "\t<tr><th scope=row>26</th><td> 377   </td><td>0      </td><td>58.3096</td><td>1      </td><td>2      </td><td>1      </td></tr>\n",
       "</tbody>\n",
       "</table>\n"
      ],
      "text/latex": [
       "\\begin{tabular}{r|llllll}\n",
       "  & futime & fustat & age & resid.ds & rx & ecog.ps\\\\\n",
       "\\hline\n",
       "\t21 & 1227    & 0       & 59.5890 & 1       & 2       & 2      \\\\\n",
       "\t22 &  268    & 1       & 74.5041 & 2       & 1       & 2      \\\\\n",
       "\t23 &  329    & 1       & 43.1370 & 2       & 1       & 1      \\\\\n",
       "\t24 &  353    & 1       & 63.2192 & 1       & 2       & 2      \\\\\n",
       "\t25 &  365    & 1       & 64.4247 & 2       & 2       & 1      \\\\\n",
       "\t26 &  377    & 0       & 58.3096 & 1       & 2       & 1      \\\\\n",
       "\\end{tabular}\n"
      ],
      "text/markdown": [
       "\n",
       "| <!--/--> | futime | fustat | age | resid.ds | rx | ecog.ps |\n",
       "|---|---|---|---|---|---|---|\n",
       "| 21 | 1227    | 0       | 59.5890 | 1       | 2       | 2       |\n",
       "| 22 |  268    | 1       | 74.5041 | 2       | 1       | 2       |\n",
       "| 23 |  329    | 1       | 43.1370 | 2       | 1       | 1       |\n",
       "| 24 |  353    | 1       | 63.2192 | 1       | 2       | 2       |\n",
       "| 25 |  365    | 1       | 64.4247 | 2       | 2       | 1       |\n",
       "| 26 |  377    | 0       | 58.3096 | 1       | 2       | 1       |\n",
       "\n"
      ],
      "text/plain": [
       "   futime fustat age     resid.ds rx ecog.ps\n",
       "21 1227   0      59.5890 1        2  2      \n",
       "22  268   1      74.5041 2        1  2      \n",
       "23  329   1      43.1370 2        1  1      \n",
       "24  353   1      63.2192 1        2  2      \n",
       "25  365   1      64.4247 2        2  1      \n",
       "26  377   0      58.3096 1        2  1      "
      ]
     },
     "metadata": {},
     "output_type": "display_data"
    }
   ],
   "source": [
    "tail(ovarian) # letzte 6 Zeilen"
   ]
  },
  {
   "cell_type": "markdown",
   "metadata": {},
   "source": [
    "## filter() \n",
    "\n",
    "`filter()` erlaubt es uns eine Auswahl an Zeilen eines Data Frame zu wählen. Das erste Argument ist dabei der Name des Data Frame. Das zweite und die nachfolgenden Argumente definieren, wie der Data Frame gefiltert werden soll:\n",
    "\n",
    "Zum Beispiel können wir Patientendaten, die älter als 60 Jahre alt sind mit einer Kontrollzeit über 100 Tage wie folgt abrufen:"
   ]
  },
  {
   "cell_type": "code",
   "execution_count": 12,
   "metadata": {},
   "outputs": [
    {
     "data": {
      "text/html": [
       "<table>\n",
       "<thead><tr><th scope=col>futime</th><th scope=col>fustat</th><th scope=col>age</th><th scope=col>resid.ds</th><th scope=col>rx</th><th scope=col>ecog.ps</th></tr></thead>\n",
       "<tbody>\n",
       "\t<tr><td>115    </td><td>1      </td><td>74.4932</td><td>2      </td><td>1      </td><td>1      </td></tr>\n",
       "\t<tr><td>156    </td><td>1      </td><td>66.4658</td><td>2      </td><td>1      </td><td>2      </td></tr>\n",
       "\t<tr><td>477    </td><td>0      </td><td>64.1753</td><td>2      </td><td>1      </td><td>1      </td></tr>\n",
       "\t<tr><td>268    </td><td>1      </td><td>74.5041</td><td>2      </td><td>1      </td><td>2      </td></tr>\n",
       "\t<tr><td>353    </td><td>1      </td><td>63.2192</td><td>1      </td><td>2      </td><td>2      </td></tr>\n",
       "\t<tr><td>365    </td><td>1      </td><td>64.4247</td><td>2      </td><td>2      </td><td>1      </td></tr>\n",
       "</tbody>\n",
       "</table>\n"
      ],
      "text/latex": [
       "\\begin{tabular}{r|llllll}\n",
       " futime & fustat & age & resid.ds & rx & ecog.ps\\\\\n",
       "\\hline\n",
       "\t 115     & 1       & 74.4932 & 2       & 1       & 1      \\\\\n",
       "\t 156     & 1       & 66.4658 & 2       & 1       & 2      \\\\\n",
       "\t 477     & 0       & 64.1753 & 2       & 1       & 1      \\\\\n",
       "\t 268     & 1       & 74.5041 & 2       & 1       & 2      \\\\\n",
       "\t 353     & 1       & 63.2192 & 1       & 2       & 2      \\\\\n",
       "\t 365     & 1       & 64.4247 & 2       & 2       & 1      \\\\\n",
       "\\end{tabular}\n"
      ],
      "text/markdown": [
       "\n",
       "| futime | fustat | age | resid.ds | rx | ecog.ps |\n",
       "|---|---|---|---|---|---|\n",
       "| 115     | 1       | 74.4932 | 2       | 1       | 1       |\n",
       "| 156     | 1       | 66.4658 | 2       | 1       | 2       |\n",
       "| 477     | 0       | 64.1753 | 2       | 1       | 1       |\n",
       "| 268     | 1       | 74.5041 | 2       | 1       | 2       |\n",
       "| 353     | 1       | 63.2192 | 1       | 2       | 2       |\n",
       "| 365     | 1       | 64.4247 | 2       | 2       | 1       |\n",
       "\n"
      ],
      "text/plain": [
       "  futime fustat age     resid.ds rx ecog.ps\n",
       "1 115    1      74.4932 2        1  1      \n",
       "2 156    1      66.4658 2        1  2      \n",
       "3 477    0      64.1753 2        1  1      \n",
       "4 268    1      74.5041 2        1  2      \n",
       "5 353    1      63.2192 1        2  2      \n",
       "6 365    1      64.4247 2        2  1      "
      ]
     },
     "metadata": {},
     "output_type": "display_data"
    }
   ],
   "source": [
    "head(filter(ovarian,age > 60, futime > 100))"
   ]
  },
  {
   "cell_type": "markdown",
   "metadata": {},
   "source": [
    "Das ist wensentlich einfacher und lesbarer als der herkömmlcihe Weg über die Date Frame Auswahl (s. unten zum Vergleich):"
   ]
  },
  {
   "cell_type": "code",
   "execution_count": 13,
   "metadata": {},
   "outputs": [
    {
     "data": {
      "text/html": [
       "<table>\n",
       "<thead><tr><th></th><th scope=col>futime</th><th scope=col>fustat</th><th scope=col>age</th><th scope=col>resid.ds</th><th scope=col>rx</th><th scope=col>ecog.ps</th></tr></thead>\n",
       "<tbody>\n",
       "\t<tr><th scope=row>2</th><td>115    </td><td>1      </td><td>74.4932</td><td>2      </td><td>1      </td><td>1      </td></tr>\n",
       "\t<tr><th scope=row>3</th><td>156    </td><td>1      </td><td>66.4658</td><td>2      </td><td>1      </td><td>2      </td></tr>\n",
       "\t<tr><th scope=row>9</th><td>477    </td><td>0      </td><td>64.1753</td><td>2      </td><td>1      </td><td>1      </td></tr>\n",
       "\t<tr><th scope=row>22</th><td>268    </td><td>1      </td><td>74.5041</td><td>2      </td><td>1      </td><td>2      </td></tr>\n",
       "\t<tr><th scope=row>24</th><td>353    </td><td>1      </td><td>63.2192</td><td>1      </td><td>2      </td><td>2      </td></tr>\n",
       "\t<tr><th scope=row>25</th><td>365    </td><td>1      </td><td>64.4247</td><td>2      </td><td>2      </td><td>1      </td></tr>\n",
       "</tbody>\n",
       "</table>\n"
      ],
      "text/latex": [
       "\\begin{tabular}{r|llllll}\n",
       "  & futime & fustat & age & resid.ds & rx & ecog.ps\\\\\n",
       "\\hline\n",
       "\t2 & 115     & 1       & 74.4932 & 2       & 1       & 1      \\\\\n",
       "\t3 & 156     & 1       & 66.4658 & 2       & 1       & 2      \\\\\n",
       "\t9 & 477     & 0       & 64.1753 & 2       & 1       & 1      \\\\\n",
       "\t22 & 268     & 1       & 74.5041 & 2       & 1       & 2      \\\\\n",
       "\t24 & 353     & 1       & 63.2192 & 1       & 2       & 2      \\\\\n",
       "\t25 & 365     & 1       & 64.4247 & 2       & 2       & 1      \\\\\n",
       "\\end{tabular}\n"
      ],
      "text/markdown": [
       "\n",
       "| <!--/--> | futime | fustat | age | resid.ds | rx | ecog.ps |\n",
       "|---|---|---|---|---|---|---|\n",
       "| 2 | 115     | 1       | 74.4932 | 2       | 1       | 1       |\n",
       "| 3 | 156     | 1       | 66.4658 | 2       | 1       | 2       |\n",
       "| 9 | 477     | 0       | 64.1753 | 2       | 1       | 1       |\n",
       "| 22 | 268     | 1       | 74.5041 | 2       | 1       | 2       |\n",
       "| 24 | 353     | 1       | 63.2192 | 1       | 2       | 2       |\n",
       "| 25 | 365     | 1       | 64.4247 | 2       | 2       | 1       |\n",
       "\n"
      ],
      "text/plain": [
       "   futime fustat age     resid.ds rx ecog.ps\n",
       "2  115    1      74.4932 2        1  1      \n",
       "3  156    1      66.4658 2        1  2      \n",
       "9  477    0      64.1753 2        1  1      \n",
       "22 268    1      74.5041 2        1  2      \n",
       "24 353    1      63.2192 1        2  2      \n",
       "25 365    1      64.4247 2        2  1      "
      ]
     },
     "metadata": {},
     "output_type": "display_data"
    }
   ],
   "source": [
    "head(ovarian[ovarian$age > 60 & ovarian$futime > 100, ])"
   ]
  },
  {
   "cell_type": "markdown",
   "metadata": {},
   "source": [
    "## slice()\n",
    "\n",
    "Wir können außerdem Zeilen durch `slice()` auswählen:"
   ]
  },
  {
   "cell_type": "code",
   "execution_count": 14,
   "metadata": {},
   "outputs": [
    {
     "data": {
      "text/html": [
       "<table>\n",
       "<thead><tr><th scope=col>futime</th><th scope=col>fustat</th><th scope=col>age</th><th scope=col>resid.ds</th><th scope=col>rx</th><th scope=col>ecog.ps</th></tr></thead>\n",
       "<tbody>\n",
       "\t<tr><td> 59    </td><td>1      </td><td>72.3315</td><td>2      </td><td>1      </td><td>1      </td></tr>\n",
       "\t<tr><td>115    </td><td>1      </td><td>74.4932</td><td>2      </td><td>1      </td><td>1      </td></tr>\n",
       "\t<tr><td>156    </td><td>1      </td><td>66.4658</td><td>2      </td><td>1      </td><td>2      </td></tr>\n",
       "</tbody>\n",
       "</table>\n"
      ],
      "text/latex": [
       "\\begin{tabular}{r|llllll}\n",
       " futime & fustat & age & resid.ds & rx & ecog.ps\\\\\n",
       "\\hline\n",
       "\t  59     & 1       & 72.3315 & 2       & 1       & 1      \\\\\n",
       "\t 115     & 1       & 74.4932 & 2       & 1       & 1      \\\\\n",
       "\t 156     & 1       & 66.4658 & 2       & 1       & 2      \\\\\n",
       "\\end{tabular}\n"
      ],
      "text/markdown": [
       "\n",
       "| futime | fustat | age | resid.ds | rx | ecog.ps |\n",
       "|---|---|---|---|---|---|\n",
       "|  59     | 1       | 72.3315 | 2       | 1       | 1       |\n",
       "| 115     | 1       | 74.4932 | 2       | 1       | 1       |\n",
       "| 156     | 1       | 66.4658 | 2       | 1       | 2       |\n",
       "\n"
      ],
      "text/plain": [
       "  futime fustat age     resid.ds rx ecog.ps\n",
       "1  59    1      72.3315 2        1  1      \n",
       "2 115    1      74.4932 2        1  1      \n",
       "3 156    1      66.4658 2        1  2      "
      ]
     },
     "metadata": {},
     "output_type": "display_data"
    }
   ],
   "source": [
    " slice(ovarian, 1:3) # erste 3 Zeilen auswählen"
   ]
  },
  {
   "cell_type": "markdown",
   "metadata": {},
   "source": [
    "## arrange()\n",
    "\n",
    "`arrange()` funktioniert wie filter(), allerdings werden die Zeilen nicht gefiltert oder ausgewählt, sondern neu geordnet. Es nimmt den Data Frame und eine Auswahl an Spaltennamen (oder kompliziertere Ausdrücke) und sortiert nach ihnen. Wenn wir mehr als einen Spaltennamen angeben wird jede weitere Spalte genutzt, um die Sortierung weiter herunterzubrechen."
   ]
  },
  {
   "cell_type": "code",
   "execution_count": 15,
   "metadata": {},
   "outputs": [
    {
     "data": {
      "text/html": [
       "<table>\n",
       "<thead><tr><th scope=col>futime</th><th scope=col>fustat</th><th scope=col>age</th><th scope=col>resid.ds</th><th scope=col>rx</th><th scope=col>ecog.ps</th></tr></thead>\n",
       "<tbody>\n",
       "\t<tr><td>1040   </td><td>0      </td><td>38.8932</td><td>2      </td><td>1      </td><td>2      </td></tr>\n",
       "\t<tr><td> 803   </td><td>0      </td><td>39.2712</td><td>1      </td><td>1      </td><td>1      </td></tr>\n",
       "\t<tr><td> 855   </td><td>0      </td><td>43.1233</td><td>1      </td><td>1      </td><td>2      </td></tr>\n",
       "\t<tr><td> 329   </td><td>1      </td><td>43.1370</td><td>2      </td><td>1      </td><td>1      </td></tr>\n",
       "\t<tr><td>1206   </td><td>0      </td><td>44.2055</td><td>2      </td><td>2      </td><td>1      </td></tr>\n",
       "\t<tr><td>1106   </td><td>0      </td><td>44.6000</td><td>1      </td><td>1      </td><td>1      </td></tr>\n",
       "</tbody>\n",
       "</table>\n"
      ],
      "text/latex": [
       "\\begin{tabular}{r|llllll}\n",
       " futime & fustat & age & resid.ds & rx & ecog.ps\\\\\n",
       "\\hline\n",
       "\t 1040    & 0       & 38.8932 & 2       & 1       & 2      \\\\\n",
       "\t  803    & 0       & 39.2712 & 1       & 1       & 1      \\\\\n",
       "\t  855    & 0       & 43.1233 & 1       & 1       & 2      \\\\\n",
       "\t  329    & 1       & 43.1370 & 2       & 1       & 1      \\\\\n",
       "\t 1206    & 0       & 44.2055 & 2       & 2       & 1      \\\\\n",
       "\t 1106    & 0       & 44.6000 & 1       & 1       & 1      \\\\\n",
       "\\end{tabular}\n"
      ],
      "text/markdown": [
       "\n",
       "| futime | fustat | age | resid.ds | rx | ecog.ps |\n",
       "|---|---|---|---|---|---|\n",
       "| 1040    | 0       | 38.8932 | 2       | 1       | 2       |\n",
       "|  803    | 0       | 39.2712 | 1       | 1       | 1       |\n",
       "|  855    | 0       | 43.1233 | 1       | 1       | 2       |\n",
       "|  329    | 1       | 43.1370 | 2       | 1       | 1       |\n",
       "| 1206    | 0       | 44.2055 | 2       | 2       | 1       |\n",
       "| 1106    | 0       | 44.6000 | 1       | 1       | 1       |\n",
       "\n"
      ],
      "text/plain": [
       "  futime fustat age     resid.ds rx ecog.ps\n",
       "1 1040   0      38.8932 2        1  2      \n",
       "2  803   0      39.2712 1        1  1      \n",
       "3  855   0      43.1233 1        1  2      \n",
       "4  329   1      43.1370 2        1  1      \n",
       "5 1206   0      44.2055 2        2  1      \n",
       "6 1106   0      44.6000 1        1  1      "
      ]
     },
     "metadata": {},
     "output_type": "display_data"
    }
   ],
   "source": [
    "head(arrange(ovarian, age, futime))"
   ]
  },
  {
   "cell_type": "markdown",
   "metadata": {},
   "source": [
    "Für die absteigende Sortierung können wir `desc()` mit angeben:"
   ]
  },
  {
   "cell_type": "code",
   "execution_count": 16,
   "metadata": {},
   "outputs": [
    {
     "data": {
      "text/html": [
       "<table>\n",
       "<thead><tr><th scope=col>futime</th><th scope=col>fustat</th><th scope=col>age</th><th scope=col>resid.ds</th><th scope=col>rx</th><th scope=col>ecog.ps</th></tr></thead>\n",
       "<tbody>\n",
       "\t<tr><td>268    </td><td>1      </td><td>74.5041</td><td>2      </td><td>1      </td><td>2      </td></tr>\n",
       "\t<tr><td>115    </td><td>1      </td><td>74.4932</td><td>2      </td><td>1      </td><td>1      </td></tr>\n",
       "\t<tr><td> 59    </td><td>1      </td><td>72.3315</td><td>2      </td><td>1      </td><td>1      </td></tr>\n",
       "\t<tr><td>156    </td><td>1      </td><td>66.4658</td><td>2      </td><td>1      </td><td>2      </td></tr>\n",
       "\t<tr><td>365    </td><td>1      </td><td>64.4247</td><td>2      </td><td>2      </td><td>1      </td></tr>\n",
       "\t<tr><td>477    </td><td>0      </td><td>64.1753</td><td>2      </td><td>1      </td><td>1      </td></tr>\n",
       "</tbody>\n",
       "</table>\n"
      ],
      "text/latex": [
       "\\begin{tabular}{r|llllll}\n",
       " futime & fustat & age & resid.ds & rx & ecog.ps\\\\\n",
       "\\hline\n",
       "\t 268     & 1       & 74.5041 & 2       & 1       & 2      \\\\\n",
       "\t 115     & 1       & 74.4932 & 2       & 1       & 1      \\\\\n",
       "\t  59     & 1       & 72.3315 & 2       & 1       & 1      \\\\\n",
       "\t 156     & 1       & 66.4658 & 2       & 1       & 2      \\\\\n",
       "\t 365     & 1       & 64.4247 & 2       & 2       & 1      \\\\\n",
       "\t 477     & 0       & 64.1753 & 2       & 1       & 1      \\\\\n",
       "\\end{tabular}\n"
      ],
      "text/markdown": [
       "\n",
       "| futime | fustat | age | resid.ds | rx | ecog.ps |\n",
       "|---|---|---|---|---|---|\n",
       "| 268     | 1       | 74.5041 | 2       | 1       | 2       |\n",
       "| 115     | 1       | 74.4932 | 2       | 1       | 1       |\n",
       "|  59     | 1       | 72.3315 | 2       | 1       | 1       |\n",
       "| 156     | 1       | 66.4658 | 2       | 1       | 2       |\n",
       "| 365     | 1       | 64.4247 | 2       | 2       | 1       |\n",
       "| 477     | 0       | 64.1753 | 2       | 1       | 1       |\n",
       "\n"
      ],
      "text/plain": [
       "  futime fustat age     resid.ds rx ecog.ps\n",
       "1 268    1      74.5041 2        1  2      \n",
       "2 115    1      74.4932 2        1  1      \n",
       "3  59    1      72.3315 2        1  1      \n",
       "4 156    1      66.4658 2        1  2      \n",
       "5 365    1      64.4247 2        2  1      \n",
       "6 477    0      64.1753 2        1  1      "
      ]
     },
     "metadata": {},
     "output_type": "display_data"
    }
   ],
   "source": [
    "head(arrange(ovarian, desc(age), futime))"
   ]
  },
  {
   "cell_type": "markdown",
   "metadata": {},
   "source": [
    "## select() \n",
    "\n",
    "Oft arbeiten wir mit großen Datensätzen mit vielen Spalten, von denen uns nur einige wenige interessieren. `select()` ermöglicht es uns einfach und schnell auf das benötigte Subset zuzugreifen:"
   ]
  },
  {
   "cell_type": "code",
   "execution_count": 17,
   "metadata": {},
   "outputs": [
    {
     "data": {
      "text/html": [
       "<table>\n",
       "<thead><tr><th scope=col>age</th><th scope=col>futime</th></tr></thead>\n",
       "<tbody>\n",
       "\t<tr><td>72.3315</td><td> 59    </td></tr>\n",
       "\t<tr><td>74.4932</td><td>115    </td></tr>\n",
       "\t<tr><td>66.4658</td><td>156    </td></tr>\n",
       "\t<tr><td>53.3644</td><td>421    </td></tr>\n",
       "\t<tr><td>50.3397</td><td>431    </td></tr>\n",
       "\t<tr><td>56.4301</td><td>448    </td></tr>\n",
       "</tbody>\n",
       "</table>\n"
      ],
      "text/latex": [
       "\\begin{tabular}{r|ll}\n",
       " age & futime\\\\\n",
       "\\hline\n",
       "\t 72.3315 &  59    \\\\\n",
       "\t 74.4932 & 115    \\\\\n",
       "\t 66.4658 & 156    \\\\\n",
       "\t 53.3644 & 421    \\\\\n",
       "\t 50.3397 & 431    \\\\\n",
       "\t 56.4301 & 448    \\\\\n",
       "\\end{tabular}\n"
      ],
      "text/markdown": [
       "\n",
       "| age | futime |\n",
       "|---|---|\n",
       "| 72.3315 |  59     |\n",
       "| 74.4932 | 115     |\n",
       "| 66.4658 | 156     |\n",
       "| 53.3644 | 421     |\n",
       "| 50.3397 | 431     |\n",
       "| 56.4301 | 448     |\n",
       "\n"
      ],
      "text/plain": [
       "  age     futime\n",
       "1 72.3315  59   \n",
       "2 74.4932 115   \n",
       "3 66.4658 156   \n",
       "4 53.3644 421   \n",
       "5 50.3397 431   \n",
       "6 56.4301 448   "
      ]
     },
     "metadata": {},
     "output_type": "display_data"
    }
   ],
   "source": [
    "head(select(ovarian,age,futime))"
   ]
  },
  {
   "cell_type": "markdown",
   "metadata": {},
   "source": [
    "## rename()\n",
    "\n",
    "Um Spalten umzubenennen nutzen wir `rename()`:"
   ]
  },
  {
   "cell_type": "code",
   "execution_count": 19,
   "metadata": {},
   "outputs": [
    {
     "data": {
      "text/html": [
       "<table>\n",
       "<thead><tr><th scope=col>futime</th><th scope=col>fustat</th><th scope=col>age</th><th scope=col>resid.ds</th><th scope=col>rx</th><th scope=col>ecog.ps</th></tr></thead>\n",
       "<tbody>\n",
       "\t<tr><td> 59    </td><td>1      </td><td>72.3315</td><td>2      </td><td>1      </td><td>1      </td></tr>\n",
       "\t<tr><td>115    </td><td>1      </td><td>74.4932</td><td>2      </td><td>1      </td><td>1      </td></tr>\n",
       "\t<tr><td>156    </td><td>1      </td><td>66.4658</td><td>2      </td><td>1      </td><td>2      </td></tr>\n",
       "\t<tr><td>421    </td><td>0      </td><td>53.3644</td><td>2      </td><td>2      </td><td>1      </td></tr>\n",
       "\t<tr><td>431    </td><td>1      </td><td>50.3397</td><td>2      </td><td>1      </td><td>1      </td></tr>\n",
       "\t<tr><td>448    </td><td>0      </td><td>56.4301</td><td>1      </td><td>1      </td><td>2      </td></tr>\n",
       "</tbody>\n",
       "</table>\n"
      ],
      "text/latex": [
       "\\begin{tabular}{r|llllll}\n",
       " futime & fustat & age & resid.ds & rx & ecog.ps\\\\\n",
       "\\hline\n",
       "\t  59     & 1       & 72.3315 & 2       & 1       & 1      \\\\\n",
       "\t 115     & 1       & 74.4932 & 2       & 1       & 1      \\\\\n",
       "\t 156     & 1       & 66.4658 & 2       & 1       & 2      \\\\\n",
       "\t 421     & 0       & 53.3644 & 2       & 2       & 1      \\\\\n",
       "\t 431     & 1       & 50.3397 & 2       & 1       & 1      \\\\\n",
       "\t 448     & 0       & 56.4301 & 1       & 1       & 2      \\\\\n",
       "\\end{tabular}\n"
      ],
      "text/markdown": [
       "\n",
       "| futime | fustat | age | resid.ds | rx | ecog.ps |\n",
       "|---|---|---|---|---|---|\n",
       "|  59     | 1       | 72.3315 | 2       | 1       | 1       |\n",
       "| 115     | 1       | 74.4932 | 2       | 1       | 1       |\n",
       "| 156     | 1       | 66.4658 | 2       | 1       | 2       |\n",
       "| 421     | 0       | 53.3644 | 2       | 2       | 1       |\n",
       "| 431     | 1       | 50.3397 | 2       | 1       | 1       |\n",
       "| 448     | 0       | 56.4301 | 1       | 1       | 2       |\n",
       "\n"
      ],
      "text/plain": [
       "  futime fustat age     resid.ds rx ecog.ps\n",
       "1  59    1      72.3315 2        1  1      \n",
       "2 115    1      74.4932 2        1  1      \n",
       "3 156    1      66.4658 2        1  2      \n",
       "4 421    0      53.3644 2        2  1      \n",
       "5 431    1      50.3397 2        1  1      \n",
       "6 448    0      56.4301 1        1  2      "
      ]
     },
     "metadata": {},
     "output_type": "display_data"
    },
    {
     "data": {
      "text/html": [
       "<table>\n",
       "<thead><tr><th scope=col>futime</th><th scope=col>fustat</th><th scope=col>alter</th><th scope=col>resid.ds</th><th scope=col>rx</th><th scope=col>ecog.ps</th></tr></thead>\n",
       "<tbody>\n",
       "\t<tr><td> 59    </td><td>1      </td><td>72.3315</td><td>2      </td><td>1      </td><td>1      </td></tr>\n",
       "\t<tr><td>115    </td><td>1      </td><td>74.4932</td><td>2      </td><td>1      </td><td>1      </td></tr>\n",
       "\t<tr><td>156    </td><td>1      </td><td>66.4658</td><td>2      </td><td>1      </td><td>2      </td></tr>\n",
       "\t<tr><td>421    </td><td>0      </td><td>53.3644</td><td>2      </td><td>2      </td><td>1      </td></tr>\n",
       "\t<tr><td>431    </td><td>1      </td><td>50.3397</td><td>2      </td><td>1      </td><td>1      </td></tr>\n",
       "\t<tr><td>448    </td><td>0      </td><td>56.4301</td><td>1      </td><td>1      </td><td>2      </td></tr>\n",
       "</tbody>\n",
       "</table>\n"
      ],
      "text/latex": [
       "\\begin{tabular}{r|llllll}\n",
       " futime & fustat & alter & resid.ds & rx & ecog.ps\\\\\n",
       "\\hline\n",
       "\t  59     & 1       & 72.3315 & 2       & 1       & 1      \\\\\n",
       "\t 115     & 1       & 74.4932 & 2       & 1       & 1      \\\\\n",
       "\t 156     & 1       & 66.4658 & 2       & 1       & 2      \\\\\n",
       "\t 421     & 0       & 53.3644 & 2       & 2       & 1      \\\\\n",
       "\t 431     & 1       & 50.3397 & 2       & 1       & 1      \\\\\n",
       "\t 448     & 0       & 56.4301 & 1       & 1       & 2      \\\\\n",
       "\\end{tabular}\n"
      ],
      "text/markdown": [
       "\n",
       "| futime | fustat | alter | resid.ds | rx | ecog.ps |\n",
       "|---|---|---|---|---|---|\n",
       "|  59     | 1       | 72.3315 | 2       | 1       | 1       |\n",
       "| 115     | 1       | 74.4932 | 2       | 1       | 1       |\n",
       "| 156     | 1       | 66.4658 | 2       | 1       | 2       |\n",
       "| 421     | 0       | 53.3644 | 2       | 2       | 1       |\n",
       "| 431     | 1       | 50.3397 | 2       | 1       | 1       |\n",
       "| 448     | 0       | 56.4301 | 1       | 1       | 2       |\n",
       "\n"
      ],
      "text/plain": [
       "  futime fustat alter   resid.ds rx ecog.ps\n",
       "1  59    1      72.3315 2        1  1      \n",
       "2 115    1      74.4932 2        1  1      \n",
       "3 156    1      66.4658 2        1  2      \n",
       "4 421    0      53.3644 2        2  1      \n",
       "5 431    1      50.3397 2        1  1      \n",
       "6 448    0      56.4301 1        1  2      "
      ]
     },
     "metadata": {},
     "output_type": "display_data"
    }
   ],
   "source": [
    "head(ovarian)\n",
    "head(rename(ovarian, alter = age ))"
   ]
  },
  {
   "cell_type": "markdown",
   "metadata": {},
   "source": [
    "## distinct()\n",
    "\n",
    "Eine übliche Anwendung von select() ist es ein Set der Ausprägungen einer Variablen zu erhalten. Dazu bietet sich die `distinct()` Funktion an, welche unique Werte in einer Tabelle ausgibt."
   ]
  },
  {
   "cell_type": "code",
   "execution_count": 20,
   "metadata": {},
   "outputs": [
    {
     "data": {
      "text/html": [
       "<table>\n",
       "<thead><tr><th scope=col>fustat</th></tr></thead>\n",
       "<tbody>\n",
       "\t<tr><td>1</td></tr>\n",
       "\t<tr><td>0</td></tr>\n",
       "</tbody>\n",
       "</table>\n"
      ],
      "text/latex": [
       "\\begin{tabular}{r|l}\n",
       " fustat\\\\\n",
       "\\hline\n",
       "\t 1\\\\\n",
       "\t 0\\\\\n",
       "\\end{tabular}\n"
      ],
      "text/markdown": [
       "\n",
       "| fustat |\n",
       "|---|\n",
       "| 1 |\n",
       "| 0 |\n",
       "\n"
      ],
      "text/plain": [
       "  fustat\n",
       "1 1     \n",
       "2 0     "
      ]
     },
     "metadata": {},
     "output_type": "display_data"
    }
   ],
   "source": [
    "distinct(select(ovarian,fustat))"
   ]
  },
  {
   "cell_type": "code",
   "execution_count": 21,
   "metadata": {},
   "outputs": [
    {
     "data": {
      "text/html": [
       "<table>\n",
       "<thead><tr><th scope=col>zensiert</th><th scope=col>gruppe</th></tr></thead>\n",
       "<tbody>\n",
       "\t<tr><td>1</td><td>1</td></tr>\n",
       "\t<tr><td>0</td><td>2</td></tr>\n",
       "\t<tr><td>0</td><td>1</td></tr>\n",
       "\t<tr><td>1</td><td>2</td></tr>\n",
       "</tbody>\n",
       "</table>\n"
      ],
      "text/latex": [
       "\\begin{tabular}{r|ll}\n",
       " zensiert & gruppe\\\\\n",
       "\\hline\n",
       "\t 1 & 1\\\\\n",
       "\t 0 & 2\\\\\n",
       "\t 0 & 1\\\\\n",
       "\t 1 & 2\\\\\n",
       "\\end{tabular}\n"
      ],
      "text/markdown": [
       "\n",
       "| zensiert | gruppe |\n",
       "|---|---|\n",
       "| 1 | 1 |\n",
       "| 0 | 2 |\n",
       "| 0 | 1 |\n",
       "| 1 | 2 |\n",
       "\n"
      ],
      "text/plain": [
       "  zensiert gruppe\n",
       "1 1        1     \n",
       "2 0        2     \n",
       "3 0        1     \n",
       "4 1        2     "
      ]
     },
     "metadata": {},
     "output_type": "display_data"
    }
   ],
   "source": [
    "rename(distinct(select(ovarian,fustat,rx)),zensiert=fustat,gruppe=rx)"
   ]
  },
  {
   "cell_type": "markdown",
   "metadata": {},
   "source": [
    "## mutate() \n",
    "\n",
    "Neben der Auswahl von bereits existierenden Spalten ist es oft nützlich neue Spalten als Funktion bereits bestehender Spalten hinzuzufügen. Für diese Aufgabe gibt es `mutate()`:"
   ]
  },
  {
   "cell_type": "code",
   "execution_count": 22,
   "metadata": {},
   "outputs": [
    {
     "data": {
      "text/html": [
       "<table>\n",
       "<thead><tr><th scope=col>futime</th><th scope=col>fustat</th><th scope=col>age</th><th scope=col>resid.ds</th><th scope=col>rx</th><th scope=col>ecog.ps</th><th scope=col>time_over_100</th></tr></thead>\n",
       "<tbody>\n",
       "\t<tr><td> 59    </td><td>1      </td><td>72.3315</td><td>2      </td><td>1      </td><td>1      </td><td>FALSE  </td></tr>\n",
       "\t<tr><td>115    </td><td>1      </td><td>74.4932</td><td>2      </td><td>1      </td><td>1      </td><td> TRUE  </td></tr>\n",
       "\t<tr><td>156    </td><td>1      </td><td>66.4658</td><td>2      </td><td>1      </td><td>2      </td><td> TRUE  </td></tr>\n",
       "\t<tr><td>421    </td><td>0      </td><td>53.3644</td><td>2      </td><td>2      </td><td>1      </td><td> TRUE  </td></tr>\n",
       "\t<tr><td>431    </td><td>1      </td><td>50.3397</td><td>2      </td><td>1      </td><td>1      </td><td> TRUE  </td></tr>\n",
       "\t<tr><td>448    </td><td>0      </td><td>56.4301</td><td>1      </td><td>1      </td><td>2      </td><td> TRUE  </td></tr>\n",
       "</tbody>\n",
       "</table>\n"
      ],
      "text/latex": [
       "\\begin{tabular}{r|lllllll}\n",
       " futime & fustat & age & resid.ds & rx & ecog.ps & time\\_over\\_100\\\\\n",
       "\\hline\n",
       "\t  59     & 1       & 72.3315 & 2       & 1       & 1       & FALSE  \\\\\n",
       "\t 115     & 1       & 74.4932 & 2       & 1       & 1       &  TRUE  \\\\\n",
       "\t 156     & 1       & 66.4658 & 2       & 1       & 2       &  TRUE  \\\\\n",
       "\t 421     & 0       & 53.3644 & 2       & 2       & 1       &  TRUE  \\\\\n",
       "\t 431     & 1       & 50.3397 & 2       & 1       & 1       &  TRUE  \\\\\n",
       "\t 448     & 0       & 56.4301 & 1       & 1       & 2       &  TRUE  \\\\\n",
       "\\end{tabular}\n"
      ],
      "text/markdown": [
       "\n",
       "| futime | fustat | age | resid.ds | rx | ecog.ps | time_over_100 |\n",
       "|---|---|---|---|---|---|---|\n",
       "|  59     | 1       | 72.3315 | 2       | 1       | 1       | FALSE   |\n",
       "| 115     | 1       | 74.4932 | 2       | 1       | 1       |  TRUE   |\n",
       "| 156     | 1       | 66.4658 | 2       | 1       | 2       |  TRUE   |\n",
       "| 421     | 0       | 53.3644 | 2       | 2       | 1       |  TRUE   |\n",
       "| 431     | 1       | 50.3397 | 2       | 1       | 1       |  TRUE   |\n",
       "| 448     | 0       | 56.4301 | 1       | 1       | 2       |  TRUE   |\n",
       "\n"
      ],
      "text/plain": [
       "  futime fustat age     resid.ds rx ecog.ps time_over_100\n",
       "1  59    1      72.3315 2        1  1       FALSE        \n",
       "2 115    1      74.4932 2        1  1        TRUE        \n",
       "3 156    1      66.4658 2        1  2        TRUE        \n",
       "4 421    0      53.3644 2        2  1        TRUE        \n",
       "5 431    1      50.3397 2        1  1        TRUE        \n",
       "6 448    0      56.4301 1        1  2        TRUE        "
      ]
     },
     "metadata": {},
     "output_type": "display_data"
    }
   ],
   "source": [
    "head(mutate(ovarian, time_over_100 = futime > 100))"
   ]
  },
  {
   "cell_type": "markdown",
   "metadata": {},
   "source": [
    "## transmute()\n",
    "\n",
    "Nutze `transmute()`, wenn du nur die neue Spalte willst:"
   ]
  },
  {
   "cell_type": "code",
   "execution_count": 23,
   "metadata": {},
   "outputs": [
    {
     "data": {
      "text/html": [
       "<table>\n",
       "<thead><tr><th scope=col>time_over_100</th></tr></thead>\n",
       "<tbody>\n",
       "\t<tr><td>FALSE</td></tr>\n",
       "\t<tr><td> TRUE</td></tr>\n",
       "\t<tr><td> TRUE</td></tr>\n",
       "\t<tr><td> TRUE</td></tr>\n",
       "\t<tr><td> TRUE</td></tr>\n",
       "\t<tr><td> TRUE</td></tr>\n",
       "</tbody>\n",
       "</table>\n"
      ],
      "text/latex": [
       "\\begin{tabular}{r|l}\n",
       " time\\_over\\_100\\\\\n",
       "\\hline\n",
       "\t FALSE\\\\\n",
       "\t  TRUE\\\\\n",
       "\t  TRUE\\\\\n",
       "\t  TRUE\\\\\n",
       "\t  TRUE\\\\\n",
       "\t  TRUE\\\\\n",
       "\\end{tabular}\n"
      ],
      "text/markdown": [
       "\n",
       "| time_over_100 |\n",
       "|---|\n",
       "| FALSE |\n",
       "|  TRUE |\n",
       "|  TRUE |\n",
       "|  TRUE |\n",
       "|  TRUE |\n",
       "|  TRUE |\n",
       "\n"
      ],
      "text/plain": [
       "  time_over_100\n",
       "1 FALSE        \n",
       "2  TRUE        \n",
       "3  TRUE        \n",
       "4  TRUE        \n",
       "5  TRUE        \n",
       "6  TRUE        "
      ]
     },
     "metadata": {},
     "output_type": "display_data"
    }
   ],
   "source": [
    "head(transmute(ovarian, time_over_100 = futime > 100))"
   ]
  },
  {
   "cell_type": "markdown",
   "metadata": {},
   "source": [
    "## summarise()\n",
    "\n",
    "Wir können summarise() nutzen, um schnell eine Zeile aus einem ganzen Data Frame zu erzeugen, indem wir Aggregationsfunktionen verwenden. Denkt daran na.rm=TRUE einzugeben, wenn NA Werte (NULL/nicht vorhanden) entfernt werden sollen."
   ]
  },
  {
   "cell_type": "code",
   "execution_count": 24,
   "metadata": {},
   "outputs": [
    {
     "data": {
      "text/html": [
       "<table>\n",
       "<thead><tr><th scope=col>avg_run_time</th></tr></thead>\n",
       "<tbody>\n",
       "\t<tr><td>599.5385</td></tr>\n",
       "</tbody>\n",
       "</table>\n"
      ],
      "text/latex": [
       "\\begin{tabular}{r|l}\n",
       " avg\\_run\\_time\\\\\n",
       "\\hline\n",
       "\t 599.5385\\\\\n",
       "\\end{tabular}\n"
      ],
      "text/markdown": [
       "\n",
       "| avg_run_time |\n",
       "|---|\n",
       "| 599.5385 |\n",
       "\n"
      ],
      "text/plain": [
       "  avg_run_time\n",
       "1 599.5385    "
      ]
     },
     "metadata": {},
     "output_type": "display_data"
    }
   ],
   "source": [
    "summarise(ovarian,avg_run_time=mean(futime,na.rm=TRUE))"
   ]
  },
  {
   "cell_type": "markdown",
   "metadata": {},
   "source": [
    "## sample_n() und sample_frac()\n",
    "\n",
    "Um ein zufälliges Subset an Zeilen aus dem Data Frame zu erhalten, können wir `sample_n()` (für eine bestimmte Anzahl) oder `sample_frac()` (für einen bestimmten Anteil) verwenden."
   ]
  },
  {
   "cell_type": "code",
   "execution_count": 25,
   "metadata": {},
   "outputs": [
    {
     "data": {
      "text/html": [
       "<table>\n",
       "<thead><tr><th scope=col>futime</th><th scope=col>fustat</th><th scope=col>age</th><th scope=col>resid.ds</th><th scope=col>rx</th><th scope=col>ecog.ps</th></tr></thead>\n",
       "<tbody>\n",
       "\t<tr><td> 477   </td><td>0      </td><td>64.1753</td><td>2      </td><td>1      </td><td>1      </td></tr>\n",
       "\t<tr><td> 431   </td><td>1      </td><td>50.3397</td><td>2      </td><td>1      </td><td>1      </td></tr>\n",
       "\t<tr><td>1129   </td><td>0      </td><td>53.9068</td><td>1      </td><td>2      </td><td>1      </td></tr>\n",
       "</tbody>\n",
       "</table>\n"
      ],
      "text/latex": [
       "\\begin{tabular}{r|llllll}\n",
       " futime & fustat & age & resid.ds & rx & ecog.ps\\\\\n",
       "\\hline\n",
       "\t  477    & 0       & 64.1753 & 2       & 1       & 1      \\\\\n",
       "\t  431    & 1       & 50.3397 & 2       & 1       & 1      \\\\\n",
       "\t 1129    & 0       & 53.9068 & 1       & 2       & 1      \\\\\n",
       "\\end{tabular}\n"
      ],
      "text/markdown": [
       "\n",
       "| futime | fustat | age | resid.ds | rx | ecog.ps |\n",
       "|---|---|---|---|---|---|\n",
       "|  477    | 0       | 64.1753 | 2       | 1       | 1       |\n",
       "|  431    | 1       | 50.3397 | 2       | 1       | 1       |\n",
       "| 1129    | 0       | 53.9068 | 1       | 2       | 1       |\n",
       "\n"
      ],
      "text/plain": [
       "  futime fustat age     resid.ds rx ecog.ps\n",
       "1  477   0      64.1753 2        1  1      \n",
       "2  431   1      50.3397 2        1  1      \n",
       "3 1129   0      53.9068 1        2  1      "
      ]
     },
     "metadata": {},
     "output_type": "display_data"
    }
   ],
   "source": [
    "sample_n(ovarian,3) # 3 Sätze zurückgeben"
   ]
  },
  {
   "cell_type": "code",
   "execution_count": 26,
   "metadata": {},
   "outputs": [
    {
     "data": {
      "text/html": [
       "<table>\n",
       "<thead><tr><th scope=col>futime</th><th scope=col>fustat</th><th scope=col>age</th><th scope=col>resid.ds</th><th scope=col>rx</th><th scope=col>ecog.ps</th></tr></thead>\n",
       "<tbody>\n",
       "\t<tr><td> 115   </td><td>1      </td><td>74.4932</td><td>2      </td><td>1      </td><td>1      </td></tr>\n",
       "\t<tr><td>  59   </td><td>1      </td><td>72.3315</td><td>2      </td><td>1      </td><td>1      </td></tr>\n",
       "\t<tr><td> 803   </td><td>0      </td><td>39.2712</td><td>1      </td><td>1      </td><td>1      </td></tr>\n",
       "\t<tr><td>1106   </td><td>0      </td><td>44.6000</td><td>1      </td><td>1      </td><td>1      </td></tr>\n",
       "\t<tr><td> 770   </td><td>0      </td><td>57.0521</td><td>2      </td><td>2      </td><td>1      </td></tr>\n",
       "</tbody>\n",
       "</table>\n"
      ],
      "text/latex": [
       "\\begin{tabular}{r|llllll}\n",
       " futime & fustat & age & resid.ds & rx & ecog.ps\\\\\n",
       "\\hline\n",
       "\t  115    & 1       & 74.4932 & 2       & 1       & 1      \\\\\n",
       "\t   59    & 1       & 72.3315 & 2       & 1       & 1      \\\\\n",
       "\t  803    & 0       & 39.2712 & 1       & 1       & 1      \\\\\n",
       "\t 1106    & 0       & 44.6000 & 1       & 1       & 1      \\\\\n",
       "\t  770    & 0       & 57.0521 & 2       & 2       & 1      \\\\\n",
       "\\end{tabular}\n"
      ],
      "text/markdown": [
       "\n",
       "| futime | fustat | age | resid.ds | rx | ecog.ps |\n",
       "|---|---|---|---|---|---|\n",
       "|  115    | 1       | 74.4932 | 2       | 1       | 1       |\n",
       "|   59    | 1       | 72.3315 | 2       | 1       | 1       |\n",
       "|  803    | 0       | 39.2712 | 1       | 1       | 1       |\n",
       "| 1106    | 0       | 44.6000 | 1       | 1       | 1       |\n",
       "|  770    | 0       | 57.0521 | 2       | 2       | 1       |\n",
       "\n"
      ],
      "text/plain": [
       "  futime fustat age     resid.ds rx ecog.ps\n",
       "1  115   1      74.4932 2        1  1      \n",
       "2   59   1      72.3315 2        1  1      \n",
       "3  803   0      39.2712 1        1  1      \n",
       "4 1106   0      44.6000 1        1  1      \n",
       "5  770   0      57.0521 2        2  1      "
      ]
     },
     "metadata": {},
     "output_type": "display_data"
    }
   ],
   "source": [
    "# 20% der Daten zurückgeben\n",
    "sample_frac(ovarian, 20/100) "
   ]
  },
  {
   "cell_type": "markdown",
   "metadata": {},
   "source": [
    "# Zusammenfassung\n",
    "\n",
    "Hoffentlich konntest du die Nutzung von `dplyr()` nachvollziehen und dir so viel Zeit sparen! Denke an `help()`, um weitere Informationen zu erhalten oder schaue in die [Dokumentation](https://cran.r-project.org/web/packages/dplyr/dplyr.pdf)."
   ]
  },
  {
   "cell_type": "markdown",
   "metadata": {},
   "source": [
    "Herzlichen Glückwunsch! Sie sind mit Lektion 40. fertig!"
   ]
  }
 ],
 "metadata": {
  "kernelspec": {
   "display_name": "R",
   "language": "R",
   "name": "ir"
  },
  "language_info": {
   "codemirror_mode": "r",
   "file_extension": ".r",
   "mimetype": "text/x-r-source",
   "name": "R",
   "pygments_lexer": "r",
   "version": "3.6.1"
  }
 },
 "nbformat": 4,
 "nbformat_minor": 1
}
