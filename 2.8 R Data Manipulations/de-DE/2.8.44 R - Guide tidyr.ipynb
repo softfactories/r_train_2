{
 "cells": [
  {
   "cell_type": "markdown",
   "metadata": {},
   "source": [
    "# Tag 2. Kapitel 8. Daten-Manipulationen\n",
    "\n",
    "## Lektion 44.  Guide zur Verwendung von tidyr\n",
    "\n",
    "Wir kennen jetzt bereits `dplyr` und seine Funktionen. Zusätzlich können wir uns jetzt `tidyr` aneignen. Dies ist ein komplementäres Paket, das uns dabei hilft, ordentliche Datensätze zu erstellen. Was meinen wir überhaupt wenn wir \"ordentlicher\" Datensatz sagen?\n",
    "\n",
    "Ordentliche Daten liegen vor, wenn jede Zeile eine eigene Beobachtung darstellt und jede Spalte eine Variable. Durch diese Organisation der Daten beinhaltet jede Zelle genau den Wert für eine Variable für eine Beobachtung. Durch diese Format können wir Daten leichter verstehen, analysieren und visualisieren.\n",
    "\n",
    "Nach dieser Lektion könnt ihr euch auf folgendes Cheatsheet beziehen: [Data Wrangling](http://www.rstudio.com/wp-content/uploads/2015/02/data-wrangling-cheatsheet.pdf)\n",
    "\n",
    "## Installation von tidyr"
   ]
  },
  {
   "cell_type": "code",
   "execution_count": 1,
   "metadata": {},
   "outputs": [
    {
     "name": "stdout",
     "output_type": "stream",
     "text": [
      "package 'tidyr' successfully unpacked and MD5 sums checked\n",
      "\n",
      "The downloaded binary packages are in\n",
      "\tC:\\Users\\dm_78\\AppData\\Local\\Temp\\Rtmpu8x5pr\\downloaded_packages\n",
      "package 'data.table' successfully unpacked and MD5 sums checked\n",
      "\n",
      "The downloaded binary packages are in\n",
      "\tC:\\Users\\dm_78\\AppData\\Local\\Temp\\Rtmpu8x5pr\\downloaded_packages\n"
     ]
    }
   ],
   "source": [
    "install.packages('tidyr',repos = 'http://cran.us.r-project.org')\n",
    "# Evtl. data.table installieren\n",
    "install.packages(\"data.table\")"
   ]
  },
  {
   "cell_type": "code",
   "execution_count": 3,
   "metadata": {},
   "outputs": [],
   "source": [
    "library(tidyr)\n",
    "library(data.table)"
   ]
  },
  {
   "cell_type": "markdown",
   "metadata": {},
   "source": [
    "## Data.frames versus data.tables\n",
    "\n",
    "Alle data.tables sind auch data.frames. Vereinfacht gesagt sind data.tables data.frames die extra Features bieten. \n",
    "\n",
    "data.frame ist in der Installation von R inbegriffen.\n",
    "\n",
    "data.table ist ein Paket, dass data.frame erweitert. Zwei der wichtigsten Features sind Geschwindigkeit und saubere Syntax.\n",
    "\n",
    "Jedoch ist die Syntax der data.table etwas unterschiedlich zur Standard R Syntax von data.frame. Diese Unterschiede können für ein untrainiertes Auge allerdings schwer zu erkennen sein. Wenn man mit einem Code-Abschnitt arbeitet, der nicht anzeigt, dass mit data.tables gearbeitet wird, und diesen auf einen Data Frame anwenden möchte, dann kann es zu Errors kommen.\n",
    "\n",
    "Um einige der Unterschiede festzuhalten:\n",
    "\n",
    "* viel schnellerer und sehr intuitive **by** Operationen\n",
    "* Wir werden nicht ausversehen riesige Data Frames ausgeben, die wir mit Strg-C stoppen müssten. data.table verhindert solche Vorfälle\n",
    "* schnellere und einfacheres Lesen von Datein mit **fread**\n",
    "* das Paket beinhaltet weitere Funktionen wie %between% oder rbindlist\n",
    "* und insgesamt einfach etwas schnellere Grundfunktionen\n",
    "\n",
    "# Nutzung von tidyr\n",
    "\n",
    "Wir werden einige der nützlichsten Funktionen in tidyr abdecken. Dazu gehören die folgenden:\n",
    "\n",
    "* gather()\n",
    "* spread()\n",
    "* separate()\n",
    "* unite()"
   ]
  },
  {
   "cell_type": "markdown",
   "metadata": {},
   "source": [
    "## Beispiel Datensatz\n",
    "\n",
    "Lass uns jetzt einige Daten erzeugen, die mit tidyr ordentlich gemacht werden müssen"
   ]
  },
  {
   "cell_type": "code",
   "execution_count": 6,
   "metadata": {},
   "outputs": [],
   "source": [
    "firma <- c(1,1,1,2,2,2,3,3,3)\n",
    "jr <- c(1998,1999,2000,1998,1999,2000,1998,1999,2000)\n",
    "q1 <- runif(9, min=0, max=100)\n",
    "q2 <- runif(9, min=0, max=100)\n",
    "q3 <- runif(9, min=0, max=100)\n",
    "q4 <- runif(9, min=0, max=100)\n",
    "\n",
    "df <- data.frame(firma=firma,jahr=jr,Qtr1 = q1,Qtr2 = q2,Qtr3 = q3,Qtr4 = q4)"
   ]
  },
  {
   "cell_type": "code",
   "execution_count": 7,
   "metadata": {},
   "outputs": [
    {
     "data": {
      "text/html": [
       "<table>\n",
       "<thead><tr><th scope=col>firma</th><th scope=col>jahr</th><th scope=col>Qtr1</th><th scope=col>Qtr2</th><th scope=col>Qtr3</th><th scope=col>Qtr4</th></tr></thead>\n",
       "<tbody>\n",
       "\t<tr><td>1        </td><td>1998     </td><td>87.47157 </td><td>15.28078 </td><td>23.571765</td><td> 7.014554</td></tr>\n",
       "\t<tr><td>1        </td><td>1999     </td><td>27.29214 </td><td>83.72309 </td><td> 5.300331</td><td>30.810351</td></tr>\n",
       "\t<tr><td>1        </td><td>2000     </td><td>95.05862 </td><td>28.71396 </td><td>45.258085</td><td> 1.124289</td></tr>\n",
       "\t<tr><td>2        </td><td>1998     </td><td>73.14976 </td><td>39.34447 </td><td> 1.585104</td><td>98.313194</td></tr>\n",
       "\t<tr><td>2        </td><td>1999     </td><td>16.64702 </td><td>18.77766 </td><td>20.727349</td><td>16.766125</td></tr>\n",
       "\t<tr><td>2        </td><td>2000     </td><td>88.94860 </td><td>92.46872 </td><td>85.425926</td><td>25.821003</td></tr>\n",
       "\t<tr><td>3        </td><td>1998     </td><td>82.33251 </td><td>18.43848 </td><td>72.428504</td><td>30.069440</td></tr>\n",
       "\t<tr><td>3        </td><td>1999     </td><td>36.98951 </td><td>74.12204 </td><td>70.804638</td><td>46.723383</td></tr>\n",
       "\t<tr><td>3        </td><td>2000     </td><td>19.79196 </td><td>41.06764 </td><td>44.210498</td><td>68.088605</td></tr>\n",
       "</tbody>\n",
       "</table>\n"
      ],
      "text/latex": [
       "\\begin{tabular}{r|llllll}\n",
       " firma & jahr & Qtr1 & Qtr2 & Qtr3 & Qtr4\\\\\n",
       "\\hline\n",
       "\t 1         & 1998      & 87.47157  & 15.28078  & 23.571765 &  7.014554\\\\\n",
       "\t 1         & 1999      & 27.29214  & 83.72309  &  5.300331 & 30.810351\\\\\n",
       "\t 1         & 2000      & 95.05862  & 28.71396  & 45.258085 &  1.124289\\\\\n",
       "\t 2         & 1998      & 73.14976  & 39.34447  &  1.585104 & 98.313194\\\\\n",
       "\t 2         & 1999      & 16.64702  & 18.77766  & 20.727349 & 16.766125\\\\\n",
       "\t 2         & 2000      & 88.94860  & 92.46872  & 85.425926 & 25.821003\\\\\n",
       "\t 3         & 1998      & 82.33251  & 18.43848  & 72.428504 & 30.069440\\\\\n",
       "\t 3         & 1999      & 36.98951  & 74.12204  & 70.804638 & 46.723383\\\\\n",
       "\t 3         & 2000      & 19.79196  & 41.06764  & 44.210498 & 68.088605\\\\\n",
       "\\end{tabular}\n"
      ],
      "text/markdown": [
       "\n",
       "| firma | jahr | Qtr1 | Qtr2 | Qtr3 | Qtr4 |\n",
       "|---|---|---|---|---|---|\n",
       "| 1         | 1998      | 87.47157  | 15.28078  | 23.571765 |  7.014554 |\n",
       "| 1         | 1999      | 27.29214  | 83.72309  |  5.300331 | 30.810351 |\n",
       "| 1         | 2000      | 95.05862  | 28.71396  | 45.258085 |  1.124289 |\n",
       "| 2         | 1998      | 73.14976  | 39.34447  |  1.585104 | 98.313194 |\n",
       "| 2         | 1999      | 16.64702  | 18.77766  | 20.727349 | 16.766125 |\n",
       "| 2         | 2000      | 88.94860  | 92.46872  | 85.425926 | 25.821003 |\n",
       "| 3         | 1998      | 82.33251  | 18.43848  | 72.428504 | 30.069440 |\n",
       "| 3         | 1999      | 36.98951  | 74.12204  | 70.804638 | 46.723383 |\n",
       "| 3         | 2000      | 19.79196  | 41.06764  | 44.210498 | 68.088605 |\n",
       "\n"
      ],
      "text/plain": [
       "  firma jahr Qtr1     Qtr2     Qtr3      Qtr4     \n",
       "1 1     1998 87.47157 15.28078 23.571765  7.014554\n",
       "2 1     1999 27.29214 83.72309  5.300331 30.810351\n",
       "3 1     2000 95.05862 28.71396 45.258085  1.124289\n",
       "4 2     1998 73.14976 39.34447  1.585104 98.313194\n",
       "5 2     1999 16.64702 18.77766 20.727349 16.766125\n",
       "6 2     2000 88.94860 92.46872 85.425926 25.821003\n",
       "7 3     1998 82.33251 18.43848 72.428504 30.069440\n",
       "8 3     1999 36.98951 74.12204 70.804638 46.723383\n",
       "9 3     2000 19.79196 41.06764 44.210498 68.088605"
      ]
     },
     "metadata": {},
     "output_type": "display_data"
    }
   ],
   "source": [
    "df"
   ]
  },
  {
   "cell_type": "markdown",
   "metadata": {},
   "source": [
    "# Gather() und Spread()\n",
    "\n",
    "Manchmal vergleichen Leute diese Operationen mit Pivot-Tabellen in Excel. Schauen wir uns einige Beispiele an:"
   ]
  },
  {
   "cell_type": "markdown",
   "metadata": {},
   "source": [
    "## gather()\n",
    "\n",
    "Die `gather()` Funktion fasst mehrere Spalten in Schlüssel-Paar Werte zusammen. Der Data Frame von oben würde als \"breit\" bezeichnet werden, da jedes Quartal eine eigene Spalte bzw. Variable hat. Um diese Zeitdimension neu zu ordnen, können wir alle Quartale in eine Spalte vereinen. Außerdem können wir dann alle Werte, die mit den einzelnen Quartalen asoziiert sind, in eine zweite Spalte schreiben."
   ]
  },
  {
   "cell_type": "code",
   "execution_count": 9,
   "metadata": {},
   "outputs": [
    {
     "data": {
      "text/html": [
       "<table>\n",
       "<thead><tr><th scope=col>firma</th><th scope=col>jahr</th><th scope=col>Quartal</th><th scope=col>Umsatz</th></tr></thead>\n",
       "<tbody>\n",
       "\t<tr><td>1       </td><td>1998    </td><td>Qtr1    </td><td>87.47157</td></tr>\n",
       "\t<tr><td>1       </td><td>1999    </td><td>Qtr1    </td><td>27.29214</td></tr>\n",
       "\t<tr><td>1       </td><td>2000    </td><td>Qtr1    </td><td>95.05862</td></tr>\n",
       "\t<tr><td>2       </td><td>1998    </td><td>Qtr1    </td><td>73.14976</td></tr>\n",
       "\t<tr><td>2       </td><td>1999    </td><td>Qtr1    </td><td>16.64702</td></tr>\n",
       "\t<tr><td>2       </td><td>2000    </td><td>Qtr1    </td><td>88.94860</td></tr>\n",
       "</tbody>\n",
       "</table>\n"
      ],
      "text/latex": [
       "\\begin{tabular}{r|llll}\n",
       " firma & jahr & Quartal & Umsatz\\\\\n",
       "\\hline\n",
       "\t 1        & 1998     & Qtr1     & 87.47157\\\\\n",
       "\t 1        & 1999     & Qtr1     & 27.29214\\\\\n",
       "\t 1        & 2000     & Qtr1     & 95.05862\\\\\n",
       "\t 2        & 1998     & Qtr1     & 73.14976\\\\\n",
       "\t 2        & 1999     & Qtr1     & 16.64702\\\\\n",
       "\t 2        & 2000     & Qtr1     & 88.94860\\\\\n",
       "\\end{tabular}\n"
      ],
      "text/markdown": [
       "\n",
       "| firma | jahr | Quartal | Umsatz |\n",
       "|---|---|---|---|\n",
       "| 1        | 1998     | Qtr1     | 87.47157 |\n",
       "| 1        | 1999     | Qtr1     | 27.29214 |\n",
       "| 1        | 2000     | Qtr1     | 95.05862 |\n",
       "| 2        | 1998     | Qtr1     | 73.14976 |\n",
       "| 2        | 1999     | Qtr1     | 16.64702 |\n",
       "| 2        | 2000     | Qtr1     | 88.94860 |\n",
       "\n"
      ],
      "text/plain": [
       "  firma jahr Quartal Umsatz  \n",
       "1 1     1998 Qtr1    87.47157\n",
       "2 1     1999 Qtr1    27.29214\n",
       "3 1     2000 Qtr1    95.05862\n",
       "4 2     1998 Qtr1    73.14976\n",
       "5 2     1999 Qtr1    16.64702\n",
       "6 2     2000 Qtr1    88.94860"
      ]
     },
     "metadata": {},
     "output_type": "display_data"
    }
   ],
   "source": [
    "# Unter Verwendung des Pipe Operators\n",
    "df %>% gather(Quartal,Umsatz,Qtr1:Qtr4) %>% head"
   ]
  },
  {
   "cell_type": "code",
   "execution_count": 10,
   "metadata": {},
   "outputs": [
    {
     "data": {
      "text/html": [
       "<table>\n",
       "<thead><tr><th scope=col>firma</th><th scope=col>jahr</th><th scope=col>Quartal</th><th scope=col>Umsatz</th></tr></thead>\n",
       "<tbody>\n",
       "\t<tr><td>1       </td><td>1998    </td><td>Qtr1    </td><td>87.47157</td></tr>\n",
       "\t<tr><td>1       </td><td>1999    </td><td>Qtr1    </td><td>27.29214</td></tr>\n",
       "\t<tr><td>1       </td><td>2000    </td><td>Qtr1    </td><td>95.05862</td></tr>\n",
       "\t<tr><td>2       </td><td>1998    </td><td>Qtr1    </td><td>73.14976</td></tr>\n",
       "\t<tr><td>2       </td><td>1999    </td><td>Qtr1    </td><td>16.64702</td></tr>\n",
       "\t<tr><td>2       </td><td>2000    </td><td>Qtr1    </td><td>88.94860</td></tr>\n",
       "</tbody>\n",
       "</table>\n"
      ],
      "text/latex": [
       "\\begin{tabular}{r|llll}\n",
       " firma & jahr & Quartal & Umsatz\\\\\n",
       "\\hline\n",
       "\t 1        & 1998     & Qtr1     & 87.47157\\\\\n",
       "\t 1        & 1999     & Qtr1     & 27.29214\\\\\n",
       "\t 1        & 2000     & Qtr1     & 95.05862\\\\\n",
       "\t 2        & 1998     & Qtr1     & 73.14976\\\\\n",
       "\t 2        & 1999     & Qtr1     & 16.64702\\\\\n",
       "\t 2        & 2000     & Qtr1     & 88.94860\\\\\n",
       "\\end{tabular}\n"
      ],
      "text/markdown": [
       "\n",
       "| firma | jahr | Quartal | Umsatz |\n",
       "|---|---|---|---|\n",
       "| 1        | 1998     | Qtr1     | 87.47157 |\n",
       "| 1        | 1999     | Qtr1     | 27.29214 |\n",
       "| 1        | 2000     | Qtr1     | 95.05862 |\n",
       "| 2        | 1998     | Qtr1     | 73.14976 |\n",
       "| 2        | 1999     | Qtr1     | 16.64702 |\n",
       "| 2        | 2000     | Qtr1     | 88.94860 |\n",
       "\n"
      ],
      "text/plain": [
       "  firma jahr Quartal Umsatz  \n",
       "1 1     1998 Qtr1    87.47157\n",
       "2 1     1999 Qtr1    27.29214\n",
       "3 1     2000 Qtr1    95.05862\n",
       "4 2     1998 Qtr1    73.14976\n",
       "5 2     1999 Qtr1    16.64702\n",
       "6 2     2000 Qtr1    88.94860"
      ]
     },
     "metadata": {},
     "output_type": "display_data"
    }
   ],
   "source": [
    "# Nur mit der Funktion\n",
    "head(gather(df,Quartal,Umsatz,Qtr1:Qtr4))"
   ]
  },
  {
   "cell_type": "markdown",
   "metadata": {},
   "source": [
    "## spread()\n",
    "\n",
    "Ist das Gegenstück zu `gather()`:"
   ]
  },
  {
   "cell_type": "code",
   "execution_count": 15,
   "metadata": {
    "scrolled": true
   },
   "outputs": [
    {
     "data": {
      "text/html": [
       "<table>\n",
       "<thead><tr><th scope=col>datum</th><th scope=col>GOOG</th><th scope=col>TSLA</th><th scope=col>MSFT</th></tr></thead>\n",
       "<tbody>\n",
       "\t<tr><td>2009-01-01 </td><td>-0.97225318</td><td> 2.32337025</td><td>-1.9963137 </td></tr>\n",
       "\t<tr><td>2009-01-02 </td><td> 0.13095594</td><td>-2.49209090</td><td> 0.6191049 </td></tr>\n",
       "\t<tr><td>2009-01-03 </td><td>-0.62116557</td><td>-2.73842573</td><td>-4.8257505 </td></tr>\n",
       "\t<tr><td>2009-01-04 </td><td>-1.28596389</td><td>-0.83800287</td><td> 7.0864154 </td></tr>\n",
       "\t<tr><td>2009-01-05 </td><td> 0.77076266</td><td>-1.33986971</td><td>-6.0641254 </td></tr>\n",
       "\t<tr><td>2009-01-06 </td><td> 1.39330964</td><td>-0.36729839</td><td>-3.4876813 </td></tr>\n",
       "\t<tr><td>2009-01-07 </td><td>-1.35689468</td><td> 1.08151492</td><td>-4.0087587 </td></tr>\n",
       "\t<tr><td>2009-01-08 </td><td> 0.05177523</td><td>-1.73762695</td><td> 2.1686812 </td></tr>\n",
       "\t<tr><td>2009-01-09 </td><td>-0.73093871</td><td> 0.08815671</td><td> 5.5125539 </td></tr>\n",
       "\t<tr><td>2009-01-10 </td><td> 1.81492124</td><td> 1.85688997</td><td> 4.7441420 </td></tr>\n",
       "</tbody>\n",
       "</table>\n"
      ],
      "text/latex": [
       "\\begin{tabular}{r|llll}\n",
       " datum & GOOG & TSLA & MSFT\\\\\n",
       "\\hline\n",
       "\t 2009-01-01  & -0.97225318 &  2.32337025 & -1.9963137 \\\\\n",
       "\t 2009-01-02  &  0.13095594 & -2.49209090 &  0.6191049 \\\\\n",
       "\t 2009-01-03  & -0.62116557 & -2.73842573 & -4.8257505 \\\\\n",
       "\t 2009-01-04  & -1.28596389 & -0.83800287 &  7.0864154 \\\\\n",
       "\t 2009-01-05  &  0.77076266 & -1.33986971 & -6.0641254 \\\\\n",
       "\t 2009-01-06  &  1.39330964 & -0.36729839 & -3.4876813 \\\\\n",
       "\t 2009-01-07  & -1.35689468 &  1.08151492 & -4.0087587 \\\\\n",
       "\t 2009-01-08  &  0.05177523 & -1.73762695 &  2.1686812 \\\\\n",
       "\t 2009-01-09  & -0.73093871 &  0.08815671 &  5.5125539 \\\\\n",
       "\t 2009-01-10  &  1.81492124 &  1.85688997 &  4.7441420 \\\\\n",
       "\\end{tabular}\n"
      ],
      "text/markdown": [
       "\n",
       "| datum | GOOG | TSLA | MSFT |\n",
       "|---|---|---|---|\n",
       "| 2009-01-01  | -0.97225318 |  2.32337025 | -1.9963137  |\n",
       "| 2009-01-02  |  0.13095594 | -2.49209090 |  0.6191049  |\n",
       "| 2009-01-03  | -0.62116557 | -2.73842573 | -4.8257505  |\n",
       "| 2009-01-04  | -1.28596389 | -0.83800287 |  7.0864154  |\n",
       "| 2009-01-05  |  0.77076266 | -1.33986971 | -6.0641254  |\n",
       "| 2009-01-06  |  1.39330964 | -0.36729839 | -3.4876813  |\n",
       "| 2009-01-07  | -1.35689468 |  1.08151492 | -4.0087587  |\n",
       "| 2009-01-08  |  0.05177523 | -1.73762695 |  2.1686812  |\n",
       "| 2009-01-09  | -0.73093871 |  0.08815671 |  5.5125539  |\n",
       "| 2009-01-10  |  1.81492124 |  1.85688997 |  4.7441420  |\n",
       "\n"
      ],
      "text/plain": [
       "   datum      GOOG        TSLA        MSFT      \n",
       "1  2009-01-01 -0.97225318  2.32337025 -1.9963137\n",
       "2  2009-01-02  0.13095594 -2.49209090  0.6191049\n",
       "3  2009-01-03 -0.62116557 -2.73842573 -4.8257505\n",
       "4  2009-01-04 -1.28596389 -0.83800287  7.0864154\n",
       "5  2009-01-05  0.77076266 -1.33986971 -6.0641254\n",
       "6  2009-01-06  1.39330964 -0.36729839 -3.4876813\n",
       "7  2009-01-07 -1.35689468  1.08151492 -4.0087587\n",
       "8  2009-01-08  0.05177523 -1.73762695  2.1686812\n",
       "9  2009-01-09 -0.73093871  0.08815671  5.5125539\n",
       "10 2009-01-10  1.81492124  1.85688997  4.7441420"
      ]
     },
     "metadata": {},
     "output_type": "display_data"
    }
   ],
   "source": [
    "# Step 1.\n",
    "aktien <- data.frame(\n",
    "  datum = as.Date('2009-01-01') + 0:9,\n",
    "  GOOG = rnorm(10, 0, 1),\n",
    "  TSLA = rnorm(10, 0, 2),\n",
    "  MSFT = rnorm(10, 0, 4)\n",
    ")\n",
    "aktien"
   ]
  },
  {
   "cell_type": "code",
   "execution_count": 16,
   "metadata": {},
   "outputs": [
    {
     "data": {
      "text/html": [
       "<table>\n",
       "<thead><tr><th scope=col>datum</th><th scope=col>aktie</th><th scope=col>preis</th></tr></thead>\n",
       "<tbody>\n",
       "\t<tr><td>2009-01-01 </td><td>GOOG       </td><td>-0.97225318</td></tr>\n",
       "\t<tr><td>2009-01-02 </td><td>GOOG       </td><td> 0.13095594</td></tr>\n",
       "\t<tr><td>2009-01-03 </td><td>GOOG       </td><td>-0.62116557</td></tr>\n",
       "\t<tr><td>2009-01-04 </td><td>GOOG       </td><td>-1.28596389</td></tr>\n",
       "\t<tr><td>2009-01-05 </td><td>GOOG       </td><td> 0.77076266</td></tr>\n",
       "\t<tr><td>2009-01-06 </td><td>GOOG       </td><td> 1.39330964</td></tr>\n",
       "\t<tr><td>2009-01-07 </td><td>GOOG       </td><td>-1.35689468</td></tr>\n",
       "\t<tr><td>2009-01-08 </td><td>GOOG       </td><td> 0.05177523</td></tr>\n",
       "\t<tr><td>2009-01-09 </td><td>GOOG       </td><td>-0.73093871</td></tr>\n",
       "\t<tr><td>2009-01-10 </td><td>GOOG       </td><td> 1.81492124</td></tr>\n",
       "\t<tr><td>2009-01-01 </td><td>TSLA       </td><td> 2.32337025</td></tr>\n",
       "\t<tr><td>2009-01-02 </td><td>TSLA       </td><td>-2.49209090</td></tr>\n",
       "\t<tr><td>2009-01-03 </td><td>TSLA       </td><td>-2.73842573</td></tr>\n",
       "\t<tr><td>2009-01-04 </td><td>TSLA       </td><td>-0.83800287</td></tr>\n",
       "\t<tr><td>2009-01-05 </td><td>TSLA       </td><td>-1.33986971</td></tr>\n",
       "\t<tr><td>2009-01-06 </td><td>TSLA       </td><td>-0.36729839</td></tr>\n",
       "\t<tr><td>2009-01-07 </td><td>TSLA       </td><td> 1.08151492</td></tr>\n",
       "\t<tr><td>2009-01-08 </td><td>TSLA       </td><td>-1.73762695</td></tr>\n",
       "\t<tr><td>2009-01-09 </td><td>TSLA       </td><td> 0.08815671</td></tr>\n",
       "\t<tr><td>2009-01-10 </td><td>TSLA       </td><td> 1.85688997</td></tr>\n",
       "\t<tr><td>2009-01-01 </td><td>MSFT       </td><td>-1.99631367</td></tr>\n",
       "\t<tr><td>2009-01-02 </td><td>MSFT       </td><td> 0.61910493</td></tr>\n",
       "\t<tr><td>2009-01-03 </td><td>MSFT       </td><td>-4.82575045</td></tr>\n",
       "\t<tr><td>2009-01-04 </td><td>MSFT       </td><td> 7.08641541</td></tr>\n",
       "\t<tr><td>2009-01-05 </td><td>MSFT       </td><td>-6.06412544</td></tr>\n",
       "\t<tr><td>2009-01-06 </td><td>MSFT       </td><td>-3.48768130</td></tr>\n",
       "\t<tr><td>2009-01-07 </td><td>MSFT       </td><td>-4.00875870</td></tr>\n",
       "\t<tr><td>2009-01-08 </td><td>MSFT       </td><td> 2.16868124</td></tr>\n",
       "\t<tr><td>2009-01-09 </td><td>MSFT       </td><td> 5.51255385</td></tr>\n",
       "\t<tr><td>2009-01-10 </td><td>MSFT       </td><td> 4.74414198</td></tr>\n",
       "</tbody>\n",
       "</table>\n"
      ],
      "text/latex": [
       "\\begin{tabular}{r|lll}\n",
       " datum & aktie & preis\\\\\n",
       "\\hline\n",
       "\t 2009-01-01  & GOOG        & -0.97225318\\\\\n",
       "\t 2009-01-02  & GOOG        &  0.13095594\\\\\n",
       "\t 2009-01-03  & GOOG        & -0.62116557\\\\\n",
       "\t 2009-01-04  & GOOG        & -1.28596389\\\\\n",
       "\t 2009-01-05  & GOOG        &  0.77076266\\\\\n",
       "\t 2009-01-06  & GOOG        &  1.39330964\\\\\n",
       "\t 2009-01-07  & GOOG        & -1.35689468\\\\\n",
       "\t 2009-01-08  & GOOG        &  0.05177523\\\\\n",
       "\t 2009-01-09  & GOOG        & -0.73093871\\\\\n",
       "\t 2009-01-10  & GOOG        &  1.81492124\\\\\n",
       "\t 2009-01-01  & TSLA        &  2.32337025\\\\\n",
       "\t 2009-01-02  & TSLA        & -2.49209090\\\\\n",
       "\t 2009-01-03  & TSLA        & -2.73842573\\\\\n",
       "\t 2009-01-04  & TSLA        & -0.83800287\\\\\n",
       "\t 2009-01-05  & TSLA        & -1.33986971\\\\\n",
       "\t 2009-01-06  & TSLA        & -0.36729839\\\\\n",
       "\t 2009-01-07  & TSLA        &  1.08151492\\\\\n",
       "\t 2009-01-08  & TSLA        & -1.73762695\\\\\n",
       "\t 2009-01-09  & TSLA        &  0.08815671\\\\\n",
       "\t 2009-01-10  & TSLA        &  1.85688997\\\\\n",
       "\t 2009-01-01  & MSFT        & -1.99631367\\\\\n",
       "\t 2009-01-02  & MSFT        &  0.61910493\\\\\n",
       "\t 2009-01-03  & MSFT        & -4.82575045\\\\\n",
       "\t 2009-01-04  & MSFT        &  7.08641541\\\\\n",
       "\t 2009-01-05  & MSFT        & -6.06412544\\\\\n",
       "\t 2009-01-06  & MSFT        & -3.48768130\\\\\n",
       "\t 2009-01-07  & MSFT        & -4.00875870\\\\\n",
       "\t 2009-01-08  & MSFT        &  2.16868124\\\\\n",
       "\t 2009-01-09  & MSFT        &  5.51255385\\\\\n",
       "\t 2009-01-10  & MSFT        &  4.74414198\\\\\n",
       "\\end{tabular}\n"
      ],
      "text/markdown": [
       "\n",
       "| datum | aktie | preis |\n",
       "|---|---|---|\n",
       "| 2009-01-01  | GOOG        | -0.97225318 |\n",
       "| 2009-01-02  | GOOG        |  0.13095594 |\n",
       "| 2009-01-03  | GOOG        | -0.62116557 |\n",
       "| 2009-01-04  | GOOG        | -1.28596389 |\n",
       "| 2009-01-05  | GOOG        |  0.77076266 |\n",
       "| 2009-01-06  | GOOG        |  1.39330964 |\n",
       "| 2009-01-07  | GOOG        | -1.35689468 |\n",
       "| 2009-01-08  | GOOG        |  0.05177523 |\n",
       "| 2009-01-09  | GOOG        | -0.73093871 |\n",
       "| 2009-01-10  | GOOG        |  1.81492124 |\n",
       "| 2009-01-01  | TSLA        |  2.32337025 |\n",
       "| 2009-01-02  | TSLA        | -2.49209090 |\n",
       "| 2009-01-03  | TSLA        | -2.73842573 |\n",
       "| 2009-01-04  | TSLA        | -0.83800287 |\n",
       "| 2009-01-05  | TSLA        | -1.33986971 |\n",
       "| 2009-01-06  | TSLA        | -0.36729839 |\n",
       "| 2009-01-07  | TSLA        |  1.08151492 |\n",
       "| 2009-01-08  | TSLA        | -1.73762695 |\n",
       "| 2009-01-09  | TSLA        |  0.08815671 |\n",
       "| 2009-01-10  | TSLA        |  1.85688997 |\n",
       "| 2009-01-01  | MSFT        | -1.99631367 |\n",
       "| 2009-01-02  | MSFT        |  0.61910493 |\n",
       "| 2009-01-03  | MSFT        | -4.82575045 |\n",
       "| 2009-01-04  | MSFT        |  7.08641541 |\n",
       "| 2009-01-05  | MSFT        | -6.06412544 |\n",
       "| 2009-01-06  | MSFT        | -3.48768130 |\n",
       "| 2009-01-07  | MSFT        | -4.00875870 |\n",
       "| 2009-01-08  | MSFT        |  2.16868124 |\n",
       "| 2009-01-09  | MSFT        |  5.51255385 |\n",
       "| 2009-01-10  | MSFT        |  4.74414198 |\n",
       "\n"
      ],
      "text/plain": [
       "   datum      aktie preis      \n",
       "1  2009-01-01 GOOG  -0.97225318\n",
       "2  2009-01-02 GOOG   0.13095594\n",
       "3  2009-01-03 GOOG  -0.62116557\n",
       "4  2009-01-04 GOOG  -1.28596389\n",
       "5  2009-01-05 GOOG   0.77076266\n",
       "6  2009-01-06 GOOG   1.39330964\n",
       "7  2009-01-07 GOOG  -1.35689468\n",
       "8  2009-01-08 GOOG   0.05177523\n",
       "9  2009-01-09 GOOG  -0.73093871\n",
       "10 2009-01-10 GOOG   1.81492124\n",
       "11 2009-01-01 TSLA   2.32337025\n",
       "12 2009-01-02 TSLA  -2.49209090\n",
       "13 2009-01-03 TSLA  -2.73842573\n",
       "14 2009-01-04 TSLA  -0.83800287\n",
       "15 2009-01-05 TSLA  -1.33986971\n",
       "16 2009-01-06 TSLA  -0.36729839\n",
       "17 2009-01-07 TSLA   1.08151492\n",
       "18 2009-01-08 TSLA  -1.73762695\n",
       "19 2009-01-09 TSLA   0.08815671\n",
       "20 2009-01-10 TSLA   1.85688997\n",
       "21 2009-01-01 MSFT  -1.99631367\n",
       "22 2009-01-02 MSFT   0.61910493\n",
       "23 2009-01-03 MSFT  -4.82575045\n",
       "24 2009-01-04 MSFT   7.08641541\n",
       "25 2009-01-05 MSFT  -6.06412544\n",
       "26 2009-01-06 MSFT  -3.48768130\n",
       "27 2009-01-07 MSFT  -4.00875870\n",
       "28 2009-01-08 MSFT   2.16868124\n",
       "29 2009-01-09 MSFT   5.51255385\n",
       "30 2009-01-10 MSFT   4.74414198"
      ]
     },
     "metadata": {},
     "output_type": "display_data"
    }
   ],
   "source": [
    "# Step 2.\n",
    "# Daten als Key-Value Paare darstellen\n",
    "aktienm <- aktien %>% gather(\"aktie\", \"preis\", -datum)\n",
    "aktienm # 30 x 3 Datensatz"
   ]
  },
  {
   "cell_type": "code",
   "execution_count": 17,
   "metadata": {},
   "outputs": [
    {
     "data": {
      "text/html": [
       "<table>\n",
       "<thead><tr><th scope=col>datum</th><th scope=col>GOOG</th><th scope=col>MSFT</th><th scope=col>TSLA</th></tr></thead>\n",
       "<tbody>\n",
       "\t<tr><td>2009-01-01 </td><td>-0.97225318</td><td>-1.9963137 </td><td> 2.32337025</td></tr>\n",
       "\t<tr><td>2009-01-02 </td><td> 0.13095594</td><td> 0.6191049 </td><td>-2.49209090</td></tr>\n",
       "\t<tr><td>2009-01-03 </td><td>-0.62116557</td><td>-4.8257505 </td><td>-2.73842573</td></tr>\n",
       "\t<tr><td>2009-01-04 </td><td>-1.28596389</td><td> 7.0864154 </td><td>-0.83800287</td></tr>\n",
       "\t<tr><td>2009-01-05 </td><td> 0.77076266</td><td>-6.0641254 </td><td>-1.33986971</td></tr>\n",
       "\t<tr><td>2009-01-06 </td><td> 1.39330964</td><td>-3.4876813 </td><td>-0.36729839</td></tr>\n",
       "\t<tr><td>2009-01-07 </td><td>-1.35689468</td><td>-4.0087587 </td><td> 1.08151492</td></tr>\n",
       "\t<tr><td>2009-01-08 </td><td> 0.05177523</td><td> 2.1686812 </td><td>-1.73762695</td></tr>\n",
       "\t<tr><td>2009-01-09 </td><td>-0.73093871</td><td> 5.5125539 </td><td> 0.08815671</td></tr>\n",
       "\t<tr><td>2009-01-10 </td><td> 1.81492124</td><td> 4.7441420 </td><td> 1.85688997</td></tr>\n",
       "</tbody>\n",
       "</table>\n"
      ],
      "text/latex": [
       "\\begin{tabular}{r|llll}\n",
       " datum & GOOG & MSFT & TSLA\\\\\n",
       "\\hline\n",
       "\t 2009-01-01  & -0.97225318 & -1.9963137  &  2.32337025\\\\\n",
       "\t 2009-01-02  &  0.13095594 &  0.6191049  & -2.49209090\\\\\n",
       "\t 2009-01-03  & -0.62116557 & -4.8257505  & -2.73842573\\\\\n",
       "\t 2009-01-04  & -1.28596389 &  7.0864154  & -0.83800287\\\\\n",
       "\t 2009-01-05  &  0.77076266 & -6.0641254  & -1.33986971\\\\\n",
       "\t 2009-01-06  &  1.39330964 & -3.4876813  & -0.36729839\\\\\n",
       "\t 2009-01-07  & -1.35689468 & -4.0087587  &  1.08151492\\\\\n",
       "\t 2009-01-08  &  0.05177523 &  2.1686812  & -1.73762695\\\\\n",
       "\t 2009-01-09  & -0.73093871 &  5.5125539  &  0.08815671\\\\\n",
       "\t 2009-01-10  &  1.81492124 &  4.7441420  &  1.85688997\\\\\n",
       "\\end{tabular}\n"
      ],
      "text/markdown": [
       "\n",
       "| datum | GOOG | MSFT | TSLA |\n",
       "|---|---|---|---|\n",
       "| 2009-01-01  | -0.97225318 | -1.9963137  |  2.32337025 |\n",
       "| 2009-01-02  |  0.13095594 |  0.6191049  | -2.49209090 |\n",
       "| 2009-01-03  | -0.62116557 | -4.8257505  | -2.73842573 |\n",
       "| 2009-01-04  | -1.28596389 |  7.0864154  | -0.83800287 |\n",
       "| 2009-01-05  |  0.77076266 | -6.0641254  | -1.33986971 |\n",
       "| 2009-01-06  |  1.39330964 | -3.4876813  | -0.36729839 |\n",
       "| 2009-01-07  | -1.35689468 | -4.0087587  |  1.08151492 |\n",
       "| 2009-01-08  |  0.05177523 |  2.1686812  | -1.73762695 |\n",
       "| 2009-01-09  | -0.73093871 |  5.5125539  |  0.08815671 |\n",
       "| 2009-01-10  |  1.81492124 |  4.7441420  |  1.85688997 |\n",
       "\n"
      ],
      "text/plain": [
       "   datum      GOOG        MSFT       TSLA       \n",
       "1  2009-01-01 -0.97225318 -1.9963137  2.32337025\n",
       "2  2009-01-02  0.13095594  0.6191049 -2.49209090\n",
       "3  2009-01-03 -0.62116557 -4.8257505 -2.73842573\n",
       "4  2009-01-04 -1.28596389  7.0864154 -0.83800287\n",
       "5  2009-01-05  0.77076266 -6.0641254 -1.33986971\n",
       "6  2009-01-06  1.39330964 -3.4876813 -0.36729839\n",
       "7  2009-01-07 -1.35689468 -4.0087587  1.08151492\n",
       "8  2009-01-08  0.05177523  2.1686812 -1.73762695\n",
       "9  2009-01-09 -0.73093871  5.5125539  0.08815671\n",
       "10 2009-01-10  1.81492124  4.7441420  1.85688997"
      ]
     },
     "metadata": {},
     "output_type": "display_data"
    }
   ],
   "source": [
    "# Step 3.\n",
    "# Key-Value Datensätze über Aktie darstellen\n",
    "aktienm %>% spread(\"aktie\", \"preis\")"
   ]
  },
  {
   "cell_type": "code",
   "execution_count": 18,
   "metadata": {},
   "outputs": [
    {
     "data": {
      "text/html": [
       "<table>\n",
       "<thead><tr><th scope=col>aktie</th><th scope=col>2009-01-01</th><th scope=col>2009-01-02</th><th scope=col>2009-01-03</th><th scope=col>2009-01-04</th><th scope=col>2009-01-05</th><th scope=col>2009-01-06</th><th scope=col>2009-01-07</th><th scope=col>2009-01-08</th><th scope=col>2009-01-09</th><th scope=col>2009-01-10</th></tr></thead>\n",
       "<tbody>\n",
       "\t<tr><td>GOOG       </td><td>-0.9722532 </td><td> 0.1309559 </td><td>-0.6211656 </td><td>-1.2859639 </td><td> 0.7707627 </td><td> 1.3933096 </td><td>-1.356895  </td><td> 0.05177523</td><td>-0.73093871</td><td>1.814921   </td></tr>\n",
       "\t<tr><td>MSFT       </td><td>-1.9963137 </td><td> 0.6191049 </td><td>-4.8257505 </td><td> 7.0864154 </td><td>-6.0641254 </td><td>-3.4876813 </td><td>-4.008759  </td><td> 2.16868124</td><td> 5.51255385</td><td>4.744142   </td></tr>\n",
       "\t<tr><td>TSLA       </td><td> 2.3233703 </td><td>-2.4920909 </td><td>-2.7384257 </td><td>-0.8380029 </td><td>-1.3398697 </td><td>-0.3672984 </td><td> 1.081515  </td><td>-1.73762695</td><td> 0.08815671</td><td>1.856890   </td></tr>\n",
       "</tbody>\n",
       "</table>\n"
      ],
      "text/latex": [
       "\\begin{tabular}{r|lllllllllll}\n",
       " aktie & 2009-01-01 & 2009-01-02 & 2009-01-03 & 2009-01-04 & 2009-01-05 & 2009-01-06 & 2009-01-07 & 2009-01-08 & 2009-01-09 & 2009-01-10\\\\\n",
       "\\hline\n",
       "\t GOOG        & -0.9722532  &  0.1309559  & -0.6211656  & -1.2859639  &  0.7707627  &  1.3933096  & -1.356895   &  0.05177523 & -0.73093871 & 1.814921   \\\\\n",
       "\t MSFT        & -1.9963137  &  0.6191049  & -4.8257505  &  7.0864154  & -6.0641254  & -3.4876813  & -4.008759   &  2.16868124 &  5.51255385 & 4.744142   \\\\\n",
       "\t TSLA        &  2.3233703  & -2.4920909  & -2.7384257  & -0.8380029  & -1.3398697  & -0.3672984  &  1.081515   & -1.73762695 &  0.08815671 & 1.856890   \\\\\n",
       "\\end{tabular}\n"
      ],
      "text/markdown": [
       "\n",
       "| aktie | 2009-01-01 | 2009-01-02 | 2009-01-03 | 2009-01-04 | 2009-01-05 | 2009-01-06 | 2009-01-07 | 2009-01-08 | 2009-01-09 | 2009-01-10 |\n",
       "|---|---|---|---|---|---|---|---|---|---|---|\n",
       "| GOOG        | -0.9722532  |  0.1309559  | -0.6211656  | -1.2859639  |  0.7707627  |  1.3933096  | -1.356895   |  0.05177523 | -0.73093871 | 1.814921    |\n",
       "| MSFT        | -1.9963137  |  0.6191049  | -4.8257505  |  7.0864154  | -6.0641254  | -3.4876813  | -4.008759   |  2.16868124 |  5.51255385 | 4.744142    |\n",
       "| TSLA        |  2.3233703  | -2.4920909  | -2.7384257  | -0.8380029  | -1.3398697  | -0.3672984  |  1.081515   | -1.73762695 |  0.08815671 | 1.856890    |\n",
       "\n"
      ],
      "text/plain": [
       "  aktie 2009-01-01 2009-01-02 2009-01-03 2009-01-04 2009-01-05 2009-01-06\n",
       "1 GOOG  -0.9722532  0.1309559 -0.6211656 -1.2859639  0.7707627  1.3933096\n",
       "2 MSFT  -1.9963137  0.6191049 -4.8257505  7.0864154 -6.0641254 -3.4876813\n",
       "3 TSLA   2.3233703 -2.4920909 -2.7384257 -0.8380029 -1.3398697 -0.3672984\n",
       "  2009-01-07 2009-01-08  2009-01-09  2009-01-10\n",
       "1 -1.356895   0.05177523 -0.73093871 1.814921  \n",
       "2 -4.008759   2.16868124  5.51255385 4.744142  \n",
       "3  1.081515  -1.73762695  0.08815671 1.856890  "
      ]
     },
     "metadata": {},
     "output_type": "display_data"
    }
   ],
   "source": [
    "# Step 3.\n",
    "# Key-Value Datensätze über Datum darstellen\n",
    "aktienm %>% spread(\"datum\", \"preis\")"
   ]
  },
  {
   "cell_type": "markdown",
   "metadata": {},
   "source": [
    "# Separate und Unite"
   ]
  },
  {
   "cell_type": "markdown",
   "metadata": {},
   "source": [
    "## separate()\n",
    "\n",
    "Ausgehend von einer Regular Expression oder einem Vektor von Zeichenpositionen kann `separate()` eine einzelne Spalte in mehrere aufteilen:"
   ]
  },
  {
   "cell_type": "code",
   "execution_count": 34,
   "metadata": {},
   "outputs": [
    {
     "data": {
      "text/html": [
       "<ol class=list-inline>\n",
       "\t<li>NA</li>\n",
       "\t<li>'a_._x_j'</li>\n",
       "\t<li>'b_y'</li>\n",
       "\t<li>'c_z_w'</li>\n",
       "</ol>\n"
      ],
      "text/latex": [
       "\\begin{enumerate*}\n",
       "\\item NA\n",
       "\\item 'a\\_.\\_x\\_j'\n",
       "\\item 'b\\_y'\n",
       "\\item 'c\\_z\\_w'\n",
       "\\end{enumerate*}\n"
      ],
      "text/markdown": [
       "1. NA\n",
       "2. 'a_._x_j'\n",
       "3. 'b_y'\n",
       "4. 'c_z_w'\n",
       "\n",
       "\n"
      ],
      "text/plain": [
       "[1] NA        \"a_._x_j\" \"b_y\"     \"c_z_w\"  "
      ]
     },
     "metadata": {},
     "output_type": "display_data"
    },
    {
     "data": {
      "text/html": [
       "<table>\n",
       "<thead><tr><th scope=col>v</th></tr></thead>\n",
       "<tbody>\n",
       "\t<tr><td>NA     </td></tr>\n",
       "\t<tr><td>a_._x_j</td></tr>\n",
       "\t<tr><td>b_y    </td></tr>\n",
       "\t<tr><td>c_z_w  </td></tr>\n",
       "</tbody>\n",
       "</table>\n"
      ],
      "text/latex": [
       "\\begin{tabular}{r|l}\n",
       " v\\\\\n",
       "\\hline\n",
       "\t NA     \\\\\n",
       "\t a\\_.\\_x\\_j\\\\\n",
       "\t b\\_y    \\\\\n",
       "\t c\\_z\\_w  \\\\\n",
       "\\end{tabular}\n"
      ],
      "text/markdown": [
       "\n",
       "| v |\n",
       "|---|\n",
       "| NA      |\n",
       "| a_._x_j |\n",
       "| b_y     |\n",
       "| c_z_w   |\n",
       "\n"
      ],
      "text/plain": [
       "  v      \n",
       "1 NA     \n",
       "2 a_._x_j\n",
       "3 b_y    \n",
       "4 c_z_w  "
      ]
     },
     "metadata": {},
     "output_type": "display_data"
    }
   ],
   "source": [
    "v <- c(NA, \"a_._x_j\", \"b_y\", \"c_z_w\")\n",
    "df <- data.frame(v)\n",
    "v\n",
    "df"
   ]
  },
  {
   "cell_type": "code",
   "execution_count": 35,
   "metadata": {},
   "outputs": [],
   "source": [
    "help(separate)"
   ]
  },
  {
   "cell_type": "code",
   "execution_count": 36,
   "metadata": {},
   "outputs": [
    {
     "name": "stderr",
     "output_type": "stream",
     "text": [
      "Warning message:\n",
      "\"Expected 3 pieces. Missing pieces filled with `NA` in 1 rows [3].\""
     ]
    },
    {
     "data": {
      "text/html": [
       "<table>\n",
       "<thead><tr><th scope=col>col1</th><th scope=col>col2</th><th scope=col>col3</th></tr></thead>\n",
       "<tbody>\n",
       "\t<tr><td>NA</td><td>NA</td><td>NA</td></tr>\n",
       "\t<tr><td>a </td><td>x </td><td>j </td></tr>\n",
       "\t<tr><td>b </td><td>y </td><td>NA</td></tr>\n",
       "\t<tr><td>c </td><td>z </td><td>w </td></tr>\n",
       "</tbody>\n",
       "</table>\n"
      ],
      "text/latex": [
       "\\begin{tabular}{r|lll}\n",
       " col1 & col2 & col3\\\\\n",
       "\\hline\n",
       "\t NA & NA & NA\\\\\n",
       "\t a  & x  & j \\\\\n",
       "\t b  & y  & NA\\\\\n",
       "\t c  & z  & w \\\\\n",
       "\\end{tabular}\n"
      ],
      "text/markdown": [
       "\n",
       "| col1 | col2 | col3 |\n",
       "|---|---|---|\n",
       "| NA | NA | NA |\n",
       "| a  | x  | j  |\n",
       "| b  | y  | NA |\n",
       "| c  | z  | w  |\n",
       "\n"
      ],
      "text/plain": [
       "  col1 col2 col3\n",
       "1 NA   NA   NA  \n",
       "2 a    x    j   \n",
       "3 b    y    NA  \n",
       "4 c    z    w   "
      ]
     },
     "metadata": {},
     "output_type": "display_data"
    }
   ],
   "source": [
    "df %>% separate(v, c(\"col1\", \"col2\", \"col3\"))"
   ]
  },
  {
   "cell_type": "markdown",
   "metadata": {},
   "source": [
    "## unite()\n",
    "\n",
    "`unite()` ist üblicherweise die Funktion um mehrere Spalten zu einer zusammenzufassen:"
   ]
  },
  {
   "cell_type": "code",
   "execution_count": 21,
   "metadata": {},
   "outputs": [
    {
     "data": {
      "text/html": [
       "<table>\n",
       "<thead><tr><th></th><th scope=col>mpg</th><th scope=col>cyl</th><th scope=col>disp</th><th scope=col>hp</th><th scope=col>drat</th><th scope=col>wt</th><th scope=col>qsec</th><th scope=col>vs</th><th scope=col>am</th><th scope=col>gear</th><th scope=col>carb</th></tr></thead>\n",
       "<tbody>\n",
       "\t<tr><th scope=row>Mazda RX4</th><td>21.0 </td><td>6    </td><td>160  </td><td>110  </td><td>3.90 </td><td>2.620</td><td>16.46</td><td>0    </td><td>1    </td><td>4    </td><td>4    </td></tr>\n",
       "\t<tr><th scope=row>Mazda RX4 Wag</th><td>21.0 </td><td>6    </td><td>160  </td><td>110  </td><td>3.90 </td><td>2.875</td><td>17.02</td><td>0    </td><td>1    </td><td>4    </td><td>4    </td></tr>\n",
       "\t<tr><th scope=row>Datsun 710</th><td>22.8 </td><td>4    </td><td>108  </td><td> 93  </td><td>3.85 </td><td>2.320</td><td>18.61</td><td>1    </td><td>1    </td><td>4    </td><td>1    </td></tr>\n",
       "\t<tr><th scope=row>Hornet 4 Drive</th><td>21.4 </td><td>6    </td><td>258  </td><td>110  </td><td>3.08 </td><td>3.215</td><td>19.44</td><td>1    </td><td>0    </td><td>3    </td><td>1    </td></tr>\n",
       "\t<tr><th scope=row>Hornet Sportabout</th><td>18.7 </td><td>8    </td><td>360  </td><td>175  </td><td>3.15 </td><td>3.440</td><td>17.02</td><td>0    </td><td>0    </td><td>3    </td><td>2    </td></tr>\n",
       "\t<tr><th scope=row>Valiant</th><td>18.1 </td><td>6    </td><td>225  </td><td>105  </td><td>2.76 </td><td>3.460</td><td>20.22</td><td>1    </td><td>0    </td><td>3    </td><td>1    </td></tr>\n",
       "</tbody>\n",
       "</table>\n"
      ],
      "text/latex": [
       "\\begin{tabular}{r|lllllllllll}\n",
       "  & mpg & cyl & disp & hp & drat & wt & qsec & vs & am & gear & carb\\\\\n",
       "\\hline\n",
       "\tMazda RX4 & 21.0  & 6     & 160   & 110   & 3.90  & 2.620 & 16.46 & 0     & 1     & 4     & 4    \\\\\n",
       "\tMazda RX4 Wag & 21.0  & 6     & 160   & 110   & 3.90  & 2.875 & 17.02 & 0     & 1     & 4     & 4    \\\\\n",
       "\tDatsun 710 & 22.8  & 4     & 108   &  93   & 3.85  & 2.320 & 18.61 & 1     & 1     & 4     & 1    \\\\\n",
       "\tHornet 4 Drive & 21.4  & 6     & 258   & 110   & 3.08  & 3.215 & 19.44 & 1     & 0     & 3     & 1    \\\\\n",
       "\tHornet Sportabout & 18.7  & 8     & 360   & 175   & 3.15  & 3.440 & 17.02 & 0     & 0     & 3     & 2    \\\\\n",
       "\tValiant & 18.1  & 6     & 225   & 105   & 2.76  & 3.460 & 20.22 & 1     & 0     & 3     & 1    \\\\\n",
       "\\end{tabular}\n"
      ],
      "text/markdown": [
       "\n",
       "| <!--/--> | mpg | cyl | disp | hp | drat | wt | qsec | vs | am | gear | carb |\n",
       "|---|---|---|---|---|---|---|---|---|---|---|---|\n",
       "| Mazda RX4 | 21.0  | 6     | 160   | 110   | 3.90  | 2.620 | 16.46 | 0     | 1     | 4     | 4     |\n",
       "| Mazda RX4 Wag | 21.0  | 6     | 160   | 110   | 3.90  | 2.875 | 17.02 | 0     | 1     | 4     | 4     |\n",
       "| Datsun 710 | 22.8  | 4     | 108   |  93   | 3.85  | 2.320 | 18.61 | 1     | 1     | 4     | 1     |\n",
       "| Hornet 4 Drive | 21.4  | 6     | 258   | 110   | 3.08  | 3.215 | 19.44 | 1     | 0     | 3     | 1     |\n",
       "| Hornet Sportabout | 18.7  | 8     | 360   | 175   | 3.15  | 3.440 | 17.02 | 0     | 0     | 3     | 2     |\n",
       "| Valiant | 18.1  | 6     | 225   | 105   | 2.76  | 3.460 | 20.22 | 1     | 0     | 3     | 1     |\n",
       "\n"
      ],
      "text/plain": [
       "                  mpg  cyl disp hp  drat wt    qsec  vs am gear carb\n",
       "Mazda RX4         21.0 6   160  110 3.90 2.620 16.46 0  1  4    4   \n",
       "Mazda RX4 Wag     21.0 6   160  110 3.90 2.875 17.02 0  1  4    4   \n",
       "Datsun 710        22.8 4   108   93 3.85 2.320 18.61 1  1  4    1   \n",
       "Hornet 4 Drive    21.4 6   258  110 3.08 3.215 19.44 1  0  3    1   \n",
       "Hornet Sportabout 18.7 8   360  175 3.15 3.440 17.02 0  0  3    2   \n",
       "Valiant           18.1 6   225  105 2.76 3.460 20.22 1  0  3    1   "
      ]
     },
     "metadata": {},
     "output_type": "display_data"
    }
   ],
   "source": [
    "head(mtcars)"
   ]
  },
  {
   "cell_type": "code",
   "execution_count": 37,
   "metadata": {},
   "outputs": [
    {
     "data": {
      "text/html": [
       "<table>\n",
       "<thead><tr><th></th><th scope=col>mpg</th><th scope=col>cyl</th><th scope=col>disp</th><th scope=col>hp</th><th scope=col>drat</th><th scope=col>wt</th><th scope=col>qsec</th><th scope=col>vs.am</th><th scope=col>gear</th><th scope=col>carb</th></tr></thead>\n",
       "<tbody>\n",
       "\t<tr><th scope=row>Mazda RX4</th><td>21.0 </td><td>6    </td><td>160  </td><td>110  </td><td>3.90 </td><td>2.620</td><td>16.46</td><td>0.1  </td><td>4    </td><td>4    </td></tr>\n",
       "\t<tr><th scope=row>Mazda RX4 Wag</th><td>21.0 </td><td>6    </td><td>160  </td><td>110  </td><td>3.90 </td><td>2.875</td><td>17.02</td><td>0.1  </td><td>4    </td><td>4    </td></tr>\n",
       "\t<tr><th scope=row>Datsun 710</th><td>22.8 </td><td>4    </td><td>108  </td><td> 93  </td><td>3.85 </td><td>2.320</td><td>18.61</td><td>1.1  </td><td>4    </td><td>1    </td></tr>\n",
       "\t<tr><th scope=row>Hornet 4 Drive</th><td>21.4 </td><td>6    </td><td>258  </td><td>110  </td><td>3.08 </td><td>3.215</td><td>19.44</td><td>1.0  </td><td>3    </td><td>1    </td></tr>\n",
       "\t<tr><th scope=row>Hornet Sportabout</th><td>18.7 </td><td>8    </td><td>360  </td><td>175  </td><td>3.15 </td><td>3.440</td><td>17.02</td><td>0.0  </td><td>3    </td><td>2    </td></tr>\n",
       "\t<tr><th scope=row>Valiant</th><td>18.1 </td><td>6    </td><td>225  </td><td>105  </td><td>2.76 </td><td>3.460</td><td>20.22</td><td>1.0  </td><td>3    </td><td>1    </td></tr>\n",
       "</tbody>\n",
       "</table>\n"
      ],
      "text/latex": [
       "\\begin{tabular}{r|llllllllll}\n",
       "  & mpg & cyl & disp & hp & drat & wt & qsec & vs.am & gear & carb\\\\\n",
       "\\hline\n",
       "\tMazda RX4 & 21.0  & 6     & 160   & 110   & 3.90  & 2.620 & 16.46 & 0.1   & 4     & 4    \\\\\n",
       "\tMazda RX4 Wag & 21.0  & 6     & 160   & 110   & 3.90  & 2.875 & 17.02 & 0.1   & 4     & 4    \\\\\n",
       "\tDatsun 710 & 22.8  & 4     & 108   &  93   & 3.85  & 2.320 & 18.61 & 1.1   & 4     & 1    \\\\\n",
       "\tHornet 4 Drive & 21.4  & 6     & 258   & 110   & 3.08  & 3.215 & 19.44 & 1.0   & 3     & 1    \\\\\n",
       "\tHornet Sportabout & 18.7  & 8     & 360   & 175   & 3.15  & 3.440 & 17.02 & 0.0   & 3     & 2    \\\\\n",
       "\tValiant & 18.1  & 6     & 225   & 105   & 2.76  & 3.460 & 20.22 & 1.0   & 3     & 1    \\\\\n",
       "\\end{tabular}\n"
      ],
      "text/markdown": [
       "\n",
       "| <!--/--> | mpg | cyl | disp | hp | drat | wt | qsec | vs.am | gear | carb |\n",
       "|---|---|---|---|---|---|---|---|---|---|---|\n",
       "| Mazda RX4 | 21.0  | 6     | 160   | 110   | 3.90  | 2.620 | 16.46 | 0.1   | 4     | 4     |\n",
       "| Mazda RX4 Wag | 21.0  | 6     | 160   | 110   | 3.90  | 2.875 | 17.02 | 0.1   | 4     | 4     |\n",
       "| Datsun 710 | 22.8  | 4     | 108   |  93   | 3.85  | 2.320 | 18.61 | 1.1   | 4     | 1     |\n",
       "| Hornet 4 Drive | 21.4  | 6     | 258   | 110   | 3.08  | 3.215 | 19.44 | 1.0   | 3     | 1     |\n",
       "| Hornet Sportabout | 18.7  | 8     | 360   | 175   | 3.15  | 3.440 | 17.02 | 0.0   | 3     | 2     |\n",
       "| Valiant | 18.1  | 6     | 225   | 105   | 2.76  | 3.460 | 20.22 | 1.0   | 3     | 1     |\n",
       "\n"
      ],
      "text/plain": [
       "                  mpg  cyl disp hp  drat wt    qsec  vs.am gear carb\n",
       "Mazda RX4         21.0 6   160  110 3.90 2.620 16.46 0.1   4    4   \n",
       "Mazda RX4 Wag     21.0 6   160  110 3.90 2.875 17.02 0.1   4    4   \n",
       "Datsun 710        22.8 4   108   93 3.85 2.320 18.61 1.1   4    1   \n",
       "Hornet 4 Drive    21.4 6   258  110 3.08 3.215 19.44 1.0   3    1   \n",
       "Hornet Sportabout 18.7 8   360  175 3.15 3.440 17.02 0.0   3    2   \n",
       "Valiant           18.1 6   225  105 2.76 3.460 20.22 1.0   3    1   "
      ]
     },
     "metadata": {},
     "output_type": "display_data"
    }
   ],
   "source": [
    "mtcars %>%\n",
    "  unite(vs.am, sep=\".\", vs, am) %>% head"
   ]
  },
  {
   "cell_type": "code",
   "execution_count": 25,
   "metadata": {},
   "outputs": [],
   "source": [
    "help(unite)"
   ]
  },
  {
   "cell_type": "code",
   "execution_count": 38,
   "metadata": {},
   "outputs": [
    {
     "data": {
      "text/html": [
       "<table>\n",
       "<thead><tr><th></th><th scope=col>mpg</th><th scope=col>cyl</th><th scope=col>disp</th><th scope=col>hp</th><th scope=col>drat</th><th scope=col>wt</th><th scope=col>qsec</th><th scope=col>vs</th><th scope=col>am</th><th scope=col>gear</th><th scope=col>carb</th></tr></thead>\n",
       "<tbody>\n",
       "\t<tr><th scope=row>Mazda RX4</th><td>21.0 </td><td>6    </td><td>160  </td><td>110  </td><td>3.90 </td><td>2.620</td><td>16.46</td><td>0    </td><td>1    </td><td>4    </td><td>4    </td></tr>\n",
       "\t<tr><th scope=row>Mazda RX4 Wag</th><td>21.0 </td><td>6    </td><td>160  </td><td>110  </td><td>3.90 </td><td>2.875</td><td>17.02</td><td>0    </td><td>1    </td><td>4    </td><td>4    </td></tr>\n",
       "\t<tr><th scope=row>Datsun 710</th><td>22.8 </td><td>4    </td><td>108  </td><td> 93  </td><td>3.85 </td><td>2.320</td><td>18.61</td><td>1    </td><td>1    </td><td>4    </td><td>1    </td></tr>\n",
       "\t<tr><th scope=row>Hornet 4 Drive</th><td>21.4 </td><td>6    </td><td>258  </td><td>110  </td><td>3.08 </td><td>3.215</td><td>19.44</td><td>1    </td><td>0    </td><td>3    </td><td>1    </td></tr>\n",
       "\t<tr><th scope=row>Hornet Sportabout</th><td>18.7 </td><td>8    </td><td>360  </td><td>175  </td><td>3.15 </td><td>3.440</td><td>17.02</td><td>0    </td><td>0    </td><td>3    </td><td>2    </td></tr>\n",
       "\t<tr><th scope=row>Valiant</th><td>18.1 </td><td>6    </td><td>225  </td><td>105  </td><td>2.76 </td><td>3.460</td><td>20.22</td><td>1    </td><td>0    </td><td>3    </td><td>1    </td></tr>\n",
       "</tbody>\n",
       "</table>\n"
      ],
      "text/latex": [
       "\\begin{tabular}{r|lllllllllll}\n",
       "  & mpg & cyl & disp & hp & drat & wt & qsec & vs & am & gear & carb\\\\\n",
       "\\hline\n",
       "\tMazda RX4 & 21.0  & 6     & 160   & 110   & 3.90  & 2.620 & 16.46 & 0     & 1     & 4     & 4    \\\\\n",
       "\tMazda RX4 Wag & 21.0  & 6     & 160   & 110   & 3.90  & 2.875 & 17.02 & 0     & 1     & 4     & 4    \\\\\n",
       "\tDatsun 710 & 22.8  & 4     & 108   &  93   & 3.85  & 2.320 & 18.61 & 1     & 1     & 4     & 1    \\\\\n",
       "\tHornet 4 Drive & 21.4  & 6     & 258   & 110   & 3.08  & 3.215 & 19.44 & 1     & 0     & 3     & 1    \\\\\n",
       "\tHornet Sportabout & 18.7  & 8     & 360   & 175   & 3.15  & 3.440 & 17.02 & 0     & 0     & 3     & 2    \\\\\n",
       "\tValiant & 18.1  & 6     & 225   & 105   & 2.76  & 3.460 & 20.22 & 1     & 0     & 3     & 1    \\\\\n",
       "\\end{tabular}\n"
      ],
      "text/markdown": [
       "\n",
       "| <!--/--> | mpg | cyl | disp | hp | drat | wt | qsec | vs | am | gear | carb |\n",
       "|---|---|---|---|---|---|---|---|---|---|---|---|\n",
       "| Mazda RX4 | 21.0  | 6     | 160   | 110   | 3.90  | 2.620 | 16.46 | 0     | 1     | 4     | 4     |\n",
       "| Mazda RX4 Wag | 21.0  | 6     | 160   | 110   | 3.90  | 2.875 | 17.02 | 0     | 1     | 4     | 4     |\n",
       "| Datsun 710 | 22.8  | 4     | 108   |  93   | 3.85  | 2.320 | 18.61 | 1     | 1     | 4     | 1     |\n",
       "| Hornet 4 Drive | 21.4  | 6     | 258   | 110   | 3.08  | 3.215 | 19.44 | 1     | 0     | 3     | 1     |\n",
       "| Hornet Sportabout | 18.7  | 8     | 360   | 175   | 3.15  | 3.440 | 17.02 | 0     | 0     | 3     | 2     |\n",
       "| Valiant | 18.1  | 6     | 225   | 105   | 2.76  | 3.460 | 20.22 | 1     | 0     | 3     | 1     |\n",
       "\n"
      ],
      "text/plain": [
       "                  mpg  cyl disp hp  drat wt    qsec  vs am gear carb\n",
       "Mazda RX4         21.0 6   160  110 3.90 2.620 16.46 0  1  4    4   \n",
       "Mazda RX4 Wag     21.0 6   160  110 3.90 2.875 17.02 0  1  4    4   \n",
       "Datsun 710        22.8 4   108   93 3.85 2.320 18.61 1  1  4    1   \n",
       "Hornet 4 Drive    21.4 6   258  110 3.08 3.215 19.44 1  0  3    1   \n",
       "Hornet Sportabout 18.7 8   360  175 3.15 3.440 17.02 0  0  3    2   \n",
       "Valiant           18.1 6   225  105 2.76 3.460 20.22 1  0  3    1   "
      ]
     },
     "metadata": {},
     "output_type": "display_data"
    }
   ],
   "source": [
    "# separate() ist das Gegenstück zu unite()\n",
    "# vergleichen Sie \n",
    "mtcars %>%\n",
    "  unite(vs_am, vs, am) %>%\n",
    "  separate(vs_am, c(\"vs\", \"am\")) %>% head"
   ]
  },
  {
   "cell_type": "code",
   "execution_count": 39,
   "metadata": {},
   "outputs": [
    {
     "data": {
      "text/html": [
       "<table>\n",
       "<thead><tr><th></th><th scope=col>mpg</th><th scope=col>cyl</th><th scope=col>disp</th><th scope=col>hp</th><th scope=col>drat</th><th scope=col>wt</th><th scope=col>qsec</th><th scope=col>vs</th><th scope=col>am</th><th scope=col>gear</th><th scope=col>carb</th></tr></thead>\n",
       "<tbody>\n",
       "\t<tr><th scope=row>Mazda RX4</th><td>21.0 </td><td>6    </td><td>160  </td><td>110  </td><td>3.90 </td><td>2.620</td><td>16.46</td><td>0    </td><td>1    </td><td>4    </td><td>4    </td></tr>\n",
       "\t<tr><th scope=row>Mazda RX4 Wag</th><td>21.0 </td><td>6    </td><td>160  </td><td>110  </td><td>3.90 </td><td>2.875</td><td>17.02</td><td>0    </td><td>1    </td><td>4    </td><td>4    </td></tr>\n",
       "\t<tr><th scope=row>Datsun 710</th><td>22.8 </td><td>4    </td><td>108  </td><td> 93  </td><td>3.85 </td><td>2.320</td><td>18.61</td><td>1    </td><td>1    </td><td>4    </td><td>1    </td></tr>\n",
       "\t<tr><th scope=row>Hornet 4 Drive</th><td>21.4 </td><td>6    </td><td>258  </td><td>110  </td><td>3.08 </td><td>3.215</td><td>19.44</td><td>1    </td><td>0    </td><td>3    </td><td>1    </td></tr>\n",
       "\t<tr><th scope=row>Hornet Sportabout</th><td>18.7 </td><td>8    </td><td>360  </td><td>175  </td><td>3.15 </td><td>3.440</td><td>17.02</td><td>0    </td><td>0    </td><td>3    </td><td>2    </td></tr>\n",
       "\t<tr><th scope=row>Valiant</th><td>18.1 </td><td>6    </td><td>225  </td><td>105  </td><td>2.76 </td><td>3.460</td><td>20.22</td><td>1    </td><td>0    </td><td>3    </td><td>1    </td></tr>\n",
       "</tbody>\n",
       "</table>\n"
      ],
      "text/latex": [
       "\\begin{tabular}{r|lllllllllll}\n",
       "  & mpg & cyl & disp & hp & drat & wt & qsec & vs & am & gear & carb\\\\\n",
       "\\hline\n",
       "\tMazda RX4 & 21.0  & 6     & 160   & 110   & 3.90  & 2.620 & 16.46 & 0     & 1     & 4     & 4    \\\\\n",
       "\tMazda RX4 Wag & 21.0  & 6     & 160   & 110   & 3.90  & 2.875 & 17.02 & 0     & 1     & 4     & 4    \\\\\n",
       "\tDatsun 710 & 22.8  & 4     & 108   &  93   & 3.85  & 2.320 & 18.61 & 1     & 1     & 4     & 1    \\\\\n",
       "\tHornet 4 Drive & 21.4  & 6     & 258   & 110   & 3.08  & 3.215 & 19.44 & 1     & 0     & 3     & 1    \\\\\n",
       "\tHornet Sportabout & 18.7  & 8     & 360   & 175   & 3.15  & 3.440 & 17.02 & 0     & 0     & 3     & 2    \\\\\n",
       "\tValiant & 18.1  & 6     & 225   & 105   & 2.76  & 3.460 & 20.22 & 1     & 0     & 3     & 1    \\\\\n",
       "\\end{tabular}\n"
      ],
      "text/markdown": [
       "\n",
       "| <!--/--> | mpg | cyl | disp | hp | drat | wt | qsec | vs | am | gear | carb |\n",
       "|---|---|---|---|---|---|---|---|---|---|---|---|\n",
       "| Mazda RX4 | 21.0  | 6     | 160   | 110   | 3.90  | 2.620 | 16.46 | 0     | 1     | 4     | 4     |\n",
       "| Mazda RX4 Wag | 21.0  | 6     | 160   | 110   | 3.90  | 2.875 | 17.02 | 0     | 1     | 4     | 4     |\n",
       "| Datsun 710 | 22.8  | 4     | 108   |  93   | 3.85  | 2.320 | 18.61 | 1     | 1     | 4     | 1     |\n",
       "| Hornet 4 Drive | 21.4  | 6     | 258   | 110   | 3.08  | 3.215 | 19.44 | 1     | 0     | 3     | 1     |\n",
       "| Hornet Sportabout | 18.7  | 8     | 360   | 175   | 3.15  | 3.440 | 17.02 | 0     | 0     | 3     | 2     |\n",
       "| Valiant | 18.1  | 6     | 225   | 105   | 2.76  | 3.460 | 20.22 | 1     | 0     | 3     | 1     |\n",
       "\n"
      ],
      "text/plain": [
       "                  mpg  cyl disp hp  drat wt    qsec  vs am gear carb\n",
       "Mazda RX4         21.0 6   160  110 3.90 2.620 16.46 0  1  4    4   \n",
       "Mazda RX4 Wag     21.0 6   160  110 3.90 2.875 17.02 0  1  4    4   \n",
       "Datsun 710        22.8 4   108   93 3.85 2.320 18.61 1  1  4    1   \n",
       "Hornet 4 Drive    21.4 6   258  110 3.08 3.215 19.44 1  0  3    1   \n",
       "Hornet Sportabout 18.7 8   360  175 3.15 3.440 17.02 0  0  3    2   \n",
       "Valiant           18.1 6   225  105 2.76 3.460 20.22 1  0  3    1   "
      ]
     },
     "metadata": {},
     "output_type": "display_data"
    }
   ],
   "source": [
    "# ... mit mtcars\n",
    "mtcars %>% head"
   ]
  },
  {
   "cell_type": "markdown",
   "metadata": {},
   "source": [
    "Herzlichen Glückwunsch! Sie sind mit Lektion 44. fertig!"
   ]
  }
 ],
 "metadata": {
  "kernelspec": {
   "display_name": "R",
   "language": "R",
   "name": "ir"
  },
  "language_info": {
   "codemirror_mode": "r",
   "file_extension": ".r",
   "mimetype": "text/x-r-source",
   "name": "R",
   "pygments_lexer": "r",
   "version": "3.6.1"
  }
 },
 "nbformat": 4,
 "nbformat_minor": 1
}
