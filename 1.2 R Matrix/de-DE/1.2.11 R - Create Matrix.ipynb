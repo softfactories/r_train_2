{
 "cells": [
  {
   "cell_type": "markdown",
   "metadata": {},
   "source": [
    "# Tag 1. Kapitel 2. Matrix\n",
    "\n",
    "## Lektion 11. Matrix erstellen\n",
    "\n",
    "Wir haben bereits Vektoren behandelt, die es uns erlauben indexierte Elemente zu speichern. Eine Matrix erlaubt es uns darüberhinaus zweidimensionale Datenststruckturen von Elementen des selben Datentyps zu erstellen.\n",
    "\n",
    "Bevor wir jetzt mit den Matrizen beginnen sollten wir uns noch einen kleinen Tipp zur Erstellung von sequenziellen Zahlenfolgen anschauen. Wir können die *Doppelpunkt-Notation* verwenden, die wir vom Slicing kennen, um sequentielle Vektoren zu erstellen:"
   ]
  },
  {
   "cell_type": "code",
   "execution_count": 1,
   "metadata": {},
   "outputs": [
    {
     "data": {
      "text/html": [
       "<ol class=list-inline>\n",
       "\t<li>1</li>\n",
       "\t<li>2</li>\n",
       "\t<li>3</li>\n",
       "\t<li>4</li>\n",
       "\t<li>5</li>\n",
       "\t<li>6</li>\n",
       "</ol>\n"
      ],
      "text/latex": [
       "\\begin{enumerate*}\n",
       "\\item 1\n",
       "\\item 2\n",
       "\\item 3\n",
       "\\item 4\n",
       "\\item 5\n",
       "\\item 6\n",
       "\\end{enumerate*}\n"
      ],
      "text/markdown": [
       "1. 1\n",
       "2. 2\n",
       "3. 3\n",
       "4. 4\n",
       "5. 5\n",
       "6. 6\n",
       "\n",
       "\n"
      ],
      "text/plain": [
       "[1] 1 2 3 4 5 6"
      ]
     },
     "metadata": {},
     "output_type": "display_data"
    }
   ],
   "source": [
    "1:6"
   ]
  },
  {
   "cell_type": "code",
   "execution_count": 2,
   "metadata": {},
   "outputs": [
    {
     "data": {
      "text/html": [
       "<ol class=list-inline>\n",
       "\t<li>1</li>\n",
       "\t<li>2</li>\n",
       "\t<li>3</li>\n",
       "\t<li>4</li>\n",
       "\t<li>5</li>\n",
       "\t<li>6</li>\n",
       "</ol>\n"
      ],
      "text/latex": [
       "\\begin{enumerate*}\n",
       "\\item 1\n",
       "\\item 2\n",
       "\\item 3\n",
       "\\item 4\n",
       "\\item 5\n",
       "\\item 6\n",
       "\\end{enumerate*}\n"
      ],
      "text/markdown": [
       "1. 1\n",
       "2. 2\n",
       "3. 3\n",
       "4. 4\n",
       "5. 5\n",
       "6. 6\n",
       "\n",
       "\n"
      ],
      "text/plain": [
       "[1] 1 2 3 4 5 6"
      ]
     },
     "metadata": {},
     "output_type": "display_data"
    }
   ],
   "source": [
    "v <- 1:6\n",
    "v"
   ]
  },
  {
   "cell_type": "markdown",
   "metadata": {},
   "source": [
    "Um jetzt eine Matrix in R zu erstellen nutzen wir die `matrix()` Funktion. Wir können einen Vektor übergeben:"
   ]
  },
  {
   "cell_type": "code",
   "execution_count": 3,
   "metadata": {},
   "outputs": [
    {
     "data": {
      "text/html": [
       "<table>\n",
       "<tbody>\n",
       "\t<tr><td>1</td></tr>\n",
       "\t<tr><td>2</td></tr>\n",
       "\t<tr><td>3</td></tr>\n",
       "\t<tr><td>4</td></tr>\n",
       "\t<tr><td>5</td></tr>\n",
       "\t<tr><td>6</td></tr>\n",
       "</tbody>\n",
       "</table>\n"
      ],
      "text/latex": [
       "\\begin{tabular}{l}\n",
       "\t 1\\\\\n",
       "\t 2\\\\\n",
       "\t 3\\\\\n",
       "\t 4\\\\\n",
       "\t 5\\\\\n",
       "\t 6\\\\\n",
       "\\end{tabular}\n"
      ],
      "text/markdown": [
       "\n",
       "| 1 |\n",
       "| 2 |\n",
       "| 3 |\n",
       "| 4 |\n",
       "| 5 |\n",
       "| 6 |\n",
       "\n"
      ],
      "text/plain": [
       "     [,1]\n",
       "[1,] 1   \n",
       "[2,] 2   \n",
       "[3,] 3   \n",
       "[4,] 4   \n",
       "[5,] 5   \n",
       "[6,] 6   "
      ]
     },
     "metadata": {},
     "output_type": "display_data"
    }
   ],
   "source": [
    "matrix(v)"
   ]
  },
  {
   "cell_type": "markdown",
   "metadata": {},
   "source": [
    "Wir haben eine zweidimensionale Matrix mit 6 Zeilen und einer Spalte erhalten. Um die Anzahl der Zeilen festzulegen, übergibt man das `nrow` Argument:"
   ]
  },
  {
   "cell_type": "code",
   "execution_count": 6,
   "metadata": {},
   "outputs": [
    {
     "data": {
      "text/html": [
       "<table>\n",
       "<tbody>\n",
       "\t<tr><td>1</td><td>3</td><td>5</td></tr>\n",
       "\t<tr><td>2</td><td>4</td><td>6</td></tr>\n",
       "</tbody>\n",
       "</table>\n"
      ],
      "text/latex": [
       "\\begin{tabular}{lll}\n",
       "\t 1 & 3 & 5\\\\\n",
       "\t 2 & 4 & 6\\\\\n",
       "\\end{tabular}\n"
      ],
      "text/markdown": [
       "\n",
       "| 1 | 3 | 5 |\n",
       "| 2 | 4 | 6 |\n",
       "\n"
      ],
      "text/plain": [
       "     [,1] [,2] [,3]\n",
       "[1,] 1    3    5   \n",
       "[2,] 2    4    6   "
      ]
     },
     "metadata": {},
     "output_type": "display_data"
    },
    {
     "data": {
      "text/html": [
       "<table>\n",
       "<tbody>\n",
       "\t<tr><td>1</td><td>3</td><td>5</td></tr>\n",
       "\t<tr><td>2</td><td>4</td><td>6</td></tr>\n",
       "</tbody>\n",
       "</table>\n"
      ],
      "text/latex": [
       "\\begin{tabular}{lll}\n",
       "\t 1 & 3 & 5\\\\\n",
       "\t 2 & 4 & 6\\\\\n",
       "\\end{tabular}\n"
      ],
      "text/markdown": [
       "\n",
       "| 1 | 3 | 5 |\n",
       "| 2 | 4 | 6 |\n",
       "\n"
      ],
      "text/plain": [
       "     [,1] [,2] [,3]\n",
       "[1,] 1    3    5   \n",
       "[2,] 2    4    6   "
      ]
     },
     "metadata": {},
     "output_type": "display_data"
    },
    {
     "data": {
      "text/html": [
       "<table>\n",
       "<tbody>\n",
       "\t<tr><td>1</td><td>2</td><td>3</td></tr>\n",
       "\t<tr><td>4</td><td>5</td><td>6</td></tr>\n",
       "</tbody>\n",
       "</table>\n"
      ],
      "text/latex": [
       "\\begin{tabular}{lll}\n",
       "\t 1 & 2 & 3\\\\\n",
       "\t 4 & 5 & 6\\\\\n",
       "\\end{tabular}\n"
      ],
      "text/markdown": [
       "\n",
       "| 1 | 2 | 3 |\n",
       "| 4 | 5 | 6 |\n",
       "\n"
      ],
      "text/plain": [
       "     [,1] [,2] [,3]\n",
       "[1,] 1    2    3   \n",
       "[2,] 4    5    6   "
      ]
     },
     "metadata": {},
     "output_type": "display_data"
    }
   ],
   "source": [
    "matrix(v,nrow=2)\n",
    "matrix(v,byrow=FALSE,nrow=2)\n",
    "matrix(v,byrow=TRUE,nrow=2)\n"
   ]
  },
  {
   "cell_type": "markdown",
   "metadata": {},
   "source": [
    "Wir haben jetzt also eine 2 mal 3 Matrix. Dies konnten wir durch das `nrow` Argument erzeugen. Wie legen wir nun die Reihenfolge der Elemente fest? Wir könnten zuerst die Spalten füllen (wie es im Beispiel gerade eben passiert ist) oder zuerst die Zeilen. Das `byrow` Argument ermögliocht es uns, dies festzulegen. Hier zwei Beispiele:"
   ]
  },
  {
   "cell_type": "code",
   "execution_count": 7,
   "metadata": {},
   "outputs": [
    {
     "data": {
      "text/html": [
       "<table>\n",
       "<tbody>\n",
       "\t<tr><td>1 </td><td>5 </td><td> 9</td><td>13</td></tr>\n",
       "\t<tr><td>2 </td><td>6 </td><td>10</td><td>14</td></tr>\n",
       "\t<tr><td>3 </td><td>7 </td><td>11</td><td>15</td></tr>\n",
       "\t<tr><td>4 </td><td>8 </td><td>12</td><td>16</td></tr>\n",
       "</tbody>\n",
       "</table>\n"
      ],
      "text/latex": [
       "\\begin{tabular}{llll}\n",
       "\t 1  & 5  &  9 & 13\\\\\n",
       "\t 2  & 6  & 10 & 14\\\\\n",
       "\t 3  & 7  & 11 & 15\\\\\n",
       "\t 4  & 8  & 12 & 16\\\\\n",
       "\\end{tabular}\n"
      ],
      "text/markdown": [
       "\n",
       "| 1  | 5  |  9 | 13 |\n",
       "| 2  | 6  | 10 | 14 |\n",
       "| 3  | 7  | 11 | 15 |\n",
       "| 4  | 8  | 12 | 16 |\n",
       "\n"
      ],
      "text/plain": [
       "     [,1] [,2] [,3] [,4]\n",
       "[1,] 1    5     9   13  \n",
       "[2,] 2    6    10   14  \n",
       "[3,] 3    7    11   15  \n",
       "[4,] 4    8    12   16  "
      ]
     },
     "metadata": {},
     "output_type": "display_data"
    }
   ],
   "source": [
    "matrix(1:16,byrow = FALSE,nrow=4)"
   ]
  },
  {
   "cell_type": "code",
   "execution_count": 8,
   "metadata": {},
   "outputs": [
    {
     "data": {
      "text/html": [
       "<table>\n",
       "<tbody>\n",
       "\t<tr><td> 1</td><td> 2</td><td> 3</td><td> 4</td></tr>\n",
       "\t<tr><td> 5</td><td> 6</td><td> 7</td><td> 8</td></tr>\n",
       "\t<tr><td> 9</td><td>10</td><td>11</td><td>12</td></tr>\n",
       "\t<tr><td>13</td><td>14</td><td>15</td><td>16</td></tr>\n",
       "</tbody>\n",
       "</table>\n"
      ],
      "text/latex": [
       "\\begin{tabular}{llll}\n",
       "\t  1 &  2 &  3 &  4\\\\\n",
       "\t  5 &  6 &  7 &  8\\\\\n",
       "\t  9 & 10 & 11 & 12\\\\\n",
       "\t 13 & 14 & 15 & 16\\\\\n",
       "\\end{tabular}\n"
      ],
      "text/markdown": [
       "\n",
       "|  1 |  2 |  3 |  4 |\n",
       "|  5 |  6 |  7 |  8 |\n",
       "|  9 | 10 | 11 | 12 |\n",
       "| 13 | 14 | 15 | 16 |\n",
       "\n"
      ],
      "text/plain": [
       "     [,1] [,2] [,3] [,4]\n",
       "[1,]  1    2    3    4  \n",
       "[2,]  5    6    7    8  \n",
       "[3,]  9   10   11   12  \n",
       "[4,] 13   14   15   16  "
      ]
     },
     "metadata": {},
     "output_type": "display_data"
    }
   ],
   "source": [
    "matrix(1:16, byrow=TRUE, nrow=4)"
   ]
  },
  {
   "cell_type": "markdown",
   "metadata": {},
   "source": [
    "## Matrizen aus Vektoren erstellen\n",
    "\n",
    "Wir können mehrere Vektoren kombinieren, um sie in eine Matrix einzuspielen. Stell dir beispielhaft die beiden folgenden Vektoren von Aktienpreisen vor:"
   ]
  },
  {
   "cell_type": "code",
   "execution_count": 9,
   "metadata": {},
   "outputs": [
    {
     "data": {
      "text/html": [
       "<ol class=list-inline>\n",
       "\t<li>1289.92</li>\n",
       "\t<li>1295.28</li>\n",
       "\t<li>1320.54</li>\n",
       "\t<li>1328.13</li>\n",
       "\t<li>1340.61</li>\n",
       "</ol>\n"
      ],
      "text/latex": [
       "\\begin{enumerate*}\n",
       "\\item 1289.92\n",
       "\\item 1295.28\n",
       "\\item 1320.54\n",
       "\\item 1328.13\n",
       "\\item 1340.61\n",
       "\\end{enumerate*}\n"
      ],
      "text/markdown": [
       "1. 1289.92\n",
       "2. 1295.28\n",
       "3. 1320.54\n",
       "4. 1328.13\n",
       "5. 1340.61\n",
       "\n",
       "\n"
      ],
      "text/plain": [
       "[1] 1289.92 1295.28 1320.54 1328.13 1340.61"
      ]
     },
     "metadata": {},
     "output_type": "display_data"
    },
    {
     "data": {
      "text/html": [
       "<ol class=list-inline>\n",
       "\t<li>334.86</li>\n",
       "\t<li>336.2</li>\n",
       "\t<li>33.02</li>\n",
       "\t<li>330.36</li>\n",
       "\t<li>335.89</li>\n",
       "</ol>\n"
      ],
      "text/latex": [
       "\\begin{enumerate*}\n",
       "\\item 334.86\n",
       "\\item 336.2\n",
       "\\item 33.02\n",
       "\\item 330.36\n",
       "\\item 335.89\n",
       "\\end{enumerate*}\n"
      ],
      "text/markdown": [
       "1. 334.86\n",
       "2. 336.2\n",
       "3. 33.02\n",
       "4. 330.36\n",
       "5. 335.89\n",
       "\n",
       "\n"
      ],
      "text/plain": [
       "[1] 334.86 336.20  33.02 330.36 335.89"
      ]
     },
     "metadata": {},
     "output_type": "display_data"
    }
   ],
   "source": [
    "# Historische Aktien Schluss-Preise KW 49 / 2019 \n",
    "# Google\n",
    "GOOG <- c(1289.92,1295.28,1320.54,1328.13,1340.61) \n",
    "GOOG\n",
    "\n",
    "# Tesla\n",
    "TSLA <- c(334.86,336.20,33.02,330.36,335.89) \n",
    "TSLA"
   ]
  },
  {
   "cell_type": "code",
   "execution_count": 10,
   "metadata": {},
   "outputs": [
    {
     "data": {
      "text/html": [
       "<ol class=list-inline>\n",
       "\t<li>1289.92</li>\n",
       "\t<li>1295.28</li>\n",
       "\t<li>1320.54</li>\n",
       "\t<li>1328.13</li>\n",
       "\t<li>1340.61</li>\n",
       "\t<li>334.86</li>\n",
       "\t<li>336.2</li>\n",
       "\t<li>33.02</li>\n",
       "\t<li>330.36</li>\n",
       "\t<li>335.89</li>\n",
       "</ol>\n"
      ],
      "text/latex": [
       "\\begin{enumerate*}\n",
       "\\item 1289.92\n",
       "\\item 1295.28\n",
       "\\item 1320.54\n",
       "\\item 1328.13\n",
       "\\item 1340.61\n",
       "\\item 334.86\n",
       "\\item 336.2\n",
       "\\item 33.02\n",
       "\\item 330.36\n",
       "\\item 335.89\n",
       "\\end{enumerate*}\n"
      ],
      "text/markdown": [
       "1. 1289.92\n",
       "2. 1295.28\n",
       "3. 1320.54\n",
       "4. 1328.13\n",
       "5. 1340.61\n",
       "6. 334.86\n",
       "7. 336.2\n",
       "8. 33.02\n",
       "9. 330.36\n",
       "10. 335.89\n",
       "\n",
       "\n"
      ],
      "text/plain": [
       " [1] 1289.92 1295.28 1320.54 1328.13 1340.61  334.86  336.20   33.02  330.36\n",
       "[10]  335.89"
      ]
     },
     "metadata": {},
     "output_type": "display_data"
    }
   ],
   "source": [
    "aktien <- c(GOOG,TSLA)\n",
    "aktien"
   ]
  },
  {
   "cell_type": "code",
   "execution_count": 19,
   "metadata": {},
   "outputs": [],
   "source": [
    "aktien.matrix <- matrix(aktien,byrow=TRUE,nrow=2)"
   ]
  },
  {
   "cell_type": "code",
   "execution_count": 20,
   "metadata": {},
   "outputs": [
    {
     "data": {
      "text/html": [
       "<table>\n",
       "<tbody>\n",
       "\t<tr><td>1289.92</td><td>1295.28</td><td>1320.54</td><td>1328.13</td><td>1340.61</td></tr>\n",
       "\t<tr><td> 334.86</td><td> 336.20</td><td>  33.02</td><td> 330.36</td><td> 335.89</td></tr>\n",
       "</tbody>\n",
       "</table>\n"
      ],
      "text/latex": [
       "\\begin{tabular}{lllll}\n",
       "\t 1289.92 & 1295.28 & 1320.54 & 1328.13 & 1340.61\\\\\n",
       "\t  334.86 &  336.20 &   33.02 &  330.36 &  335.89\\\\\n",
       "\\end{tabular}\n"
      ],
      "text/markdown": [
       "\n",
       "| 1289.92 | 1295.28 | 1320.54 | 1328.13 | 1340.61 |\n",
       "|  334.86 |  336.20 |   33.02 |  330.36 |  335.89 |\n",
       "\n"
      ],
      "text/plain": [
       "     [,1]    [,2]    [,3]    [,4]    [,5]   \n",
       "[1,] 1289.92 1295.28 1320.54 1328.13 1340.61\n",
       "[2,]  334.86  336.20   33.02  330.36  335.89"
      ]
     },
     "metadata": {},
     "output_type": "display_data"
    }
   ],
   "source": [
    "aktien.matrix"
   ]
  },
  {
   "cell_type": "code",
   "execution_count": 16,
   "metadata": {},
   "outputs": [],
   "source": [
    "tage <- c('Mo','Di','Mi','Do','Fr')\n",
    "aktien.namen <- c('GOOG','TSLA')"
   ]
  },
  {
   "cell_type": "code",
   "execution_count": 21,
   "metadata": {},
   "outputs": [],
   "source": [
    "# colnames(aktien.matrix) <- tage\n",
    "# rownames(aktien.matrix) <- aktien.namen\n",
    "\n",
    "colnames(aktien.matrix) <- c('Mo','Di','Mi','Do','Fr')\n",
    "rownames(aktien.matrix) <- c('GOOG','TSLA')"
   ]
  },
  {
   "cell_type": "markdown",
   "metadata": {},
   "source": [
    "## Matrizen benennen\n",
    "\n",
    "Jetzt wo wir unsere Matrix erstelt haben ist es naheliegend die Zeilen und Spalten für einen besseren Zugriff zu benennen. Das funktioniert prinzipiell gleich wie die `names()` Funktion für Vektoren: Wir definieren `colnames()` (für die Spalten) und `rownames()` (für die Zeilen). Bennenen wir nun unsere Aktien-Matrix:"
   ]
  },
  {
   "cell_type": "code",
   "execution_count": 22,
   "metadata": {},
   "outputs": [
    {
     "data": {
      "text/html": [
       "<table>\n",
       "<thead><tr><th></th><th scope=col>Mo</th><th scope=col>Di</th><th scope=col>Mi</th><th scope=col>Do</th><th scope=col>Fr</th></tr></thead>\n",
       "<tbody>\n",
       "\t<tr><th scope=row>GOOG</th><td>1289.92</td><td>1295.28</td><td>1320.54</td><td>1328.13</td><td>1340.61</td></tr>\n",
       "\t<tr><th scope=row>TSLA</th><td> 334.86</td><td> 336.20</td><td>  33.02</td><td> 330.36</td><td> 335.89</td></tr>\n",
       "</tbody>\n",
       "</table>\n"
      ],
      "text/latex": [
       "\\begin{tabular}{r|lllll}\n",
       "  & Mo & Di & Mi & Do & Fr\\\\\n",
       "\\hline\n",
       "\tGOOG & 1289.92 & 1295.28 & 1320.54 & 1328.13 & 1340.61\\\\\n",
       "\tTSLA &  334.86 &  336.20 &   33.02 &  330.36 &  335.89\\\\\n",
       "\\end{tabular}\n"
      ],
      "text/markdown": [
       "\n",
       "| <!--/--> | Mo | Di | Mi | Do | Fr |\n",
       "|---|---|---|---|---|---|\n",
       "| GOOG | 1289.92 | 1295.28 | 1320.54 | 1328.13 | 1340.61 |\n",
       "| TSLA |  334.86 |  336.20 |   33.02 |  330.36 |  335.89 |\n",
       "\n"
      ],
      "text/plain": [
       "     Mo      Di      Mi      Do      Fr     \n",
       "GOOG 1289.92 1295.28 1320.54 1328.13 1340.61\n",
       "TSLA  334.86  336.20   33.02  330.36  335.89"
      ]
     },
     "metadata": {},
     "output_type": "display_data"
    }
   ],
   "source": [
    "aktien.matrix"
   ]
  },
  {
   "cell_type": "markdown",
   "metadata": {},
   "source": [
    "Sieht gut aus! Wir bauen uns so langsam etwas wirklich funktionelles auf. So langsam erinnert uns das an eine Tabelle.\n",
    "\n",
    "Das waren die Grundlagen zur Erstellung von Matrizen. In der nächsten Lektion werden wir eine Matrix von Aktienkursen erstellen, behaltet den Code also für spätere Verweise.\n",
    "\n",
    "Herzlichen Glückwunsch! Sie sind mit Lektion 11 fertig!"
   ]
  }
 ],
 "metadata": {
  "kernelspec": {
   "display_name": "R",
   "language": "R",
   "name": "ir"
  },
  "language_info": {
   "codemirror_mode": "r",
   "file_extension": ".r",
   "mimetype": "text/x-r-source",
   "name": "R",
   "pygments_lexer": "r",
   "version": "3.6.1"
  }
 },
 "nbformat": 4,
 "nbformat_minor": 1
}
