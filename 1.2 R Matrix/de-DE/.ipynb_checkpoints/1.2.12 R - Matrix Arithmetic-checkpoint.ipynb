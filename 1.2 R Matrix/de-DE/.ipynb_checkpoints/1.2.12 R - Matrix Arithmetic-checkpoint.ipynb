{
 "cells": [
  {
   "cell_type": "markdown",
   "metadata": {},
   "source": [
    "# Tag 1. Kapitel 2. Matrix\n",
    "\n",
    "## Lektion 12. Matrix Arithmetik\n",
    "\n",
    "Wir können mit Matrizen mathematische Operationen Element für Element durchführen, genau wie mit Vektoren. Dabei sollten ggf. beide Matrizen gleiche Anzahl an Zeilen und Spalten haben. Schauen wir uns einige Beispiele an:"
   ]
  },
  {
   "cell_type": "code",
   "execution_count": 140,
   "metadata": {},
   "outputs": [],
   "source": [
    "mat <- matrix(1:16,byrow=TRUE,nrow=4)"
   ]
  },
  {
   "cell_type": "code",
   "execution_count": 141,
   "metadata": {},
   "outputs": [
    {
     "name": "stdout",
     "output_type": "stream",
     "text": [
      "[1] \"1. Definierte Matrix mat1\"\n"
     ]
    },
    {
     "data": {
      "text/html": [
       "<table>\n",
       "<tbody>\n",
       "\t<tr><td> 1</td><td> 2</td><td> 3</td><td> 4</td></tr>\n",
       "\t<tr><td> 5</td><td> 6</td><td> 7</td><td> 8</td></tr>\n",
       "\t<tr><td> 9</td><td>10</td><td>11</td><td>12</td></tr>\n",
       "\t<tr><td>13</td><td>14</td><td>15</td><td>16</td></tr>\n",
       "</tbody>\n",
       "</table>\n"
      ],
      "text/latex": [
       "\\begin{tabular}{llll}\n",
       "\t  1 &  2 &  3 &  4\\\\\n",
       "\t  5 &  6 &  7 &  8\\\\\n",
       "\t  9 & 10 & 11 & 12\\\\\n",
       "\t 13 & 14 & 15 & 16\\\\\n",
       "\\end{tabular}\n"
      ],
      "text/markdown": [
       "\n",
       "|  1 |  2 |  3 |  4 |\n",
       "|  5 |  6 |  7 |  8 |\n",
       "|  9 | 10 | 11 | 12 |\n",
       "| 13 | 14 | 15 | 16 |\n",
       "\n"
      ],
      "text/plain": [
       "     [,1] [,2] [,3] [,4]\n",
       "[1,]  1    2    3    4  \n",
       "[2,]  5    6    7    8  \n",
       "[3,]  9   10   11   12  \n",
       "[4,] 13   14   15   16  "
      ]
     },
     "metadata": {},
     "output_type": "display_data"
    }
   ],
   "source": [
    "print('1. Definierte Matrix mat1')\n",
    "mat"
   ]
  },
  {
   "cell_type": "code",
   "execution_count": 142,
   "metadata": {},
   "outputs": [
    {
     "data": {
      "text/html": [
       "<table>\n",
       "<tbody>\n",
       "\t<tr><td> 1</td><td> 2</td><td> 3</td><td> 4</td></tr>\n",
       "\t<tr><td> 5</td><td> 6</td><td> 7</td><td> 8</td></tr>\n",
       "\t<tr><td> 9</td><td>10</td><td>11</td><td>12</td></tr>\n",
       "\t<tr><td>13</td><td>14</td><td>15</td><td>16</td></tr>\n",
       "</tbody>\n",
       "</table>\n"
      ],
      "text/latex": [
       "\\begin{tabular}{llll}\n",
       "\t  1 &  2 &  3 &  4\\\\\n",
       "\t  5 &  6 &  7 &  8\\\\\n",
       "\t  9 & 10 & 11 & 12\\\\\n",
       "\t 13 & 14 & 15 & 16\\\\\n",
       "\\end{tabular}\n"
      ],
      "text/markdown": [
       "\n",
       "|  1 |  2 |  3 |  4 |\n",
       "|  5 |  6 |  7 |  8 |\n",
       "|  9 | 10 | 11 | 12 |\n",
       "| 13 | 14 | 15 | 16 |\n",
       "\n"
      ],
      "text/plain": [
       "     [,1] [,2] [,3] [,4]\n",
       "[1,]  1    2    3    4  \n",
       "[2,]  5    6    7    8  \n",
       "[3,]  9   10   11   12  \n",
       "[4,] 13   14   15   16  "
      ]
     },
     "metadata": {},
     "output_type": "display_data"
    },
    {
     "data": {
      "text/html": [
       "<table>\n",
       "<tbody>\n",
       "\t<tr><td> 2</td><td> 4</td><td> 6</td><td> 8</td></tr>\n",
       "\t<tr><td>10</td><td>12</td><td>14</td><td>16</td></tr>\n",
       "\t<tr><td>18</td><td>20</td><td>22</td><td>24</td></tr>\n",
       "\t<tr><td>26</td><td>28</td><td>30</td><td>32</td></tr>\n",
       "</tbody>\n",
       "</table>\n"
      ],
      "text/latex": [
       "\\begin{tabular}{llll}\n",
       "\t  2 &  4 &  6 &  8\\\\\n",
       "\t 10 & 12 & 14 & 16\\\\\n",
       "\t 18 & 20 & 22 & 24\\\\\n",
       "\t 26 & 28 & 30 & 32\\\\\n",
       "\\end{tabular}\n"
      ],
      "text/markdown": [
       "\n",
       "|  2 |  4 |  6 |  8 |\n",
       "| 10 | 12 | 14 | 16 |\n",
       "| 18 | 20 | 22 | 24 |\n",
       "| 26 | 28 | 30 | 32 |\n",
       "\n"
      ],
      "text/plain": [
       "     [,1] [,2] [,3] [,4]\n",
       "[1,]  2    4    6    8  \n",
       "[2,] 10   12   14   16  \n",
       "[3,] 18   20   22   24  \n",
       "[4,] 26   28   30   32  "
      ]
     },
     "metadata": {},
     "output_type": "display_data"
    }
   ],
   "source": [
    "# Multiplikation\n",
    "mat\n",
    "mat * 2"
   ]
  },
  {
   "cell_type": "code",
   "execution_count": 143,
   "metadata": {},
   "outputs": [
    {
     "data": {
      "text/html": [
       "<table>\n",
       "<tbody>\n",
       "\t<tr><td> 1</td><td> 2</td><td> 3</td><td> 4</td></tr>\n",
       "\t<tr><td> 5</td><td> 6</td><td> 7</td><td> 8</td></tr>\n",
       "\t<tr><td> 9</td><td>10</td><td>11</td><td>12</td></tr>\n",
       "\t<tr><td>13</td><td>14</td><td>15</td><td>16</td></tr>\n",
       "</tbody>\n",
       "</table>\n"
      ],
      "text/latex": [
       "\\begin{tabular}{llll}\n",
       "\t  1 &  2 &  3 &  4\\\\\n",
       "\t  5 &  6 &  7 &  8\\\\\n",
       "\t  9 & 10 & 11 & 12\\\\\n",
       "\t 13 & 14 & 15 & 16\\\\\n",
       "\\end{tabular}\n"
      ],
      "text/markdown": [
       "\n",
       "|  1 |  2 |  3 |  4 |\n",
       "|  5 |  6 |  7 |  8 |\n",
       "|  9 | 10 | 11 | 12 |\n",
       "| 13 | 14 | 15 | 16 |\n",
       "\n"
      ],
      "text/plain": [
       "     [,1] [,2] [,3] [,4]\n",
       "[1,]  1    2    3    4  \n",
       "[2,]  5    6    7    8  \n",
       "[3,]  9   10   11   12  \n",
       "[4,] 13   14   15   16  "
      ]
     },
     "metadata": {},
     "output_type": "display_data"
    },
    {
     "data": {
      "text/html": [
       "<table>\n",
       "<tbody>\n",
       "\t<tr><td>1.00000000</td><td>0.50000000</td><td>0.33333333</td><td>0.25000000</td></tr>\n",
       "\t<tr><td>0.20000000</td><td>0.16666667</td><td>0.14285714</td><td>0.12500000</td></tr>\n",
       "\t<tr><td>0.11111111</td><td>0.10000000</td><td>0.09090909</td><td>0.08333333</td></tr>\n",
       "\t<tr><td>0.07692308</td><td>0.07142857</td><td>0.06666667</td><td>0.06250000</td></tr>\n",
       "</tbody>\n",
       "</table>\n"
      ],
      "text/latex": [
       "\\begin{tabular}{llll}\n",
       "\t 1.00000000 & 0.50000000 & 0.33333333 & 0.25000000\\\\\n",
       "\t 0.20000000 & 0.16666667 & 0.14285714 & 0.12500000\\\\\n",
       "\t 0.11111111 & 0.10000000 & 0.09090909 & 0.08333333\\\\\n",
       "\t 0.07692308 & 0.07142857 & 0.06666667 & 0.06250000\\\\\n",
       "\\end{tabular}\n"
      ],
      "text/markdown": [
       "\n",
       "| 1.00000000 | 0.50000000 | 0.33333333 | 0.25000000 |\n",
       "| 0.20000000 | 0.16666667 | 0.14285714 | 0.12500000 |\n",
       "| 0.11111111 | 0.10000000 | 0.09090909 | 0.08333333 |\n",
       "| 0.07692308 | 0.07142857 | 0.06666667 | 0.06250000 |\n",
       "\n"
      ],
      "text/plain": [
       "     [,1]       [,2]       [,3]       [,4]      \n",
       "[1,] 1.00000000 0.50000000 0.33333333 0.25000000\n",
       "[2,] 0.20000000 0.16666667 0.14285714 0.12500000\n",
       "[3,] 0.11111111 0.10000000 0.09090909 0.08333333\n",
       "[4,] 0.07692308 0.07142857 0.06666667 0.06250000"
      ]
     },
     "metadata": {},
     "output_type": "display_data"
    }
   ],
   "source": [
    "# Division (1)\n",
    "mat\n",
    "1 / mat"
   ]
  },
  {
   "cell_type": "code",
   "execution_count": 144,
   "metadata": {},
   "outputs": [
    {
     "data": {
      "text/html": [
       "<table>\n",
       "<tbody>\n",
       "\t<tr><td> 1</td><td> 2</td><td> 3</td><td> 4</td></tr>\n",
       "\t<tr><td> 5</td><td> 6</td><td> 7</td><td> 8</td></tr>\n",
       "\t<tr><td> 9</td><td>10</td><td>11</td><td>12</td></tr>\n",
       "\t<tr><td>13</td><td>14</td><td>15</td><td>16</td></tr>\n",
       "</tbody>\n",
       "</table>\n"
      ],
      "text/latex": [
       "\\begin{tabular}{llll}\n",
       "\t  1 &  2 &  3 &  4\\\\\n",
       "\t  5 &  6 &  7 &  8\\\\\n",
       "\t  9 & 10 & 11 & 12\\\\\n",
       "\t 13 & 14 & 15 & 16\\\\\n",
       "\\end{tabular}\n"
      ],
      "text/markdown": [
       "\n",
       "|  1 |  2 |  3 |  4 |\n",
       "|  5 |  6 |  7 |  8 |\n",
       "|  9 | 10 | 11 | 12 |\n",
       "| 13 | 14 | 15 | 16 |\n",
       "\n"
      ],
      "text/plain": [
       "     [,1] [,2] [,3] [,4]\n",
       "[1,]  1    2    3    4  \n",
       "[2,]  5    6    7    8  \n",
       "[3,]  9   10   11   12  \n",
       "[4,] 13   14   15   16  "
      ]
     },
     "metadata": {},
     "output_type": "display_data"
    },
    {
     "data": {
      "text/html": [
       "<table>\n",
       "<tbody>\n",
       "\t<tr><td>0.1</td><td>0.2</td><td>0.3</td><td>0.4</td></tr>\n",
       "\t<tr><td>0.5</td><td>0.6</td><td>0.7</td><td>0.8</td></tr>\n",
       "\t<tr><td>0.9</td><td>1.0</td><td>1.1</td><td>1.2</td></tr>\n",
       "\t<tr><td>1.3</td><td>1.4</td><td>1.5</td><td>1.6</td></tr>\n",
       "</tbody>\n",
       "</table>\n"
      ],
      "text/latex": [
       "\\begin{tabular}{llll}\n",
       "\t 0.1 & 0.2 & 0.3 & 0.4\\\\\n",
       "\t 0.5 & 0.6 & 0.7 & 0.8\\\\\n",
       "\t 0.9 & 1.0 & 1.1 & 1.2\\\\\n",
       "\t 1.3 & 1.4 & 1.5 & 1.6\\\\\n",
       "\\end{tabular}\n"
      ],
      "text/markdown": [
       "\n",
       "| 0.1 | 0.2 | 0.3 | 0.4 |\n",
       "| 0.5 | 0.6 | 0.7 | 0.8 |\n",
       "| 0.9 | 1.0 | 1.1 | 1.2 |\n",
       "| 1.3 | 1.4 | 1.5 | 1.6 |\n",
       "\n"
      ],
      "text/plain": [
       "     [,1] [,2] [,3] [,4]\n",
       "[1,] 0.1  0.2  0.3  0.4 \n",
       "[2,] 0.5  0.6  0.7  0.8 \n",
       "[3,] 0.9  1.0  1.1  1.2 \n",
       "[4,] 1.3  1.4  1.5  1.6 "
      ]
     },
     "metadata": {},
     "output_type": "display_data"
    }
   ],
   "source": [
    "# Division (2)\n",
    "mat\n",
    "mat / 10"
   ]
  },
  {
   "cell_type": "code",
   "execution_count": 145,
   "metadata": {},
   "outputs": [
    {
     "data": {
      "text/html": [
       "<table>\n",
       "<tbody>\n",
       "\t<tr><td> 1</td><td> 2</td><td> 3</td><td> 4</td></tr>\n",
       "\t<tr><td> 5</td><td> 6</td><td> 7</td><td> 8</td></tr>\n",
       "\t<tr><td> 9</td><td>10</td><td>11</td><td>12</td></tr>\n",
       "\t<tr><td>13</td><td>14</td><td>15</td><td>16</td></tr>\n",
       "</tbody>\n",
       "</table>\n"
      ],
      "text/latex": [
       "\\begin{tabular}{llll}\n",
       "\t  1 &  2 &  3 &  4\\\\\n",
       "\t  5 &  6 &  7 &  8\\\\\n",
       "\t  9 & 10 & 11 & 12\\\\\n",
       "\t 13 & 14 & 15 & 16\\\\\n",
       "\\end{tabular}\n"
      ],
      "text/markdown": [
       "\n",
       "|  1 |  2 |  3 |  4 |\n",
       "|  5 |  6 |  7 |  8 |\n",
       "|  9 | 10 | 11 | 12 |\n",
       "| 13 | 14 | 15 | 16 |\n",
       "\n"
      ],
      "text/plain": [
       "     [,1] [,2] [,3] [,4]\n",
       "[1,]  1    2    3    4  \n",
       "[2,]  5    6    7    8  \n",
       "[3,]  9   10   11   12  \n",
       "[4,] 13   14   15   16  "
      ]
     },
     "metadata": {},
     "output_type": "display_data"
    },
    {
     "data": {
      "text/html": [
       "<table>\n",
       "<tbody>\n",
       "\t<tr><td>  1</td><td>  4</td><td>  9</td><td> 16</td></tr>\n",
       "\t<tr><td> 25</td><td> 36</td><td> 49</td><td> 64</td></tr>\n",
       "\t<tr><td> 81</td><td>100</td><td>121</td><td>144</td></tr>\n",
       "\t<tr><td>169</td><td>196</td><td>225</td><td>256</td></tr>\n",
       "</tbody>\n",
       "</table>\n"
      ],
      "text/latex": [
       "\\begin{tabular}{llll}\n",
       "\t   1 &   4 &   9 &  16\\\\\n",
       "\t  25 &  36 &  49 &  64\\\\\n",
       "\t  81 & 100 & 121 & 144\\\\\n",
       "\t 169 & 196 & 225 & 256\\\\\n",
       "\\end{tabular}\n"
      ],
      "text/markdown": [
       "\n",
       "|   1 |   4 |   9 |  16 |\n",
       "|  25 |  36 |  49 |  64 |\n",
       "|  81 | 100 | 121 | 144 |\n",
       "| 169 | 196 | 225 | 256 |\n",
       "\n"
      ],
      "text/plain": [
       "     [,1] [,2] [,3] [,4]\n",
       "[1,]   1    4    9   16 \n",
       "[2,]  25   36   49   64 \n",
       "[3,]  81  100  121  144 \n",
       "[4,] 169  196  225  256 "
      ]
     },
     "metadata": {},
     "output_type": "display_data"
    }
   ],
   "source": [
    "# Potenz (1)\n",
    "mat\n",
    "mat ^ 2"
   ]
  },
  {
   "cell_type": "markdown",
   "metadata": {},
   "source": [
    "## Vergleichsoperatoren mit Matrizen\n",
    "\n",
    "Wir können des Weiteren Vergleichsoperatoren auf eine ganze Matrix anwenden, was uns eine Matrix logischer Werte als Ergebnis gibt."
   ]
  },
  {
   "cell_type": "code",
   "execution_count": 146,
   "metadata": {},
   "outputs": [
    {
     "data": {
      "text/html": [
       "<table>\n",
       "<tbody>\n",
       "\t<tr><td> 1</td><td> 2</td><td> 3</td><td> 4</td></tr>\n",
       "\t<tr><td> 5</td><td> 6</td><td> 7</td><td> 8</td></tr>\n",
       "\t<tr><td> 9</td><td>10</td><td>11</td><td>12</td></tr>\n",
       "\t<tr><td>13</td><td>14</td><td>15</td><td>16</td></tr>\n",
       "</tbody>\n",
       "</table>\n"
      ],
      "text/latex": [
       "\\begin{tabular}{llll}\n",
       "\t  1 &  2 &  3 &  4\\\\\n",
       "\t  5 &  6 &  7 &  8\\\\\n",
       "\t  9 & 10 & 11 & 12\\\\\n",
       "\t 13 & 14 & 15 & 16\\\\\n",
       "\\end{tabular}\n"
      ],
      "text/markdown": [
       "\n",
       "|  1 |  2 |  3 |  4 |\n",
       "|  5 |  6 |  7 |  8 |\n",
       "|  9 | 10 | 11 | 12 |\n",
       "| 13 | 14 | 15 | 16 |\n",
       "\n"
      ],
      "text/plain": [
       "     [,1] [,2] [,3] [,4]\n",
       "[1,]  1    2    3    4  \n",
       "[2,]  5    6    7    8  \n",
       "[3,]  9   10   11   12  \n",
       "[4,] 13   14   15   16  "
      ]
     },
     "metadata": {},
     "output_type": "display_data"
    },
    {
     "data": {
      "text/html": [
       "<table>\n",
       "<tbody>\n",
       "\t<tr><td>FALSE</td><td>FALSE</td><td>FALSE</td><td>FALSE</td></tr>\n",
       "\t<tr><td>FALSE</td><td>FALSE</td><td>FALSE</td><td>FALSE</td></tr>\n",
       "\t<tr><td> TRUE</td><td> TRUE</td><td> TRUE</td><td> TRUE</td></tr>\n",
       "\t<tr><td> TRUE</td><td> TRUE</td><td> TRUE</td><td> TRUE</td></tr>\n",
       "</tbody>\n",
       "</table>\n"
      ],
      "text/latex": [
       "\\begin{tabular}{llll}\n",
       "\t FALSE & FALSE & FALSE & FALSE\\\\\n",
       "\t FALSE & FALSE & FALSE & FALSE\\\\\n",
       "\t  TRUE &  TRUE &  TRUE &  TRUE\\\\\n",
       "\t  TRUE &  TRUE &  TRUE &  TRUE\\\\\n",
       "\\end{tabular}\n"
      ],
      "text/markdown": [
       "\n",
       "| FALSE | FALSE | FALSE | FALSE |\n",
       "| FALSE | FALSE | FALSE | FALSE |\n",
       "|  TRUE |  TRUE |  TRUE |  TRUE |\n",
       "|  TRUE |  TRUE |  TRUE |  TRUE |\n",
       "\n"
      ],
      "text/plain": [
       "     [,1]  [,2]  [,3]  [,4] \n",
       "[1,] FALSE FALSE FALSE FALSE\n",
       "[2,] FALSE FALSE FALSE FALSE\n",
       "[3,]  TRUE  TRUE  TRUE  TRUE\n",
       "[4,]  TRUE  TRUE  TRUE  TRUE"
      ]
     },
     "metadata": {},
     "output_type": "display_data"
    }
   ],
   "source": [
    "mat\n",
    "mat > 8"
   ]
  },
  {
   "cell_type": "markdown",
   "metadata": {},
   "source": [
    "## Matrix Arithmetik mit mehrere Matrizen\n",
    "\n",
    "Wir können außerdem Arithmetik auf mehrere Matrizen anwenden. Ein Beispiel:"
   ]
  },
  {
   "cell_type": "code",
   "execution_count": 147,
   "metadata": {},
   "outputs": [
    {
     "name": "stdout",
     "output_type": "stream",
     "text": [
      "[1] \"1. Definierte Matrix mat1\"\n"
     ]
    },
    {
     "data": {
      "text/html": [
       "<table>\n",
       "<tbody>\n",
       "\t<tr><td> 1</td><td> 2</td><td> 3</td><td> 4</td></tr>\n",
       "\t<tr><td> 5</td><td> 6</td><td> 7</td><td> 8</td></tr>\n",
       "\t<tr><td> 9</td><td>10</td><td>11</td><td>12</td></tr>\n",
       "\t<tr><td>13</td><td>14</td><td>15</td><td>16</td></tr>\n",
       "</tbody>\n",
       "</table>\n"
      ],
      "text/latex": [
       "\\begin{tabular}{llll}\n",
       "\t  1 &  2 &  3 &  4\\\\\n",
       "\t  5 &  6 &  7 &  8\\\\\n",
       "\t  9 & 10 & 11 & 12\\\\\n",
       "\t 13 & 14 & 15 & 16\\\\\n",
       "\\end{tabular}\n"
      ],
      "text/markdown": [
       "\n",
       "|  1 |  2 |  3 |  4 |\n",
       "|  5 |  6 |  7 |  8 |\n",
       "|  9 | 10 | 11 | 12 |\n",
       "| 13 | 14 | 15 | 16 |\n",
       "\n"
      ],
      "text/plain": [
       "     [,1] [,2] [,3] [,4]\n",
       "[1,]  1    2    3    4  \n",
       "[2,]  5    6    7    8  \n",
       "[3,]  9   10   11   12  \n",
       "[4,] 13   14   15   16  "
      ]
     },
     "metadata": {},
     "output_type": "display_data"
    }
   ],
   "source": [
    "print('1. Definierte Matrix mat1')\n",
    "mat"
   ]
  },
  {
   "cell_type": "code",
   "execution_count": 148,
   "metadata": {},
   "outputs": [
    {
     "name": "stdout",
     "output_type": "stream",
     "text": [
      "[1] \"2. Definierte Matrix mat2\"\n"
     ]
    },
    {
     "data": {
      "text/html": [
       "<table>\n",
       "<tbody>\n",
       "\t<tr><td>16 </td><td>10 </td><td> 22</td><td>11 </td></tr>\n",
       "\t<tr><td>55 </td><td>10 </td><td> 22</td><td> 1 </td></tr>\n",
       "\t<tr><td> 3 </td><td> 4 </td><td>  5</td><td>12 </td></tr>\n",
       "\t<tr><td> 3 </td><td>44 </td><td>-11</td><td>77 </td></tr>\n",
       "</tbody>\n",
       "</table>\n"
      ],
      "text/latex": [
       "\\begin{tabular}{llll}\n",
       "\t 16  & 10  &  22 & 11 \\\\\n",
       "\t 55  & 10  &  22 &  1 \\\\\n",
       "\t  3  &  4  &   5 & 12 \\\\\n",
       "\t  3  & 44  & -11 & 77 \\\\\n",
       "\\end{tabular}\n"
      ],
      "text/markdown": [
       "\n",
       "| 16  | 10  |  22 | 11  |\n",
       "| 55  | 10  |  22 |  1  |\n",
       "|  3  |  4  |   5 | 12  |\n",
       "|  3  | 44  | -11 | 77  |\n",
       "\n"
      ],
      "text/plain": [
       "     [,1] [,2] [,3] [,4]\n",
       "[1,] 16   10    22  11  \n",
       "[2,] 55   10    22   1  \n",
       "[3,]  3    4     5  12  \n",
       "[4,]  3   44   -11  77  "
      ]
     },
     "metadata": {},
     "output_type": "display_data"
    }
   ],
   "source": [
    "mat2 <- matrix(c(16,10,22,11,55,10,22,1,3,4,5,12,3,44,-11,77),byrow=TRUE,nrow=4)\n",
    "\n",
    "print('2. Definierte Matrix mat2')\n",
    "mat2"
   ]
  },
  {
   "cell_type": "code",
   "execution_count": 149,
   "metadata": {},
   "outputs": [
    {
     "name": "stdout",
     "output_type": "stream",
     "text": [
      "[1] \"mat1 + mat2\"\n"
     ]
    },
    {
     "data": {
      "text/html": [
       "<table>\n",
       "<tbody>\n",
       "\t<tr><td>17</td><td>12</td><td>25</td><td>15</td></tr>\n",
       "\t<tr><td>60</td><td>16</td><td>29</td><td> 9</td></tr>\n",
       "\t<tr><td>12</td><td>14</td><td>16</td><td>24</td></tr>\n",
       "\t<tr><td>16</td><td>58</td><td> 4</td><td>93</td></tr>\n",
       "</tbody>\n",
       "</table>\n"
      ],
      "text/latex": [
       "\\begin{tabular}{llll}\n",
       "\t 17 & 12 & 25 & 15\\\\\n",
       "\t 60 & 16 & 29 &  9\\\\\n",
       "\t 12 & 14 & 16 & 24\\\\\n",
       "\t 16 & 58 &  4 & 93\\\\\n",
       "\\end{tabular}\n"
      ],
      "text/markdown": [
       "\n",
       "| 17 | 12 | 25 | 15 |\n",
       "| 60 | 16 | 29 |  9 |\n",
       "| 12 | 14 | 16 | 24 |\n",
       "| 16 | 58 |  4 | 93 |\n",
       "\n"
      ],
      "text/plain": [
       "     [,1] [,2] [,3] [,4]\n",
       "[1,] 17   12   25   15  \n",
       "[2,] 60   16   29    9  \n",
       "[3,] 12   14   16   24  \n",
       "[4,] 16   58    4   93  "
      ]
     },
     "metadata": {},
     "output_type": "display_data"
    }
   ],
   "source": [
    "# Addition\n",
    "print('mat1 + mat2')\n",
    "mat + mat2"
   ]
  },
  {
   "cell_type": "code",
   "execution_count": 150,
   "metadata": {},
   "outputs": [
    {
     "name": "stdout",
     "output_type": "stream",
     "text": [
      "[1] \"Matrix mat1\"\n"
     ]
    },
    {
     "data": {
      "text/html": [
       "<table>\n",
       "<tbody>\n",
       "\t<tr><td> 1</td><td> 2</td><td> 3</td><td> 4</td></tr>\n",
       "\t<tr><td> 5</td><td> 6</td><td> 7</td><td> 8</td></tr>\n",
       "\t<tr><td> 9</td><td>10</td><td>11</td><td>12</td></tr>\n",
       "\t<tr><td>13</td><td>14</td><td>15</td><td>16</td></tr>\n",
       "</tbody>\n",
       "</table>\n"
      ],
      "text/latex": [
       "\\begin{tabular}{llll}\n",
       "\t  1 &  2 &  3 &  4\\\\\n",
       "\t  5 &  6 &  7 &  8\\\\\n",
       "\t  9 & 10 & 11 & 12\\\\\n",
       "\t 13 & 14 & 15 & 16\\\\\n",
       "\\end{tabular}\n"
      ],
      "text/markdown": [
       "\n",
       "|  1 |  2 |  3 |  4 |\n",
       "|  5 |  6 |  7 |  8 |\n",
       "|  9 | 10 | 11 | 12 |\n",
       "| 13 | 14 | 15 | 16 |\n",
       "\n"
      ],
      "text/plain": [
       "     [,1] [,2] [,3] [,4]\n",
       "[1,]  1    2    3    4  \n",
       "[2,]  5    6    7    8  \n",
       "[3,]  9   10   11   12  \n",
       "[4,] 13   14   15   16  "
      ]
     },
     "metadata": {},
     "output_type": "display_data"
    },
    {
     "name": "stdout",
     "output_type": "stream",
     "text": [
      "[1] \"Matrix mat2\"\n"
     ]
    },
    {
     "data": {
      "text/html": [
       "<table>\n",
       "<tbody>\n",
       "\t<tr><td>16 </td><td>10 </td><td> 22</td><td>11 </td></tr>\n",
       "\t<tr><td>55 </td><td>10 </td><td> 22</td><td> 1 </td></tr>\n",
       "\t<tr><td> 3 </td><td> 4 </td><td>  5</td><td>12 </td></tr>\n",
       "\t<tr><td> 3 </td><td>44 </td><td>-11</td><td>77 </td></tr>\n",
       "</tbody>\n",
       "</table>\n"
      ],
      "text/latex": [
       "\\begin{tabular}{llll}\n",
       "\t 16  & 10  &  22 & 11 \\\\\n",
       "\t 55  & 10  &  22 &  1 \\\\\n",
       "\t  3  &  4  &   5 & 12 \\\\\n",
       "\t  3  & 44  & -11 & 77 \\\\\n",
       "\\end{tabular}\n"
      ],
      "text/markdown": [
       "\n",
       "| 16  | 10  |  22 | 11  |\n",
       "| 55  | 10  |  22 |  1  |\n",
       "|  3  |  4  |   5 | 12  |\n",
       "|  3  | 44  | -11 | 77  |\n",
       "\n"
      ],
      "text/plain": [
       "     [,1] [,2] [,3] [,4]\n",
       "[1,] 16   10    22  11  \n",
       "[2,] 55   10    22   1  \n",
       "[3,]  3    4     5  12  \n",
       "[4,]  3   44   -11  77  "
      ]
     },
     "metadata": {},
     "output_type": "display_data"
    },
    {
     "name": "stdout",
     "output_type": "stream",
     "text": [
      "[1] \"mat2 /  mat1\"\n"
     ]
    },
    {
     "data": {
      "text/html": [
       "<table>\n",
       "<tbody>\n",
       "\t<tr><td>16.0000000</td><td>5.000000  </td><td> 7.3333333</td><td>2.7500    </td></tr>\n",
       "\t<tr><td>11.0000000</td><td>1.666667  </td><td> 3.1428571</td><td>0.1250    </td></tr>\n",
       "\t<tr><td> 0.3333333</td><td>0.400000  </td><td> 0.4545455</td><td>1.0000    </td></tr>\n",
       "\t<tr><td> 0.2307692</td><td>3.142857  </td><td>-0.7333333</td><td>4.8125    </td></tr>\n",
       "</tbody>\n",
       "</table>\n"
      ],
      "text/latex": [
       "\\begin{tabular}{llll}\n",
       "\t 16.0000000 & 5.000000   &  7.3333333 & 2.7500    \\\\\n",
       "\t 11.0000000 & 1.666667   &  3.1428571 & 0.1250    \\\\\n",
       "\t  0.3333333 & 0.400000   &  0.4545455 & 1.0000    \\\\\n",
       "\t  0.2307692 & 3.142857   & -0.7333333 & 4.8125    \\\\\n",
       "\\end{tabular}\n"
      ],
      "text/markdown": [
       "\n",
       "| 16.0000000 | 5.000000   |  7.3333333 | 2.7500     |\n",
       "| 11.0000000 | 1.666667   |  3.1428571 | 0.1250     |\n",
       "|  0.3333333 | 0.400000   |  0.4545455 | 1.0000     |\n",
       "|  0.2307692 | 3.142857   | -0.7333333 | 4.8125     |\n",
       "\n"
      ],
      "text/plain": [
       "     [,1]       [,2]     [,3]       [,4]  \n",
       "[1,] 16.0000000 5.000000  7.3333333 2.7500\n",
       "[2,] 11.0000000 1.666667  3.1428571 0.1250\n",
       "[3,]  0.3333333 0.400000  0.4545455 1.0000\n",
       "[4,]  0.2307692 3.142857 -0.7333333 4.8125"
      ]
     },
     "metadata": {},
     "output_type": "display_data"
    }
   ],
   "source": [
    "# Division\n",
    "print('Matrix mat1')\n",
    "mat\n",
    "print('Matrix mat2')\n",
    "mat2\n",
    "\n",
    "print('mat2 /  mat1')\n",
    "mat2 / mat"
   ]
  },
  {
   "cell_type": "code",
   "execution_count": 151,
   "metadata": {},
   "outputs": [
    {
     "name": "stdout",
     "output_type": "stream",
     "text": [
      "[1] \"Matrix mat2\"\n"
     ]
    },
    {
     "data": {
      "text/html": [
       "<table>\n",
       "<tbody>\n",
       "\t<tr><td>16 </td><td>10 </td><td> 22</td><td>11 </td></tr>\n",
       "\t<tr><td>55 </td><td>10 </td><td> 22</td><td> 1 </td></tr>\n",
       "\t<tr><td> 3 </td><td> 4 </td><td>  5</td><td>12 </td></tr>\n",
       "\t<tr><td> 3 </td><td>44 </td><td>-11</td><td>77 </td></tr>\n",
       "</tbody>\n",
       "</table>\n"
      ],
      "text/latex": [
       "\\begin{tabular}{llll}\n",
       "\t 16  & 10  &  22 & 11 \\\\\n",
       "\t 55  & 10  &  22 &  1 \\\\\n",
       "\t  3  &  4  &   5 & 12 \\\\\n",
       "\t  3  & 44  & -11 & 77 \\\\\n",
       "\\end{tabular}\n"
      ],
      "text/markdown": [
       "\n",
       "| 16  | 10  |  22 | 11  |\n",
       "| 55  | 10  |  22 |  1  |\n",
       "|  3  |  4  |   5 | 12  |\n",
       "|  3  | 44  | -11 | 77  |\n",
       "\n"
      ],
      "text/plain": [
       "     [,1] [,2] [,3] [,4]\n",
       "[1,] 16   10    22  11  \n",
       "[2,] 55   10    22   1  \n",
       "[3,]  3    4     5  12  \n",
       "[4,]  3   44   -11  77  "
      ]
     },
     "metadata": {},
     "output_type": "display_data"
    },
    {
     "name": "stdout",
     "output_type": "stream",
     "text": [
      "[1] \"Matrix mat1\"\n"
     ]
    },
    {
     "data": {
      "text/html": [
       "<table>\n",
       "<tbody>\n",
       "\t<tr><td> 1</td><td> 2</td><td> 3</td><td> 4</td></tr>\n",
       "\t<tr><td> 5</td><td> 6</td><td> 7</td><td> 8</td></tr>\n",
       "\t<tr><td> 9</td><td>10</td><td>11</td><td>12</td></tr>\n",
       "\t<tr><td>13</td><td>14</td><td>15</td><td>16</td></tr>\n",
       "</tbody>\n",
       "</table>\n"
      ],
      "text/latex": [
       "\\begin{tabular}{llll}\n",
       "\t  1 &  2 &  3 &  4\\\\\n",
       "\t  5 &  6 &  7 &  8\\\\\n",
       "\t  9 & 10 & 11 & 12\\\\\n",
       "\t 13 & 14 & 15 & 16\\\\\n",
       "\\end{tabular}\n"
      ],
      "text/markdown": [
       "\n",
       "|  1 |  2 |  3 |  4 |\n",
       "|  5 |  6 |  7 |  8 |\n",
       "|  9 | 10 | 11 | 12 |\n",
       "| 13 | 14 | 15 | 16 |\n",
       "\n"
      ],
      "text/plain": [
       "     [,1] [,2] [,3] [,4]\n",
       "[1,]  1    2    3    4  \n",
       "[2,]  5    6    7    8  \n",
       "[3,]  9   10   11   12  \n",
       "[4,] 13   14   15   16  "
      ]
     },
     "metadata": {},
     "output_type": "display_data"
    },
    {
     "name": "stdout",
     "output_type": "stream",
     "text": [
      "[1] \"mat2 ^ (hoch) mat1\"\n"
     ]
    },
    {
     "data": {
      "text/html": [
       "<table>\n",
       "<tbody>\n",
       "\t<tr><td>       16    </td><td>1.000000e+02 </td><td> 1.064800e+04</td><td>1.464100e+04 </td></tr>\n",
       "\t<tr><td>503284375    </td><td>1.000000e+06 </td><td> 2.494358e+09</td><td>1.000000e+00 </td></tr>\n",
       "\t<tr><td>    19683    </td><td>1.048576e+06 </td><td> 4.882813e+07</td><td>8.916100e+12 </td></tr>\n",
       "\t<tr><td>  1594323    </td><td>1.019383e+23 </td><td>-4.177248e+15</td><td>1.527044e+30 </td></tr>\n",
       "</tbody>\n",
       "</table>\n"
      ],
      "text/latex": [
       "\\begin{tabular}{llll}\n",
       "\t        16     & 1.000000e+02  &  1.064800e+04 & 1.464100e+04 \\\\\n",
       "\t 503284375     & 1.000000e+06  &  2.494358e+09 & 1.000000e+00 \\\\\n",
       "\t     19683     & 1.048576e+06  &  4.882813e+07 & 8.916100e+12 \\\\\n",
       "\t   1594323     & 1.019383e+23  & -4.177248e+15 & 1.527044e+30 \\\\\n",
       "\\end{tabular}\n"
      ],
      "text/markdown": [
       "\n",
       "|        16     | 1.000000e+02  |  1.064800e+04 | 1.464100e+04  |\n",
       "| 503284375     | 1.000000e+06  |  2.494358e+09 | 1.000000e+00  |\n",
       "|     19683     | 1.048576e+06  |  4.882813e+07 | 8.916100e+12  |\n",
       "|   1594323     | 1.019383e+23  | -4.177248e+15 | 1.527044e+30  |\n",
       "\n"
      ],
      "text/plain": [
       "     [,1]      [,2]         [,3]          [,4]        \n",
       "[1,]        16 1.000000e+02  1.064800e+04 1.464100e+04\n",
       "[2,] 503284375 1.000000e+06  2.494358e+09 1.000000e+00\n",
       "[3,]     19683 1.048576e+06  4.882813e+07 8.916100e+12\n",
       "[4,]   1594323 1.019383e+23 -4.177248e+15 1.527044e+30"
      ]
     },
     "metadata": {},
     "output_type": "display_data"
    }
   ],
   "source": [
    "# Potenz\n",
    "print('Matrix mat2')\n",
    "mat2\n",
    "print('Matrix mat1')\n",
    "mat\n",
    "\n",
    "print('mat2 ^ (hoch) mat1')\n",
    "mat2 ^ mat"
   ]
  },
  {
   "cell_type": "code",
   "execution_count": 152,
   "metadata": {},
   "outputs": [
    {
     "name": "stdout",
     "output_type": "stream",
     "text": [
      "[1] \"Matrix mat1\"\n"
     ]
    },
    {
     "data": {
      "text/html": [
       "<table>\n",
       "<tbody>\n",
       "\t<tr><td> 1</td><td> 2</td><td> 3</td><td> 4</td></tr>\n",
       "\t<tr><td> 5</td><td> 6</td><td> 7</td><td> 8</td></tr>\n",
       "\t<tr><td> 9</td><td>10</td><td>11</td><td>12</td></tr>\n",
       "\t<tr><td>13</td><td>14</td><td>15</td><td>16</td></tr>\n",
       "</tbody>\n",
       "</table>\n"
      ],
      "text/latex": [
       "\\begin{tabular}{llll}\n",
       "\t  1 &  2 &  3 &  4\\\\\n",
       "\t  5 &  6 &  7 &  8\\\\\n",
       "\t  9 & 10 & 11 & 12\\\\\n",
       "\t 13 & 14 & 15 & 16\\\\\n",
       "\\end{tabular}\n"
      ],
      "text/markdown": [
       "\n",
       "|  1 |  2 |  3 |  4 |\n",
       "|  5 |  6 |  7 |  8 |\n",
       "|  9 | 10 | 11 | 12 |\n",
       "| 13 | 14 | 15 | 16 |\n",
       "\n"
      ],
      "text/plain": [
       "     [,1] [,2] [,3] [,4]\n",
       "[1,]  1    2    3    4  \n",
       "[2,]  5    6    7    8  \n",
       "[3,]  9   10   11   12  \n",
       "[4,] 13   14   15   16  "
      ]
     },
     "metadata": {},
     "output_type": "display_data"
    },
    {
     "name": "stdout",
     "output_type": "stream",
     "text": [
      "[1] \"Matrix mat2\"\n"
     ]
    },
    {
     "data": {
      "text/html": [
       "<table>\n",
       "<tbody>\n",
       "\t<tr><td>16 </td><td>10 </td><td> 22</td><td>11 </td></tr>\n",
       "\t<tr><td>55 </td><td>10 </td><td> 22</td><td> 1 </td></tr>\n",
       "\t<tr><td> 3 </td><td> 4 </td><td>  5</td><td>12 </td></tr>\n",
       "\t<tr><td> 3 </td><td>44 </td><td>-11</td><td>77 </td></tr>\n",
       "</tbody>\n",
       "</table>\n"
      ],
      "text/latex": [
       "\\begin{tabular}{llll}\n",
       "\t 16  & 10  &  22 & 11 \\\\\n",
       "\t 55  & 10  &  22 &  1 \\\\\n",
       "\t  3  &  4  &   5 & 12 \\\\\n",
       "\t  3  & 44  & -11 & 77 \\\\\n",
       "\\end{tabular}\n"
      ],
      "text/markdown": [
       "\n",
       "| 16  | 10  |  22 | 11  |\n",
       "| 55  | 10  |  22 |  1  |\n",
       "|  3  |  4  |   5 | 12  |\n",
       "|  3  | 44  | -11 | 77  |\n",
       "\n"
      ],
      "text/plain": [
       "     [,1] [,2] [,3] [,4]\n",
       "[1,] 16   10    22  11  \n",
       "[2,] 55   10    22   1  \n",
       "[3,]  3    4     5  12  \n",
       "[4,]  3   44   -11  77  "
      ]
     },
     "metadata": {},
     "output_type": "display_data"
    },
    {
     "name": "stdout",
     "output_type": "stream",
     "text": [
      "[1] \"mat1 * mat2 (elementweise)\"\n"
     ]
    },
    {
     "data": {
      "text/html": [
       "<table>\n",
       "<tbody>\n",
       "\t<tr><td> 16 </td><td> 20 </td><td>  66</td><td>  44</td></tr>\n",
       "\t<tr><td>275 </td><td> 60 </td><td> 154</td><td>   8</td></tr>\n",
       "\t<tr><td> 27 </td><td> 40 </td><td>  55</td><td> 144</td></tr>\n",
       "\t<tr><td> 39 </td><td>616 </td><td>-165</td><td>1232</td></tr>\n",
       "</tbody>\n",
       "</table>\n"
      ],
      "text/latex": [
       "\\begin{tabular}{llll}\n",
       "\t  16  &  20  &   66 &   44\\\\\n",
       "\t 275  &  60  &  154 &    8\\\\\n",
       "\t  27  &  40  &   55 &  144\\\\\n",
       "\t  39  & 616  & -165 & 1232\\\\\n",
       "\\end{tabular}\n"
      ],
      "text/markdown": [
       "\n",
       "|  16  |  20  |   66 |   44 |\n",
       "| 275  |  60  |  154 |    8 |\n",
       "|  27  |  40  |   55 |  144 |\n",
       "|  39  | 616  | -165 | 1232 |\n",
       "\n"
      ],
      "text/plain": [
       "     [,1] [,2] [,3] [,4]\n",
       "[1,]  16   20    66   44\n",
       "[2,] 275   60   154    8\n",
       "[3,]  27   40    55  144\n",
       "[4,]  39  616  -165 1232"
      ]
     },
     "metadata": {},
     "output_type": "display_data"
    }
   ],
   "source": [
    "# Multiplikation (elementweise)\n",
    "print('Matrix mat1')\n",
    "mat\n",
    "\n",
    "print('Matrix mat2')\n",
    "mat2\n",
    "\n",
    "\n",
    "print('mat1 * mat2 (elementweise)')\n",
    "mat * mat2"
   ]
  },
  {
   "cell_type": "markdown",
   "metadata": {},
   "source": [
    "##### Achtung! Bitte nich mit einer \"echten\" Matrix-Multiplikation (Matrix-Produkt) verwechseln! "
   ]
  },
  {
   "cell_type": "markdown",
   "metadata": {},
   "source": [
    "## Matrix Multiplikation (Matrix-Produkt)\n",
    "\n",
    "Eine kurze Notiz zur Multiplikation von Matrizen in R. Die Multiplikation Element für Element können wir mit dem * Zeichen durchführen. Eine \"echte\" [Matrizenmultiplikation](https://de.wikipedia.org/wiki/Matrizenmultiplikation) liefert ein Matrix-Produkt als Egebnis zurück. Ein Matrix-Produkt wird mit R wie folgt berechnet:"
   ]
  },
  {
   "attachments": {
    "m1.svg": {
     "image/svg+xml": [
      "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"
     ]
    },
    "m2.svg": {
     "image/svg+xml": [
      "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"
     ]
    },
    "m3.svg": {
     "image/svg+xml": [
      "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"
     ]
    },
    "m4.svg": {
     "image/svg+xml": [
      "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"
     ]
    },
    "m5.svg": {
     "image/svg+xml": [
      "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"
     ]
    },
    "m6.svg": {
     "image/svg+xml": [
      "PHN2ZyB4bWxuczp4bGluaz0iaHR0cDovL3d3dy53My5vcmcvMTk5OS94bGluayIgd2lkdGg9IjYzLjgxOGV4IiBoZWlnaHQ9IjkuMTc2ZXgiIHN0eWxlPSJ2ZXJ0aWNhbC1hbGlnbjogLTQuMDA1ZXg7IiB2aWV3Qm94PSIwIC0yMjI2LjUgMjc0NzcgMzk1MC43IiByb2xlPSJpbWciIGZvY3VzYWJsZT0iZmFsc2UiIHhtbG5zPSJodHRwOi8vd3d3LnczLm9yZy8yMDAwL3N2ZyIgYXJpYS1sYWJlbGxlZGJ5PSJNYXRoSmF4LVNWRy0xLVRpdGxlIj4KPHRpdGxlIGlkPSJNYXRoSmF4LVNWRy0xLVRpdGxlIj57XGRpc3BsYXlzdHlsZSB7XGJlZ2lue3BtYXRyaXh9MyZhbXA7MiZhbXA7MVxcXGNvbG9yIHtPbGl2ZUdyZWVufTEmYW1wO1xjb2xvciB7T2xpdmVHcmVlbn0wJmFtcDtcY29sb3Ige09saXZlR3JlZW59MlxlbmR7cG1hdHJpeH19XGNkb3Qge1xiZWdpbntwbWF0cml4fTEmYW1wO1xjb2xvciB7QnJpY2tSZWR9MlxcMCZhbXA7XGNvbG9yIHtCcmlja1JlZH0xXFw0JmFtcDtcY29sb3Ige0JyaWNrUmVkfTBcZW5ke3BtYXRyaXh9fT17XGJlZ2lue3BtYXRyaXh9NyZhbXA7OFxcOSZhbXA7e1xjb2xvciB7T2xpdmVHcmVlbn0xfVxjZG90IHtcY29sb3Ige0JyaWNrUmVkfTJ9K3tcY29sb3Ige09saXZlR3JlZW59MH1cY2RvdCB7XGNvbG9yIHtCcmlja1JlZH0xfSt7XGNvbG9yIHtPbGl2ZUdyZWVufTJ9XGNkb3Qge1xjb2xvciB7QnJpY2tSZWR9MH1cZW5ke3BtYXRyaXh9fT17XGJlZ2lue3BtYXRyaXh9NyZhbXA7OFxcOSZhbXA7e1xjb2xvciB7Qmx1ZX0yfVxlbmR7cG1hdHJpeH19fTwvdGl0bGU+CjxkZWZzIGFyaWEtaGlkZGVuPSJ0cnVlIj4KPHBhdGggc3Ryb2tlLXdpZHRoPSIxIiBpZD0iRTEtTUpNQUlOLTI4IiBkPSJNOTQgMjUwUTk0IDMxOSAxMDQgMzgxVDEyNyA0ODhUMTY0IDU3NlQyMDIgNjQzVDI0NCA2OTVUMjc3IDcyOVQzMDIgNzUwSDMxNUgzMTlRMzMzIDc1MCAzMzMgNzQxUTMzMyA3MzggMzE2IDcyMFQyNzUgNjY3VDIyNiA1ODFUMTg0IDQ0M1QxNjcgMjUwVDE4NCA1OFQyMjUgLTgxVDI3NCAtMTY3VDMxNiAtMjIwVDMzMyAtMjQxUTMzMyAtMjUwIDMxOCAtMjUwSDMxNUgzMDJMMjc0IC0yMjZRMTgwIC0xNDEgMTM3IC0xNFQ5NCAyNTBaIj48L3BhdGg+CjxwYXRoIHN0cm9rZS13aWR0aD0iMSIgaWQ9IkUxLU1KTUFJTi0zMyIgZD0iTTEyNyA0NjNRMTAwIDQ2MyA4NSA0ODBUNjkgNTI0UTY5IDU3OSAxMTcgNjIyVDIzMyA2NjVRMjY4IDY2NSAyNzcgNjY0UTM1MSA2NTIgMzkwIDYxMVQ0MzAgNTIyUTQzMCA0NzAgMzk2IDQyMVQzMDIgMzUwTDI5OSAzNDhRMjk5IDM0NyAzMDggMzQ1VDMzNyAzMzZUMzc1IDMxNVE0NTcgMjYyIDQ1NyAxNzVRNDU3IDk2IDM5NSAzN1QyMzggLTIyUTE1OCAtMjIgMTAwIDIxVDQyIDEzMFE0MiAxNTggNjAgMTc1VDEwNSAxOTNRMTMzIDE5MyAxNTEgMTc1VDE2OSAxMzBRMTY5IDExOSAxNjYgMTEwVDE1OSA5NFQxNDggODJUMTM2IDc0VDEyNiA3MFQxMTggNjdMMTE0IDY2UTE2NSAyMSAyMzggMjFRMjkzIDIxIDMyMSA3NFEzMzggMTA3IDMzOCAxNzVWMTk1UTMzOCAyOTAgMjc0IDMyMlEyNTkgMzI4IDIxMyAzMjlMMTcxIDMzMEwxNjggMzMyUTE2NiAzMzUgMTY2IDM0OFExNjYgMzY2IDE3NCAzNjZRMjAyIDM2NiAyMzIgMzcxUTI2NiAzNzYgMjk0IDQxM1QzMjIgNTI1VjUzM1EzMjIgNTkwIDI4NyA2MTJRMjY1IDYyNiAyNDAgNjI2UTIwOCA2MjYgMTgxIDYxNVQxNDMgNTkyVDEzMiA1ODBIMTM1UTEzOCA1NzkgMTQzIDU3OFQxNTMgNTczVDE2NSA1NjZUMTc1IDU1NVQxODMgNTQwVDE4NiA1MjBRMTg2IDQ5OCAxNzIgNDgxVDEyNyA0NjNaIj48L3BhdGg+CjxwYXRoIHN0cm9rZS13aWR0aD0iMSIgaWQ9IkUxLU1KTUFJTi0zMiIgZD0iTTEwOSA0MjlRODIgNDI5IDY2IDQ0N1Q1MCA0OTFRNTAgNTYyIDEwMyA2MTRUMjM1IDY2NlEzMjYgNjY2IDM4NyA2MTBUNDQ5IDQ2NVE0NDkgNDIyIDQyOSAzODNUMzgxIDMxNVQzMDEgMjQxUTI2NSAyMTAgMjAxIDE0OUwxNDIgOTNMMjE4IDkyUTM3NSA5MiAzODUgOTdRMzkyIDk5IDQwOSAxODZWMTg5SDQ0OVYxODZRNDQ4IDE4MyA0MzYgOTVUNDIxIDNWMEg1MFYxOVYzMVE1MCAzOCA1NiA0NlQ4NiA4MVExMTUgMTEzIDEzNiAxMzdRMTQ1IDE0NyAxNzAgMTc0VDIwNCAyMTFUMjMzIDI0NFQyNjEgMjc4VDI4NCAzMDhUMzA1IDM0MFQzMjAgMzY5VDMzMyA0MDFUMzQwIDQzMVQzNDMgNDY0UTM0MyA1MjcgMzA5IDU3M1QyMTIgNjE5UTE3OSA2MTkgMTU0IDYwMlQxMTkgNTY5VDEwOSA1NTBRMTA5IDU0OSAxMTQgNTQ5UTEzMiA1NDkgMTUxIDUzNVQxNzAgNDg5UTE3MCA0NjQgMTU0IDQ0N1QxMDkgNDI5WiI+PC9wYXRoPgo8cGF0aCBzdHJva2Utd2lkdGg9IjEiIGlkPSJFMS1NSk1BSU4tMzEiIGQ9Ik0yMTMgNTc4TDIwMCA1NzNRMTg2IDU2OCAxNjAgNTYzVDEwMiA1NTZIODNWNjAySDEwMlExNDkgNjA0IDE4OSA2MTdUMjQ1IDY0MVQyNzMgNjYzUTI3NSA2NjYgMjg1IDY2NlEyOTQgNjY2IDMwMiA2NjBWMzYxTDMwMyA2MVEzMTAgNTQgMzE1IDUyVDMzOSA0OFQ0MDEgNDZINDI3VjBINDE2UTM5NSAzIDI1NyAzUTEyMSAzIDEwMCAwSDg4VjQ2SDExNFExMzYgNDYgMTUyIDQ2VDE3NyA0N1QxOTMgNTBUMjAxIDUyVDIwNyA1N1QyMTMgNjFWNTc4WiI+PC9wYXRoPgo8cGF0aCBzdHJva2Utd2lkdGg9IjEiIGlkPSJFMS1NSk1BSU4tMzAiIGQ9Ik05NiA1ODVRMTUyIDY2NiAyNDkgNjY2UTI5NyA2NjYgMzQ1IDY0MFQ0MjMgNTQ4UTQ2MCA0NjUgNDYwIDMyMFE0NjAgMTY1IDQxNyA4M1EzOTcgNDEgMzYyIDE2VDMwMSAtMTVUMjUwIC0yMlEyMjQgLTIyIDE5OCAtMTZUMTM3IDE2VDgyIDgzUTM5IDE2NSAzOSAzMjBRMzkgNDk0IDk2IDU4NVpNMzIxIDU5N1EyOTEgNjI5IDI1MCA2MjlRMjA4IDYyOSAxNzggNTk3UTE1MyA1NzEgMTQ1IDUyNVQxMzcgMzMzUTEzNyAxNzUgMTQ1IDEyNVQxODEgNDZRMjA5IDE2IDI1MCAxNlEyOTAgMTYgMzE4IDQ2UTM0NyA3NiAzNTQgMTMwVDM2MiAzMzNRMzYyIDQ3OCAzNTQgNTI0VDMyMSA1OTdaIj48L3BhdGg+CjxwYXRoIHN0cm9rZS13aWR0aD0iMSIgaWQ9IkUxLU1KTUFJTi0yOSIgZD0iTTYwIDc0OUw2NCA3NTBRNjkgNzUwIDc0IDc1MEg4NkwxMTQgNzI2UTIwOCA2NDEgMjUxIDUxNFQyOTQgMjUwUTI5NCAxODIgMjg0IDExOVQyNjEgMTJUMjI0IC03NlQxODYgLTE0M1QxNDUgLTE5NFQxMTMgLTIyN1Q5MCAtMjQ2UTg3IC0yNDkgODYgLTI1MEg3NFE2NiAtMjUwIDYzIC0yNTBUNTggLTI0N1Q1NSAtMjM4UTU2IC0yMzcgNjYgLTIyNVEyMjEgLTY0IDIyMSAyNTBUNjYgNzI1UTU2IDczNyA1NSA3MzhRNTUgNzQ2IDYwIDc0OVoiPjwvcGF0aD4KPHBhdGggc3Ryb2tlLXdpZHRoPSIxIiBpZD0iRTEtTUpTWjMtMjgiIGQ9Ik03MDEgLTk0MFE3MDEgLTk0MyA2OTUgLTk0OUg2NjRRNjYyIC05NDcgNjM2IC05MjJUNTkxIC04NzlUNTM3IC04MThUNDc1IC03MzdUNDEyIC02MzZUMzUwIC01MTFUMjk1IC0zNjJUMjUwIC0xODZUMjIxIDE3VDIwOSAyNTFRMjA5IDk2MiA1NzMgMTM2MVE1OTYgMTM4NiA2MTYgMTQwNVQ2NDkgMTQzN1Q2NjQgMTQ1MEg2OTVRNzAxIDE0NDQgNzAxIDE0NDFRNzAxIDE0MzYgNjgxIDE0MTVUNjI5IDEzNTZUNTU3IDEyNjFUNDc2IDExMThUNDAwIDkyN1QzNDAgNjc1VDMwOCAzNTlRMzA2IDMyMSAzMDYgMjUwUTMwNiAtMTM5IDQwMCAtNDMwVDY5MCAtOTI0UTcwMSAtOTM2IDcwMSAtOTQwWiI+PC9wYXRoPgo8cGF0aCBzdHJva2Utd2lkdGg9IjEiIGlkPSJFMS1NSlNaMy0yOSIgZD0iTTM0IDE0MzhRMzQgMTQ0NiAzNyAxNDQ4VDUwIDE0NTBINTZINzFRNzMgMTQ0OCA5OSAxNDIzVDE0NCAxMzgwVDE5OCAxMzE5VDI2MCAxMjM4VDMyMyAxMTM3VDM4NSAxMDEzVDQ0MCA4NjRUNDg1IDY4OFQ1MTQgNDg1VDUyNiAyNTFRNTI2IDEzNCA1MTkgNTNRNDcyIC01MTkgMTYyIC04NjBRMTM5IC04ODUgMTE5IC05MDRUODYgLTkzNlQ3MSAtOTQ5SDU2UTQzIC05NDkgMzkgLTk0N1QzNCAtOTM3UTg4IC04ODMgMTQwIC04MTNRNDI4IC00MzAgNDI4IDI1MVE0MjggNDUzIDQwMiA2MjhUMzM4IDkyMlQyNDUgMTE0NlQxNDUgMTMwOVQ0NiAxNDI1UTQ0IDE0MjcgNDIgMTQyOVQzOSAxNDMzVDM2IDE0MzZMMzQgMTQzOFoiPjwvcGF0aD4KPHBhdGggc3Ryb2tlLXdpZHRoPSIxIiBpZD0iRTEtTUpNQUlOLTIyQzUiIGQ9Ik03OCAyNTBRNzggMjc0IDk1IDI5MlQxMzggMzEwUTE2MiAzMTAgMTgwIDI5NFQxOTkgMjUxUTE5OSAyMjYgMTgyIDIwOFQxMzkgMTkwVDk2IDIwN1Q3OCAyNTBaIj48L3BhdGg+CjxwYXRoIHN0cm9rZS13aWR0aD0iMSIgaWQ9IkUxLU1KTUFJTi0zNCIgZD0iTTQ2MiAwUTQ0NCAzIDMzMyAzUTIxNyAzIDE5OSAwSDE5MFY0NkgyMjFRMjQxIDQ2IDI0OCA0NlQyNjUgNDhUMjc5IDUzVDI4NiA2MVEyODcgNjMgMjg3IDExNVYxNjVIMjhWMjExTDE3OSA0NDJRMzMyIDY3NCAzMzQgNjc1UTMzNiA2NzcgMzU1IDY3N0gzNzNMMzc5IDY3MVYyMTFINDcxVjE2NUgzNzlWMTE0UTM3OSA3MyAzNzkgNjZUMzg1IDU0UTM5MyA0NyA0NDIgNDZINDcxVjBINDYyWk0yOTMgMjExVjU0NUw3NCAyMTJMMTgzIDIxMUgyOTNaIj48L3BhdGg+CjxwYXRoIHN0cm9rZS13aWR0aD0iMSIgaWQ9IkUxLU1KU1o0LTIzOUIiIGQ9Ik04MzcgMTE1NFE4NDMgMTE0OCA4NDMgMTE0NVE4NDMgMTE0MSA4MTggMTEwNlQ3NTMgMTAwMlQ2NjcgODQxVDU3NCA2MDRUNDk0IDI5OVE0MTcgLTg0IDQxNyAtNjA5UTQxNyAtNjQxIDQxNiAtNjQ3VDQxMSAtNjU0UTQwOSAtNjU1IDM2NiAtNjU1UTI5OSAtNjU1IDI5NyAtNjU0UTI5MiAtNjUyIDI5MiAtNjQzVDI5MSAtNTgzUTI5MyAtNDAwIDMwNCAtMjQyVDM0NyAxMTBUNDMyIDQ3MFQ1NzQgODEzVDc4NSAxMTM2UTc4NyAxMTM5IDc5MCAxMTQyVDc5NCAxMTQ3VDc5NiAxMTUwVDc5OSAxMTUyVDgwMiAxMTUzVDgwNyAxMTU0VDgxMyAxMTU0SDgxOUg4MzdaIj48L3BhdGg+CjxwYXRoIHN0cm9rZS13aWR0aD0iMSIgaWQ9IkUxLU1KU1o0LTIzOUQiIGQ9Ik04NDMgLTYzNVE4NDMgLTYzOCA4MzcgLTY0NEg4MjBRODAxIC02NDQgODAwIC02NDNRNzkyIC02MzUgNzg1IC02MjZRNjg0IC01MDMgNjA1IC0zNjNUNDczIC03NVQzODUgMjE2VDMzMCA1MThUMzAyIDgwOVQyOTEgMTA5M1EyOTEgMTE0NCAyOTEgMTE1M1QyOTYgMTE2NFEyOTggMTE2NSAzNjYgMTE2NVE0MDkgMTE2NSA0MTEgMTE2NFE0MTUgMTE2MyA0MTYgMTE1N1Q0MTcgMTExOVE0MTcgNTI5IDUxNyAxMDlUODMzIC02MTdRODQzIC02MzEgODQzIC02MzVaIj48L3BhdGg+CjxwYXRoIHN0cm9rZS13aWR0aD0iMSIgaWQ9IkUxLU1KU1o0LTIzOUMiIGQ9Ik00MTMgLTlRNDEyIC05IDQwNyAtOVQzODggLTEwVDM1NCAtMTBRMzAwIC0xMCAyOTcgLTlRMjk0IC04IDI5MyAtNVEyOTEgNSAyOTEgMTI3VjMwMFEyOTEgNjAyIDI5MiA2MDVMMjk2IDYwOVEyOTggNjEwIDM2NiA2MTBRMzgyIDYxMCAzOTIgNjEwVDQwNyA2MTBUNDEyIDYwOVE0MTYgNjA5IDQxNiA1OTJUNDE3IDQ3M1YxMjdRNDE3IC05IDQxMyAtOVoiPjwvcGF0aD4KPHBhdGggc3Ryb2tlLXdpZHRoPSIxIiBpZD0iRTEtTUpTWjQtMjM5RSIgZD0iTTMxIDExNDNRMzEgMTE1NCA0OSAxMTU0SDU5UTcyIDExNTQgNzUgMTE1MlQ4OSAxMTM2UTE5MCAxMDEzIDI2OSA4NzNUNDAxIDU4NVQ0ODkgMjk0VDU0NCAtOFQ1NzIgLTI5OVQ1ODMgLTU4M1E1ODMgLTYzNCA1ODMgLTY0M1Q1NzcgLTY1NFE1NzUgLTY1NSA1MDggLTY1NVE0NjUgLTY1NSA0NjMgLTY1NFE0NTkgLTY1MyA0NTggLTY0N1Q0NTcgLTYwOVE0NTcgLTU4IDM3MSAzNDBUMTAwIDEwMzdRODcgMTA1OSA2MSAxMDk4VDMxIDExNDNaIj48L3BhdGg+CjxwYXRoIHN0cm9rZS13aWR0aD0iMSIgaWQ9IkUxLU1KU1o0LTIzQTAiIGQ9Ik01NiAtNjQ0SDUwUTMxIC02NDQgMzEgLTYzNVEzMSAtNjMyIDM3IC02MjJRNjkgLTU3OSAxMDAgLTUyN1EyODYgLTIyOCAzNzEgMTcwVDQ1NyAxMTE5UTQ1NyAxMTYxIDQ2MiAxMTY0UTQ2NCAxMTY1IDUyMCAxMTY1UTU3NSAxMTY1IDU3NyAxMTY0UTU4MiAxMTYyIDU4MiAxMTUzVDU4MyAxMDkzUTU4MSA5MTAgNTcwIDc1MlQ1MjcgNDAwVDQ0MiA0MFQzMDAgLTMwM1Q4OSAtNjI2UTc4IC02NDAgNzUgLTY0MlQ2MSAtNjQ0SDU2WiI+PC9wYXRoPgo8cGF0aCBzdHJva2Utd2lkdGg9IjEiIGlkPSJFMS1NSlNaNC0yMzlGIiBkPSJNNTc5IC05UTU3OCAtOSA1NzMgLTlUNTU0IC0xMFQ1MjAgLTEwUTQ2NiAtMTAgNDYzIC05UTQ2MCAtOCA0NTkgLTVRNDU3IDUgNDU3IDEyN1YzMDBRNDU3IDYwMiA0NTggNjA1TDQ2MiA2MDlRNDY0IDYxMCA1MzIgNjEwUTU0OCA2MTAgNTU4IDYxMFQ1NzMgNjEwVDU3OCA2MDlRNTgyIDYwOSA1ODIgNTkyVDU4MyA0NzNWMTI3UTU4MyAtOSA1NzkgLTlaIj48L3BhdGg+CjxwYXRoIHN0cm9rZS13aWR0aD0iMSIgaWQ9IkUxLU1KTUFJTi0zRCIgZD0iTTU2IDM0N1E1NiAzNjAgNzAgMzY3SDcwN1E3MjIgMzU5IDcyMiAzNDdRNzIyIDMzNiA3MDggMzI4TDM5MCAzMjdINzJRNTYgMzMyIDU2IDM0N1pNNTYgMTUzUTU2IDE2OCA3MiAxNzNINzA4UTcyMiAxNjMgNzIyIDE1M1E3MjIgMTQwIDcwNyAxMzNINzBRNTYgMTQwIDU2IDE1M1oiPjwvcGF0aD4KPHBhdGggc3Ryb2tlLXdpZHRoPSIxIiBpZD0iRTEtTUpNQUlOLTM3IiBkPSJNNTUgNDU4UTU2IDQ2MCA3MiA1NjdMODggNjc0UTg4IDY3NiAxMDggNjc2SDEyOFY2NzJRMTI4IDY2MiAxNDMgNjU1VDE5NSA2NDZUMzY0IDY0NEg0ODVWNjA1TDQxNyA1MTJRNDA4IDUwMCAzODcgNDcyVDM2MCA0MzVUMzM5IDQwM1QzMTkgMzY3VDMwNSAzMzBUMjkyIDI4NFQyODQgMjMwVDI3OCAxNjJUMjc1IDgwUTI3NSA2NiAyNzUgNTJUMjc0IDI4VjE5UTI3MCAyIDI1NSAtMTBUMjIxIC0yMlEyMTAgLTIyIDIwMCAtMTlUMTc5IDBUMTY4IDQwUTE2OCAxOTggMjY1IDM2OFEyODUgNDAwIDM0OSA0ODlMMzk1IDU1MkgzMDJRMTI4IDU1MiAxMTkgNTQ2UTExMyA1NDMgMTA4IDUyMlQ5OCA0NzlMOTUgNDU4VjQ1NUg1NVY0NThaIj48L3BhdGg+CjxwYXRoIHN0cm9rZS13aWR0aD0iMSIgaWQ9IkUxLU1KTUFJTi0zOCIgZD0iTTcwIDQxN1Q3MCA0OTRUMTI0IDYxOFQyNDggNjY2UTMxOSA2NjYgMzc0IDYyNFQ0MjkgNTE1UTQyOSA0ODUgNDE4IDQ1OVQzOTIgNDE3VDM2MSAzODlUMzM1IDM3MVQzMjQgMzYzTDMzOCAzNTRRMzUyIDM0NCAzNjYgMzM0VDM4MiAzMjNRNDU3IDI2NCA0NTcgMTc0UTQ1NyA5NSAzOTkgMzdUMjQ5IC0yMlExNTkgLTIyIDEwMSAyOVQ0MyAxNTVRNDMgMjYzIDE3MiAzMzVMMTU0IDM0OFExMzMgMzYxIDEyNyAzNjhRNzAgNDE3IDcwIDQ5NFpNMjg2IDM4NkwyOTIgMzkwUTI5OCAzOTQgMzAxIDM5NlQzMTEgNDAzVDMyMyA0MTNUMzM0IDQyNVQzNDUgNDM4VDM1NSA0NTRUMzY0IDQ3MVQzNjkgNDkxVDM3MSA1MTNRMzcxIDU1NiAzNDIgNTg2VDI3NSA2MjRRMjY4IDYyNSAyNDIgNjI1UTIwMSA2MjUgMTY1IDU5OVQxMjggNTM0UTEyOCA1MTEgMTQxIDQ5MlQxNjcgNDYzVDIxNyA0MzFRMjI0IDQyNiAyMjggNDI0TDI4NiAzODZaTTI1MCAyMVEzMDggMjEgMzUwIDU1VDM5MiAxMzdRMzkyIDE1NCAzODcgMTY5VDM3NSAxOTRUMzUzIDIxNlQzMzAgMjM0VDMwMSAyNTNUMjc0IDI3MFEyNjAgMjc5IDI0NCAyODlUMjE4IDMwNkwyMTAgMzExUTIwNCAzMTEgMTgxIDI5NFQxMzMgMjM5VDEwNyAxNTdRMTA3IDk4IDE1MCA2MFQyNTAgMjFaIj48L3BhdGg+CjxwYXRoIHN0cm9rZS13aWR0aD0iMSIgaWQ9IkUxLU1KTUFJTi0zOSIgZD0iTTM1MiAyODdRMzA0IDIxMSAyMzIgMjExUTE1NCAyMTEgMTA0IDI3MFQ0NCAzOTZRNDIgNDEyIDQyIDQzNlY0NDRRNDIgNTM3IDExMSA2MDZRMTcxIDY2NiAyNDMgNjY2UTI0NSA2NjYgMjQ5IDY2NlQyNTcgNjY1SDI2MVEyNzMgNjY1IDI4NiA2NjNUMzIzIDY1MVQzNzAgNjE5VDQxMyA1NjBRNDU2IDQ3MiA0NTYgMzM0UTQ1NiAxOTQgMzk2IDk3UTM2MSA0MSAzMTIgMTBUMjA4IC0yMlExNDcgLTIyIDEwOCA3VDY4IDkzVDEyMSAxNDlRMTQzIDE0OSAxNTggMTM1VDE3MyA5NlExNzMgNzggMTY0IDY1VDE0OCA0OVQxMzUgNDRMMTMxIDQzUTEzMSA0MSAxMzggMzdUMTY0IDI3VDIwNiAyMkgyMTJRMjcyIDIyIDMxMyA4NlEzNTIgMTQyIDM1MiAyODBWMjg3Wk0yNDQgMjQ4UTI5MiAyNDggMzIxIDI5N1QzNTEgNDMwUTM1MSA1MDggMzQzIDU0MlEzNDEgNTUyIDMzNyA1NjJUMzIzIDU4OFQyOTMgNjE1VDI0NiA2MjVRMjA4IDYyNSAxODEgNTk4UTE2MCA1NzYgMTU0IDU0NlQxNDcgNDQxUTE0NyAzNTggMTUyIDMyOVQxNzIgMjgyUTE5NyAyNDggMjQ0IDI0OFoiPjwvcGF0aD4KPHBhdGggc3Ryb2tlLXdpZHRoPSIxIiBpZD0iRTEtTUpNQUlOLTJCIiBkPSJNNTYgMjM3VDU2IDI1MFQ3MCAyNzBIMzY5VjQyMEwzNzAgNTcwUTM4MCA1ODMgMzg5IDU4M1E0MDIgNTgzIDQwOSA1NjhWMjcwSDcwN1E3MjIgMjYyIDcyMiAyNTBUNzA3IDIzMEg0MDlWLTY4UTQwMSAtODIgMzkxIC04MkgzODlIMzg3UTM3NSAtODIgMzY5IC02OFYyMzBINzBRNTYgMjM3IDU2IDI1MFoiPjwvcGF0aD4KPC9kZWZzPgo8ZyBzdHJva2U9ImN1cnJlbnRDb2xvciIgZmlsbD0iY3VycmVudENvbG9yIiBzdHJva2Utd2lkdGg9IjAiIHRyYW5zZm9ybT0ibWF0cml4KDEgMCAwIC0xIDAgMCkiIGFyaWEtaGlkZGVuPSJ0cnVlIj4KIDx1c2UgeGxpbms6aHJlZj0iI0UxLU1KU1ozLTI4Ij48L3VzZT4KPGcgdHJhbnNmb3JtPSJ0cmFuc2xhdGUoOTAzLDApIj4KPGcgdHJhbnNmb3JtPSJ0cmFuc2xhdGUoLTExLDApIj4KIDx1c2UgeGxpbms6aHJlZj0iI0UxLU1KTUFJTi0zMyIgeD0iMCIgeT0iNjUwIj48L3VzZT4KPGcgdHJhbnNmb3JtPSJ0cmFuc2xhdGUoMCwtNzUwKSI+CjxnIGZpbGw9IiMzQzgwMzEiIHN0cm9rZT0iIzNDODAzMSI+CjxnIGZpbGw9IiMzQzgwMzEiIHN0cm9rZT0iIzNDODAzMSI+CjxnIGZpbGw9IiMzQzgwMzEiIHN0cm9rZT0iIzNDODAzMSI+CiA8dXNlIHhsaW5rOmhyZWY9IiNFMS1NSk1BSU4tMzEiPjwvdXNlPgo8L2c+CjwvZz4KPC9nPgo8L2c+CjwvZz4KPGcgdHJhbnNmb3JtPSJ0cmFuc2xhdGUoMTQ5MCwwKSI+CiA8dXNlIHhsaW5rOmhyZWY9IiNFMS1NSk1BSU4tMzIiIHg9IjAiIHk9IjY1MCI+PC91c2U+CjxnIHRyYW5zZm9ybT0idHJhbnNsYXRlKDAsLTc1MCkiPgo8ZyBmaWxsPSIjM0M4MDMxIiBzdHJva2U9IiMzQzgwMzEiPgo8ZyBmaWxsPSIjM0M4MDMxIiBzdHJva2U9IiMzQzgwMzEiPgo8ZyBmaWxsPSIjM0M4MDMxIiBzdHJva2U9IiMzQzgwMzEiPgogPHVzZSB4bGluazpocmVmPSIjRTEtTUpNQUlOLTMwIj48L3VzZT4KPC9nPgo8L2c+CjwvZz4KPC9nPgo8L2c+CjxnIHRyYW5zZm9ybT0idHJhbnNsYXRlKDI5OTAsMCkiPgogPHVzZSB4bGluazpocmVmPSIjRTEtTUpNQUlOLTMxIiB4PSIwIiB5PSI2NTAiPjwvdXNlPgo8ZyB0cmFuc2Zvcm09InRyYW5zbGF0ZSgwLC03NTApIj4KPGcgZmlsbD0iIzNDODAzMSIgc3Ryb2tlPSIjM0M4MDMxIj4KPGcgZmlsbD0iIzNDODAzMSIgc3Ryb2tlPSIjM0M4MDMxIj4KPGcgZmlsbD0iIzNDODAzMSIgc3Ryb2tlPSIjM0M4MDMxIj4KIDx1c2UgeGxpbms6aHJlZj0iI0UxLU1KTUFJTi0zMiI+PC91c2U+CjwvZz4KPC9nPgo8L2c+CjwvZz4KPC9nPgo8L2c+CiA8dXNlIHhsaW5rOmhyZWY9IiNFMS1NSlNaMy0yOSIgeD0iNDU2MSIgeT0iLTEiPjwvdXNlPgogPHVzZSB4bGluazpocmVmPSIjRTEtTUpNQUlOLTIyQzUiIHg9IjU1MjAiIHk9IjAiPjwvdXNlPgo8ZyB0cmFuc2Zvcm09InRyYW5zbGF0ZSg2MDIwLDApIj4KPGcgdHJhbnNmb3JtPSJ0cmFuc2xhdGUoMCwyMTUwKSI+CiA8dXNlIHhsaW5rOmhyZWY9IiNFMS1NSlNaNC0yMzlCIiB4PSIwIiB5PSItMTE1NiI+PC91c2U+CjxnIHRyYW5zZm9ybT0idHJhbnNsYXRlKDAsLTIwMzMuNjY0NTI2NDg0NzUxMSkgc2NhbGUoMSwwLjQ0NDYyMjc5MjkzNzM5OTcpIj4KIDx1c2UgeGxpbms6aHJlZj0iI0UxLU1KU1o0LTIzOUMiPjwvdXNlPgo8L2c+CiA8dXNlIHhsaW5rOmhyZWY9IiNFMS1NSlNaNC0yMzlEIiB4PSIwIiB5PSItMzE1NSI+PC91c2U+CjwvZz4KPGcgdHJhbnNmb3JtPSJ0cmFuc2xhdGUoMTA0MiwwKSI+CjxnIHRyYW5zZm9ybT0idHJhbnNsYXRlKC0xMSwwKSI+CiA8dXNlIHhsaW5rOmhyZWY9IiNFMS1NSk1BSU4tMzEiIHg9IjAiIHk9IjEzNTAiPjwvdXNlPgogPHVzZSB4bGluazpocmVmPSIjRTEtTUpNQUlOLTMwIiB4PSIwIiB5PSItNTAiPjwvdXNlPgogPHVzZSB4bGluazpocmVmPSIjRTEtTUpNQUlOLTM0IiB4PSIwIiB5PSItMTQ1MCI+PC91c2U+CjwvZz4KPGcgdHJhbnNmb3JtPSJ0cmFuc2xhdGUoMTQ5MCwwKSI+CjxnIHRyYW5zZm9ybT0idHJhbnNsYXRlKDAsMTM1MCkiPgo8ZyBmaWxsPSIjQjYzMjFDIiBzdHJva2U9IiNCNjMyMUMiPgo8ZyBmaWxsPSIjQjYzMjFDIiBzdHJva2U9IiNCNjMyMUMiPgo8ZyBmaWxsPSIjQjYzMjFDIiBzdHJva2U9IiNCNjMyMUMiPgogPHVzZSB4bGluazpocmVmPSIjRTEtTUpNQUlOLTMyIj48L3VzZT4KPC9nPgo8L2c+CjwvZz4KPC9nPgo8ZyB0cmFuc2Zvcm09InRyYW5zbGF0ZSgwLC01MCkiPgo8ZyBmaWxsPSIjQjYzMjFDIiBzdHJva2U9IiNCNjMyMUMiPgo8ZyBmaWxsPSIjQjYzMjFDIiBzdHJva2U9IiNCNjMyMUMiPgo8ZyBmaWxsPSIjQjYzMjFDIiBzdHJva2U9IiNCNjMyMUMiPgogPHVzZSB4bGluazpocmVmPSIjRTEtTUpNQUlOLTMxIj48L3VzZT4KPC9nPgo8L2c+CjwvZz4KPC9nPgo8ZyB0cmFuc2Zvcm09InRyYW5zbGF0ZSgwLC0xNDUwKSI+CjxnIGZpbGw9IiNCNjMyMUMiIHN0cm9rZT0iI0I2MzIxQyI+CjxnIGZpbGw9IiNCNjMyMUMiIHN0cm9rZT0iI0I2MzIxQyI+CjxnIGZpbGw9IiNCNjMyMUMiIHN0cm9rZT0iI0I2MzIxQyI+CiA8dXNlIHhsaW5rOmhyZWY9IiNFMS1NSk1BSU4tMzAiPjwvdXNlPgo8L2c+CjwvZz4KPC9nPgo8L2c+CjwvZz4KPC9nPgo8ZyB0cmFuc2Zvcm09InRyYW5zbGF0ZSgzMjAwLDIxNTApIj4KIDx1c2UgeGxpbms6aHJlZj0iI0UxLU1KU1o0LTIzOUUiIHg9IjAiIHk9Ii0xMTU1Ij48L3VzZT4KPGcgdHJhbnNmb3JtPSJ0cmFuc2xhdGUoMCwtMjAzMy42NDUyNjQ4NDc1MTIpIHNjYWxlKDEsMC40NDYyMjc5MjkzNzM5OTY4KSI+CiA8dXNlIHhsaW5rOmhyZWY9IiNFMS1NSlNaNC0yMzlGIj48L3VzZT4KPC9nPgogPHVzZSB4bGluazpocmVmPSIjRTEtTUpTWjQtMjNBMCIgeD0iMCIgeT0iLTMxNTUiPjwvdXNlPgo8L2c+CjwvZz4KIDx1c2UgeGxpbms6aHJlZj0iI0UxLU1KTUFJTi0zRCIgeD0iMTAzNzQiIHk9IjAiPjwvdXNlPgo8ZyB0cmFuc2Zvcm09InRyYW5zbGF0ZSgxMTQzMCwwKSI+CiA8dXNlIHhsaW5rOmhyZWY9IiNFMS1NSlNaMy0yOCI+PC91c2U+CjxnIHRyYW5zZm9ybT0idHJhbnNsYXRlKDkwMywwKSI+CjxnIHRyYW5zZm9ybT0idHJhbnNsYXRlKC0xMSwwKSI+CiA8dXNlIHhsaW5rOmhyZWY9IiNFMS1NSk1BSU4tMzciIHg9IjAiIHk9IjY1MCI+PC91c2U+CiA8dXNlIHhsaW5rOmhyZWY9IiNFMS1NSk1BSU4tMzkiIHg9IjAiIHk9Ii03NTAiPjwvdXNlPgo8L2c+CjxnIHRyYW5zZm9ybT0idHJhbnNsYXRlKDE0OTAsMCkiPgogPHVzZSB4bGluazpocmVmPSIjRTEtTUpNQUlOLTM4IiB4PSIzNTU4IiB5PSI2NTAiPjwvdXNlPgo8ZyB0cmFuc2Zvcm09InRyYW5zbGF0ZSgwLC03NTApIj4KPGcgZmlsbD0iIzNDODAzMSIgc3Ryb2tlPSIjM0M4MDMxIj4KPGcgZmlsbD0iIzNDODAzMSIgc3Ryb2tlPSIjM0M4MDMxIj4KPGcgZmlsbD0iIzNDODAzMSIgc3Ryb2tlPSIjM0M4MDMxIj4KIDx1c2UgeGxpbms6aHJlZj0iI0UxLU1KTUFJTi0zMSI+PC91c2U+CjwvZz4KPC9nPgo8L2c+CiA8dXNlIHhsaW5rOmhyZWY9IiNFMS1NSk1BSU4tMjJDNSIgeD0iNzIyIiB5PSIwIj48L3VzZT4KPGcgdHJhbnNmb3JtPSJ0cmFuc2xhdGUoMTIyMywwKSI+CjxnIGZpbGw9IiNCNjMyMUMiIHN0cm9rZT0iI0I2MzIxQyI+CjxnIGZpbGw9IiNCNjMyMUMiIHN0cm9rZT0iI0I2MzIxQyI+CjxnIGZpbGw9IiNCNjMyMUMiIHN0cm9rZT0iI0I2MzIxQyI+CiA8dXNlIHhsaW5rOmhyZWY9IiNFMS1NSk1BSU4tMzIiPjwvdXNlPgo8L2c+CjwvZz4KPC9nPgo8L2c+CiA8dXNlIHhsaW5rOmhyZWY9IiNFMS1NSk1BSU4tMkIiIHg9IjE5NDYiIHk9IjAiPjwvdXNlPgo8ZyB0cmFuc2Zvcm09InRyYW5zbGF0ZSgyOTQ2LDApIj4KPGcgZmlsbD0iIzNDODAzMSIgc3Ryb2tlPSIjM0M4MDMxIj4KPGcgZmlsbD0iIzNDODAzMSIgc3Ryb2tlPSIjM0M4MDMxIj4KPGcgZmlsbD0iIzNDODAzMSIgc3Ryb2tlPSIjM0M4MDMxIj4KIDx1c2UgeGxpbms6aHJlZj0iI0UxLU1KTUFJTi0zMCI+PC91c2U+CjwvZz4KPC9nPgo8L2c+CjwvZz4KIDx1c2UgeGxpbms6aHJlZj0iI0UxLU1KTUFJTi0yMkM1IiB4PSIzNjY5IiB5PSIwIj48L3VzZT4KPGcgdHJhbnNmb3JtPSJ0cmFuc2xhdGUoNDE3MCwwKSI+CjxnIGZpbGw9IiNCNjMyMUMiIHN0cm9rZT0iI0I2MzIxQyI+CjxnIGZpbGw9IiNCNjMyMUMiIHN0cm9rZT0iI0I2MzIxQyI+CjxnIGZpbGw9IiNCNjMyMUMiIHN0cm9rZT0iI0I2MzIxQyI+CiA8dXNlIHhsaW5rOmhyZWY9IiNFMS1NSk1BSU4tMzEiPjwvdXNlPgo8L2c+CjwvZz4KPC9nPgo8L2c+CiA8dXNlIHhsaW5rOmhyZWY9IiNFMS1NSk1BSU4tMkIiIHg9IjQ4OTMiIHk9IjAiPjwvdXNlPgo8ZyB0cmFuc2Zvcm09InRyYW5zbGF0ZSg1ODkzLDApIj4KPGcgZmlsbD0iIzNDODAzMSIgc3Ryb2tlPSIjM0M4MDMxIj4KPGcgZmlsbD0iIzNDODAzMSIgc3Ryb2tlPSIjM0M4MDMxIj4KPGcgZmlsbD0iIzNDODAzMSIgc3Ryb2tlPSIjM0M4MDMxIj4KIDx1c2UgeGxpbms6aHJlZj0iI0UxLU1KTUFJTi0zMiI+PC91c2U+CjwvZz4KPC9nPgo8L2c+CjwvZz4KIDx1c2UgeGxpbms6aHJlZj0iI0UxLU1KTUFJTi0yMkM1IiB4PSI2NjE2IiB5PSIwIj48L3VzZT4KPGcgdHJhbnNmb3JtPSJ0cmFuc2xhdGUoNzExNywwKSI+CjxnIGZpbGw9IiNCNjMyMUMiIHN0cm9rZT0iI0I2MzIxQyI+CjxnIGZpbGw9IiNCNjMyMUMiIHN0cm9rZT0iI0I2MzIxQyI+CjxnIGZpbGw9IiNCNjMyMUMiIHN0cm9rZT0iI0I2MzIxQyI+CiA8dXNlIHhsaW5rOmhyZWY9IiNFMS1NSk1BSU4tMzAiPjwvdXNlPgo8L2c+CjwvZz4KPC9nPgo8L2c+CjwvZz4KPC9nPgo8L2c+CiA8dXNlIHhsaW5rOmhyZWY9IiNFMS1NSlNaMy0yOSIgeD0iMTAxNzgiIHk9Ii0xIj48L3VzZT4KPC9nPgogPHVzZSB4bGluazpocmVmPSIjRTEtTUpNQUlOLTNEIiB4PSIyMjYyMyIgeT0iMCI+PC91c2U+CjxnIHRyYW5zZm9ybT0idHJhbnNsYXRlKDIzNjc5LDApIj4KIDx1c2UgeGxpbms6aHJlZj0iI0UxLU1KU1ozLTI4Ij48L3VzZT4KPGcgdHJhbnNmb3JtPSJ0cmFuc2xhdGUoOTAzLDApIj4KPGcgdHJhbnNmb3JtPSJ0cmFuc2xhdGUoLTExLDApIj4KIDx1c2UgeGxpbms6aHJlZj0iI0UxLU1KTUFJTi0zNyIgeD0iMCIgeT0iNjUwIj48L3VzZT4KIDx1c2UgeGxpbms6aHJlZj0iI0UxLU1KTUFJTi0zOSIgeD0iMCIgeT0iLTc1MCI+PC91c2U+CjwvZz4KPGcgdHJhbnNmb3JtPSJ0cmFuc2xhdGUoMTQ5MCwwKSI+CiA8dXNlIHhsaW5rOmhyZWY9IiNFMS1NSk1BSU4tMzgiIHg9IjAiIHk9IjY1MCI+PC91c2U+CjxnIHRyYW5zZm9ybT0idHJhbnNsYXRlKDAsLTc1MCkiPgo8ZyBmaWxsPSIjMkQyRjkyIiBzdHJva2U9IiMyRDJGOTIiPgo8ZyBmaWxsPSIjMkQyRjkyIiBzdHJva2U9IiMyRDJGOTIiPgo8ZyBmaWxsPSIjMkQyRjkyIiBzdHJva2U9IiMyRDJGOTIiPgogPHVzZSB4bGluazpocmVmPSIjRTEtTUpNQUlOLTMyIj48L3VzZT4KPC9nPgo8L2c+CjwvZz4KPC9nPgo8L2c+CjwvZz4KIDx1c2UgeGxpbms6aHJlZj0iI0UxLU1KU1ozLTI5IiB4PSIzMDYxIiB5PSItMSI+PC91c2U+CjwvZz4KPC9nPgo8L3N2Zz4="
     ]
    }
   },
   "cell_type": "markdown",
   "metadata": {},
   "source": [
    "### Matrix-Produkt:\n",
    "\n",
    "Gegeben seien die beiden reellen Matrizen:\n",
    "\n",
    "![m1.svg](attachment:m1.svg) und ![m2.svg](attachment:m2.svg)\n",
    "\n",
    "Da die Matrix **A** ebenso viele Spalten wie die Matrix **B** Zeilen besitzt, ist die Matrizenmultiplikation **A** x **B** durchführbar. Nachdem **A** zwei Zeilen und **B** zwei Spalten hat, wird das Matrizenprodukt ebenfalls zwei Zeilen und Spalten aufweisen. Zur Berechnung des ersten Matrixelements der Ergebnismatrix werden die Produkte der entsprechenden Einträge der ersten Zeile von **A** und der ersten Spalte von **B** aufsummiert (die Sternchen stehen für noch nicht berechnete Elemente):\n",
    "\n",
    "![m3.svg](attachment:m3.svg)\n",
    "\n",
    "Für das nächste Element der Ergebnismatrix in der ersten Zeile und zweiten Spalte wird entsprechend die erste Zeile von **A** und die zweite Spalte von **B** verwendet:\n",
    "\n",
    "![m4.svg](attachment:m4.svg)\n",
    "\n",
    "Dieses Rechenschema setzt sich nun in der zweiten Zeile und ersten Spalte fort:\n",
    "\n",
    "![m5.svg](attachment:m5.svg)\n",
    "\n",
    "Es wiederholt sich bei dem letzten Element in der zweiten Zeile und zweiten Spalte:\n",
    "\n",
    "![m6.svg](attachment:m6.svg)\n",
    "\n",
    "#### Das Ergebnis ist das Matrizenprodukt A x B\n",
    "\n",
    "###### Achtung! Spalten-Anzahl von Matrix A soll der Zeilen-Anzahl von Matrix B gleich sein\n",
    "\n",
    "D.h. wenn man eine Matrix **A(m,n)** mit einer anaderen Matrix **B(l,k)** multpliziert (**m,n** und **l,k** ist die Zeile-/Spalten-Anzahl von jeweilige Matrizen), bekommt man eine neue Matrix **C(m,k)** als Matrix-Produkt. \n",
    "\n",
    "\n",
    "Weieter Infos s. hier: [Matrizenmultiplikation](https://de.wikipedia.org/wiki/Matrizenmultiplikation) \n",
    "\n",
    "Nachfolgende Ausdrücke setzen Multplikation gleichen Matrizen als R Code um."
   ]
  },
  {
   "cell_type": "code",
   "execution_count": 158,
   "metadata": {},
   "outputs": [
    {
     "data": {
      "text/html": [
       "<table>\n",
       "<tbody>\n",
       "\t<tr><td>3</td><td>2</td><td>1</td></tr>\n",
       "\t<tr><td>1</td><td>0</td><td>2</td></tr>\n",
       "</tbody>\n",
       "</table>\n"
      ],
      "text/latex": [
       "\\begin{tabular}{lll}\n",
       "\t 3 & 2 & 1\\\\\n",
       "\t 1 & 0 & 2\\\\\n",
       "\\end{tabular}\n"
      ],
      "text/markdown": [
       "\n",
       "| 3 | 2 | 1 |\n",
       "| 1 | 0 | 2 |\n",
       "\n"
      ],
      "text/plain": [
       "     [,1] [,2] [,3]\n",
       "[1,] 3    2    1   \n",
       "[2,] 1    0    2   "
      ]
     },
     "metadata": {},
     "output_type": "display_data"
    }
   ],
   "source": [
    "# 1. Matrix 2 x 3 erstellen \n",
    "A <- matrix(c(3,2,1 ,1,0,2),byrow=TRUE,nrow=2)\n",
    "A"
   ]
  },
  {
   "cell_type": "code",
   "execution_count": 159,
   "metadata": {},
   "outputs": [
    {
     "data": {
      "text/html": [
       "<table>\n",
       "<tbody>\n",
       "\t<tr><td>1</td><td>2</td></tr>\n",
       "\t<tr><td>0</td><td>1</td></tr>\n",
       "\t<tr><td>4</td><td>0</td></tr>\n",
       "</tbody>\n",
       "</table>\n"
      ],
      "text/latex": [
       "\\begin{tabular}{ll}\n",
       "\t 1 & 2\\\\\n",
       "\t 0 & 1\\\\\n",
       "\t 4 & 0\\\\\n",
       "\\end{tabular}\n"
      ],
      "text/markdown": [
       "\n",
       "| 1 | 2 |\n",
       "| 0 | 1 |\n",
       "| 4 | 0 |\n",
       "\n"
      ],
      "text/plain": [
       "     [,1] [,2]\n",
       "[1,] 1    2   \n",
       "[2,] 0    1   \n",
       "[3,] 4    0   "
      ]
     },
     "metadata": {},
     "output_type": "display_data"
    }
   ],
   "source": [
    "# 2. Matrix 3 x 2 erstellen \n",
    "B <- matrix(c(1,0,4 ,2,1,0),byrow=FALSE,nrow=3)\n",
    "B"
   ]
  },
  {
   "cell_type": "code",
   "execution_count": 160,
   "metadata": {},
   "outputs": [
    {
     "data": {
      "text/html": [
       "<table>\n",
       "<tbody>\n",
       "\t<tr><td>7</td><td>8</td></tr>\n",
       "\t<tr><td>9</td><td>2</td></tr>\n",
       "</tbody>\n",
       "</table>\n"
      ],
      "text/latex": [
       "\\begin{tabular}{ll}\n",
       "\t 7 & 8\\\\\n",
       "\t 9 & 2\\\\\n",
       "\\end{tabular}\n"
      ],
      "text/markdown": [
       "\n",
       "| 7 | 8 |\n",
       "| 9 | 2 |\n",
       "\n"
      ],
      "text/plain": [
       "     [,1] [,2]\n",
       "[1,] 7    8   \n",
       "[2,] 9    2   "
      ]
     },
     "metadata": {},
     "output_type": "display_data"
    }
   ],
   "source": [
    "# \"Echte\" Matrizenmultiplikation - Matrix-Produkt - berechnen\n",
    "C <- A %*% B\n",
    "C"
   ]
  },
  {
   "cell_type": "code",
   "execution_count": 161,
   "metadata": {},
   "outputs": [
    {
     "data": {
      "text/html": [
       "<table>\n",
       "<tbody>\n",
       "\t<tr><td>3</td><td>2</td><td>1</td></tr>\n",
       "\t<tr><td>1</td><td>0</td><td>2</td></tr>\n",
       "</tbody>\n",
       "</table>\n"
      ],
      "text/latex": [
       "\\begin{tabular}{lll}\n",
       "\t 3 & 2 & 1\\\\\n",
       "\t 1 & 0 & 2\\\\\n",
       "\\end{tabular}\n"
      ],
      "text/markdown": [
       "\n",
       "| 3 | 2 | 1 |\n",
       "| 1 | 0 | 2 |\n",
       "\n"
      ],
      "text/plain": [
       "     [,1] [,2] [,3]\n",
       "[1,] 3    2    1   \n",
       "[2,] 1    0    2   "
      ]
     },
     "metadata": {},
     "output_type": "display_data"
    },
    {
     "data": {
      "text/html": [
       "<table>\n",
       "<tbody>\n",
       "\t<tr><td>1  </td><td>2  </td><td>  9</td><td>  7</td></tr>\n",
       "\t<tr><td>0  </td><td>1  </td><td>  9</td><td>-99</td></tr>\n",
       "\t<tr><td>4  </td><td>0  </td><td>-11</td><td> 17</td></tr>\n",
       "</tbody>\n",
       "</table>\n"
      ],
      "text/latex": [
       "\\begin{tabular}{llll}\n",
       "\t 1   & 2   &   9 &   7\\\\\n",
       "\t 0   & 1   &   9 & -99\\\\\n",
       "\t 4   & 0   & -11 &  17\\\\\n",
       "\\end{tabular}\n"
      ],
      "text/markdown": [
       "\n",
       "| 1   | 2   |   9 |   7 |\n",
       "| 0   | 1   |   9 | -99 |\n",
       "| 4   | 0   | -11 |  17 |\n",
       "\n"
      ],
      "text/plain": [
       "     [,1] [,2] [,3] [,4]\n",
       "[1,] 1    2      9    7 \n",
       "[2,] 0    1      9  -99 \n",
       "[3,] 4    0    -11   17 "
      ]
     },
     "metadata": {},
     "output_type": "display_data"
    }
   ],
   "source": [
    "# Noch ein Beispiel:\n",
    "A # Matrix 2 x 3\n",
    "D <- matrix(c(1,0,4 ,2,1,0 ,9,9,-11 ,7,-99,17),byrow=FALSE,nrow=3) \n",
    "D # Matrix 3 x 4"
   ]
  },
  {
   "cell_type": "code",
   "execution_count": 162,
   "metadata": {},
   "outputs": [
    {
     "data": {
      "text/html": [
       "<table>\n",
       "<tbody>\n",
       "\t<tr><td>7   </td><td>8   </td><td> 34 </td><td>-160</td></tr>\n",
       "\t<tr><td>9   </td><td>2   </td><td>-13 </td><td>  41</td></tr>\n",
       "</tbody>\n",
       "</table>\n"
      ],
      "text/latex": [
       "\\begin{tabular}{llll}\n",
       "\t 7    & 8    &  34  & -160\\\\\n",
       "\t 9    & 2    & -13  &   41\\\\\n",
       "\\end{tabular}\n"
      ],
      "text/markdown": [
       "\n",
       "| 7    | 8    |  34  | -160 |\n",
       "| 9    | 2    | -13  |   41 |\n",
       "\n"
      ],
      "text/plain": [
       "     [,1] [,2] [,3] [,4]\n",
       "[1,] 7    8     34  -160\n",
       "[2,] 9    2    -13    41"
      ]
     },
     "metadata": {},
     "output_type": "display_data"
    }
   ],
   "source": [
    "# Matrix-Produkt \n",
    "E <- A %*% D \n",
    "E # Matrix 2 x 4"
   ]
  },
  {
   "cell_type": "markdown",
   "metadata": {},
   "source": [
    "Herzlichen Glückwunsch! Sie sind mit Lektion 12 fertig!"
   ]
  }
 ],
 "metadata": {
  "kernelspec": {
   "display_name": "R",
   "language": "R",
   "name": "ir"
  },
  "language_info": {
   "codemirror_mode": "r",
   "file_extension": ".r",
   "mimetype": "text/x-r-source",
   "name": "R",
   "pygments_lexer": "r",
   "version": "3.6.1"
  }
 },
 "nbformat": 4,
 "nbformat_minor": 1
}
