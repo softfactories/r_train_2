{
 "cells": [
  {
   "cell_type": "markdown",
   "metadata": {},
   "source": [
    "# Tag 1. Kapitel 2. Matrix\n",
    "\n",
    "## Lab 2. R Matrizen - Lösung\n",
    "\n",
    "Im Verlauf dieser Übung werden wir die Datenstruktur \"Matrix\" wiederholen. Als kleinen Bonus wird es außerdem etwas zum selbst entdecken geben."
   ]
  },
  {
   "cell_type": "markdown",
   "metadata": {},
   "source": [
    "**Erstelle 2 Vektoren A und B. A soll die Werte (1,2,3,4,5) beinhalten und B die Werte (6,7,8,9,10). Mit diesen Vektoren verwende entweder `cbind()` oder `rbind()`, um eine Matrix im Format 2 mal 5 zu erstellen. Nur eine der Verknüpfungsfunktionen ist hier richtig!**"
   ]
  },
  {
   "cell_type": "code",
   "execution_count": null,
   "metadata": {},
   "outputs": [],
   "source": []
  },
  {
   "cell_type": "markdown",
   "metadata": {},
   "source": [
    "**Erstelle eine 4 mal 4 Matrix, die die Zahlen 1 bis 16 beinhaltet. Diese Matrix soll durch das Kürzel 1:16 erstellt werden und durch Definition des nrow Parameters in der matrix() Funktion. Weise diese Matrix der Varaiblen *mat* zu.**"
   ]
  },
  {
   "cell_type": "code",
   "execution_count": null,
   "metadata": {},
   "outputs": [],
   "source": []
  },
  {
   "cell_type": "markdown",
   "metadata": {},
   "source": [
    "**Überprüfe, ob *mat* wirklich eine Matrix ist. Tipp: is.matrix() **"
   ]
  },
  {
   "cell_type": "code",
   "execution_count": null,
   "metadata": {},
   "outputs": [],
   "source": []
  },
  {
   "cell_type": "markdown",
   "metadata": {},
   "source": [
    "** Erstelle eine 5 mal 5 Matrix, die die Zahlen 1 bis 25 enthält. Diese soll den Namen *mat2* haben. Die oberste Zeile soll außerdem die Werte 1 bis 5 beinhalten.**"
   ]
  },
  {
   "cell_type": "code",
   "execution_count": null,
   "metadata": {},
   "outputs": [],
   "source": []
  },
  {
   "cell_type": "markdown",
   "metadata": {},
   "source": [
    "** Nutze die Index Notation, um einen Ausschnitt von *mat2* auszuwählen. Dieser soll wie folgt aussehen:**\n",
    "\n",
    "    [7,8]\n",
    "    [12,13]"
   ]
  },
  {
   "cell_type": "code",
   "execution_count": null,
   "metadata": {},
   "outputs": [],
   "source": []
  },
  {
   "cell_type": "markdown",
   "metadata": {},
   "source": [
    "** Nutze die Index Notation, um einen Ausschnitt von *mat2* auszuwählen. Dieser soll wie folgt aussehen:**\n",
    "\n",
    "    [19,20]\n",
    "    [24,25]"
   ]
  },
  {
   "cell_type": "code",
   "execution_count": null,
   "metadata": {},
   "outputs": [],
   "source": []
  },
  {
   "cell_type": "markdown",
   "metadata": {},
   "source": [
    "**Wie lautet die Summe aller Elemente in *mat2*?**"
   ]
  },
  {
   "cell_type": "code",
   "execution_count": null,
   "metadata": {},
   "outputs": [],
   "source": []
  },
  {
   "cell_type": "markdown",
   "metadata": {},
   "source": [
    "**Letzte Aufgabe: finde heraus, wie man `runif()` nutzt, um eine 4 mal 5 Matrix zu erstellen, die aus 20 zufällig ausgewählten Zahlen besteht.**"
   ]
  },
  {
   "cell_type": "code",
   "execution_count": null,
   "metadata": {},
   "outputs": [],
   "source": []
  },
  {
   "cell_type": "markdown",
   "metadata": {},
   "source": [
    "Gut gemacht!\n",
    "\n",
    "Ende von Lab 2."
   ]
  }
 ],
 "metadata": {
  "kernelspec": {
   "display_name": "R",
   "language": "R",
   "name": "ir"
  },
  "language_info": {
   "codemirror_mode": "r",
   "file_extension": ".r",
   "mimetype": "text/x-r-source",
   "name": "R",
   "pygments_lexer": "r",
   "version": "3.6.1"
  }
 },
 "nbformat": 4,
 "nbformat_minor": 1
}
