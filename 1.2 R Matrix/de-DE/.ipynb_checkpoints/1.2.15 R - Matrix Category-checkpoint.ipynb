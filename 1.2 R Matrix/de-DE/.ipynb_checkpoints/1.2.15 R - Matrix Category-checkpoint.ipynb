{
 "cells": [
  {
   "cell_type": "markdown",
   "metadata": {},
   "source": [
    "# Tag 1. Kapitel 2. Matrix\n",
    "\n",
    "## Lektion 15. Faktor und kategorische Matrizen\n",
    "\n",
    "In dieser Lektion werden wir die `factor()` Funktion besprechen. Sie wird dazu genutzt kategorische Matrizen zu erstellen. Diese spezielle Funktion wird insbesondere dann nützlich sein, wenn wir die Datenanalyse und Machine Learning Techniken auf unsere Daten anwenden. In Zusammenhang damit steht das Konzept der *Dummy Variablen*.\n",
    "\n",
    "Beginnen wir damit ein Beispiel zu betrachten, wie wir eine solche Matrix erstellen. Stellen wir uns vor, der folgende Vektor gibt uns Informationen über eine jährliche Zählung in einem Tierheim. Jeder Hund (\"h\") und jede Katze (\"k\") wird notiert und hat eine eigene ID, die in einem zweiten Vektor gespeichert ist."
   ]
  },
  {
   "cell_type": "code",
   "execution_count": 7,
   "metadata": {},
   "outputs": [],
   "source": [
    "tiere <- c('h','k','h','k','k','e','g')\n",
    "id <- c(1,2,3,4,5,6,7)"
   ]
  },
  {
   "cell_type": "markdown",
   "metadata": {},
   "source": [
    "Wir wollen nun den Tier-Vektor in eine Form bringen, die ein Algoritmus oder eine Geichung leichter verstehen kann. Dazu beginnen wir mit der Überprüfung, wie viele Kategorien (d.h. Faktor Level) es in unsere Zeichen-Vektor gibt.\n",
    "\n",
    "Wir können unseren Vektor an die `factor()` Funktion übergeben, um diese Information zu erhalten:"
   ]
  },
  {
   "cell_type": "code",
   "execution_count": 8,
   "metadata": {},
   "outputs": [],
   "source": [
    "factor.tiere <- factor(tiere)"
   ]
  },
  {
   "cell_type": "code",
   "execution_count": 9,
   "metadata": {},
   "outputs": [
    {
     "data": {
      "text/html": [
       "<ol class=list-inline>\n",
       "\t<li>h</li>\n",
       "\t<li>k</li>\n",
       "\t<li>h</li>\n",
       "\t<li>k</li>\n",
       "\t<li>k</li>\n",
       "\t<li>e</li>\n",
       "\t<li>g</li>\n",
       "</ol>\n",
       "\n",
       "<details>\n",
       "\t<summary style=display:list-item;cursor:pointer>\n",
       "\t\t<strong>Levels</strong>:\n",
       "\t</summary>\n",
       "\t<ol class=list-inline>\n",
       "\t\t<li>'e'</li>\n",
       "\t\t<li>'g'</li>\n",
       "\t\t<li>'h'</li>\n",
       "\t\t<li>'k'</li>\n",
       "\t</ol>\n",
       "</details>"
      ],
      "text/latex": [
       "\\begin{enumerate*}\n",
       "\\item h\n",
       "\\item k\n",
       "\\item h\n",
       "\\item k\n",
       "\\item k\n",
       "\\item e\n",
       "\\item g\n",
       "\\end{enumerate*}\n",
       "\n",
       "\\emph{Levels}: \\begin{enumerate*}\n",
       "\\item 'e'\n",
       "\\item 'g'\n",
       "\\item 'h'\n",
       "\\item 'k'\n",
       "\\end{enumerate*}\n"
      ],
      "text/markdown": [
       "1. h\n",
       "2. k\n",
       "3. h\n",
       "4. k\n",
       "5. k\n",
       "6. e\n",
       "7. g\n",
       "\n",
       "\n",
       "\n",
       "**Levels**: 1. 'e'\n",
       "2. 'g'\n",
       "3. 'h'\n",
       "4. 'k'\n",
       "\n",
       "\n"
      ],
      "text/plain": [
       "[1] h k h k k e g\n",
       "Levels: e g h k"
      ]
     },
     "metadata": {},
     "output_type": "display_data"
    }
   ],
   "source": [
    "# Zeigt in RStudio sowie der R Konsole die Level an\n",
    "factor.tiere"
   ]
  },
  {
   "cell_type": "markdown",
   "metadata": {},
   "source": [
    "Wir sehen, dass es zwei Level gibt: \"h\" und \"k\". In R gibt es zwei unterschiedliche Typen von kategorischen Variablen: **Ordinal kategorische Variablen** und **nominal kategorische Variablen**.\n",
    "\n",
    "Nominal kategorische Variablen haben keine bestimmte Reihenfolge (so wie unsere Hunde und Katzen). Ordinal kategorische Variablen auf der anderen Seite weisen eine bestimmte Reihenfolge auf. So wie folgendes Beispiel:"
   ]
  },
  {
   "cell_type": "code",
   "execution_count": 4,
   "metadata": {},
   "outputs": [],
   "source": [
    "ord.kat <- c('kalt','lau','warm')"
   ]
  },
  {
   "cell_type": "markdown",
   "metadata": {},
   "source": [
    "Wir können nun damit beginnen die Reihenfolge wie folgt festzulegen:\n",
    "\n",
    "    kalt < lau < warm\n",
    "    \n",
    "Sofern wir die Reihenfolge direkt mit der `factor()` Funktion kombinieren wollen, können wir das Argument `ordered=True` übergeben. Zusätzlich benötigen wir dann das `leves=` Argument sowie einen Vektor, der die Reihenfolge korrekt abbildet."
   ]
  },
  {
   "cell_type": "code",
   "execution_count": 11,
   "metadata": {},
   "outputs": [
    {
     "data": {
      "text/html": [
       "<ol class=list-inline>\n",
       "\t<li>kalt</li>\n",
       "\t<li>lau</li>\n",
       "\t<li>warm</li>\n",
       "\t<li>lau</li>\n",
       "\t<li>warm</li>\n",
       "\t<li>warm</li>\n",
       "\t<li>kalt</li>\n",
       "</ol>\n",
       "\n",
       "<details>\n",
       "\t<summary style=display:list-item;cursor:pointer>\n",
       "\t\t<strong>Levels</strong>:\n",
       "\t</summary>\n",
       "\t<ol class=list-inline>\n",
       "\t\t<li>'kalt'</li>\n",
       "\t\t<li>'lau'</li>\n",
       "\t\t<li>'warm'</li>\n",
       "\t</ol>\n",
       "</details>"
      ],
      "text/latex": [
       "\\begin{enumerate*}\n",
       "\\item kalt\n",
       "\\item lau\n",
       "\\item warm\n",
       "\\item lau\n",
       "\\item warm\n",
       "\\item warm\n",
       "\\item kalt\n",
       "\\end{enumerate*}\n",
       "\n",
       "\\emph{Levels}: \\begin{enumerate*}\n",
       "\\item 'kalt'\n",
       "\\item 'lau'\n",
       "\\item 'warm'\n",
       "\\end{enumerate*}\n"
      ],
      "text/markdown": [
       "1. kalt\n",
       "2. lau\n",
       "3. warm\n",
       "4. lau\n",
       "5. warm\n",
       "6. warm\n",
       "7. kalt\n",
       "\n",
       "\n",
       "\n",
       "**Levels**: 1. 'kalt'\n",
       "2. 'lau'\n",
       "3. 'warm'\n",
       "\n",
       "\n"
      ],
      "text/plain": [
       "[1] kalt lau  warm lau  warm warm kalt\n",
       "Levels: kalt < lau < warm"
      ]
     },
     "metadata": {},
     "output_type": "display_data"
    },
    {
     "data": {
      "text/html": [
       "<ol class=list-inline>\n",
       "\t<li>unter-w</li>\n",
       "\t<li>normal</li>\n",
       "\t<li>ueber-w</li>\n",
       "\t<li>normal</li>\n",
       "\t<li>normal</li>\n",
       "\t<li>unter-w</li>\n",
       "\t<li>normal</li>\n",
       "</ol>\n",
       "\n",
       "<details>\n",
       "\t<summary style=display:list-item;cursor:pointer>\n",
       "\t\t<strong>Levels</strong>:\n",
       "\t</summary>\n",
       "\t<ol class=list-inline>\n",
       "\t\t<li>'unter-w'</li>\n",
       "\t\t<li>'normal'</li>\n",
       "\t\t<li>'ueber-w'</li>\n",
       "\t</ol>\n",
       "</details>"
      ],
      "text/latex": [
       "\\begin{enumerate*}\n",
       "\\item unter-w\n",
       "\\item normal\n",
       "\\item ueber-w\n",
       "\\item normal\n",
       "\\item normal\n",
       "\\item unter-w\n",
       "\\item normal\n",
       "\\end{enumerate*}\n",
       "\n",
       "\\emph{Levels}: \\begin{enumerate*}\n",
       "\\item 'unter-w'\n",
       "\\item 'normal'\n",
       "\\item 'ueber-w'\n",
       "\\end{enumerate*}\n"
      ],
      "text/markdown": [
       "1. unter-w\n",
       "2. normal\n",
       "3. ueber-w\n",
       "4. normal\n",
       "5. normal\n",
       "6. unter-w\n",
       "7. normal\n",
       "\n",
       "\n",
       "\n",
       "**Levels**: 1. 'unter-w'\n",
       "2. 'normal'\n",
       "3. 'ueber-w'\n",
       "\n",
       "\n"
      ],
      "text/plain": [
       "[1] unter-w normal  ueber-w normal  normal  unter-w normal \n",
       "Levels: unter-w < normal < ueber-w"
      ]
     },
     "metadata": {},
     "output_type": "display_data"
    }
   ],
   "source": [
    "temp <- c('kalt','lau','warm','lau','warm','warm','kalt')\n",
    "fact.temp <- factor(temp,ordered=TRUE,levels=c('kalt','lau','warm'))\n",
    "fact.temp\n",
    "\n",
    "hb <- c('unter-w','normal','ueber-w','normal','normal','unter-w','normal')\n",
    "fact.hb <- factor(hb,order=TRUE,levels=c('unter-w','normal','ueber-w'))\n",
    "fact.hb"
   ]
  },
  {
   "cell_type": "markdown",
   "metadata": {},
   "source": [
    "Diese zusätzliche Information ist beispielsweise in Kombination mit der `summary()` Funktion nützlich. Diese Funktion wird häufig eingesetzt, um einen schnellen ersten Eindruck einer Matrix oder eiens Vektors zu erhalten."
   ]
  },
  {
   "cell_type": "code",
   "execution_count": 12,
   "metadata": {},
   "outputs": [
    {
     "data": {
      "text/html": [
       "<dl class=dl-horizontal>\n",
       "\t<dt>kalt</dt>\n",
       "\t\t<dd>2</dd>\n",
       "\t<dt>lau</dt>\n",
       "\t\t<dd>2</dd>\n",
       "\t<dt>warm</dt>\n",
       "\t\t<dd>3</dd>\n",
       "</dl>\n"
      ],
      "text/latex": [
       "\\begin{description*}\n",
       "\\item[kalt] 2\n",
       "\\item[lau] 2\n",
       "\\item[warm] 3\n",
       "\\end{description*}\n"
      ],
      "text/markdown": [
       "kalt\n",
       ":   2lau\n",
       ":   2warm\n",
       ":   3\n",
       "\n"
      ],
      "text/plain": [
       "kalt  lau warm \n",
       "   2    2    3 "
      ]
     },
     "metadata": {},
     "output_type": "display_data"
    }
   ],
   "source": [
    "summary(fact.temp)"
   ]
  },
  {
   "cell_type": "markdown",
   "metadata": {},
   "source": [
    "Später werden wir auf die factor() Funktion on Kombination mit ordered zurückkommen. Soweit ist das alles, was wir wissen müssen.\n",
    "\n",
    "Herzlichen Glückwunsch! Sie sind mit Lektion 15 fertig!"
   ]
  }
 ],
 "metadata": {
  "kernelspec": {
   "display_name": "R",
   "language": "R",
   "name": "ir"
  },
  "language_info": {
   "codemirror_mode": "r",
   "file_extension": ".r",
   "mimetype": "text/x-r-source",
   "name": "R",
   "pygments_lexer": "r",
   "version": "3.6.1"
  }
 },
 "nbformat": 4,
 "nbformat_minor": 1
}
