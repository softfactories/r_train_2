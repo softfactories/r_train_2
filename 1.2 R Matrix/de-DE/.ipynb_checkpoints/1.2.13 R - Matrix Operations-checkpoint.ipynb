{
 "cells": [
  {
   "cell_type": "markdown",
   "metadata": {},
   "source": [
    "# Tag 1. Kapitel 2. Matrix\n",
    "\n",
    "## Lektion 13. Matrix Operationen\n",
    "\n",
    "Nachdem wir jetzt gelernt haben, wie wir Matrizen erstellen können, können wir uns anschauen, wie wir Operationen mit ihnen durchführen.\n",
    "\n",
    "**Führe den folgenden Code aus, um die Aktien-Matrix aus der vorherigen Lektion zu erstellen.**"
   ]
  },
  {
   "cell_type": "code",
   "execution_count": 4,
   "metadata": {},
   "outputs": [
    {
     "data": {
      "text/html": [
       "<table>\n",
       "<thead><tr><th></th><th scope=col>Mo</th><th scope=col>Di</th><th scope=col>Mi</th><th scope=col>Do</th><th scope=col>Fr</th></tr></thead>\n",
       "<tbody>\n",
       "\t<tr><th scope=row>GOOG</th><td>1289.92</td><td>1295.28</td><td>1320.54</td><td>1328.13</td><td>1340.61</td></tr>\n",
       "\t<tr><th scope=row>TSLA</th><td> 334.86</td><td> 336.20</td><td>  33.02</td><td> 330.36</td><td> 335.89</td></tr>\n",
       "</tbody>\n",
       "</table>\n"
      ],
      "text/latex": [
       "\\begin{tabular}{r|lllll}\n",
       "  & Mo & Di & Mi & Do & Fr\\\\\n",
       "\\hline\n",
       "\tGOOG & 1289.92 & 1295.28 & 1320.54 & 1328.13 & 1340.61\\\\\n",
       "\tTSLA &  334.86 &  336.20 &   33.02 &  330.36 &  335.89\\\\\n",
       "\\end{tabular}\n"
      ],
      "text/markdown": [
       "\n",
       "| <!--/--> | Mo | Di | Mi | Do | Fr |\n",
       "|---|---|---|---|---|---|\n",
       "| GOOG | 1289.92 | 1295.28 | 1320.54 | 1328.13 | 1340.61 |\n",
       "| TSLA |  334.86 |  336.20 |   33.02 |  330.36 |  335.89 |\n",
       "\n"
      ],
      "text/plain": [
       "     Mo      Di      Mi      Do      Fr     \n",
       "GOOG 1289.92 1295.28 1320.54 1328.13 1340.61\n",
       "TSLA  334.86  336.20   33.02  330.36  335.89"
      ]
     },
     "metadata": {},
     "output_type": "display_data"
    }
   ],
   "source": [
    "# Historische Aktien Schluss-Preise KW 49 / 2019 \n",
    "# Google\n",
    "GOOG <- c(1289.92,1295.28,1320.54,1328.13,1340.61) \n",
    "# Tesla\n",
    "TSLA <- c(334.86,336.20,33.02,330.36,335.89) \n",
    "\n",
    "# Vektoren in eine Matrix fassen\n",
    "aktien <- c(GOOG,TSLA)\n",
    "aktien.matrix <- matrix(aktien,byrow=TRUE,nrow=2)\n",
    "\n",
    "# Namen vergeben\n",
    "tage <- c('Mo','Di','Mi','Do','Fr')\n",
    "aktien.namen <- c('GOOG','TSLA')\n",
    "colnames(aktien.matrix) <- tage\n",
    "rownames(aktien.matrix) <- aktien.namen\n",
    "\n",
    "# Anzeigen\n",
    "aktien.matrix"
   ]
  },
  {
   "cell_type": "markdown",
   "metadata": {},
   "source": [
    "Wir können verschiedene Funktionen entlang den Spalten und Zeilen durchführen. Ein Beispiel ist die `colSum`."
   ]
  },
  {
   "cell_type": "code",
   "execution_count": 5,
   "metadata": {},
   "outputs": [
    {
     "data": {
      "text/html": [
       "<dl class=dl-horizontal>\n",
       "\t<dt>Mo</dt>\n",
       "\t\t<dd>1624.78</dd>\n",
       "\t<dt>Di</dt>\n",
       "\t\t<dd>1631.48</dd>\n",
       "\t<dt>Mi</dt>\n",
       "\t\t<dd>1353.56</dd>\n",
       "\t<dt>Do</dt>\n",
       "\t\t<dd>1658.49</dd>\n",
       "\t<dt>Fr</dt>\n",
       "\t\t<dd>1676.5</dd>\n",
       "</dl>\n"
      ],
      "text/latex": [
       "\\begin{description*}\n",
       "\\item[Mo] 1624.78\n",
       "\\item[Di] 1631.48\n",
       "\\item[Mi] 1353.56\n",
       "\\item[Do] 1658.49\n",
       "\\item[Fr] 1676.5\n",
       "\\end{description*}\n"
      ],
      "text/markdown": [
       "Mo\n",
       ":   1624.78Di\n",
       ":   1631.48Mi\n",
       ":   1353.56Do\n",
       ":   1658.49Fr\n",
       ":   1676.5\n",
       "\n"
      ],
      "text/plain": [
       "     Mo      Di      Mi      Do      Fr \n",
       "1624.78 1631.48 1353.56 1658.49 1676.50 "
      ]
     },
     "metadata": {},
     "output_type": "display_data"
    }
   ],
   "source": [
    "colSums(aktien.matrix)"
   ]
  },
  {
   "cell_type": "code",
   "execution_count": 6,
   "metadata": {},
   "outputs": [
    {
     "data": {
      "text/html": [
       "<dl class=dl-horizontal>\n",
       "\t<dt>GOOG</dt>\n",
       "\t\t<dd>6574.48</dd>\n",
       "\t<dt>TSLA</dt>\n",
       "\t\t<dd>1370.33</dd>\n",
       "</dl>\n"
      ],
      "text/latex": [
       "\\begin{description*}\n",
       "\\item[GOOG] 6574.48\n",
       "\\item[TSLA] 1370.33\n",
       "\\end{description*}\n"
      ],
      "text/markdown": [
       "GOOG\n",
       ":   6574.48TSLA\n",
       ":   1370.33\n",
       "\n"
      ],
      "text/plain": [
       "   GOOG    TSLA \n",
       "6574.48 1370.33 "
      ]
     },
     "metadata": {},
     "output_type": "display_data"
    }
   ],
   "source": [
    "# Ergibt für Aktien nicht viel Sinn, wir möchten uns aber zumindest die Funktionalität anschauen\n",
    "rowSums(aktien.matrix)"
   ]
  },
  {
   "cell_type": "markdown",
   "metadata": {},
   "source": [
    "Es stehen uns viele weitere mathematische Operationen zur Verfügungn: Dieser [Verweis](https://cran.r-project.org/doc/contrib/Short-refcard.pdf) listet alle verfügbaren Funktionen auf."
   ]
  },
  {
   "cell_type": "code",
   "execution_count": 7,
   "metadata": {},
   "outputs": [
    {
     "data": {
      "text/html": [
       "<dl class=dl-horizontal>\n",
       "\t<dt>GOOG</dt>\n",
       "\t\t<dd>1314.896</dd>\n",
       "\t<dt>TSLA</dt>\n",
       "\t\t<dd>274.066</dd>\n",
       "</dl>\n"
      ],
      "text/latex": [
       "\\begin{description*}\n",
       "\\item[GOOG] 1314.896\n",
       "\\item[TSLA] 274.066\n",
       "\\end{description*}\n"
      ],
      "text/markdown": [
       "GOOG\n",
       ":   1314.896TSLA\n",
       ":   274.066\n",
       "\n"
      ],
      "text/plain": [
       "    GOOG     TSLA \n",
       "1314.896  274.066 "
      ]
     },
     "metadata": {},
     "output_type": "display_data"
    }
   ],
   "source": [
    "rowMeans(aktien.matrix)"
   ]
  },
  {
   "cell_type": "markdown",
   "metadata": {},
   "source": [
    "# Zeilen und Spalten hinzufügen\n",
    "\n",
    "Lasst uns jetzt anschauen, wie wir Zeilen und Spalten zu einer Matrix hinzufügen können. Dazu nutzen wir `cbind()` (für Spalten) und `rbind()` für die Zeilen. Wir können beispielhaft Informationen der Facebook Aktie hinzufügen:"
   ]
  },
  {
   "cell_type": "code",
   "execution_count": 8,
   "metadata": {},
   "outputs": [],
   "source": [
    "FB <- c(111,112,113,120,145)"
   ]
  },
  {
   "cell_type": "code",
   "execution_count": 9,
   "metadata": {},
   "outputs": [],
   "source": [
    "tech.aktien <- rbind(aktien.matrix,FB)"
   ]
  },
  {
   "cell_type": "code",
   "execution_count": 10,
   "metadata": {},
   "outputs": [
    {
     "data": {
      "text/html": [
       "<table>\n",
       "<thead><tr><th></th><th scope=col>Mo</th><th scope=col>Di</th><th scope=col>Mi</th><th scope=col>Do</th><th scope=col>Fr</th></tr></thead>\n",
       "<tbody>\n",
       "\t<tr><th scope=row>GOOG</th><td>1289.92</td><td>1295.28</td><td>1320.54</td><td>1328.13</td><td>1340.61</td></tr>\n",
       "\t<tr><th scope=row>TSLA</th><td> 334.86</td><td> 336.20</td><td>  33.02</td><td> 330.36</td><td> 335.89</td></tr>\n",
       "\t<tr><th scope=row>FB</th><td> 111.00</td><td> 112.00</td><td> 113.00</td><td> 120.00</td><td> 145.00</td></tr>\n",
       "</tbody>\n",
       "</table>\n"
      ],
      "text/latex": [
       "\\begin{tabular}{r|lllll}\n",
       "  & Mo & Di & Mi & Do & Fr\\\\\n",
       "\\hline\n",
       "\tGOOG & 1289.92 & 1295.28 & 1320.54 & 1328.13 & 1340.61\\\\\n",
       "\tTSLA &  334.86 &  336.20 &   33.02 &  330.36 &  335.89\\\\\n",
       "\tFB &  111.00 &  112.00 &  113.00 &  120.00 &  145.00\\\\\n",
       "\\end{tabular}\n"
      ],
      "text/markdown": [
       "\n",
       "| <!--/--> | Mo | Di | Mi | Do | Fr |\n",
       "|---|---|---|---|---|---|\n",
       "| GOOG | 1289.92 | 1295.28 | 1320.54 | 1328.13 | 1340.61 |\n",
       "| TSLA |  334.86 |  336.20 |   33.02 |  330.36 |  335.89 |\n",
       "| FB |  111.00 |  112.00 |  113.00 |  120.00 |  145.00 |\n",
       "\n"
      ],
      "text/plain": [
       "     Mo      Di      Mi      Do      Fr     \n",
       "GOOG 1289.92 1295.28 1320.54 1328.13 1340.61\n",
       "TSLA  334.86  336.20   33.02  330.36  335.89\n",
       "FB    111.00  112.00  113.00  120.00  145.00"
      ]
     },
     "metadata": {},
     "output_type": "display_data"
    }
   ],
   "source": [
    "tech.aktien"
   ]
  },
  {
   "cell_type": "markdown",
   "metadata": {},
   "source": [
    "Lasst uns als nächstes eine Spalte für den Durchschnitt (en. average) hinzufügen."
   ]
  },
  {
   "cell_type": "code",
   "execution_count": 11,
   "metadata": {},
   "outputs": [],
   "source": [
    "avg <- rowMeans(tech.aktien)"
   ]
  },
  {
   "cell_type": "code",
   "execution_count": 12,
   "metadata": {},
   "outputs": [
    {
     "data": {
      "text/html": [
       "<dl class=dl-horizontal>\n",
       "\t<dt>GOOG</dt>\n",
       "\t\t<dd>1314.896</dd>\n",
       "\t<dt>TSLA</dt>\n",
       "\t\t<dd>274.066</dd>\n",
       "\t<dt>FB</dt>\n",
       "\t\t<dd>120.2</dd>\n",
       "</dl>\n"
      ],
      "text/latex": [
       "\\begin{description*}\n",
       "\\item[GOOG] 1314.896\n",
       "\\item[TSLA] 274.066\n",
       "\\item[FB] 120.2\n",
       "\\end{description*}\n"
      ],
      "text/markdown": [
       "GOOG\n",
       ":   1314.896TSLA\n",
       ":   274.066FB\n",
       ":   120.2\n",
       "\n"
      ],
      "text/plain": [
       "    GOOG     TSLA       FB \n",
       "1314.896  274.066  120.200 "
      ]
     },
     "metadata": {},
     "output_type": "display_data"
    }
   ],
   "source": [
    "avg"
   ]
  },
  {
   "cell_type": "code",
   "execution_count": 13,
   "metadata": {},
   "outputs": [],
   "source": [
    "tech.aktien <- cbind(tech.aktien,avg)"
   ]
  },
  {
   "cell_type": "code",
   "execution_count": 14,
   "metadata": {},
   "outputs": [
    {
     "data": {
      "text/html": [
       "<table>\n",
       "<thead><tr><th></th><th scope=col>Mo</th><th scope=col>Di</th><th scope=col>Mi</th><th scope=col>Do</th><th scope=col>Fr</th><th scope=col>avg</th></tr></thead>\n",
       "<tbody>\n",
       "\t<tr><th scope=row>GOOG</th><td>1289.92 </td><td>1295.28 </td><td>1320.54 </td><td>1328.13 </td><td>1340.61 </td><td>1314.896</td></tr>\n",
       "\t<tr><th scope=row>TSLA</th><td> 334.86 </td><td> 336.20 </td><td>  33.02 </td><td> 330.36 </td><td> 335.89 </td><td> 274.066</td></tr>\n",
       "\t<tr><th scope=row>FB</th><td> 111.00 </td><td> 112.00 </td><td> 113.00 </td><td> 120.00 </td><td> 145.00 </td><td> 120.200</td></tr>\n",
       "</tbody>\n",
       "</table>\n"
      ],
      "text/latex": [
       "\\begin{tabular}{r|llllll}\n",
       "  & Mo & Di & Mi & Do & Fr & avg\\\\\n",
       "\\hline\n",
       "\tGOOG & 1289.92  & 1295.28  & 1320.54  & 1328.13  & 1340.61  & 1314.896\\\\\n",
       "\tTSLA &  334.86  &  336.20  &   33.02  &  330.36  &  335.89  &  274.066\\\\\n",
       "\tFB &  111.00  &  112.00  &  113.00  &  120.00  &  145.00  &  120.200\\\\\n",
       "\\end{tabular}\n"
      ],
      "text/markdown": [
       "\n",
       "| <!--/--> | Mo | Di | Mi | Do | Fr | avg |\n",
       "|---|---|---|---|---|---|---|\n",
       "| GOOG | 1289.92  | 1295.28  | 1320.54  | 1328.13  | 1340.61  | 1314.896 |\n",
       "| TSLA |  334.86  |  336.20  |   33.02  |  330.36  |  335.89  |  274.066 |\n",
       "| FB |  111.00  |  112.00  |  113.00  |  120.00  |  145.00  |  120.200 |\n",
       "\n"
      ],
      "text/plain": [
       "     Mo      Di      Mi      Do      Fr      avg     \n",
       "GOOG 1289.92 1295.28 1320.54 1328.13 1340.61 1314.896\n",
       "TSLA  334.86  336.20   33.02  330.36  335.89  274.066\n",
       "FB    111.00  112.00  113.00  120.00  145.00  120.200"
      ]
     },
     "metadata": {},
     "output_type": "display_data"
    }
   ],
   "source": [
    "tech.aktien"
   ]
  },
  {
   "cell_type": "markdown",
   "metadata": {},
   "source": [
    "Das waren die Grundlagen der Matrix Operationen. \n",
    "\n",
    "Herzlichen Glückwunsch! Sie sind mit Lektion 11 fertig!"
   ]
  }
 ],
 "metadata": {
  "kernelspec": {
   "display_name": "R",
   "language": "R",
   "name": "ir"
  },
  "language_info": {
   "codemirror_mode": "r",
   "file_extension": ".r",
   "mimetype": "text/x-r-source",
   "name": "R",
   "pygments_lexer": "r",
   "version": "3.6.1"
  }
 },
 "nbformat": 4,
 "nbformat_minor": 1
}
