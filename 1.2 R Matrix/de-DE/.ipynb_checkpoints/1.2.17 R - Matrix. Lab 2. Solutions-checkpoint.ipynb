{
 "cells": [
  {
   "cell_type": "markdown",
   "metadata": {},
   "source": [
    "# Tag 1. Kapitel 2. Matrix\n",
    "\n",
    "## Lab 2. R Matrizen - Lösung\n",
    "\n",
    "Im Verlauf dieser Übung werden wir die Datenstruktur \"Matrix\" wiederholen. Als kleinen Bonus wird es außerdem etwas zum selbst entdecken geben."
   ]
  },
  {
   "cell_type": "markdown",
   "metadata": {},
   "source": [
    "**Erstelle 2 Vektoren A und B. A soll die Werte (1,2,3,4,5) beinhalten und B die Werte (6,7,8,9,10). Mit diesen Vektoren verwende entweder `cbind()` oder `rbind()`, um eine Matrix im Format 2 mal 5 zu erstellen. Nur eine der Verknüpfungsfunktionen ist hier richtig!**"
   ]
  },
  {
   "cell_type": "code",
   "execution_count": 2,
   "metadata": {},
   "outputs": [
    {
     "data": {
      "text/html": [
       "<table>\n",
       "<tbody>\n",
       "\t<tr><th scope=row>A</th><td>1 </td><td>2 </td><td>3 </td><td>4 </td><td> 5</td></tr>\n",
       "\t<tr><th scope=row>B</th><td>6 </td><td>7 </td><td>8 </td><td>9 </td><td>10</td></tr>\n",
       "</tbody>\n",
       "</table>\n"
      ],
      "text/latex": [
       "\\begin{tabular}{r|lllll}\n",
       "\tA & 1  & 2  & 3  & 4  &  5\\\\\n",
       "\tB & 6  & 7  & 8  & 9  & 10\\\\\n",
       "\\end{tabular}\n"
      ],
      "text/markdown": [
       "\n",
       "| A | 1  | 2  | 3  | 4  |  5 |\n",
       "| B | 6  | 7  | 8  | 9  | 10 |\n",
       "\n"
      ],
      "text/plain": [
       "  [,1] [,2] [,3] [,4] [,5]\n",
       "A 1    2    3    4     5  \n",
       "B 6    7    8    9    10  "
      ]
     },
     "metadata": {},
     "output_type": "display_data"
    }
   ],
   "source": [
    "A <- c(1,2,3,4,5) \n",
    "B <- c(6,7,8,9,10)\n",
    "rbind(A,B)"
   ]
  },
  {
   "cell_type": "markdown",
   "metadata": {},
   "source": [
    "**Erstelle eine 4 mal 4 Matrix, die die Zahlen 1 bis 16 beinhaltet. Diese Matrix soll durch das Kürzel 1:16 erstellt werden und durch Definition des nrow Parameters in der matrix() Funktion. Weise diese Matrix der Varaiblen *mat* zu.**"
   ]
  },
  {
   "cell_type": "code",
   "execution_count": 5,
   "metadata": {},
   "outputs": [
    {
     "data": {
      "text/html": [
       "<table>\n",
       "<tbody>\n",
       "\t<tr><td> 1</td><td> 2</td><td> 3</td><td> 4</td></tr>\n",
       "\t<tr><td> 5</td><td> 6</td><td> 7</td><td> 8</td></tr>\n",
       "\t<tr><td> 9</td><td>10</td><td>11</td><td>12</td></tr>\n",
       "\t<tr><td>13</td><td>14</td><td>15</td><td>16</td></tr>\n",
       "</tbody>\n",
       "</table>\n"
      ],
      "text/latex": [
       "\\begin{tabular}{llll}\n",
       "\t  1 &  2 &  3 &  4\\\\\n",
       "\t  5 &  6 &  7 &  8\\\\\n",
       "\t  9 & 10 & 11 & 12\\\\\n",
       "\t 13 & 14 & 15 & 16\\\\\n",
       "\\end{tabular}\n"
      ],
      "text/markdown": [
       "\n",
       "|  1 |  2 |  3 |  4 |\n",
       "|  5 |  6 |  7 |  8 |\n",
       "|  9 | 10 | 11 | 12 |\n",
       "| 13 | 14 | 15 | 16 |\n",
       "\n"
      ],
      "text/plain": [
       "     [,1] [,2] [,3] [,4]\n",
       "[1,]  1    2    3    4  \n",
       "[2,]  5    6    7    8  \n",
       "[3,]  9   10   11   12  \n",
       "[4,] 13   14   15   16  "
      ]
     },
     "metadata": {},
     "output_type": "display_data"
    }
   ],
   "source": [
    "mat <- matrix(1:16,byrow=TRUE,nrow = 4)\n",
    "mat"
   ]
  },
  {
   "cell_type": "markdown",
   "metadata": {},
   "source": [
    "**Überprüfe, ob *mat* wirklich eine Matrix ist. Tipp: is.matrix()**"
   ]
  },
  {
   "cell_type": "code",
   "execution_count": 8,
   "metadata": {},
   "outputs": [
    {
     "data": {
      "text/html": [
       "TRUE"
      ],
      "text/latex": [
       "TRUE"
      ],
      "text/markdown": [
       "TRUE"
      ],
      "text/plain": [
       "[1] TRUE"
      ]
     },
     "metadata": {},
     "output_type": "display_data"
    },
    {
     "data": {
      "text/html": [
       "FALSE"
      ],
      "text/latex": [
       "FALSE"
      ],
      "text/markdown": [
       "FALSE"
      ],
      "text/plain": [
       "[1] FALSE"
      ]
     },
     "metadata": {},
     "output_type": "display_data"
    },
    {
     "data": {
      "text/html": [
       "'matrix'"
      ],
      "text/latex": [
       "'matrix'"
      ],
      "text/markdown": [
       "'matrix'"
      ],
      "text/plain": [
       "[1] \"matrix\""
      ]
     },
     "metadata": {},
     "output_type": "display_data"
    }
   ],
   "source": [
    "is.matrix(mat)\n",
    "#is.vector(mat)\n",
    "#class(mat)"
   ]
  },
  {
   "cell_type": "markdown",
   "metadata": {},
   "source": [
    "**Erstelle eine 5 mal 5 Matrix, die die Zahlen 1 bis 25 enthält. Diese soll den Namen *mat2* haben. Die oberste Zeile soll außerdem die Werte 1 bis 5 beinhalten.**"
   ]
  },
  {
   "cell_type": "code",
   "execution_count": 9,
   "metadata": {},
   "outputs": [
    {
     "data": {
      "text/html": [
       "<table>\n",
       "<tbody>\n",
       "\t<tr><td> 1</td><td> 2</td><td> 3</td><td> 4</td><td> 5</td></tr>\n",
       "\t<tr><td> 6</td><td> 7</td><td> 8</td><td> 9</td><td>10</td></tr>\n",
       "\t<tr><td>11</td><td>12</td><td>13</td><td>14</td><td>15</td></tr>\n",
       "\t<tr><td>16</td><td>17</td><td>18</td><td>19</td><td>20</td></tr>\n",
       "\t<tr><td>21</td><td>22</td><td>23</td><td>24</td><td>25</td></tr>\n",
       "</tbody>\n",
       "</table>\n"
      ],
      "text/latex": [
       "\\begin{tabular}{lllll}\n",
       "\t  1 &  2 &  3 &  4 &  5\\\\\n",
       "\t  6 &  7 &  8 &  9 & 10\\\\\n",
       "\t 11 & 12 & 13 & 14 & 15\\\\\n",
       "\t 16 & 17 & 18 & 19 & 20\\\\\n",
       "\t 21 & 22 & 23 & 24 & 25\\\\\n",
       "\\end{tabular}\n"
      ],
      "text/markdown": [
       "\n",
       "|  1 |  2 |  3 |  4 |  5 |\n",
       "|  6 |  7 |  8 |  9 | 10 |\n",
       "| 11 | 12 | 13 | 14 | 15 |\n",
       "| 16 | 17 | 18 | 19 | 20 |\n",
       "| 21 | 22 | 23 | 24 | 25 |\n",
       "\n"
      ],
      "text/plain": [
       "     [,1] [,2] [,3] [,4] [,5]\n",
       "[1,]  1    2    3    4    5  \n",
       "[2,]  6    7    8    9   10  \n",
       "[3,] 11   12   13   14   15  \n",
       "[4,] 16   17   18   19   20  \n",
       "[5,] 21   22   23   24   25  "
      ]
     },
     "metadata": {},
     "output_type": "display_data"
    }
   ],
   "source": [
    "mat2 <- matrix(1:25,byrow = TRUE,nrow = 5)\n",
    "mat2"
   ]
  },
  {
   "cell_type": "markdown",
   "metadata": {},
   "source": [
    "**Nutze die Index Notation, um einen Ausschnitt von *mat2* auszuwählen. Dieser soll wie folgt aussehen:**\n",
    "\n",
    "    [7,8]\n",
    "    [12,13]"
   ]
  },
  {
   "cell_type": "code",
   "execution_count": 10,
   "metadata": {},
   "outputs": [
    {
     "data": {
      "text/html": [
       "<table>\n",
       "<tbody>\n",
       "\t<tr><td> 7</td><td> 8</td></tr>\n",
       "\t<tr><td>12</td><td>13</td></tr>\n",
       "</tbody>\n",
       "</table>\n"
      ],
      "text/latex": [
       "\\begin{tabular}{ll}\n",
       "\t  7 &  8\\\\\n",
       "\t 12 & 13\\\\\n",
       "\\end{tabular}\n"
      ],
      "text/markdown": [
       "\n",
       "|  7 |  8 |\n",
       "| 12 | 13 |\n",
       "\n"
      ],
      "text/plain": [
       "     [,1] [,2]\n",
       "[1,]  7    8  \n",
       "[2,] 12   13  "
      ]
     },
     "metadata": {},
     "output_type": "display_data"
    }
   ],
   "source": [
    "mat2[2:3,2:3]"
   ]
  },
  {
   "cell_type": "markdown",
   "metadata": {},
   "source": [
    "**Nutze die Index Notation, um einen Ausschnitt von *mat2* auszuwählen. Dieser soll wie folgt aussehen:**\n",
    "\n",
    "    [19,20]\n",
    "    [24,25]"
   ]
  },
  {
   "cell_type": "code",
   "execution_count": 11,
   "metadata": {},
   "outputs": [
    {
     "data": {
      "text/html": [
       "<table>\n",
       "<tbody>\n",
       "\t<tr><td>19</td><td>20</td></tr>\n",
       "\t<tr><td>24</td><td>25</td></tr>\n",
       "</tbody>\n",
       "</table>\n"
      ],
      "text/latex": [
       "\\begin{tabular}{ll}\n",
       "\t 19 & 20\\\\\n",
       "\t 24 & 25\\\\\n",
       "\\end{tabular}\n"
      ],
      "text/markdown": [
       "\n",
       "| 19 | 20 |\n",
       "| 24 | 25 |\n",
       "\n"
      ],
      "text/plain": [
       "     [,1] [,2]\n",
       "[1,] 19   20  \n",
       "[2,] 24   25  "
      ]
     },
     "metadata": {},
     "output_type": "display_data"
    }
   ],
   "source": [
    "mat2[4:5,4:5]"
   ]
  },
  {
   "cell_type": "markdown",
   "metadata": {},
   "source": [
    "**Wie lautet die Summe aller Elemente in *mat2*?**"
   ]
  },
  {
   "cell_type": "code",
   "execution_count": 12,
   "metadata": {},
   "outputs": [
    {
     "data": {
      "text/html": [
       "325"
      ],
      "text/latex": [
       "325"
      ],
      "text/markdown": [
       "325"
      ],
      "text/plain": [
       "[1] 325"
      ]
     },
     "metadata": {},
     "output_type": "display_data"
    }
   ],
   "source": [
    "sum(mat2)"
   ]
  },
  {
   "cell_type": "markdown",
   "metadata": {},
   "source": [
    "**Letzte Aufgabe: finde heraus, wie man `runif()` nutzt, um eine 4 mal 5 Matrix zu erstellen, die aus 20 zufällig ausgewählten Zahlen besteht.**"
   ]
  },
  {
   "cell_type": "code",
   "execution_count": 18,
   "metadata": {
    "scrolled": false
   },
   "outputs": [
    {
     "data": {
      "text/html": [
       "<ol class=list-inline>\n",
       "\t<li>14.1154809622094</li>\n",
       "\t<li>73.8736687693745</li>\n",
       "\t<li>58.0972500611097</li>\n",
       "\t<li>46.1573825217783</li>\n",
       "\t<li>82.5174092315137</li>\n",
       "\t<li>90.7042182749137</li>\n",
       "\t<li>90.1731202378869</li>\n",
       "\t<li>73.8621861673892</li>\n",
       "\t<li>8.89054057188332</li>\n",
       "\t<li>98.1588273774832</li>\n",
       "\t<li>89.9768125498667</li>\n",
       "\t<li>79.5622989535332</li>\n",
       "\t<li>16.8377267895266</li>\n",
       "\t<li>44.0093180863187</li>\n",
       "\t<li>10.7876367866993</li>\n",
       "\t<li>37.3558317543939</li>\n",
       "\t<li>89.5803403807804</li>\n",
       "\t<li>32.460506609641</li>\n",
       "\t<li>92.8767897887155</li>\n",
       "\t<li>27.045756042935</li>\n",
       "</ol>\n"
      ],
      "text/latex": [
       "\\begin{enumerate*}\n",
       "\\item 14.1154809622094\n",
       "\\item 73.8736687693745\n",
       "\\item 58.0972500611097\n",
       "\\item 46.1573825217783\n",
       "\\item 82.5174092315137\n",
       "\\item 90.7042182749137\n",
       "\\item 90.1731202378869\n",
       "\\item 73.8621861673892\n",
       "\\item 8.89054057188332\n",
       "\\item 98.1588273774832\n",
       "\\item 89.9768125498667\n",
       "\\item 79.5622989535332\n",
       "\\item 16.8377267895266\n",
       "\\item 44.0093180863187\n",
       "\\item 10.7876367866993\n",
       "\\item 37.3558317543939\n",
       "\\item 89.5803403807804\n",
       "\\item 32.460506609641\n",
       "\\item 92.8767897887155\n",
       "\\item 27.045756042935\n",
       "\\end{enumerate*}\n"
      ],
      "text/markdown": [
       "1. 14.1154809622094\n",
       "2. 73.8736687693745\n",
       "3. 58.0972500611097\n",
       "4. 46.1573825217783\n",
       "5. 82.5174092315137\n",
       "6. 90.7042182749137\n",
       "7. 90.1731202378869\n",
       "8. 73.8621861673892\n",
       "9. 8.89054057188332\n",
       "10. 98.1588273774832\n",
       "11. 89.9768125498667\n",
       "12. 79.5622989535332\n",
       "13. 16.8377267895266\n",
       "14. 44.0093180863187\n",
       "15. 10.7876367866993\n",
       "16. 37.3558317543939\n",
       "17. 89.5803403807804\n",
       "18. 32.460506609641\n",
       "19. 92.8767897887155\n",
       "20. 27.045756042935\n",
       "\n",
       "\n"
      ],
      "text/plain": [
       " [1] 14.115481 73.873669 58.097250 46.157383 82.517409 90.704218 90.173120\n",
       " [8] 73.862186  8.890541 98.158827 89.976813 79.562299 16.837727 44.009318\n",
       "[15] 10.787637 37.355832 89.580340 32.460507 92.876790 27.045756"
      ]
     },
     "metadata": {},
     "output_type": "display_data"
    },
    {
     "data": {
      "text/html": [
       "<table>\n",
       "<tbody>\n",
       "\t<tr><td>14.11548 </td><td>82.51741 </td><td> 8.890541</td><td>16.83773 </td><td>89.58034 </td></tr>\n",
       "\t<tr><td>73.87367 </td><td>90.70422 </td><td>98.158827</td><td>44.00932 </td><td>32.46051 </td></tr>\n",
       "\t<tr><td>58.09725 </td><td>90.17312 </td><td>89.976813</td><td>10.78764 </td><td>92.87679 </td></tr>\n",
       "\t<tr><td>46.15738 </td><td>73.86219 </td><td>79.562299</td><td>37.35583 </td><td>27.04576 </td></tr>\n",
       "</tbody>\n",
       "</table>\n"
      ],
      "text/latex": [
       "\\begin{tabular}{lllll}\n",
       "\t 14.11548  & 82.51741  &  8.890541 & 16.83773  & 89.58034 \\\\\n",
       "\t 73.87367  & 90.70422  & 98.158827 & 44.00932  & 32.46051 \\\\\n",
       "\t 58.09725  & 90.17312  & 89.976813 & 10.78764  & 92.87679 \\\\\n",
       "\t 46.15738  & 73.86219  & 79.562299 & 37.35583  & 27.04576 \\\\\n",
       "\\end{tabular}\n"
      ],
      "text/markdown": [
       "\n",
       "| 14.11548  | 82.51741  |  8.890541 | 16.83773  | 89.58034  |\n",
       "| 73.87367  | 90.70422  | 98.158827 | 44.00932  | 32.46051  |\n",
       "| 58.09725  | 90.17312  | 89.976813 | 10.78764  | 92.87679  |\n",
       "| 46.15738  | 73.86219  | 79.562299 | 37.35583  | 27.04576  |\n",
       "\n"
      ],
      "text/plain": [
       "     [,1]     [,2]     [,3]      [,4]     [,5]    \n",
       "[1,] 14.11548 82.51741  8.890541 16.83773 89.58034\n",
       "[2,] 73.87367 90.70422 98.158827 44.00932 32.46051\n",
       "[3,] 58.09725 90.17312 89.976813 10.78764 92.87679\n",
       "[4,] 46.15738 73.86219 79.562299 37.35583 27.04576"
      ]
     },
     "metadata": {},
     "output_type": "display_data"
    }
   ],
   "source": [
    "rowcount = 4 * 5\n",
    "\n",
    "z <- runif(rowcount,min=0,max=100)\n",
    "z\n",
    "\n",
    "zufmat <- matrix(z,nrow = 4)\n",
    "zufmat"
   ]
  },
  {
   "cell_type": "markdown",
   "metadata": {},
   "source": [
    "Gut gemacht!\n",
    "\n",
    "Ende von Lab 2."
   ]
  }
 ],
 "metadata": {
  "kernelspec": {
   "display_name": "R",
   "language": "R",
   "name": "ir"
  },
  "language_info": {
   "codemirror_mode": "r",
   "file_extension": ".r",
   "mimetype": "text/x-r-source",
   "name": "R",
   "pygments_lexer": "r",
   "version": "3.6.1"
  }
 },
 "nbformat": 4,
 "nbformat_minor": 1
}
