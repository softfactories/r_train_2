{
 "cells": [
  {
   "cell_type": "markdown",
   "metadata": {},
   "source": [
    "# Kapitel 1.2 Daten Ein-/Ausgabe (Input/Output) in R\n",
    "\n",
    "## Lektion 11.  CSV Input / Output\n",
    "\n",
    "CSV steht für *Comma-separated values* (durch Kommas getrennte Werte) und ist eine der am häufigsten verwendeten Methoden für Ein-/Ausgabe von Daten in R. Das grundlegende Dateiformat von CSV-Dateien beschreibt in der ersten Zeile die Spaltennamen (durch Kommas getrennt). Die restlichen Zeilen enthalten die Daten (ebenfalls durch Komma getrennt). Eine der einfachsten Möglichkeiten zum Lesen von CSV-Dateien ist die Verwendung von **read.csv ()**, das bereits in R enthalten ist. Wir lernen später auch die Funktion **fread** kennen, die etwas schneller funktioniert. Es ist jedoch wichtig, alle Optionen zu kennen.\n",
    "\n",
    "*Bemerkung: Bei Verwendung von **read.csv()** muss man entweder den vollständigen Dateipfad angeben oder die Daten im selben Verzeichnis wie das R-Skript speichern.*"
   ]
  },
  {
   "cell_type": "code",
   "execution_count": 1,
   "metadata": {},
   "outputs": [],
   "source": [
    "# aus dem selben Verzeichnis lesen (ohne Pfad)\n",
    "demo <- read.csv('demo.csv')"
   ]
  },
  {
   "cell_type": "code",
   "execution_count": 5,
   "metadata": {},
   "outputs": [
    {
     "name": "stdout",
     "output_type": "stream",
     "text": [
      "'data.frame':\t3 obs. of  3 variables:\n",
      " $ Name   : Factor w/ 3 levels \"Max\",\"Niko\",\"Uschi\": 2 3 1\n",
      " $ Gewicht: int  70 49 87\n",
      " $ Datum  : Factor w/ 3 levels \"01/01/2019\",\"17/03/2019\",..: 1 3 2\n"
     ]
    }
   ],
   "source": [
    "# Struktur checken\n",
    "str(demo)"
   ]
  },
  {
   "cell_type": "code",
   "execution_count": 6,
   "metadata": {},
   "outputs": [
    {
     "data": {
      "text/html": [
       "<ol class=list-inline>\n",
       "\t<li>'Name'</li>\n",
       "\t<li>'Gewicht'</li>\n",
       "\t<li>'Datum'</li>\n",
       "</ol>\n"
      ],
      "text/latex": [
       "\\begin{enumerate*}\n",
       "\\item 'Name'\n",
       "\\item 'Gewicht'\n",
       "\\item 'Datum'\n",
       "\\end{enumerate*}\n"
      ],
      "text/markdown": [
       "1. 'Name'\n",
       "2. 'Gewicht'\n",
       "3. 'Datum'\n",
       "\n",
       "\n"
      ],
      "text/plain": [
       "[1] \"Name\"    \"Gewicht\" \"Datum\"  "
      ]
     },
     "metadata": {},
     "output_type": "display_data"
    }
   ],
   "source": [
    "# Spaltennamen\n",
    "colnames(demo)"
   ]
  },
  {
   "cell_type": "code",
   "execution_count": 7,
   "metadata": {},
   "outputs": [],
   "source": [
    "# Data Frame ableiten\n",
    "df <- data.frame(demo)"
   ]
  },
  {
   "cell_type": "code",
   "execution_count": 8,
   "metadata": {},
   "outputs": [
    {
     "data": {
      "text/html": [
       "<table>\n",
       "<thead><tr><th scope=col>Name</th><th scope=col>Gewicht</th><th scope=col>Datum</th></tr></thead>\n",
       "<tbody>\n",
       "\t<tr><td>Niko      </td><td>70        </td><td>01/01/2019</td></tr>\n",
       "\t<tr><td>Uschi     </td><td>49        </td><td>21/01/2019</td></tr>\n",
       "\t<tr><td>Max       </td><td>87        </td><td>17/03/2019</td></tr>\n",
       "</tbody>\n",
       "</table>\n"
      ],
      "text/latex": [
       "\\begin{tabular}{r|lll}\n",
       " Name & Gewicht & Datum\\\\\n",
       "\\hline\n",
       "\t Niko       & 70         & 01/01/2019\\\\\n",
       "\t Uschi      & 49         & 21/01/2019\\\\\n",
       "\t Max        & 87         & 17/03/2019\\\\\n",
       "\\end{tabular}\n"
      ],
      "text/markdown": [
       "\n",
       "Name | Gewicht | Datum | \n",
       "|---|---|---|\n",
       "| Niko       | 70         | 01/01/2019 | \n",
       "| Uschi      | 49         | 21/01/2019 | \n",
       "| Max        | 87         | 17/03/2019 | \n",
       "\n",
       "\n"
      ],
      "text/plain": [
       "  Name  Gewicht Datum     \n",
       "1 Niko  70      01/01/2019\n",
       "2 Uschi 49      21/01/2019\n",
       "3 Max   87      17/03/2019"
      ]
     },
     "metadata": {},
     "output_type": "display_data"
    }
   ],
   "source": [
    "head(df)"
   ]
  },
  {
   "cell_type": "markdown",
   "metadata": {},
   "source": [
    "Es ist also seher einfach, aus einer CSV-Dateien zu die Daten auszulesen. Wenn man andere CSV-Dateiformate bekommr, wie z. B. eine durch Tabulatoren oder Semikolon getrennte Datei, kann man dann den Aufruf von **read.csv** immer anpassen:\n",
    "\n",
    "    read.table(file, header = FALSE, sep = \"\", quote = \"\\\"'\",\n",
    "           dec = \".\", numerals = c(\"allow.loss\", \"warn.loss\", \"no.loss\"),\n",
    "           row.names, col.names, as.is = !stringsAsFactors,\n",
    "           na.strings = \"NA\", colClasses = NA, nrows = -1,\n",
    "           skip = 0, check.names = TRUE, fill = !blank.lines.skip,\n",
    "           strip.white = FALSE, blank.lines.skip = TRUE,\n",
    "           comment.char = \"#\",\n",
    "           allowEscapes = FALSE, flush = FALSE,\n",
    "           stringsAsFactors = default.stringsAsFactors(),\n",
    "           fileEncoding = \"\", encoding = \"unknown\", text, skipNul = FALSE)"
   ]
  },
  {
   "cell_type": "code",
   "execution_count": 9,
   "metadata": {},
   "outputs": [],
   "source": [
    "help(read.csv)"
   ]
  },
  {
   "cell_type": "markdown",
   "metadata": {},
   "source": [
    "## read.table\n",
    "\n",
    "Die `read.table` Funktion ist die allgemeine Form von `read.csv`. Genaugenommen ist read.csv nur eine Abkürzung für read.table. Das macht die Nutzung etwas einfacher. Schauen wir uns das an:"
   ]
  },
  {
   "cell_type": "code",
   "execution_count": 7,
   "metadata": {},
   "outputs": [
    {
     "data": {
      "text/html": [
       "<table>\n",
       "<thead><tr><th scope=col>V1</th></tr></thead>\n",
       "<tbody>\n",
       "\t<tr><td>Name,Orders,Date     </td></tr>\n",
       "\t<tr><td>John,12,12/05/2016   </td></tr>\n",
       "\t<tr><td>Charlie,11,12/06/2016</td></tr>\n",
       "\t<tr><td>Matilda,10,12/07/2016</td></tr>\n",
       "</tbody>\n",
       "</table>\n"
      ],
      "text/latex": [
       "\\begin{tabular}{r|l}\n",
       " V1\\\\\n",
       "\\hline\n",
       "\t Name,Orders,Date     \\\\\n",
       "\t John,12,12/05/2016   \\\\\n",
       "\t Charlie,11,12/06/2016\\\\\n",
       "\t Matilda,10,12/07/2016\\\\\n",
       "\\end{tabular}\n"
      ],
      "text/markdown": [
       "\n",
       "V1 | \n",
       "|---|---|---|---|\n",
       "| Name,Orders,Date      | \n",
       "| John,12,12/05/2016    | \n",
       "| Charlie,11,12/06/2016 | \n",
       "| Matilda,10,12/07/2016 | \n",
       "\n",
       "\n"
      ],
      "text/plain": [
       "  V1                   \n",
       "1 Name,Orders,Date     \n",
       "2 John,12,12/05/2016   \n",
       "3 Charlie,11,12/06/2016\n",
       "4 Matilda,10,12/07/2016"
      ]
     },
     "metadata": {},
     "output_type": "display_data"
    }
   ],
   "source": [
    "read.table('beispiel.csv')"
   ]
  },
  {
   "cell_type": "markdown",
   "metadata": {},
   "source": [
    "Wir müssen weitere Angaben wie z.B. das Trennzeichen machen, um das gewüsnchte Ergebnis zu erhalten."
   ]
  },
  {
   "cell_type": "code",
   "execution_count": 8,
   "metadata": {},
   "outputs": [
    {
     "data": {
      "text/html": [
       "<table>\n",
       "<thead><tr><th scope=col>V1</th><th scope=col>V2</th><th scope=col>V3</th></tr></thead>\n",
       "<tbody>\n",
       "\t<tr><td>Name      </td><td>Orders    </td><td>Date      </td></tr>\n",
       "\t<tr><td>John      </td><td>12        </td><td>12/05/2016</td></tr>\n",
       "\t<tr><td>Charlie   </td><td>11        </td><td>12/06/2016</td></tr>\n",
       "\t<tr><td>Matilda   </td><td>10        </td><td>12/07/2016</td></tr>\n",
       "</tbody>\n",
       "</table>\n"
      ],
      "text/latex": [
       "\\begin{tabular}{r|lll}\n",
       " V1 & V2 & V3\\\\\n",
       "\\hline\n",
       "\t Name       & Orders     & Date      \\\\\n",
       "\t John       & 12         & 12/05/2016\\\\\n",
       "\t Charlie    & 11         & 12/06/2016\\\\\n",
       "\t Matilda    & 10         & 12/07/2016\\\\\n",
       "\\end{tabular}\n"
      ],
      "text/markdown": [
       "\n",
       "V1 | V2 | V3 | \n",
       "|---|---|---|---|\n",
       "| Name       | Orders     | Date       | \n",
       "| John       | 12         | 12/05/2016 | \n",
       "| Charlie    | 11         | 12/06/2016 | \n",
       "| Matilda    | 10         | 12/07/2016 | \n",
       "\n",
       "\n"
      ],
      "text/plain": [
       "  V1      V2     V3        \n",
       "1 Name    Orders Date      \n",
       "2 John    12     12/05/2016\n",
       "3 Charlie 11     12/06/2016\n",
       "4 Matilda 10     12/07/2016"
      ]
     },
     "metadata": {},
     "output_type": "display_data"
    }
   ],
   "source": [
    "read.table(file = 'beispiel.csv', sep = ',')"
   ]
  },
  {
   "cell_type": "markdown",
   "metadata": {},
   "source": [
    "Toll! Jetzt kennen wir schon einmal zwei Methoden. In den meisten Fällen werden wir allerdings mit der `fread` Funktion arbeiten."
   ]
  },
  {
   "cell_type": "markdown",
   "metadata": {},
   "source": [
    "## fread\n",
    "`fread()` verhält sich wie `read.table` ist aber schneller und umgänglicher!\n",
    "\n",
    "Dazu wird das package install.packages(\"data.table\") + library(data.table) benötigt."
   ]
  },
  {
   "cell_type": "code",
   "execution_count": 9,
   "metadata": {},
   "outputs": [
    {
     "ename": "ERROR",
     "evalue": "Error in fread(\"beispiel.csv\"): could not find function \"fread\"\n",
     "output_type": "error",
     "traceback": [
      "Error in fread(\"beispiel.csv\"): could not find function \"fread\"\nTraceback:\n"
     ]
    }
   ],
   "source": [
    "fread('beispiel.csv')"
   ]
  },
  {
   "cell_type": "markdown",
   "metadata": {},
   "source": [
    "## Output zu CSV\n",
    "\n",
    "Wir können außerdem Inhalte mit `write.csv` als Output erzeugen:"
   ]
  },
  {
   "cell_type": "code",
   "execution_count": 10,
   "metadata": {},
   "outputs": [
    {
     "ename": "ERROR",
     "evalue": "Error in fread(\"foo.csv\"): could not find function \"fread\"\n",
     "output_type": "error",
     "traceback": [
      "Error in fread(\"foo.csv\"): could not find function \"fread\"\nTraceback:\n"
     ]
    }
   ],
   "source": [
    "# Alternative\n",
    "write.csv(df, file = \"foo.csv\")\n",
    "fread('foo.csv')"
   ]
  },
  {
   "cell_type": "code",
   "execution_count": 11,
   "metadata": {},
   "outputs": [
    {
     "ename": "ERROR",
     "evalue": "Error in fread(\"foo.csv\"): could not find function \"fread\"\n",
     "output_type": "error",
     "traceback": [
      "Error in fread(\"foo.csv\"): could not find function \"fread\"\nTraceback:\n"
     ]
    }
   ],
   "source": [
    "## Oder ohne Zeilennamen\n",
    "write.csv(df, file = \"foo.csv\",row.names = FALSE)\n",
    "fread('foo.csv')"
   ]
  },
  {
   "cell_type": "markdown",
   "metadata": {},
   "source": [
    "Herzlichen Glückwunsch! Sie sind mit Lektion 11 fertig."
   ]
  }
 ],
 "metadata": {
  "kernelspec": {
   "display_name": "R",
   "language": "R",
   "name": "ir"
  },
  "language_info": {
   "codemirror_mode": "r",
   "file_extension": ".r",
   "mimetype": "text/x-r-source",
   "name": "R",
   "pygments_lexer": "r",
   "version": "3.6.1"
  }
 },
 "nbformat": 4,
 "nbformat_minor": 1
}
