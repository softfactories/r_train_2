{
 "cells": [
  {
   "cell_type": "markdown",
   "metadata": {},
   "source": [
    "# Tag 1. Kapitel 5. Data IO \n",
    "\n",
    "## Lektionen 23. - 24. Ein- und Ausgabe von Daten \n",
    "\n",
    "### Import/Export von Daten aus/in verschiedenen Quellen.\n",
    "\n",
    "*Bemerkung: diese Lektion ist eine Wiederholung der Lektion 13.20.2 und darf ggf. übersprungen werden, wenn das Thema bereits bekannt ist*\n",
    "\n",
    "Data Frames sind die Arbeitstiere von R, deshalb erstellen wir uns in dieser Lektion eine Art \"Cheatsheet\" der üblichsten Ein- und Ausgabe-Operationen. Dadurch wird diese Lektion extrem nützlich sein und uns im weiteren Verlauf des Kurses extrem viel Zeit sparen, da wir Data Frames bereits kennen und auf unser Cheatsheet zurückgreifen können. \n",
    "\n",
    "Wir werden uns eine Übersicht der folgenden typischen Operationen verschaffen:\n",
    "\n",
    "* Daten in/von Zwischenablage (Clipboard) schreiben/lesen\n",
    "* Daten in/von CSV-Datei schreiben/lesen\n",
    "* Daten in/von Excel-Datei schreiben/lesen\n",
    "* Daten in/von eine(r) Datenbank schreiben/lesen\n",
    "\n",
    "**Tipp: Informationen Anbindung von R an verschiedene Datenbanken kann man auf der Webseite [Databases using R](https://db.rstudio.com/databases/) erfahren**\n"
   ]
  },
  {
   "cell_type": "markdown",
   "metadata": {},
   "source": [
    "## Manuelle Datenkorrektur in R Studio"
   ]
  },
  {
   "cell_type": "code",
   "execution_count": 4,
   "metadata": {},
   "outputs": [
    {
     "ename": "ERROR",
     "evalue": "Error in edit(df): 'edit()' not yet supported in the Jupyter R kernel\n",
     "output_type": "error",
     "traceback": [
      "Error in edit(df): 'edit()' not yet supported in the Jupyter R kernel\nTraceback:\n",
      "1. edit(df)",
      "2. stop(sQuote(\"edit()\"), \" not yet supported in the Jupyter R kernel\")"
     ]
    }
   ],
   "source": [
    "leer <- data.frame() # Leerer Data Frame\n",
    "c1 <- 1:15 # Vektor von Zahlen\n",
    "c2 <- letters[1:15] # Verktor von Zeichen\n",
    "df <- data.frame(spalte.name.1=c1,spalte.name.2=c2)\n",
    "\n",
    "# Erstellte Datensätze anpassen und ausgeben \n",
    "df <- edit(df) # läuft nur in R Studio (in R Studio ausprobieren)\n",
    "df"
   ]
  },
  {
   "cell_type": "markdown",
   "metadata": {},
   "source": [
    "## Lektion 23.1. Daten aus der Zwischenablage (Clipboard) lesen"
   ]
  },
  {
   "cell_type": "code",
   "execution_count": 2,
   "metadata": {},
   "outputs": [
    {
     "data": {
      "text/html": [
       "<table>\n",
       "<thead><tr><th scope=col>Date</th><th scope=col>Open</th><th scope=col>High</th><th scope=col>Low</th><th scope=col>Close</th><th scope=col>Adj.Close</th><th scope=col>Volume</th></tr></thead>\n",
       "<tbody>\n",
       "\t<tr><td>2018-12-12</td><td>1068.00   </td><td>1081.65   </td><td>1062.79   </td><td>1063.68   </td><td>1063.68   </td><td>1523800   </td></tr>\n",
       "\t<tr><td>2018-12-13</td><td>1068.07   </td><td>1079.76   </td><td>1053.93   </td><td>1061.90   </td><td>1061.90   </td><td>1329800   </td></tr>\n",
       "\t<tr><td>2018-12-14</td><td>1049.98   </td><td>1062.60   </td><td>1040.79   </td><td>1042.10   </td><td>1042.10   </td><td>1686600   </td></tr>\n",
       "\t<tr><td>2018-12-17</td><td>1037.51   </td><td>1053.15   </td><td>1007.90   </td><td>1016.53   </td><td>1016.53   </td><td>2385400   </td></tr>\n",
       "\t<tr><td>2018-12-18</td><td>1026.09   </td><td>1049.48   </td><td>1021.44   </td><td>1028.71   </td><td>1028.71   </td><td>2192500   </td></tr>\n",
       "\t<tr><td>2018-12-19</td><td>1033.99   </td><td>1062.00   </td><td>1008.05   </td><td>1023.01   </td><td>1023.01   </td><td>2479300   </td></tr>\n",
       "</tbody>\n",
       "</table>\n"
      ],
      "text/latex": [
       "\\begin{tabular}{r|lllllll}\n",
       " Date & Open & High & Low & Close & Adj.Close & Volume\\\\\n",
       "\\hline\n",
       "\t 2018-12-12 & 1068.00    & 1081.65    & 1062.79    & 1063.68    & 1063.68    & 1523800   \\\\\n",
       "\t 2018-12-13 & 1068.07    & 1079.76    & 1053.93    & 1061.90    & 1061.90    & 1329800   \\\\\n",
       "\t 2018-12-14 & 1049.98    & 1062.60    & 1040.79    & 1042.10    & 1042.10    & 1686600   \\\\\n",
       "\t 2018-12-17 & 1037.51    & 1053.15    & 1007.90    & 1016.53    & 1016.53    & 2385400   \\\\\n",
       "\t 2018-12-18 & 1026.09    & 1049.48    & 1021.44    & 1028.71    & 1028.71    & 2192500   \\\\\n",
       "\t 2018-12-19 & 1033.99    & 1062.00    & 1008.05    & 1023.01    & 1023.01    & 2479300   \\\\\n",
       "\\end{tabular}\n"
      ],
      "text/markdown": [
       "\n",
       "| Date | Open | High | Low | Close | Adj.Close | Volume |\n",
       "|---|---|---|---|---|---|---|\n",
       "| 2018-12-12 | 1068.00    | 1081.65    | 1062.79    | 1063.68    | 1063.68    | 1523800    |\n",
       "| 2018-12-13 | 1068.07    | 1079.76    | 1053.93    | 1061.90    | 1061.90    | 1329800    |\n",
       "| 2018-12-14 | 1049.98    | 1062.60    | 1040.79    | 1042.10    | 1042.10    | 1686600    |\n",
       "| 2018-12-17 | 1037.51    | 1053.15    | 1007.90    | 1016.53    | 1016.53    | 2385400    |\n",
       "| 2018-12-18 | 1026.09    | 1049.48    | 1021.44    | 1028.71    | 1028.71    | 2192500    |\n",
       "| 2018-12-19 | 1033.99    | 1062.00    | 1008.05    | 1023.01    | 1023.01    | 2479300    |\n",
       "\n"
      ],
      "text/plain": [
       "  Date       Open    High    Low     Close   Adj.Close Volume \n",
       "1 2018-12-12 1068.00 1081.65 1062.79 1063.68 1063.68   1523800\n",
       "2 2018-12-13 1068.07 1079.76 1053.93 1061.90 1061.90   1329800\n",
       "3 2018-12-14 1049.98 1062.60 1040.79 1042.10 1042.10   1686600\n",
       "4 2018-12-17 1037.51 1053.15 1007.90 1016.53 1016.53   2385400\n",
       "5 2018-12-18 1026.09 1049.48 1021.44 1028.71 1028.71   2192500\n",
       "6 2018-12-19 1033.99 1062.00 1008.05 1023.01 1023.01   2479300"
      ]
     },
     "metadata": {},
     "output_type": "display_data"
    }
   ],
   "source": [
    "# Achtung! Im Voraus die Daten aus einer Excel-Datei (z.B. GOOG.xls) in der Zwischenablage (Clipboard) speichern (Ctrl+C)\n",
    "\n",
    "# Daten aus der Zwischenablage (Clipboard) lesen\n",
    "df <- read.table(file=\"clipboard\",sep=\"\\t\", header=TRUE) # Tabulator (\\t) als Trenner nutzen\n",
    "head(df)"
   ]
  },
  {
   "cell_type": "markdown",
   "metadata": {},
   "source": [
    "## Lektion 23.1. Daten in Zwischenablage (Clipboard) speichern"
   ]
  },
  {
   "cell_type": "code",
   "execution_count": 5,
   "metadata": {},
   "outputs": [],
   "source": [
    "cars <- mtcars # eingabauter Datensatz mit Fahrzeugdaten\n",
    "# Data Frame in Clipboard speichern \n",
    "write.table(x=cars,file = \"clipboard\",sep = \"\\t\")"
   ]
  },
  {
   "cell_type": "code",
   "execution_count": 6,
   "metadata": {},
   "outputs": [
    {
     "data": {
      "text/html": [
       "<table>\n",
       "<thead><tr><th></th><th scope=col>mpg</th><th scope=col>cyl</th><th scope=col>disp</th><th scope=col>hp</th><th scope=col>drat</th><th scope=col>wt</th><th scope=col>qsec</th><th scope=col>vs</th><th scope=col>am</th><th scope=col>gear</th><th scope=col>carb</th></tr></thead>\n",
       "<tbody>\n",
       "\t<tr><th scope=row>Mazda RX4</th><td>21.0 </td><td>6    </td><td>160.0</td><td>110  </td><td>3.90 </td><td>2.620</td><td>16.46</td><td>0    </td><td>1    </td><td>4    </td><td>4    </td></tr>\n",
       "\t<tr><th scope=row>Mazda RX4 Wag</th><td>21.0 </td><td>6    </td><td>160.0</td><td>110  </td><td>3.90 </td><td>2.875</td><td>17.02</td><td>0    </td><td>1    </td><td>4    </td><td>4    </td></tr>\n",
       "\t<tr><th scope=row>Datsun 710</th><td>22.8 </td><td>4    </td><td>108.0</td><td> 93  </td><td>3.85 </td><td>2.320</td><td>18.61</td><td>1    </td><td>1    </td><td>4    </td><td>1    </td></tr>\n",
       "\t<tr><th scope=row>Hornet 4 Drive</th><td>21.4 </td><td>6    </td><td>258.0</td><td>110  </td><td>3.08 </td><td>3.215</td><td>19.44</td><td>1    </td><td>0    </td><td>3    </td><td>1    </td></tr>\n",
       "\t<tr><th scope=row>Hornet Sportabout</th><td>18.7 </td><td>8    </td><td>360.0</td><td>175  </td><td>3.15 </td><td>3.440</td><td>17.02</td><td>0    </td><td>0    </td><td>3    </td><td>2    </td></tr>\n",
       "\t<tr><th scope=row>Valiant</th><td>18.1 </td><td>6    </td><td>225.0</td><td>105  </td><td>2.76 </td><td>3.460</td><td>20.22</td><td>1    </td><td>0    </td><td>3    </td><td>1    </td></tr>\n",
       "\t<tr><th scope=row>Duster 360</th><td>14.3 </td><td>8    </td><td>360.0</td><td>245  </td><td>3.21 </td><td>3.570</td><td>15.84</td><td>0    </td><td>0    </td><td>3    </td><td>4    </td></tr>\n",
       "\t<tr><th scope=row>Merc 240D</th><td>24.4 </td><td>4    </td><td>146.7</td><td> 62  </td><td>3.69 </td><td>3.190</td><td>20.00</td><td>1    </td><td>0    </td><td>4    </td><td>2    </td></tr>\n",
       "\t<tr><th scope=row>Merc 230</th><td>22.8 </td><td>4    </td><td>140.8</td><td> 95  </td><td>3.92 </td><td>3.150</td><td>22.90</td><td>1    </td><td>0    </td><td>4    </td><td>2    </td></tr>\n",
       "\t<tr><th scope=row>Merc 280</th><td>19.2 </td><td>6    </td><td>167.6</td><td>123  </td><td>3.92 </td><td>3.440</td><td>18.30</td><td>1    </td><td>0    </td><td>4    </td><td>4    </td></tr>\n",
       "\t<tr><th scope=row>Merc 280C</th><td>17.8 </td><td>6    </td><td>167.6</td><td>123  </td><td>3.92 </td><td>3.440</td><td>18.90</td><td>1    </td><td>0    </td><td>4    </td><td>4    </td></tr>\n",
       "\t<tr><th scope=row>Merc 450SE</th><td>16.4 </td><td>8    </td><td>275.8</td><td>180  </td><td>3.07 </td><td>4.070</td><td>17.40</td><td>0    </td><td>0    </td><td>3    </td><td>3    </td></tr>\n",
       "\t<tr><th scope=row>Merc 450SL</th><td>17.3 </td><td>8    </td><td>275.8</td><td>180  </td><td>3.07 </td><td>3.730</td><td>17.60</td><td>0    </td><td>0    </td><td>3    </td><td>3    </td></tr>\n",
       "\t<tr><th scope=row>Merc 450SLC</th><td>15.2 </td><td>8    </td><td>275.8</td><td>180  </td><td>3.07 </td><td>3.780</td><td>18.00</td><td>0    </td><td>0    </td><td>3    </td><td>3    </td></tr>\n",
       "\t<tr><th scope=row>Cadillac Fleetwood</th><td>10.4 </td><td>8    </td><td>472.0</td><td>205  </td><td>2.93 </td><td>5.250</td><td>17.98</td><td>0    </td><td>0    </td><td>3    </td><td>4    </td></tr>\n",
       "\t<tr><th scope=row>Lincoln Continental</th><td>10.4 </td><td>8    </td><td>460.0</td><td>215  </td><td>3.00 </td><td>5.424</td><td>17.82</td><td>0    </td><td>0    </td><td>3    </td><td>4    </td></tr>\n",
       "\t<tr><th scope=row>Chrysler Imperial</th><td>14.7 </td><td>8    </td><td>440.0</td><td>230  </td><td>3.23 </td><td>5.345</td><td>17.42</td><td>0    </td><td>0    </td><td>3    </td><td>4    </td></tr>\n",
       "\t<tr><th scope=row>Fiat 128</th><td>32.4 </td><td>4    </td><td> 78.7</td><td> 66  </td><td>4.08 </td><td>2.200</td><td>19.47</td><td>1    </td><td>1    </td><td>4    </td><td>1    </td></tr>\n",
       "\t<tr><th scope=row>Honda Civic</th><td>30.4 </td><td>4    </td><td> 75.7</td><td> 52  </td><td>4.93 </td><td>1.615</td><td>18.52</td><td>1    </td><td>1    </td><td>4    </td><td>2    </td></tr>\n",
       "\t<tr><th scope=row>Toyota Corolla</th><td>33.9 </td><td>4    </td><td> 71.1</td><td> 65  </td><td>4.22 </td><td>1.835</td><td>19.90</td><td>1    </td><td>1    </td><td>4    </td><td>1    </td></tr>\n",
       "\t<tr><th scope=row>Toyota Corona</th><td>21.5 </td><td>4    </td><td>120.1</td><td> 97  </td><td>3.70 </td><td>2.465</td><td>20.01</td><td>1    </td><td>0    </td><td>3    </td><td>1    </td></tr>\n",
       "\t<tr><th scope=row>Dodge Challenger</th><td>15.5 </td><td>8    </td><td>318.0</td><td>150  </td><td>2.76 </td><td>3.520</td><td>16.87</td><td>0    </td><td>0    </td><td>3    </td><td>2    </td></tr>\n",
       "\t<tr><th scope=row>AMC Javelin</th><td>15.2 </td><td>8    </td><td>304.0</td><td>150  </td><td>3.15 </td><td>3.435</td><td>17.30</td><td>0    </td><td>0    </td><td>3    </td><td>2    </td></tr>\n",
       "\t<tr><th scope=row>Camaro Z28</th><td>13.3 </td><td>8    </td><td>350.0</td><td>245  </td><td>3.73 </td><td>3.840</td><td>15.41</td><td>0    </td><td>0    </td><td>3    </td><td>4    </td></tr>\n",
       "\t<tr><th scope=row>Pontiac Firebird</th><td>19.2 </td><td>8    </td><td>400.0</td><td>175  </td><td>3.08 </td><td>3.845</td><td>17.05</td><td>0    </td><td>0    </td><td>3    </td><td>2    </td></tr>\n",
       "\t<tr><th scope=row>Fiat X1-9</th><td>27.3 </td><td>4    </td><td> 79.0</td><td> 66  </td><td>4.08 </td><td>1.935</td><td>18.90</td><td>1    </td><td>1    </td><td>4    </td><td>1    </td></tr>\n",
       "\t<tr><th scope=row>Porsche 914-2</th><td>26.0 </td><td>4    </td><td>120.3</td><td> 91  </td><td>4.43 </td><td>2.140</td><td>16.70</td><td>0    </td><td>1    </td><td>5    </td><td>2    </td></tr>\n",
       "\t<tr><th scope=row>Lotus Europa</th><td>30.4 </td><td>4    </td><td> 95.1</td><td>113  </td><td>3.77 </td><td>1.513</td><td>16.90</td><td>1    </td><td>1    </td><td>5    </td><td>2    </td></tr>\n",
       "\t<tr><th scope=row>Ford Pantera L</th><td>15.8 </td><td>8    </td><td>351.0</td><td>264  </td><td>4.22 </td><td>3.170</td><td>14.50</td><td>0    </td><td>1    </td><td>5    </td><td>4    </td></tr>\n",
       "\t<tr><th scope=row>Ferrari Dino</th><td>19.7 </td><td>6    </td><td>145.0</td><td>175  </td><td>3.62 </td><td>2.770</td><td>15.50</td><td>0    </td><td>1    </td><td>5    </td><td>6    </td></tr>\n",
       "\t<tr><th scope=row>Maserati Bora</th><td>15.0 </td><td>8    </td><td>301.0</td><td>335  </td><td>3.54 </td><td>3.570</td><td>14.60</td><td>0    </td><td>1    </td><td>5    </td><td>8    </td></tr>\n",
       "\t<tr><th scope=row>Volvo 142E</th><td>21.4 </td><td>4    </td><td>121.0</td><td>109  </td><td>4.11 </td><td>2.780</td><td>18.60</td><td>1    </td><td>1    </td><td>4    </td><td>2    </td></tr>\n",
       "</tbody>\n",
       "</table>\n"
      ],
      "text/latex": [
       "\\begin{tabular}{r|lllllllllll}\n",
       "  & mpg & cyl & disp & hp & drat & wt & qsec & vs & am & gear & carb\\\\\n",
       "\\hline\n",
       "\tMazda RX4 & 21.0  & 6     & 160.0 & 110   & 3.90  & 2.620 & 16.46 & 0     & 1     & 4     & 4    \\\\\n",
       "\tMazda RX4 Wag & 21.0  & 6     & 160.0 & 110   & 3.90  & 2.875 & 17.02 & 0     & 1     & 4     & 4    \\\\\n",
       "\tDatsun 710 & 22.8  & 4     & 108.0 &  93   & 3.85  & 2.320 & 18.61 & 1     & 1     & 4     & 1    \\\\\n",
       "\tHornet 4 Drive & 21.4  & 6     & 258.0 & 110   & 3.08  & 3.215 & 19.44 & 1     & 0     & 3     & 1    \\\\\n",
       "\tHornet Sportabout & 18.7  & 8     & 360.0 & 175   & 3.15  & 3.440 & 17.02 & 0     & 0     & 3     & 2    \\\\\n",
       "\tValiant & 18.1  & 6     & 225.0 & 105   & 2.76  & 3.460 & 20.22 & 1     & 0     & 3     & 1    \\\\\n",
       "\tDuster 360 & 14.3  & 8     & 360.0 & 245   & 3.21  & 3.570 & 15.84 & 0     & 0     & 3     & 4    \\\\\n",
       "\tMerc 240D & 24.4  & 4     & 146.7 &  62   & 3.69  & 3.190 & 20.00 & 1     & 0     & 4     & 2    \\\\\n",
       "\tMerc 230 & 22.8  & 4     & 140.8 &  95   & 3.92  & 3.150 & 22.90 & 1     & 0     & 4     & 2    \\\\\n",
       "\tMerc 280 & 19.2  & 6     & 167.6 & 123   & 3.92  & 3.440 & 18.30 & 1     & 0     & 4     & 4    \\\\\n",
       "\tMerc 280C & 17.8  & 6     & 167.6 & 123   & 3.92  & 3.440 & 18.90 & 1     & 0     & 4     & 4    \\\\\n",
       "\tMerc 450SE & 16.4  & 8     & 275.8 & 180   & 3.07  & 4.070 & 17.40 & 0     & 0     & 3     & 3    \\\\\n",
       "\tMerc 450SL & 17.3  & 8     & 275.8 & 180   & 3.07  & 3.730 & 17.60 & 0     & 0     & 3     & 3    \\\\\n",
       "\tMerc 450SLC & 15.2  & 8     & 275.8 & 180   & 3.07  & 3.780 & 18.00 & 0     & 0     & 3     & 3    \\\\\n",
       "\tCadillac Fleetwood & 10.4  & 8     & 472.0 & 205   & 2.93  & 5.250 & 17.98 & 0     & 0     & 3     & 4    \\\\\n",
       "\tLincoln Continental & 10.4  & 8     & 460.0 & 215   & 3.00  & 5.424 & 17.82 & 0     & 0     & 3     & 4    \\\\\n",
       "\tChrysler Imperial & 14.7  & 8     & 440.0 & 230   & 3.23  & 5.345 & 17.42 & 0     & 0     & 3     & 4    \\\\\n",
       "\tFiat 128 & 32.4  & 4     &  78.7 &  66   & 4.08  & 2.200 & 19.47 & 1     & 1     & 4     & 1    \\\\\n",
       "\tHonda Civic & 30.4  & 4     &  75.7 &  52   & 4.93  & 1.615 & 18.52 & 1     & 1     & 4     & 2    \\\\\n",
       "\tToyota Corolla & 33.9  & 4     &  71.1 &  65   & 4.22  & 1.835 & 19.90 & 1     & 1     & 4     & 1    \\\\\n",
       "\tToyota Corona & 21.5  & 4     & 120.1 &  97   & 3.70  & 2.465 & 20.01 & 1     & 0     & 3     & 1    \\\\\n",
       "\tDodge Challenger & 15.5  & 8     & 318.0 & 150   & 2.76  & 3.520 & 16.87 & 0     & 0     & 3     & 2    \\\\\n",
       "\tAMC Javelin & 15.2  & 8     & 304.0 & 150   & 3.15  & 3.435 & 17.30 & 0     & 0     & 3     & 2    \\\\\n",
       "\tCamaro Z28 & 13.3  & 8     & 350.0 & 245   & 3.73  & 3.840 & 15.41 & 0     & 0     & 3     & 4    \\\\\n",
       "\tPontiac Firebird & 19.2  & 8     & 400.0 & 175   & 3.08  & 3.845 & 17.05 & 0     & 0     & 3     & 2    \\\\\n",
       "\tFiat X1-9 & 27.3  & 4     &  79.0 &  66   & 4.08  & 1.935 & 18.90 & 1     & 1     & 4     & 1    \\\\\n",
       "\tPorsche 914-2 & 26.0  & 4     & 120.3 &  91   & 4.43  & 2.140 & 16.70 & 0     & 1     & 5     & 2    \\\\\n",
       "\tLotus Europa & 30.4  & 4     &  95.1 & 113   & 3.77  & 1.513 & 16.90 & 1     & 1     & 5     & 2    \\\\\n",
       "\tFord Pantera L & 15.8  & 8     & 351.0 & 264   & 4.22  & 3.170 & 14.50 & 0     & 1     & 5     & 4    \\\\\n",
       "\tFerrari Dino & 19.7  & 6     & 145.0 & 175   & 3.62  & 2.770 & 15.50 & 0     & 1     & 5     & 6    \\\\\n",
       "\tMaserati Bora & 15.0  & 8     & 301.0 & 335   & 3.54  & 3.570 & 14.60 & 0     & 1     & 5     & 8    \\\\\n",
       "\tVolvo 142E & 21.4  & 4     & 121.0 & 109   & 4.11  & 2.780 & 18.60 & 1     & 1     & 4     & 2    \\\\\n",
       "\\end{tabular}\n"
      ],
      "text/markdown": [
       "\n",
       "| <!--/--> | mpg | cyl | disp | hp | drat | wt | qsec | vs | am | gear | carb |\n",
       "|---|---|---|---|---|---|---|---|---|---|---|---|\n",
       "| Mazda RX4 | 21.0  | 6     | 160.0 | 110   | 3.90  | 2.620 | 16.46 | 0     | 1     | 4     | 4     |\n",
       "| Mazda RX4 Wag | 21.0  | 6     | 160.0 | 110   | 3.90  | 2.875 | 17.02 | 0     | 1     | 4     | 4     |\n",
       "| Datsun 710 | 22.8  | 4     | 108.0 |  93   | 3.85  | 2.320 | 18.61 | 1     | 1     | 4     | 1     |\n",
       "| Hornet 4 Drive | 21.4  | 6     | 258.0 | 110   | 3.08  | 3.215 | 19.44 | 1     | 0     | 3     | 1     |\n",
       "| Hornet Sportabout | 18.7  | 8     | 360.0 | 175   | 3.15  | 3.440 | 17.02 | 0     | 0     | 3     | 2     |\n",
       "| Valiant | 18.1  | 6     | 225.0 | 105   | 2.76  | 3.460 | 20.22 | 1     | 0     | 3     | 1     |\n",
       "| Duster 360 | 14.3  | 8     | 360.0 | 245   | 3.21  | 3.570 | 15.84 | 0     | 0     | 3     | 4     |\n",
       "| Merc 240D | 24.4  | 4     | 146.7 |  62   | 3.69  | 3.190 | 20.00 | 1     | 0     | 4     | 2     |\n",
       "| Merc 230 | 22.8  | 4     | 140.8 |  95   | 3.92  | 3.150 | 22.90 | 1     | 0     | 4     | 2     |\n",
       "| Merc 280 | 19.2  | 6     | 167.6 | 123   | 3.92  | 3.440 | 18.30 | 1     | 0     | 4     | 4     |\n",
       "| Merc 280C | 17.8  | 6     | 167.6 | 123   | 3.92  | 3.440 | 18.90 | 1     | 0     | 4     | 4     |\n",
       "| Merc 450SE | 16.4  | 8     | 275.8 | 180   | 3.07  | 4.070 | 17.40 | 0     | 0     | 3     | 3     |\n",
       "| Merc 450SL | 17.3  | 8     | 275.8 | 180   | 3.07  | 3.730 | 17.60 | 0     | 0     | 3     | 3     |\n",
       "| Merc 450SLC | 15.2  | 8     | 275.8 | 180   | 3.07  | 3.780 | 18.00 | 0     | 0     | 3     | 3     |\n",
       "| Cadillac Fleetwood | 10.4  | 8     | 472.0 | 205   | 2.93  | 5.250 | 17.98 | 0     | 0     | 3     | 4     |\n",
       "| Lincoln Continental | 10.4  | 8     | 460.0 | 215   | 3.00  | 5.424 | 17.82 | 0     | 0     | 3     | 4     |\n",
       "| Chrysler Imperial | 14.7  | 8     | 440.0 | 230   | 3.23  | 5.345 | 17.42 | 0     | 0     | 3     | 4     |\n",
       "| Fiat 128 | 32.4  | 4     |  78.7 |  66   | 4.08  | 2.200 | 19.47 | 1     | 1     | 4     | 1     |\n",
       "| Honda Civic | 30.4  | 4     |  75.7 |  52   | 4.93  | 1.615 | 18.52 | 1     | 1     | 4     | 2     |\n",
       "| Toyota Corolla | 33.9  | 4     |  71.1 |  65   | 4.22  | 1.835 | 19.90 | 1     | 1     | 4     | 1     |\n",
       "| Toyota Corona | 21.5  | 4     | 120.1 |  97   | 3.70  | 2.465 | 20.01 | 1     | 0     | 3     | 1     |\n",
       "| Dodge Challenger | 15.5  | 8     | 318.0 | 150   | 2.76  | 3.520 | 16.87 | 0     | 0     | 3     | 2     |\n",
       "| AMC Javelin | 15.2  | 8     | 304.0 | 150   | 3.15  | 3.435 | 17.30 | 0     | 0     | 3     | 2     |\n",
       "| Camaro Z28 | 13.3  | 8     | 350.0 | 245   | 3.73  | 3.840 | 15.41 | 0     | 0     | 3     | 4     |\n",
       "| Pontiac Firebird | 19.2  | 8     | 400.0 | 175   | 3.08  | 3.845 | 17.05 | 0     | 0     | 3     | 2     |\n",
       "| Fiat X1-9 | 27.3  | 4     |  79.0 |  66   | 4.08  | 1.935 | 18.90 | 1     | 1     | 4     | 1     |\n",
       "| Porsche 914-2 | 26.0  | 4     | 120.3 |  91   | 4.43  | 2.140 | 16.70 | 0     | 1     | 5     | 2     |\n",
       "| Lotus Europa | 30.4  | 4     |  95.1 | 113   | 3.77  | 1.513 | 16.90 | 1     | 1     | 5     | 2     |\n",
       "| Ford Pantera L | 15.8  | 8     | 351.0 | 264   | 4.22  | 3.170 | 14.50 | 0     | 1     | 5     | 4     |\n",
       "| Ferrari Dino | 19.7  | 6     | 145.0 | 175   | 3.62  | 2.770 | 15.50 | 0     | 1     | 5     | 6     |\n",
       "| Maserati Bora | 15.0  | 8     | 301.0 | 335   | 3.54  | 3.570 | 14.60 | 0     | 1     | 5     | 8     |\n",
       "| Volvo 142E | 21.4  | 4     | 121.0 | 109   | 4.11  | 2.780 | 18.60 | 1     | 1     | 4     | 2     |\n",
       "\n"
      ],
      "text/plain": [
       "                    mpg  cyl disp  hp  drat wt    qsec  vs am gear carb\n",
       "Mazda RX4           21.0 6   160.0 110 3.90 2.620 16.46 0  1  4    4   \n",
       "Mazda RX4 Wag       21.0 6   160.0 110 3.90 2.875 17.02 0  1  4    4   \n",
       "Datsun 710          22.8 4   108.0  93 3.85 2.320 18.61 1  1  4    1   \n",
       "Hornet 4 Drive      21.4 6   258.0 110 3.08 3.215 19.44 1  0  3    1   \n",
       "Hornet Sportabout   18.7 8   360.0 175 3.15 3.440 17.02 0  0  3    2   \n",
       "Valiant             18.1 6   225.0 105 2.76 3.460 20.22 1  0  3    1   \n",
       "Duster 360          14.3 8   360.0 245 3.21 3.570 15.84 0  0  3    4   \n",
       "Merc 240D           24.4 4   146.7  62 3.69 3.190 20.00 1  0  4    2   \n",
       "Merc 230            22.8 4   140.8  95 3.92 3.150 22.90 1  0  4    2   \n",
       "Merc 280            19.2 6   167.6 123 3.92 3.440 18.30 1  0  4    4   \n",
       "Merc 280C           17.8 6   167.6 123 3.92 3.440 18.90 1  0  4    4   \n",
       "Merc 450SE          16.4 8   275.8 180 3.07 4.070 17.40 0  0  3    3   \n",
       "Merc 450SL          17.3 8   275.8 180 3.07 3.730 17.60 0  0  3    3   \n",
       "Merc 450SLC         15.2 8   275.8 180 3.07 3.780 18.00 0  0  3    3   \n",
       "Cadillac Fleetwood  10.4 8   472.0 205 2.93 5.250 17.98 0  0  3    4   \n",
       "Lincoln Continental 10.4 8   460.0 215 3.00 5.424 17.82 0  0  3    4   \n",
       "Chrysler Imperial   14.7 8   440.0 230 3.23 5.345 17.42 0  0  3    4   \n",
       "Fiat 128            32.4 4    78.7  66 4.08 2.200 19.47 1  1  4    1   \n",
       "Honda Civic         30.4 4    75.7  52 4.93 1.615 18.52 1  1  4    2   \n",
       "Toyota Corolla      33.9 4    71.1  65 4.22 1.835 19.90 1  1  4    1   \n",
       "Toyota Corona       21.5 4   120.1  97 3.70 2.465 20.01 1  0  3    1   \n",
       "Dodge Challenger    15.5 8   318.0 150 2.76 3.520 16.87 0  0  3    2   \n",
       "AMC Javelin         15.2 8   304.0 150 3.15 3.435 17.30 0  0  3    2   \n",
       "Camaro Z28          13.3 8   350.0 245 3.73 3.840 15.41 0  0  3    4   \n",
       "Pontiac Firebird    19.2 8   400.0 175 3.08 3.845 17.05 0  0  3    2   \n",
       "Fiat X1-9           27.3 4    79.0  66 4.08 1.935 18.90 1  1  4    1   \n",
       "Porsche 914-2       26.0 4   120.3  91 4.43 2.140 16.70 0  1  5    2   \n",
       "Lotus Europa        30.4 4    95.1 113 3.77 1.513 16.90 1  1  5    2   \n",
       "Ford Pantera L      15.8 8   351.0 264 4.22 3.170 14.50 0  1  5    4   \n",
       "Ferrari Dino        19.7 6   145.0 175 3.62 2.770 15.50 0  1  5    6   \n",
       "Maserati Bora       15.0 8   301.0 335 3.54 3.570 14.60 0  1  5    8   \n",
       "Volvo 142E          21.4 4   121.0 109 4.11 2.780 18.60 1  1  4    2   "
      ]
     },
     "metadata": {},
     "output_type": "display_data"
    }
   ],
   "source": [
    "# Prüfen, ob die Speicherung funktioniert hat\n",
    "read.table(file=\"clipboard\",sep=\"\\t\", header=TRUE)"
   ]
  },
  {
   "cell_type": "markdown",
   "metadata": {},
   "source": [
    "## Lektion 24.1.1 Daten von CSV-Datei lesen"
   ]
  },
  {
   "cell_type": "code",
   "execution_count": 7,
   "metadata": {
    "scrolled": true
   },
   "outputs": [
    {
     "data": {
      "text/html": [
       "<table>\n",
       "<thead><tr><th scope=col>Date</th><th scope=col>Open</th><th scope=col>High</th><th scope=col>Low</th><th scope=col>Close</th><th scope=col>Adj.Close</th><th scope=col>Volume</th></tr></thead>\n",
       "<tbody>\n",
       "\t<tr><td>2018-12-12</td><td>1068.00   </td><td>1081.65   </td><td>1062.79   </td><td>1063.68   </td><td>1063.68   </td><td>1523800   </td></tr>\n",
       "\t<tr><td>2018-12-13</td><td>1068.07   </td><td>1079.76   </td><td>1053.93   </td><td>1061.90   </td><td>1061.90   </td><td>1329800   </td></tr>\n",
       "\t<tr><td>2018-12-14</td><td>1049.98   </td><td>1062.60   </td><td>1040.79   </td><td>1042.10   </td><td>1042.10   </td><td>1686600   </td></tr>\n",
       "\t<tr><td>2018-12-17</td><td>1037.51   </td><td>1053.15   </td><td>1007.90   </td><td>1016.53   </td><td>1016.53   </td><td>2385400   </td></tr>\n",
       "\t<tr><td>2018-12-18</td><td>1026.09   </td><td>1049.48   </td><td>1021.44   </td><td>1028.71   </td><td>1028.71   </td><td>2192500   </td></tr>\n",
       "\t<tr><td>2018-12-19</td><td>1033.99   </td><td>1062.00   </td><td>1008.05   </td><td>1023.01   </td><td>1023.01   </td><td>2479300   </td></tr>\n",
       "</tbody>\n",
       "</table>\n"
      ],
      "text/latex": [
       "\\begin{tabular}{r|lllllll}\n",
       " Date & Open & High & Low & Close & Adj.Close & Volume\\\\\n",
       "\\hline\n",
       "\t 2018-12-12 & 1068.00    & 1081.65    & 1062.79    & 1063.68    & 1063.68    & 1523800   \\\\\n",
       "\t 2018-12-13 & 1068.07    & 1079.76    & 1053.93    & 1061.90    & 1061.90    & 1329800   \\\\\n",
       "\t 2018-12-14 & 1049.98    & 1062.60    & 1040.79    & 1042.10    & 1042.10    & 1686600   \\\\\n",
       "\t 2018-12-17 & 1037.51    & 1053.15    & 1007.90    & 1016.53    & 1016.53    & 2385400   \\\\\n",
       "\t 2018-12-18 & 1026.09    & 1049.48    & 1021.44    & 1028.71    & 1028.71    & 2192500   \\\\\n",
       "\t 2018-12-19 & 1033.99    & 1062.00    & 1008.05    & 1023.01    & 1023.01    & 2479300   \\\\\n",
       "\\end{tabular}\n"
      ],
      "text/markdown": [
       "\n",
       "| Date | Open | High | Low | Close | Adj.Close | Volume |\n",
       "|---|---|---|---|---|---|---|\n",
       "| 2018-12-12 | 1068.00    | 1081.65    | 1062.79    | 1063.68    | 1063.68    | 1523800    |\n",
       "| 2018-12-13 | 1068.07    | 1079.76    | 1053.93    | 1061.90    | 1061.90    | 1329800    |\n",
       "| 2018-12-14 | 1049.98    | 1062.60    | 1040.79    | 1042.10    | 1042.10    | 1686600    |\n",
       "| 2018-12-17 | 1037.51    | 1053.15    | 1007.90    | 1016.53    | 1016.53    | 2385400    |\n",
       "| 2018-12-18 | 1026.09    | 1049.48    | 1021.44    | 1028.71    | 1028.71    | 2192500    |\n",
       "| 2018-12-19 | 1033.99    | 1062.00    | 1008.05    | 1023.01    | 1023.01    | 2479300    |\n",
       "\n"
      ],
      "text/plain": [
       "  Date       Open    High    Low     Close   Adj.Close Volume \n",
       "1 2018-12-12 1068.00 1081.65 1062.79 1063.68 1063.68   1523800\n",
       "2 2018-12-13 1068.07 1079.76 1053.93 1061.90 1061.90   1329800\n",
       "3 2018-12-14 1049.98 1062.60 1040.79 1042.10 1042.10   1686600\n",
       "4 2018-12-17 1037.51 1053.15 1007.90 1016.53 1016.53   2385400\n",
       "5 2018-12-18 1026.09 1049.48 1021.44 1028.71 1028.71   2192500\n",
       "6 2018-12-19 1033.99 1062.00 1008.05 1023.01 1023.01   2479300"
      ]
     },
     "metadata": {},
     "output_type": "display_data"
    }
   ],
   "source": [
    "# Aus CSV-Datei lesen (aktuelles Verzeichnis)\n",
    "goog <- read.csv('GOOG_EN.csv')\n",
    "head(goog) # erste Datensätze zeigen"
   ]
  },
  {
   "cell_type": "markdown",
   "metadata": {},
   "source": [
    "## Lektion 24.1.2 Daten in CSV-Datei schreiben  "
   ]
  },
  {
   "cell_type": "code",
   "execution_count": 8,
   "metadata": {},
   "outputs": [
    {
     "data": {
      "text/html": [
       "<table>\n",
       "<thead><tr><th scope=col>Date</th><th scope=col>Open</th><th scope=col>High</th><th scope=col>Low</th><th scope=col>Close</th><th scope=col>Adj.Close</th><th scope=col>Volume</th></tr></thead>\n",
       "<tbody>\n",
       "\t<tr><td>2018-12-12</td><td>1068.00   </td><td>1081.65   </td><td>1062.79   </td><td>1063.68   </td><td>1063.68   </td><td>1523800   </td></tr>\n",
       "\t<tr><td>2018-12-13</td><td>1068.07   </td><td>1079.76   </td><td>1053.93   </td><td>1061.90   </td><td>1061.90   </td><td>1329800   </td></tr>\n",
       "\t<tr><td>2018-12-14</td><td>1049.98   </td><td>1062.60   </td><td>1040.79   </td><td>1042.10   </td><td>1042.10   </td><td>1686600   </td></tr>\n",
       "\t<tr><td>2018-12-17</td><td>1037.51   </td><td>1053.15   </td><td>1007.90   </td><td>1016.53   </td><td>1016.53   </td><td>2385400   </td></tr>\n",
       "\t<tr><td>2018-12-18</td><td>1026.09   </td><td>1049.48   </td><td>1021.44   </td><td>1028.71   </td><td>1028.71   </td><td>2192500   </td></tr>\n",
       "\t<tr><td>2018-12-19</td><td>1033.99   </td><td>1062.00   </td><td>1008.05   </td><td>1023.01   </td><td>1023.01   </td><td>2479300   </td></tr>\n",
       "</tbody>\n",
       "</table>\n"
      ],
      "text/latex": [
       "\\begin{tabular}{r|lllllll}\n",
       " Date & Open & High & Low & Close & Adj.Close & Volume\\\\\n",
       "\\hline\n",
       "\t 2018-12-12 & 1068.00    & 1081.65    & 1062.79    & 1063.68    & 1063.68    & 1523800   \\\\\n",
       "\t 2018-12-13 & 1068.07    & 1079.76    & 1053.93    & 1061.90    & 1061.90    & 1329800   \\\\\n",
       "\t 2018-12-14 & 1049.98    & 1062.60    & 1040.79    & 1042.10    & 1042.10    & 1686600   \\\\\n",
       "\t 2018-12-17 & 1037.51    & 1053.15    & 1007.90    & 1016.53    & 1016.53    & 2385400   \\\\\n",
       "\t 2018-12-18 & 1026.09    & 1049.48    & 1021.44    & 1028.71    & 1028.71    & 2192500   \\\\\n",
       "\t 2018-12-19 & 1033.99    & 1062.00    & 1008.05    & 1023.01    & 1023.01    & 2479300   \\\\\n",
       "\\end{tabular}\n"
      ],
      "text/markdown": [
       "\n",
       "| Date | Open | High | Low | Close | Adj.Close | Volume |\n",
       "|---|---|---|---|---|---|---|\n",
       "| 2018-12-12 | 1068.00    | 1081.65    | 1062.79    | 1063.68    | 1063.68    | 1523800    |\n",
       "| 2018-12-13 | 1068.07    | 1079.76    | 1053.93    | 1061.90    | 1061.90    | 1329800    |\n",
       "| 2018-12-14 | 1049.98    | 1062.60    | 1040.79    | 1042.10    | 1042.10    | 1686600    |\n",
       "| 2018-12-17 | 1037.51    | 1053.15    | 1007.90    | 1016.53    | 1016.53    | 2385400    |\n",
       "| 2018-12-18 | 1026.09    | 1049.48    | 1021.44    | 1028.71    | 1028.71    | 2192500    |\n",
       "| 2018-12-19 | 1033.99    | 1062.00    | 1008.05    | 1023.01    | 1023.01    | 2479300    |\n",
       "\n"
      ],
      "text/plain": [
       "  Date       Open    High    Low     Close   Adj.Close Volume \n",
       "1 2018-12-12 1068.00 1081.65 1062.79 1063.68 1063.68   1523800\n",
       "2 2018-12-13 1068.07 1079.76 1053.93 1061.90 1061.90   1329800\n",
       "3 2018-12-14 1049.98 1062.60 1040.79 1042.10 1042.10   1686600\n",
       "4 2018-12-17 1037.51 1053.15 1007.90 1016.53 1016.53   2385400\n",
       "5 2018-12-18 1026.09 1049.48 1021.44 1028.71 1028.71   2192500\n",
       "6 2018-12-19 1033.99 1062.00 1008.05 1023.01 1023.01   2479300"
      ]
     },
     "metadata": {},
     "output_type": "display_data"
    }
   ],
   "source": [
    "# Ausgabe zu CSV\n",
    "write.csv(df, file='demo.csv', row.names = FALSE) \n",
    "\n",
    "# Aus \"frischgechriebener\" CSV-Datei lesen und Daten anzeigen\n",
    "rd <- read.csv('demo.csv')\n",
    "head(rd)"
   ]
  },
  {
   "cell_type": "markdown",
   "metadata": {},
   "source": [
    "## Lektion 24.2.1 Daten von Excel-Datei lesen"
   ]
  },
  {
   "cell_type": "code",
   "execution_count": 10,
   "metadata": {},
   "outputs": [],
   "source": [
    "# Ggf. Excel-Pakete laden (wenn nichts bereits passiert)\n",
    "install.packages(\"readxl\")\n",
    "library(readxl)"
   ]
  },
  {
   "cell_type": "code",
   "execution_count": 11,
   "metadata": {},
   "outputs": [
    {
     "data": {
      "text/html": [
       "<table>\n",
       "<thead><tr><th scope=col>Date</th><th scope=col>Open</th><th scope=col>High</th><th scope=col>Low</th><th scope=col>Close</th><th scope=col>Adj Close</th><th scope=col>Volume</th></tr></thead>\n",
       "<tbody>\n",
       "\t<tr><td>2018-12-12</td><td>369.420013</td><td>371.910004</td><td>365.160004</td><td>366.600006</td><td>366.600006</td><td>5027000   </td></tr>\n",
       "\t<tr><td>2018-12-13</td><td>370.149994</td><td>377.440002</td><td>366.750000</td><td>376.790009</td><td>376.790009</td><td>7365900   </td></tr>\n",
       "\t<tr><td>2018-12-14</td><td>375.000000</td><td>377.869995</td><td>364.329987</td><td>365.709991</td><td>365.709991</td><td>6337600   </td></tr>\n",
       "\t<tr><td>2018-12-17</td><td>362.000000</td><td>365.700012</td><td>343.880005</td><td>348.420013</td><td>348.420013</td><td>7674000   </td></tr>\n",
       "\t<tr><td>2018-12-18</td><td>350.540009</td><td>351.549988</td><td>333.690002</td><td>337.029999</td><td>337.029999</td><td>7100000   </td></tr>\n",
       "\t<tr><td>2018-12-19</td><td>337.600006</td><td>347.010010</td><td>329.739990</td><td>332.970001</td><td>332.970001</td><td>8274200   </td></tr>\n",
       "</tbody>\n",
       "</table>\n"
      ],
      "text/latex": [
       "\\begin{tabular}{r|lllllll}\n",
       " Date & Open & High & Low & Close & Adj Close & Volume\\\\\n",
       "\\hline\n",
       "\t 2018-12-12 & 369.420013 & 371.910004 & 365.160004 & 366.600006 & 366.600006 & 5027000   \\\\\n",
       "\t 2018-12-13 & 370.149994 & 377.440002 & 366.750000 & 376.790009 & 376.790009 & 7365900   \\\\\n",
       "\t 2018-12-14 & 375.000000 & 377.869995 & 364.329987 & 365.709991 & 365.709991 & 6337600   \\\\\n",
       "\t 2018-12-17 & 362.000000 & 365.700012 & 343.880005 & 348.420013 & 348.420013 & 7674000   \\\\\n",
       "\t 2018-12-18 & 350.540009 & 351.549988 & 333.690002 & 337.029999 & 337.029999 & 7100000   \\\\\n",
       "\t 2018-12-19 & 337.600006 & 347.010010 & 329.739990 & 332.970001 & 332.970001 & 8274200   \\\\\n",
       "\\end{tabular}\n"
      ],
      "text/markdown": [
       "\n",
       "| Date | Open | High | Low | Close | Adj Close | Volume |\n",
       "|---|---|---|---|---|---|---|\n",
       "| 2018-12-12 | 369.420013 | 371.910004 | 365.160004 | 366.600006 | 366.600006 | 5027000    |\n",
       "| 2018-12-13 | 370.149994 | 377.440002 | 366.750000 | 376.790009 | 376.790009 | 7365900    |\n",
       "| 2018-12-14 | 375.000000 | 377.869995 | 364.329987 | 365.709991 | 365.709991 | 6337600    |\n",
       "| 2018-12-17 | 362.000000 | 365.700012 | 343.880005 | 348.420013 | 348.420013 | 7674000    |\n",
       "| 2018-12-18 | 350.540009 | 351.549988 | 333.690002 | 337.029999 | 337.029999 | 7100000    |\n",
       "| 2018-12-19 | 337.600006 | 347.010010 | 329.739990 | 332.970001 | 332.970001 | 8274200    |\n",
       "\n"
      ],
      "text/plain": [
       "  Date       Open       High       Low        Close      Adj Close  Volume \n",
       "1 2018-12-12 369.420013 371.910004 365.160004 366.600006 366.600006 5027000\n",
       "2 2018-12-13 370.149994 377.440002 366.750000 376.790009 376.790009 7365900\n",
       "3 2018-12-14 375.000000 377.869995 364.329987 365.709991 365.709991 6337600\n",
       "4 2018-12-17 362.000000 365.700012 343.880005 348.420013 348.420013 7674000\n",
       "5 2018-12-18 350.540009 351.549988 333.690002 337.029999 337.029999 7100000\n",
       "6 2018-12-19 337.600006 347.010010 329.739990 332.970001 332.970001 8274200"
      ]
     },
     "metadata": {},
     "output_type": "display_data"
    },
    {
     "data": {
      "text/plain": [
       "     Date               Open               High               Low           \n",
       " Length:252         Length:252         Length:252         Length:252        \n",
       " Class :character   Class :character   Class :character   Class :character  \n",
       " Mode  :character   Mode  :character   Mode  :character   Mode  :character  \n",
       "    Close            Adj Close            Volume         \n",
       " Length:252         Length:252         Length:252        \n",
       " Class :character   Class :character   Class :character  \n",
       " Mode  :character   Mode  :character   Mode  :character  "
      ]
     },
     "metadata": {},
     "output_type": "display_data"
    }
   ],
   "source": [
    "# Rufe Info der Arbeitsblätter durch read.excel auf\n",
    "tsla <- read_excel('TSLA.xlsx',sheet='TSLA_EN')\n",
    "\n",
    "# geladene Datensätze zeigen (erste 6) \n",
    "head(tsla)\n",
    "summary(tsla)"
   ]
  },
  {
   "cell_type": "markdown",
   "metadata": {},
   "source": [
    "## Lektion 24.2.2 Daten in Excel-Datei schreiben"
   ]
  },
  {
   "cell_type": "code",
   "execution_count": 13,
   "metadata": {},
   "outputs": [],
   "source": [
    "# Ggf. Excel-Pakete laden (wenn nichts bereits passiert)\n",
    "install.packages(\"xlsx\")\n",
    "library(xlsx)"
   ]
  },
  {
   "cell_type": "code",
   "execution_count": 14,
   "metadata": {},
   "outputs": [],
   "source": [
    "# Daten in eine Excell-Datei speichern\n",
    "f <- \"demo_1.xlsx\"\n",
    "s <- \"Data_1\" \n",
    "# Standard-Methode \n",
    "write.xlsx(df, f, sheetName = s, col.names = TRUE, row.names = FALSE, append = FALSE)"
   ]
  },
  {
   "cell_type": "code",
   "execution_count": 15,
   "metadata": {},
   "outputs": [
    {
     "data": {
      "text/html": [
       "<table>\n",
       "<thead><tr><th scope=col>Date</th><th scope=col>Open</th><th scope=col>High</th><th scope=col>Low</th><th scope=col>Close</th><th scope=col>Adj.Close</th><th scope=col>Volume</th></tr></thead>\n",
       "<tbody>\n",
       "\t<tr><td>2018-12-12</td><td>1068.00   </td><td>1081.65   </td><td>1062.79   </td><td>1063.68   </td><td>1063.68   </td><td>1523800   </td></tr>\n",
       "\t<tr><td>2018-12-13</td><td>1068.07   </td><td>1079.76   </td><td>1053.93   </td><td>1061.90   </td><td>1061.90   </td><td>1329800   </td></tr>\n",
       "\t<tr><td>2018-12-14</td><td>1049.98   </td><td>1062.60   </td><td>1040.79   </td><td>1042.10   </td><td>1042.10   </td><td>1686600   </td></tr>\n",
       "\t<tr><td>2018-12-17</td><td>1037.51   </td><td>1053.15   </td><td>1007.90   </td><td>1016.53   </td><td>1016.53   </td><td>2385400   </td></tr>\n",
       "\t<tr><td>2018-12-18</td><td>1026.09   </td><td>1049.48   </td><td>1021.44   </td><td>1028.71   </td><td>1028.71   </td><td>2192500   </td></tr>\n",
       "\t<tr><td>2018-12-19</td><td>1033.99   </td><td>1062.00   </td><td>1008.05   </td><td>1023.01   </td><td>1023.01   </td><td>2479300   </td></tr>\n",
       "</tbody>\n",
       "</table>\n"
      ],
      "text/latex": [
       "\\begin{tabular}{r|lllllll}\n",
       " Date & Open & High & Low & Close & Adj.Close & Volume\\\\\n",
       "\\hline\n",
       "\t 2018-12-12 & 1068.00    & 1081.65    & 1062.79    & 1063.68    & 1063.68    & 1523800   \\\\\n",
       "\t 2018-12-13 & 1068.07    & 1079.76    & 1053.93    & 1061.90    & 1061.90    & 1329800   \\\\\n",
       "\t 2018-12-14 & 1049.98    & 1062.60    & 1040.79    & 1042.10    & 1042.10    & 1686600   \\\\\n",
       "\t 2018-12-17 & 1037.51    & 1053.15    & 1007.90    & 1016.53    & 1016.53    & 2385400   \\\\\n",
       "\t 2018-12-18 & 1026.09    & 1049.48    & 1021.44    & 1028.71    & 1028.71    & 2192500   \\\\\n",
       "\t 2018-12-19 & 1033.99    & 1062.00    & 1008.05    & 1023.01    & 1023.01    & 2479300   \\\\\n",
       "\\end{tabular}\n"
      ],
      "text/markdown": [
       "\n",
       "| Date | Open | High | Low | Close | Adj.Close | Volume |\n",
       "|---|---|---|---|---|---|---|\n",
       "| 2018-12-12 | 1068.00    | 1081.65    | 1062.79    | 1063.68    | 1063.68    | 1523800    |\n",
       "| 2018-12-13 | 1068.07    | 1079.76    | 1053.93    | 1061.90    | 1061.90    | 1329800    |\n",
       "| 2018-12-14 | 1049.98    | 1062.60    | 1040.79    | 1042.10    | 1042.10    | 1686600    |\n",
       "| 2018-12-17 | 1037.51    | 1053.15    | 1007.90    | 1016.53    | 1016.53    | 2385400    |\n",
       "| 2018-12-18 | 1026.09    | 1049.48    | 1021.44    | 1028.71    | 1028.71    | 2192500    |\n",
       "| 2018-12-19 | 1033.99    | 1062.00    | 1008.05    | 1023.01    | 1023.01    | 2479300    |\n",
       "\n"
      ],
      "text/plain": [
       "  Date       Open    High    Low     Close   Adj.Close Volume \n",
       "1 2018-12-12 1068.00 1081.65 1062.79 1063.68 1063.68   1523800\n",
       "2 2018-12-13 1068.07 1079.76 1053.93 1061.90 1061.90   1329800\n",
       "3 2018-12-14 1049.98 1062.60 1040.79 1042.10 1042.10   1686600\n",
       "4 2018-12-17 1037.51 1053.15 1007.90 1016.53 1016.53   2385400\n",
       "5 2018-12-18 1026.09 1049.48 1021.44 1028.71 1028.71   2192500\n",
       "6 2018-12-19 1033.99 1062.00 1008.05 1023.01 1023.01   2479300"
      ]
     },
     "metadata": {},
     "output_type": "display_data"
    }
   ],
   "source": [
    "# Aus \"frischgechriebener\" Excel-Datei lesen und Daten anzeigen\n",
    "d <- read_excel(f, s)\n",
    "head(d)"
   ]
  },
  {
   "cell_type": "code",
   "execution_count": 16,
   "metadata": {},
   "outputs": [],
   "source": [
    "f2 <- \"demo_2.xlsx\"\n",
    "s2 <- \"Data_2\" \n",
    "# Optimierte Methode(schneller bei großen Dateien)\n",
    "write.xlsx2(goog, f2, sheetName = s2, col.names = TRUE, row.names = FALSE, append = FALSE)"
   ]
  },
  {
   "cell_type": "code",
   "execution_count": 17,
   "metadata": {},
   "outputs": [
    {
     "data": {
      "text/html": [
       "<table>\n",
       "<thead><tr><th scope=col>Date</th><th scope=col>Open</th><th scope=col>High</th><th scope=col>Low</th><th scope=col>Close</th><th scope=col>Adj.Close</th><th scope=col>Volume</th></tr></thead>\n",
       "<tbody>\n",
       "\t<tr><td>2018-12-12</td><td>1068.00   </td><td>1081.65   </td><td>1062.79   </td><td>1063.68   </td><td>1063.68   </td><td>1523800   </td></tr>\n",
       "\t<tr><td>2018-12-13</td><td>1068.07   </td><td>1079.76   </td><td>1053.93   </td><td>1061.90   </td><td>1061.90   </td><td>1329800   </td></tr>\n",
       "\t<tr><td>2018-12-14</td><td>1049.98   </td><td>1062.60   </td><td>1040.79   </td><td>1042.10   </td><td>1042.10   </td><td>1686600   </td></tr>\n",
       "\t<tr><td>2018-12-17</td><td>1037.51   </td><td>1053.15   </td><td>1007.90   </td><td>1016.53   </td><td>1016.53   </td><td>2385400   </td></tr>\n",
       "\t<tr><td>2018-12-18</td><td>1026.09   </td><td>1049.48   </td><td>1021.44   </td><td>1028.71   </td><td>1028.71   </td><td>2192500   </td></tr>\n",
       "\t<tr><td>2018-12-19</td><td>1033.99   </td><td>1062.00   </td><td>1008.05   </td><td>1023.01   </td><td>1023.01   </td><td>2479300   </td></tr>\n",
       "</tbody>\n",
       "</table>\n"
      ],
      "text/latex": [
       "\\begin{tabular}{r|lllllll}\n",
       " Date & Open & High & Low & Close & Adj.Close & Volume\\\\\n",
       "\\hline\n",
       "\t 2018-12-12 & 1068.00    & 1081.65    & 1062.79    & 1063.68    & 1063.68    & 1523800   \\\\\n",
       "\t 2018-12-13 & 1068.07    & 1079.76    & 1053.93    & 1061.90    & 1061.90    & 1329800   \\\\\n",
       "\t 2018-12-14 & 1049.98    & 1062.60    & 1040.79    & 1042.10    & 1042.10    & 1686600   \\\\\n",
       "\t 2018-12-17 & 1037.51    & 1053.15    & 1007.90    & 1016.53    & 1016.53    & 2385400   \\\\\n",
       "\t 2018-12-18 & 1026.09    & 1049.48    & 1021.44    & 1028.71    & 1028.71    & 2192500   \\\\\n",
       "\t 2018-12-19 & 1033.99    & 1062.00    & 1008.05    & 1023.01    & 1023.01    & 2479300   \\\\\n",
       "\\end{tabular}\n"
      ],
      "text/markdown": [
       "\n",
       "| Date | Open | High | Low | Close | Adj.Close | Volume |\n",
       "|---|---|---|---|---|---|---|\n",
       "| 2018-12-12 | 1068.00    | 1081.65    | 1062.79    | 1063.68    | 1063.68    | 1523800    |\n",
       "| 2018-12-13 | 1068.07    | 1079.76    | 1053.93    | 1061.90    | 1061.90    | 1329800    |\n",
       "| 2018-12-14 | 1049.98    | 1062.60    | 1040.79    | 1042.10    | 1042.10    | 1686600    |\n",
       "| 2018-12-17 | 1037.51    | 1053.15    | 1007.90    | 1016.53    | 1016.53    | 2385400    |\n",
       "| 2018-12-18 | 1026.09    | 1049.48    | 1021.44    | 1028.71    | 1028.71    | 2192500    |\n",
       "| 2018-12-19 | 1033.99    | 1062.00    | 1008.05    | 1023.01    | 1023.01    | 2479300    |\n",
       "\n"
      ],
      "text/plain": [
       "  Date       Open    High    Low     Close   Adj.Close Volume \n",
       "1 2018-12-12 1068.00 1081.65 1062.79 1063.68 1063.68   1523800\n",
       "2 2018-12-13 1068.07 1079.76 1053.93 1061.90 1061.90   1329800\n",
       "3 2018-12-14 1049.98 1062.60 1040.79 1042.10 1042.10   1686600\n",
       "4 2018-12-17 1037.51 1053.15 1007.90 1016.53 1016.53   2385400\n",
       "5 2018-12-18 1026.09 1049.48 1021.44 1028.71 1028.71   2192500\n",
       "6 2018-12-19 1033.99 1062.00 1008.05 1023.01 1023.01   2479300"
      ]
     },
     "metadata": {},
     "output_type": "display_data"
    }
   ],
   "source": [
    "# Aus \"frischgechriebener\" Excel-Datei lesen und Daten anzeigen\n",
    "g <- read_excel(f2, s2)\n",
    "head(g)"
   ]
  },
  {
   "cell_type": "markdown",
   "metadata": {},
   "source": [
    "## Lektion 24.3. Daten aus/in Datenbank lesen/schreiben\n",
    "\n",
    "### Lektion 24.3.1 Daten aus/in SQL Server Datenbank lesen/schreiben"
   ]
  },
  {
   "cell_type": "code",
   "execution_count": 21,
   "metadata": {},
   "outputs": [],
   "source": [
    "# Ggf ODBC-Pakete installieren (wenn nicht vorhanden)\n",
    "install.packages(\"DBI\")\n",
    "install.packages(\"odbc\")"
   ]
  },
  {
   "cell_type": "code",
   "execution_count": 22,
   "metadata": {},
   "outputs": [],
   "source": [
    "# Datenbank Bibliotheken laden\n",
    "library(DBI)\n",
    "library(odbc)"
   ]
  },
  {
   "cell_type": "code",
   "execution_count": 23,
   "metadata": {},
   "outputs": [],
   "source": [
    "# Verbindung öffnen (Microsoft SQL Server)\n",
    "# Achtung! Ggf. Verbindungsparameter anpassen.\n",
    "con <- dbConnect(odbc::odbc(), \n",
    "                 Driver = \"SQL Server\", \n",
    "                 Server = \"localhost\\\\SQLEXPRESS\", \n",
    "                 Database = \"R_STAT\", \n",
    "                 Trusted_Connection = \"True\")"
   ]
  },
  {
   "cell_type": "code",
   "execution_count": 24,
   "metadata": {},
   "outputs": [],
   "source": [
    "# init\n",
    "cars.table <- \"cars\""
   ]
  },
  {
   "cell_type": "code",
   "execution_count": 25,
   "metadata": {},
   "outputs": [],
   "source": [
    "# cars-Tabelle anlegen bzw. überschreiben (mtcars ist ein in R eingebauter Data Frame)\n",
    "dbWriteTable(con, cars.table, mtcars, overwrite=TRUE)"
   ]
  },
  {
   "cell_type": "code",
   "execution_count": 26,
   "metadata": {},
   "outputs": [
    {
     "data": {
      "text/html": [
       "TRUE"
      ],
      "text/latex": [
       "TRUE"
      ],
      "text/markdown": [
       "TRUE"
      ],
      "text/plain": [
       "[1] TRUE"
      ]
     },
     "metadata": {},
     "output_type": "display_data"
    }
   ],
   "source": [
    "#prüfen, ob tabelle existiert\n",
    "dbExistsTable(con, cars.table)"
   ]
  },
  {
   "cell_type": "code",
   "execution_count": 27,
   "metadata": {},
   "outputs": [
    {
     "data": {
      "text/html": [
       "<ol class=list-inline>\n",
       "\t<li>'cars'</li>\n",
       "\t<li>'trace_xe_action_map'</li>\n",
       "\t<li>'trace_xe_event_map'</li>\n",
       "\t<li>'CHECK_CONSTRAINTS'</li>\n",
       "\t<li>'COLUMN_DOMAIN_USAGE'</li>\n",
       "\t<li>'COLUMN_PRIVILEGES'</li>\n",
       "</ol>\n"
      ],
      "text/latex": [
       "\\begin{enumerate*}\n",
       "\\item 'cars'\n",
       "\\item 'trace\\_xe\\_action\\_map'\n",
       "\\item 'trace\\_xe\\_event\\_map'\n",
       "\\item 'CHECK\\_CONSTRAINTS'\n",
       "\\item 'COLUMN\\_DOMAIN\\_USAGE'\n",
       "\\item 'COLUMN\\_PRIVILEGES'\n",
       "\\end{enumerate*}\n"
      ],
      "text/markdown": [
       "1. 'cars'\n",
       "2. 'trace_xe_action_map'\n",
       "3. 'trace_xe_event_map'\n",
       "4. 'CHECK_CONSTRAINTS'\n",
       "5. 'COLUMN_DOMAIN_USAGE'\n",
       "6. 'COLUMN_PRIVILEGES'\n",
       "\n",
       "\n"
      ],
      "text/plain": [
       "[1] \"cars\"                \"trace_xe_action_map\" \"trace_xe_event_map\" \n",
       "[4] \"CHECK_CONSTRAINTS\"   \"COLUMN_DOMAIN_USAGE\" \"COLUMN_PRIVILEGES\"  "
      ]
     },
     "metadata": {},
     "output_type": "display_data"
    }
   ],
   "source": [
    "# in Schema vorhandene Tabellen auflisten\n",
    "head(dbListTables(con))"
   ]
  },
  {
   "cell_type": "code",
   "execution_count": 28,
   "metadata": {},
   "outputs": [
    {
     "data": {
      "text/html": [
       "<table>\n",
       "<thead><tr><th scope=col>row_names</th><th scope=col>mpg</th><th scope=col>cyl</th><th scope=col>disp</th><th scope=col>hp</th><th scope=col>drat</th><th scope=col>wt</th><th scope=col>qsec</th><th scope=col>vs</th><th scope=col>am</th><th scope=col>gear</th><th scope=col>carb</th></tr></thead>\n",
       "<tbody>\n",
       "\t<tr><td>Mazda RX4        </td><td>21.0             </td><td>6                </td><td>160              </td><td>110              </td><td>3.90             </td><td>2.620            </td><td>16.46            </td><td>0                </td><td>1                </td><td>4                </td><td>4                </td></tr>\n",
       "\t<tr><td>Mazda RX4 Wag    </td><td>21.0             </td><td>6                </td><td>160              </td><td>110              </td><td>3.90             </td><td>2.875            </td><td>17.02            </td><td>0                </td><td>1                </td><td>4                </td><td>4                </td></tr>\n",
       "\t<tr><td>Datsun 710       </td><td>22.8             </td><td>4                </td><td>108              </td><td> 93              </td><td>3.85             </td><td>2.320            </td><td>18.61            </td><td>1                </td><td>1                </td><td>4                </td><td>1                </td></tr>\n",
       "\t<tr><td>Hornet 4 Drive   </td><td>21.4             </td><td>6                </td><td>258              </td><td>110              </td><td>3.08             </td><td>3.215            </td><td>19.44            </td><td>1                </td><td>0                </td><td>3                </td><td>1                </td></tr>\n",
       "\t<tr><td>Hornet Sportabout</td><td>18.7             </td><td>8                </td><td>360              </td><td>175              </td><td>3.15             </td><td>3.440            </td><td>17.02            </td><td>0                </td><td>0                </td><td>3                </td><td>2                </td></tr>\n",
       "\t<tr><td>Valiant          </td><td>18.1             </td><td>6                </td><td>225              </td><td>105              </td><td>2.76             </td><td>3.460            </td><td>20.22            </td><td>1                </td><td>0                </td><td>3                </td><td>1                </td></tr>\n",
       "</tbody>\n",
       "</table>\n"
      ],
      "text/latex": [
       "\\begin{tabular}{r|llllllllllll}\n",
       " row\\_names & mpg & cyl & disp & hp & drat & wt & qsec & vs & am & gear & carb\\\\\n",
       "\\hline\n",
       "\t Mazda RX4         & 21.0              & 6                 & 160               & 110               & 3.90              & 2.620             & 16.46             & 0                 & 1                 & 4                 & 4                \\\\\n",
       "\t Mazda RX4 Wag     & 21.0              & 6                 & 160               & 110               & 3.90              & 2.875             & 17.02             & 0                 & 1                 & 4                 & 4                \\\\\n",
       "\t Datsun 710        & 22.8              & 4                 & 108               &  93               & 3.85              & 2.320             & 18.61             & 1                 & 1                 & 4                 & 1                \\\\\n",
       "\t Hornet 4 Drive    & 21.4              & 6                 & 258               & 110               & 3.08              & 3.215             & 19.44             & 1                 & 0                 & 3                 & 1                \\\\\n",
       "\t Hornet Sportabout & 18.7              & 8                 & 360               & 175               & 3.15              & 3.440             & 17.02             & 0                 & 0                 & 3                 & 2                \\\\\n",
       "\t Valiant           & 18.1              & 6                 & 225               & 105               & 2.76              & 3.460             & 20.22             & 1                 & 0                 & 3                 & 1                \\\\\n",
       "\\end{tabular}\n"
      ],
      "text/markdown": [
       "\n",
       "| row_names | mpg | cyl | disp | hp | drat | wt | qsec | vs | am | gear | carb |\n",
       "|---|---|---|---|---|---|---|---|---|---|---|---|\n",
       "| Mazda RX4         | 21.0              | 6                 | 160               | 110               | 3.90              | 2.620             | 16.46             | 0                 | 1                 | 4                 | 4                 |\n",
       "| Mazda RX4 Wag     | 21.0              | 6                 | 160               | 110               | 3.90              | 2.875             | 17.02             | 0                 | 1                 | 4                 | 4                 |\n",
       "| Datsun 710        | 22.8              | 4                 | 108               |  93               | 3.85              | 2.320             | 18.61             | 1                 | 1                 | 4                 | 1                 |\n",
       "| Hornet 4 Drive    | 21.4              | 6                 | 258               | 110               | 3.08              | 3.215             | 19.44             | 1                 | 0                 | 3                 | 1                 |\n",
       "| Hornet Sportabout | 18.7              | 8                 | 360               | 175               | 3.15              | 3.440             | 17.02             | 0                 | 0                 | 3                 | 2                 |\n",
       "| Valiant           | 18.1              | 6                 | 225               | 105               | 2.76              | 3.460             | 20.22             | 1                 | 0                 | 3                 | 1                 |\n",
       "\n"
      ],
      "text/plain": [
       "  row_names         mpg  cyl disp hp  drat wt    qsec  vs am gear carb\n",
       "1 Mazda RX4         21.0 6   160  110 3.90 2.620 16.46 0  1  4    4   \n",
       "2 Mazda RX4 Wag     21.0 6   160  110 3.90 2.875 17.02 0  1  4    4   \n",
       "3 Datsun 710        22.8 4   108   93 3.85 2.320 18.61 1  1  4    1   \n",
       "4 Hornet 4 Drive    21.4 6   258  110 3.08 3.215 19.44 1  0  3    1   \n",
       "5 Hornet Sportabout 18.7 8   360  175 3.15 3.440 17.02 0  0  3    2   \n",
       "6 Valiant           18.1 6   225  105 2.76 3.460 20.22 1  0  3    1   "
      ]
     },
     "metadata": {},
     "output_type": "display_data"
    }
   ],
   "source": [
    "# cars-Tabelle auslesen\n",
    "cars <- dbReadTable(con, cars.table)\n",
    "# cars Data Frame ausgeben\n",
    "head(cars)"
   ]
  },
  {
   "cell_type": "code",
   "execution_count": 29,
   "metadata": {},
   "outputs": [],
   "source": [
    "# Neue Sätze anhängen\n",
    "dbWriteTable(con, cars.table, cars, append=TRUE)"
   ]
  },
  {
   "cell_type": "code",
   "execution_count": 30,
   "metadata": {},
   "outputs": [
    {
     "data": {
      "text/html": [
       "<table>\n",
       "<thead><tr><th scope=col>row_names</th><th scope=col>mpg</th><th scope=col>cyl</th><th scope=col>disp</th><th scope=col>hp</th><th scope=col>drat</th><th scope=col>wt</th><th scope=col>qsec</th><th scope=col>vs</th><th scope=col>am</th><th scope=col>gear</th><th scope=col>carb</th></tr></thead>\n",
       "<tbody>\n",
       "\t<tr><td>Mazda RX4          </td><td>21.0               </td><td>6                  </td><td>160.0              </td><td>110                </td><td>3.90               </td><td>2.620              </td><td>16.46              </td><td>0                  </td><td>1                  </td><td>4                  </td><td>4                  </td></tr>\n",
       "\t<tr><td>Mazda RX4 Wag      </td><td>21.0               </td><td>6                  </td><td>160.0              </td><td>110                </td><td>3.90               </td><td>2.875              </td><td>17.02              </td><td>0                  </td><td>1                  </td><td>4                  </td><td>4                  </td></tr>\n",
       "\t<tr><td>Datsun 710         </td><td>22.8               </td><td>4                  </td><td>108.0              </td><td> 93                </td><td>3.85               </td><td>2.320              </td><td>18.61              </td><td>1                  </td><td>1                  </td><td>4                  </td><td>1                  </td></tr>\n",
       "\t<tr><td>Hornet 4 Drive     </td><td>21.4               </td><td>6                  </td><td>258.0              </td><td>110                </td><td>3.08               </td><td>3.215              </td><td>19.44              </td><td>1                  </td><td>0                  </td><td>3                  </td><td>1                  </td></tr>\n",
       "\t<tr><td>Hornet Sportabout  </td><td>18.7               </td><td>8                  </td><td>360.0              </td><td>175                </td><td>3.15               </td><td>3.440              </td><td>17.02              </td><td>0                  </td><td>0                  </td><td>3                  </td><td>2                  </td></tr>\n",
       "\t<tr><td>Valiant            </td><td>18.1               </td><td>6                  </td><td>225.0              </td><td>105                </td><td>2.76               </td><td>3.460              </td><td>20.22              </td><td>1                  </td><td>0                  </td><td>3                  </td><td>1                  </td></tr>\n",
       "\t<tr><td>Duster 360         </td><td>14.3               </td><td>8                  </td><td>360.0              </td><td>245                </td><td>3.21               </td><td>3.570              </td><td>15.84              </td><td>0                  </td><td>0                  </td><td>3                  </td><td>4                  </td></tr>\n",
       "\t<tr><td>Merc 240D          </td><td>24.4               </td><td>4                  </td><td>146.7              </td><td> 62                </td><td>3.69               </td><td>3.190              </td><td>20.00              </td><td>1                  </td><td>0                  </td><td>4                  </td><td>2                  </td></tr>\n",
       "\t<tr><td>Merc 230           </td><td>22.8               </td><td>4                  </td><td>140.8              </td><td> 95                </td><td>3.92               </td><td>3.150              </td><td>22.90              </td><td>1                  </td><td>0                  </td><td>4                  </td><td>2                  </td></tr>\n",
       "\t<tr><td>Merc 280           </td><td>19.2               </td><td>6                  </td><td>167.6              </td><td>123                </td><td>3.92               </td><td>3.440              </td><td>18.30              </td><td>1                  </td><td>0                  </td><td>4                  </td><td>4                  </td></tr>\n",
       "\t<tr><td>Merc 280C          </td><td>17.8               </td><td>6                  </td><td>167.6              </td><td>123                </td><td>3.92               </td><td>3.440              </td><td>18.90              </td><td>1                  </td><td>0                  </td><td>4                  </td><td>4                  </td></tr>\n",
       "\t<tr><td>Merc 450SE         </td><td>16.4               </td><td>8                  </td><td>275.8              </td><td>180                </td><td>3.07               </td><td>4.070              </td><td>17.40              </td><td>0                  </td><td>0                  </td><td>3                  </td><td>3                  </td></tr>\n",
       "\t<tr><td>Merc 450SL         </td><td>17.3               </td><td>8                  </td><td>275.8              </td><td>180                </td><td>3.07               </td><td>3.730              </td><td>17.60              </td><td>0                  </td><td>0                  </td><td>3                  </td><td>3                  </td></tr>\n",
       "\t<tr><td>Merc 450SLC        </td><td>15.2               </td><td>8                  </td><td>275.8              </td><td>180                </td><td>3.07               </td><td>3.780              </td><td>18.00              </td><td>0                  </td><td>0                  </td><td>3                  </td><td>3                  </td></tr>\n",
       "\t<tr><td>Cadillac Fleetwood </td><td>10.4               </td><td>8                  </td><td>472.0              </td><td>205                </td><td>2.93               </td><td>5.250              </td><td>17.98              </td><td>0                  </td><td>0                  </td><td>3                  </td><td>4                  </td></tr>\n",
       "\t<tr><td>Lincoln Continental</td><td>10.4               </td><td>8                  </td><td>460.0              </td><td>215                </td><td>3.00               </td><td>5.424              </td><td>17.82              </td><td>0                  </td><td>0                  </td><td>3                  </td><td>4                  </td></tr>\n",
       "\t<tr><td>Chrysler Imperial  </td><td>14.7               </td><td>8                  </td><td>440.0              </td><td>230                </td><td>3.23               </td><td>5.345              </td><td>17.42              </td><td>0                  </td><td>0                  </td><td>3                  </td><td>4                  </td></tr>\n",
       "\t<tr><td>Fiat 128           </td><td>32.4               </td><td>4                  </td><td> 78.7              </td><td> 66                </td><td>4.08               </td><td>2.200              </td><td>19.47              </td><td>1                  </td><td>1                  </td><td>4                  </td><td>1                  </td></tr>\n",
       "\t<tr><td>Honda Civic        </td><td>30.4               </td><td>4                  </td><td> 75.7              </td><td> 52                </td><td>4.93               </td><td>1.615              </td><td>18.52              </td><td>1                  </td><td>1                  </td><td>4                  </td><td>2                  </td></tr>\n",
       "\t<tr><td>Toyota Corolla     </td><td>33.9               </td><td>4                  </td><td> 71.1              </td><td> 65                </td><td>4.22               </td><td>1.835              </td><td>19.90              </td><td>1                  </td><td>1                  </td><td>4                  </td><td>1                  </td></tr>\n",
       "\t<tr><td>Toyota Corona      </td><td>21.5               </td><td>4                  </td><td>120.1              </td><td> 97                </td><td>3.70               </td><td>2.465              </td><td>20.01              </td><td>1                  </td><td>0                  </td><td>3                  </td><td>1                  </td></tr>\n",
       "\t<tr><td>Dodge Challenger   </td><td>15.5               </td><td>8                  </td><td>318.0              </td><td>150                </td><td>2.76               </td><td>3.520              </td><td>16.87              </td><td>0                  </td><td>0                  </td><td>3                  </td><td>2                  </td></tr>\n",
       "\t<tr><td>AMC Javelin        </td><td>15.2               </td><td>8                  </td><td>304.0              </td><td>150                </td><td>3.15               </td><td>3.435              </td><td>17.30              </td><td>0                  </td><td>0                  </td><td>3                  </td><td>2                  </td></tr>\n",
       "\t<tr><td>Camaro Z28         </td><td>13.3               </td><td>8                  </td><td>350.0              </td><td>245                </td><td>3.73               </td><td>3.840              </td><td>15.41              </td><td>0                  </td><td>0                  </td><td>3                  </td><td>4                  </td></tr>\n",
       "\t<tr><td>Pontiac Firebird   </td><td>19.2               </td><td>8                  </td><td>400.0              </td><td>175                </td><td>3.08               </td><td>3.845              </td><td>17.05              </td><td>0                  </td><td>0                  </td><td>3                  </td><td>2                  </td></tr>\n",
       "\t<tr><td>Fiat X1-9          </td><td>27.3               </td><td>4                  </td><td> 79.0              </td><td> 66                </td><td>4.08               </td><td>1.935              </td><td>18.90              </td><td>1                  </td><td>1                  </td><td>4                  </td><td>1                  </td></tr>\n",
       "\t<tr><td>Porsche 914-2      </td><td>26.0               </td><td>4                  </td><td>120.3              </td><td> 91                </td><td>4.43               </td><td>2.140              </td><td>16.70              </td><td>0                  </td><td>1                  </td><td>5                  </td><td>2                  </td></tr>\n",
       "\t<tr><td>Lotus Europa       </td><td>30.4               </td><td>4                  </td><td> 95.1              </td><td>113                </td><td>3.77               </td><td>1.513              </td><td>16.90              </td><td>1                  </td><td>1                  </td><td>5                  </td><td>2                  </td></tr>\n",
       "\t<tr><td>Ford Pantera L     </td><td>15.8               </td><td>8                  </td><td>351.0              </td><td>264                </td><td>4.22               </td><td>3.170              </td><td>14.50              </td><td>0                  </td><td>1                  </td><td>5                  </td><td>4                  </td></tr>\n",
       "\t<tr><td>Ferrari Dino       </td><td>19.7               </td><td>6                  </td><td>145.0              </td><td>175                </td><td>3.62               </td><td>2.770              </td><td>15.50              </td><td>0                  </td><td>1                  </td><td>5                  </td><td>6                  </td></tr>\n",
       "\t<tr><td>...</td><td>...</td><td>...</td><td>...</td><td>...</td><td>...</td><td>...</td><td>...</td><td>...</td><td>...</td><td>...</td><td>...</td></tr>\n",
       "\t<tr><td>Datsun 710         </td><td>22.8               </td><td>4                  </td><td>108.0              </td><td> 93                </td><td>3.85               </td><td>2.320              </td><td>18.61              </td><td>1                  </td><td>1                  </td><td>4                  </td><td>1                  </td></tr>\n",
       "\t<tr><td>Hornet 4 Drive     </td><td>21.4               </td><td>6                  </td><td>258.0              </td><td>110                </td><td>3.08               </td><td>3.215              </td><td>19.44              </td><td>1                  </td><td>0                  </td><td>3                  </td><td>1                  </td></tr>\n",
       "\t<tr><td>Hornet Sportabout  </td><td>18.7               </td><td>8                  </td><td>360.0              </td><td>175                </td><td>3.15               </td><td>3.440              </td><td>17.02              </td><td>0                  </td><td>0                  </td><td>3                  </td><td>2                  </td></tr>\n",
       "\t<tr><td>Valiant            </td><td>18.1               </td><td>6                  </td><td>225.0              </td><td>105                </td><td>2.76               </td><td>3.460              </td><td>20.22              </td><td>1                  </td><td>0                  </td><td>3                  </td><td>1                  </td></tr>\n",
       "\t<tr><td>Duster 360         </td><td>14.3               </td><td>8                  </td><td>360.0              </td><td>245                </td><td>3.21               </td><td>3.570              </td><td>15.84              </td><td>0                  </td><td>0                  </td><td>3                  </td><td>4                  </td></tr>\n",
       "\t<tr><td>Merc 240D          </td><td>24.4               </td><td>4                  </td><td>146.7              </td><td> 62                </td><td>3.69               </td><td>3.190              </td><td>20.00              </td><td>1                  </td><td>0                  </td><td>4                  </td><td>2                  </td></tr>\n",
       "\t<tr><td>Merc 230           </td><td>22.8               </td><td>4                  </td><td>140.8              </td><td> 95                </td><td>3.92               </td><td>3.150              </td><td>22.90              </td><td>1                  </td><td>0                  </td><td>4                  </td><td>2                  </td></tr>\n",
       "\t<tr><td>Merc 280           </td><td>19.2               </td><td>6                  </td><td>167.6              </td><td>123                </td><td>3.92               </td><td>3.440              </td><td>18.30              </td><td>1                  </td><td>0                  </td><td>4                  </td><td>4                  </td></tr>\n",
       "\t<tr><td>Merc 280C          </td><td>17.8               </td><td>6                  </td><td>167.6              </td><td>123                </td><td>3.92               </td><td>3.440              </td><td>18.90              </td><td>1                  </td><td>0                  </td><td>4                  </td><td>4                  </td></tr>\n",
       "\t<tr><td>Merc 450SE         </td><td>16.4               </td><td>8                  </td><td>275.8              </td><td>180                </td><td>3.07               </td><td>4.070              </td><td>17.40              </td><td>0                  </td><td>0                  </td><td>3                  </td><td>3                  </td></tr>\n",
       "\t<tr><td>Merc 450SL         </td><td>17.3               </td><td>8                  </td><td>275.8              </td><td>180                </td><td>3.07               </td><td>3.730              </td><td>17.60              </td><td>0                  </td><td>0                  </td><td>3                  </td><td>3                  </td></tr>\n",
       "\t<tr><td>Merc 450SLC        </td><td>15.2               </td><td>8                  </td><td>275.8              </td><td>180                </td><td>3.07               </td><td>3.780              </td><td>18.00              </td><td>0                  </td><td>0                  </td><td>3                  </td><td>3                  </td></tr>\n",
       "\t<tr><td>Cadillac Fleetwood </td><td>10.4               </td><td>8                  </td><td>472.0              </td><td>205                </td><td>2.93               </td><td>5.250              </td><td>17.98              </td><td>0                  </td><td>0                  </td><td>3                  </td><td>4                  </td></tr>\n",
       "\t<tr><td>Lincoln Continental</td><td>10.4               </td><td>8                  </td><td>460.0              </td><td>215                </td><td>3.00               </td><td>5.424              </td><td>17.82              </td><td>0                  </td><td>0                  </td><td>3                  </td><td>4                  </td></tr>\n",
       "\t<tr><td>Chrysler Imperial  </td><td>14.7               </td><td>8                  </td><td>440.0              </td><td>230                </td><td>3.23               </td><td>5.345              </td><td>17.42              </td><td>0                  </td><td>0                  </td><td>3                  </td><td>4                  </td></tr>\n",
       "\t<tr><td>Fiat 128           </td><td>32.4               </td><td>4                  </td><td> 78.7              </td><td> 66                </td><td>4.08               </td><td>2.200              </td><td>19.47              </td><td>1                  </td><td>1                  </td><td>4                  </td><td>1                  </td></tr>\n",
       "\t<tr><td>Honda Civic        </td><td>30.4               </td><td>4                  </td><td> 75.7              </td><td> 52                </td><td>4.93               </td><td>1.615              </td><td>18.52              </td><td>1                  </td><td>1                  </td><td>4                  </td><td>2                  </td></tr>\n",
       "\t<tr><td>Toyota Corolla     </td><td>33.9               </td><td>4                  </td><td> 71.1              </td><td> 65                </td><td>4.22               </td><td>1.835              </td><td>19.90              </td><td>1                  </td><td>1                  </td><td>4                  </td><td>1                  </td></tr>\n",
       "\t<tr><td>Toyota Corona      </td><td>21.5               </td><td>4                  </td><td>120.1              </td><td> 97                </td><td>3.70               </td><td>2.465              </td><td>20.01              </td><td>1                  </td><td>0                  </td><td>3                  </td><td>1                  </td></tr>\n",
       "\t<tr><td>Dodge Challenger   </td><td>15.5               </td><td>8                  </td><td>318.0              </td><td>150                </td><td>2.76               </td><td>3.520              </td><td>16.87              </td><td>0                  </td><td>0                  </td><td>3                  </td><td>2                  </td></tr>\n",
       "\t<tr><td>AMC Javelin        </td><td>15.2               </td><td>8                  </td><td>304.0              </td><td>150                </td><td>3.15               </td><td>3.435              </td><td>17.30              </td><td>0                  </td><td>0                  </td><td>3                  </td><td>2                  </td></tr>\n",
       "\t<tr><td>Camaro Z28         </td><td>13.3               </td><td>8                  </td><td>350.0              </td><td>245                </td><td>3.73               </td><td>3.840              </td><td>15.41              </td><td>0                  </td><td>0                  </td><td>3                  </td><td>4                  </td></tr>\n",
       "\t<tr><td>Pontiac Firebird   </td><td>19.2               </td><td>8                  </td><td>400.0              </td><td>175                </td><td>3.08               </td><td>3.845              </td><td>17.05              </td><td>0                  </td><td>0                  </td><td>3                  </td><td>2                  </td></tr>\n",
       "\t<tr><td>Fiat X1-9          </td><td>27.3               </td><td>4                  </td><td> 79.0              </td><td> 66                </td><td>4.08               </td><td>1.935              </td><td>18.90              </td><td>1                  </td><td>1                  </td><td>4                  </td><td>1                  </td></tr>\n",
       "\t<tr><td>Porsche 914-2      </td><td>26.0               </td><td>4                  </td><td>120.3              </td><td> 91                </td><td>4.43               </td><td>2.140              </td><td>16.70              </td><td>0                  </td><td>1                  </td><td>5                  </td><td>2                  </td></tr>\n",
       "\t<tr><td>Lotus Europa       </td><td>30.4               </td><td>4                  </td><td> 95.1              </td><td>113                </td><td>3.77               </td><td>1.513              </td><td>16.90              </td><td>1                  </td><td>1                  </td><td>5                  </td><td>2                  </td></tr>\n",
       "\t<tr><td>Ford Pantera L     </td><td>15.8               </td><td>8                  </td><td>351.0              </td><td>264                </td><td>4.22               </td><td>3.170              </td><td>14.50              </td><td>0                  </td><td>1                  </td><td>5                  </td><td>4                  </td></tr>\n",
       "\t<tr><td>Ferrari Dino       </td><td>19.7               </td><td>6                  </td><td>145.0              </td><td>175                </td><td>3.62               </td><td>2.770              </td><td>15.50              </td><td>0                  </td><td>1                  </td><td>5                  </td><td>6                  </td></tr>\n",
       "\t<tr><td>Maserati Bora      </td><td>15.0               </td><td>8                  </td><td>301.0              </td><td>335                </td><td>3.54               </td><td>3.570              </td><td>14.60              </td><td>0                  </td><td>1                  </td><td>5                  </td><td>8                  </td></tr>\n",
       "\t<tr><td>Volvo 142E         </td><td>21.4               </td><td>4                  </td><td>121.0              </td><td>109                </td><td>4.11               </td><td>2.780              </td><td>18.60              </td><td>1                  </td><td>1                  </td><td>4                  </td><td>2                  </td></tr>\n",
       "</tbody>\n",
       "</table>\n"
      ],
      "text/latex": [
       "\\begin{tabular}{r|llllllllllll}\n",
       " row\\_names & mpg & cyl & disp & hp & drat & wt & qsec & vs & am & gear & carb\\\\\n",
       "\\hline\n",
       "\t Mazda RX4           & 21.0                & 6                   & 160.0               & 110                 & 3.90                & 2.620               & 16.46               & 0                   & 1                   & 4                   & 4                  \\\\\n",
       "\t Mazda RX4 Wag       & 21.0                & 6                   & 160.0               & 110                 & 3.90                & 2.875               & 17.02               & 0                   & 1                   & 4                   & 4                  \\\\\n",
       "\t Datsun 710          & 22.8                & 4                   & 108.0               &  93                 & 3.85                & 2.320               & 18.61               & 1                   & 1                   & 4                   & 1                  \\\\\n",
       "\t Hornet 4 Drive      & 21.4                & 6                   & 258.0               & 110                 & 3.08                & 3.215               & 19.44               & 1                   & 0                   & 3                   & 1                  \\\\\n",
       "\t Hornet Sportabout   & 18.7                & 8                   & 360.0               & 175                 & 3.15                & 3.440               & 17.02               & 0                   & 0                   & 3                   & 2                  \\\\\n",
       "\t Valiant             & 18.1                & 6                   & 225.0               & 105                 & 2.76                & 3.460               & 20.22               & 1                   & 0                   & 3                   & 1                  \\\\\n",
       "\t Duster 360          & 14.3                & 8                   & 360.0               & 245                 & 3.21                & 3.570               & 15.84               & 0                   & 0                   & 3                   & 4                  \\\\\n",
       "\t Merc 240D           & 24.4                & 4                   & 146.7               &  62                 & 3.69                & 3.190               & 20.00               & 1                   & 0                   & 4                   & 2                  \\\\\n",
       "\t Merc 230            & 22.8                & 4                   & 140.8               &  95                 & 3.92                & 3.150               & 22.90               & 1                   & 0                   & 4                   & 2                  \\\\\n",
       "\t Merc 280            & 19.2                & 6                   & 167.6               & 123                 & 3.92                & 3.440               & 18.30               & 1                   & 0                   & 4                   & 4                  \\\\\n",
       "\t Merc 280C           & 17.8                & 6                   & 167.6               & 123                 & 3.92                & 3.440               & 18.90               & 1                   & 0                   & 4                   & 4                  \\\\\n",
       "\t Merc 450SE          & 16.4                & 8                   & 275.8               & 180                 & 3.07                & 4.070               & 17.40               & 0                   & 0                   & 3                   & 3                  \\\\\n",
       "\t Merc 450SL          & 17.3                & 8                   & 275.8               & 180                 & 3.07                & 3.730               & 17.60               & 0                   & 0                   & 3                   & 3                  \\\\\n",
       "\t Merc 450SLC         & 15.2                & 8                   & 275.8               & 180                 & 3.07                & 3.780               & 18.00               & 0                   & 0                   & 3                   & 3                  \\\\\n",
       "\t Cadillac Fleetwood  & 10.4                & 8                   & 472.0               & 205                 & 2.93                & 5.250               & 17.98               & 0                   & 0                   & 3                   & 4                  \\\\\n",
       "\t Lincoln Continental & 10.4                & 8                   & 460.0               & 215                 & 3.00                & 5.424               & 17.82               & 0                   & 0                   & 3                   & 4                  \\\\\n",
       "\t Chrysler Imperial   & 14.7                & 8                   & 440.0               & 230                 & 3.23                & 5.345               & 17.42               & 0                   & 0                   & 3                   & 4                  \\\\\n",
       "\t Fiat 128            & 32.4                & 4                   &  78.7               &  66                 & 4.08                & 2.200               & 19.47               & 1                   & 1                   & 4                   & 1                  \\\\\n",
       "\t Honda Civic         & 30.4                & 4                   &  75.7               &  52                 & 4.93                & 1.615               & 18.52               & 1                   & 1                   & 4                   & 2                  \\\\\n",
       "\t Toyota Corolla      & 33.9                & 4                   &  71.1               &  65                 & 4.22                & 1.835               & 19.90               & 1                   & 1                   & 4                   & 1                  \\\\\n",
       "\t Toyota Corona       & 21.5                & 4                   & 120.1               &  97                 & 3.70                & 2.465               & 20.01               & 1                   & 0                   & 3                   & 1                  \\\\\n",
       "\t Dodge Challenger    & 15.5                & 8                   & 318.0               & 150                 & 2.76                & 3.520               & 16.87               & 0                   & 0                   & 3                   & 2                  \\\\\n",
       "\t AMC Javelin         & 15.2                & 8                   & 304.0               & 150                 & 3.15                & 3.435               & 17.30               & 0                   & 0                   & 3                   & 2                  \\\\\n",
       "\t Camaro Z28          & 13.3                & 8                   & 350.0               & 245                 & 3.73                & 3.840               & 15.41               & 0                   & 0                   & 3                   & 4                  \\\\\n",
       "\t Pontiac Firebird    & 19.2                & 8                   & 400.0               & 175                 & 3.08                & 3.845               & 17.05               & 0                   & 0                   & 3                   & 2                  \\\\\n",
       "\t Fiat X1-9           & 27.3                & 4                   &  79.0               &  66                 & 4.08                & 1.935               & 18.90               & 1                   & 1                   & 4                   & 1                  \\\\\n",
       "\t Porsche 914-2       & 26.0                & 4                   & 120.3               &  91                 & 4.43                & 2.140               & 16.70               & 0                   & 1                   & 5                   & 2                  \\\\\n",
       "\t Lotus Europa        & 30.4                & 4                   &  95.1               & 113                 & 3.77                & 1.513               & 16.90               & 1                   & 1                   & 5                   & 2                  \\\\\n",
       "\t Ford Pantera L      & 15.8                & 8                   & 351.0               & 264                 & 4.22                & 3.170               & 14.50               & 0                   & 1                   & 5                   & 4                  \\\\\n",
       "\t Ferrari Dino        & 19.7                & 6                   & 145.0               & 175                 & 3.62                & 2.770               & 15.50               & 0                   & 1                   & 5                   & 6                  \\\\\n",
       "\t ... & ... & ... & ... & ... & ... & ... & ... & ... & ... & ... & ...\\\\\n",
       "\t Datsun 710          & 22.8                & 4                   & 108.0               &  93                 & 3.85                & 2.320               & 18.61               & 1                   & 1                   & 4                   & 1                  \\\\\n",
       "\t Hornet 4 Drive      & 21.4                & 6                   & 258.0               & 110                 & 3.08                & 3.215               & 19.44               & 1                   & 0                   & 3                   & 1                  \\\\\n",
       "\t Hornet Sportabout   & 18.7                & 8                   & 360.0               & 175                 & 3.15                & 3.440               & 17.02               & 0                   & 0                   & 3                   & 2                  \\\\\n",
       "\t Valiant             & 18.1                & 6                   & 225.0               & 105                 & 2.76                & 3.460               & 20.22               & 1                   & 0                   & 3                   & 1                  \\\\\n",
       "\t Duster 360          & 14.3                & 8                   & 360.0               & 245                 & 3.21                & 3.570               & 15.84               & 0                   & 0                   & 3                   & 4                  \\\\\n",
       "\t Merc 240D           & 24.4                & 4                   & 146.7               &  62                 & 3.69                & 3.190               & 20.00               & 1                   & 0                   & 4                   & 2                  \\\\\n",
       "\t Merc 230            & 22.8                & 4                   & 140.8               &  95                 & 3.92                & 3.150               & 22.90               & 1                   & 0                   & 4                   & 2                  \\\\\n",
       "\t Merc 280            & 19.2                & 6                   & 167.6               & 123                 & 3.92                & 3.440               & 18.30               & 1                   & 0                   & 4                   & 4                  \\\\\n",
       "\t Merc 280C           & 17.8                & 6                   & 167.6               & 123                 & 3.92                & 3.440               & 18.90               & 1                   & 0                   & 4                   & 4                  \\\\\n",
       "\t Merc 450SE          & 16.4                & 8                   & 275.8               & 180                 & 3.07                & 4.070               & 17.40               & 0                   & 0                   & 3                   & 3                  \\\\\n",
       "\t Merc 450SL          & 17.3                & 8                   & 275.8               & 180                 & 3.07                & 3.730               & 17.60               & 0                   & 0                   & 3                   & 3                  \\\\\n",
       "\t Merc 450SLC         & 15.2                & 8                   & 275.8               & 180                 & 3.07                & 3.780               & 18.00               & 0                   & 0                   & 3                   & 3                  \\\\\n",
       "\t Cadillac Fleetwood  & 10.4                & 8                   & 472.0               & 205                 & 2.93                & 5.250               & 17.98               & 0                   & 0                   & 3                   & 4                  \\\\\n",
       "\t Lincoln Continental & 10.4                & 8                   & 460.0               & 215                 & 3.00                & 5.424               & 17.82               & 0                   & 0                   & 3                   & 4                  \\\\\n",
       "\t Chrysler Imperial   & 14.7                & 8                   & 440.0               & 230                 & 3.23                & 5.345               & 17.42               & 0                   & 0                   & 3                   & 4                  \\\\\n",
       "\t Fiat 128            & 32.4                & 4                   &  78.7               &  66                 & 4.08                & 2.200               & 19.47               & 1                   & 1                   & 4                   & 1                  \\\\\n",
       "\t Honda Civic         & 30.4                & 4                   &  75.7               &  52                 & 4.93                & 1.615               & 18.52               & 1                   & 1                   & 4                   & 2                  \\\\\n",
       "\t Toyota Corolla      & 33.9                & 4                   &  71.1               &  65                 & 4.22                & 1.835               & 19.90               & 1                   & 1                   & 4                   & 1                  \\\\\n",
       "\t Toyota Corona       & 21.5                & 4                   & 120.1               &  97                 & 3.70                & 2.465               & 20.01               & 1                   & 0                   & 3                   & 1                  \\\\\n",
       "\t Dodge Challenger    & 15.5                & 8                   & 318.0               & 150                 & 2.76                & 3.520               & 16.87               & 0                   & 0                   & 3                   & 2                  \\\\\n",
       "\t AMC Javelin         & 15.2                & 8                   & 304.0               & 150                 & 3.15                & 3.435               & 17.30               & 0                   & 0                   & 3                   & 2                  \\\\\n",
       "\t Camaro Z28          & 13.3                & 8                   & 350.0               & 245                 & 3.73                & 3.840               & 15.41               & 0                   & 0                   & 3                   & 4                  \\\\\n",
       "\t Pontiac Firebird    & 19.2                & 8                   & 400.0               & 175                 & 3.08                & 3.845               & 17.05               & 0                   & 0                   & 3                   & 2                  \\\\\n",
       "\t Fiat X1-9           & 27.3                & 4                   &  79.0               &  66                 & 4.08                & 1.935               & 18.90               & 1                   & 1                   & 4                   & 1                  \\\\\n",
       "\t Porsche 914-2       & 26.0                & 4                   & 120.3               &  91                 & 4.43                & 2.140               & 16.70               & 0                   & 1                   & 5                   & 2                  \\\\\n",
       "\t Lotus Europa        & 30.4                & 4                   &  95.1               & 113                 & 3.77                & 1.513               & 16.90               & 1                   & 1                   & 5                   & 2                  \\\\\n",
       "\t Ford Pantera L      & 15.8                & 8                   & 351.0               & 264                 & 4.22                & 3.170               & 14.50               & 0                   & 1                   & 5                   & 4                  \\\\\n",
       "\t Ferrari Dino        & 19.7                & 6                   & 145.0               & 175                 & 3.62                & 2.770               & 15.50               & 0                   & 1                   & 5                   & 6                  \\\\\n",
       "\t Maserati Bora       & 15.0                & 8                   & 301.0               & 335                 & 3.54                & 3.570               & 14.60               & 0                   & 1                   & 5                   & 8                  \\\\\n",
       "\t Volvo 142E          & 21.4                & 4                   & 121.0               & 109                 & 4.11                & 2.780               & 18.60               & 1                   & 1                   & 4                   & 2                  \\\\\n",
       "\\end{tabular}\n"
      ],
      "text/markdown": [
       "\n",
       "| row_names | mpg | cyl | disp | hp | drat | wt | qsec | vs | am | gear | carb |\n",
       "|---|---|---|---|---|---|---|---|---|---|---|---|\n",
       "| Mazda RX4           | 21.0                | 6                   | 160.0               | 110                 | 3.90                | 2.620               | 16.46               | 0                   | 1                   | 4                   | 4                   |\n",
       "| Mazda RX4 Wag       | 21.0                | 6                   | 160.0               | 110                 | 3.90                | 2.875               | 17.02               | 0                   | 1                   | 4                   | 4                   |\n",
       "| Datsun 710          | 22.8                | 4                   | 108.0               |  93                 | 3.85                | 2.320               | 18.61               | 1                   | 1                   | 4                   | 1                   |\n",
       "| Hornet 4 Drive      | 21.4                | 6                   | 258.0               | 110                 | 3.08                | 3.215               | 19.44               | 1                   | 0                   | 3                   | 1                   |\n",
       "| Hornet Sportabout   | 18.7                | 8                   | 360.0               | 175                 | 3.15                | 3.440               | 17.02               | 0                   | 0                   | 3                   | 2                   |\n",
       "| Valiant             | 18.1                | 6                   | 225.0               | 105                 | 2.76                | 3.460               | 20.22               | 1                   | 0                   | 3                   | 1                   |\n",
       "| Duster 360          | 14.3                | 8                   | 360.0               | 245                 | 3.21                | 3.570               | 15.84               | 0                   | 0                   | 3                   | 4                   |\n",
       "| Merc 240D           | 24.4                | 4                   | 146.7               |  62                 | 3.69                | 3.190               | 20.00               | 1                   | 0                   | 4                   | 2                   |\n",
       "| Merc 230            | 22.8                | 4                   | 140.8               |  95                 | 3.92                | 3.150               | 22.90               | 1                   | 0                   | 4                   | 2                   |\n",
       "| Merc 280            | 19.2                | 6                   | 167.6               | 123                 | 3.92                | 3.440               | 18.30               | 1                   | 0                   | 4                   | 4                   |\n",
       "| Merc 280C           | 17.8                | 6                   | 167.6               | 123                 | 3.92                | 3.440               | 18.90               | 1                   | 0                   | 4                   | 4                   |\n",
       "| Merc 450SE          | 16.4                | 8                   | 275.8               | 180                 | 3.07                | 4.070               | 17.40               | 0                   | 0                   | 3                   | 3                   |\n",
       "| Merc 450SL          | 17.3                | 8                   | 275.8               | 180                 | 3.07                | 3.730               | 17.60               | 0                   | 0                   | 3                   | 3                   |\n",
       "| Merc 450SLC         | 15.2                | 8                   | 275.8               | 180                 | 3.07                | 3.780               | 18.00               | 0                   | 0                   | 3                   | 3                   |\n",
       "| Cadillac Fleetwood  | 10.4                | 8                   | 472.0               | 205                 | 2.93                | 5.250               | 17.98               | 0                   | 0                   | 3                   | 4                   |\n",
       "| Lincoln Continental | 10.4                | 8                   | 460.0               | 215                 | 3.00                | 5.424               | 17.82               | 0                   | 0                   | 3                   | 4                   |\n",
       "| Chrysler Imperial   | 14.7                | 8                   | 440.0               | 230                 | 3.23                | 5.345               | 17.42               | 0                   | 0                   | 3                   | 4                   |\n",
       "| Fiat 128            | 32.4                | 4                   |  78.7               |  66                 | 4.08                | 2.200               | 19.47               | 1                   | 1                   | 4                   | 1                   |\n",
       "| Honda Civic         | 30.4                | 4                   |  75.7               |  52                 | 4.93                | 1.615               | 18.52               | 1                   | 1                   | 4                   | 2                   |\n",
       "| Toyota Corolla      | 33.9                | 4                   |  71.1               |  65                 | 4.22                | 1.835               | 19.90               | 1                   | 1                   | 4                   | 1                   |\n",
       "| Toyota Corona       | 21.5                | 4                   | 120.1               |  97                 | 3.70                | 2.465               | 20.01               | 1                   | 0                   | 3                   | 1                   |\n",
       "| Dodge Challenger    | 15.5                | 8                   | 318.0               | 150                 | 2.76                | 3.520               | 16.87               | 0                   | 0                   | 3                   | 2                   |\n",
       "| AMC Javelin         | 15.2                | 8                   | 304.0               | 150                 | 3.15                | 3.435               | 17.30               | 0                   | 0                   | 3                   | 2                   |\n",
       "| Camaro Z28          | 13.3                | 8                   | 350.0               | 245                 | 3.73                | 3.840               | 15.41               | 0                   | 0                   | 3                   | 4                   |\n",
       "| Pontiac Firebird    | 19.2                | 8                   | 400.0               | 175                 | 3.08                | 3.845               | 17.05               | 0                   | 0                   | 3                   | 2                   |\n",
       "| Fiat X1-9           | 27.3                | 4                   |  79.0               |  66                 | 4.08                | 1.935               | 18.90               | 1                   | 1                   | 4                   | 1                   |\n",
       "| Porsche 914-2       | 26.0                | 4                   | 120.3               |  91                 | 4.43                | 2.140               | 16.70               | 0                   | 1                   | 5                   | 2                   |\n",
       "| Lotus Europa        | 30.4                | 4                   |  95.1               | 113                 | 3.77                | 1.513               | 16.90               | 1                   | 1                   | 5                   | 2                   |\n",
       "| Ford Pantera L      | 15.8                | 8                   | 351.0               | 264                 | 4.22                | 3.170               | 14.50               | 0                   | 1                   | 5                   | 4                   |\n",
       "| Ferrari Dino        | 19.7                | 6                   | 145.0               | 175                 | 3.62                | 2.770               | 15.50               | 0                   | 1                   | 5                   | 6                   |\n",
       "| ... | ... | ... | ... | ... | ... | ... | ... | ... | ... | ... | ... |\n",
       "| Datsun 710          | 22.8                | 4                   | 108.0               |  93                 | 3.85                | 2.320               | 18.61               | 1                   | 1                   | 4                   | 1                   |\n",
       "| Hornet 4 Drive      | 21.4                | 6                   | 258.0               | 110                 | 3.08                | 3.215               | 19.44               | 1                   | 0                   | 3                   | 1                   |\n",
       "| Hornet Sportabout   | 18.7                | 8                   | 360.0               | 175                 | 3.15                | 3.440               | 17.02               | 0                   | 0                   | 3                   | 2                   |\n",
       "| Valiant             | 18.1                | 6                   | 225.0               | 105                 | 2.76                | 3.460               | 20.22               | 1                   | 0                   | 3                   | 1                   |\n",
       "| Duster 360          | 14.3                | 8                   | 360.0               | 245                 | 3.21                | 3.570               | 15.84               | 0                   | 0                   | 3                   | 4                   |\n",
       "| Merc 240D           | 24.4                | 4                   | 146.7               |  62                 | 3.69                | 3.190               | 20.00               | 1                   | 0                   | 4                   | 2                   |\n",
       "| Merc 230            | 22.8                | 4                   | 140.8               |  95                 | 3.92                | 3.150               | 22.90               | 1                   | 0                   | 4                   | 2                   |\n",
       "| Merc 280            | 19.2                | 6                   | 167.6               | 123                 | 3.92                | 3.440               | 18.30               | 1                   | 0                   | 4                   | 4                   |\n",
       "| Merc 280C           | 17.8                | 6                   | 167.6               | 123                 | 3.92                | 3.440               | 18.90               | 1                   | 0                   | 4                   | 4                   |\n",
       "| Merc 450SE          | 16.4                | 8                   | 275.8               | 180                 | 3.07                | 4.070               | 17.40               | 0                   | 0                   | 3                   | 3                   |\n",
       "| Merc 450SL          | 17.3                | 8                   | 275.8               | 180                 | 3.07                | 3.730               | 17.60               | 0                   | 0                   | 3                   | 3                   |\n",
       "| Merc 450SLC         | 15.2                | 8                   | 275.8               | 180                 | 3.07                | 3.780               | 18.00               | 0                   | 0                   | 3                   | 3                   |\n",
       "| Cadillac Fleetwood  | 10.4                | 8                   | 472.0               | 205                 | 2.93                | 5.250               | 17.98               | 0                   | 0                   | 3                   | 4                   |\n",
       "| Lincoln Continental | 10.4                | 8                   | 460.0               | 215                 | 3.00                | 5.424               | 17.82               | 0                   | 0                   | 3                   | 4                   |\n",
       "| Chrysler Imperial   | 14.7                | 8                   | 440.0               | 230                 | 3.23                | 5.345               | 17.42               | 0                   | 0                   | 3                   | 4                   |\n",
       "| Fiat 128            | 32.4                | 4                   |  78.7               |  66                 | 4.08                | 2.200               | 19.47               | 1                   | 1                   | 4                   | 1                   |\n",
       "| Honda Civic         | 30.4                | 4                   |  75.7               |  52                 | 4.93                | 1.615               | 18.52               | 1                   | 1                   | 4                   | 2                   |\n",
       "| Toyota Corolla      | 33.9                | 4                   |  71.1               |  65                 | 4.22                | 1.835               | 19.90               | 1                   | 1                   | 4                   | 1                   |\n",
       "| Toyota Corona       | 21.5                | 4                   | 120.1               |  97                 | 3.70                | 2.465               | 20.01               | 1                   | 0                   | 3                   | 1                   |\n",
       "| Dodge Challenger    | 15.5                | 8                   | 318.0               | 150                 | 2.76                | 3.520               | 16.87               | 0                   | 0                   | 3                   | 2                   |\n",
       "| AMC Javelin         | 15.2                | 8                   | 304.0               | 150                 | 3.15                | 3.435               | 17.30               | 0                   | 0                   | 3                   | 2                   |\n",
       "| Camaro Z28          | 13.3                | 8                   | 350.0               | 245                 | 3.73                | 3.840               | 15.41               | 0                   | 0                   | 3                   | 4                   |\n",
       "| Pontiac Firebird    | 19.2                | 8                   | 400.0               | 175                 | 3.08                | 3.845               | 17.05               | 0                   | 0                   | 3                   | 2                   |\n",
       "| Fiat X1-9           | 27.3                | 4                   |  79.0               |  66                 | 4.08                | 1.935               | 18.90               | 1                   | 1                   | 4                   | 1                   |\n",
       "| Porsche 914-2       | 26.0                | 4                   | 120.3               |  91                 | 4.43                | 2.140               | 16.70               | 0                   | 1                   | 5                   | 2                   |\n",
       "| Lotus Europa        | 30.4                | 4                   |  95.1               | 113                 | 3.77                | 1.513               | 16.90               | 1                   | 1                   | 5                   | 2                   |\n",
       "| Ford Pantera L      | 15.8                | 8                   | 351.0               | 264                 | 4.22                | 3.170               | 14.50               | 0                   | 1                   | 5                   | 4                   |\n",
       "| Ferrari Dino        | 19.7                | 6                   | 145.0               | 175                 | 3.62                | 2.770               | 15.50               | 0                   | 1                   | 5                   | 6                   |\n",
       "| Maserati Bora       | 15.0                | 8                   | 301.0               | 335                 | 3.54                | 3.570               | 14.60               | 0                   | 1                   | 5                   | 8                   |\n",
       "| Volvo 142E          | 21.4                | 4                   | 121.0               | 109                 | 4.11                | 2.780               | 18.60               | 1                   | 1                   | 4                   | 2                   |\n",
       "\n"
      ],
      "text/plain": [
       "    row_names           mpg  cyl disp  hp  drat wt    qsec  vs  am  gear carb\n",
       "1   Mazda RX4           21.0 6   160.0 110 3.90 2.620 16.46 0   1   4    4   \n",
       "2   Mazda RX4 Wag       21.0 6   160.0 110 3.90 2.875 17.02 0   1   4    4   \n",
       "3   Datsun 710          22.8 4   108.0  93 3.85 2.320 18.61 1   1   4    1   \n",
       "4   Hornet 4 Drive      21.4 6   258.0 110 3.08 3.215 19.44 1   0   3    1   \n",
       "5   Hornet Sportabout   18.7 8   360.0 175 3.15 3.440 17.02 0   0   3    2   \n",
       "6   Valiant             18.1 6   225.0 105 2.76 3.460 20.22 1   0   3    1   \n",
       "7   Duster 360          14.3 8   360.0 245 3.21 3.570 15.84 0   0   3    4   \n",
       "8   Merc 240D           24.4 4   146.7  62 3.69 3.190 20.00 1   0   4    2   \n",
       "9   Merc 230            22.8 4   140.8  95 3.92 3.150 22.90 1   0   4    2   \n",
       "10  Merc 280            19.2 6   167.6 123 3.92 3.440 18.30 1   0   4    4   \n",
       "11  Merc 280C           17.8 6   167.6 123 3.92 3.440 18.90 1   0   4    4   \n",
       "12  Merc 450SE          16.4 8   275.8 180 3.07 4.070 17.40 0   0   3    3   \n",
       "13  Merc 450SL          17.3 8   275.8 180 3.07 3.730 17.60 0   0   3    3   \n",
       "14  Merc 450SLC         15.2 8   275.8 180 3.07 3.780 18.00 0   0   3    3   \n",
       "15  Cadillac Fleetwood  10.4 8   472.0 205 2.93 5.250 17.98 0   0   3    4   \n",
       "16  Lincoln Continental 10.4 8   460.0 215 3.00 5.424 17.82 0   0   3    4   \n",
       "17  Chrysler Imperial   14.7 8   440.0 230 3.23 5.345 17.42 0   0   3    4   \n",
       "18  Fiat 128            32.4 4    78.7  66 4.08 2.200 19.47 1   1   4    1   \n",
       "19  Honda Civic         30.4 4    75.7  52 4.93 1.615 18.52 1   1   4    2   \n",
       "20  Toyota Corolla      33.9 4    71.1  65 4.22 1.835 19.90 1   1   4    1   \n",
       "21  Toyota Corona       21.5 4   120.1  97 3.70 2.465 20.01 1   0   3    1   \n",
       "22  Dodge Challenger    15.5 8   318.0 150 2.76 3.520 16.87 0   0   3    2   \n",
       "23  AMC Javelin         15.2 8   304.0 150 3.15 3.435 17.30 0   0   3    2   \n",
       "24  Camaro Z28          13.3 8   350.0 245 3.73 3.840 15.41 0   0   3    4   \n",
       "25  Pontiac Firebird    19.2 8   400.0 175 3.08 3.845 17.05 0   0   3    2   \n",
       "26  Fiat X1-9           27.3 4    79.0  66 4.08 1.935 18.90 1   1   4    1   \n",
       "27  Porsche 914-2       26.0 4   120.3  91 4.43 2.140 16.70 0   1   5    2   \n",
       "28  Lotus Europa        30.4 4    95.1 113 3.77 1.513 16.90 1   1   5    2   \n",
       "29  Ford Pantera L      15.8 8   351.0 264 4.22 3.170 14.50 0   1   5    4   \n",
       "30  Ferrari Dino        19.7 6   145.0 175 3.62 2.770 15.50 0   1   5    6   \n",
       "... ...                 ...  ... ...   ... ...  ...   ...   ... ... ...  ... \n",
       "35  Datsun 710          22.8 4   108.0  93 3.85 2.320 18.61 1   1   4    1   \n",
       "36  Hornet 4 Drive      21.4 6   258.0 110 3.08 3.215 19.44 1   0   3    1   \n",
       "37  Hornet Sportabout   18.7 8   360.0 175 3.15 3.440 17.02 0   0   3    2   \n",
       "38  Valiant             18.1 6   225.0 105 2.76 3.460 20.22 1   0   3    1   \n",
       "39  Duster 360          14.3 8   360.0 245 3.21 3.570 15.84 0   0   3    4   \n",
       "40  Merc 240D           24.4 4   146.7  62 3.69 3.190 20.00 1   0   4    2   \n",
       "41  Merc 230            22.8 4   140.8  95 3.92 3.150 22.90 1   0   4    2   \n",
       "42  Merc 280            19.2 6   167.6 123 3.92 3.440 18.30 1   0   4    4   \n",
       "43  Merc 280C           17.8 6   167.6 123 3.92 3.440 18.90 1   0   4    4   \n",
       "44  Merc 450SE          16.4 8   275.8 180 3.07 4.070 17.40 0   0   3    3   \n",
       "45  Merc 450SL          17.3 8   275.8 180 3.07 3.730 17.60 0   0   3    3   \n",
       "46  Merc 450SLC         15.2 8   275.8 180 3.07 3.780 18.00 0   0   3    3   \n",
       "47  Cadillac Fleetwood  10.4 8   472.0 205 2.93 5.250 17.98 0   0   3    4   \n",
       "48  Lincoln Continental 10.4 8   460.0 215 3.00 5.424 17.82 0   0   3    4   \n",
       "49  Chrysler Imperial   14.7 8   440.0 230 3.23 5.345 17.42 0   0   3    4   \n",
       "50  Fiat 128            32.4 4    78.7  66 4.08 2.200 19.47 1   1   4    1   \n",
       "51  Honda Civic         30.4 4    75.7  52 4.93 1.615 18.52 1   1   4    2   \n",
       "52  Toyota Corolla      33.9 4    71.1  65 4.22 1.835 19.90 1   1   4    1   \n",
       "53  Toyota Corona       21.5 4   120.1  97 3.70 2.465 20.01 1   0   3    1   \n",
       "54  Dodge Challenger    15.5 8   318.0 150 2.76 3.520 16.87 0   0   3    2   \n",
       "55  AMC Javelin         15.2 8   304.0 150 3.15 3.435 17.30 0   0   3    2   \n",
       "56  Camaro Z28          13.3 8   350.0 245 3.73 3.840 15.41 0   0   3    4   \n",
       "57  Pontiac Firebird    19.2 8   400.0 175 3.08 3.845 17.05 0   0   3    2   \n",
       "58  Fiat X1-9           27.3 4    79.0  66 4.08 1.935 18.90 1   1   4    1   \n",
       "59  Porsche 914-2       26.0 4   120.3  91 4.43 2.140 16.70 0   1   5    2   \n",
       "60  Lotus Europa        30.4 4    95.1 113 3.77 1.513 16.90 1   1   5    2   \n",
       "61  Ford Pantera L      15.8 8   351.0 264 4.22 3.170 14.50 0   1   5    4   \n",
       "62  Ferrari Dino        19.7 6   145.0 175 3.62 2.770 15.50 0   1   5    6   \n",
       "63  Maserati Bora       15.0 8   301.0 335 3.54 3.570 14.60 0   1   5    8   \n",
       "64  Volvo 142E          21.4 4   121.0 109 4.11 2.780 18.60 1   1   4    2   "
      ]
     },
     "metadata": {},
     "output_type": "display_data"
    }
   ],
   "source": [
    "# Prüfen, ob neue Daten angekommen sind\n",
    "cars2 <- dbReadTable(con, cars.table)\n",
    "cars2"
   ]
  },
  {
   "cell_type": "code",
   "execution_count": 31,
   "metadata": {},
   "outputs": [],
   "source": [
    "# cars-Tabelle löschen\n",
    "dbRemoveTable(con, name = cars.table)"
   ]
  },
  {
   "cell_type": "code",
   "execution_count": 32,
   "metadata": {},
   "outputs": [
    {
     "data": {
      "text/html": [
       "FALSE"
      ],
      "text/latex": [
       "FALSE"
      ],
      "text/markdown": [
       "FALSE"
      ],
      "text/plain": [
       "[1] FALSE"
      ]
     },
     "metadata": {},
     "output_type": "display_data"
    }
   ],
   "source": [
    "#prüfen, ob cars-Tabelle gelöscht worden ist\n",
    "dbExistsTable(con, cars.table)"
   ]
  },
  {
   "cell_type": "code",
   "execution_count": 33,
   "metadata": {},
   "outputs": [],
   "source": [
    "# Datenbank-Verbindung schliessen (immer ausführen um Datenbank-Verbindungsressourcen freizugeben)\n",
    "dbDisconnect(con)"
   ]
  },
  {
   "cell_type": "markdown",
   "metadata": {},
   "source": [
    "### Lektion 24.3.2 Daten aus/in Firebase Datenbank lesen/schreiben\n",
    "\n",
    "Eine Verbindung von R zu Firebase Datenbank aus zeitlichen Gründen wird in dieser Lektion nicht dargelegt. Die ist aber recht gut in README-Datei von [fireData R-Paket](https://github.com/Kohze/fireData) und in diesem [Stackoverflow-Artikel](https://stackoverflow.com/questions/45228338/firebase-database-data-to-r) dokumentiert."
   ]
  },
  {
   "cell_type": "markdown",
   "metadata": {},
   "source": [
    "**Tipp: Informationen zu den anderen Datenbanken kann man auf der Webseite [Databases using R](https://db.rstudio.com/databases/) erfahren**"
   ]
  },
  {
   "cell_type": "markdown",
   "metadata": {},
   "source": [
    "Herzlichen Glückwunsch! Sie sind mit dem 2. Teil der Lektion N° 20 fertig!\n",
    "\n",
    "#### Bitte denkt daran, dieses Notebook als Referenz für spätere Lektionen und Aufgaben zu verwenden."
   ]
  }
 ],
 "metadata": {
  "kernelspec": {
   "display_name": "R",
   "language": "R",
   "name": "ir"
  },
  "language_info": {
   "codemirror_mode": "r",
   "file_extension": ".r",
   "mimetype": "text/x-r-source",
   "name": "R",
   "pygments_lexer": "r",
   "version": "3.6.1"
  }
 },
 "nbformat": 4,
 "nbformat_minor": 1
}
