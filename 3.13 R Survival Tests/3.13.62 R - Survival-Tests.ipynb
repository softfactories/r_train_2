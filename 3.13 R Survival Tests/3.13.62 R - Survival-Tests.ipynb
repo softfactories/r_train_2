{
 "cells": [
  {
   "cell_type": "markdown",
   "metadata": {},
   "source": [
    "# Tag 3. Kapitel 13. R Tests\n",
    "\n",
    "## Lektion 63. Survival Tests"
   ]
  },
  {
   "cell_type": "code",
   "execution_count": 3,
   "metadata": {},
   "outputs": [
    {
     "name": "stderr",
     "output_type": "stream",
     "text": [
      "also installing the dependencies 'RcppEigen', 'gridExtra'\n",
      "\n",
      "Warning message:\n",
      "\"package 'survival' is in use and will not be installed\""
     ]
    },
    {
     "name": "stdout",
     "output_type": "stream",
     "text": [
      "package 'RcppEigen' successfully unpacked and MD5 sums checked\n",
      "package 'gridExtra' successfully unpacked and MD5 sums checked\n",
      "package 'ranger' successfully unpacked and MD5 sums checked\n",
      "package 'ggplot2' successfully unpacked and MD5 sums checked\n",
      "package 'dplyr' successfully unpacked and MD5 sums checked\n"
     ]
    },
    {
     "name": "stderr",
     "output_type": "stream",
     "text": [
      "Warning message:\n",
      "\"cannot remove prior installation of package 'dplyr'\"Warning message in file.copy(savedcopy, lib, recursive = TRUE):\n",
      "\"Problem C:\\Users\\dm_78\\.conda\\envs\\R Universe\\Lib\\R\\library\\00LOCK\\dplyr\\libs\\x64\\dplyr.dll nach C:\\Users\\dm_78\\.conda\\envs\\R Universe\\Lib\\R\\library\\dplyr\\libs\\x64\\dplyr.dll zu kopieren: Permission denied\"Warning message:\n",
      "\"restored 'dplyr'\""
     ]
    },
    {
     "name": "stdout",
     "output_type": "stream",
     "text": [
      "package 'ggfortify' successfully unpacked and MD5 sums checked\n",
      "\n",
      "The downloaded binary packages are in\n",
      "\tC:\\Users\\dm_78\\AppData\\Local\\Temp\\RtmpC0HsSR\\downloaded_packages\n"
     ]
    }
   ],
   "source": [
    "# Pakete installiern\n",
    "install.packages(c('survival','ranger', 'ggplot2', 'dplyr', 'ggfortify'))"
   ]
  },
  {
   "cell_type": "code",
   "execution_count": 2,
   "metadata": {},
   "outputs": [
    {
     "name": "stderr",
     "output_type": "stream",
     "text": [
      "\n",
      "Attaching package: 'dplyr'\n",
      "\n",
      "The following objects are masked from 'package:stats':\n",
      "\n",
      "    filter, lag\n",
      "\n",
      "The following objects are masked from 'package:base':\n",
      "\n",
      "    intersect, setdiff, setequal, union\n",
      "\n"
     ]
    }
   ],
   "source": [
    "# Bibliotheken laden\n",
    "library(survival)\n",
    "library(ranger)\n",
    "library(ggplot2)\n",
    "library(dplyr)\n",
    "library(ggfortify)"
   ]
  },
  {
   "cell_type": "code",
   "execution_count": 3,
   "metadata": {},
   "outputs": [
    {
     "data": {
      "text/html": [
       "<table>\n",
       "<thead><tr><th scope=col>trt</th><th scope=col>celltype</th><th scope=col>time</th><th scope=col>status</th><th scope=col>karno</th><th scope=col>diagtime</th><th scope=col>age</th><th scope=col>prior</th></tr></thead>\n",
       "<tbody>\n",
       "\t<tr><td>1       </td><td>squamous</td><td> 72     </td><td>1       </td><td>60      </td><td> 7      </td><td>69      </td><td> 0      </td></tr>\n",
       "\t<tr><td>1       </td><td>squamous</td><td>411     </td><td>1       </td><td>70      </td><td> 5      </td><td>64      </td><td>10      </td></tr>\n",
       "\t<tr><td>1       </td><td>squamous</td><td>228     </td><td>1       </td><td>60      </td><td> 3      </td><td>38      </td><td> 0      </td></tr>\n",
       "\t<tr><td>1       </td><td>squamous</td><td>126     </td><td>1       </td><td>60      </td><td> 9      </td><td>63      </td><td>10      </td></tr>\n",
       "\t<tr><td>1       </td><td>squamous</td><td>118     </td><td>1       </td><td>70      </td><td>11      </td><td>65      </td><td>10      </td></tr>\n",
       "\t<tr><td>1       </td><td>squamous</td><td> 10     </td><td>1       </td><td>20      </td><td> 5      </td><td>49      </td><td> 0      </td></tr>\n",
       "</tbody>\n",
       "</table>\n"
      ],
      "text/latex": [
       "\\begin{tabular}{r|llllllll}\n",
       " trt & celltype & time & status & karno & diagtime & age & prior\\\\\n",
       "\\hline\n",
       "\t 1        & squamous &  72      & 1        & 60       &  7       & 69       &  0      \\\\\n",
       "\t 1        & squamous & 411      & 1        & 70       &  5       & 64       & 10      \\\\\n",
       "\t 1        & squamous & 228      & 1        & 60       &  3       & 38       &  0      \\\\\n",
       "\t 1        & squamous & 126      & 1        & 60       &  9       & 63       & 10      \\\\\n",
       "\t 1        & squamous & 118      & 1        & 70       & 11       & 65       & 10      \\\\\n",
       "\t 1        & squamous &  10      & 1        & 20       &  5       & 49       &  0      \\\\\n",
       "\\end{tabular}\n"
      ],
      "text/markdown": [
       "\n",
       "| trt | celltype | time | status | karno | diagtime | age | prior |\n",
       "|---|---|---|---|---|---|---|---|\n",
       "| 1        | squamous |  72      | 1        | 60       |  7       | 69       |  0       |\n",
       "| 1        | squamous | 411      | 1        | 70       |  5       | 64       | 10       |\n",
       "| 1        | squamous | 228      | 1        | 60       |  3       | 38       |  0       |\n",
       "| 1        | squamous | 126      | 1        | 60       |  9       | 63       | 10       |\n",
       "| 1        | squamous | 118      | 1        | 70       | 11       | 65       | 10       |\n",
       "| 1        | squamous |  10      | 1        | 20       |  5       | 49       |  0       |\n",
       "\n"
      ],
      "text/plain": [
       "  trt celltype time status karno diagtime age prior\n",
       "1 1   squamous  72  1      60     7       69   0   \n",
       "2 1   squamous 411  1      70     5       64  10   \n",
       "3 1   squamous 228  1      60     3       38   0   \n",
       "4 1   squamous 126  1      60     9       63  10   \n",
       "5 1   squamous 118  1      70    11       65  10   \n",
       "6 1   squamous  10  1      20     5       49   0   "
      ]
     },
     "metadata": {},
     "output_type": "display_data"
    }
   ],
   "source": [
    "# Untersuchten Daten\n",
    "data(veteran)\n",
    "head(veteran)\n",
    "help(veteran)"
   ]
  },
  {
   "cell_type": "markdown",
   "metadata": {},
   "source": [
    "### Kaplan-Meier Analyse\n",
    "\n",
    "Das erste, was Sie tun müssen, ist die Verwendung von **Surv()** , um das Standardüberlebensobjekt zu erstellen. Die variable time zeichnet die Überlebenszeit auf; status gibt an, ob der Tod des Patienten beobachtet wurde ( status = 1 ) oder ob die Überlebenszeit zensiert wurde ( status = 0 ). Beachten Sie, dass ein „+“ nach der Zeit im Ausdruck von km eine Zensur anzeigt."
   ]
  },
  {
   "cell_type": "code",
   "execution_count": 4,
   "metadata": {},
   "outputs": [
    {
     "data": {
      "text/plain": [
       " [1]  72  411  228  126  118   10   82  110  314  100+  42    8  144   25+  11 \n",
       "[16]  30  384    4   54   13  123+  97+ 153   59  117   16  151   22   56   21 \n",
       "[31]  18  139   20   31   52  287   18   51  122   27   54    7   63  392   10 \n",
       "[46]   8   92   35  117  132   12  162    3   95  177  162  216  553  278   12 \n",
       "[61] 260  200  156  182+ 143  105  103  250  100  999  112   87+ 231+ 242  991 \n",
       "[76] 111    1  587  389   33 "
      ]
     },
     "metadata": {},
     "output_type": "display_data"
    }
   ],
   "source": [
    "# Kaplan Meier Survival Curve\n",
    "km <- with(veteran, Surv(time, status))\n",
    "head(km,80)"
   ]
  },
  {
   "cell_type": "markdown",
   "metadata": {},
   "source": [
    "Zu Beginn unserer Analyse verwenden wir die Formel Surv(futime, status) ~ 1 und die Funktion survfit() , um die [Kaplan-Meier- Schätzungen](https://en.wikipedia.org/wiki/Kaplan%E2%80%93Meier_estimator) der Überlebenswahrscheinlichkeit über die Zeit zu erstellen. Mit dem times Parameter der summary() -Funktion können Sie steuern, welche Zeiten gedruckt werden sollen. Hier wird festgelegt, dass die Schätzungen für 1, 30, 60 und 90 Tage und danach alle 90 Tage gedruckt werden. Dies ist das einfachste mögliche Modell. Es sind nur drei Zeilen R-Code erforderlich, um es anzupassen und numerische und grafische Zusammenfassungen zu erstellen."
   ]
  },
  {
   "cell_type": "code",
   "execution_count": 7,
   "metadata": {},
   "outputs": [
    {
     "data": {
      "text/plain": [
       "Call: survfit(formula = Surv(time, status) ~ 1, data = veteran)\n",
       "\n",
       " time n.risk n.event survival std.err lower 95% CI upper 95% CI\n",
       "    1    137       2    0.985  0.0102      0.96552       1.0000\n",
       "   30     97      39    0.700  0.0392      0.62774       0.7816\n",
       "   60     73      22    0.538  0.0427      0.46070       0.6288\n",
       "   90     62      10    0.464  0.0428      0.38731       0.5560\n",
       "  180     27      30    0.222  0.0369      0.16066       0.3079\n",
       "  270     16       9    0.144  0.0319      0.09338       0.2223\n",
       "  360     10       6    0.090  0.0265      0.05061       0.1602\n",
       "  450      5       5    0.045  0.0194      0.01931       0.1049\n",
       "  540      4       1    0.036  0.0175      0.01389       0.0934\n",
       "  630      2       2    0.018  0.0126      0.00459       0.0707\n",
       "  720      2       0    0.018  0.0126      0.00459       0.0707\n",
       "  810      2       0    0.018  0.0126      0.00459       0.0707\n",
       "  900      2       0    0.018  0.0126      0.00459       0.0707"
      ]
     },
     "metadata": {},
     "output_type": "display_data"
    },
    {
     "data": {
      "image/png": "[encoded data removed]",
      "text/plain": [
       "Plot with title \"Kaplan Meyer Plot\""
      ]
     },
     "metadata": {},
     "output_type": "display_data"
    }
   ],
   "source": [
    "km_fit <- survfit(Surv(time, status) ~ 1, data=veteran) \n",
    "summary(km_fit, times = c(1,30,60,90*(1:10)))\n",
    "plot(km_fit, xlab=\"Days\", main = 'Kaplan Meyer Plot') #base graphics is always ready autoplot(km_fit)"
   ]
  },
  {
   "cell_type": "markdown",
   "metadata": {},
   "source": [
    "#### Als nächstes betrachten wir die Überlebenskurven nach Behandlung:"
   ]
  },
  {
   "cell_type": "code",
   "execution_count": 9,
   "metadata": {},
   "outputs": [
    {
     "data": {
      "image/png": "[encoded data removed]",
      "text/plain": [
       "plot without title"
      ]
     },
     "metadata": {},
     "output_type": "display_data"
    }
   ],
   "source": [
    "km_trt_fit <- survfit(Surv(time, status) ~ trt, data=veteran) \n",
    "autoplot(km_trt_fit)"
   ]
  },
  {
   "cell_type": "markdown",
   "metadata": {},
   "source": [
    "Und um eine weitere kleine Explorationsdarstellung zu zeigen, werden wir nur ein wenig Daten sammeln, um das Überleben nach Alter zu untersuchen. Zunächst erstellen wir einen neuen LT60 mit einer kategorialen Variablen AG mit den Werten LT60 und GT60 , die jeweils Veteranen beschreiben, die **jünger als 60 Jahre** und **älter als 60 Jahre** sind. "
   ]
  },
  {
   "cell_type": "code",
   "execution_count": 12,
   "metadata": {},
   "outputs": [
    {
     "data": {
      "text/html": [
       "<table>\n",
       "<thead><tr><th scope=col>trt</th><th scope=col>celltype</th><th scope=col>time</th><th scope=col>status</th><th scope=col>karno</th><th scope=col>diagtime</th><th scope=col>age</th><th scope=col>prior</th><th scope=col>AG</th></tr></thead>\n",
       "<tbody>\n",
       "\t<tr><td>standard</td><td>squamous</td><td> 72     </td><td>1       </td><td>60      </td><td> 7      </td><td>69      </td><td>N0      </td><td>OV60    </td></tr>\n",
       "\t<tr><td>standard</td><td>squamous</td><td>411     </td><td>1       </td><td>70      </td><td> 5      </td><td>64      </td><td>Yes     </td><td>OV60    </td></tr>\n",
       "\t<tr><td>standard</td><td>squamous</td><td>228     </td><td>1       </td><td>60      </td><td> 3      </td><td>38      </td><td>N0      </td><td>LT60    </td></tr>\n",
       "\t<tr><td>standard</td><td>squamous</td><td>126     </td><td>1       </td><td>60      </td><td> 9      </td><td>63      </td><td>Yes     </td><td>OV60    </td></tr>\n",
       "\t<tr><td>standard</td><td>squamous</td><td>118     </td><td>1       </td><td>70      </td><td>11      </td><td>65      </td><td>Yes     </td><td>OV60    </td></tr>\n",
       "\t<tr><td>standard</td><td>squamous</td><td> 10     </td><td>1       </td><td>20      </td><td> 5      </td><td>49      </td><td>N0      </td><td>LT60    </td></tr>\n",
       "</tbody>\n",
       "</table>\n"
      ],
      "text/latex": [
       "\\begin{tabular}{r|lllllllll}\n",
       " trt & celltype & time & status & karno & diagtime & age & prior & AG\\\\\n",
       "\\hline\n",
       "\t standard & squamous &  72      & 1        & 60       &  7       & 69       & N0       & OV60    \\\\\n",
       "\t standard & squamous & 411      & 1        & 70       &  5       & 64       & Yes      & OV60    \\\\\n",
       "\t standard & squamous & 228      & 1        & 60       &  3       & 38       & N0       & LT60    \\\\\n",
       "\t standard & squamous & 126      & 1        & 60       &  9       & 63       & Yes      & OV60    \\\\\n",
       "\t standard & squamous & 118      & 1        & 70       & 11       & 65       & Yes      & OV60    \\\\\n",
       "\t standard & squamous &  10      & 1        & 20       &  5       & 49       & N0       & LT60    \\\\\n",
       "\\end{tabular}\n"
      ],
      "text/markdown": [
       "\n",
       "| trt | celltype | time | status | karno | diagtime | age | prior | AG |\n",
       "|---|---|---|---|---|---|---|---|---|\n",
       "| standard | squamous |  72      | 1        | 60       |  7       | 69       | N0       | OV60     |\n",
       "| standard | squamous | 411      | 1        | 70       |  5       | 64       | Yes      | OV60     |\n",
       "| standard | squamous | 228      | 1        | 60       |  3       | 38       | N0       | LT60     |\n",
       "| standard | squamous | 126      | 1        | 60       |  9       | 63       | Yes      | OV60     |\n",
       "| standard | squamous | 118      | 1        | 70       | 11       | 65       | Yes      | OV60     |\n",
       "| standard | squamous |  10      | 1        | 20       |  5       | 49       | N0       | LT60     |\n",
       "\n"
      ],
      "text/plain": [
       "  trt      celltype time status karno diagtime age prior AG  \n",
       "1 standard squamous  72  1      60     7       69  N0    OV60\n",
       "2 standard squamous 411  1      70     5       64  Yes   OV60\n",
       "3 standard squamous 228  1      60     3       38  N0    LT60\n",
       "4 standard squamous 126  1      60     9       63  Yes   OV60\n",
       "5 standard squamous 118  1      70    11       65  Yes   OV60\n",
       "6 standard squamous  10  1      20     5       49  N0    LT60"
      ]
     },
     "metadata": {},
     "output_type": "display_data"
    }
   ],
   "source": [
    "vet <- mutate(veteran, AG = ifelse((age < 60), \"LT60\", \"OV60\"), AG = factor(AG), trt = factor(trt,labels=c(\"standard\",\"test\")), prior = factor(prior,labels=c(\"N0\",\"Yes\")))\n",
    "head(vet)"
   ]
  },
  {
   "cell_type": "code",
   "execution_count": 13,
   "metadata": {},
   "outputs": [
    {
     "data": {
      "image/png": "[encoded data removed]",
      "text/plain": [
       "plot without title"
      ]
     },
     "metadata": {},
     "output_type": "display_data"
    }
   ],
   "source": [
    "km_AG_fit <- survfit(Surv(time, status) ~ AG, data=vet) \n",
    "autoplot(km_AG_fit)"
   ]
  },
  {
   "cell_type": "markdown",
   "metadata": {},
   "source": [
    "### Cox Proportional Hazards Model\n",
    "\n",
    "Als Nächstes werden wir ein [Cox-Proportional-Hazards-Modell](https://en.wikipedia.org/wiki/Proportional_hazards_model) anpassen, bei dem alle Kovariaten im Datensatz verwendet werden."
   ]
  },
  {
   "cell_type": "code",
   "execution_count": 14,
   "metadata": {},
   "outputs": [
    {
     "data": {
      "text/plain": [
       "Call:\n",
       "coxph(formula = Surv(time, status) ~ trt + celltype + karno + \n",
       "    diagtime + age + prior, data = vet)\n",
       "\n",
       "  n= 137, number of events= 128 \n",
       "\n",
       "                        coef  exp(coef)   se(coef)      z Pr(>|z|)    \n",
       "trttest            2.946e-01  1.343e+00  2.075e-01  1.419  0.15577    \n",
       "celltypesmallcell  8.616e-01  2.367e+00  2.753e-01  3.130  0.00175 ** \n",
       "celltypeadeno      1.196e+00  3.307e+00  3.009e-01  3.975 7.05e-05 ***\n",
       "celltypelarge      4.013e-01  1.494e+00  2.827e-01  1.420  0.15574    \n",
       "karno             -3.282e-02  9.677e-01  5.508e-03 -5.958 2.55e-09 ***\n",
       "diagtime           8.132e-05  1.000e+00  9.136e-03  0.009  0.99290    \n",
       "age               -8.706e-03  9.913e-01  9.300e-03 -0.936  0.34920    \n",
       "priorYes           7.159e-02  1.074e+00  2.323e-01  0.308  0.75794    \n",
       "---\n",
       "Signif. codes:  0 '***' 0.001 '**' 0.01 '*' 0.05 '.' 0.1 ' ' 1\n",
       "\n",
       "                  exp(coef) exp(-coef) lower .95 upper .95\n",
       "trttest              1.3426     0.7448    0.8939    2.0166\n",
       "celltypesmallcell    2.3669     0.4225    1.3799    4.0597\n",
       "celltypeadeno        3.3071     0.3024    1.8336    5.9647\n",
       "celltypelarge        1.4938     0.6695    0.8583    2.5996\n",
       "karno                0.9677     1.0334    0.9573    0.9782\n",
       "diagtime             1.0001     0.9999    0.9823    1.0182\n",
       "age                  0.9913     1.0087    0.9734    1.0096\n",
       "priorYes             1.0742     0.9309    0.6813    1.6937\n",
       "\n",
       "Concordance= 0.736  (se = 0.021 )\n",
       "Likelihood ratio test= 62.1  on 8 df,   p=2e-10\n",
       "Wald test            = 62.37  on 8 df,   p=2e-10\n",
       "Score (logrank) test = 66.74  on 8 df,   p=2e-11\n"
      ]
     },
     "metadata": {},
     "output_type": "display_data"
    }
   ],
   "source": [
    "# Fit Cox Model \n",
    "cox <- coxph(Surv(time, status) ~ trt + celltype + karno + diagtime + age + prior , data = vet) \n",
    "summary(cox)"
   ]
  },
  {
   "cell_type": "code",
   "execution_count": 16,
   "metadata": {},
   "outputs": [
    {
     "data": {
      "image/png": "[encoded data removed]",
      "text/plain": [
       "plot without title"
      ]
     },
     "metadata": {},
     "output_type": "display_data"
    }
   ],
   "source": [
    "cox_fit <- survfit(cox) \n",
    "# plot(cox_fit, main = \"cph model\", xlab=\"Days\") \n",
    "autoplot(cox_fit)"
   ]
  },
  {
   "cell_type": "markdown",
   "metadata": {},
   "source": [
    "Beachten Sie, dass das Modell kleine Zelltypen, Adenozelltypen und Karno als *signifikant* kennzeichnet. Bei der Interpretation dieser Ergebnisse ist jedoch Vorsicht geboten. Während das Modell des Cox Proportional Hazard als „robust“ eingestuft wird, würde eine sorgfältige Analyse die dem Modell zugrunde liegenden Annahmen überprüfen. Das Cox-Modell geht beispielsweise davon aus, dass sich die Kovariaten nicht mit der Zeit ändern. In einer [Vignette](https://cran.r-project.org/web/packages/survival/vignettes/timedep.pdf), die dem survival Therneau beiliegt, zeigen Crowson und Atkinson, dass der [Karnofsky-Score](https://de.wikipedia.org/wiki/Karnofsky-Index) (karno) tatsächlich zeitabhängig ist, sodass die Annahmen für das Cox-Modell nicht erfüllt werden. Die Vignettenautoren präsentieren eine Strategie für den Umgang mit zeitabhängigen Kovariaten.\n",
    "\n",
    "Datenwissenschaftler, die mit der Berechnung von ROC-Kurven zur Bewertung der Modellleistung vertraut sind, sollten sich für die Konkordanzstatistik interessieren. Die Dokumentation für die Funktion survConcordance() im survival definiert Konkordanz als „die Wahrscheinlichkeit der Übereinstimmung für zwei zufällig ausgewählte Beobachtungen, wobei in diesem Fall Übereinstimmung bedeutet, dass die Beobachtung mit der kürzeren Überlebenszeit der beiden auch den höheren Risikowert aufweist . Der Prädiktor (oder die Risikokennzahl) ist häufig das Ergebnis eines Cox-Modells oder einer anderen Regression. Für kontinuierliche Kovariaten entspricht die Konkordanz der Tau von Kendall und für logistische Regression der Fläche unter der ROC-Kurve.\"\n",
    "\n",
    "Um die Verwendung des survival zusammen mit ggplot2 und ggfortify, passen wir additive [Aalen-Regressionsmodell](https://pdfs.semanticscholar.org/e93c/b08425f936df5f449afa383bfb4564739309.pdf) für zensierte Daten an die Veteranendaten an. In der Dokumentation heißt es: „Das Aalen-Modell geht davon aus, dass die kumulative Gefahr H (t) für ein Subjekt ausgedrückt werden kann als *a(t) + X B(t)*, wobei a(t) ein zeitabhängiger Abfangterm ist, X ist Vektor der Kovariaten für das Subjekt (möglicherweise zeitabhängig) und B(t) ist eine zeitabhängige Koeffizientenmatrix. “\n",
    "\n",
    "Die Diagramme zeigen, wie sich die Auswirkungen der Kovariaten im Laufe der Zeit ändern. Beachten Sie den steilen Abhang und dann die abrupte Änderung des Karno-Abhangs."
   ]
  },
  {
   "cell_type": "code",
   "execution_count": 20,
   "metadata": {},
   "outputs": [
    {
     "data": {
      "text/plain": [
       "Call:\n",
       "aareg(formula = Surv(time, status) ~ trt + celltype + karno + \n",
       "    diagtime + age + prior, data = vet)\n",
       "\n",
       "  n= 137 \n",
       "    75 out of 97 unique event times used\n",
       "\n",
       "                      slope      coef se(coef)      z        p\n",
       "Intercept          0.083400  3.81e-02 1.09e-02  3.490 4.79e-04\n",
       "trttest            0.006730  2.49e-03 2.58e-03  0.967 3.34e-01\n",
       "celltypesmallcell  0.015000  7.30e-03 3.38e-03  2.160 3.09e-02\n",
       "celltypeadeno      0.018400  1.03e-02 4.20e-03  2.450 1.42e-02\n",
       "celltypelarge     -0.001090 -6.21e-04 2.71e-03 -0.229 8.19e-01\n",
       "karno             -0.001180 -4.37e-04 8.77e-05 -4.980 6.28e-07\n",
       "diagtime          -0.000243 -4.92e-05 1.64e-04 -0.300 7.65e-01\n",
       "age               -0.000246 -6.27e-05 1.28e-04 -0.491 6.23e-01\n",
       "priorYes           0.003300  1.54e-03 2.86e-03  0.539 5.90e-01\n",
       "\n",
       "Chisq=41.62 on 8 df, p=1.6e-06; test weights=aalen"
      ]
     },
     "metadata": {},
     "output_type": "display_data"
    }
   ],
   "source": [
    "aa_fit <- aareg(Surv(time, status) ~ trt + celltype +\n",
    "                 karno + diagtime + age + prior , \n",
    "                 data = vet)\n",
    "aa_fit"
   ]
  },
  {
   "cell_type": "code",
   "execution_count": 21,
   "metadata": {},
   "outputs": [
    {
     "data": {
      "text/plain": [
       "$table\n",
       "                          slope          coef     se(coef)          z\n",
       "Intercept          0.0834340087  3.807658e-02 1.090360e-02  3.4921114\n",
       "trttest            0.0067346942  2.494101e-03 2.579635e-03  0.9668426\n",
       "celltypesmallcell  0.0150155271  7.300549e-03 3.381821e-03  2.1587627\n",
       "celltypeadeno      0.0184104066  1.028376e-02 4.195521e-03  2.4511281\n",
       "celltypelarge     -0.0010918822 -6.210722e-04 2.711566e-03 -0.2290455\n",
       "karno             -0.0011833856 -4.368915e-04 8.768774e-05 -4.9823553\n",
       "diagtime          -0.0002426408 -4.919161e-05 1.642118e-04 -0.2995620\n",
       "age               -0.0002459319 -6.273564e-05 1.277592e-04 -0.4910458\n",
       "priorYes           0.0032957829  1.538811e-03 2.856993e-03  0.5386122\n",
       "                             p\n",
       "Intercept         4.792184e-04\n",
       "trttest           3.336227e-01\n",
       "celltypesmallcell 3.086858e-02\n",
       "celltypeadeno     1.424093e-02\n",
       "celltypelarge     8.188335e-01\n",
       "karno             6.281497e-07\n",
       "diagtime          7.645112e-01\n",
       "age               6.233941e-01\n",
       "priorYes          5.901545e-01\n",
       "\n",
       "$test\n",
       "[1] \"aalen\"\n",
       "\n",
       "$test.statistic\n",
       "        Intercept           trttest celltypesmallcell     celltypeadeno \n",
       "        4.7949431         4.6213275         7.9847658         8.5659448 \n",
       "    celltypelarge             karno          diagtime               age \n",
       "       -0.6784838      -997.3789631       -29.5533276       -50.2363969 \n",
       "         priorYes \n",
       "        2.0960492 \n",
       "\n",
       "$test.var\n",
       "              b0                                                              \n",
       "b0    1.88534461    1.455604  -0.5044595    0.09835332   0.3316444  -199.56718\n",
       "      1.45560390   22.846621   5.2492424    1.31449194   6.5703993  -236.40888\n",
       "     -0.50445948    5.249242  13.6808965    2.23115317   4.8786503    54.68835\n",
       "      0.09835332    1.314492   2.2311532   12.21289235   3.2429099  -146.27902\n",
       "      0.33164437    6.570399   4.8786503    3.24290993   8.7747595   -99.39659\n",
       "   -199.56717812 -236.408880  54.6883468 -146.27902277 -99.3965892 40072.92335\n",
       "    -28.38565691   -7.584671 -89.8768352  -12.04062182 -44.4581191  2995.63838\n",
       "   -111.82679472 -135.336250 -27.0483944   17.02199189 -53.1772399  4739.48616\n",
       "     -0.03573559   -3.615333   1.6415416    2.23777954   0.0709349   -57.84038\n",
       "                                        \n",
       "b0  -28.385657  -111.82679   -0.03573559\n",
       "     -7.584671  -135.33625   -3.61533300\n",
       "    -89.876835   -27.04839    1.64154155\n",
       "    -12.040622    17.02199    2.23777954\n",
       "    -44.458119   -53.17724    0.07093490\n",
       "   2995.638380  4739.48616  -57.84037714\n",
       "   9732.832183  1047.23406 -164.60544987\n",
       "   1047.234062 10466.29692   14.29982592\n",
       "   -164.605450    14.29983   15.14434771\n",
       "\n",
       "$test.var2\n",
       "NULL\n",
       "\n",
       "$chisq\n",
       "         [,1]\n",
       "[1,] 41.61524\n",
       "\n",
       "$n\n",
       "[1] 137  75  97\n",
       "\n",
       "attr(,\"class\")\n",
       "[1] \"summary.aareg\""
      ]
     },
     "metadata": {},
     "output_type": "display_data"
    }
   ],
   "source": [
    "summary(aa_fit)  # provides a more complete summary of results"
   ]
  },
  {
   "cell_type": "code",
   "execution_count": 22,
   "metadata": {},
   "outputs": [
    {
     "data": {
      "image/png": "[encoded data removed]",
      "text/plain": [
       "plot without title"
      ]
     },
     "metadata": {},
     "output_type": "display_data"
    }
   ],
   "source": [
    "autoplot(aa_fit)"
   ]
  },
  {
   "cell_type": "markdown",
   "metadata": {},
   "source": [
    "\n",
    "Herzlichen Glückwunsch! Sie sind mit Lektion 62. fertig!"
   ]
  }
 ],
 "metadata": {
  "kernelspec": {
   "display_name": "R",
   "language": "R",
   "name": "ir"
  },
  "language_info": {
   "codemirror_mode": "r",
   "file_extension": ".r",
   "mimetype": "text/x-r-source",
   "name": "R",
   "pygments_lexer": "r",
   "version": "3.6.1"
  }
 },
 "nbformat": 4,
 "nbformat_minor": 1
}
