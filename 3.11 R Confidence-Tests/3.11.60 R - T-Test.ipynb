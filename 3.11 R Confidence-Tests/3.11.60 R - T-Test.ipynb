{
 "cells": [
  {
   "cell_type": "markdown",
   "metadata": {},
   "source": [
    "# Tag 3. Kapitel 11. R Tests\n",
    "\n",
    "## Lektion 60. Confidence Tests. T-Test\n",
    "\n",
    "### Test 1. Prüfen ob Werk-A statistisch gesehen mehr Produkte als Werk-B produtziert. "
   ]
  },
  {
   "cell_type": "code",
   "execution_count": 20,
   "metadata": {},
   "outputs": [],
   "source": [
    "require(dplyr)"
   ]
  },
  {
   "cell_type": "code",
   "execution_count": 17,
   "metadata": {},
   "outputs": [],
   "source": [
    "# Produktion (A)\n",
    "pa <- c(1184,1203,1219,1238,1243,1204,1269,1256,1156,1248)\n",
    "\n",
    "# Produktion (B)\n",
    "pb <- c(1136,1178,1212,1193,1226,1154,1230,1222,1161,1148)\n"
   ]
  },
  {
   "cell_type": "code",
   "execution_count": 18,
   "metadata": {},
   "outputs": [
    {
     "data": {
      "text/plain": [
       "   Min. 1st Qu.  Median    Mean 3rd Qu.    Max. \n",
       "   1156    1203    1228    1222    1247    1269 "
      ]
     },
     "metadata": {},
     "output_type": "display_data"
    },
    {
     "data": {
      "text/plain": [
       "   Min. 1st Qu.  Median    Mean 3rd Qu.    Max. \n",
       "   1136    1156    1186    1186    1220    1230 "
      ]
     },
     "metadata": {},
     "output_type": "display_data"
    },
    {
     "name": "stdout",
     "output_type": "stream",
     "text": [
      "[1] \"1222  (Mean PA)\"\n",
      "[1] \"1186  (Mean PB)\"\n"
     ]
    }
   ],
   "source": [
    "# Stat. Zusmmen-Fassung\n",
    "summary(pa)\n",
    "summary(pb)\n",
    "\n",
    "mean(pa) %>% paste(\" (Mean PA)\") %>% print()\n",
    "mean(pb) %>% paste(\" (Mean PB)\") %>% print()"
   ]
  },
  {
   "cell_type": "code",
   "execution_count": 19,
   "metadata": {},
   "outputs": [
    {
     "data": {
      "text/plain": [
       "\n",
       "\tWelch Two Sample t-test\n",
       "\n",
       "data:  pa and pb\n",
       "t = 2.2796, df = 18, p-value = 0.9825\n",
       "alternative hypothesis: true difference in means is less than 0\n",
       "95 percent confidence interval:\n",
       "     -Inf 63.38503\n",
       "sample estimates:\n",
       "mean of x mean of y \n",
       "     1222      1186 \n"
      ]
     },
     "metadata": {},
     "output_type": "display_data"
    },
    {
     "data": {
      "image/png": "[encoded data removed]",
      "text/plain": [
       "Plot with title \"Histogram of pa\""
      ]
     },
     "metadata": {},
     "output_type": "display_data"
    },
    {
     "data": {
      "image/png": "[encoded data removed]",
      "text/plain": [
       "Plot with title \"Histogram of pb\""
      ]
     },
     "metadata": {},
     "output_type": "display_data"
    }
   ],
   "source": [
    "# T-Test (einseitig / one-tail)\n",
    "# H0 (Null-Hypotese) - \"pb >= pa\" (greater) - (inverse zur Test-Fragestellung)\n",
    "# H1 (alternative) - \"pb < pa\" (less)\n",
    "test_result_1 <- t.test(pa, pb, alternative = \"less\")\n",
    "test_result_1\n",
    "\n",
    "hist(pa)\n",
    "hist(pb)"
   ]
  },
  {
   "cell_type": "code",
   "execution_count": 14,
   "metadata": {},
   "outputs": [
    {
     "name": "stdout",
     "output_type": "stream",
     "text": [
      "[1] \"Kritischer T-Wert für df=18 und Konfidenz-Interal 95% = 1.734\"\n",
      "[1] \"T-Wert (2.2796) > Kritischer T-Wert, d.h. H0 verwerfen\"\n",
      "[1] \"Test-Ergebnis - alternative H1: pb < pa. D.h. Produktion-B ist tatsächlich geringer\"\n"
     ]
    },
    {
     "data": {
      "text/plain": [
       "\n",
       "\tOne Sample t-test\n",
       "\n",
       "data:  pb\n",
       "t = -1.2542, df = 9, p-value = 0.8793\n",
       "alternative hypothesis: true mean is greater than 1200\n",
       "95 percent confidence interval:\n",
       " 1165.538      Inf\n",
       "sample estimates:\n",
       "mean of x \n",
       "     1186 \n"
      ]
     },
     "metadata": {},
     "output_type": "display_data"
    },
    {
     "name": "stdout",
     "output_type": "stream",
     "text": [
      "[1] \"Konfidenz-Interval gültig - H0 bleibt, d.h. B-Werk stellt im Durchschnitt weinger als 1200 Produkte her\"\n"
     ]
    }
   ],
   "source": [
    "\"Kritischer T-Wert für df=18 und Konfidenz-Interal 95% = 1.734\" %>% print\n",
    "\"T-Wert (2.2796) > Kritischer T-Wert, d.h. H0 verwerfen\" %>% print\n",
    "\"Test-Ergebnis - alternative H1: pb < pa. D.h. Produktion-B ist tatsächlich geringer\" %>% print\n"
   ]
  },
  {
   "cell_type": "code",
   "execution_count": 15,
   "metadata": {},
   "outputs": [
    {
     "data": {
      "text/plain": [
       "\n",
       "\tOne Sample t-test\n",
       "\n",
       "data:  pb\n",
       "t = -1.2542, df = 9, p-value = 0.8793\n",
       "alternative hypothesis: true mean is greater than 1200\n",
       "95 percent confidence interval:\n",
       " 1165.538      Inf\n",
       "sample estimates:\n",
       "mean of x \n",
       "     1186 \n"
      ]
     },
     "metadata": {},
     "output_type": "display_data"
    },
    {
     "name": "stdout",
     "output_type": "stream",
     "text": [
      "[1] \"Konfidenz-Interval gültig - H0 bleibt, d.h. B-Werk stellt im Durchschnitt weinger als 1200 Produkte her\"\n"
     ]
    }
   ],
   "source": [
    "# Testen 2. Stellt B-Werk im Durchschnitt tatsächlich mehr als 1200 Produkten her?\n",
    "# H0 (null): mu von pb <= 1200  \n",
    "# H1 (alternativ): mu von pb > 1200  \n",
    "test_result_2 <- t.test(pb, mu=1200, alternative = \"greater\")\n",
    "test_result_2\n",
    "\"Konfidenz-Interval gültig - H0 bleibt, d.h. B-Werk stellt im Durchschnitt weinger als 1200 Produkte her\" %>% print"
   ]
  },
  {
   "cell_type": "markdown",
   "metadata": {},
   "source": [
    "\n",
    "Herzlichen Glückwunsch! Sie sind mit Lektion 60. fertig!"
   ]
  }
 ],
 "metadata": {
  "kernelspec": {
   "display_name": "R",
   "language": "R",
   "name": "ir"
  },
  "language_info": {
   "codemirror_mode": "r",
   "file_extension": ".r",
   "mimetype": "text/x-r-source",
   "name": "R",
   "pygments_lexer": "r",
   "version": "3.6.1"
  }
 },
 "nbformat": 4,
 "nbformat_minor": 1
}
