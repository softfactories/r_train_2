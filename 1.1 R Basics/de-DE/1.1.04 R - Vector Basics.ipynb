{
 "cells": [
  {
   "cell_type": "markdown",
   "metadata": {},
   "source": [
    "# Tag 1. Kapitel 1. Grundlagen\n",
    "\n",
    "## Lektion 4. Vektoren\n",
    "\n",
    "Vektoren sind wichtigsten Datenstrukturen in R und werden intensiv verwendet. Ein Vektor ist ein eindimensionales Array, das numerische oder alphanumerische oder boolesche(logische) Werte als Elemente beinhalten darf.\n",
    "\n",
    "Man kann einen Vektor in R erstellen, indem man die Zahlenbänder und/oder eine generische Kombinierungsfunktion `c()` verwendet und einzelne Elemente durch Komma getrennt an diese Funktion übergibt.\n",
    "\n",
    "Zum Beispiel:"
   ]
  },
  {
   "cell_type": "code",
   "execution_count": 64,
   "metadata": {},
   "outputs": [
    {
     "data": {
      "text/html": [
       "<ol class=list-inline>\n",
       "\t<li>1</li>\n",
       "\t<li>2</li>\n",
       "\t<li>3</li>\n",
       "\t<li>4</li>\n",
       "\t<li>5</li>\n",
       "\t<li>6</li>\n",
       "\t<li>7</li>\n",
       "\t<li>8</li>\n",
       "\t<li>9</li>\n",
       "\t<li>10</li>\n",
       "</ol>\n"
      ],
      "text/latex": [
       "\\begin{enumerate*}\n",
       "\\item 1\n",
       "\\item 2\n",
       "\\item 3\n",
       "\\item 4\n",
       "\\item 5\n",
       "\\item 6\n",
       "\\item 7\n",
       "\\item 8\n",
       "\\item 9\n",
       "\\item 10\n",
       "\\end{enumerate*}\n"
      ],
      "text/markdown": [
       "1. 1\n",
       "2. 2\n",
       "3. 3\n",
       "4. 4\n",
       "5. 5\n",
       "6. 6\n",
       "7. 7\n",
       "8. 8\n",
       "9. 9\n",
       "10. 10\n",
       "\n",
       "\n"
      ],
      "text/plain": [
       " [1]  1  2  3  4  5  6  7  8  9 10"
      ]
     },
     "metadata": {},
     "output_type": "display_data"
    },
    {
     "data": {
      "text/html": [
       "'integer'"
      ],
      "text/latex": [
       "'integer'"
      ],
      "text/markdown": [
       "'integer'"
      ],
      "text/plain": [
       "[1] \"integer\""
      ]
     },
     "metadata": {},
     "output_type": "display_data"
    }
   ],
   "source": [
    "# einen numerischen Vektor mit einem Zahlenband erstellen\n",
    "nv1 <- 1:10\n",
    "nv1\n",
    "class(nv1)"
   ]
  },
  {
   "cell_type": "code",
   "execution_count": 65,
   "metadata": {},
   "outputs": [
    {
     "data": {
      "text/html": [
       "<ol class=list-inline>\n",
       "\t<li>-5</li>\n",
       "\t<li>-4</li>\n",
       "\t<li>-3</li>\n",
       "\t<li>-2</li>\n",
       "\t<li>-1</li>\n",
       "\t<li>0</li>\n",
       "\t<li>1</li>\n",
       "\t<li>2</li>\n",
       "\t<li>3</li>\n",
       "\t<li>4</li>\n",
       "\t<li>5</li>\n",
       "\t<li>6</li>\n",
       "\t<li>7</li>\n",
       "\t<li>8</li>\n",
       "\t<li>9</li>\n",
       "\t<li>10</li>\n",
       "\t<li>11</li>\n",
       "\t<li>12</li>\n",
       "\t<li>13</li>\n",
       "\t<li>14</li>\n",
       "\t<li>15</li>\n",
       "</ol>\n"
      ],
      "text/latex": [
       "\\begin{enumerate*}\n",
       "\\item -5\n",
       "\\item -4\n",
       "\\item -3\n",
       "\\item -2\n",
       "\\item -1\n",
       "\\item 0\n",
       "\\item 1\n",
       "\\item 2\n",
       "\\item 3\n",
       "\\item 4\n",
       "\\item 5\n",
       "\\item 6\n",
       "\\item 7\n",
       "\\item 8\n",
       "\\item 9\n",
       "\\item 10\n",
       "\\item 11\n",
       "\\item 12\n",
       "\\item 13\n",
       "\\item 14\n",
       "\\item 15\n",
       "\\end{enumerate*}\n"
      ],
      "text/markdown": [
       "1. -5\n",
       "2. -4\n",
       "3. -3\n",
       "4. -2\n",
       "5. -1\n",
       "6. 0\n",
       "7. 1\n",
       "8. 2\n",
       "9. 3\n",
       "10. 4\n",
       "11. 5\n",
       "12. 6\n",
       "13. 7\n",
       "14. 8\n",
       "15. 9\n",
       "16. 10\n",
       "17. 11\n",
       "18. 12\n",
       "19. 13\n",
       "20. 14\n",
       "21. 15\n",
       "\n",
       "\n"
      ],
      "text/plain": [
       " [1] -5 -4 -3 -2 -1  0  1  2  3  4  5  6  7  8  9 10 11 12 13 14 15"
      ]
     },
     "metadata": {},
     "output_type": "display_data"
    },
    {
     "data": {
      "text/html": [
       "'integer'"
      ],
      "text/latex": [
       "'integer'"
      ],
      "text/markdown": [
       "'integer'"
      ],
      "text/plain": [
       "[1] \"integer\""
      ]
     },
     "metadata": {},
     "output_type": "display_data"
    }
   ],
   "source": [
    "nv2 <- -5:15\n",
    "nv2\n",
    "class(nv2)"
   ]
  },
  {
   "cell_type": "code",
   "execution_count": 66,
   "metadata": {},
   "outputs": [
    {
     "data": {
      "text/html": [
       "<ol class=list-inline>\n",
       "\t<li>1</li>\n",
       "\t<li>2</li>\n",
       "\t<li>3</li>\n",
       "\t<li>4</li>\n",
       "\t<li>5</li>\n",
       "\t<li>6</li>\n",
       "\t<li>7</li>\n",
       "\t<li>8</li>\n",
       "\t<li>9</li>\n",
       "\t<li>10</li>\n",
       "</ol>\n"
      ],
      "text/latex": [
       "\\begin{enumerate*}\n",
       "\\item 1\n",
       "\\item 2\n",
       "\\item 3\n",
       "\\item 4\n",
       "\\item 5\n",
       "\\item 6\n",
       "\\item 7\n",
       "\\item 8\n",
       "\\item 9\n",
       "\\item 10\n",
       "\\end{enumerate*}\n"
      ],
      "text/markdown": [
       "1. 1\n",
       "2. 2\n",
       "3. 3\n",
       "4. 4\n",
       "5. 5\n",
       "6. 6\n",
       "7. 7\n",
       "8. 8\n",
       "9. 9\n",
       "10. 10\n",
       "\n",
       "\n"
      ],
      "text/plain": [
       " [1]  1  2  3  4  5  6  7  8  9 10"
      ]
     },
     "metadata": {},
     "output_type": "display_data"
    },
    {
     "data": {
      "text/html": [
       "'numeric'"
      ],
      "text/latex": [
       "'numeric'"
      ],
      "text/markdown": [
       "'numeric'"
      ],
      "text/plain": [
       "[1] \"numeric\""
      ]
     },
     "metadata": {},
     "output_type": "display_data"
    },
    {
     "data": {
      "text/html": [
       "<ol class=list-inline>\n",
       "\t<li>0.5</li>\n",
       "\t<li>0.6</li>\n",
       "\t<li>0.7</li>\n",
       "\t<li>0.8</li>\n",
       "\t<li>0.9</li>\n",
       "\t<li>1</li>\n",
       "</ol>\n"
      ],
      "text/latex": [
       "\\begin{enumerate*}\n",
       "\\item 0.5\n",
       "\\item 0.6\n",
       "\\item 0.7\n",
       "\\item 0.8\n",
       "\\item 0.9\n",
       "\\item 1\n",
       "\\end{enumerate*}\n"
      ],
      "text/markdown": [
       "1. 0.5\n",
       "2. 0.6\n",
       "3. 0.7\n",
       "4. 0.8\n",
       "5. 0.9\n",
       "6. 1\n",
       "\n",
       "\n"
      ],
      "text/plain": [
       "[1] 0.5 0.6 0.7 0.8 0.9 1.0"
      ]
     },
     "metadata": {},
     "output_type": "display_data"
    },
    {
     "data": {
      "text/html": [
       "'numeric'"
      ],
      "text/latex": [
       "'numeric'"
      ],
      "text/markdown": [
       "'numeric'"
      ],
      "text/plain": [
       "[1] \"numeric\""
      ]
     },
     "metadata": {},
     "output_type": "display_data"
    }
   ],
   "source": [
    "# einen numerischen Vektor mit c()-Funktion erstellen\n",
    "nv1b <- c(1,2,3,4,5,6,7,8,9,10)\n",
    "nv1b\n",
    "class(nv1b)\n",
    "\n",
    "nv1c <- c(0.5, .6, .7, 0.8, 0.9, 1.0)\n",
    "nv1c\n",
    "class(nv1c)"
   ]
  },
  {
   "cell_type": "code",
   "execution_count": 67,
   "metadata": {},
   "outputs": [
    {
     "data": {
      "text/html": [
       "<ol class=list-inline>\n",
       "\t<li>'A'</li>\n",
       "\t<li>'B'</li>\n",
       "\t<li>'C'</li>\n",
       "\t<li>'D'</li>\n",
       "\t<li>'E'</li>\n",
       "</ol>\n"
      ],
      "text/latex": [
       "\\begin{enumerate*}\n",
       "\\item 'A'\n",
       "\\item 'B'\n",
       "\\item 'C'\n",
       "\\item 'D'\n",
       "\\item 'E'\n",
       "\\end{enumerate*}\n"
      ],
      "text/markdown": [
       "1. 'A'\n",
       "2. 'B'\n",
       "3. 'C'\n",
       "4. 'D'\n",
       "5. 'E'\n",
       "\n",
       "\n"
      ],
      "text/plain": [
       "[1] \"A\" \"B\" \"C\" \"D\" \"E\""
      ]
     },
     "metadata": {},
     "output_type": "display_data"
    },
    {
     "data": {
      "text/html": [
       "'character'"
      ],
      "text/latex": [
       "'character'"
      ],
      "text/markdown": [
       "'character'"
      ],
      "text/plain": [
       "[1] \"character\""
      ]
     },
     "metadata": {},
     "output_type": "display_data"
    },
    {
     "data": {
      "text/html": [
       "<ol class=list-inline>\n",
       "\t<li>'Montag'</li>\n",
       "\t<li>'Dienstag'</li>\n",
       "\t<li>'Mittwoch'</li>\n",
       "\t<li>'Donnerstag'</li>\n",
       "\t<li>'Freitag'</li>\n",
       "\t<li>'Samstag'</li>\n",
       "\t<li>'Sonntag'</li>\n",
       "</ol>\n"
      ],
      "text/latex": [
       "\\begin{enumerate*}\n",
       "\\item 'Montag'\n",
       "\\item 'Dienstag'\n",
       "\\item 'Mittwoch'\n",
       "\\item 'Donnerstag'\n",
       "\\item 'Freitag'\n",
       "\\item 'Samstag'\n",
       "\\item 'Sonntag'\n",
       "\\end{enumerate*}\n"
      ],
      "text/markdown": [
       "1. 'Montag'\n",
       "2. 'Dienstag'\n",
       "3. 'Mittwoch'\n",
       "4. 'Donnerstag'\n",
       "5. 'Freitag'\n",
       "6. 'Samstag'\n",
       "7. 'Sonntag'\n",
       "\n",
       "\n"
      ],
      "text/plain": [
       "[1] \"Montag\"     \"Dienstag\"   \"Mittwoch\"   \"Donnerstag\" \"Freitag\"   \n",
       "[6] \"Samstag\"    \"Sonntag\"   "
      ]
     },
     "metadata": {},
     "output_type": "display_data"
    },
    {
     "data": {
      "text/html": [
       "'integer'"
      ],
      "text/latex": [
       "'integer'"
      ],
      "text/markdown": [
       "'integer'"
      ],
      "text/plain": [
       "[1] \"integer\""
      ]
     },
     "metadata": {},
     "output_type": "display_data"
    }
   ],
   "source": [
    "# einen String-Vektor mit c()-Funktion erstellen\n",
    "nc1 <- c('A', 'B', 'C', 'D', 'E')\n",
    "nc1\n",
    "class(nc1)\n",
    "\n",
    "nc2 <- c(\"Montag\", \"Dienstag\", \"Mittwoch\", \"Donnerstag\", \"Freitag\", \"Samstag\", \"Sonntag\")\n",
    "nc2\n",
    "class(nv2)"
   ]
  },
  {
   "cell_type": "code",
   "execution_count": 68,
   "metadata": {},
   "outputs": [
    {
     "data": {
      "text/html": [
       "<ol class=list-inline>\n",
       "\t<li>'A'</li>\n",
       "\t<li>'B'</li>\n",
       "\t<li>'C'</li>\n",
       "\t<li>'D'</li>\n",
       "\t<li>'E'</li>\n",
       "</ol>\n"
      ],
      "text/latex": [
       "\\begin{enumerate*}\n",
       "\\item 'A'\n",
       "\\item 'B'\n",
       "\\item 'C'\n",
       "\\item 'D'\n",
       "\\item 'E'\n",
       "\\end{enumerate*}\n"
      ],
      "text/markdown": [
       "1. 'A'\n",
       "2. 'B'\n",
       "3. 'C'\n",
       "4. 'D'\n",
       "5. 'E'\n",
       "\n",
       "\n"
      ],
      "text/plain": [
       "[1] \"A\" \"B\" \"C\" \"D\" \"E\""
      ]
     },
     "metadata": {},
     "output_type": "display_data"
    },
    {
     "data": {
      "text/html": [
       "'character'"
      ],
      "text/latex": [
       "'character'"
      ],
      "text/markdown": [
       "'character'"
      ],
      "text/plain": [
       "[1] \"character\""
      ]
     },
     "metadata": {},
     "output_type": "display_data"
    },
    {
     "data": {
      "text/html": [
       "<ol class=list-inline>\n",
       "\t<li>'a'</li>\n",
       "\t<li>'b'</li>\n",
       "\t<li>'c'</li>\n",
       "\t<li>'d'</li>\n",
       "\t<li>'e'</li>\n",
       "\t<li>'f'</li>\n",
       "\t<li>'g'</li>\n",
       "\t<li>'h'</li>\n",
       "\t<li>'i'</li>\n",
       "\t<li>'j'</li>\n",
       "\t<li>'k'</li>\n",
       "\t<li>'l'</li>\n",
       "\t<li>'m'</li>\n",
       "\t<li>'n'</li>\n",
       "\t<li>'o'</li>\n",
       "\t<li>'p'</li>\n",
       "\t<li>'q'</li>\n",
       "\t<li>'r'</li>\n",
       "\t<li>'s'</li>\n",
       "\t<li>'t'</li>\n",
       "\t<li>'u'</li>\n",
       "\t<li>'v'</li>\n",
       "\t<li>'w'</li>\n",
       "\t<li>'x'</li>\n",
       "\t<li>'y'</li>\n",
       "\t<li>'z'</li>\n",
       "</ol>\n"
      ],
      "text/latex": [
       "\\begin{enumerate*}\n",
       "\\item 'a'\n",
       "\\item 'b'\n",
       "\\item 'c'\n",
       "\\item 'd'\n",
       "\\item 'e'\n",
       "\\item 'f'\n",
       "\\item 'g'\n",
       "\\item 'h'\n",
       "\\item 'i'\n",
       "\\item 'j'\n",
       "\\item 'k'\n",
       "\\item 'l'\n",
       "\\item 'm'\n",
       "\\item 'n'\n",
       "\\item 'o'\n",
       "\\item 'p'\n",
       "\\item 'q'\n",
       "\\item 'r'\n",
       "\\item 's'\n",
       "\\item 't'\n",
       "\\item 'u'\n",
       "\\item 'v'\n",
       "\\item 'w'\n",
       "\\item 'x'\n",
       "\\item 'y'\n",
       "\\item 'z'\n",
       "\\end{enumerate*}\n"
      ],
      "text/markdown": [
       "1. 'a'\n",
       "2. 'b'\n",
       "3. 'c'\n",
       "4. 'd'\n",
       "5. 'e'\n",
       "6. 'f'\n",
       "7. 'g'\n",
       "8. 'h'\n",
       "9. 'i'\n",
       "10. 'j'\n",
       "11. 'k'\n",
       "12. 'l'\n",
       "13. 'm'\n",
       "14. 'n'\n",
       "15. 'o'\n",
       "16. 'p'\n",
       "17. 'q'\n",
       "18. 'r'\n",
       "19. 's'\n",
       "20. 't'\n",
       "21. 'u'\n",
       "22. 'v'\n",
       "23. 'w'\n",
       "24. 'x'\n",
       "25. 'y'\n",
       "26. 'z'\n",
       "\n",
       "\n"
      ],
      "text/plain": [
       " [1] \"a\" \"b\" \"c\" \"d\" \"e\" \"f\" \"g\" \"h\" \"i\" \"j\" \"k\" \"l\" \"m\" \"n\" \"o\" \"p\" \"q\" \"r\" \"s\"\n",
       "[20] \"t\" \"u\" \"v\" \"w\" \"x\" \"y\" \"z\""
      ]
     },
     "metadata": {},
     "output_type": "display_data"
    },
    {
     "data": {
      "text/html": [
       "'character'"
      ],
      "text/latex": [
       "'character'"
      ],
      "text/markdown": [
       "'character'"
      ],
      "text/plain": [
       "[1] \"character\""
      ]
     },
     "metadata": {},
     "output_type": "display_data"
    },
    {
     "data": {
      "text/html": [
       "<ol class=list-inline>\n",
       "\t<li>'a'</li>\n",
       "\t<li>'b'</li>\n",
       "\t<li>'c'</li>\n",
       "\t<li>'d'</li>\n",
       "\t<li>'e'</li>\n",
       "</ol>\n"
      ],
      "text/latex": [
       "\\begin{enumerate*}\n",
       "\\item 'a'\n",
       "\\item 'b'\n",
       "\\item 'c'\n",
       "\\item 'd'\n",
       "\\item 'e'\n",
       "\\end{enumerate*}\n"
      ],
      "text/markdown": [
       "1. 'a'\n",
       "2. 'b'\n",
       "3. 'c'\n",
       "4. 'd'\n",
       "5. 'e'\n",
       "\n",
       "\n"
      ],
      "text/plain": [
       "[1] \"a\" \"b\" \"c\" \"d\" \"e\""
      ]
     },
     "metadata": {},
     "output_type": "display_data"
    },
    {
     "data": {
      "text/html": [
       "'character'"
      ],
      "text/latex": [
       "'character'"
      ],
      "text/markdown": [
       "'character'"
      ],
      "text/plain": [
       "[1] \"character\""
      ]
     },
     "metadata": {},
     "output_type": "display_data"
    }
   ],
   "source": [
    "# einen String-Vektor aus einem in R eingebautem Konstanten-Array\n",
    "nc4_letters <- LETTERS[1:5]\n",
    "nc4_letters\n",
    "class(nc4_letters)\n",
    "\n",
    "nc4_letters <- letters\n",
    "nc4_letters\n",
    "class(nc4_letters)\n",
    "\n",
    "nc4_letters <- letters[1:5]\n",
    "nc4_letters\n",
    "class(nc4_letters)"
   ]
  },
  {
   "cell_type": "code",
   "execution_count": 69,
   "metadata": {},
   "outputs": [],
   "source": [
    "#einen logischen (booleschen) Vektor mit C()-Funktion erstellen (TRUE und FALSE großgeschrieben)\n",
    "lv1 <- c(TRUE, FALSE)"
   ]
  },
  {
   "cell_type": "code",
   "execution_count": 70,
   "metadata": {},
   "outputs": [
    {
     "data": {
      "text/html": [
       "<ol class=list-inline>\n",
       "\t<li>TRUE</li>\n",
       "\t<li>FALSE</li>\n",
       "</ol>\n"
      ],
      "text/latex": [
       "\\begin{enumerate*}\n",
       "\\item TRUE\n",
       "\\item FALSE\n",
       "\\end{enumerate*}\n"
      ],
      "text/markdown": [
       "1. TRUE\n",
       "2. FALSE\n",
       "\n",
       "\n"
      ],
      "text/plain": [
       "[1]  TRUE FALSE"
      ]
     },
     "metadata": {},
     "output_type": "display_data"
    }
   ],
   "source": [
    "lv1"
   ]
  },
  {
   "cell_type": "code",
   "execution_count": 71,
   "metadata": {},
   "outputs": [
    {
     "data": {
      "text/html": [
       "'logical'"
      ],
      "text/latex": [
       "'logical'"
      ],
      "text/markdown": [
       "'logical'"
      ],
      "text/plain": [
       "[1] \"logical\""
      ]
     },
     "metadata": {},
     "output_type": "display_data"
    }
   ],
   "source": [
    "class(lv1)"
   ]
  },
  {
   "cell_type": "markdown",
   "metadata": {},
   "source": [
    "### Achtung!\n",
    "Alle Vektoren-ELemnte sollen *gleiche* Datentypen bekommen. Man darf, also, die Elementen-Typen in einem Array nicht mischen. R wird versuchen die Elementen-Typen umzuwandeln und damit die Gleichheit des erwateten Datentyps zu erzwingen. (Zur Info: in einer *Listen*-Datenstruktur darf man mehrere Datentypen speichern - s. weietere Lektionen)\n",
    "\n",
    "So werden mehrfache Datentypen umgewandelt:"
   ]
  },
  {
   "cell_type": "code",
   "execution_count": 72,
   "metadata": {},
   "outputs": [],
   "source": [
    "vul <- c(FALSE,TRUE,2,9,1)"
   ]
  },
  {
   "cell_type": "code",
   "execution_count": 73,
   "metadata": {},
   "outputs": [
    {
     "data": {
      "text/html": [
       "<ol class=list-inline>\n",
       "\t<li>0</li>\n",
       "\t<li>1</li>\n",
       "\t<li>2</li>\n",
       "\t<li>9</li>\n",
       "\t<li>1</li>\n",
       "</ol>\n"
      ],
      "text/latex": [
       "\\begin{enumerate*}\n",
       "\\item 0\n",
       "\\item 1\n",
       "\\item 2\n",
       "\\item 9\n",
       "\\item 1\n",
       "\\end{enumerate*}\n"
      ],
      "text/markdown": [
       "1. 0\n",
       "2. 1\n",
       "3. 2\n",
       "4. 9\n",
       "5. 1\n",
       "\n",
       "\n"
      ],
      "text/plain": [
       "[1] 0 1 2 9 1"
      ]
     },
     "metadata": {},
     "output_type": "display_data"
    }
   ],
   "source": [
    "vul"
   ]
  },
  {
   "cell_type": "code",
   "execution_count": 74,
   "metadata": {},
   "outputs": [
    {
     "data": {
      "text/html": [
       "'numeric'"
      ],
      "text/latex": [
       "'numeric'"
      ],
      "text/markdown": [
       "'numeric'"
      ],
      "text/plain": [
       "[1] \"numeric\""
      ]
     },
     "metadata": {},
     "output_type": "display_data"
    }
   ],
   "source": [
    "class(vul)"
   ]
  },
  {
   "cell_type": "code",
   "execution_count": 75,
   "metadata": {},
   "outputs": [],
   "source": [
    "vuc <- c('A',1,2,3,'B',FALSE)"
   ]
  },
  {
   "cell_type": "code",
   "execution_count": 76,
   "metadata": {},
   "outputs": [
    {
     "data": {
      "text/html": [
       "<ol class=list-inline>\n",
       "\t<li>'A'</li>\n",
       "\t<li>'1'</li>\n",
       "\t<li>'2'</li>\n",
       "\t<li>'3'</li>\n",
       "\t<li>'B'</li>\n",
       "\t<li>'FALSE'</li>\n",
       "</ol>\n"
      ],
      "text/latex": [
       "\\begin{enumerate*}\n",
       "\\item 'A'\n",
       "\\item '1'\n",
       "\\item '2'\n",
       "\\item '3'\n",
       "\\item 'B'\n",
       "\\item 'FALSE'\n",
       "\\end{enumerate*}\n"
      ],
      "text/markdown": [
       "1. 'A'\n",
       "2. '1'\n",
       "3. '2'\n",
       "4. '3'\n",
       "5. 'B'\n",
       "6. 'FALSE'\n",
       "\n",
       "\n"
      ],
      "text/plain": [
       "[1] \"A\"     \"1\"     \"2\"     \"3\"     \"B\"     \"FALSE\""
      ]
     },
     "metadata": {},
     "output_type": "display_data"
    }
   ],
   "source": [
    "vuc"
   ]
  },
  {
   "cell_type": "code",
   "execution_count": 77,
   "metadata": {},
   "outputs": [
    {
     "data": {
      "text/html": [
       "'character'"
      ],
      "text/latex": [
       "'character'"
      ],
      "text/markdown": [
       "'character'"
      ],
      "text/plain": [
       "[1] \"character\""
      ]
     },
     "metadata": {},
     "output_type": "display_data"
    }
   ],
   "source": [
    "class(vuc)"
   ]
  },
  {
   "cell_type": "markdown",
   "metadata": {},
   "source": [
    "## Namen in Vektoren\n",
    "\n",
    "Um den Vektor-Elementen die Namen zuzuweisen, darf man die `names()` Funktion verwenden. \n",
    "\n",
    "Zu Beispiel man kann die Körpertemperatur-Messwert eines Patienten zu den Tagen einer gegebener Woche wie folgt zuordnen:"
   ]
  },
  {
   "cell_type": "code",
   "execution_count": 78,
   "metadata": {},
   "outputs": [],
   "source": [
    "temp_week_pateint_1 <- c(37.8,38.2,39.9,37.1,35.9,36.2,36.6)"
   ]
  },
  {
   "cell_type": "code",
   "execution_count": 79,
   "metadata": {},
   "outputs": [
    {
     "data": {
      "text/html": [
       "<ol class=list-inline>\n",
       "\t<li>37.8</li>\n",
       "\t<li>38.2</li>\n",
       "\t<li>39.9</li>\n",
       "\t<li>37.1</li>\n",
       "\t<li>35.9</li>\n",
       "\t<li>36.2</li>\n",
       "\t<li>36.6</li>\n",
       "</ol>\n"
      ],
      "text/latex": [
       "\\begin{enumerate*}\n",
       "\\item 37.8\n",
       "\\item 38.2\n",
       "\\item 39.9\n",
       "\\item 37.1\n",
       "\\item 35.9\n",
       "\\item 36.2\n",
       "\\item 36.6\n",
       "\\end{enumerate*}\n"
      ],
      "text/markdown": [
       "1. 37.8\n",
       "2. 38.2\n",
       "3. 39.9\n",
       "4. 37.1\n",
       "5. 35.9\n",
       "6. 36.2\n",
       "7. 36.6\n",
       "\n",
       "\n"
      ],
      "text/plain": [
       "[1] 37.8 38.2 39.9 37.1 35.9 36.2 36.6"
      ]
     },
     "metadata": {},
     "output_type": "display_data"
    }
   ],
   "source": [
    "temp_week_pateint_1"
   ]
  },
  {
   "cell_type": "code",
   "execution_count": 80,
   "metadata": {},
   "outputs": [],
   "source": [
    "names(temp_week_pateint_1) <- c('Mo','Di','Mi','Do','Fr','Sa','So')"
   ]
  },
  {
   "cell_type": "markdown",
   "metadata": {},
   "source": [
    "Lassen wir nun den Vektor ausgeben:"
   ]
  },
  {
   "cell_type": "code",
   "execution_count": 81,
   "metadata": {},
   "outputs": [
    {
     "data": {
      "text/html": [
       "<dl class=dl-horizontal>\n",
       "\t<dt>Mo</dt>\n",
       "\t\t<dd>37.8</dd>\n",
       "\t<dt>Di</dt>\n",
       "\t\t<dd>38.2</dd>\n",
       "\t<dt>Mi</dt>\n",
       "\t\t<dd>39.9</dd>\n",
       "\t<dt>Do</dt>\n",
       "\t\t<dd>37.1</dd>\n",
       "\t<dt>Fr</dt>\n",
       "\t\t<dd>35.9</dd>\n",
       "\t<dt>Sa</dt>\n",
       "\t\t<dd>36.2</dd>\n",
       "\t<dt>So</dt>\n",
       "\t\t<dd>36.6</dd>\n",
       "</dl>\n"
      ],
      "text/latex": [
       "\\begin{description*}\n",
       "\\item[Mo] 37.8\n",
       "\\item[Di] 38.2\n",
       "\\item[Mi] 39.9\n",
       "\\item[Do] 37.1\n",
       "\\item[Fr] 35.9\n",
       "\\item[Sa] 36.2\n",
       "\\item[So] 36.6\n",
       "\\end{description*}\n"
      ],
      "text/markdown": [
       "Mo\n",
       ":   37.8Di\n",
       ":   38.2Mi\n",
       ":   39.9Do\n",
       ":   37.1Fr\n",
       ":   35.9Sa\n",
       ":   36.2So\n",
       ":   36.6\n",
       "\n"
      ],
      "text/plain": [
       "  Mo   Di   Mi   Do   Fr   Sa   So \n",
       "37.8 38.2 39.9 37.1 35.9 36.2 36.6 "
      ]
     },
     "metadata": {},
     "output_type": "display_data"
    }
   ],
   "source": [
    "temp_week_pateint_1"
   ]
  },
  {
   "cell_type": "markdown",
   "metadata": {},
   "source": [
    "Man sieht nun die benannte Vektor-Elemente. Zur Info: in manchen IDEs (z.B. in R Studio) kann passieren, dass solche Auflistung horizontal dargestellt wird. Das ist in Ordnung.\n",
    "\n",
    "Für mehrfache Verwendung kann man den Namensvektor einer Variable zuweisen. Zum Beispiel:"
   ]
  },
  {
   "cell_type": "code",
   "execution_count": 85,
   "metadata": {},
   "outputs": [],
   "source": [
    "week_days <- c('Mo','Di','Mi','Do','Fr','Sa','So')\n",
    "\n",
    "temp_week_pateint_1 <- c(36.8,37.2,37.9,37.1,36.6,36.6,36.6)\n",
    "temp_week_pateint_2 <- c(39.8,40.3,40.1,35.2,36.6)\n",
    "\n",
    "names(temp_week_pateint_1) <- week_days\n",
    "names(temp_week_pateint_2) <- week_days[1:5]"
   ]
  },
  {
   "cell_type": "code",
   "execution_count": 86,
   "metadata": {},
   "outputs": [
    {
     "data": {
      "text/html": [
       "<dl class=dl-horizontal>\n",
       "\t<dt>Mo</dt>\n",
       "\t\t<dd>36.8</dd>\n",
       "\t<dt>Di</dt>\n",
       "\t\t<dd>37.2</dd>\n",
       "\t<dt>Mi</dt>\n",
       "\t\t<dd>37.9</dd>\n",
       "\t<dt>Do</dt>\n",
       "\t\t<dd>37.1</dd>\n",
       "\t<dt>Fr</dt>\n",
       "\t\t<dd>36.6</dd>\n",
       "\t<dt>Sa</dt>\n",
       "\t\t<dd>36.6</dd>\n",
       "\t<dt>So</dt>\n",
       "\t\t<dd>36.6</dd>\n",
       "</dl>\n"
      ],
      "text/latex": [
       "\\begin{description*}\n",
       "\\item[Mo] 36.8\n",
       "\\item[Di] 37.2\n",
       "\\item[Mi] 37.9\n",
       "\\item[Do] 37.1\n",
       "\\item[Fr] 36.6\n",
       "\\item[Sa] 36.6\n",
       "\\item[So] 36.6\n",
       "\\end{description*}\n"
      ],
      "text/markdown": [
       "Mo\n",
       ":   36.8Di\n",
       ":   37.2Mi\n",
       ":   37.9Do\n",
       ":   37.1Fr\n",
       ":   36.6Sa\n",
       ":   36.6So\n",
       ":   36.6\n",
       "\n"
      ],
      "text/plain": [
       "  Mo   Di   Mi   Do   Fr   Sa   So \n",
       "36.8 37.2 37.9 37.1 36.6 36.6 36.6 "
      ]
     },
     "metadata": {},
     "output_type": "display_data"
    }
   ],
   "source": [
    "temp_week_pateint_1"
   ]
  },
  {
   "cell_type": "code",
   "execution_count": 88,
   "metadata": {},
   "outputs": [
    {
     "data": {
      "text/html": [
       "<dl class=dl-horizontal>\n",
       "\t<dt>Mo</dt>\n",
       "\t\t<dd>39.8</dd>\n",
       "\t<dt>Di</dt>\n",
       "\t\t<dd>40.3</dd>\n",
       "\t<dt>Mi</dt>\n",
       "\t\t<dd>40.1</dd>\n",
       "\t<dt>Do</dt>\n",
       "\t\t<dd>35.2</dd>\n",
       "\t<dt>Fr</dt>\n",
       "\t\t<dd>36.6</dd>\n",
       "</dl>\n"
      ],
      "text/latex": [
       "\\begin{description*}\n",
       "\\item[Mo] 39.8\n",
       "\\item[Di] 40.3\n",
       "\\item[Mi] 40.1\n",
       "\\item[Do] 35.2\n",
       "\\item[Fr] 36.6\n",
       "\\end{description*}\n"
      ],
      "text/markdown": [
       "Mo\n",
       ":   39.8Di\n",
       ":   40.3Mi\n",
       ":   40.1Do\n",
       ":   35.2Fr\n",
       ":   36.6\n",
       "\n"
      ],
      "text/plain": [
       "  Mo   Di   Mi   Do   Fr \n",
       "39.8 40.3 40.1 35.2 36.6 "
      ]
     },
     "metadata": {},
     "output_type": "display_data"
    }
   ],
   "source": [
    "temp_week_pateint_2"
   ]
  },
  {
   "cell_type": "markdown",
   "metadata": {},
   "source": [
    "Das waren Hauptpunkte zum Thema \"Vektoren\". Nun können Sie damit beginnen die R-Vektoren einzusetzen!\n",
    "\n",
    "Herzlichen Glückwunsch! Sie sind mit Lektion 4 fertig."
   ]
  }
 ],
 "metadata": {
  "kernelspec": {
   "display_name": "R",
   "language": "R",
   "name": "ir"
  },
  "language_info": {
   "codemirror_mode": "r",
   "file_extension": ".r",
   "mimetype": "text/x-r-source",
   "name": "R",
   "pygments_lexer": "r",
   "version": "3.5.1"
  }
 },
 "nbformat": 4,
 "nbformat_minor": 1
}
