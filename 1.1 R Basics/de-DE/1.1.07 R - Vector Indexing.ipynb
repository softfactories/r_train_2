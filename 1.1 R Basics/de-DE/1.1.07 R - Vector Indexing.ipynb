{
 "cells": [
  {
   "cell_type": "markdown",
   "metadata": {},
   "source": [
    "# Tag 1. Kapitel 1. Grundlagen\n",
    "\n",
    "## Lektion 7. Indexierung und Ausschneiden von Vektoren\n",
    "\n",
    "Zur Vektor-Indexierung verwendet man in R \"eckige\" Klammern. \n",
    "\n",
    "Angenommen man hat folgende 2 Vektoren gegeben:"
   ]
  },
  {
   "cell_type": "code",
   "execution_count": 1,
   "metadata": {},
   "outputs": [],
   "source": [
    "v1 <- c(1,10,100,1000)\n",
    "v2 <- c('o','l','H','l','e')"
   ]
  },
  {
   "cell_type": "code",
   "execution_count": 2,
   "metadata": {},
   "outputs": [
    {
     "data": {
      "text/html": [
       "<ol class=list-inline>\n",
       "\t<li>1</li>\n",
       "\t<li>10</li>\n",
       "\t<li>100</li>\n",
       "\t<li>1000</li>\n",
       "</ol>\n"
      ],
      "text/latex": [
       "\\begin{enumerate*}\n",
       "\\item 1\n",
       "\\item 10\n",
       "\\item 100\n",
       "\\item 1000\n",
       "\\end{enumerate*}\n"
      ],
      "text/markdown": [
       "1. 1\n",
       "2. 10\n",
       "3. 100\n",
       "4. 1000\n",
       "\n",
       "\n"
      ],
      "text/plain": [
       "[1]    1   10  100 1000"
      ]
     },
     "metadata": {},
     "output_type": "display_data"
    },
    {
     "data": {
      "text/html": [
       "<ol class=list-inline>\n",
       "\t<li>'o'</li>\n",
       "\t<li>'l'</li>\n",
       "\t<li>'H'</li>\n",
       "\t<li>'l'</li>\n",
       "\t<li>'e'</li>\n",
       "</ol>\n"
      ],
      "text/latex": [
       "\\begin{enumerate*}\n",
       "\\item 'o'\n",
       "\\item 'l'\n",
       "\\item 'H'\n",
       "\\item 'l'\n",
       "\\item 'e'\n",
       "\\end{enumerate*}\n"
      ],
      "text/markdown": [
       "1. 'o'\n",
       "2. 'l'\n",
       "3. 'H'\n",
       "4. 'l'\n",
       "5. 'e'\n",
       "\n",
       "\n"
      ],
      "text/plain": [
       "[1] \"o\" \"l\" \"H\" \"l\" \"e\""
      ]
     },
     "metadata": {},
     "output_type": "display_data"
    }
   ],
   "source": [
    "v1\n",
    "v2"
   ]
  },
  {
   "cell_type": "markdown",
   "metadata": {},
   "source": [
    "Die Indizierung funktioniert dann folgendermaßen: man übergibt in \"rechteckigen\" Klammern die Position des Elements als Zahl. *Die Indizierung beginnt in R bei einer 1* (dagegen in vielen anderen Sprachen wie z.B. Python oder Java gilt die 0 als Index eines ersten Elements)."
   ]
  },
  {
   "cell_type": "code",
   "execution_count": 3,
   "metadata": {},
   "outputs": [
    {
     "data": {
      "text/html": [
       "100"
      ],
      "text/latex": [
       "100"
      ],
      "text/markdown": [
       "100"
      ],
      "text/plain": [
       "[1] 100"
      ]
     },
     "metadata": {},
     "output_type": "display_data"
    }
   ],
   "source": [
    "# Das dritte Element des v1-Vektors\n",
    "v1[3]"
   ]
  },
  {
   "cell_type": "code",
   "execution_count": 4,
   "metadata": {},
   "outputs": [
    {
     "data": {
      "text/html": [
       "'o'"
      ],
      "text/latex": [
       "'o'"
      ],
      "text/markdown": [
       "'o'"
      ],
      "text/plain": [
       "[1] \"o\""
      ]
     },
     "metadata": {},
     "output_type": "display_data"
    }
   ],
   "source": [
    "# Das erste Element des v2-Vektors\n",
    "v2[1]"
   ]
  },
  {
   "cell_type": "markdown",
   "metadata": {},
   "source": [
    "## Indexierung von mehrereren Elementen\n",
    "\n",
    "Hier statt einer einzelnen Index-Zahl gibt man den Index-Vektor ab. Zum Beispiel:"
   ]
  },
  {
   "cell_type": "code",
   "execution_count": 8,
   "metadata": {},
   "outputs": [
    {
     "data": {
      "text/html": [
       "<ol class=list-inline>\n",
       "\t<li>1</li>\n",
       "\t<li>100</li>\n",
       "</ol>\n"
      ],
      "text/latex": [
       "\\begin{enumerate*}\n",
       "\\item 1\n",
       "\\item 100\n",
       "\\end{enumerate*}\n"
      ],
      "text/markdown": [
       "1. 1\n",
       "2. 100\n",
       "\n",
       "\n"
      ],
      "text/plain": [
       "[1]   1 100"
      ]
     },
     "metadata": {},
     "output_type": "display_data"
    },
    {
     "data": {
      "text/html": [
       "<ol class=list-inline>\n",
       "\t<li>10</li>\n",
       "\t<li>100</li>\n",
       "\t<li>1000</li>\n",
       "</ol>\n"
      ],
      "text/latex": [
       "\\begin{enumerate*}\n",
       "\\item 10\n",
       "\\item 100\n",
       "\\item 1000\n",
       "\\end{enumerate*}\n"
      ],
      "text/markdown": [
       "1. 10\n",
       "2. 100\n",
       "3. 1000\n",
       "\n",
       "\n"
      ],
      "text/plain": [
       "[1]   10  100 1000"
      ]
     },
     "metadata": {},
     "output_type": "display_data"
    }
   ],
   "source": [
    "v1[c(1,3)]\n",
    "v1[2:4]"
   ]
  },
  {
   "cell_type": "code",
   "execution_count": 6,
   "metadata": {},
   "outputs": [
    {
     "data": {
      "text/html": [
       "<ol class=list-inline>\n",
       "\t<li>'H'</li>\n",
       "\t<li>'e'</li>\n",
       "\t<li>'l'</li>\n",
       "\t<li>'l'</li>\n",
       "\t<li>'o'</li>\n",
       "</ol>\n"
      ],
      "text/latex": [
       "\\begin{enumerate*}\n",
       "\\item 'H'\n",
       "\\item 'e'\n",
       "\\item 'l'\n",
       "\\item 'l'\n",
       "\\item 'o'\n",
       "\\end{enumerate*}\n"
      ],
      "text/markdown": [
       "1. 'H'\n",
       "2. 'e'\n",
       "3. 'l'\n",
       "4. 'l'\n",
       "5. 'o'\n",
       "\n",
       "\n"
      ],
      "text/plain": [
       "[1] \"H\" \"e\" \"l\" \"l\" \"o\""
      ]
     },
     "metadata": {},
     "output_type": "display_data"
    }
   ],
   "source": [
    "v2[c(3,5,4,2,1)]"
   ]
  },
  {
   "cell_type": "markdown",
   "metadata": {},
   "source": [
    "## Ausschneiden des Teil-Vektors\n",
    "\n",
    "Man wendet #einen Doppelpunkt (`:`) an, um ein Stück eines Vektors auszuschneiden. Das Format sieht wie folgt aus:\n",
    "\n",
    "    vector[start_index:stop_index]\n",
    "    \n",
    "Man bekommt damit ein \"Stück\" des \"Vektor-Kuchen\" als Ausgabe. Zum Beispiel:"
   ]
  },
  {
   "cell_type": "code",
   "execution_count": 9,
   "metadata": {},
   "outputs": [
    {
     "data": {
      "text/html": [
       "<ol class=list-inline>\n",
       "\t<li>100</li>\n",
       "\t<li>101</li>\n",
       "\t<li>102</li>\n",
       "\t<li>103</li>\n",
       "\t<li>104</li>\n",
       "\t<li>105</li>\n",
       "\t<li>106</li>\n",
       "\t<li>107</li>\n",
       "\t<li>108</li>\n",
       "\t<li>109</li>\n",
       "\t<li>110</li>\n",
       "</ol>\n"
      ],
      "text/latex": [
       "\\begin{enumerate*}\n",
       "\\item 100\n",
       "\\item 101\n",
       "\\item 102\n",
       "\\item 103\n",
       "\\item 104\n",
       "\\item 105\n",
       "\\item 106\n",
       "\\item 107\n",
       "\\item 108\n",
       "\\item 109\n",
       "\\item 110\n",
       "\\end{enumerate*}\n"
      ],
      "text/markdown": [
       "1. 100\n",
       "2. 101\n",
       "3. 102\n",
       "4. 103\n",
       "5. 104\n",
       "6. 105\n",
       "7. 106\n",
       "8. 107\n",
       "9. 108\n",
       "10. 109\n",
       "11. 110\n",
       "\n",
       "\n"
      ],
      "text/plain": [
       " [1] 100 101 102 103 104 105 106 107 108 109 110"
      ]
     },
     "metadata": {},
     "output_type": "display_data"
    }
   ],
   "source": [
    "v <- 100:110\n",
    "v"
   ]
  },
  {
   "cell_type": "code",
   "execution_count": 10,
   "metadata": {},
   "outputs": [
    {
     "data": {
      "text/html": [
       "<ol class=list-inline>\n",
       "\t<li>101</li>\n",
       "\t<li>102</li>\n",
       "\t<li>103</li>\n",
       "\t<li>104</li>\n",
       "\t<li>105</li>\n",
       "\t<li>106</li>\n",
       "</ol>\n"
      ],
      "text/latex": [
       "\\begin{enumerate*}\n",
       "\\item 101\n",
       "\\item 102\n",
       "\\item 103\n",
       "\\item 104\n",
       "\\item 105\n",
       "\\item 106\n",
       "\\end{enumerate*}\n"
      ],
      "text/markdown": [
       "1. 101\n",
       "2. 102\n",
       "3. 103\n",
       "4. 104\n",
       "5. 105\n",
       "6. 106\n",
       "\n",
       "\n"
      ],
      "text/plain": [
       "[1] 101 102 103 104 105 106"
      ]
     },
     "metadata": {},
     "output_type": "display_data"
    }
   ],
   "source": [
    "v[2:7]"
   ]
  },
  {
   "cell_type": "code",
   "execution_count": 11,
   "metadata": {},
   "outputs": [
    {
     "data": {
      "text/html": [
       "<ol class=list-inline>\n",
       "\t<li>100</li>\n",
       "\t<li>101</li>\n",
       "\t<li>102</li>\n",
       "</ol>\n"
      ],
      "text/latex": [
       "\\begin{enumerate*}\n",
       "\\item 100\n",
       "\\item 101\n",
       "\\item 102\n",
       "\\end{enumerate*}\n"
      ],
      "text/markdown": [
       "1. 100\n",
       "2. 101\n",
       "3. 102\n",
       "\n",
       "\n"
      ],
      "text/plain": [
       "[1] 100 101 102"
      ]
     },
     "metadata": {},
     "output_type": "display_data"
    }
   ],
   "source": [
    "v[1:3]"
   ]
  },
  {
   "cell_type": "code",
   "execution_count": 14,
   "metadata": {},
   "outputs": [
    {
     "data": {
      "text/html": [
       "<ol class=list-inline>\n",
       "\t<li>107</li>\n",
       "\t<li>108</li>\n",
       "\t<li>109</li>\n",
       "</ol>\n"
      ],
      "text/latex": [
       "\\begin{enumerate*}\n",
       "\\item 107\n",
       "\\item 108\n",
       "\\item 109\n",
       "\\end{enumerate*}\n"
      ],
      "text/markdown": [
       "1. 107\n",
       "2. 108\n",
       "3. 109\n",
       "\n",
       "\n"
      ],
      "text/plain": [
       "[1] 107 108 109"
      ]
     },
     "metadata": {},
     "output_type": "display_data"
    },
    {
     "data": {
      "text/html": [
       "<ol class=list-inline>\n",
       "\t<li>102</li>\n",
       "\t<li>103</li>\n",
       "\t<li>104</li>\n",
       "\t<li>105</li>\n",
       "\t<li>106</li>\n",
       "\t<li>107</li>\n",
       "\t<li>108</li>\n",
       "\t<li>109</li>\n",
       "\t<li>110</li>\n",
       "\t<li>&lt;NA&gt;</li>\n",
       "\t<li>&lt;NA&gt;</li>\n",
       "\t<li>&lt;NA&gt;</li>\n",
       "\t<li>&lt;NA&gt;</li>\n",
       "\t<li>&lt;NA&gt;</li>\n",
       "\t<li>&lt;NA&gt;</li>\n",
       "\t<li>&lt;NA&gt;</li>\n",
       "\t<li>&lt;NA&gt;</li>\n",
       "\t<li>&lt;NA&gt;</li>\n",
       "\t<li>&lt;NA&gt;</li>\n",
       "\t<li>&lt;NA&gt;</li>\n",
       "\t<li>&lt;NA&gt;</li>\n",
       "\t<li>&lt;NA&gt;</li>\n",
       "\t<li>&lt;NA&gt;</li>\n",
       "\t<li>&lt;NA&gt;</li>\n",
       "\t<li>&lt;NA&gt;</li>\n",
       "\t<li>&lt;NA&gt;</li>\n",
       "\t<li>&lt;NA&gt;</li>\n",
       "\t<li>&lt;NA&gt;</li>\n",
       "\t<li>&lt;NA&gt;</li>\n",
       "\t<li>&lt;NA&gt;</li>\n",
       "\t<li>&lt;NA&gt;</li>\n",
       "\t<li>&lt;NA&gt;</li>\n",
       "\t<li>&lt;NA&gt;</li>\n",
       "\t<li>&lt;NA&gt;</li>\n",
       "\t<li>&lt;NA&gt;</li>\n",
       "\t<li>&lt;NA&gt;</li>\n",
       "\t<li>&lt;NA&gt;</li>\n",
       "\t<li>&lt;NA&gt;</li>\n",
       "\t<li>&lt;NA&gt;</li>\n",
       "\t<li>&lt;NA&gt;</li>\n",
       "\t<li>&lt;NA&gt;</li>\n",
       "\t<li>&lt;NA&gt;</li>\n",
       "\t<li>&lt;NA&gt;</li>\n",
       "\t<li>&lt;NA&gt;</li>\n",
       "\t<li>&lt;NA&gt;</li>\n",
       "\t<li>&lt;NA&gt;</li>\n",
       "\t<li>&lt;NA&gt;</li>\n",
       "\t<li>&lt;NA&gt;</li>\n",
       "\t<li>&lt;NA&gt;</li>\n",
       "\t<li>&lt;NA&gt;</li>\n",
       "\t<li>&lt;NA&gt;</li>\n",
       "\t<li>&lt;NA&gt;</li>\n",
       "\t<li>&lt;NA&gt;</li>\n",
       "\t<li>&lt;NA&gt;</li>\n",
       "\t<li>&lt;NA&gt;</li>\n",
       "\t<li>&lt;NA&gt;</li>\n",
       "\t<li>&lt;NA&gt;</li>\n",
       "\t<li>&lt;NA&gt;</li>\n",
       "\t<li>&lt;NA&gt;</li>\n",
       "\t<li>&lt;NA&gt;</li>\n",
       "\t<li>&lt;NA&gt;</li>\n",
       "\t<li>&lt;NA&gt;</li>\n",
       "\t<li>&lt;NA&gt;</li>\n",
       "\t<li>&lt;NA&gt;</li>\n",
       "\t<li>&lt;NA&gt;</li>\n",
       "\t<li>&lt;NA&gt;</li>\n",
       "\t<li>&lt;NA&gt;</li>\n",
       "\t<li>&lt;NA&gt;</li>\n",
       "\t<li>&lt;NA&gt;</li>\n",
       "\t<li>&lt;NA&gt;</li>\n",
       "\t<li>&lt;NA&gt;</li>\n",
       "\t<li>&lt;NA&gt;</li>\n",
       "\t<li>&lt;NA&gt;</li>\n",
       "\t<li>&lt;NA&gt;</li>\n",
       "\t<li>&lt;NA&gt;</li>\n",
       "\t<li>&lt;NA&gt;</li>\n",
       "\t<li>&lt;NA&gt;</li>\n",
       "\t<li>&lt;NA&gt;</li>\n",
       "\t<li>&lt;NA&gt;</li>\n",
       "\t<li>&lt;NA&gt;</li>\n",
       "\t<li>&lt;NA&gt;</li>\n",
       "\t<li>&lt;NA&gt;</li>\n",
       "\t<li>&lt;NA&gt;</li>\n",
       "\t<li>&lt;NA&gt;</li>\n",
       "\t<li>&lt;NA&gt;</li>\n",
       "\t<li>&lt;NA&gt;</li>\n",
       "\t<li>&lt;NA&gt;</li>\n",
       "\t<li>&lt;NA&gt;</li>\n",
       "\t<li>&lt;NA&gt;</li>\n",
       "\t<li>&lt;NA&gt;</li>\n",
       "\t<li>&lt;NA&gt;</li>\n",
       "\t<li>&lt;NA&gt;</li>\n",
       "\t<li>&lt;NA&gt;</li>\n",
       "\t<li>&lt;NA&gt;</li>\n",
       "\t<li>&lt;NA&gt;</li>\n",
       "\t<li>&lt;NA&gt;</li>\n",
       "\t<li>&lt;NA&gt;</li>\n",
       "\t<li>&lt;NA&gt;</li>\n",
       "</ol>\n"
      ],
      "text/latex": [
       "\\begin{enumerate*}\n",
       "\\item 102\n",
       "\\item 103\n",
       "\\item 104\n",
       "\\item 105\n",
       "\\item 106\n",
       "\\item 107\n",
       "\\item 108\n",
       "\\item 109\n",
       "\\item 110\n",
       "\\item <NA>\n",
       "\\item <NA>\n",
       "\\item <NA>\n",
       "\\item <NA>\n",
       "\\item <NA>\n",
       "\\item <NA>\n",
       "\\item <NA>\n",
       "\\item <NA>\n",
       "\\item <NA>\n",
       "\\item <NA>\n",
       "\\item <NA>\n",
       "\\item <NA>\n",
       "\\item <NA>\n",
       "\\item <NA>\n",
       "\\item <NA>\n",
       "\\item <NA>\n",
       "\\item <NA>\n",
       "\\item <NA>\n",
       "\\item <NA>\n",
       "\\item <NA>\n",
       "\\item <NA>\n",
       "\\item <NA>\n",
       "\\item <NA>\n",
       "\\item <NA>\n",
       "\\item <NA>\n",
       "\\item <NA>\n",
       "\\item <NA>\n",
       "\\item <NA>\n",
       "\\item <NA>\n",
       "\\item <NA>\n",
       "\\item <NA>\n",
       "\\item <NA>\n",
       "\\item <NA>\n",
       "\\item <NA>\n",
       "\\item <NA>\n",
       "\\item <NA>\n",
       "\\item <NA>\n",
       "\\item <NA>\n",
       "\\item <NA>\n",
       "\\item <NA>\n",
       "\\item <NA>\n",
       "\\item <NA>\n",
       "\\item <NA>\n",
       "\\item <NA>\n",
       "\\item <NA>\n",
       "\\item <NA>\n",
       "\\item <NA>\n",
       "\\item <NA>\n",
       "\\item <NA>\n",
       "\\item <NA>\n",
       "\\item <NA>\n",
       "\\item <NA>\n",
       "\\item <NA>\n",
       "\\item <NA>\n",
       "\\item <NA>\n",
       "\\item <NA>\n",
       "\\item <NA>\n",
       "\\item <NA>\n",
       "\\item <NA>\n",
       "\\item <NA>\n",
       "\\item <NA>\n",
       "\\item <NA>\n",
       "\\item <NA>\n",
       "\\item <NA>\n",
       "\\item <NA>\n",
       "\\item <NA>\n",
       "\\item <NA>\n",
       "\\item <NA>\n",
       "\\item <NA>\n",
       "\\item <NA>\n",
       "\\item <NA>\n",
       "\\item <NA>\n",
       "\\item <NA>\n",
       "\\item <NA>\n",
       "\\item <NA>\n",
       "\\item <NA>\n",
       "\\item <NA>\n",
       "\\item <NA>\n",
       "\\item <NA>\n",
       "\\item <NA>\n",
       "\\item <NA>\n",
       "\\item <NA>\n",
       "\\item <NA>\n",
       "\\item <NA>\n",
       "\\item <NA>\n",
       "\\item <NA>\n",
       "\\item <NA>\n",
       "\\item <NA>\n",
       "\\item <NA>\n",
       "\\end{enumerate*}\n"
      ],
      "text/markdown": [
       "1. 102\n",
       "2. 103\n",
       "3. 104\n",
       "4. 105\n",
       "5. 106\n",
       "6. 107\n",
       "7. 108\n",
       "8. 109\n",
       "9. 110\n",
       "10. &lt;NA&gt;\n",
       "11. &lt;NA&gt;\n",
       "12. &lt;NA&gt;\n",
       "13. &lt;NA&gt;\n",
       "14. &lt;NA&gt;\n",
       "15. &lt;NA&gt;\n",
       "16. &lt;NA&gt;\n",
       "17. &lt;NA&gt;\n",
       "18. &lt;NA&gt;\n",
       "19. &lt;NA&gt;\n",
       "20. &lt;NA&gt;\n",
       "21. &lt;NA&gt;\n",
       "22. &lt;NA&gt;\n",
       "23. &lt;NA&gt;\n",
       "24. &lt;NA&gt;\n",
       "25. &lt;NA&gt;\n",
       "26. &lt;NA&gt;\n",
       "27. &lt;NA&gt;\n",
       "28. &lt;NA&gt;\n",
       "29. &lt;NA&gt;\n",
       "30. &lt;NA&gt;\n",
       "31. &lt;NA&gt;\n",
       "32. &lt;NA&gt;\n",
       "33. &lt;NA&gt;\n",
       "34. &lt;NA&gt;\n",
       "35. &lt;NA&gt;\n",
       "36. &lt;NA&gt;\n",
       "37. &lt;NA&gt;\n",
       "38. &lt;NA&gt;\n",
       "39. &lt;NA&gt;\n",
       "40. &lt;NA&gt;\n",
       "41. &lt;NA&gt;\n",
       "42. &lt;NA&gt;\n",
       "43. &lt;NA&gt;\n",
       "44. &lt;NA&gt;\n",
       "45. &lt;NA&gt;\n",
       "46. &lt;NA&gt;\n",
       "47. &lt;NA&gt;\n",
       "48. &lt;NA&gt;\n",
       "49. &lt;NA&gt;\n",
       "50. &lt;NA&gt;\n",
       "51. &lt;NA&gt;\n",
       "52. &lt;NA&gt;\n",
       "53. &lt;NA&gt;\n",
       "54. &lt;NA&gt;\n",
       "55. &lt;NA&gt;\n",
       "56. &lt;NA&gt;\n",
       "57. &lt;NA&gt;\n",
       "58. &lt;NA&gt;\n",
       "59. &lt;NA&gt;\n",
       "60. &lt;NA&gt;\n",
       "61. &lt;NA&gt;\n",
       "62. &lt;NA&gt;\n",
       "63. &lt;NA&gt;\n",
       "64. &lt;NA&gt;\n",
       "65. &lt;NA&gt;\n",
       "66. &lt;NA&gt;\n",
       "67. &lt;NA&gt;\n",
       "68. &lt;NA&gt;\n",
       "69. &lt;NA&gt;\n",
       "70. &lt;NA&gt;\n",
       "71. &lt;NA&gt;\n",
       "72. &lt;NA&gt;\n",
       "73. &lt;NA&gt;\n",
       "74. &lt;NA&gt;\n",
       "75. &lt;NA&gt;\n",
       "76. &lt;NA&gt;\n",
       "77. &lt;NA&gt;\n",
       "78. &lt;NA&gt;\n",
       "79. &lt;NA&gt;\n",
       "80. &lt;NA&gt;\n",
       "81. &lt;NA&gt;\n",
       "82. &lt;NA&gt;\n",
       "83. &lt;NA&gt;\n",
       "84. &lt;NA&gt;\n",
       "85. &lt;NA&gt;\n",
       "86. &lt;NA&gt;\n",
       "87. &lt;NA&gt;\n",
       "88. &lt;NA&gt;\n",
       "89. &lt;NA&gt;\n",
       "90. &lt;NA&gt;\n",
       "91. &lt;NA&gt;\n",
       "92. &lt;NA&gt;\n",
       "93. &lt;NA&gt;\n",
       "94. &lt;NA&gt;\n",
       "95. &lt;NA&gt;\n",
       "96. &lt;NA&gt;\n",
       "97. &lt;NA&gt;\n",
       "98. &lt;NA&gt;\n",
       "\n",
       "\n"
      ],
      "text/plain": [
       " [1] 102 103 104 105 106 107 108 109 110  NA  NA  NA  NA  NA  NA  NA  NA  NA  NA\n",
       "[20]  NA  NA  NA  NA  NA  NA  NA  NA  NA  NA  NA  NA  NA  NA  NA  NA  NA  NA  NA\n",
       "[39]  NA  NA  NA  NA  NA  NA  NA  NA  NA  NA  NA  NA  NA  NA  NA  NA  NA  NA  NA\n",
       "[58]  NA  NA  NA  NA  NA  NA  NA  NA  NA  NA  NA  NA  NA  NA  NA  NA  NA  NA  NA\n",
       "[77]  NA  NA  NA  NA  NA  NA  NA  NA  NA  NA  NA  NA  NA  NA  NA  NA  NA  NA  NA\n",
       "[96]  NA  NA  NA"
      ]
     },
     "metadata": {},
     "output_type": "display_data"
    }
   ],
   "source": [
    "v[8:10]\n",
    "v[3:100]"
   ]
  },
  {
   "cell_type": "markdown",
   "metadata": {},
   "source": [
    "Wie man sieht dass sowohl `start_index` als auch `stop_index` sind in der Ausgabe enthalten."
   ]
  },
  {
   "cell_type": "markdown",
   "metadata": {},
   "source": [
    "## Namen-Indexierung\n",
    "\n",
    "Nehmen wir als Beispiel nach Wochentagen benannte Temperatur-Messung aus der vorletzten Lektion 4."
   ]
  },
  {
   "cell_type": "code",
   "execution_count": 15,
   "metadata": {},
   "outputs": [
    {
     "data": {
      "text/html": [
       "<dl class=dl-horizontal>\n",
       "\t<dt>Mo</dt>\n",
       "\t\t<dd>36.8</dd>\n",
       "\t<dt>Di</dt>\n",
       "\t\t<dd>37.2</dd>\n",
       "\t<dt>Mi</dt>\n",
       "\t\t<dd>37.9</dd>\n",
       "\t<dt>Do</dt>\n",
       "\t\t<dd>37.1</dd>\n",
       "\t<dt>Fr</dt>\n",
       "\t\t<dd>36.6</dd>\n",
       "\t<dt>Sa</dt>\n",
       "\t\t<dd>36.6</dd>\n",
       "\t<dt>So</dt>\n",
       "\t\t<dd>36.6</dd>\n",
       "</dl>\n"
      ],
      "text/latex": [
       "\\begin{description*}\n",
       "\\item[Mo] 36.8\n",
       "\\item[Di] 37.2\n",
       "\\item[Mi] 37.9\n",
       "\\item[Do] 37.1\n",
       "\\item[Fr] 36.6\n",
       "\\item[Sa] 36.6\n",
       "\\item[So] 36.6\n",
       "\\end{description*}\n"
      ],
      "text/markdown": [
       "Mo\n",
       ":   36.8Di\n",
       ":   37.2Mi\n",
       ":   37.9Do\n",
       ":   37.1Fr\n",
       ":   36.6Sa\n",
       ":   36.6So\n",
       ":   36.6\n",
       "\n"
      ],
      "text/plain": [
       "  Mo   Di   Mi   Do   Fr   Sa   So \n",
       "36.8 37.2 37.9 37.1 36.6 36.6 36.6 "
      ]
     },
     "metadata": {},
     "output_type": "display_data"
    }
   ],
   "source": [
    "temp_week_pateint_1 <- c(36.8,37.2,37.9,37.1,36.6,36.6,36.6)\n",
    "names(temp_week_pateint_1) <- c('Mo','Di','Mi','Do','Fr','Sa','So')\n",
    "temp_week_pateint_1"
   ]
  },
  {
   "cell_type": "markdown",
   "metadata": {},
   "source": [
    "Dann kann man die bei einem Patient gemessene Temperatur nach Wochentage-Kürzel direkt ansprechen."
   ]
  },
  {
   "cell_type": "code",
   "execution_count": 16,
   "metadata": {},
   "outputs": [
    {
     "data": {
      "text/html": [
       "<strong>Mo:</strong> 36.8"
      ],
      "text/latex": [
       "\\textbf{Mo:} 36.8"
      ],
      "text/markdown": [
       "**Mo:** 36.8"
      ],
      "text/plain": [
       "  Mo \n",
       "36.8 "
      ]
     },
     "metadata": {},
     "output_type": "display_data"
    }
   ],
   "source": [
    "temp_week_pateint_1['Mo']"
   ]
  },
  {
   "cell_type": "code",
   "execution_count": 17,
   "metadata": {},
   "outputs": [
    {
     "data": {
      "text/html": [
       "<strong>Mi:</strong> 37.9"
      ],
      "text/latex": [
       "\\textbf{Mi:} 37.9"
      ],
      "text/markdown": [
       "**Mi:** 37.9"
      ],
      "text/plain": [
       "  Mi \n",
       "37.9 "
      ]
     },
     "metadata": {},
     "output_type": "display_data"
    }
   ],
   "source": [
    "temp_week_pateint_1['Mi']"
   ]
  },
  {
   "cell_type": "code",
   "execution_count": 18,
   "metadata": {},
   "outputs": [
    {
     "data": {
      "text/html": [
       "<strong>Fr:</strong> 36.6"
      ],
      "text/latex": [
       "\\textbf{Fr:} 36.6"
      ],
      "text/markdown": [
       "**Fr:** 36.6"
      ],
      "text/plain": [
       "  Fr \n",
       "36.6 "
      ]
     },
     "metadata": {},
     "output_type": "display_data"
    }
   ],
   "source": [
    "temp_week_pateint_1['Fr']"
   ]
  },
  {
   "cell_type": "markdown",
   "metadata": {},
   "source": [
    "Oder einen ganzen Namensvektor übergeben!"
   ]
  },
  {
   "cell_type": "code",
   "execution_count": 19,
   "metadata": {},
   "outputs": [
    {
     "data": {
      "text/html": [
       "<dl class=dl-horizontal>\n",
       "\t<dt>Fr</dt>\n",
       "\t\t<dd>36.6</dd>\n",
       "\t<dt>Mi</dt>\n",
       "\t\t<dd>37.9</dd>\n",
       "\t<dt>Mo</dt>\n",
       "\t\t<dd>36.8</dd>\n",
       "</dl>\n"
      ],
      "text/latex": [
       "\\begin{description*}\n",
       "\\item[Fr] 36.6\n",
       "\\item[Mi] 37.9\n",
       "\\item[Mo] 36.8\n",
       "\\end{description*}\n"
      ],
      "text/markdown": [
       "Fr\n",
       ":   36.6Mi\n",
       ":   37.9Mo\n",
       ":   36.8\n",
       "\n"
      ],
      "text/plain": [
       "  Fr   Mi   Mo \n",
       "36.6 37.9 36.8 "
      ]
     },
     "metadata": {},
     "output_type": "display_data"
    }
   ],
   "source": [
    "# Achtung! Nicht die origninale Reihenfolge\n",
    "temp_week_pateint_1[c('Fr','Mi','Mo')]"
   ]
  },
  {
   "cell_type": "markdown",
   "metadata": {},
   "source": [
    "## Vergleichsoperatoren-Auswahl und Filter\n",
    "\n",
    "Man kann die Vergleichsoperatoren nutzen, um bestimmte Vektor-Elemente auszulesen. Es wird unter anderem als \"boolean masking\" bezeichnet, da hier ein logischer Vektor erstellt wird, der zum Elementen-Auslese dient. Hier ist ein Beispiel:"
   ]
  },
  {
   "cell_type": "code",
   "execution_count": 20,
   "metadata": {},
   "outputs": [
    {
     "data": {
      "text/html": [
       "<dl class=dl-horizontal>\n",
       "\t<dt>Mo</dt>\n",
       "\t\t<dd>36.8</dd>\n",
       "\t<dt>Di</dt>\n",
       "\t\t<dd>37.2</dd>\n",
       "\t<dt>Mi</dt>\n",
       "\t\t<dd>37.9</dd>\n",
       "\t<dt>Do</dt>\n",
       "\t\t<dd>37.1</dd>\n",
       "\t<dt>Fr</dt>\n",
       "\t\t<dd>36.6</dd>\n",
       "\t<dt>Sa</dt>\n",
       "\t\t<dd>36.6</dd>\n",
       "\t<dt>So</dt>\n",
       "\t\t<dd>36.6</dd>\n",
       "</dl>\n"
      ],
      "text/latex": [
       "\\begin{description*}\n",
       "\\item[Mo] 36.8\n",
       "\\item[Di] 37.2\n",
       "\\item[Mi] 37.9\n",
       "\\item[Do] 37.1\n",
       "\\item[Fr] 36.6\n",
       "\\item[Sa] 36.6\n",
       "\\item[So] 36.6\n",
       "\\end{description*}\n"
      ],
      "text/markdown": [
       "Mo\n",
       ":   36.8Di\n",
       ":   37.2Mi\n",
       ":   37.9Do\n",
       ":   37.1Fr\n",
       ":   36.6Sa\n",
       ":   36.6So\n",
       ":   36.6\n",
       "\n"
      ],
      "text/plain": [
       "  Mo   Di   Mi   Do   Fr   Sa   So \n",
       "36.8 37.2 37.9 37.1 36.6 36.6 36.6 "
      ]
     },
     "metadata": {},
     "output_type": "display_data"
    }
   ],
   "source": [
    "temp_week_pateint_1"
   ]
  },
  {
   "cell_type": "markdown",
   "metadata": {},
   "source": [
    "Stellen wir fest an welchen Tagen, der Patient erhöhte Temperatur hatte: "
   ]
  },
  {
   "cell_type": "markdown",
   "metadata": {},
   "source": [
    "#### Schritt 1. \n",
    "\n",
    "Zuerst berechnen wir eine \"logische Maske\" (boolesche Vektor temp_week_pateint_1 > 36.6)"
   ]
  },
  {
   "cell_type": "code",
   "execution_count": 21,
   "metadata": {},
   "outputs": [
    {
     "data": {
      "text/html": [
       "<dl class=dl-horizontal>\n",
       "\t<dt>Mo</dt>\n",
       "\t\t<dd>TRUE</dd>\n",
       "\t<dt>Di</dt>\n",
       "\t\t<dd>TRUE</dd>\n",
       "\t<dt>Mi</dt>\n",
       "\t\t<dd>TRUE</dd>\n",
       "\t<dt>Do</dt>\n",
       "\t\t<dd>TRUE</dd>\n",
       "\t<dt>Fr</dt>\n",
       "\t\t<dd>FALSE</dd>\n",
       "\t<dt>Sa</dt>\n",
       "\t\t<dd>FALSE</dd>\n",
       "\t<dt>So</dt>\n",
       "\t\t<dd>FALSE</dd>\n",
       "</dl>\n"
      ],
      "text/latex": [
       "\\begin{description*}\n",
       "\\item[Mo] TRUE\n",
       "\\item[Di] TRUE\n",
       "\\item[Mi] TRUE\n",
       "\\item[Do] TRUE\n",
       "\\item[Fr] FALSE\n",
       "\\item[Sa] FALSE\n",
       "\\item[So] FALSE\n",
       "\\end{description*}\n"
      ],
      "text/markdown": [
       "Mo\n",
       ":   TRUEDi\n",
       ":   TRUEMi\n",
       ":   TRUEDo\n",
       ":   TRUEFr\n",
       ":   FALSESa\n",
       ":   FALSESo\n",
       ":   FALSE\n",
       "\n"
      ],
      "text/plain": [
       "   Mo    Di    Mi    Do    Fr    Sa    So \n",
       " TRUE  TRUE  TRUE  TRUE FALSE FALSE FALSE "
      ]
     },
     "metadata": {},
     "output_type": "display_data"
    }
   ],
   "source": [
    "temp_week_pateint_1 > 36.6"
   ]
  },
  {
   "cell_type": "markdown",
   "metadata": {},
   "source": [
    "#### Schritt 2.\n",
    "\n",
    "Nun übergeben wir diesen \"logischen\" Vektor in den Index-Klammern. Dann bekommt man nur die Werte zurück, für welche der logischer Masken-Wert *TRUE* ist."
   ]
  },
  {
   "cell_type": "code",
   "execution_count": 23,
   "metadata": {},
   "outputs": [
    {
     "data": {
      "text/html": [
       "<dl class=dl-horizontal>\n",
       "\t<dt>Mo</dt>\n",
       "\t\t<dd>36.8</dd>\n",
       "\t<dt>Di</dt>\n",
       "\t\t<dd>37.2</dd>\n",
       "\t<dt>Mi</dt>\n",
       "\t\t<dd>37.9</dd>\n",
       "\t<dt>Do</dt>\n",
       "\t\t<dd>37.1</dd>\n",
       "</dl>\n"
      ],
      "text/latex": [
       "\\begin{description*}\n",
       "\\item[Mo] 36.8\n",
       "\\item[Di] 37.2\n",
       "\\item[Mi] 37.9\n",
       "\\item[Do] 37.1\n",
       "\\end{description*}\n"
      ],
      "text/markdown": [
       "Mo\n",
       ":   36.8Di\n",
       ":   37.2Mi\n",
       ":   37.9Do\n",
       ":   37.1\n",
       "\n"
      ],
      "text/plain": [
       "  Mo   Di   Mi   Do \n",
       "36.8 37.2 37.9 37.1 "
      ]
     },
     "metadata": {},
     "output_type": "display_data"
    }
   ],
   "source": [
    "temp_week_pateint_1[ temp_week_pateint_1 > 36.6 ]"
   ]
  },
  {
   "cell_type": "markdown",
   "metadata": {},
   "source": [
    "Für die Lesbarkeit- und/oder Wiederverwendungszwecken kann man logischen Vektoren einer Filter-Variable zuweisen und diese dann zum Indexieren übergeben. Zum Beispiel:"
   ]
  },
  {
   "cell_type": "code",
   "execution_count": 24,
   "metadata": {},
   "outputs": [],
   "source": [
    "# Filter Tage mit erhöhter Temperatur \n",
    "filter_high_temp <- temp_week_pateint_1 > 36.6"
   ]
  },
  {
   "cell_type": "code",
   "execution_count": 25,
   "metadata": {},
   "outputs": [
    {
     "data": {
      "text/html": [
       "<dl class=dl-horizontal>\n",
       "\t<dt>Mo</dt>\n",
       "\t\t<dd>TRUE</dd>\n",
       "\t<dt>Di</dt>\n",
       "\t\t<dd>TRUE</dd>\n",
       "\t<dt>Mi</dt>\n",
       "\t\t<dd>TRUE</dd>\n",
       "\t<dt>Do</dt>\n",
       "\t\t<dd>TRUE</dd>\n",
       "\t<dt>Fr</dt>\n",
       "\t\t<dd>FALSE</dd>\n",
       "\t<dt>Sa</dt>\n",
       "\t\t<dd>FALSE</dd>\n",
       "\t<dt>So</dt>\n",
       "\t\t<dd>FALSE</dd>\n",
       "</dl>\n"
      ],
      "text/latex": [
       "\\begin{description*}\n",
       "\\item[Mo] TRUE\n",
       "\\item[Di] TRUE\n",
       "\\item[Mi] TRUE\n",
       "\\item[Do] TRUE\n",
       "\\item[Fr] FALSE\n",
       "\\item[Sa] FALSE\n",
       "\\item[So] FALSE\n",
       "\\end{description*}\n"
      ],
      "text/markdown": [
       "Mo\n",
       ":   TRUEDi\n",
       ":   TRUEMi\n",
       ":   TRUEDo\n",
       ":   TRUEFr\n",
       ":   FALSESa\n",
       ":   FALSESo\n",
       ":   FALSE\n",
       "\n"
      ],
      "text/plain": [
       "   Mo    Di    Mi    Do    Fr    Sa    So \n",
       " TRUE  TRUE  TRUE  TRUE FALSE FALSE FALSE "
      ]
     },
     "metadata": {},
     "output_type": "display_data"
    }
   ],
   "source": [
    "filter_high_temp"
   ]
  },
  {
   "cell_type": "code",
   "execution_count": 26,
   "metadata": {},
   "outputs": [
    {
     "data": {
      "text/html": [
       "<dl class=dl-horizontal>\n",
       "\t<dt>Mo</dt>\n",
       "\t\t<dd>36.8</dd>\n",
       "\t<dt>Di</dt>\n",
       "\t\t<dd>37.2</dd>\n",
       "\t<dt>Mi</dt>\n",
       "\t\t<dd>37.9</dd>\n",
       "\t<dt>Do</dt>\n",
       "\t\t<dd>37.1</dd>\n",
       "</dl>\n"
      ],
      "text/latex": [
       "\\begin{description*}\n",
       "\\item[Mo] 36.8\n",
       "\\item[Di] 37.2\n",
       "\\item[Mi] 37.9\n",
       "\\item[Do] 37.1\n",
       "\\end{description*}\n"
      ],
      "text/markdown": [
       "Mo\n",
       ":   36.8Di\n",
       ":   37.2Mi\n",
       ":   37.9Do\n",
       ":   37.1\n",
       "\n"
      ],
      "text/plain": [
       "  Mo   Di   Mi   Do \n",
       "36.8 37.2 37.9 37.1 "
      ]
     },
     "metadata": {},
     "output_type": "display_data"
    }
   ],
   "source": [
    "# Tage mit erhöhter Temperatur \n",
    "temp_week_pateint_1[ filter_high_temp ]"
   ]
  },
  {
   "cell_type": "code",
   "execution_count": 33,
   "metadata": {},
   "outputs": [],
   "source": [
    "# Filter für Tage mit normaler Temperatur \n",
    "filter_norm_temp <- temp_week_pateint_1 == 36.6"
   ]
  },
  {
   "cell_type": "code",
   "execution_count": 34,
   "metadata": {},
   "outputs": [
    {
     "data": {
      "text/html": [
       "<dl class=dl-horizontal>\n",
       "\t<dt>Mo</dt>\n",
       "\t\t<dd>TRUE</dd>\n",
       "\t<dt>Di</dt>\n",
       "\t\t<dd>TRUE</dd>\n",
       "\t<dt>Mi</dt>\n",
       "\t\t<dd>TRUE</dd>\n",
       "\t<dt>Do</dt>\n",
       "\t\t<dd>TRUE</dd>\n",
       "\t<dt>Fr</dt>\n",
       "\t\t<dd>FALSE</dd>\n",
       "\t<dt>Sa</dt>\n",
       "\t\t<dd>FALSE</dd>\n",
       "\t<dt>So</dt>\n",
       "\t\t<dd>FALSE</dd>\n",
       "</dl>\n"
      ],
      "text/latex": [
       "\\begin{description*}\n",
       "\\item[Mo] TRUE\n",
       "\\item[Di] TRUE\n",
       "\\item[Mi] TRUE\n",
       "\\item[Do] TRUE\n",
       "\\item[Fr] FALSE\n",
       "\\item[Sa] FALSE\n",
       "\\item[So] FALSE\n",
       "\\end{description*}\n"
      ],
      "text/markdown": [
       "Mo\n",
       ":   TRUEDi\n",
       ":   TRUEMi\n",
       ":   TRUEDo\n",
       ":   TRUEFr\n",
       ":   FALSESa\n",
       ":   FALSESo\n",
       ":   FALSE\n",
       "\n"
      ],
      "text/plain": [
       "   Mo    Di    Mi    Do    Fr    Sa    So \n",
       " TRUE  TRUE  TRUE  TRUE FALSE FALSE FALSE "
      ]
     },
     "metadata": {},
     "output_type": "display_data"
    }
   ],
   "source": [
    "filter_norm_temp"
   ]
  },
  {
   "cell_type": "code",
   "execution_count": 29,
   "metadata": {},
   "outputs": [
    {
     "data": {
      "text/html": [
       "<dl class=dl-horizontal>\n",
       "\t<dt>Fr</dt>\n",
       "\t\t<dd>36.6</dd>\n",
       "\t<dt>Sa</dt>\n",
       "\t\t<dd>36.6</dd>\n",
       "\t<dt>So</dt>\n",
       "\t\t<dd>36.6</dd>\n",
       "</dl>\n"
      ],
      "text/latex": [
       "\\begin{description*}\n",
       "\\item[Fr] 36.6\n",
       "\\item[Sa] 36.6\n",
       "\\item[So] 36.6\n",
       "\\end{description*}\n"
      ],
      "text/markdown": [
       "Fr\n",
       ":   36.6Sa\n",
       ":   36.6So\n",
       ":   36.6\n",
       "\n"
      ],
      "text/plain": [
       "  Fr   Sa   So \n",
       "36.6 36.6 36.6 "
      ]
     },
     "metadata": {},
     "output_type": "display_data"
    }
   ],
   "source": [
    "# Tage mit normaler Temperatur \n",
    "temp_week_pateint_1[filter_norm_temp]"
   ]
  },
  {
   "cell_type": "markdown",
   "metadata": {},
   "source": [
    "Herzlichen Glückwunsch! Sie sind mit Lektion 7 fertig."
   ]
  }
 ],
 "metadata": {
  "kernelspec": {
   "display_name": "R",
   "language": "R",
   "name": "ir"
  },
  "language_info": {
   "codemirror_mode": "r",
   "file_extension": ".r",
   "mimetype": "text/x-r-source",
   "name": "R",
   "pygments_lexer": "r",
   "version": "3.6.1"
  }
 },
 "nbformat": 4,
 "nbformat_minor": 1
}
