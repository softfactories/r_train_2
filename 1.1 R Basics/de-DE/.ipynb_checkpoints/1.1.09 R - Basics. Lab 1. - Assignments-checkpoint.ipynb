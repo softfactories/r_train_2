{
 "cells": [
  {
   "cell_type": "markdown",
   "metadata": {},
   "source": [
    "# Tag 1. Kapitel 1. Grundlagen\n",
    "\n",
    "## Lab 1.  \n",
    "\n",
    "### Aufgaben\n",
    "\n",
    "In diesem Lab werden folgende Themen geübt:\n",
    "\n",
    "* Grundlegende Datentypen und Arithmetik\n",
    "* Vektoren\n",
    "* Vektor Operationen\n",
    "* Vergleichsoperatoren\n",
    "* Vektor Indexierung und Auswahl\n"
   ]
  },
  {
   "cell_type": "markdown",
   "metadata": {},
   "source": [
    "### Folgenden Aufgaben sind mit R zu lösen \n",
    "\n",
    "*Tipp: allle Aufgaben können auch in R Studio gelöst werden\n",
    "\n",
    "** Was ist zwei hoch zweiunddreißig? **"
   ]
  },
  {
   "cell_type": "code",
   "execution_count": null,
   "metadata": {},
   "outputs": [],
   "source": []
  },
  {
   "cell_type": "markdown",
   "metadata": {},
   "source": [
    "** Erstelle einen Vektor namens ** temp.woche1 ** mit folgenden Messwerten: ** 37.8, 38.2, 35.9, 36.2, 36.6"
   ]
  },
  {
   "cell_type": "code",
   "execution_count": null,
   "metadata": {
    "scrolled": true
   },
   "outputs": [],
   "source": []
  },
  {
   "cell_type": "markdown",
   "metadata": {},
   "source": [
    "** Weise den Einträgen abgekürzte Namen der Wochentagen von Montag bis Freitag zu (Mo, Di, Mi, usw.) **"
   ]
  },
  {
   "cell_type": "code",
   "execution_count": null,
   "metadata": {},
   "outputs": [],
   "source": []
  },
  {
   "cell_type": "markdown",
   "metadata": {},
   "source": [
    "** Was ist der durchschnittliche Körper-Temperatur beim Patienten (en. mean) für dieser Woche gewesen? **\n",
    "(Man kann hier eine eingebaute Funktion verwenden. Siehe Kapitel 8 für Details.)"
   ]
  },
  {
   "cell_type": "code",
   "execution_count": null,
   "metadata": {},
   "outputs": [],
   "source": []
  },
  {
   "cell_type": "markdown",
   "metadata": {},
   "source": [
    "** Erstelle einen Filter-Vektor ** temp.hoch **, der zeigt, ob beim Patienten gemessene Körper-Temperatur über ** 36.6 ** liegt **"
   ]
  },
  {
   "cell_type": "code",
   "execution_count": null,
   "metadata": {},
   "outputs": [],
   "source": []
  },
  {
   "cell_type": "markdown",
   "metadata": {},
   "source": [
    "** Wende Filter-Vektor ** temp.hoch ** an, um Fieber-Tage zu auszuwählen **"
   ]
  },
  {
   "cell_type": "code",
   "execution_count": null,
   "metadata": {},
   "outputs": [],
   "source": []
  },
  {
   "cell_type": "markdown",
   "metadata": {},
   "source": [
    "** Erstelle (mit einer eingebauten Funktion) einen Filter-Vektor für maximale Patienten-Temperatur.  **"
   ]
  },
  {
   "cell_type": "code",
   "execution_count": null,
   "metadata": {},
   "outputs": [],
   "source": []
  },
  {
   "cell_type": "markdown",
   "metadata": {},
   "source": [
    "** Max-Filter für Temperatur-Wochenmessungen anwenden, um herauszuwinden an welchem(n) Tag(en) Patienten-Temperatur am höchsten war **"
   ]
  },
  {
   "cell_type": "code",
   "execution_count": null,
   "metadata": {},
   "outputs": [],
   "source": []
  },
  {
   "cell_type": "markdown",
   "metadata": {},
   "source": [
    "Ende von Lab 1."
   ]
  }
 ],
 "metadata": {
  "kernelspec": {
   "display_name": "R",
   "language": "R",
   "name": "ir"
  },
  "language_info": {
   "codemirror_mode": "r",
   "file_extension": ".r",
   "mimetype": "text/x-r-source",
   "name": "R",
   "pygments_lexer": "r",
   "version": "3.6.1"
  }
 },
 "nbformat": 4,
 "nbformat_minor": 1
}
