{
 "cells": [
  {
   "cell_type": "markdown",
   "metadata": {},
   "source": [
    "# Tag 1. Kapitel 1. Grundlagen\n",
    "\n",
    "## Lektion 2. Variablen\n",
    "\n",
    "Eine Variable wird in R wie folgt definiert:\n",
    "\n",
    "(Variable-Name) **<-** (Variable-Wert)\n",
    "\n",
    "Es ähnelt sich einem Pfeil, der von einem Objekt (rechts) auf jeweilige Variable (rechts) gerichtet ist.\n",
    "\n",
    "# Kommentare\n",
    "\n",
    "Für Kommentare wird ein Hashtag-Zeichen **#** verwendet"
   ]
  },
  {
   "cell_type": "code",
   "execution_count": 1,
   "metadata": {},
   "outputs": [],
   "source": [
    "# So weist man z.B. einen numerischen Wert **1000** einer Variable names NumVar zu\n",
    "NumVar <- 1000"
   ]
  },
  {
   "cell_type": "code",
   "execution_count": 2,
   "metadata": {},
   "outputs": [
    {
     "data": {
      "text/html": [
       "1000"
      ],
      "text/latex": [
       "1000"
      ],
      "text/markdown": [
       "1000"
      ],
      "text/plain": [
       "[1] 1000"
      ]
     },
     "metadata": {},
     "output_type": "display_data"
    }
   ],
   "source": [
    "# Und so kann man den Wert einer Variable überprüfen\n",
    "NumVar"
   ]
  },
  {
   "cell_type": "code",
   "execution_count": 3,
   "metadata": {},
   "outputs": [
    {
     "data": {
      "text/html": [
       "1000"
      ],
      "text/latex": [
       "1000"
      ],
      "text/markdown": [
       "1000"
      ],
      "text/plain": [
       "[1] 1000"
      ]
     },
     "metadata": {},
     "output_type": "display_data"
    },
    {
     "ename": "ERROR",
     "evalue": "Error in eval(expr, envir, enclos): Objekt 'numVar' nicht gefunden\n",
     "output_type": "error",
     "traceback": [
      "Error in eval(expr, envir, enclos): Objekt 'numVar' nicht gefunden\nTraceback:\n"
     ]
    }
   ],
   "source": [
    "# Variable-Namen sind sensitiv zur Groß-/Kleinschreibung\n",
    "NumVar\n",
    "numVar"
   ]
  },
  {
   "cell_type": "markdown",
   "metadata": {},
   "source": [
    "## Mit Variablen arbeiten\n",
    "\n",
    "Man darf auch den Punkt im Variable-Name verwennden. "
   ]
  },
  {
   "cell_type": "code",
   "execution_count": 4,
   "metadata": {},
   "outputs": [],
   "source": [
    "bank.name <- \"Konto - Max Muster Mann\"\n",
    "bank.konto.nummer <- 979899\n",
    "bank.saldo <- 1000000\n",
    "bank.einzahlung <- 500000\n",
    "bank.saldo <- bank.saldo + bank.einzahlung"
   ]
  },
  {
   "cell_type": "code",
   "execution_count": 5,
   "metadata": {},
   "outputs": [
    {
     "data": {
      "text/html": [
       "'Konto - Max Muster Mann'"
      ],
      "text/latex": [
       "'Konto - Max Muster Mann'"
      ],
      "text/markdown": [
       "'Konto - Max Muster Mann'"
      ],
      "text/plain": [
       "[1] \"Konto - Max Muster Mann\""
      ]
     },
     "metadata": {},
     "output_type": "display_data"
    },
    {
     "data": {
      "text/html": [
       "1500000"
      ],
      "text/latex": [
       "1500000"
      ],
      "text/markdown": [
       "1500000"
      ],
      "text/plain": [
       "[1] 1500000"
      ]
     },
     "metadata": {},
     "output_type": "display_data"
    }
   ],
   "source": [
    "bank.name\n",
    "bank.saldo"
   ]
  },
  {
   "cell_type": "markdown",
   "metadata": {},
   "source": [
    "*Tipp: Variablen-Zuweisung in R-Studio ausprobieren.*\n",
    "\n",
    "Herzlichen Glückwunsch! Sie sind mit Lektion 2 fertig."
   ]
  }
 ],
 "metadata": {
  "kernelspec": {
   "display_name": "R",
   "language": "R",
   "name": "ir"
  },
  "language_info": {
   "codemirror_mode": "r",
   "file_extension": ".r",
   "mimetype": "text/x-r-source",
   "name": "R",
   "pygments_lexer": "r",
   "version": "3.6.1"
  }
 },
 "nbformat": 4,
 "nbformat_minor": 1
}
