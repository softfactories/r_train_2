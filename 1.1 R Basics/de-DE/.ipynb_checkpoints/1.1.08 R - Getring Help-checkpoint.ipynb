{
 "cells": [
  {
   "cell_type": "markdown",
   "metadata": {},
   "source": [
    "# Tag 1. Kapitel 1. Grundlagen\n",
    "\n",
    "## Lektion 8. Hilfe und Dokumentation in R\n",
    "\n",
    "In R gibt es mehrere eingebaute Möglichkeiten, um Hilfe zu bekommen:\n",
    "\n",
    "* help(thema) - Dokumentation zum Thema\n",
    "* help.search(\"thema\") - Die Hilfe durchsuchen\n",
    "* apropos(\"thema\") - Ergibt die Namen aller Objekte in der Suche, die \"thema\" entsprechen\n",
    "* help.start() - Startet die HTML Version der Hilfe\n",
    "* str(a) - Zeigt die interne *Str*uktur eine R Objekts an\n",
    "* summary(a) - Gibt eine Zusammenfassung. Für numerische Objekte ist es eine statistische. Für andere Onjekte gibt es andere Versionen\n",
    "* ls() - Zeigt Objekte im Suchpfad\n",
    "* ls.str() - Führt `str()` für jedes Objekt im Suchpfad aus\n",
    "* dir() - Zeigt die Dateien im aktuellen Verzeichnis\n",
    "* methods(a) - Zeigt die S3 Methoden für a\n",
    "* methods(class=class(a)) - Listet alle Methoden auf, die für ein Objekt der Klasse a verwendet werden können\n",
    "\n"
   ]
  },
  {
   "cell_type": "markdown",
   "metadata": {},
   "source": [
    "## Hilfe aufrufen"
   ]
  },
  {
   "cell_type": "code",
   "execution_count": 1,
   "metadata": {},
   "outputs": [],
   "source": [
    "# Hilfe für Vektor aufrufen\n",
    "help(vector)"
   ]
  },
  {
   "cell_type": "code",
   "execution_count": 2,
   "metadata": {},
   "outputs": [],
   "source": [
    "# Hilfe für Matrix aufrufen\n",
    "help(matrix)"
   ]
  },
  {
   "cell_type": "code",
   "execution_count": 3,
   "metadata": {},
   "outputs": [],
   "source": [
    "# Hilfe für List aufrufen\n",
    "help(list)"
   ]
  },
  {
   "cell_type": "markdown",
   "metadata": {},
   "source": [
    "## In Dokumentation suchen\n",
    "\n",
    "*Tipp: auch in R Studio ausprobieren*"
   ]
  },
  {
   "cell_type": "code",
   "execution_count": 5,
   "metadata": {},
   "outputs": [
    {
     "data": {},
     "metadata": {},
     "output_type": "display_data"
    }
   ],
   "source": [
    "# Mit search()-Methode (bei R-Notebook wird ein neues Suchfenster geöffnet)\n",
    "help.search('vector')"
   ]
  },
  {
   "cell_type": "code",
   "execution_count": 6,
   "metadata": {},
   "outputs": [
    {
     "data": {},
     "metadata": {},
     "output_type": "display_data"
    }
   ],
   "source": [
    "# ... oder mit ??-Zeichen\n",
    "??vector"
   ]
  },
  {
   "cell_type": "markdown",
   "metadata": {},
   "source": [
    "## Statistische Zusmmenfassung abrufen"
   ]
  },
  {
   "cell_type": "code",
   "execution_count": 7,
   "metadata": {},
   "outputs": [
    {
     "data": {
      "text/plain": [
       "   Min. 1st Qu.  Median    Mean 3rd Qu.    Max. \n",
       "  100.0   275.0   450.0   462.5   625.0   900.0 "
      ]
     },
     "metadata": {},
     "output_type": "display_data"
    }
   ],
   "source": [
    "v1 <- c(100,200,300,400,500,600,700,900)\n",
    "summary(v1)"
   ]
  },
  {
   "cell_type": "code",
   "execution_count": 8,
   "metadata": {},
   "outputs": [
    {
     "data": {
      "text/plain": [
       "   Min. 1st Qu.  Median    Mean 3rd Qu.    Max. \n",
       "   1.00   25.75   50.50   50.50   75.25  100.00 "
      ]
     },
     "metadata": {},
     "output_type": "display_data"
    }
   ],
   "source": [
    "v2 <- 1:100\n",
    "summary(v2)"
   ]
  },
  {
   "cell_type": "markdown",
   "metadata": {},
   "source": [
    "\n",
    "Herzlichen Glückwunsch! Sie sind mit Lektion 8 fertig."
   ]
  }
 ],
 "metadata": {
  "kernelspec": {
   "display_name": "R",
   "language": "R",
   "name": "ir"
  },
  "language_info": {
   "codemirror_mode": "r",
   "file_extension": ".r",
   "mimetype": "text/x-r-source",
   "name": "R",
   "pygments_lexer": "r",
   "version": "3.6.1"
  }
 },
 "nbformat": 4,
 "nbformat_minor": 1
}
