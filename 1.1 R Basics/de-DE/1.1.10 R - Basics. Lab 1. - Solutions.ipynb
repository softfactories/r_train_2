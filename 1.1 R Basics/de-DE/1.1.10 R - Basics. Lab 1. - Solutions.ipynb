{
 "cells": [
  {
   "cell_type": "markdown",
   "metadata": {},
   "source": [
    "# Tag 1. Kapitel 1. Grundlagen\n",
    "\n",
    "## Lab 1.  \n",
    "\n",
    "### Lösungen\n",
    "\n",
    "In diesem Lab werden folgende Themen geübt:\n",
    "\n",
    "* Grundlegende Datentypen und Arithmetik\n",
    "* Vektoren\n",
    "* Vektor Operationen\n",
    "* Vergleichsoperatoren\n",
    "* Vektor Indexierung und Auswahl\n"
   ]
  },
  {
   "cell_type": "markdown",
   "metadata": {},
   "source": [
    "### Folgenden Aufgaben sind mit R zu lösen \n",
    "\n",
    "*Tipp: allle Aufgaben können auch in R Studio gelöst werden\n",
    "\n",
    "** Was ist zwei hoch zweiunddreißig? **"
   ]
  },
  {
   "cell_type": "code",
   "execution_count": 1,
   "metadata": {},
   "outputs": [
    {
     "data": {
      "text/html": [
       "4294967296"
      ],
      "text/latex": [
       "4294967296"
      ],
      "text/markdown": [
       "4294967296"
      ],
      "text/plain": [
       "[1] 4294967296"
      ]
     },
     "metadata": {},
     "output_type": "display_data"
    }
   ],
   "source": [
    "2 ^ 32"
   ]
  },
  {
   "cell_type": "markdown",
   "metadata": {},
   "source": [
    "** Erstelle einen Vektor namens ** temp.woche1 ** mit folgenden Messwerten: ** 37.8, 38.2, 35.9, 36.2, 36.6"
   ]
  },
  {
   "cell_type": "code",
   "execution_count": 2,
   "metadata": {
    "scrolled": true
   },
   "outputs": [
    {
     "data": {
      "text/html": [
       "<ol class=list-inline>\n",
       "\t<li>37.8</li>\n",
       "\t<li>38.2</li>\n",
       "\t<li>35.9</li>\n",
       "\t<li>36.2</li>\n",
       "\t<li>36.6</li>\n",
       "</ol>\n"
      ],
      "text/latex": [
       "\\begin{enumerate*}\n",
       "\\item 37.8\n",
       "\\item 38.2\n",
       "\\item 35.9\n",
       "\\item 36.2\n",
       "\\item 36.6\n",
       "\\end{enumerate*}\n"
      ],
      "text/markdown": [
       "1. 37.8\n",
       "2. 38.2\n",
       "3. 35.9\n",
       "4. 36.2\n",
       "5. 36.6\n",
       "\n",
       "\n"
      ],
      "text/plain": [
       "[1] 37.8 38.2 35.9 36.2 36.6"
      ]
     },
     "metadata": {},
     "output_type": "display_data"
    }
   ],
   "source": [
    "temp.woche1 <- c(37.8, 38.2, 35.9, 36.2, 36.6)\n",
    "temp.woche1"
   ]
  },
  {
   "cell_type": "markdown",
   "metadata": {},
   "source": [
    "** Weise den Einträgen abgekürzte Namen der Wochentagen von Montag bis Freitag zu (Mo, Di, Mi, usw.) **"
   ]
  },
  {
   "cell_type": "code",
   "execution_count": 3,
   "metadata": {},
   "outputs": [
    {
     "data": {
      "text/html": [
       "<dl class=dl-horizontal>\n",
       "\t<dt>Mo</dt>\n",
       "\t\t<dd>37.8</dd>\n",
       "\t<dt>Di</dt>\n",
       "\t\t<dd>38.2</dd>\n",
       "\t<dt>Mi</dt>\n",
       "\t\t<dd>35.9</dd>\n",
       "\t<dt>Do</dt>\n",
       "\t\t<dd>36.2</dd>\n",
       "\t<dt>Fr</dt>\n",
       "\t\t<dd>36.6</dd>\n",
       "</dl>\n"
      ],
      "text/latex": [
       "\\begin{description*}\n",
       "\\item[Mo] 37.8\n",
       "\\item[Di] 38.2\n",
       "\\item[Mi] 35.9\n",
       "\\item[Do] 36.2\n",
       "\\item[Fr] 36.6\n",
       "\\end{description*}\n"
      ],
      "text/markdown": [
       "Mo\n",
       ":   37.8Di\n",
       ":   38.2Mi\n",
       ":   35.9Do\n",
       ":   36.2Fr\n",
       ":   36.6\n",
       "\n"
      ],
      "text/plain": [
       "  Mo   Di   Mi   Do   Fr \n",
       "37.8 38.2 35.9 36.2 36.6 "
      ]
     },
     "metadata": {},
     "output_type": "display_data"
    }
   ],
   "source": [
    "names(temp.woche1) <- c('Mo','Di','Mi','Do','Fr')\n",
    "temp.woche1"
   ]
  },
  {
   "cell_type": "markdown",
   "metadata": {},
   "source": [
    "** Was ist der durchschnittliche Körper-Temperatur beim Patienten (en. mean) für dieser Woche gewesen? **\n",
    "(Man kann hier eine eingebaute Funktion verwenden. Siehe Kapitel 8 für Details.)"
   ]
  },
  {
   "cell_type": "code",
   "execution_count": 30,
   "metadata": {},
   "outputs": [
    {
     "data": {
      "text/plain": [
       "   Min. 1st Qu.  Median    Mean 3rd Qu.    Max. \n",
       "  35.90   36.20   36.60   36.94   37.80   38.20 "
      ]
     },
     "metadata": {},
     "output_type": "display_data"
    },
    {
     "data": {
      "text/html": [
       "36.94"
      ],
      "text/latex": [
       "36.94"
      ],
      "text/markdown": [
       "36.94"
      ],
      "text/plain": [
       "[1] 36.94"
      ]
     },
     "metadata": {},
     "output_type": "display_data"
    }
   ],
   "source": [
    "summary(temp.woche1)\n",
    "mean(temp.woche1)"
   ]
  },
  {
   "cell_type": "markdown",
   "metadata": {},
   "source": [
    "** Erstelle einen Filter-Vektor ** temp.hoch **, der zeigt, ob beim Patienten gemessene Körper-Temperatur über ** 36.6 ** liegt **"
   ]
  },
  {
   "cell_type": "code",
   "execution_count": 4,
   "metadata": {},
   "outputs": [
    {
     "data": {
      "text/html": [
       "<dl class=dl-horizontal>\n",
       "\t<dt>Mo</dt>\n",
       "\t\t<dd>TRUE</dd>\n",
       "\t<dt>Di</dt>\n",
       "\t\t<dd>TRUE</dd>\n",
       "\t<dt>Mi</dt>\n",
       "\t\t<dd>FALSE</dd>\n",
       "\t<dt>Do</dt>\n",
       "\t\t<dd>FALSE</dd>\n",
       "\t<dt>Fr</dt>\n",
       "\t\t<dd>FALSE</dd>\n",
       "</dl>\n"
      ],
      "text/latex": [
       "\\begin{description*}\n",
       "\\item[Mo] TRUE\n",
       "\\item[Di] TRUE\n",
       "\\item[Mi] FALSE\n",
       "\\item[Do] FALSE\n",
       "\\item[Fr] FALSE\n",
       "\\end{description*}\n"
      ],
      "text/markdown": [
       "Mo\n",
       ":   TRUEDi\n",
       ":   TRUEMi\n",
       ":   FALSEDo\n",
       ":   FALSEFr\n",
       ":   FALSE\n",
       "\n"
      ],
      "text/plain": [
       "   Mo    Di    Mi    Do    Fr \n",
       " TRUE  TRUE FALSE FALSE FALSE "
      ]
     },
     "metadata": {},
     "output_type": "display_data"
    }
   ],
   "source": [
    "temp.hoch <- temp.woche1 > 36.6\n",
    "temp.hoch"
   ]
  },
  {
   "cell_type": "markdown",
   "metadata": {},
   "source": [
    "** Wende Filter-Vektor ** temp.hoch ** an, um Fieber-Tage zu auszuwählen **"
   ]
  },
  {
   "cell_type": "code",
   "execution_count": 32,
   "metadata": {},
   "outputs": [
    {
     "data": {
      "text/html": [
       "<dl class=dl-horizontal>\n",
       "\t<dt>Mo</dt>\n",
       "\t\t<dd>37.8</dd>\n",
       "\t<dt>Di</dt>\n",
       "\t\t<dd>38.2</dd>\n",
       "</dl>\n"
      ],
      "text/latex": [
       "\\begin{description*}\n",
       "\\item[Mo] 37.8\n",
       "\\item[Di] 38.2\n",
       "\\end{description*}\n"
      ],
      "text/markdown": [
       "Mo\n",
       ":   37.8Di\n",
       ":   38.2\n",
       "\n"
      ],
      "text/plain": [
       "  Mo   Di \n",
       "37.8 38.2 "
      ]
     },
     "metadata": {},
     "output_type": "display_data"
    }
   ],
   "source": [
    "temp.woche1[temp.hoch]"
   ]
  },
  {
   "cell_type": "markdown",
   "metadata": {},
   "source": [
    "** Erstelle (mit einer eingebauten Funktion) einen Filter-Vektor für maximale Patienten-Temperatur.  **"
   ]
  },
  {
   "cell_type": "code",
   "execution_count": 33,
   "metadata": {},
   "outputs": [
    {
     "data": {
      "text/html": [
       "<dl class=dl-horizontal>\n",
       "\t<dt>Mo</dt>\n",
       "\t\t<dd>FALSE</dd>\n",
       "\t<dt>Di</dt>\n",
       "\t\t<dd>TRUE</dd>\n",
       "\t<dt>Mi</dt>\n",
       "\t\t<dd>FALSE</dd>\n",
       "\t<dt>Do</dt>\n",
       "\t\t<dd>FALSE</dd>\n",
       "\t<dt>Fr</dt>\n",
       "\t\t<dd>FALSE</dd>\n",
       "</dl>\n"
      ],
      "text/latex": [
       "\\begin{description*}\n",
       "\\item[Mo] FALSE\n",
       "\\item[Di] TRUE\n",
       "\\item[Mi] FALSE\n",
       "\\item[Do] FALSE\n",
       "\\item[Fr] FALSE\n",
       "\\end{description*}\n"
      ],
      "text/markdown": [
       "Mo\n",
       ":   FALSEDi\n",
       ":   TRUEMi\n",
       ":   FALSEDo\n",
       ":   FALSEFr\n",
       ":   FALSE\n",
       "\n"
      ],
      "text/plain": [
       "   Mo    Di    Mi    Do    Fr \n",
       "FALSE  TRUE FALSE FALSE FALSE "
      ]
     },
     "metadata": {},
     "output_type": "display_data"
    }
   ],
   "source": [
    "temp.max <- temp.woche1 == max(temp.woche1)\n",
    "temp.max"
   ]
  },
  {
   "cell_type": "markdown",
   "metadata": {},
   "source": [
    "** Max-Filter für Temperatur-Wochenmessungen anwenden, um herauszuwinden an welchem(n) Tag(en) Patienten-Temperatur am höchsten war **"
   ]
  },
  {
   "cell_type": "code",
   "execution_count": 34,
   "metadata": {},
   "outputs": [
    {
     "data": {
      "text/html": [
       "<strong>Di:</strong> 38.2"
      ],
      "text/latex": [
       "\\textbf{Di:} 38.2"
      ],
      "text/markdown": [
       "**Di:** 38.2"
      ],
      "text/plain": [
       "  Di \n",
       "38.2 "
      ]
     },
     "metadata": {},
     "output_type": "display_data"
    }
   ],
   "source": [
    "temp.woche1[temp.max]"
   ]
  },
  {
   "cell_type": "markdown",
   "metadata": {},
   "source": [
    "Ende von Lab 1."
   ]
  }
 ],
 "metadata": {
  "kernelspec": {
   "display_name": "R",
   "language": "R",
   "name": "ir"
  },
  "language_info": {
   "codemirror_mode": "r",
   "file_extension": ".r",
   "mimetype": "text/x-r-source",
   "name": "R",
   "pygments_lexer": "r",
   "version": "3.6.1"
  }
 },
 "nbformat": 4,
 "nbformat_minor": 1
}
