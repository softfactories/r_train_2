{
 "cells": [
  {
   "cell_type": "markdown",
   "metadata": {},
   "source": [
    "# Tag 1. Kapitel 6. R Programmierung\n",
    "\n",
    "## Lab 5. R Funktionen Übung - Lösung\n",
    "\n",
    "Lasst uns in dieser Übung euer Wissen über die Funktionen in R überprüfen! Dafür gibt es einige Aufgaben, die sich mit der Erstellung von Funktionen befassen. Diese Funktionen sollen bestimmte Parameter aufnehmen und bestimmte Ergebnisse erzeugen. Folgt dazu einfach den Anweisungen und orientiert euch an den zwei einleitenden Beispielen."
   ]
  },
  {
   "cell_type": "markdown",
   "metadata": {},
   "source": [
    "**Beispiel 1: Erstelle eine Funktion, die einen Namen als Parameter aufnimmt und als print-Ausgabe \"Hallo *Name*\" erzeugt**"
   ]
  },
  {
   "cell_type": "code",
   "execution_count": 1,
   "metadata": {},
   "outputs": [],
   "source": [
    "hallo_du <- function(name){\n",
    "    print(paste('Hallo',name))\n",
    "}"
   ]
  },
  {
   "cell_type": "code",
   "execution_count": 2,
   "metadata": {},
   "outputs": [
    {
     "name": "stdout",
     "output_type": "stream",
     "text": [
      "[1] \"Hallo Sam\"\n"
     ]
    }
   ],
   "source": [
    "hallo_du('Sam')"
   ]
  },
  {
   "cell_type": "markdown",
   "metadata": {},
   "source": [
    "** Beispiel 2: Erstelle eine Funktion, die einen Namen als Parameter aufnimmt und als return-Ausgabe \"Hallo *Name*\" erzeugt**"
   ]
  },
  {
   "cell_type": "code",
   "execution_count": 3,
   "metadata": {},
   "outputs": [],
   "source": [
    "hallo_du2 <- function(name){\n",
    "    return(paste('Hallo',name))\n",
    "}"
   ]
  },
  {
   "cell_type": "code",
   "execution_count": 4,
   "metadata": {},
   "outputs": [
    {
     "name": "stdout",
     "output_type": "stream",
     "text": [
      "[1] \"Hallo Sam\"\n"
     ]
    }
   ],
   "source": [
    "print(hallo_du2('Sam'))"
   ]
  },
  {
   "cell_type": "markdown",
   "metadata": {},
   "source": [
    "** Erstelle eine Funktion, die das Produkt von zwei ganzzahligen Werten zurückgibt (-> return).**"
   ]
  },
  {
   "cell_type": "code",
   "execution_count": 5,
   "metadata": {},
   "outputs": [],
   "source": [
    "prod <- function(num1,num2){\n",
    "    return(num1*num2)\n",
    "}"
   ]
  },
  {
   "cell_type": "code",
   "execution_count": 6,
   "metadata": {},
   "outputs": [
    {
     "data": {
      "text/html": [
       "12"
      ],
      "text/latex": [
       "12"
      ],
      "text/markdown": [
       "12"
      ],
      "text/plain": [
       "[1] 12"
      ]
     },
     "metadata": {},
     "output_type": "display_data"
    }
   ],
   "source": [
    "prod(3,4)"
   ]
  },
  {
   "cell_type": "markdown",
   "metadata": {},
   "source": [
    "**Erstelle eine Funktion, die zwei Parameter aufnimmt. Eine Interger (dt. Ganzzahl) und einen Vektor von ganzzahligen Werten. Sie soll TRUE zurückgeben, sofern die Integer im Vektor beinhaltet ist. Andenfalls soll das Ergebnis FLASE lauten. Achte dabei gut auf die Position der FALSE Rückgabe im Code.**"
   ]
  },
  {
   "cell_type": "code",
   "execution_count": 7,
   "metadata": {},
   "outputs": [],
   "source": [
    "num_check <- function(num,v){\n",
    "    for (item in v){\n",
    "        if (item == num){\n",
    "            return(TRUE)\n",
    "        }\n",
    "    }\n",
    "    return(FALSE)\n",
    "}"
   ]
  },
  {
   "cell_type": "code",
   "execution_count": 8,
   "metadata": {},
   "outputs": [
    {
     "data": {
      "text/html": [
       "TRUE"
      ],
      "text/latex": [
       "TRUE"
      ],
      "text/markdown": [
       "TRUE"
      ],
      "text/plain": [
       "[1] TRUE"
      ]
     },
     "metadata": {},
     "output_type": "display_data"
    }
   ],
   "source": [
    "num_check(2,c(1,2,3))"
   ]
  },
  {
   "cell_type": "code",
   "execution_count": 9,
   "metadata": {},
   "outputs": [
    {
     "data": {
      "text/html": [
       "FALSE"
      ],
      "text/latex": [
       "FALSE"
      ],
      "text/markdown": [
       "FALSE"
      ],
      "text/plain": [
       "[1] FALSE"
      ]
     },
     "metadata": {},
     "output_type": "display_data"
    }
   ],
   "source": [
    "num_check(2,c(1,4,5))"
   ]
  },
  {
   "cell_type": "markdown",
   "metadata": {},
   "source": [
    "**Erstelle eine Funktion, die zwei Parameter aufnimmt. Eine Interger (dt. Ganzzahl) und einen Vektor von ganzzahligen Werten. Die Funktion soll die Anzahl der Erscheinungen der Integer im Vektor ausgeben.**"
   ]
  },
  {
   "cell_type": "code",
   "execution_count": 10,
   "metadata": {},
   "outputs": [],
   "source": [
    "num_anzahl <- function(num,v){\n",
    "    anzahl = 0\n",
    "    for (x in v){\n",
    "        if (x == num){\n",
    "            anzahl <- anzahl + 1\n",
    "        }\n",
    "    }\n",
    "    return(anzahl)\n",
    "}"
   ]
  },
  {
   "cell_type": "code",
   "execution_count": 11,
   "metadata": {},
   "outputs": [
    {
     "data": {
      "text/html": [
       "2"
      ],
      "text/latex": [
       "2"
      ],
      "text/markdown": [
       "2"
      ],
      "text/plain": [
       "[1] 2"
      ]
     },
     "metadata": {},
     "output_type": "display_data"
    }
   ],
   "source": [
    "num_anzahl(2,c(1,1,2,2,3,3))"
   ]
  },
  {
   "cell_type": "code",
   "execution_count": 12,
   "metadata": {},
   "outputs": [
    {
     "data": {
      "text/html": [
       "4"
      ],
      "text/latex": [
       "4"
      ],
      "text/markdown": [
       "4"
      ],
      "text/plain": [
       "[1] 4"
      ]
     },
     "metadata": {},
     "output_type": "display_data"
    }
   ],
   "source": [
    "num_anzahl(1,c(1,1,2,2,3,1,4,5,5,2,2,1,3))"
   ]
  },
  {
   "cell_type": "markdown",
   "metadata": {},
   "source": [
    "**Wir wollen nun Blöcke aus Aluminium verschiffen. Dazu erstellen wir eine Funktion, die eine Interger akzeptiert, die die angeforderte Menge (in kg) repräsentiert. Um so eine Bestellung zu erfüllen können wir aus 5kg und 1kg Blöcken auswählen. DIe Funktion soll nun die kleinst mögliche Menge an Blöcken ausgeben.**\n",
    "\n",
    "**Zum Beispiel benötigen wir für eine Bestellung von 6kg mindestens zwei Blöcke: 1 x 5kg und 1 x 1kg. Eine Ladung von 17kg benötigt mindestens 5 Blöcke (3 x 5kg und 2 x 1kg).**"
   ]
  },
  {
   "cell_type": "code",
   "execution_count": 13,
   "metadata": {},
   "outputs": [],
   "source": [
    "bar_anzahl <- function(ladung){\n",
    "    anzahl_von_einsen = ladung %% 5\n",
    "    anzahl_von_fuenfen = (ladung - anzahl_von_einsen)/5\n",
    "    return(anzahl_von_einsen+anzahl_von_fuenfen)\n",
    "}"
   ]
  },
  {
   "cell_type": "code",
   "execution_count": 14,
   "metadata": {},
   "outputs": [
    {
     "data": {
      "text/html": [
       "2"
      ],
      "text/latex": [
       "2"
      ],
      "text/markdown": [
       "2"
      ],
      "text/plain": [
       "[1] 2"
      ]
     },
     "metadata": {},
     "output_type": "display_data"
    }
   ],
   "source": [
    "bar_anzahl(6)"
   ]
  },
  {
   "cell_type": "code",
   "execution_count": 15,
   "metadata": {},
   "outputs": [
    {
     "data": {
      "text/html": [
       "5"
      ],
      "text/latex": [
       "5"
      ],
      "text/markdown": [
       "5"
      ],
      "text/plain": [
       "[1] 5"
      ]
     },
     "metadata": {},
     "output_type": "display_data"
    }
   ],
   "source": [
    "bar_anzahl(17)"
   ]
  },
  {
   "cell_type": "markdown",
   "metadata": {},
   "source": [
    "** Erstelle eine Funktion, die 3 Integers als Eingabe akzeptiert und deren Summe zurückgibt. Allerdings zählen alle die Werte nicht zur Summe dazu, die gerade durch 3 teilbar sind (3,6,9,...). Falls alle Werte gerade durch 3 teilbar sind soll 0 zurückgegeben werden. Hinweis: append().**"
   ]
  },
  {
   "cell_type": "code",
   "execution_count": 16,
   "metadata": {},
   "outputs": [],
   "source": [
    "summe <- function(a, b, c){\n",
    "    out <- c(0)\n",
    "    if (a %% 3 != 0){\n",
    "        out <- append(a,out)\n",
    "    }\n",
    "    if (b %% 3 != 0){\n",
    "        out <- append(b,out)\n",
    "    }\n",
    "    if (c %% 3 != 0){\n",
    "        out <- append(c,out)\n",
    "    }\n",
    "    return(sum(out))       \n",
    "}"
   ]
  },
  {
   "cell_type": "code",
   "execution_count": 17,
   "metadata": {},
   "outputs": [
    {
     "data": {
      "text/html": [
       "9"
      ],
      "text/latex": [
       "9"
      ],
      "text/markdown": [
       "9"
      ],
      "text/plain": [
       "[1] 9"
      ]
     },
     "metadata": {},
     "output_type": "display_data"
    }
   ],
   "source": [
    "summe(7,2,3)"
   ]
  },
  {
   "cell_type": "code",
   "execution_count": 18,
   "metadata": {},
   "outputs": [
    {
     "data": {
      "text/html": [
       "0"
      ],
      "text/latex": [
       "0"
      ],
      "text/markdown": [
       "0"
      ],
      "text/plain": [
       "[1] 0"
      ]
     },
     "metadata": {},
     "output_type": "display_data"
    }
   ],
   "source": [
    "summe(3,6,9)"
   ]
  },
  {
   "cell_type": "code",
   "execution_count": 19,
   "metadata": {},
   "outputs": [
    {
     "data": {
      "text/html": [
       "11"
      ],
      "text/latex": [
       "11"
      ],
      "text/markdown": [
       "11"
      ],
      "text/plain": [
       "[1] 11"
      ]
     },
     "metadata": {},
     "output_type": "display_data"
    }
   ],
   "source": [
    "summe(9,11,12)"
   ]
  },
  {
   "cell_type": "markdown",
   "metadata": {},
   "source": [
    "**Erstelle eine Funktion, die TRUE ergibt, falls die eingegebene Interger eine Primzahl ist. Andernfalls soll das Ergebnis FALSE lauten.**"
   ]
  },
  {
   "cell_type": "markdown",
   "metadata": {},
   "source": [
    "Diese Aufgabe lässt sich auf viele verschiedene Arten lösen. Auf die Randlösungen wie z.B. negative Zahlen müsst ihr nicht unbedingt achten, könnt aber sehr gerne Abfragen für diese einbauen!"
   ]
  },
  {
   "cell_type": "code",
   "execution_count": 20,
   "metadata": {},
   "outputs": [],
   "source": [
    "prime_check <- function(num) {\n",
    "   if (num == 2) {\n",
    "      return(TRUE)\n",
    "   } else if (any(num %% 2:(num-1) == 0)) {\n",
    "      return(FALSE)\n",
    "   } else { \n",
    "      return(TRUE)\n",
    "   }\n",
    "}"
   ]
  },
  {
   "cell_type": "code",
   "execution_count": 21,
   "metadata": {},
   "outputs": [],
   "source": [
    "# Alternative:\n",
    "prime_check <- function(num){\n",
    "  # Wir könnten zusätzlich auf negative Werte kontrollieren\n",
    "  if (num == 2) {\n",
    "    return(TRUE)\n",
    "  }\n",
    "  for (x in 2:(num-1)){\n",
    "      \n",
    "    if ((num%%x) == 0){\n",
    "      return(FALSE)\n",
    "    }\n",
    "  }\n",
    "  return(TRUE)\n",
    "  \n",
    "}"
   ]
  },
  {
   "cell_type": "code",
   "execution_count": 22,
   "metadata": {},
   "outputs": [
    {
     "data": {
      "text/html": [
       "TRUE"
      ],
      "text/latex": [
       "TRUE"
      ],
      "text/markdown": [
       "TRUE"
      ],
      "text/plain": [
       "[1] TRUE"
      ]
     },
     "metadata": {},
     "output_type": "display_data"
    }
   ],
   "source": [
    "prime_check(2)"
   ]
  },
  {
   "cell_type": "code",
   "execution_count": 23,
   "metadata": {},
   "outputs": [
    {
     "data": {
      "text/html": [
       "TRUE"
      ],
      "text/latex": [
       "TRUE"
      ],
      "text/markdown": [
       "TRUE"
      ],
      "text/plain": [
       "[1] TRUE"
      ]
     },
     "metadata": {},
     "output_type": "display_data"
    }
   ],
   "source": [
    "prime_check(5)"
   ]
  },
  {
   "cell_type": "code",
   "execution_count": 24,
   "metadata": {},
   "outputs": [
    {
     "data": {
      "text/html": [
       "FALSE"
      ],
      "text/latex": [
       "FALSE"
      ],
      "text/markdown": [
       "FALSE"
      ],
      "text/plain": [
       "[1] FALSE"
      ]
     },
     "metadata": {},
     "output_type": "display_data"
    }
   ],
   "source": [
    "prime_check(4)"
   ]
  },
  {
   "cell_type": "code",
   "execution_count": 25,
   "metadata": {},
   "outputs": [
    {
     "data": {
      "text/html": [
       "FALSE"
      ],
      "text/latex": [
       "FALSE"
      ],
      "text/markdown": [
       "FALSE"
      ],
      "text/plain": [
       "[1] FALSE"
      ]
     },
     "metadata": {},
     "output_type": "display_data"
    }
   ],
   "source": [
    "prime_check(237)"
   ]
  },
  {
   "cell_type": "code",
   "execution_count": 26,
   "metadata": {},
   "outputs": [
    {
     "data": {
      "text/html": [
       "TRUE"
      ],
      "text/latex": [
       "TRUE"
      ],
      "text/markdown": [
       "TRUE"
      ],
      "text/plain": [
       "[1] TRUE"
      ]
     },
     "metadata": {},
     "output_type": "display_data"
    }
   ],
   "source": [
    "prime_check(131)"
   ]
  },
  {
   "cell_type": "markdown",
   "metadata": {},
   "source": [
    "Herzlichen Glückwunsch! Sie sind mit Lab 5. fertig!"
   ]
  }
 ],
 "metadata": {
  "kernelspec": {
   "display_name": "R",
   "language": "R",
   "name": "ir"
  },
  "language_info": {
   "codemirror_mode": "r",
   "file_extension": ".r",
   "mimetype": "text/x-r-source",
   "name": "R",
   "pygments_lexer": "r",
   "version": "3.6.1"
  }
 },
 "nbformat": 4,
 "nbformat_minor": 1
}
