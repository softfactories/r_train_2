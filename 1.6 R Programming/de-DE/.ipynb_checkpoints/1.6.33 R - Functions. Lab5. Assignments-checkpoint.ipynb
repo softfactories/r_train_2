{
 "cells": [
  {
   "cell_type": "markdown",
   "metadata": {},
   "source": [
    "# Tag 1. Kapitel 6. R Programmierung\n",
    "\n",
    "## Lab 5. R Funktionen Übung\n",
    "\n",
    "Lasst uns in dieser Übung euer Wissen über die Funktionen in R überprüfen! Dafür gibt es einige Aufgaben, die sich mit der Erstellung von Funktionen befassen. Diese Funktionen sollen bestimmte Parameter aufnehmen und bestimmte Ergebnisse erzeugen. Folgt dazu einfach den Anweisungen und orientiert euch an den zwei einleitenden Beispielen."
   ]
  },
  {
   "cell_type": "markdown",
   "metadata": {},
   "source": [
    "**Beispiel 1: Erstelle eine Funktion, die einen Namen als Parameter aufnimmt und als print-Ausgabe \"Hallo *Name*\" erzeugt**"
   ]
  },
  {
   "cell_type": "code",
   "execution_count": null,
   "metadata": {},
   "outputs": [],
   "source": []
  },
  {
   "cell_type": "code",
   "execution_count": null,
   "metadata": {},
   "outputs": [],
   "source": []
  },
  {
   "cell_type": "markdown",
   "metadata": {},
   "source": [
    "** Beispiel 2: Erstelle eine Funktion, die einen Namen als Parameter aufnimmt und als return-Ausgabe \"Hallo *Name*\" erzeugt**"
   ]
  },
  {
   "cell_type": "code",
   "execution_count": null,
   "metadata": {},
   "outputs": [],
   "source": []
  },
  {
   "cell_type": "code",
   "execution_count": null,
   "metadata": {},
   "outputs": [],
   "source": []
  },
  {
   "cell_type": "markdown",
   "metadata": {},
   "source": [
    "** Erstelle eine Funktion, die das Produkt von zwei ganzzahligen Werten zurückgibt (-> return).**"
   ]
  },
  {
   "cell_type": "code",
   "execution_count": null,
   "metadata": {},
   "outputs": [],
   "source": []
  },
  {
   "cell_type": "code",
   "execution_count": null,
   "metadata": {},
   "outputs": [],
   "source": []
  },
  {
   "cell_type": "markdown",
   "metadata": {},
   "source": [
    "**Erstelle eine Funktion, die zwei Parameter aufnimmt. Eine Interger (dt. Ganzzahl) und einen Vektor von ganzzahligen Werten. Sie soll TRUE zurückgeben, sofern die Integer im Vektor beinhaltet ist. Andenfalls soll das Ergebnis FLASE lauten. Achte dabei gut auf die Position der FALSE Rückgabe im Code.**"
   ]
  },
  {
   "cell_type": "code",
   "execution_count": null,
   "metadata": {},
   "outputs": [],
   "source": []
  },
  {
   "cell_type": "code",
   "execution_count": null,
   "metadata": {},
   "outputs": [],
   "source": []
  },
  {
   "cell_type": "code",
   "execution_count": null,
   "metadata": {},
   "outputs": [],
   "source": []
  },
  {
   "cell_type": "markdown",
   "metadata": {},
   "source": [
    "**Erstelle eine Funktion, die zwei Parameter aufnimmt. Eine Interger (dt. Ganzzahl) und einen Vektor von ganzzahligen Werten. Die Funktion soll die Anzahl der Erscheinungen der Integer im Vektor ausgeben.**"
   ]
  },
  {
   "cell_type": "code",
   "execution_count": null,
   "metadata": {},
   "outputs": [],
   "source": []
  },
  {
   "cell_type": "code",
   "execution_count": null,
   "metadata": {},
   "outputs": [],
   "source": []
  },
  {
   "cell_type": "code",
   "execution_count": null,
   "metadata": {},
   "outputs": [],
   "source": []
  },
  {
   "cell_type": "markdown",
   "metadata": {},
   "source": [
    "**Wir wollen nun Blöcke aus Aluminium verschiffen. Dazu erstellen wir eine Funktion, die eine Interger akzeptiert, die die angeforderte Menge (in kg) repräsentiert. Um so eine Bestellung zu erfüllen können wir aus 5kg und 1kg Blöcken auswählen. DIe Funktion soll nun die kleinst mögliche Menge an Blöcken ausgeben.**\n",
    "\n",
    "**Zum Beispiel benötigen wir für eine Bestellung von 6kg mindestens zwei Blöcke: 1 x 5kg und 1 x 1kg. Eine Ladung von 17kg benötigt mindestens 5 Blöcke (3 x 5kg und 2 x 1kg).**"
   ]
  },
  {
   "cell_type": "code",
   "execution_count": null,
   "metadata": {},
   "outputs": [],
   "source": []
  },
  {
   "cell_type": "code",
   "execution_count": null,
   "metadata": {},
   "outputs": [],
   "source": []
  },
  {
   "cell_type": "code",
   "execution_count": null,
   "metadata": {},
   "outputs": [],
   "source": []
  },
  {
   "cell_type": "markdown",
   "metadata": {},
   "source": [
    "** Erstelle eine Funktion, die 3 Integers als Eingabe akzeptiert und deren Summe zurückgibt. Allerdings zählen alle die Werte nicht zur Summe dazu, die gerade durch 3 teilbar sind (3,6,9,...). Falls alle Werte gerade durch 3 teilbar sind soll 0 zurückgegeben werden. Hinweis: append().**"
   ]
  },
  {
   "cell_type": "code",
   "execution_count": null,
   "metadata": {},
   "outputs": [],
   "source": []
  },
  {
   "cell_type": "code",
   "execution_count": null,
   "metadata": {},
   "outputs": [],
   "source": []
  },
  {
   "cell_type": "code",
   "execution_count": null,
   "metadata": {},
   "outputs": [],
   "source": []
  },
  {
   "cell_type": "code",
   "execution_count": null,
   "metadata": {},
   "outputs": [],
   "source": []
  },
  {
   "cell_type": "markdown",
   "metadata": {},
   "source": [
    "**Erstelle eine Funktion, die TRUE ergibt, falls die eingegebene Interger eine Primzahl ist. Andernfalls soll das Ergebnis FALSE lauten.**"
   ]
  },
  {
   "cell_type": "markdown",
   "metadata": {},
   "source": [
    "Diese Aufgabe lässt sich auf viele verschiedene Arten lösen. Auf die Randlösungen wie z.B. negative Zahlen müsst ihr nicht unbedingt achten, könnt aber sehr gerne Abfragen für diese einbauen!"
   ]
  },
  {
   "cell_type": "code",
   "execution_count": null,
   "metadata": {},
   "outputs": [],
   "source": []
  },
  {
   "cell_type": "code",
   "execution_count": null,
   "metadata": {},
   "outputs": [],
   "source": []
  },
  {
   "cell_type": "code",
   "execution_count": null,
   "metadata": {},
   "outputs": [],
   "source": []
  },
  {
   "cell_type": "code",
   "execution_count": null,
   "metadata": {},
   "outputs": [],
   "source": []
  },
  {
   "cell_type": "code",
   "execution_count": null,
   "metadata": {},
   "outputs": [],
   "source": []
  },
  {
   "cell_type": "code",
   "execution_count": null,
   "metadata": {},
   "outputs": [],
   "source": []
  },
  {
   "cell_type": "code",
   "execution_count": null,
   "metadata": {},
   "outputs": [],
   "source": []
  },
  {
   "cell_type": "markdown",
   "metadata": {},
   "source": [
    "Herzlichen Glückwunsch! Sie sind mit Lab 5. fertig!"
   ]
  }
 ],
 "metadata": {
  "kernelspec": {
   "display_name": "R",
   "language": "R",
   "name": "ir"
  },
  "language_info": {
   "codemirror_mode": "r",
   "file_extension": ".r",
   "mimetype": "text/x-r-source",
   "name": "R",
   "pygments_lexer": "r",
   "version": "3.6.1"
  }
 },
 "nbformat": 4,
 "nbformat_minor": 1
}
