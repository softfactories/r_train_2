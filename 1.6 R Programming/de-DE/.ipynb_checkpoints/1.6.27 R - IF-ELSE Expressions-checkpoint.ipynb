{
 "cells": [
  {
   "cell_type": "markdown",
   "metadata": {},
   "source": [
    "# Tag 1. Kapitel 6. R Programmierung\n",
    "\n",
    "## Lektion 27. IF-ELSE Anweisungen\n",
    "\n",
    "Es ist jetzt endlich Zeit eine zumindest kleine Logik mit R zu programmieren! Unser erster Schritt dieser Lernkurve wird sein if, else und else if Anweisungen zu verstehen.\n",
    "\n",
    "Die Syntax einer `if` Anweisung in R lautet:\n",
    "\n",
    "    if (Bedingung){\n",
    "        # Führe Code aus\n",
    "    }\n",
    "\n",
    "Was heißt das denn überhaupt fragt man möglicherweise, wenn man noch nie eine if Anweisung gesehen hat. Es bedeutet, dass wir eine eifnache Logik zu unserem Code hinzufügen können. Wir sagen if (dt. falls) eine gewisse Bedingung erfüllt (d.h. TRUE) ist, dann soll der Code innerhalb der geschwungenen Klammern ausgeführt werden.\n",
    "\n",
    "Zum Beispiel können wir uns die zwei Variablen **heiss** und **temp** vorstellen. Nun ist **heiss** zunächst als FALSE definiert. Falls (en. if) die **temp** nun über 35°C liegt, dann wird **heiss** zu TRUE.\n",
    "\n",
    "Schauen wir uns den Code dazu an:"
   ]
  },
  {
   "cell_type": "code",
   "execution_count": 1,
   "metadata": {},
   "outputs": [],
   "source": [
    "heiss <- FALSE\n",
    "temp <- 28"
   ]
  },
  {
   "cell_type": "code",
   "execution_count": 2,
   "metadata": {},
   "outputs": [
    {
     "data": {
      "text/html": [
       "FALSE"
      ],
      "text/latex": [
       "FALSE"
      ],
      "text/markdown": [
       "FALSE"
      ],
      "text/plain": [
       "[1] FALSE"
      ]
     },
     "metadata": {},
     "output_type": "display_data"
    }
   ],
   "source": [
    "if (temp > 35){\n",
    "    heiss <- TRUE\n",
    "    \n",
    "}\n",
    "heiss"
   ]
  },
  {
   "cell_type": "code",
   "execution_count": 3,
   "metadata": {},
   "outputs": [
    {
     "data": {
      "text/html": [
       "TRUE"
      ],
      "text/latex": [
       "TRUE"
      ],
      "text/markdown": [
       "TRUE"
      ],
      "text/plain": [
       "[1] TRUE"
      ]
     },
     "metadata": {},
     "output_type": "display_data"
    }
   ],
   "source": [
    "# temp neu definieren\n",
    "temp <- 37\n",
    "\n",
    "if (temp > 35){\n",
    "    heiss <- TRUE\n",
    "    \n",
    "}\n",
    "\n",
    "heiss"
   ]
  },
  {
   "cell_type": "markdown",
   "metadata": {},
   "source": [
    "Dabei sollten wir daran denken den Code so zu formatieren, dass wir ihn später einfach wieder öffnen und lesen können. Üblicherweise richten wir die abschließende Klammer an der if Anweisung aus, zu der sie gehört. Nichtsdestotrotz könnten wir auch unordentlich vorgehen und der Code würde dank der Klammern immernoch funktionieren:"
   ]
  },
  {
   "cell_type": "code",
   "execution_count": 4,
   "metadata": {},
   "outputs": [
    {
     "name": "stdout",
     "output_type": "stream",
     "text": [
      "[1] \"Hi\"\n"
     ]
    }
   ],
   "source": [
    "if( 1 == 1){        print('Hi')}"
   ]
  },
  {
   "cell_type": "code",
   "execution_count": 5,
   "metadata": {},
   "outputs": [
    {
     "name": "stdout",
     "output_type": "stream",
     "text": [
      "[1] \"Hi\"\n"
     ]
    }
   ],
   "source": [
    "if(1 ==   1)\n",
    "\n",
    "{\n",
    "\n",
    "    print('Hi')\n",
    "\n",
    "             }\n",
    "\n",
    "# Funktioniert...lässt sich aber schlecht lesen!"
   ]
  },
  {
   "cell_type": "markdown",
   "metadata": {},
   "source": [
    "Ein guter Editor wie R Studio wird uns dabei helfen alles angemessen auszurichten.\n",
    "\n",
    "## else\n",
    "\n",
    "Falls wir einen anderen Codeblock ausführen wollen, sofern die if Anweisung nicht erfüllt ist, können wir die **else** Anweisung dazu verwenden. Es ergibt sich folgende Syntax:\n",
    "\n",
    "    if (Bedingung) {\n",
    "      # Code sofern die Bedingung zu TRUE führt\n",
    "    } else {\n",
    "      # Code sofern die Bedingung zu FALSE führt\n",
    "    }\n",
    "\n",
    "Achtet hier exemplarisch auf die Platzierung der Klammern und des *else* Stichworts."
   ]
  },
  {
   "cell_type": "code",
   "execution_count": 6,
   "metadata": {},
   "outputs": [
    {
     "name": "stdout",
     "output_type": "stream",
     "text": [
      "[1] \"Es ist heute nicht zu heiß!\"\n"
     ]
    }
   ],
   "source": [
    "temp <- 30\n",
    "\n",
    "if (temp > 35){\n",
    "    print(\"Heiß draußen!\")\n",
    "} else{\n",
    "    print(\"Es ist heute nicht zu heiß!\")\n",
    "}"
   ]
  },
  {
   "cell_type": "markdown",
   "metadata": {},
   "source": [
    "# else if\n",
    "\n",
    "Was ist nun, falls wir mehrere Optionen angeben und überprüfen möchten? Dann fügen wir jede weitere Überprüfung bzw. Bedingung über die **else if** Anweisung hinzu. Am Ende verwenden wir **else** um festzulegen, was passiert, wenn keine Überprüfung als Ergebnis TRUE hatte."
   ]
  },
  {
   "cell_type": "code",
   "execution_count": 7,
   "metadata": {},
   "outputs": [
    {
     "name": "stdout",
     "output_type": "stream",
     "text": [
      "[1] \"Draußen ist es kalt!\"\n"
     ]
    }
   ],
   "source": [
    "temp <- 5\n",
    "\n",
    "if (temp > 35){\n",
    "    print(\"Heiß draußen!\")\n",
    "} else if(temp<35 & temp>20){\n",
    "    print('Schön draußen!')\n",
    "} else if(temp <20 & temp > 10){\n",
    "    print(\"Es ist etwas kühler!\")\n",
    "} else{\n",
    "    print(\"Draußen ist es kalt!\")\n",
    "}"
   ]
  },
  {
   "cell_type": "code",
   "execution_count": 8,
   "metadata": {},
   "outputs": [
    {
     "name": "stdout",
     "output_type": "stream",
     "text": [
      "[1] \"Schön draußen!\"\n"
     ]
    }
   ],
   "source": [
    "temp <- 27\n",
    "\n",
    "if (temp > 35){\n",
    "    print(\"Heiß draußen!\")\n",
    "} else if(temp<35 & temp>20){\n",
    "    print('Schön draußen!')\n",
    "} else if(temp <20 & temp > 10){\n",
    "    print(\"Es ist etwas kühler!\")\n",
    "} else{\n",
    "    print(\"Draußen ist es kalt!\")\n",
    "}"
   ]
  },
  {
   "cell_type": "markdown",
   "metadata": {},
   "source": [
    "## Abschließendes Beispiel\n",
    "\n",
    "Schauen wir uns ein etwas ausgearbeiteteres Beispiel von if, else if und else an. Stellen wir uns vor wir haben einen Laden mit zwei Produkten: Schinken und Käse. Wir würden gerne einen automatisierten Bericht erstellen, der zur verwaltung geschickt werden kann. Er soll berichten, wie viel wir verkaufen:"
   ]
  },
  {
   "cell_type": "code",
   "execution_count": 9,
   "metadata": {},
   "outputs": [
    {
     "name": "stdout",
     "output_type": "stream",
     "text": [
      "[1] \"Beide Produkte wurden gut verkauft.\"\n"
     ]
    }
   ],
   "source": [
    "# Produkte, die heute verkauft wurden\n",
    "schinken <- 10\n",
    "kaese <- 10\n",
    "\n",
    "# Bericht für die Verwaltung\n",
    "bericht <- 'leer'\n",
    "\n",
    "\n",
    "if(schinken >= 10 & kaese >= 10){\n",
    "    bericht <- \"Beide Produkte wurden gut verkauft.\"\n",
    "    \n",
    "}else if(schinken == 0 & kaese == 0){\n",
    "    bericht <- \"Gar nichts verkauft!\"\n",
    "}else{\n",
    "    bericht <- 'Wir hatten ein paar Verkäufe.'\n",
    "}\n",
    "print(bericht)  "
   ]
  },
  {
   "cell_type": "markdown",
   "metadata": {},
   "source": [
    "Herzlichen Glückwunsch! Sie sind mit Lektion 27. fertig!"
   ]
  }
 ],
 "metadata": {
  "kernelspec": {
   "display_name": "R",
   "language": "R",
   "name": "ir"
  },
  "language_info": {
   "codemirror_mode": "r",
   "file_extension": ".r",
   "mimetype": "text/x-r-source",
   "name": "R",
   "pygments_lexer": "r",
   "version": "3.6.1"
  }
 },
 "nbformat": 4,
 "nbformat_minor": 1
}
