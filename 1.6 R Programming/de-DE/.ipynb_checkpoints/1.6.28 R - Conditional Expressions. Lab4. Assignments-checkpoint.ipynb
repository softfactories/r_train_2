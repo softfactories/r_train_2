{
 "cells": [
  {
   "cell_type": "markdown",
   "metadata": {},
   "source": [
    "# Tag 1. Kapitel 6. R Programmierung\n",
    "\n",
    "## Lab 4. Übung\n",
    "\n",
    "Für diese Übung wollen wir anwenden, was wir über if, else if und else Anweisungen gelernt haben! Die erste Aufgabe ist dabei exemplarisch gelöst:\n",
    "\n",
    "**Schreibe ein Skript, das \"Hallo\" ausgibt (->print), wenn die Variable x gleich 1 ist:**"
   ]
  },
  {
   "cell_type": "code",
   "execution_count": null,
   "metadata": {},
   "outputs": [],
   "source": []
  },
  {
   "cell_type": "markdown",
   "metadata": {},
   "source": [
    "**Schreibe ein Skript das \"Gerade Zahl\" ausgibt, wenn die Variable x eine gerade Zahl ist. Andernfalls wollen wir \"Ungerade\" ausgeben.**"
   ]
  },
  {
   "cell_type": "code",
   "execution_count": null,
   "metadata": {},
   "outputs": [],
   "source": []
  },
  {
   "cell_type": "markdown",
   "metadata": {},
   "source": [
    "**Schreibe ein Skript, das \"Ist eine Matrix\" ausgibt, falls die Variable x eine Matrix beinhaltet. Andernfalls soll das Ergebnis \"Keine Matrix\" lauten.**"
   ]
  },
  {
   "cell_type": "code",
   "execution_count": null,
   "metadata": {},
   "outputs": [],
   "source": []
  },
  {
   "cell_type": "markdown",
   "metadata": {},
   "source": [
    "**Erstelle ein Skript, dass einen numerischen Vektor mit 3 Werten als Eingabe aufnimmt und die Elemente darin von groß nach klein sortiert ausgibt. Dazu musst du if, else if und else für deine Logik verwenden.**"
   ]
  },
  {
   "cell_type": "code",
   "execution_count": null,
   "metadata": {},
   "outputs": [],
   "source": []
  },
  {
   "cell_type": "markdown",
   "metadata": {},
   "source": [
    "**Schreibe unter Verwendung von if, else if und else Anweisungen ein Skript, das den höchsten von drei Werten in einem numerischen Vektor ausgibt.**"
   ]
  },
  {
   "cell_type": "code",
   "execution_count": null,
   "metadata": {},
   "outputs": [],
   "source": []
  },
  {
   "cell_type": "markdown",
   "metadata": {},
   "source": [
    "Herzlichen Glückwunsch! Sie sind mit Lab 4. fertig!"
   ]
  }
 ],
 "metadata": {
  "kernelspec": {
   "display_name": "R",
   "language": "R",
   "name": "ir"
  },
  "language_info": {
   "codemirror_mode": "r",
   "file_extension": ".r",
   "mimetype": "text/x-r-source",
   "name": "R",
   "pygments_lexer": "r",
   "version": "3.6.1"
  }
 },
 "nbformat": 4,
 "nbformat_minor": 1
}
