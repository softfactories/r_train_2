{
 "cells": [
  {
   "cell_type": "markdown",
   "metadata": {},
   "source": [
    "# Tag 1. Kapitel 6. R Programmierung\n",
    "\n",
    "## Lektion 30. While Schleifen\n",
    "\n",
    "`while` Schleifen sind eine Möglichkeit unsere Programm so lange laufen zu lassen, solange eine bestimmte Bedingung erfüllt ist (d.h. TRUE ergibt). Die Syntax lautet:\n",
    "\n",
    "    while (Bedingung){\n",
    "        # Führe diesen Code aus\n",
    "        # Solange die Bedingung erfüllt ist\n",
    "    }\n",
    "\n",
    "Einer der wichtigsten Aspekte bei der Arbeit mit while Schleifen ist, darauf zu achten, dass die Bedingungn zu irgendeinem Zeitpunkt wirklich nicht mehr erfüllt wird. Andernfalls würden wir in einer unendlichen Schleife landen. Deshab der **Hinweis**: In R Studio können wir Prozesse mit Strg + C beenden (Cmd + C für MAC).\n",
    "\n",
    "Hier noch ein kurzer Exkurs dazu Variablen gemeinsam mit Strings auszugeben:"
   ]
  },
  {
   "cell_type": "code",
   "execution_count": 1,
   "metadata": {},
   "outputs": [
    {
     "name": "stdout",
     "output_type": "stream",
     "text": [
      "[1] \"Nur ein String\"\n"
     ]
    }
   ],
   "source": [
    "print('Nur ein String')"
   ]
  },
  {
   "cell_type": "code",
   "execution_count": 2,
   "metadata": {},
   "outputs": [
    {
     "name": "stdout",
     "output_type": "stream",
     "text": [
      "Meine Variable ist: Eine Variable"
     ]
    }
   ],
   "source": [
    "var <- 'Eine Variable'\n",
    "cat('Meine Variable ist:',var)"
   ]
  },
  {
   "cell_type": "code",
   "execution_count": 3,
   "metadata": {},
   "outputs": [
    {
     "name": "stdout",
     "output_type": "stream",
     "text": [
      "Meine Nummer ist: 25"
     ]
    }
   ],
   "source": [
    "var <- 25\n",
    "cat('Meine Nummer ist:',var)"
   ]
  },
  {
   "cell_type": "code",
   "execution_count": 4,
   "metadata": {},
   "outputs": [
    {
     "name": "stdout",
     "output_type": "stream",
     "text": [
      "[1] \"Variable ist: 25\"\n"
     ]
    }
   ],
   "source": [
    "# Alternativer Weg\n",
    "print(paste0(\"Variable ist: \", var))"
   ]
  },
  {
   "cell_type": "markdown",
   "metadata": {},
   "source": [
    "Im folgenden Beispiel werden wir die `cat` Funktion verwenden und eine erste while-Schleife programmieren:"
   ]
  },
  {
   "cell_type": "code",
   "execution_count": 5,
   "metadata": {},
   "outputs": [
    {
     "name": "stdout",
     "output_type": "stream",
     "text": [
      "x ist aktuell: 0[1] \" x liegt immer noch unter 10, füge 1 zu x hinzu\"\n",
      "x ist aktuell: 1[1] \" x liegt immer noch unter 10, füge 1 zu x hinzu\"\n",
      "x ist aktuell: 2[1] \" x liegt immer noch unter 10, füge 1 zu x hinzu\"\n",
      "x ist aktuell: 3[1] \" x liegt immer noch unter 10, füge 1 zu x hinzu\"\n",
      "x ist aktuell: 4[1] \" x liegt immer noch unter 10, füge 1 zu x hinzu\"\n",
      "x ist aktuell: 5[1] \" x liegt immer noch unter 10, füge 1 zu x hinzu\"\n",
      "x ist aktuell: 6[1] \" x liegt immer noch unter 10, füge 1 zu x hinzu\"\n",
      "x ist aktuell: 7[1] \" x liegt immer noch unter 10, füge 1 zu x hinzu\"\n",
      "x ist aktuell: 8[1] \" x liegt immer noch unter 10, füge 1 zu x hinzu\"\n",
      "x ist aktuell: 9[1] \" x liegt immer noch unter 10, füge 1 zu x hinzu\"\n"
     ]
    }
   ],
   "source": [
    "x <- 0\n",
    "\n",
    "while(x < 10){\n",
    "    \n",
    "    cat('x ist aktuell:',x)\n",
    "    print(' x liegt immer noch unter 10, füge 1 zu x hinzu')\n",
    "    \n",
    "    # x um eins erhöhen\n",
    "    x <- x+1\n",
    "}\n"
   ]
  },
  {
   "cell_type": "markdown",
   "metadata": {},
   "source": [
    "Ergänzen wir diese Logik um eine if-Anweisung:"
   ]
  },
  {
   "cell_type": "code",
   "execution_count": 6,
   "metadata": {},
   "outputs": [
    {
     "name": "stdout",
     "output_type": "stream",
     "text": [
      "x ist aktuell: 0[1] \" x liegt immer noch unter 10, füge 1 zu x hinzu\"\n",
      "x ist aktuell: 1[1] \" x liegt immer noch unter 10, füge 1 zu x hinzu\"\n",
      "x ist aktuell: 2[1] \" x liegt immer noch unter 10, füge 1 zu x hinzu\"\n",
      "x ist aktuell: 3[1] \" x liegt immer noch unter 10, füge 1 zu x hinzu\"\n",
      "x ist aktuell: 4[1] \" x liegt immer noch unter 10, füge 1 zu x hinzu\"\n",
      "x ist aktuell: 5[1] \" x liegt immer noch unter 10, füge 1 zu x hinzu\"\n",
      "x ist aktuell: 6[1] \" x liegt immer noch unter 10, füge 1 zu x hinzu\"\n",
      "x ist aktuell: 7[1] \" x liegt immer noch unter 10, füge 1 zu x hinzu\"\n",
      "x ist aktuell: 8[1] \" x liegt immer noch unter 10, füge 1 zu x hinzu\"\n",
      "x ist aktuell: 9[1] \" x liegt immer noch unter 10, füge 1 zu x hinzu\"\n",
      "[1] \"x ist jetzt 10! Schleife beenden\"\n"
     ]
    }
   ],
   "source": [
    "x <- 0\n",
    "\n",
    "while(x < 10){\n",
    "    \n",
    "    cat('x ist aktuell:',x)\n",
    "    print(' x liegt immer noch unter 10, füge 1 zu x hinzu')\n",
    "    \n",
    "    # x um eins erhöhen\n",
    "    x <- x+1\n",
    "    if(x==10){\n",
    "        print(\"x ist jetzt 10! Schleife beenden\")\n",
    "    }\n",
    "}\n"
   ]
  },
  {
   "cell_type": "markdown",
   "metadata": {},
   "source": [
    "## break\n",
    "\n",
    "Wir können `break` benutzen, um aus einer Schleife auszubrechen. Zuvor haben wir eine if-Anweisung genutzt, um zu überprüfen, ob x bereits den Wert 10 hat. Diese hat die Schleife aber nicht tatsächlich beendet. Die Bedingung der while-Schleife wurde beim nächsten Durchlauf ganz einfach nicht mehr erfüllt. Schauen wir uns jetzt ein Beispiel an, in dem wir `break` nutzen, um die Schleife tatsächlich zu beenden:"
   ]
  },
  {
   "cell_type": "code",
   "execution_count": 7,
   "metadata": {},
   "outputs": [
    {
     "name": "stdout",
     "output_type": "stream",
     "text": [
      "x ist aktuell: 0[1] \" x liegt immer noch unter 10, füge 1 zu x hinzu\"\n",
      "x ist aktuell: 1[1] \" x liegt immer noch unter 10, füge 1 zu x hinzu\"\n",
      "x ist aktuell: 2[1] \" x liegt immer noch unter 10, füge 1 zu x hinzu\"\n",
      "x ist aktuell: 3[1] \" x liegt immer noch unter 10, füge 1 zu x hinzu\"\n",
      "x ist aktuell: 4[1] \" x liegt immer noch unter 10, füge 1 zu x hinzu\"\n",
      "x ist aktuell: 5[1] \" x liegt immer noch unter 10, füge 1 zu x hinzu\"\n",
      "x ist aktuell: 6[1] \" x liegt immer noch unter 10, füge 1 zu x hinzu\"\n",
      "x ist aktuell: 7[1] \" x liegt immer noch unter 10, füge 1 zu x hinzu\"\n",
      "x ist aktuell: 8[1] \" x liegt immer noch unter 10, füge 1 zu x hinzu\"\n",
      "x ist aktuell: 9[1] \" x liegt immer noch unter 10, füge 1 zu x hinzu\"\n",
      "[1] \"x ist jetzt 10!\"\n",
      "[1] \"Yeah, ich werde auch ausgegeben!\"\n"
     ]
    }
   ],
   "source": [
    "x <- 0\n",
    "\n",
    "while(x < 10){\n",
    "    \n",
    "    cat('x ist aktuell:',x)\n",
    "    print(' x liegt immer noch unter 10, füge 1 zu x hinzu')\n",
    "    \n",
    "    # x um eins erhöhen\n",
    "    x <- x+1\n",
    "    if(x==10){\n",
    "        print(\"x ist jetzt 10!\")\n",
    "        print(\"Yeah, ich werde auch ausgegeben!\")\n",
    "    }\n",
    "}"
   ]
  },
  {
   "cell_type": "code",
   "execution_count": 8,
   "metadata": {},
   "outputs": [
    {
     "name": "stdout",
     "output_type": "stream",
     "text": [
      "x ist aktuell: 0[1] \" x liegt immer noch unter 10, füge 1 zu x hinzu\"\n",
      "x ist aktuell: 1[1] \" x liegt immer noch unter 10, füge 1 zu x hinzu\"\n",
      "x ist aktuell: 2[1] \" x liegt immer noch unter 10, füge 1 zu x hinzu\"\n",
      "x ist aktuell: 3[1] \" x liegt immer noch unter 10, füge 1 zu x hinzu\"\n",
      "x ist aktuell: 4[1] \" x liegt immer noch unter 10, füge 1 zu x hinzu\"\n",
      "x ist aktuell: 5[1] \" x liegt immer noch unter 10, füge 1 zu x hinzu\"\n",
      "x ist aktuell: 6[1] \" x liegt immer noch unter 10, füge 1 zu x hinzu\"\n",
      "x ist aktuell: 7[1] \" x liegt immer noch unter 10, füge 1 zu x hinzu\"\n",
      "x ist aktuell: 8[1] \" x liegt immer noch unter 10, füge 1 zu x hinzu\"\n",
      "x ist aktuell: 9[1] \" x liegt immer noch unter 10, füge 1 zu x hinzu\"\n",
      "[1] \"x ist jetzt 10!\"\n"
     ]
    }
   ],
   "source": [
    "x <- 0\n",
    "\n",
    "while(x < 10){\n",
    "    \n",
    "    cat('x ist aktuell:',x)\n",
    "    print(' x liegt immer noch unter 10, füge 1 zu x hinzu')\n",
    "    \n",
    "    # x um eins erhöhen\n",
    "    x <- x+1\n",
    "    if(x==10){\n",
    "        print(\"x ist jetzt 10!\")\n",
    "        break\n",
    "        print(\"Yeah, ich werde auch ausgegeben!\")\n",
    "    }\n",
    "}"
   ]
  },
  {
   "cell_type": "markdown",
   "metadata": {},
   "source": [
    "Achtet darauf, wie `break` die Schleife beendet hat und \"Yeah, ich werde auch ausgegeben!\" nicht mehr ausgegeben wurde! So können wir `break` auch als weitere Kontrolle innerhalb der Schleife benutzen und weitere Bedingungen überprüfen. \n",
    "\n",
    "Als nächstes schauen wir uns die verwandten for-Schleifen an!"
   ]
  },
  {
   "cell_type": "markdown",
   "metadata": {},
   "source": [
    "Herzlichen Glückwunsch! Sie sind mit Lektion 30. fertig!"
   ]
  }
 ],
 "metadata": {
  "kernelspec": {
   "display_name": "R",
   "language": "R",
   "name": "ir"
  },
  "language_info": {
   "codemirror_mode": "r",
   "file_extension": ".r",
   "mimetype": "text/x-r-source",
   "name": "R",
   "pygments_lexer": "r",
   "version": "3.6.1"
  }
 },
 "nbformat": 4,
 "nbformat_minor": 1
}
