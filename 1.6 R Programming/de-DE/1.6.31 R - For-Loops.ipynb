{
 "cells": [
  {
   "cell_type": "markdown",
   "metadata": {},
   "source": [
    "# Tag 1. Kapitel 6. R Programmierung\n",
    "\n",
    "## Lektion 31. For Schleifen\n",
    "\n",
    "Eine **for-Schleife** erlaubt es uns über ein Objekt (wie z.B. einen Vektor) zu iterieren und dann Code-Blöcke für (en. for) jeden Durchlauf auszuführen. Die Syntax lautet:\n",
    "\n",
    "    for (temporäre_variable in Objekt){\n",
    "        # Führe für jeden Durchgang diesen Code aus\n",
    "    }\n",
    "\n",
    "Starten wir nun mit einer for-Schleife für einen Vektor:"
   ]
  },
  {
   "cell_type": "markdown",
   "metadata": {},
   "source": [
    "## For Schleife über einen Vektor\n",
    "\n",
    "Wir können uns die Schleifen über einen Vektor in zwei Varianten vorstellen. Der erste Weg wäre der, eine temporäre Variable zu erstellen und diese mit dem `in` Keyword zu kombinieren:"
   ]
  },
  {
   "cell_type": "code",
   "execution_count": 7,
   "metadata": {},
   "outputs": [],
   "source": [
    "vec <- c(1,2,3,4,5)"
   ]
  },
  {
   "cell_type": "code",
   "execution_count": 3,
   "metadata": {},
   "outputs": [
    {
     "name": "stdout",
     "output_type": "stream",
     "text": [
      "[1] 1\n",
      "[1] 2\n",
      "[1] 3\n",
      "[1] 4\n",
      "[1] 5\n"
     ]
    }
   ],
   "source": [
    "for (temp_var in vec){\n",
    "    print(temp_var)\n",
    "}"
   ]
  },
  {
   "cell_type": "code",
   "execution_count": 5,
   "metadata": {},
   "outputs": [
    {
     "name": "stdout",
     "output_type": "stream",
     "text": [
      "[1] \"mo\"\n",
      "[1] \"di\"\n",
      "[1] \"mi\"\n",
      "[1] \"a\"\n",
      "[1] \"b\"\n",
      "[1] \"c\"\n",
      "[1] \"d\"\n",
      "[1] \"e\"\n",
      "[1] \"f\"\n",
      "[1] \"g\"\n",
      "[1] \"h\"\n",
      "[1] \"i\"\n",
      "[1] \"j\"\n",
      "[1] \"k\"\n",
      "[1] \"l\"\n",
      "[1] \"m\"\n",
      "[1] \"n\"\n",
      "[1] \"o\"\n",
      "[1] \"p\"\n",
      "[1] \"q\"\n",
      "[1] \"r\"\n",
      "[1] \"s\"\n",
      "[1] \"t\"\n",
      "[1] \"u\"\n",
      "[1] \"v\"\n",
      "[1] \"w\"\n",
      "[1] \"x\"\n",
      "[1] \"y\"\n",
      "[1] \"z\"\n",
      "[1] \"Patient #1\"\n",
      "[1] \"Patient #2\"\n",
      "[1] \"Patient #3\"\n"
     ]
    }
   ],
   "source": [
    "wtCollection <- c('mo', 'di', 'mi')\n",
    "for (wt in wtCollection) {\n",
    "    print(wt)\n",
    "}\n",
    "\n",
    "for (letterTempVar in letters) {\n",
    "    print(letterTempVar)\n",
    "}\n",
    "\n",
    "allePatienten <- c('Patient #1','Patient #2','Patient #3')\n",
    "\n",
    "for (patientAktuell in allePatienten) {\n",
    "    print(patientAktuell)\n",
    "}"
   ]
  },
  {
   "cell_type": "code",
   "execution_count": 9,
   "metadata": {},
   "outputs": [
    {
     "data": {
      "text/html": [
       "26"
      ],
      "text/latex": [
       "26"
      ],
      "text/markdown": [
       "26"
      ],
      "text/plain": [
       "[1] 26"
      ]
     },
     "metadata": {},
     "output_type": "display_data"
    }
   ],
   "source": [
    "length(letters)"
   ]
  },
  {
   "cell_type": "markdown",
   "metadata": {},
   "source": [
    "Der andere Weg wäre die Schleifen durch eine abgezählte Anzahl an Durchläufen zu definieren und dann fortlaufend den Index der Vektorelemente zu bestimmen:"
   ]
  },
  {
   "cell_type": "code",
   "execution_count": 8,
   "metadata": {},
   "outputs": [
    {
     "name": "stdout",
     "output_type": "stream",
     "text": [
      "[1] 1\n",
      "[1] 2\n",
      "[1] 3\n",
      "[1] 4\n",
      "[1] 5\n"
     ]
    }
   ],
   "source": [
    "for (i in 1:length(vec)){\n",
    "    print(vec[i])\n",
    "}"
   ]
  },
  {
   "cell_type": "markdown",
   "metadata": {},
   "source": [
    "## For Schleife über eine Liste\n",
    "\n",
    "Wir können das selbe für eine Liste anwenden:"
   ]
  },
  {
   "cell_type": "code",
   "execution_count": 5,
   "metadata": {},
   "outputs": [],
   "source": [
    "li <- list(1,2,3,4,5)"
   ]
  },
  {
   "cell_type": "code",
   "execution_count": 6,
   "metadata": {},
   "outputs": [
    {
     "name": "stdout",
     "output_type": "stream",
     "text": [
      "[1] 1\n",
      "[1] 2\n",
      "[1] 3\n",
      "[1] 4\n",
      "[1] 5\n"
     ]
    }
   ],
   "source": [
    "for (temp_var in li){\n",
    "    print(temp_var)\n",
    "}"
   ]
  },
  {
   "cell_type": "code",
   "execution_count": 7,
   "metadata": {},
   "outputs": [
    {
     "name": "stdout",
     "output_type": "stream",
     "text": [
      "[1] 1\n",
      "[1] 2\n",
      "[1] 3\n",
      "[1] 4\n",
      "[1] 5\n"
     ]
    }
   ],
   "source": [
    "for (i in 1:length(li)){\n",
    "    print(li[[i]]) # Hier müssen wir an die doppelten Klammern denken!\n",
    "}"
   ]
  },
  {
   "cell_type": "markdown",
   "metadata": {},
   "source": [
    "## For Schleife mit einer Matrix\n",
    "\n",
    "Genauso können wir Durchläufe über jedes Element in einer Matrix durchführen:"
   ]
  },
  {
   "cell_type": "code",
   "execution_count": 13,
   "metadata": {},
   "outputs": [
    {
     "data": {
      "text/html": [
       "<table>\n",
       "<tbody>\n",
       "\t<tr><td>1 </td><td> 6</td><td>11</td><td>16</td><td>21</td><td>26</td></tr>\n",
       "\t<tr><td>2 </td><td> 7</td><td>12</td><td>17</td><td>22</td><td>27</td></tr>\n",
       "\t<tr><td>3 </td><td> 8</td><td>13</td><td>18</td><td>23</td><td>28</td></tr>\n",
       "\t<tr><td>4 </td><td> 9</td><td>14</td><td>19</td><td>24</td><td>29</td></tr>\n",
       "\t<tr><td>5 </td><td>10</td><td>15</td><td>20</td><td>25</td><td>30</td></tr>\n",
       "</tbody>\n",
       "</table>\n"
      ],
      "text/latex": [
       "\\begin{tabular}{llllll}\n",
       "\t 1  &  6 & 11 & 16 & 21 & 26\\\\\n",
       "\t 2  &  7 & 12 & 17 & 22 & 27\\\\\n",
       "\t 3  &  8 & 13 & 18 & 23 & 28\\\\\n",
       "\t 4  &  9 & 14 & 19 & 24 & 29\\\\\n",
       "\t 5  & 10 & 15 & 20 & 25 & 30\\\\\n",
       "\\end{tabular}\n"
      ],
      "text/markdown": [
       "\n",
       "| 1  |  6 | 11 | 16 | 21 | 26 |\n",
       "| 2  |  7 | 12 | 17 | 22 | 27 |\n",
       "| 3  |  8 | 13 | 18 | 23 | 28 |\n",
       "| 4  |  9 | 14 | 19 | 24 | 29 |\n",
       "| 5  | 10 | 15 | 20 | 25 | 30 |\n",
       "\n"
      ],
      "text/plain": [
       "     [,1] [,2] [,3] [,4] [,5] [,6]\n",
       "[1,] 1     6   11   16   21   26  \n",
       "[2,] 2     7   12   17   22   27  \n",
       "[3,] 3     8   13   18   23   28  \n",
       "[4,] 4     9   14   19   24   29  \n",
       "[5,] 5    10   15   20   25   30  "
      ]
     },
     "metadata": {},
     "output_type": "display_data"
    }
   ],
   "source": [
    "mat <- matrix(1:30,nrow=5)\n",
    "mat"
   ]
  },
  {
   "cell_type": "code",
   "execution_count": 11,
   "metadata": {},
   "outputs": [
    {
     "name": "stdout",
     "output_type": "stream",
     "text": [
      "[1] 1\n",
      "[1] 2\n",
      "[1] 3\n",
      "[1] 4\n",
      "[1] 5\n",
      "[1] 6\n",
      "[1] 7\n",
      "[1] 8\n",
      "[1] 9\n",
      "[1] 10\n",
      "[1] 11\n",
      "[1] 12\n",
      "[1] 13\n",
      "[1] 14\n",
      "[1] 15\n",
      "[1] 16\n",
      "[1] 17\n",
      "[1] 18\n",
      "[1] 19\n",
      "[1] 20\n",
      "[1] 21\n",
      "[1] 22\n",
      "[1] 23\n",
      "[1] 24\n",
      "[1] 25\n"
     ]
    }
   ],
   "source": [
    "for (num in mat){\n",
    "    print(num)\n",
    "}"
   ]
  },
  {
   "cell_type": "markdown",
   "metadata": {},
   "source": [
    "## Verschachtelte for-Schleifen\n",
    "\n",
    "Wir können for-Schleifen ineinander verschachteln. Allerdings müssen wir darauf achten, dass jede for-Schleife, die in eine andere eingebettet wird, die Anzahl der Befehle und Durchführungszeit extrem erhöhen kann."
   ]
  },
  {
   "cell_type": "code",
   "execution_count": 14,
   "metadata": {},
   "outputs": [
    {
     "name": "stdout",
     "output_type": "stream",
     "text": [
      "[1] \"Das Element in Zeile: 1 und Spalte: 1 ist 1\"\n",
      "[1] \"Das Element in Zeile: 1 und Spalte: 2 ist 6\"\n",
      "[1] \"Das Element in Zeile: 1 und Spalte: 3 ist 11\"\n",
      "[1] \"Das Element in Zeile: 1 und Spalte: 4 ist 16\"\n",
      "[1] \"Das Element in Zeile: 1 und Spalte: 5 ist 21\"\n",
      "[1] \"Das Element in Zeile: 1 und Spalte: 6 ist 26\"\n",
      "[1] \"Das Element in Zeile: 2 und Spalte: 1 ist 2\"\n",
      "[1] \"Das Element in Zeile: 2 und Spalte: 2 ist 7\"\n",
      "[1] \"Das Element in Zeile: 2 und Spalte: 3 ist 12\"\n",
      "[1] \"Das Element in Zeile: 2 und Spalte: 4 ist 17\"\n",
      "[1] \"Das Element in Zeile: 2 und Spalte: 5 ist 22\"\n",
      "[1] \"Das Element in Zeile: 2 und Spalte: 6 ist 27\"\n",
      "[1] \"Das Element in Zeile: 3 und Spalte: 1 ist 3\"\n",
      "[1] \"Das Element in Zeile: 3 und Spalte: 2 ist 8\"\n",
      "[1] \"Das Element in Zeile: 3 und Spalte: 3 ist 13\"\n",
      "[1] \"Das Element in Zeile: 3 und Spalte: 4 ist 18\"\n",
      "[1] \"Das Element in Zeile: 3 und Spalte: 5 ist 23\"\n",
      "[1] \"Das Element in Zeile: 3 und Spalte: 6 ist 28\"\n",
      "[1] \"Das Element in Zeile: 4 und Spalte: 1 ist 4\"\n",
      "[1] \"Das Element in Zeile: 4 und Spalte: 2 ist 9\"\n",
      "[1] \"Das Element in Zeile: 4 und Spalte: 3 ist 14\"\n",
      "[1] \"Das Element in Zeile: 4 und Spalte: 4 ist 19\"\n",
      "[1] \"Das Element in Zeile: 4 und Spalte: 5 ist 24\"\n",
      "[1] \"Das Element in Zeile: 4 und Spalte: 6 ist 29\"\n",
      "[1] \"Das Element in Zeile: 5 und Spalte: 1 ist 5\"\n",
      "[1] \"Das Element in Zeile: 5 und Spalte: 2 ist 10\"\n",
      "[1] \"Das Element in Zeile: 5 und Spalte: 3 ist 15\"\n",
      "[1] \"Das Element in Zeile: 5 und Spalte: 4 ist 20\"\n",
      "[1] \"Das Element in Zeile: 5 und Spalte: 5 ist 25\"\n",
      "[1] \"Das Element in Zeile: 5 und Spalte: 6 ist 30\"\n"
     ]
    }
   ],
   "source": [
    "for (zeile in 1:nrow(mat)){\n",
    "    for (spalte in 1:ncol(mat)){\n",
    "        print(paste('Das Element in Zeile:',zeile,'und Spalte:',spalte,'ist',mat[zeile,spalte]))\n",
    "    }\n",
    "}"
   ]
  },
  {
   "cell_type": "code",
   "execution_count": 15,
   "metadata": {},
   "outputs": [
    {
     "name": "stdout",
     "output_type": "stream",
     "text": [
      "[1] \"Das Element in Zeile: 1 und Spalte: 1 ist 1\"\n",
      "[1] \"Das Element in Zeile: 2 und Spalte: 1 ist 2\"\n",
      "[1] \"Das Element in Zeile: 3 und Spalte: 1 ist 3\"\n",
      "[1] \"Das Element in Zeile: 4 und Spalte: 1 ist 4\"\n",
      "[1] \"Das Element in Zeile: 5 und Spalte: 1 ist 5\"\n",
      "[1] \"Das Element in Zeile: 1 und Spalte: 2 ist 6\"\n",
      "[1] \"Das Element in Zeile: 2 und Spalte: 2 ist 7\"\n",
      "[1] \"Das Element in Zeile: 3 und Spalte: 2 ist 8\"\n",
      "[1] \"Das Element in Zeile: 4 und Spalte: 2 ist 9\"\n",
      "[1] \"Das Element in Zeile: 5 und Spalte: 2 ist 10\"\n",
      "[1] \"Das Element in Zeile: 1 und Spalte: 3 ist 11\"\n",
      "[1] \"Das Element in Zeile: 2 und Spalte: 3 ist 12\"\n",
      "[1] \"Das Element in Zeile: 3 und Spalte: 3 ist 13\"\n",
      "[1] \"Das Element in Zeile: 4 und Spalte: 3 ist 14\"\n",
      "[1] \"Das Element in Zeile: 5 und Spalte: 3 ist 15\"\n",
      "[1] \"Das Element in Zeile: 1 und Spalte: 4 ist 16\"\n",
      "[1] \"Das Element in Zeile: 2 und Spalte: 4 ist 17\"\n",
      "[1] \"Das Element in Zeile: 3 und Spalte: 4 ist 18\"\n",
      "[1] \"Das Element in Zeile: 4 und Spalte: 4 ist 19\"\n",
      "[1] \"Das Element in Zeile: 5 und Spalte: 4 ist 20\"\n",
      "[1] \"Das Element in Zeile: 1 und Spalte: 5 ist 21\"\n",
      "[1] \"Das Element in Zeile: 2 und Spalte: 5 ist 22\"\n",
      "[1] \"Das Element in Zeile: 3 und Spalte: 5 ist 23\"\n",
      "[1] \"Das Element in Zeile: 4 und Spalte: 5 ist 24\"\n",
      "[1] \"Das Element in Zeile: 5 und Spalte: 5 ist 25\"\n",
      "[1] \"Das Element in Zeile: 1 und Spalte: 6 ist 26\"\n",
      "[1] \"Das Element in Zeile: 2 und Spalte: 6 ist 27\"\n",
      "[1] \"Das Element in Zeile: 3 und Spalte: 6 ist 28\"\n",
      "[1] \"Das Element in Zeile: 4 und Spalte: 6 ist 29\"\n",
      "[1] \"Das Element in Zeile: 5 und Spalte: 6 ist 30\"\n"
     ]
    }
   ],
   "source": [
    "for (spalte in 1:ncol(mat)){\n",
    "    for (zeile in 1:nrow(mat)){\n",
    "        print(paste('Das Element in Zeile:',zeile,'und Spalte:',spalte,'ist',mat[zeile,spalte]))\n",
    "    }\n",
    "}"
   ]
  },
  {
   "cell_type": "markdown",
   "metadata": {},
   "source": [
    "Herzlichen Glückwunsch! Sie sind mit Lektion 31. fertig!"
   ]
  }
 ],
 "metadata": {
  "kernelspec": {
   "display_name": "R",
   "language": "R",
   "name": "ir"
  },
  "language_info": {
   "codemirror_mode": "r",
   "file_extension": ".r",
   "mimetype": "text/x-r-source",
   "name": "R",
   "pygments_lexer": "r",
   "version": "3.6.1"
  }
 },
 "nbformat": 4,
 "nbformat_minor": 1
}
