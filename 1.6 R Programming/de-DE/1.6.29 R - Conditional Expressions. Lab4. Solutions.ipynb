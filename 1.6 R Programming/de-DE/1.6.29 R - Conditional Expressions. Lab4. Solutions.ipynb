{
 "cells": [
  {
   "cell_type": "markdown",
   "metadata": {},
   "source": [
    "# Tag 1. Kapitel 6. R Programmierung\n",
    "\n",
    "## Lab 4. Übung - Lösung\n",
    "\n",
    "Für diese Übung wollen wir anwenden, was wir über if, else if und else Anweisungen gelernt haben! Die erste Aufgabe ist dabei exemplarisch gelöst:\n",
    "\n",
    "**Schreibe ein Skript, das \"Hallo\" ausgibt (->print), wenn die Variable x gleich 1 ist:**"
   ]
  },
  {
   "cell_type": "code",
   "execution_count": 1,
   "metadata": {},
   "outputs": [
    {
     "name": "stdout",
     "output_type": "stream",
     "text": [
      "[1] \"Hallo\"\n"
     ]
    }
   ],
   "source": [
    "x <- 1\n",
    "\n",
    "if (x ==1){\n",
    "    print(\"Hallo\")\n",
    "}"
   ]
  },
  {
   "cell_type": "markdown",
   "metadata": {},
   "source": [
    "**Schreibe ein Skript das \"Gerade Zahl\" ausgibt, wenn die Variable x eine gerade Zahl ist. Andernfalls wollen wir \"Ungerade\" ausgeben.**"
   ]
  },
  {
   "cell_type": "code",
   "execution_count": 2,
   "metadata": {},
   "outputs": [
    {
     "name": "stdout",
     "output_type": "stream",
     "text": [
      "[1] \"Gerade Zahl\"\n"
     ]
    }
   ],
   "source": [
    "x <- 10 # Ändere x zum Testen\n",
    "\n",
    "if (x%%2 == 0){\n",
    "    print('Gerade Zahl')\n",
    "}else{\n",
    "    print('Ungerade')\n",
    "}"
   ]
  },
  {
   "cell_type": "markdown",
   "metadata": {},
   "source": [
    "**Schreibe ein Skript, das \"Ist eine Matrix\" ausgibt, falls die Variable x eine Matrix beinhaltet. Andernfalls soll das Ergebnis \"Keine Matrix\" lauten.**"
   ]
  },
  {
   "cell_type": "code",
   "execution_count": 3,
   "metadata": {},
   "outputs": [
    {
     "name": "stdout",
     "output_type": "stream",
     "text": [
      "[1] \"Ist eine Matrix\"\n"
     ]
    }
   ],
   "source": [
    "x <- matrix()\n",
    "\n",
    "if (is.matrix(x)){\n",
    "    print('Ist eine Matrix')\n",
    "}else{\n",
    "    print(\"Keine Matrix\")\n",
    "}"
   ]
  },
  {
   "cell_type": "markdown",
   "metadata": {},
   "source": [
    "**Erstelle ein Skript, dass einen numerischen Vektor mit 3 Werten als Eingabe aufnimmt und die Elemente darin von groß nach klein sortiert ausgibt. Dazu musst du if, else if und else für deine Logik verwenden.**"
   ]
  },
  {
   "cell_type": "code",
   "execution_count": 4,
   "metadata": {},
   "outputs": [
    {
     "name": "stdout",
     "output_type": "stream",
     "text": [
      "[1] \"8 4 3\"\n"
     ]
    }
   ],
   "source": [
    "x <- c(4,3,8)\n",
    "\n",
    "if (x[1] > x[2]){\n",
    "    erstes <- x[1]\n",
    "    zweites <- x[2]\n",
    "} else {\n",
    "    erstes <- x[2]\n",
    "    zweites <- x[1]\n",
    "}\n",
    "if ( x[3] > erstes & x[3] > zweites ) {\n",
    "    drittes <- zweites\n",
    "    zweites <- erstes\n",
    "    erstes <- x[3]\n",
    "} else if ( x[3] < erstes & x[3] < zweites ) {\n",
    "    drittes <- x[3]\n",
    "} else {\n",
    "    drittes <- zweites\n",
    "    zweites <- x[3]\n",
    "}\n",
    "\n",
    "print(paste(erstes, zweites, drittes))"
   ]
  },
  {
   "cell_type": "markdown",
   "metadata": {},
   "source": [
    "**Schreibe unter Verwendung von if, else if und else Anweisungen ein Skript, das den höchsten von drei Werten in einem numerischen Vektor ausgibt.**"
   ]
  },
  {
   "cell_type": "code",
   "execution_count": 5,
   "metadata": {},
   "outputs": [
    {
     "name": "stdout",
     "output_type": "stream",
     "text": [
      "[1] 20\n"
     ]
    }
   ],
   "source": [
    "x <- c(20, 10, 1)\n",
    "\n",
    "if (x[1] > x[2] & x[1] > x[3] ) {\n",
    "    print(x[1] )\n",
    "} else if (x[2] > x[3] ) {\n",
    "    print(x[2])\n",
    "} else {\n",
    "    print(x[3])\n",
    "}"
   ]
  },
  {
   "cell_type": "markdown",
   "metadata": {},
   "source": [
    "Herzlichen Glückwunsch! Sie sind mit Lab 4. fertig!"
   ]
  }
 ],
 "metadata": {
  "kernelspec": {
   "display_name": "R",
   "language": "R",
   "name": "ir"
  },
  "language_info": {
   "codemirror_mode": "r",
   "file_extension": ".r",
   "mimetype": "text/x-r-source",
   "name": "R",
   "pygments_lexer": "r",
   "version": "3.6.1"
  }
 },
 "nbformat": 4,
 "nbformat_minor": 1
}
