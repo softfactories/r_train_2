{
 "cells": [
  {
   "cell_type": "markdown",
   "metadata": {},
   "source": [
    "# Tag 1. Kapitel 6. R Programmierung\n",
    "\n",
    "## Lektion 32. Einführung zu Funktionen\n",
    "\n",
    "Diese Lektion wird aus Erklärungen dazu bestehen, was Funktionen in R sind und wie sie erstellt werden. Diese sind wichtig, da sie einer der Hauptbestandteile unserer weiteren Arbeit mit Problemstellungen in R sein werden.\n",
    "\n",
    "Was ist also eine Funktion?\n",
    "\n",
    "Formell gesehen ist eine Funktion ein nützliches Hilfsmittel, dass eine Gruppe von Anweisungen zusammenfasst, damit sie mehr als einmal ausgeführt werden müssen.\n",
    "\n",
    "Auf einem grundsätzlicheren Level erlauben uns Funktionen nicht ständig den selben Code schreiben zu müssen. Wenn ihr zurückdenkt an die Lektionen zu Strings und Listen, dann stellen wir fest, dass beispielsweise `length()` so eine Funktion ist. Da es eine häufige Aufgabe ist, die Länge einer Sequenz zu überprüfen, wäre das ein Anwendugnsfall, für den man eine Funktion schreiben würde. \n",
    "\n",
    "Funktionen sind eine der einfachsten Wege, um Code in R wiederzuverwenden. Darüber hinaus erlauben sie es uns Programmdesign besser zu verstehen.\n",
    "\n",
    "Wir kennen bereits einige eingebaute Funktionen und können über die `help` Funktion mehr über diese und ihre *Parameter* (auch Argumente genannt) erfahren:"
   ]
  },
  {
   "cell_type": "code",
   "execution_count": 1,
   "metadata": {},
   "outputs": [],
   "source": [
    "help(sum)"
   ]
  },
  {
   "cell_type": "markdown",
   "metadata": {},
   "source": [
    "Dabei fällt folgendes Format auf:\n",
    "\n",
    "    name_der_funktion(input1,input2,....)\n",
    "    \n",
    "Können wir das so auch selbst erstellen? Die Syntax dazu lautet wie folgt:\n",
    "\n",
    "    name_der_funktion <- function(param1,param2,...){\n",
    "                   # Code der ausgeführt wird\n",
    "    }\n",
    "    \n",
    "Schauen wir uns einige Beispiele an:\n",
    "\n",
    "## Beispiel 1"
   ]
  },
  {
   "cell_type": "code",
   "execution_count": 1,
   "metadata": {},
   "outputs": [],
   "source": [
    "# Einfache Funktion, keine Eingabe (en. input)\n",
    "hallo <- function(){\n",
    "    print('Hallo!')\n",
    "}"
   ]
  },
  {
   "cell_type": "code",
   "execution_count": 2,
   "metadata": {},
   "outputs": [
    {
     "name": "stdout",
     "output_type": "stream",
     "text": [
      "[1] \"Hallo!\"\n"
     ]
    }
   ],
   "source": [
    "hallo()"
   ]
  },
  {
   "cell_type": "markdown",
   "metadata": {},
   "source": [
    "## Beispiel 2"
   ]
  },
  {
   "cell_type": "code",
   "execution_count": 8,
   "metadata": {},
   "outputs": [],
   "source": [
    "hallodu <- function(name){\n",
    "    print(paste('Hallo',name))\n",
    "}\n",
    "\n",
    "h2 <- function(name){\n",
    "    print(paste('Hallo',name))\n",
    "}"
   ]
  },
  {
   "cell_type": "code",
   "execution_count": 9,
   "metadata": {},
   "outputs": [
    {
     "name": "stdout",
     "output_type": "stream",
     "text": [
      "[1] \"Hallo Angela!\"\n",
      "[1] \"Hallo Ruben!\"\n"
     ]
    }
   ],
   "source": [
    "hallodu('Angela!')\n",
    "\n",
    "h2(\"Ruben!\")"
   ]
  },
  {
   "cell_type": "markdown",
   "metadata": {},
   "source": [
    "## Beispiel 3"
   ]
  },
  {
   "cell_type": "code",
   "execution_count": 10,
   "metadata": {},
   "outputs": [],
   "source": [
    "add_num <- function(num1, num2){\n",
    "    print(num1+num2)\n",
    "}"
   ]
  },
  {
   "cell_type": "code",
   "execution_count": 11,
   "metadata": {},
   "outputs": [
    {
     "name": "stdout",
     "output_type": "stream",
     "text": [
      "[1] 15\n"
     ]
    }
   ],
   "source": [
    "add_num(5,10)"
   ]
  },
  {
   "cell_type": "markdown",
   "metadata": {},
   "source": [
    "### Standardwerte\n",
    "\n",
    "Bisher mussten wir jeden einzelnen Parameter an die Funktion übergeben, wenn wir sie ausführen wollten. Es gibt allerdings auch die Möglichkeit Standardwerte zu definieren, die immer dann genutzt werden, wenn der Nutzer keine Parameter selbst definiert. Diese definierne wir durch Verwendung eines **=**:"
   ]
  },
  {
   "cell_type": "code",
   "execution_count": 12,
   "metadata": {},
   "outputs": [],
   "source": [
    "adresse <- function(name='Unbekannt'){\n",
    "    print(paste('Adresse von ',name))\n",
    "}"
   ]
  },
  {
   "cell_type": "code",
   "execution_count": 13,
   "metadata": {},
   "outputs": [
    {
     "name": "stdout",
     "output_type": "stream",
     "text": [
      "[1] \"Adresse von  Unbekannt\"\n"
     ]
    }
   ],
   "source": [
    "# Standard nutzen\n",
    "adresse()"
   ]
  },
  {
   "cell_type": "code",
   "execution_count": 14,
   "metadata": {},
   "outputs": [
    {
     "name": "stdout",
     "output_type": "stream",
     "text": [
      "[1] \"Adresse von  Sammy\"\n"
     ]
    }
   ],
   "source": [
    "# Selbst definieren\n",
    "adresse('Sammy')"
   ]
  },
  {
   "cell_type": "markdown",
   "metadata": {},
   "source": [
    "Wir werden viele eingebaute Funktionen sehen, die Standardwerte für eine große Vielfalt von Aufgaben verwenden, bei denen der Nutzer typischerweise einen ganz bestimmten Wert braucht.\n",
    "\n",
    "### Werte zurückgeben (en. return)\n",
    "\n",
    "Bisher habenb wir Ergebnisse nur per `print` ausgegeben. Es kann allerdings auch der Fall sein, dass wir einen Wert zurückgeben (en. return) möchten, sodass wir ihn einer Variable zuweisen können. Dazu verwenden wir das `return` Keyword:"
   ]
  },
  {
   "cell_type": "code",
   "execution_count": 16,
   "metadata": {},
   "outputs": [],
   "source": [
    "formal <- function(name='Sam',title='Herr'){\n",
    "    return(paste(title,name))\n",
    "}"
   ]
  },
  {
   "cell_type": "code",
   "execution_count": 17,
   "metadata": {},
   "outputs": [
    {
     "data": {
      "text/html": [
       "'Herr Sam'"
      ],
      "text/latex": [
       "'Herr Sam'"
      ],
      "text/markdown": [
       "'Herr Sam'"
      ],
      "text/plain": [
       "[1] \"Herr Sam\""
      ]
     },
     "metadata": {},
     "output_type": "display_data"
    }
   ],
   "source": [
    "formal()"
   ]
  },
  {
   "cell_type": "code",
   "execution_count": 22,
   "metadata": {},
   "outputs": [
    {
     "data": {
      "text/html": [
       "'Newton Issac'"
      ],
      "text/latex": [
       "'Newton Issac'"
      ],
      "text/markdown": [
       "'Newton Issac'"
      ],
      "text/plain": [
       "[1] \"Newton Issac\""
      ]
     },
     "metadata": {},
     "output_type": "display_data"
    },
    {
     "data": {
      "text/html": [
       "'Herr John'"
      ],
      "text/latex": [
       "'Herr John'"
      ],
      "text/markdown": [
       "'Herr John'"
      ],
      "text/plain": [
       "[1] \"Herr John\""
      ]
     },
     "metadata": {},
     "output_type": "display_data"
    },
    {
     "data": {
      "text/html": [
       "'Mr. Udo'"
      ],
      "text/latex": [
       "'Mr. Udo'"
      ],
      "text/markdown": [
       "'Mr. Udo'"
      ],
      "text/plain": [
       "[1] \"Mr. Udo\""
      ]
     },
     "metadata": {},
     "output_type": "display_data"
    },
    {
     "data": {
      "text/html": [
       "'Herr Udo'"
      ],
      "text/latex": [
       "'Herr Udo'"
      ],
      "text/markdown": [
       "'Herr Udo'"
      ],
      "text/plain": [
       "[1] \"Herr Udo\""
      ]
     },
     "metadata": {},
     "output_type": "display_data"
    }
   ],
   "source": [
    "formal('Issac','Newton')\n",
    "formal('John')\n",
    "formal(title='Mr.',name='Udo')"
   ]
  },
  {
   "cell_type": "code",
   "execution_count": 23,
   "metadata": {},
   "outputs": [
    {
     "data": {
      "text/html": [
       "'Herr Udo'"
      ],
      "text/latex": [
       "'Herr Udo'"
      ],
      "text/markdown": [
       "'Herr Udo'"
      ],
      "text/plain": [
       "[1] \"Herr Udo\""
      ]
     },
     "metadata": {},
     "output_type": "display_data"
    }
   ],
   "source": [
    "s1 <- formal('Udo','Herr')\n",
    "s1"
   ]
  },
  {
   "cell_type": "code",
   "execution_count": 29,
   "metadata": {},
   "outputs": [],
   "source": [
    "cars <- function(maxrow) {\n",
    "    return(mtcars[maxrow,])\n",
    "}"
   ]
  },
  {
   "cell_type": "code",
   "execution_count": 30,
   "metadata": {},
   "outputs": [
    {
     "data": {
      "text/html": [
       "<table>\n",
       "<thead><tr><th></th><th scope=col>mpg</th><th scope=col>cyl</th><th scope=col>disp</th><th scope=col>hp</th><th scope=col>drat</th><th scope=col>wt</th><th scope=col>qsec</th><th scope=col>vs</th><th scope=col>am</th><th scope=col>gear</th><th scope=col>carb</th></tr></thead>\n",
       "<tbody>\n",
       "\t<tr><th scope=row>Merc 280</th><td>19.2 </td><td>6    </td><td>167.6</td><td>123  </td><td>3.92 </td><td>3.44 </td><td>18.3 </td><td>1    </td><td>0    </td><td>4    </td><td>4    </td></tr>\n",
       "</tbody>\n",
       "</table>\n"
      ],
      "text/latex": [
       "\\begin{tabular}{r|lllllllllll}\n",
       "  & mpg & cyl & disp & hp & drat & wt & qsec & vs & am & gear & carb\\\\\n",
       "\\hline\n",
       "\tMerc 280 & 19.2  & 6     & 167.6 & 123   & 3.92  & 3.44  & 18.3  & 1     & 0     & 4     & 4    \\\\\n",
       "\\end{tabular}\n"
      ],
      "text/markdown": [
       "\n",
       "| <!--/--> | mpg | cyl | disp | hp | drat | wt | qsec | vs | am | gear | carb |\n",
       "|---|---|---|---|---|---|---|---|---|---|---|---|\n",
       "| Merc 280 | 19.2  | 6     | 167.6 | 123   | 3.92  | 3.44  | 18.3  | 1     | 0     | 4     | 4     |\n",
       "\n"
      ],
      "text/plain": [
       "         mpg  cyl disp  hp  drat wt   qsec vs am gear carb\n",
       "Merc 280 19.2 6   167.6 123 3.92 3.44 18.3 1  0  4    4   "
      ]
     },
     "metadata": {},
     "output_type": "display_data"
    }
   ],
   "source": [
    "c <- cars(10)\n",
    "c"
   ]
  },
  {
   "cell_type": "markdown",
   "metadata": {},
   "source": [
    "Achtet darauf, dass wir hier keine print-Ausgabe erzeugen. Wir können unser Ergebnis einer Variablen zuweisen:"
   ]
  },
  {
   "cell_type": "code",
   "execution_count": 14,
   "metadata": {},
   "outputs": [],
   "source": [
    "var <- formal('Marie Curie','Frau')"
   ]
  },
  {
   "cell_type": "code",
   "execution_count": 15,
   "metadata": {},
   "outputs": [
    {
     "data": {
      "text/html": [
       "'Frau Marie Curie'"
      ],
      "text/latex": [
       "'Frau Marie Curie'"
      ],
      "text/markdown": [
       "'Frau Marie Curie'"
      ],
      "text/plain": [
       "[1] \"Frau Marie Curie\""
      ]
     },
     "metadata": {},
     "output_type": "display_data"
    }
   ],
   "source": [
    "var"
   ]
  },
  {
   "cell_type": "markdown",
   "metadata": {},
   "source": [
    "Das ist die Art von Syntax, die wir für unsere Funktionen verwenden werden: Die Übergabe von Parametern und die Rückgabe eines Ergebnisses.\n",
    "\n",
    "## Geltungsbereich\n",
    "\n",
    "Geltungsbereich (en. scope) ist der Begriff, den wir dafür verwenden, um zu beschreiben wie Objekte und Variablen definiert sind. Ist eine Variable bspw. nur innerhalb einer Funktion definiert, dann sagen wir, dass ihr Geltungsbereich auf die Funktion limitiert ist."
   ]
  },
  {
   "cell_type": "code",
   "execution_count": 49,
   "metadata": {},
   "outputs": [
    {
     "data": {
      "text/html": [
       "11"
      ],
      "text/latex": [
       "11"
      ],
      "text/markdown": [
       "11"
      ],
      "text/plain": [
       "[1] 11"
      ]
     },
     "metadata": {},
     "output_type": "display_data"
    }
   ],
   "source": [
    "gResult <- 11\n",
    "gResult"
   ]
  },
  {
   "cell_type": "code",
   "execution_count": 50,
   "metadata": {},
   "outputs": [],
   "source": [
    "mal5_bad <- function(eingabe) {\n",
    "  print('Prior')\n",
    "  print(gResult)\n",
    "  lResult <- eingabe * 5\n",
    "    \n",
    "  print('Posteriors')\n",
    "  print(gResult)\n",
    "  print(lResult)\n",
    "  return(lResult)\n",
    "}"
   ]
  },
  {
   "cell_type": "code",
   "execution_count": 51,
   "metadata": {},
   "outputs": [
    {
     "name": "stdout",
     "output_type": "stream",
     "text": [
      "[1] \"Prior\"\n",
      "[1] 11\n",
      "[1] \"Posteriors\"\n",
      "[1] 11\n",
      "[1] 50\n"
     ]
    },
    {
     "data": {
      "text/html": [
       "50"
      ],
      "text/latex": [
       "50"
      ],
      "text/markdown": [
       "50"
      ],
      "text/plain": [
       "[1] 50"
      ]
     },
     "metadata": {},
     "output_type": "display_data"
    },
    {
     "data": {
      "text/html": [
       "11"
      ],
      "text/latex": [
       "11"
      ],
      "text/markdown": [
       "11"
      ],
      "text/plain": [
       "[1] 11"
      ]
     },
     "metadata": {},
     "output_type": "display_data"
    }
   ],
   "source": [
    "mal5_bad(10)\n",
    "gResult"
   ]
  },
  {
   "cell_type": "code",
   "execution_count": 32,
   "metadata": {},
   "outputs": [],
   "source": [
    "# Eingabe mit 5 multiplizieren\n",
    "mal5 <- function(eingabe) {\n",
    "  ergebnis <- eingabe * 5\n",
    "  return(ergebnis)\n",
    "}"
   ]
  },
  {
   "cell_type": "code",
   "execution_count": 35,
   "metadata": {},
   "outputs": [
    {
     "data": {
      "text/html": [
       "20"
      ],
      "text/latex": [
       "20"
      ],
      "text/markdown": [
       "20"
      ],
      "text/plain": [
       "[1] 20"
      ]
     },
     "metadata": {},
     "output_type": "display_data"
    },
    {
     "data": {
      "text/html": [
       "4"
      ],
      "text/latex": [
       "4"
      ],
      "text/markdown": [
       "4"
      ],
      "text/plain": [
       "[1] 4"
      ]
     },
     "metadata": {},
     "output_type": "display_data"
    }
   ],
   "source": [
    "input <- 4\n",
    "mal5(input)\n",
    "#ergebnis # Außerhalb der Funktion nicht definiert\n",
    "#eingabe # Außerhalb der Funktion nicht definiert\n",
    "input"
   ]
  },
  {
   "cell_type": "markdown",
   "metadata": {},
   "source": [
    "Dieser Error zeigt uns an, dass die Variablen nur innerhalb des \"Geltungsbereichs\" der Funktion definiert sind. Varaiblen hingegen, die außerhalb der Funktion definiert werden, sind *globale* Variablen. Die Funktion kann deshalb auf sie zugreifen. Ein Beispiel:"
   ]
  },
  {
   "cell_type": "code",
   "execution_count": 20,
   "metadata": {},
   "outputs": [],
   "source": [
    "v <- \"Ich bin ein globales v\"\n",
    "etwas <- \"Auch ich bin etwas globales\"\n",
    "\n",
    "fun <- function(etwas){\n",
    "    print(v) \n",
    "    etwas <- 'Etwas neues zuweisen'\n",
    "    print(etwas)\n",
    "}"
   ]
  },
  {
   "cell_type": "code",
   "execution_count": 21,
   "metadata": {},
   "outputs": [
    {
     "name": "stdout",
     "output_type": "stream",
     "text": [
      "[1] \"Ich bin ein globales v\"\n",
      "[1] \"Auch ich bin etwas globales\"\n",
      "[1] \"Ich bin ein globales v\"\n",
      "[1] \"Etwas neues zuweisen\"\n",
      "[1] \"Auch ich bin etwas globales\"\n"
     ]
    }
   ],
   "source": [
    "print(v) # print v\n",
    "print(etwas) #print etwas\n",
    "fun(etwas) # etwas an die Funktion übergeben\n",
    "# Die Neuzuweisung geschieht nur innerhalb der Funktion\n",
    "print(etwas)"
   ]
  },
  {
   "cell_type": "markdown",
   "metadata": {},
   "source": [
    "Was passiert hier im Details? Das folgende:\n",
    "\n",
    "**print(v)** überprüft die globale Variable *v*, äußerer Geltungsbereich\n",
    "\n",
    "**print(etwas)** überprüft auch die globale Variable *etwas*\n",
    "\n",
    "**fun(etwas)** wird einen Parameter akzeptieren, print auf *v* anwenden, dann *etwas* neu zuweisen (innerhalb des Geltungsbereichs der Funktion) und print auf *etwas* anwenden. Achtet dabei auf zwei Dinge:\n",
    "\n",
    "* Die Neuzuweisungvon *etwas* findet nur innerhalb der Funktion statt\n",
    "* Die fun Funktion überprüft zuerst, ob *v* innerhalb des Geltungsbereichs der Funktion definiert wurde. Sofern das nicht der Fall ist (wie in unserem Beispiel) wird danach der globale Geltungsbereich überprüft.\n",
    "\n",
    "Schaut euch die nachfolgende Funktion an und versichert euch, dass ihr sie versteht:"
   ]
  },
  {
   "cell_type": "code",
   "execution_count": 22,
   "metadata": {},
   "outputs": [
    {
     "data": {
      "text/html": [
       "10"
      ],
      "text/latex": [
       "10"
      ],
      "text/markdown": [
       "10"
      ],
      "text/plain": [
       "[1] 10"
      ]
     },
     "metadata": {},
     "output_type": "display_data"
    },
    {
     "data": {
      "text/html": [
       "5"
      ],
      "text/latex": [
       "5"
      ],
      "text/markdown": [
       "5"
      ],
      "text/plain": [
       "[1] 5"
      ]
     },
     "metadata": {},
     "output_type": "display_data"
    }
   ],
   "source": [
    "doppelt <- function(a) {\n",
    "  a <- 2*a\n",
    "  a\n",
    "}\n",
    "var <- 5\n",
    "doppelt(var)\n",
    "var"
   ]
  },
  {
   "cell_type": "markdown",
   "metadata": {},
   "source": [
    "Herzlichen Glückwunsch! Sie sind mit Lektion 32. fertig!"
   ]
  }
 ],
 "metadata": {
  "kernelspec": {
   "display_name": "R",
   "language": "R",
   "name": "ir"
  },
  "language_info": {
   "codemirror_mode": "r",
   "file_extension": ".r",
   "mimetype": "text/x-r-source",
   "name": "R",
   "pygments_lexer": "r",
   "version": "3.6.1"
  }
 },
 "nbformat": 4,
 "nbformat_minor": 1
}
