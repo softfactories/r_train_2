{
 "cells": [
  {
   "cell_type": "markdown",
   "metadata": {},
   "source": [
    "# Tag 1. Kapitel 6. R Programmierung\n",
    "\n",
    "## Lektion 32. Einführung zu Funktionen\n",
    "\n",
    "Diese Lektion wird aus Erklärungen dazu bestehen, was Funktionen in R sind und wie sie erstellt werden. Diese sind wichtig, da sie einer der Hauptbestandteile unserer weiteren Arbeit mit Problemstellungen in R sein werden.\n",
    "\n",
    "Was ist also eine Funktion?\n",
    "\n",
    "Formell gesehen ist eine Funktion ein nützliches Hilfsmittel, dass eine Gruppe von Anweisungen zusammenfasst, damit sie mehr als einmal ausgeführt werden müssen.\n",
    "\n",
    "Auf einem grundsätzlicheren Level erlauben uns Funktionen nicht ständig den selben Code schreiben zu müssen. Wenn ihr zurückdenkt an die Lektionen zu Strings und Listen, dann stellen wir fest, dass beispielsweise `length()` so eine Funktion ist. Da es eine häufige Aufgabe ist, die Länge einer Sequenz zu überprüfen, wäre das ein Anwendugnsfall, für den man eine Funktion schreiben würde. \n",
    "\n",
    "Funktionen sind eine der einfachsten Wege, um Code in R wiederzuverwenden. Darüber hinaus erlauben sie es uns Programmdesign besser zu verstehen.\n",
    "\n",
    "Wir kennen bereits einige eingebaute Funktionen und können über die `help` Funktion mehr über diese und ihre *Parameter* (auch Argumente genannt) erfahren:"
   ]
  },
  {
   "cell_type": "code",
   "execution_count": 1,
   "metadata": {},
   "outputs": [],
   "source": [
    "help(sum)"
   ]
  },
  {
   "cell_type": "markdown",
   "metadata": {},
   "source": [
    "Dabei fällt folgendes Format auf:\n",
    "\n",
    "    name_der_funktion(input1,input2,....)\n",
    "    \n",
    "Können wir das so auch selbst erstellen? Die Syntax dazu lautet wie folgt:\n",
    "\n",
    "    name_der_funktion <- function(param1,param2,...){\n",
    "                   # Code der ausgeführt wird\n",
    "    }\n",
    "    \n",
    "Schauen wir uns einige Beispiele an:\n",
    "\n",
    "## Beispiel 1"
   ]
  },
  {
   "cell_type": "code",
   "execution_count": 2,
   "metadata": {},
   "outputs": [],
   "source": [
    "# Einfache Funktion, keine Eingabe (en. input)\n",
    "hallo <- function(){\n",
    "    print('Hallo!')\n",
    "}"
   ]
  },
  {
   "cell_type": "code",
   "execution_count": 3,
   "metadata": {},
   "outputs": [
    {
     "name": "stdout",
     "output_type": "stream",
     "text": [
      "[1] \"Hallo!\"\n"
     ]
    }
   ],
   "source": [
    "hallo()"
   ]
  },
  {
   "cell_type": "markdown",
   "metadata": {},
   "source": [
    "## Beispiel 2"
   ]
  },
  {
   "cell_type": "code",
   "execution_count": 4,
   "metadata": {},
   "outputs": [],
   "source": [
    "hallodu <- function(name){\n",
    "    print(paste('Hallo',name))\n",
    "}"
   ]
  },
  {
   "cell_type": "code",
   "execution_count": 5,
   "metadata": {},
   "outputs": [
    {
     "name": "stdout",
     "output_type": "stream",
     "text": [
      "[1] \"Hallo Sammy\"\n"
     ]
    }
   ],
   "source": [
    "hallodu('Sammy')"
   ]
  },
  {
   "cell_type": "markdown",
   "metadata": {},
   "source": [
    "## Beispiel 3"
   ]
  },
  {
   "cell_type": "code",
   "execution_count": 6,
   "metadata": {},
   "outputs": [],
   "source": [
    "add_num <- function(num1,num2){\n",
    "    print(num1+num2)\n",
    "}"
   ]
  },
  {
   "cell_type": "code",
   "execution_count": 7,
   "metadata": {},
   "outputs": [
    {
     "name": "stdout",
     "output_type": "stream",
     "text": [
      "[1] 15\n"
     ]
    }
   ],
   "source": [
    "add_num(5,10)"
   ]
  },
  {
   "cell_type": "markdown",
   "metadata": {},
   "source": [
    "### Standardwerte\n",
    "\n",
    "Bisher mussten wir jeden einzelnen Parameter an die Funktion übergeben, wenn wir sie ausführen wollten. Es gibt allerdings auch die Möglichkeit Standardwerte zu definieren, die immer dann genutzt werden, wenn der Nutzer keine Parameter selbst definiert. Diese definierne wir durch Verwendung eines **=**:"
   ]
  },
  {
   "cell_type": "code",
   "execution_count": 8,
   "metadata": {},
   "outputs": [],
   "source": [
    "hallo_jemand <- function(name='Peter'){\n",
    "    print(paste('Hallo',name))\n",
    "}"
   ]
  },
  {
   "cell_type": "code",
   "execution_count": 9,
   "metadata": {},
   "outputs": [
    {
     "name": "stdout",
     "output_type": "stream",
     "text": [
      "[1] \"Hallo Peter\"\n"
     ]
    }
   ],
   "source": [
    "# Standard nutzen\n",
    "hallo_jemand()"
   ]
  },
  {
   "cell_type": "code",
   "execution_count": 10,
   "metadata": {},
   "outputs": [
    {
     "name": "stdout",
     "output_type": "stream",
     "text": [
      "[1] \"Hallo Sammy\"\n"
     ]
    }
   ],
   "source": [
    "# Selbst definieren\n",
    "hallo_jemand('Sammy')"
   ]
  },
  {
   "cell_type": "markdown",
   "metadata": {},
   "source": [
    "Wir werden viele eingebaute Funktionen sehen, die Standardwerte für eine große Vielfalt von Aufgaben verwenden, bei denen der Nutzer typischerweise einen ganz bestimmten Wert braucht.\n",
    "\n",
    "### Werte zurückgeben (en. return)\n",
    "\n",
    "Bisher habenb wir Ergebnisse nur per `print` ausgegeben. Es kann allerdings auch der Fall sein, dass wir einen Wert zurückgeben (en. return) möchten, sodass wir ihn einer Variable zuweisen können. Dazu verwenden wir das `return` Keyword:"
   ]
  },
  {
   "cell_type": "code",
   "execution_count": 11,
   "metadata": {},
   "outputs": [],
   "source": [
    "formal <- function(name='Sam',title='Herr'){\n",
    "    return(paste(title,name))\n",
    "}"
   ]
  },
  {
   "cell_type": "code",
   "execution_count": 12,
   "metadata": {},
   "outputs": [
    {
     "data": {
      "text/html": [
       "'Herr Sam'"
      ],
      "text/latex": [
       "'Herr Sam'"
      ],
      "text/markdown": [
       "'Herr Sam'"
      ],
      "text/plain": [
       "[1] \"Herr Sam\""
      ]
     },
     "metadata": {},
     "output_type": "display_data"
    }
   ],
   "source": [
    "formal()"
   ]
  },
  {
   "cell_type": "code",
   "execution_count": 13,
   "metadata": {},
   "outputs": [
    {
     "data": {
      "text/html": [
       "'Herr Issac Newton'"
      ],
      "text/latex": [
       "'Herr Issac Newton'"
      ],
      "text/markdown": [
       "'Herr Issac Newton'"
      ],
      "text/plain": [
       "[1] \"Herr Issac Newton\""
      ]
     },
     "metadata": {},
     "output_type": "display_data"
    }
   ],
   "source": [
    "formal('Issac Newton')"
   ]
  },
  {
   "cell_type": "markdown",
   "metadata": {},
   "source": [
    "Achtet darauf, dass wir hier keine print-Ausgabe erzeugen. Wir können unser Ergebnis einer Variablen zuweisen:"
   ]
  },
  {
   "cell_type": "code",
   "execution_count": 14,
   "metadata": {},
   "outputs": [],
   "source": [
    "var <- formal('Marie Curie','Frau')"
   ]
  },
  {
   "cell_type": "code",
   "execution_count": 15,
   "metadata": {},
   "outputs": [
    {
     "data": {
      "text/html": [
       "'Frau Marie Curie'"
      ],
      "text/latex": [
       "'Frau Marie Curie'"
      ],
      "text/markdown": [
       "'Frau Marie Curie'"
      ],
      "text/plain": [
       "[1] \"Frau Marie Curie\""
      ]
     },
     "metadata": {},
     "output_type": "display_data"
    }
   ],
   "source": [
    "var"
   ]
  },
  {
   "cell_type": "markdown",
   "metadata": {},
   "source": [
    "Das ist die Art von Syntax, die wir für unsere Funktionen verwenden werden: Die Übergabe von Parametern und die Rückgabe eines Ergebnisses.\n",
    "\n",
    "## Geltungsbereich\n",
    "\n",
    "Geltungsbereich (en. scope) ist der Begriff, den wir dafür verwenden, um zu beschreiben wie Objekte und Variablen definiert sind. Ist eine Variable bspw. nur innerhalb einer Funktion definiert, dann sagen wir, dass ihr Geltungsbereich auf die Funktion limitiert ist."
   ]
  },
  {
   "cell_type": "code",
   "execution_count": 18,
   "metadata": {},
   "outputs": [],
   "source": [
    "# Eingabe mit 5 multiplizieren\n",
    "mal5 <- function(eingabe) {\n",
    "  ergebnis <- eingabe * 5\n",
    "  return(ergebnis)\n",
    "}"
   ]
  },
  {
   "cell_type": "code",
   "execution_count": 19,
   "metadata": {},
   "outputs": [
    {
     "data": {
      "text/html": [
       "20"
      ],
      "text/latex": [
       "20"
      ],
      "text/markdown": [
       "20"
      ],
      "text/plain": [
       "[1] 20"
      ]
     },
     "metadata": {},
     "output_type": "display_data"
    },
    {
     "ename": "ERROR",
     "evalue": "Error in eval(expr, envir, enclos): Objekt 'ergebnis' nicht gefunden\n",
     "output_type": "error",
     "traceback": [
      "Error in eval(expr, envir, enclos): Objekt 'ergebnis' nicht gefunden\nTraceback:\n"
     ]
    }
   ],
   "source": [
    "mal5(4)\n",
    "ergebnis # Außerhalb der Funktion nicht definiert\n",
    "eingabe # Außerhalb der Funktion nicht definiert"
   ]
  },
  {
   "cell_type": "markdown",
   "metadata": {},
   "source": [
    "Dieser Error zeigt uns an, dass die Variablen nur innerhalb des \"Geltungsbereichs\" der Funktion definiert sind. Varaiblen hingegen, die außerhalb der Funktion definiert werden, sind *globale* Variablen. Die Funktion kann deshalb auf sie zugreifen. Ein Beispiel:"
   ]
  },
  {
   "cell_type": "code",
   "execution_count": 20,
   "metadata": {},
   "outputs": [],
   "source": [
    "v <- \"Ich bin ein globales v\"\n",
    "etwas <- \"Auch ich bin etwas globales\"\n",
    "\n",
    "fun <- function(etwas){\n",
    "    print(v) \n",
    "    etwas <- 'Etwas neues zuweisen'\n",
    "    print(etwas)\n",
    "}"
   ]
  },
  {
   "cell_type": "code",
   "execution_count": 21,
   "metadata": {},
   "outputs": [
    {
     "name": "stdout",
     "output_type": "stream",
     "text": [
      "[1] \"Ich bin ein globales v\"\n",
      "[1] \"Auch ich bin etwas globales\"\n",
      "[1] \"Ich bin ein globales v\"\n",
      "[1] \"Etwas neues zuweisen\"\n",
      "[1] \"Auch ich bin etwas globales\"\n"
     ]
    }
   ],
   "source": [
    "print(v) # print v\n",
    "print(etwas) #print etwas\n",
    "fun(etwas) # etwas an die Funktion übergeben\n",
    "# Die Neuzuweisung geschieht nur innerhalb der Funktion\n",
    "print(etwas)"
   ]
  },
  {
   "cell_type": "markdown",
   "metadata": {},
   "source": [
    "Was passiert hier im Details? Das folgende:\n",
    "\n",
    "**print(v)** überprüft die globale Variable *v*, äußerer Geltungsbereich\n",
    "\n",
    "**print(etwas)** überprüft auch die globale Variable *etwas*\n",
    "\n",
    "**fun(etwas)** wird einen Parameter akzeptieren, print auf *v* anwenden, dann *etwas* neu zuweisen (innerhalb des Geltungsbereichs der Funktion) und print auf *etwas* anwenden. Achtet dabei auf zwei Dinge:\n",
    "\n",
    "* Die Neuzuweisungvon *etwas* findet nur innerhalb der Funktion statt\n",
    "* Die fun Funktion überprüft zuerst, ob *v* innerhalb des Geltungsbereichs der Funktion definiert wurde. Sofern das nicht der Fall ist (wie in unserem Beispiel) wird danach der globale Geltungsbereich überprüft.\n",
    "\n",
    "Schaut euch die nachfolgende Funktion an und versichert euch, dass ihr sie versteht:"
   ]
  },
  {
   "cell_type": "code",
   "execution_count": 22,
   "metadata": {},
   "outputs": [
    {
     "data": {
      "text/html": [
       "10"
      ],
      "text/latex": [
       "10"
      ],
      "text/markdown": [
       "10"
      ],
      "text/plain": [
       "[1] 10"
      ]
     },
     "metadata": {},
     "output_type": "display_data"
    },
    {
     "data": {
      "text/html": [
       "5"
      ],
      "text/latex": [
       "5"
      ],
      "text/markdown": [
       "5"
      ],
      "text/plain": [
       "[1] 5"
      ]
     },
     "metadata": {},
     "output_type": "display_data"
    }
   ],
   "source": [
    "doppelt <- function(a) {\n",
    "  a <- 2*a\n",
    "  a\n",
    "}\n",
    "var <- 5\n",
    "doppelt(var)\n",
    "var"
   ]
  },
  {
   "cell_type": "markdown",
   "metadata": {},
   "source": [
    "Herzlichen Glückwunsch! Sie sind mit Lektion 32. fertig!"
   ]
  }
 ],
 "metadata": {
  "kernelspec": {
   "display_name": "R",
   "language": "R",
   "name": "ir"
  },
  "language_info": {
   "codemirror_mode": "r",
   "file_extension": ".r",
   "mimetype": "text/x-r-source",
   "name": "R",
   "pygments_lexer": "r",
   "version": "3.6.1"
  }
 },
 "nbformat": 4,
 "nbformat_minor": 1
}
