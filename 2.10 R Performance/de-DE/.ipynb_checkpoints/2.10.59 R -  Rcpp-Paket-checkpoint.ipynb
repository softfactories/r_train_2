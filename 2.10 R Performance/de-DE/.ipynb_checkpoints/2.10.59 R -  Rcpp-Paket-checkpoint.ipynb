{
 "cells": [
  {
   "cell_type": "markdown",
   "metadata": {},
   "source": [
    "# Tag 2. Kapitel 10. R Performance\n",
    "\n",
    "## Lektion 59. R Rcpp-Paket\n",
    "\n",
    "The [Rcpp package](https://cran.r-project.org/package=Rcpp) provides R\n",
    "functions and a (header-only for client packages) C++ library greatly\n",
    "facilitating the integration of R and C++.\n",
    "\n",
    "All underlying R types and objects, _i.e._, everything a `SEXP` represents internally\n",
    "in R, are matched to corresponding C++ objects. This covers anything from vectors,\n",
    "matrices or lists to environments, functions and more. Each `SEXP` variant is\n",
    "automatically mapped to a dedicated C++ class. For example, numeric vectors are\n",
    "represented as instances of the `Rcpp::NumericVector` class, environments are\n",
    "represented as instances of `Rcpp::Environment`, functions are represented as\n",
    "\n",
    "`Rcpp::Function`, etc ...  The\n",
    "[Rcpp-introduction](https://cran.r-project.org/package=Rcpp/vignettes/Rcpp-introduction.pdf)\n",
    "vignette (now published as a\n",
    "[TAS paper](https://amstat.tandfonline.com/doi/abs/10.1080/00031305.2017.1375990); an\n",
    "[earlier introduction](https://cran.r-project.org/package=Rcpp/vignettes/Rcpp-jss-2011.pdf)\n",
    "was also published as a [JSS paper](http://www.jstatsoft.org/v40/i08/))\n",
    "provides a good entry point to Rcpp as do the [Rcpp\n",
    "website](http://www.rcpp.org), the [Rcpp\n",
    "page](http://dirk.eddelbuettel.com/code/rcpp.html) and the [Rcpp\n",
    "Gallery](http://gallery.rcpp.org). Full documentation is provided by the\n",
    "[Rcpp book](http://www.rcpp.org/book/)."
   ]
  },
  {
   "cell_type": "code",
   "execution_count": 1,
   "metadata": {},
   "outputs": [
    {
     "name": "stdout",
     "output_type": "stream",
     "text": [
      "package 'Rcpp' successfully unpacked and MD5 sums checked\n"
     ]
    },
    {
     "name": "stderr",
     "output_type": "stream",
     "text": [
      "Warning message:\n",
      "\"cannot remove prior installation of package 'Rcpp'\"Warning message in file.copy(savedcopy, lib, recursive = TRUE):\n",
      "\"Problem C:\\Users\\dm_78\\.conda\\envs\\R Universe\\Lib\\R\\library\\00LOCK\\Rcpp\\libs\\x64\\Rcpp.dll nach C:\\Users\\dm_78\\.conda\\envs\\R Universe\\Lib\\R\\library\\Rcpp\\libs\\x64\\Rcpp.dll zu kopieren: Permission denied\"Warning message:\n",
      "\"restored 'Rcpp'\""
     ]
    },
    {
     "name": "stdout",
     "output_type": "stream",
     "text": [
      "\n",
      "The downloaded binary packages are in\n",
      "\tC:\\Users\\dm_78\\AppData\\Local\\Temp\\RtmpOMpBfk\\downloaded_packages\n"
     ]
    }
   ],
   "source": [
    "install.packages(\"Rcpp\")"
   ]
  },
  {
   "cell_type": "code",
   "execution_count": 2,
   "metadata": {},
   "outputs": [],
   "source": [
    "library(Rcpp)"
   ]
  },
  {
   "cell_type": "markdown",
   "metadata": {},
   "source": [
    "### TODO: Beispiele aus Rcpp ausprobieren"
   ]
  },
  {
   "cell_type": "code",
   "execution_count": 3,
   "metadata": {},
   "outputs": [],
   "source": [
    "# introduction to Rcpp\n",
    "vignette(\"Rcpp-introduction\")\t\n",
    "\n",
    "# information on how to build a package that uses Rcpp\n",
    "vignette(\"Rcpp-package\")"
   ]
  },
  {
   "cell_type": "code",
   "execution_count": null,
   "metadata": {},
   "outputs": [],
   "source": []
  },
  {
   "cell_type": "code",
   "execution_count": null,
   "metadata": {},
   "outputs": [],
   "source": []
  },
  {
   "cell_type": "code",
   "execution_count": 7,
   "metadata": {},
   "outputs": [],
   "source": [
    "help(Rcpp)"
   ]
  },
  {
   "cell_type": "markdown",
   "metadata": {},
   "source": [
    "Weitere Details siehe z.B. [hier]\n",
    "\n",
    "Herzlichen Glückwunsch! Sie sind mit Lektion 59. fertig!"
   ]
  }
 ],
 "metadata": {
  "kernelspec": {
   "display_name": "R",
   "language": "R",
   "name": "ir"
  },
  "language_info": {
   "codemirror_mode": "r",
   "file_extension": ".r",
   "mimetype": "text/x-r-source",
   "name": "R",
   "pygments_lexer": "r",
   "version": "3.6.1"
  }
 },
 "nbformat": 4,
 "nbformat_minor": 1
}
