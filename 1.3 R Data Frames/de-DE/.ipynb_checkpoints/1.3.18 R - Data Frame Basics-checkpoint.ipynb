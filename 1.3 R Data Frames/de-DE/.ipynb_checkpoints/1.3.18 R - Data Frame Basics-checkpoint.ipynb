{
 "cells": [
  {
   "cell_type": "markdown",
   "metadata": {},
   "source": [
    "# Tag 1. Kapitel 3. Data Frames\n",
    "\n",
    "## Lektion 18. Data Frame Grundlagen\n",
    "\n",
    "Wir haben bereits Vektoren und deren zweidimensionales Gegenstück, die Matrizen, kennengelernt. Bevor wir uns abschließend mit Listen befassen schauen wir uns jetzt *Data Frames* an. Diese bilden das Hauptwerkzeug zur Datenanalyse in R! Matrizen sind dazu etwas zu beschränkt, da alle Elemente in ihnen nur einen Datentyp haben dürfen. Durch Data Frames können wir jetzt verschiedene Daten Typen zusammen speichern und bearbeiten.\n",
    "\n",
    "R bietet seinerseits einige vorinstallierte Data Frames, die gut sind, um die Funktionalität kennenzulernen und etwas herumzuspielen. Es folgen einige Beispiele:"
   ]
  },
  {
   "cell_type": "code",
   "execution_count": 1,
   "metadata": {},
   "outputs": [
    {
     "data": {
      "text/html": [
       "<table>\n",
       "<thead><tr><th></th><th scope=col>Population</th><th scope=col>Income</th><th scope=col>Illiteracy</th><th scope=col>Life Exp</th><th scope=col>Murder</th><th scope=col>HS Grad</th><th scope=col>Frost</th><th scope=col>Area</th></tr></thead>\n",
       "<tbody>\n",
       "\t<tr><th scope=row>Alabama</th><td> 3615 </td><td>3624  </td><td>2.1   </td><td>69.05 </td><td>15.1  </td><td>41.3  </td><td> 20   </td><td> 50708</td></tr>\n",
       "\t<tr><th scope=row>Alaska</th><td>  365 </td><td>6315  </td><td>1.5   </td><td>69.31 </td><td>11.3  </td><td>66.7  </td><td>152   </td><td>566432</td></tr>\n",
       "\t<tr><th scope=row>Arizona</th><td> 2212 </td><td>4530  </td><td>1.8   </td><td>70.55 </td><td> 7.8  </td><td>58.1  </td><td> 15   </td><td>113417</td></tr>\n",
       "\t<tr><th scope=row>Arkansas</th><td> 2110 </td><td>3378  </td><td>1.9   </td><td>70.66 </td><td>10.1  </td><td>39.9  </td><td> 65   </td><td> 51945</td></tr>\n",
       "\t<tr><th scope=row>California</th><td>21198 </td><td>5114  </td><td>1.1   </td><td>71.71 </td><td>10.3  </td><td>62.6  </td><td> 20   </td><td>156361</td></tr>\n",
       "\t<tr><th scope=row>Colorado</th><td> 2541 </td><td>4884  </td><td>0.7   </td><td>72.06 </td><td> 6.8  </td><td>63.9  </td><td>166   </td><td>103766</td></tr>\n",
       "\t<tr><th scope=row>Connecticut</th><td> 3100 </td><td>5348  </td><td>1.1   </td><td>72.48 </td><td> 3.1  </td><td>56.0  </td><td>139   </td><td>  4862</td></tr>\n",
       "\t<tr><th scope=row>Delaware</th><td>  579 </td><td>4809  </td><td>0.9   </td><td>70.06 </td><td> 6.2  </td><td>54.6  </td><td>103   </td><td>  1982</td></tr>\n",
       "\t<tr><th scope=row>Florida</th><td> 8277 </td><td>4815  </td><td>1.3   </td><td>70.66 </td><td>10.7  </td><td>52.6  </td><td> 11   </td><td> 54090</td></tr>\n",
       "\t<tr><th scope=row>Georgia</th><td> 4931 </td><td>4091  </td><td>2.0   </td><td>68.54 </td><td>13.9  </td><td>40.6  </td><td> 60   </td><td> 58073</td></tr>\n",
       "\t<tr><th scope=row>Hawaii</th><td>  868 </td><td>4963  </td><td>1.9   </td><td>73.60 </td><td> 6.2  </td><td>61.9  </td><td>  0   </td><td>  6425</td></tr>\n",
       "\t<tr><th scope=row>Idaho</th><td>  813 </td><td>4119  </td><td>0.6   </td><td>71.87 </td><td> 5.3  </td><td>59.5  </td><td>126   </td><td> 82677</td></tr>\n",
       "\t<tr><th scope=row>Illinois</th><td>11197 </td><td>5107  </td><td>0.9   </td><td>70.14 </td><td>10.3  </td><td>52.6  </td><td>127   </td><td> 55748</td></tr>\n",
       "\t<tr><th scope=row>Indiana</th><td> 5313 </td><td>4458  </td><td>0.7   </td><td>70.88 </td><td> 7.1  </td><td>52.9  </td><td>122   </td><td> 36097</td></tr>\n",
       "\t<tr><th scope=row>Iowa</th><td> 2861 </td><td>4628  </td><td>0.5   </td><td>72.56 </td><td> 2.3  </td><td>59.0  </td><td>140   </td><td> 55941</td></tr>\n",
       "\t<tr><th scope=row>Kansas</th><td> 2280 </td><td>4669  </td><td>0.6   </td><td>72.58 </td><td> 4.5  </td><td>59.9  </td><td>114   </td><td> 81787</td></tr>\n",
       "\t<tr><th scope=row>Kentucky</th><td> 3387 </td><td>3712  </td><td>1.6   </td><td>70.10 </td><td>10.6  </td><td>38.5  </td><td> 95   </td><td> 39650</td></tr>\n",
       "\t<tr><th scope=row>Louisiana</th><td> 3806 </td><td>3545  </td><td>2.8   </td><td>68.76 </td><td>13.2  </td><td>42.2  </td><td> 12   </td><td> 44930</td></tr>\n",
       "\t<tr><th scope=row>Maine</th><td> 1058 </td><td>3694  </td><td>0.7   </td><td>70.39 </td><td> 2.7  </td><td>54.7  </td><td>161   </td><td> 30920</td></tr>\n",
       "\t<tr><th scope=row>Maryland</th><td> 4122 </td><td>5299  </td><td>0.9   </td><td>70.22 </td><td> 8.5  </td><td>52.3  </td><td>101   </td><td>  9891</td></tr>\n",
       "\t<tr><th scope=row>Massachusetts</th><td> 5814 </td><td>4755  </td><td>1.1   </td><td>71.83 </td><td> 3.3  </td><td>58.5  </td><td>103   </td><td>  7826</td></tr>\n",
       "\t<tr><th scope=row>Michigan</th><td> 9111 </td><td>4751  </td><td>0.9   </td><td>70.63 </td><td>11.1  </td><td>52.8  </td><td>125   </td><td> 56817</td></tr>\n",
       "\t<tr><th scope=row>Minnesota</th><td> 3921 </td><td>4675  </td><td>0.6   </td><td>72.96 </td><td> 2.3  </td><td>57.6  </td><td>160   </td><td> 79289</td></tr>\n",
       "\t<tr><th scope=row>Mississippi</th><td> 2341 </td><td>3098  </td><td>2.4   </td><td>68.09 </td><td>12.5  </td><td>41.0  </td><td> 50   </td><td> 47296</td></tr>\n",
       "\t<tr><th scope=row>Missouri</th><td> 4767 </td><td>4254  </td><td>0.8   </td><td>70.69 </td><td> 9.3  </td><td>48.8  </td><td>108   </td><td> 68995</td></tr>\n",
       "\t<tr><th scope=row>Montana</th><td>  746 </td><td>4347  </td><td>0.6   </td><td>70.56 </td><td> 5.0  </td><td>59.2  </td><td>155   </td><td>145587</td></tr>\n",
       "\t<tr><th scope=row>Nebraska</th><td> 1544 </td><td>4508  </td><td>0.6   </td><td>72.60 </td><td> 2.9  </td><td>59.3  </td><td>139   </td><td> 76483</td></tr>\n",
       "\t<tr><th scope=row>Nevada</th><td>  590 </td><td>5149  </td><td>0.5   </td><td>69.03 </td><td>11.5  </td><td>65.2  </td><td>188   </td><td>109889</td></tr>\n",
       "\t<tr><th scope=row>New Hampshire</th><td>  812 </td><td>4281  </td><td>0.7   </td><td>71.23 </td><td> 3.3  </td><td>57.6  </td><td>174   </td><td>  9027</td></tr>\n",
       "\t<tr><th scope=row>New Jersey</th><td> 7333 </td><td>5237  </td><td>1.1   </td><td>70.93 </td><td> 5.2  </td><td>52.5  </td><td>115   </td><td>  7521</td></tr>\n",
       "\t<tr><th scope=row>New Mexico</th><td> 1144 </td><td>3601  </td><td>2.2   </td><td>70.32 </td><td> 9.7  </td><td>55.2  </td><td>120   </td><td>121412</td></tr>\n",
       "\t<tr><th scope=row>New York</th><td>18076 </td><td>4903  </td><td>1.4   </td><td>70.55 </td><td>10.9  </td><td>52.7  </td><td> 82   </td><td> 47831</td></tr>\n",
       "\t<tr><th scope=row>North Carolina</th><td> 5441 </td><td>3875  </td><td>1.8   </td><td>69.21 </td><td>11.1  </td><td>38.5  </td><td> 80   </td><td> 48798</td></tr>\n",
       "\t<tr><th scope=row>North Dakota</th><td>  637 </td><td>5087  </td><td>0.8   </td><td>72.78 </td><td> 1.4  </td><td>50.3  </td><td>186   </td><td> 69273</td></tr>\n",
       "\t<tr><th scope=row>Ohio</th><td>10735 </td><td>4561  </td><td>0.8   </td><td>70.82 </td><td> 7.4  </td><td>53.2  </td><td>124   </td><td> 40975</td></tr>\n",
       "\t<tr><th scope=row>Oklahoma</th><td> 2715 </td><td>3983  </td><td>1.1   </td><td>71.42 </td><td> 6.4  </td><td>51.6  </td><td> 82   </td><td> 68782</td></tr>\n",
       "\t<tr><th scope=row>Oregon</th><td> 2284 </td><td>4660  </td><td>0.6   </td><td>72.13 </td><td> 4.2  </td><td>60.0  </td><td> 44   </td><td> 96184</td></tr>\n",
       "\t<tr><th scope=row>Pennsylvania</th><td>11860 </td><td>4449  </td><td>1.0   </td><td>70.43 </td><td> 6.1  </td><td>50.2  </td><td>126   </td><td> 44966</td></tr>\n",
       "\t<tr><th scope=row>Rhode Island</th><td>  931 </td><td>4558  </td><td>1.3   </td><td>71.90 </td><td> 2.4  </td><td>46.4  </td><td>127   </td><td>  1049</td></tr>\n",
       "\t<tr><th scope=row>South Carolina</th><td> 2816 </td><td>3635  </td><td>2.3   </td><td>67.96 </td><td>11.6  </td><td>37.8  </td><td> 65   </td><td> 30225</td></tr>\n",
       "\t<tr><th scope=row>South Dakota</th><td>  681 </td><td>4167  </td><td>0.5   </td><td>72.08 </td><td> 1.7  </td><td>53.3  </td><td>172   </td><td> 75955</td></tr>\n",
       "\t<tr><th scope=row>Tennessee</th><td> 4173 </td><td>3821  </td><td>1.7   </td><td>70.11 </td><td>11.0  </td><td>41.8  </td><td> 70   </td><td> 41328</td></tr>\n",
       "\t<tr><th scope=row>Texas</th><td>12237 </td><td>4188  </td><td>2.2   </td><td>70.90 </td><td>12.2  </td><td>47.4  </td><td> 35   </td><td>262134</td></tr>\n",
       "\t<tr><th scope=row>Utah</th><td> 1203 </td><td>4022  </td><td>0.6   </td><td>72.90 </td><td> 4.5  </td><td>67.3  </td><td>137   </td><td> 82096</td></tr>\n",
       "\t<tr><th scope=row>Vermont</th><td>  472 </td><td>3907  </td><td>0.6   </td><td>71.64 </td><td> 5.5  </td><td>57.1  </td><td>168   </td><td>  9267</td></tr>\n",
       "\t<tr><th scope=row>Virginia</th><td> 4981 </td><td>4701  </td><td>1.4   </td><td>70.08 </td><td> 9.5  </td><td>47.8  </td><td> 85   </td><td> 39780</td></tr>\n",
       "\t<tr><th scope=row>Washington</th><td> 3559 </td><td>4864  </td><td>0.6   </td><td>71.72 </td><td> 4.3  </td><td>63.5  </td><td> 32   </td><td> 66570</td></tr>\n",
       "\t<tr><th scope=row>West Virginia</th><td> 1799 </td><td>3617  </td><td>1.4   </td><td>69.48 </td><td> 6.7  </td><td>41.6  </td><td>100   </td><td> 24070</td></tr>\n",
       "\t<tr><th scope=row>Wisconsin</th><td> 4589 </td><td>4468  </td><td>0.7   </td><td>72.48 </td><td> 3.0  </td><td>54.5  </td><td>149   </td><td> 54464</td></tr>\n",
       "\t<tr><th scope=row>Wyoming</th><td>  376 </td><td>4566  </td><td>0.6   </td><td>70.29 </td><td> 6.9  </td><td>62.9  </td><td>173   </td><td> 97203</td></tr>\n",
       "</tbody>\n",
       "</table>\n"
      ],
      "text/latex": [
       "\\begin{tabular}{r|llllllll}\n",
       "  & Population & Income & Illiteracy & Life Exp & Murder & HS Grad & Frost & Area\\\\\n",
       "\\hline\n",
       "\tAlabama &  3615  & 3624   & 2.1    & 69.05  & 15.1   & 41.3   &  20    &  50708\\\\\n",
       "\tAlaska &   365  & 6315   & 1.5    & 69.31  & 11.3   & 66.7   & 152    & 566432\\\\\n",
       "\tArizona &  2212  & 4530   & 1.8    & 70.55  &  7.8   & 58.1   &  15    & 113417\\\\\n",
       "\tArkansas &  2110  & 3378   & 1.9    & 70.66  & 10.1   & 39.9   &  65    &  51945\\\\\n",
       "\tCalifornia & 21198  & 5114   & 1.1    & 71.71  & 10.3   & 62.6   &  20    & 156361\\\\\n",
       "\tColorado &  2541  & 4884   & 0.7    & 72.06  &  6.8   & 63.9   & 166    & 103766\\\\\n",
       "\tConnecticut &  3100  & 5348   & 1.1    & 72.48  &  3.1   & 56.0   & 139    &   4862\\\\\n",
       "\tDelaware &   579  & 4809   & 0.9    & 70.06  &  6.2   & 54.6   & 103    &   1982\\\\\n",
       "\tFlorida &  8277  & 4815   & 1.3    & 70.66  & 10.7   & 52.6   &  11    &  54090\\\\\n",
       "\tGeorgia &  4931  & 4091   & 2.0    & 68.54  & 13.9   & 40.6   &  60    &  58073\\\\\n",
       "\tHawaii &   868  & 4963   & 1.9    & 73.60  &  6.2   & 61.9   &   0    &   6425\\\\\n",
       "\tIdaho &   813  & 4119   & 0.6    & 71.87  &  5.3   & 59.5   & 126    &  82677\\\\\n",
       "\tIllinois & 11197  & 5107   & 0.9    & 70.14  & 10.3   & 52.6   & 127    &  55748\\\\\n",
       "\tIndiana &  5313  & 4458   & 0.7    & 70.88  &  7.1   & 52.9   & 122    &  36097\\\\\n",
       "\tIowa &  2861  & 4628   & 0.5    & 72.56  &  2.3   & 59.0   & 140    &  55941\\\\\n",
       "\tKansas &  2280  & 4669   & 0.6    & 72.58  &  4.5   & 59.9   & 114    &  81787\\\\\n",
       "\tKentucky &  3387  & 3712   & 1.6    & 70.10  & 10.6   & 38.5   &  95    &  39650\\\\\n",
       "\tLouisiana &  3806  & 3545   & 2.8    & 68.76  & 13.2   & 42.2   &  12    &  44930\\\\\n",
       "\tMaine &  1058  & 3694   & 0.7    & 70.39  &  2.7   & 54.7   & 161    &  30920\\\\\n",
       "\tMaryland &  4122  & 5299   & 0.9    & 70.22  &  8.5   & 52.3   & 101    &   9891\\\\\n",
       "\tMassachusetts &  5814  & 4755   & 1.1    & 71.83  &  3.3   & 58.5   & 103    &   7826\\\\\n",
       "\tMichigan &  9111  & 4751   & 0.9    & 70.63  & 11.1   & 52.8   & 125    &  56817\\\\\n",
       "\tMinnesota &  3921  & 4675   & 0.6    & 72.96  &  2.3   & 57.6   & 160    &  79289\\\\\n",
       "\tMississippi &  2341  & 3098   & 2.4    & 68.09  & 12.5   & 41.0   &  50    &  47296\\\\\n",
       "\tMissouri &  4767  & 4254   & 0.8    & 70.69  &  9.3   & 48.8   & 108    &  68995\\\\\n",
       "\tMontana &   746  & 4347   & 0.6    & 70.56  &  5.0   & 59.2   & 155    & 145587\\\\\n",
       "\tNebraska &  1544  & 4508   & 0.6    & 72.60  &  2.9   & 59.3   & 139    &  76483\\\\\n",
       "\tNevada &   590  & 5149   & 0.5    & 69.03  & 11.5   & 65.2   & 188    & 109889\\\\\n",
       "\tNew Hampshire &   812  & 4281   & 0.7    & 71.23  &  3.3   & 57.6   & 174    &   9027\\\\\n",
       "\tNew Jersey &  7333  & 5237   & 1.1    & 70.93  &  5.2   & 52.5   & 115    &   7521\\\\\n",
       "\tNew Mexico &  1144  & 3601   & 2.2    & 70.32  &  9.7   & 55.2   & 120    & 121412\\\\\n",
       "\tNew York & 18076  & 4903   & 1.4    & 70.55  & 10.9   & 52.7   &  82    &  47831\\\\\n",
       "\tNorth Carolina &  5441  & 3875   & 1.8    & 69.21  & 11.1   & 38.5   &  80    &  48798\\\\\n",
       "\tNorth Dakota &   637  & 5087   & 0.8    & 72.78  &  1.4   & 50.3   & 186    &  69273\\\\\n",
       "\tOhio & 10735  & 4561   & 0.8    & 70.82  &  7.4   & 53.2   & 124    &  40975\\\\\n",
       "\tOklahoma &  2715  & 3983   & 1.1    & 71.42  &  6.4   & 51.6   &  82    &  68782\\\\\n",
       "\tOregon &  2284  & 4660   & 0.6    & 72.13  &  4.2   & 60.0   &  44    &  96184\\\\\n",
       "\tPennsylvania & 11860  & 4449   & 1.0    & 70.43  &  6.1   & 50.2   & 126    &  44966\\\\\n",
       "\tRhode Island &   931  & 4558   & 1.3    & 71.90  &  2.4   & 46.4   & 127    &   1049\\\\\n",
       "\tSouth Carolina &  2816  & 3635   & 2.3    & 67.96  & 11.6   & 37.8   &  65    &  30225\\\\\n",
       "\tSouth Dakota &   681  & 4167   & 0.5    & 72.08  &  1.7   & 53.3   & 172    &  75955\\\\\n",
       "\tTennessee &  4173  & 3821   & 1.7    & 70.11  & 11.0   & 41.8   &  70    &  41328\\\\\n",
       "\tTexas & 12237  & 4188   & 2.2    & 70.90  & 12.2   & 47.4   &  35    & 262134\\\\\n",
       "\tUtah &  1203  & 4022   & 0.6    & 72.90  &  4.5   & 67.3   & 137    &  82096\\\\\n",
       "\tVermont &   472  & 3907   & 0.6    & 71.64  &  5.5   & 57.1   & 168    &   9267\\\\\n",
       "\tVirginia &  4981  & 4701   & 1.4    & 70.08  &  9.5   & 47.8   &  85    &  39780\\\\\n",
       "\tWashington &  3559  & 4864   & 0.6    & 71.72  &  4.3   & 63.5   &  32    &  66570\\\\\n",
       "\tWest Virginia &  1799  & 3617   & 1.4    & 69.48  &  6.7   & 41.6   & 100    &  24070\\\\\n",
       "\tWisconsin &  4589  & 4468   & 0.7    & 72.48  &  3.0   & 54.5   & 149    &  54464\\\\\n",
       "\tWyoming &   376  & 4566   & 0.6    & 70.29  &  6.9   & 62.9   & 173    &  97203\\\\\n",
       "\\end{tabular}\n"
      ],
      "text/markdown": [
       "\n",
       "| <!--/--> | Population | Income | Illiteracy | Life Exp | Murder | HS Grad | Frost | Area |\n",
       "|---|---|---|---|---|---|---|---|---|\n",
       "| Alabama |  3615  | 3624   | 2.1    | 69.05  | 15.1   | 41.3   |  20    |  50708 |\n",
       "| Alaska |   365  | 6315   | 1.5    | 69.31  | 11.3   | 66.7   | 152    | 566432 |\n",
       "| Arizona |  2212  | 4530   | 1.8    | 70.55  |  7.8   | 58.1   |  15    | 113417 |\n",
       "| Arkansas |  2110  | 3378   | 1.9    | 70.66  | 10.1   | 39.9   |  65    |  51945 |\n",
       "| California | 21198  | 5114   | 1.1    | 71.71  | 10.3   | 62.6   |  20    | 156361 |\n",
       "| Colorado |  2541  | 4884   | 0.7    | 72.06  |  6.8   | 63.9   | 166    | 103766 |\n",
       "| Connecticut |  3100  | 5348   | 1.1    | 72.48  |  3.1   | 56.0   | 139    |   4862 |\n",
       "| Delaware |   579  | 4809   | 0.9    | 70.06  |  6.2   | 54.6   | 103    |   1982 |\n",
       "| Florida |  8277  | 4815   | 1.3    | 70.66  | 10.7   | 52.6   |  11    |  54090 |\n",
       "| Georgia |  4931  | 4091   | 2.0    | 68.54  | 13.9   | 40.6   |  60    |  58073 |\n",
       "| Hawaii |   868  | 4963   | 1.9    | 73.60  |  6.2   | 61.9   |   0    |   6425 |\n",
       "| Idaho |   813  | 4119   | 0.6    | 71.87  |  5.3   | 59.5   | 126    |  82677 |\n",
       "| Illinois | 11197  | 5107   | 0.9    | 70.14  | 10.3   | 52.6   | 127    |  55748 |\n",
       "| Indiana |  5313  | 4458   | 0.7    | 70.88  |  7.1   | 52.9   | 122    |  36097 |\n",
       "| Iowa |  2861  | 4628   | 0.5    | 72.56  |  2.3   | 59.0   | 140    |  55941 |\n",
       "| Kansas |  2280  | 4669   | 0.6    | 72.58  |  4.5   | 59.9   | 114    |  81787 |\n",
       "| Kentucky |  3387  | 3712   | 1.6    | 70.10  | 10.6   | 38.5   |  95    |  39650 |\n",
       "| Louisiana |  3806  | 3545   | 2.8    | 68.76  | 13.2   | 42.2   |  12    |  44930 |\n",
       "| Maine |  1058  | 3694   | 0.7    | 70.39  |  2.7   | 54.7   | 161    |  30920 |\n",
       "| Maryland |  4122  | 5299   | 0.9    | 70.22  |  8.5   | 52.3   | 101    |   9891 |\n",
       "| Massachusetts |  5814  | 4755   | 1.1    | 71.83  |  3.3   | 58.5   | 103    |   7826 |\n",
       "| Michigan |  9111  | 4751   | 0.9    | 70.63  | 11.1   | 52.8   | 125    |  56817 |\n",
       "| Minnesota |  3921  | 4675   | 0.6    | 72.96  |  2.3   | 57.6   | 160    |  79289 |\n",
       "| Mississippi |  2341  | 3098   | 2.4    | 68.09  | 12.5   | 41.0   |  50    |  47296 |\n",
       "| Missouri |  4767  | 4254   | 0.8    | 70.69  |  9.3   | 48.8   | 108    |  68995 |\n",
       "| Montana |   746  | 4347   | 0.6    | 70.56  |  5.0   | 59.2   | 155    | 145587 |\n",
       "| Nebraska |  1544  | 4508   | 0.6    | 72.60  |  2.9   | 59.3   | 139    |  76483 |\n",
       "| Nevada |   590  | 5149   | 0.5    | 69.03  | 11.5   | 65.2   | 188    | 109889 |\n",
       "| New Hampshire |   812  | 4281   | 0.7    | 71.23  |  3.3   | 57.6   | 174    |   9027 |\n",
       "| New Jersey |  7333  | 5237   | 1.1    | 70.93  |  5.2   | 52.5   | 115    |   7521 |\n",
       "| New Mexico |  1144  | 3601   | 2.2    | 70.32  |  9.7   | 55.2   | 120    | 121412 |\n",
       "| New York | 18076  | 4903   | 1.4    | 70.55  | 10.9   | 52.7   |  82    |  47831 |\n",
       "| North Carolina |  5441  | 3875   | 1.8    | 69.21  | 11.1   | 38.5   |  80    |  48798 |\n",
       "| North Dakota |   637  | 5087   | 0.8    | 72.78  |  1.4   | 50.3   | 186    |  69273 |\n",
       "| Ohio | 10735  | 4561   | 0.8    | 70.82  |  7.4   | 53.2   | 124    |  40975 |\n",
       "| Oklahoma |  2715  | 3983   | 1.1    | 71.42  |  6.4   | 51.6   |  82    |  68782 |\n",
       "| Oregon |  2284  | 4660   | 0.6    | 72.13  |  4.2   | 60.0   |  44    |  96184 |\n",
       "| Pennsylvania | 11860  | 4449   | 1.0    | 70.43  |  6.1   | 50.2   | 126    |  44966 |\n",
       "| Rhode Island |   931  | 4558   | 1.3    | 71.90  |  2.4   | 46.4   | 127    |   1049 |\n",
       "| South Carolina |  2816  | 3635   | 2.3    | 67.96  | 11.6   | 37.8   |  65    |  30225 |\n",
       "| South Dakota |   681  | 4167   | 0.5    | 72.08  |  1.7   | 53.3   | 172    |  75955 |\n",
       "| Tennessee |  4173  | 3821   | 1.7    | 70.11  | 11.0   | 41.8   |  70    |  41328 |\n",
       "| Texas | 12237  | 4188   | 2.2    | 70.90  | 12.2   | 47.4   |  35    | 262134 |\n",
       "| Utah |  1203  | 4022   | 0.6    | 72.90  |  4.5   | 67.3   | 137    |  82096 |\n",
       "| Vermont |   472  | 3907   | 0.6    | 71.64  |  5.5   | 57.1   | 168    |   9267 |\n",
       "| Virginia |  4981  | 4701   | 1.4    | 70.08  |  9.5   | 47.8   |  85    |  39780 |\n",
       "| Washington |  3559  | 4864   | 0.6    | 71.72  |  4.3   | 63.5   |  32    |  66570 |\n",
       "| West Virginia |  1799  | 3617   | 1.4    | 69.48  |  6.7   | 41.6   | 100    |  24070 |\n",
       "| Wisconsin |  4589  | 4468   | 0.7    | 72.48  |  3.0   | 54.5   | 149    |  54464 |\n",
       "| Wyoming |   376  | 4566   | 0.6    | 70.29  |  6.9   | 62.9   | 173    |  97203 |\n",
       "\n"
      ],
      "text/plain": [
       "               Population Income Illiteracy Life Exp Murder HS Grad Frost\n",
       "Alabama         3615      3624   2.1        69.05    15.1   41.3     20  \n",
       "Alaska           365      6315   1.5        69.31    11.3   66.7    152  \n",
       "Arizona         2212      4530   1.8        70.55     7.8   58.1     15  \n",
       "Arkansas        2110      3378   1.9        70.66    10.1   39.9     65  \n",
       "California     21198      5114   1.1        71.71    10.3   62.6     20  \n",
       "Colorado        2541      4884   0.7        72.06     6.8   63.9    166  \n",
       "Connecticut     3100      5348   1.1        72.48     3.1   56.0    139  \n",
       "Delaware         579      4809   0.9        70.06     6.2   54.6    103  \n",
       "Florida         8277      4815   1.3        70.66    10.7   52.6     11  \n",
       "Georgia         4931      4091   2.0        68.54    13.9   40.6     60  \n",
       "Hawaii           868      4963   1.9        73.60     6.2   61.9      0  \n",
       "Idaho            813      4119   0.6        71.87     5.3   59.5    126  \n",
       "Illinois       11197      5107   0.9        70.14    10.3   52.6    127  \n",
       "Indiana         5313      4458   0.7        70.88     7.1   52.9    122  \n",
       "Iowa            2861      4628   0.5        72.56     2.3   59.0    140  \n",
       "Kansas          2280      4669   0.6        72.58     4.5   59.9    114  \n",
       "Kentucky        3387      3712   1.6        70.10    10.6   38.5     95  \n",
       "Louisiana       3806      3545   2.8        68.76    13.2   42.2     12  \n",
       "Maine           1058      3694   0.7        70.39     2.7   54.7    161  \n",
       "Maryland        4122      5299   0.9        70.22     8.5   52.3    101  \n",
       "Massachusetts   5814      4755   1.1        71.83     3.3   58.5    103  \n",
       "Michigan        9111      4751   0.9        70.63    11.1   52.8    125  \n",
       "Minnesota       3921      4675   0.6        72.96     2.3   57.6    160  \n",
       "Mississippi     2341      3098   2.4        68.09    12.5   41.0     50  \n",
       "Missouri        4767      4254   0.8        70.69     9.3   48.8    108  \n",
       "Montana          746      4347   0.6        70.56     5.0   59.2    155  \n",
       "Nebraska        1544      4508   0.6        72.60     2.9   59.3    139  \n",
       "Nevada           590      5149   0.5        69.03    11.5   65.2    188  \n",
       "New Hampshire    812      4281   0.7        71.23     3.3   57.6    174  \n",
       "New Jersey      7333      5237   1.1        70.93     5.2   52.5    115  \n",
       "New Mexico      1144      3601   2.2        70.32     9.7   55.2    120  \n",
       "New York       18076      4903   1.4        70.55    10.9   52.7     82  \n",
       "North Carolina  5441      3875   1.8        69.21    11.1   38.5     80  \n",
       "North Dakota     637      5087   0.8        72.78     1.4   50.3    186  \n",
       "Ohio           10735      4561   0.8        70.82     7.4   53.2    124  \n",
       "Oklahoma        2715      3983   1.1        71.42     6.4   51.6     82  \n",
       "Oregon          2284      4660   0.6        72.13     4.2   60.0     44  \n",
       "Pennsylvania   11860      4449   1.0        70.43     6.1   50.2    126  \n",
       "Rhode Island     931      4558   1.3        71.90     2.4   46.4    127  \n",
       "South Carolina  2816      3635   2.3        67.96    11.6   37.8     65  \n",
       "South Dakota     681      4167   0.5        72.08     1.7   53.3    172  \n",
       "Tennessee       4173      3821   1.7        70.11    11.0   41.8     70  \n",
       "Texas          12237      4188   2.2        70.90    12.2   47.4     35  \n",
       "Utah            1203      4022   0.6        72.90     4.5   67.3    137  \n",
       "Vermont          472      3907   0.6        71.64     5.5   57.1    168  \n",
       "Virginia        4981      4701   1.4        70.08     9.5   47.8     85  \n",
       "Washington      3559      4864   0.6        71.72     4.3   63.5     32  \n",
       "West Virginia   1799      3617   1.4        69.48     6.7   41.6    100  \n",
       "Wisconsin       4589      4468   0.7        72.48     3.0   54.5    149  \n",
       "Wyoming          376      4566   0.6        70.29     6.9   62.9    173  \n",
       "               Area  \n",
       "Alabama         50708\n",
       "Alaska         566432\n",
       "Arizona        113417\n",
       "Arkansas        51945\n",
       "California     156361\n",
       "Colorado       103766\n",
       "Connecticut      4862\n",
       "Delaware         1982\n",
       "Florida         54090\n",
       "Georgia         58073\n",
       "Hawaii           6425\n",
       "Idaho           82677\n",
       "Illinois        55748\n",
       "Indiana         36097\n",
       "Iowa            55941\n",
       "Kansas          81787\n",
       "Kentucky        39650\n",
       "Louisiana       44930\n",
       "Maine           30920\n",
       "Maryland         9891\n",
       "Massachusetts    7826\n",
       "Michigan        56817\n",
       "Minnesota       79289\n",
       "Mississippi     47296\n",
       "Missouri        68995\n",
       "Montana        145587\n",
       "Nebraska        76483\n",
       "Nevada         109889\n",
       "New Hampshire    9027\n",
       "New Jersey       7521\n",
       "New Mexico     121412\n",
       "New York        47831\n",
       "North Carolina  48798\n",
       "North Dakota    69273\n",
       "Ohio            40975\n",
       "Oklahoma        68782\n",
       "Oregon          96184\n",
       "Pennsylvania    44966\n",
       "Rhode Island     1049\n",
       "South Carolina  30225\n",
       "South Dakota    75955\n",
       "Tennessee       41328\n",
       "Texas          262134\n",
       "Utah            82096\n",
       "Vermont          9267\n",
       "Virginia        39780\n",
       "Washington      66570\n",
       "West Virginia   24070\n",
       "Wisconsin       54464\n",
       "Wyoming         97203"
      ]
     },
     "metadata": {},
     "output_type": "display_data"
    }
   ],
   "source": [
    "# Data Frame der US Staaten\n",
    "state.x77"
   ]
  },
  {
   "cell_type": "code",
   "execution_count": 2,
   "metadata": {},
   "outputs": [
    {
     "data": {
      "text/html": [
       "<table>\n",
       "<thead><tr><th></th><th scope=col>1940</th><th scope=col>1945</th><th scope=col>1950</th><th scope=col>1955</th><th scope=col>1960</th></tr></thead>\n",
       "<tbody>\n",
       "\t<tr><th scope=row>Food and Tobacco</th><td>22.200</td><td>44.500</td><td>59.60 </td><td>73.2  </td><td>86.80 </td></tr>\n",
       "\t<tr><th scope=row>Household Operation</th><td>10.500</td><td>15.500</td><td>29.00 </td><td>36.5  </td><td>46.20 </td></tr>\n",
       "\t<tr><th scope=row>Medical and Health</th><td> 3.530</td><td> 5.760</td><td> 9.71 </td><td>14.0  </td><td>21.10 </td></tr>\n",
       "\t<tr><th scope=row>Personal Care</th><td> 1.040</td><td> 1.980</td><td> 2.45 </td><td> 3.4  </td><td> 5.40 </td></tr>\n",
       "\t<tr><th scope=row>Private Education</th><td> 0.341</td><td> 0.974</td><td> 1.80 </td><td> 2.6  </td><td> 3.64 </td></tr>\n",
       "</tbody>\n",
       "</table>\n"
      ],
      "text/latex": [
       "\\begin{tabular}{r|lllll}\n",
       "  & 1940 & 1945 & 1950 & 1955 & 1960\\\\\n",
       "\\hline\n",
       "\tFood and Tobacco & 22.200 & 44.500 & 59.60  & 73.2   & 86.80 \\\\\n",
       "\tHousehold Operation & 10.500 & 15.500 & 29.00  & 36.5   & 46.20 \\\\\n",
       "\tMedical and Health &  3.530 &  5.760 &  9.71  & 14.0   & 21.10 \\\\\n",
       "\tPersonal Care &  1.040 &  1.980 &  2.45  &  3.4   &  5.40 \\\\\n",
       "\tPrivate Education &  0.341 &  0.974 &  1.80  &  2.6   &  3.64 \\\\\n",
       "\\end{tabular}\n"
      ],
      "text/markdown": [
       "\n",
       "| <!--/--> | 1940 | 1945 | 1950 | 1955 | 1960 |\n",
       "|---|---|---|---|---|---|\n",
       "| Food and Tobacco | 22.200 | 44.500 | 59.60  | 73.2   | 86.80  |\n",
       "| Household Operation | 10.500 | 15.500 | 29.00  | 36.5   | 46.20  |\n",
       "| Medical and Health |  3.530 |  5.760 |  9.71  | 14.0   | 21.10  |\n",
       "| Personal Care |  1.040 |  1.980 |  2.45  |  3.4   |  5.40  |\n",
       "| Private Education |  0.341 |  0.974 |  1.80  |  2.6   |  3.64  |\n",
       "\n"
      ],
      "text/plain": [
       "                    1940   1945   1950  1955 1960 \n",
       "Food and Tobacco    22.200 44.500 59.60 73.2 86.80\n",
       "Household Operation 10.500 15.500 29.00 36.5 46.20\n",
       "Medical and Health   3.530  5.760  9.71 14.0 21.10\n",
       "Personal Care        1.040  1.980  2.45  3.4  5.40\n",
       "Private Education    0.341  0.974  1.80  2.6  3.64"
      ]
     },
     "metadata": {},
     "output_type": "display_data"
    }
   ],
   "source": [
    "# US persönlich Ausgaben\n",
    "USPersonalExpenditure"
   ]
  },
  {
   "cell_type": "code",
   "execution_count": 3,
   "metadata": {},
   "outputs": [
    {
     "data": {
      "text/html": [
       "<table>\n",
       "<thead><tr><th scope=col>height</th><th scope=col>weight</th></tr></thead>\n",
       "<tbody>\n",
       "\t<tr><td>58 </td><td>115</td></tr>\n",
       "\t<tr><td>59 </td><td>117</td></tr>\n",
       "\t<tr><td>60 </td><td>120</td></tr>\n",
       "\t<tr><td>61 </td><td>123</td></tr>\n",
       "\t<tr><td>62 </td><td>126</td></tr>\n",
       "\t<tr><td>63 </td><td>129</td></tr>\n",
       "\t<tr><td>64 </td><td>132</td></tr>\n",
       "\t<tr><td>65 </td><td>135</td></tr>\n",
       "\t<tr><td>66 </td><td>139</td></tr>\n",
       "\t<tr><td>67 </td><td>142</td></tr>\n",
       "\t<tr><td>68 </td><td>146</td></tr>\n",
       "\t<tr><td>69 </td><td>150</td></tr>\n",
       "\t<tr><td>70 </td><td>154</td></tr>\n",
       "\t<tr><td>71 </td><td>159</td></tr>\n",
       "\t<tr><td>72 </td><td>164</td></tr>\n",
       "</tbody>\n",
       "</table>\n"
      ],
      "text/latex": [
       "\\begin{tabular}{r|ll}\n",
       " height & weight\\\\\n",
       "\\hline\n",
       "\t 58  & 115\\\\\n",
       "\t 59  & 117\\\\\n",
       "\t 60  & 120\\\\\n",
       "\t 61  & 123\\\\\n",
       "\t 62  & 126\\\\\n",
       "\t 63  & 129\\\\\n",
       "\t 64  & 132\\\\\n",
       "\t 65  & 135\\\\\n",
       "\t 66  & 139\\\\\n",
       "\t 67  & 142\\\\\n",
       "\t 68  & 146\\\\\n",
       "\t 69  & 150\\\\\n",
       "\t 70  & 154\\\\\n",
       "\t 71  & 159\\\\\n",
       "\t 72  & 164\\\\\n",
       "\\end{tabular}\n"
      ],
      "text/markdown": [
       "\n",
       "| height | weight |\n",
       "|---|---|\n",
       "| 58  | 115 |\n",
       "| 59  | 117 |\n",
       "| 60  | 120 |\n",
       "| 61  | 123 |\n",
       "| 62  | 126 |\n",
       "| 63  | 129 |\n",
       "| 64  | 132 |\n",
       "| 65  | 135 |\n",
       "| 66  | 139 |\n",
       "| 67  | 142 |\n",
       "| 68  | 146 |\n",
       "| 69  | 150 |\n",
       "| 70  | 154 |\n",
       "| 71  | 159 |\n",
       "| 72  | 164 |\n",
       "\n"
      ],
      "text/plain": [
       "   height weight\n",
       "1  58     115   \n",
       "2  59     117   \n",
       "3  60     120   \n",
       "4  61     123   \n",
       "5  62     126   \n",
       "6  63     129   \n",
       "7  64     132   \n",
       "8  65     135   \n",
       "9  66     139   \n",
       "10 67     142   \n",
       "11 68     146   \n",
       "12 69     150   \n",
       "13 70     154   \n",
       "14 71     159   \n",
       "15 72     164   "
      ]
     },
     "metadata": {},
     "output_type": "display_data"
    }
   ],
   "source": [
    "# Frauen \n",
    "women"
   ]
  },
  {
   "cell_type": "markdown",
   "metadata": {},
   "source": [
    "Um eine Liste aller verfügbaren Data Frames zu erhalten können wir `data()` nutzen."
   ]
  },
  {
   "cell_type": "code",
   "execution_count": 4,
   "metadata": {},
   "outputs": [],
   "source": [
    "data() # aktuelle geladene Datensätze anzeigen"
   ]
  },
  {
   "cell_type": "code",
   "execution_count": 5,
   "metadata": {},
   "outputs": [
    {
     "data": {
      "text/html": [
       "<table>\n",
       "<thead><tr><th scope=col>extra</th><th scope=col>group</th><th scope=col>ID</th></tr></thead>\n",
       "<tbody>\n",
       "\t<tr><td> 0.7</td><td>1   </td><td>1   </td></tr>\n",
       "\t<tr><td>-1.6</td><td>1   </td><td>2   </td></tr>\n",
       "\t<tr><td>-0.2</td><td>1   </td><td>3   </td></tr>\n",
       "\t<tr><td>-1.2</td><td>1   </td><td>4   </td></tr>\n",
       "\t<tr><td>-0.1</td><td>1   </td><td>5   </td></tr>\n",
       "\t<tr><td> 3.4</td><td>1   </td><td>6   </td></tr>\n",
       "\t<tr><td> 3.7</td><td>1   </td><td>7   </td></tr>\n",
       "\t<tr><td> 0.8</td><td>1   </td><td>8   </td></tr>\n",
       "\t<tr><td> 0.0</td><td>1   </td><td>9   </td></tr>\n",
       "\t<tr><td> 2.0</td><td>1   </td><td>10  </td></tr>\n",
       "\t<tr><td> 1.9</td><td>2   </td><td>1   </td></tr>\n",
       "\t<tr><td> 0.8</td><td>2   </td><td>2   </td></tr>\n",
       "\t<tr><td> 1.1</td><td>2   </td><td>3   </td></tr>\n",
       "\t<tr><td> 0.1</td><td>2   </td><td>4   </td></tr>\n",
       "\t<tr><td>-0.1</td><td>2   </td><td>5   </td></tr>\n",
       "\t<tr><td> 4.4</td><td>2   </td><td>6   </td></tr>\n",
       "\t<tr><td> 5.5</td><td>2   </td><td>7   </td></tr>\n",
       "\t<tr><td> 1.6</td><td>2   </td><td>8   </td></tr>\n",
       "\t<tr><td> 4.6</td><td>2   </td><td>9   </td></tr>\n",
       "\t<tr><td> 3.4</td><td>2   </td><td>10  </td></tr>\n",
       "</tbody>\n",
       "</table>\n"
      ],
      "text/latex": [
       "\\begin{tabular}{r|lll}\n",
       " extra & group & ID\\\\\n",
       "\\hline\n",
       "\t  0.7 & 1    & 1   \\\\\n",
       "\t -1.6 & 1    & 2   \\\\\n",
       "\t -0.2 & 1    & 3   \\\\\n",
       "\t -1.2 & 1    & 4   \\\\\n",
       "\t -0.1 & 1    & 5   \\\\\n",
       "\t  3.4 & 1    & 6   \\\\\n",
       "\t  3.7 & 1    & 7   \\\\\n",
       "\t  0.8 & 1    & 8   \\\\\n",
       "\t  0.0 & 1    & 9   \\\\\n",
       "\t  2.0 & 1    & 10  \\\\\n",
       "\t  1.9 & 2    & 1   \\\\\n",
       "\t  0.8 & 2    & 2   \\\\\n",
       "\t  1.1 & 2    & 3   \\\\\n",
       "\t  0.1 & 2    & 4   \\\\\n",
       "\t -0.1 & 2    & 5   \\\\\n",
       "\t  4.4 & 2    & 6   \\\\\n",
       "\t  5.5 & 2    & 7   \\\\\n",
       "\t  1.6 & 2    & 8   \\\\\n",
       "\t  4.6 & 2    & 9   \\\\\n",
       "\t  3.4 & 2    & 10  \\\\\n",
       "\\end{tabular}\n"
      ],
      "text/markdown": [
       "\n",
       "| extra | group | ID |\n",
       "|---|---|---|\n",
       "|  0.7 | 1    | 1    |\n",
       "| -1.6 | 1    | 2    |\n",
       "| -0.2 | 1    | 3    |\n",
       "| -1.2 | 1    | 4    |\n",
       "| -0.1 | 1    | 5    |\n",
       "|  3.4 | 1    | 6    |\n",
       "|  3.7 | 1    | 7    |\n",
       "|  0.8 | 1    | 8    |\n",
       "|  0.0 | 1    | 9    |\n",
       "|  2.0 | 1    | 10   |\n",
       "|  1.9 | 2    | 1    |\n",
       "|  0.8 | 2    | 2    |\n",
       "|  1.1 | 2    | 3    |\n",
       "|  0.1 | 2    | 4    |\n",
       "| -0.1 | 2    | 5    |\n",
       "|  4.4 | 2    | 6    |\n",
       "|  5.5 | 2    | 7    |\n",
       "|  1.6 | 2    | 8    |\n",
       "|  4.6 | 2    | 9    |\n",
       "|  3.4 | 2    | 10   |\n",
       "\n"
      ],
      "text/plain": [
       "   extra group ID\n",
       "1   0.7  1     1 \n",
       "2  -1.6  1     2 \n",
       "3  -0.2  1     3 \n",
       "4  -1.2  1     4 \n",
       "5  -0.1  1     5 \n",
       "6   3.4  1     6 \n",
       "7   3.7  1     7 \n",
       "8   0.8  1     8 \n",
       "9   0.0  1     9 \n",
       "10  2.0  1     10\n",
       "11  1.9  2     1 \n",
       "12  0.8  2     2 \n",
       "13  1.1  2     3 \n",
       "14  0.1  2     4 \n",
       "15 -0.1  2     5 \n",
       "16  4.4  2     6 \n",
       "17  5.5  2     7 \n",
       "18  1.6  2     8 \n",
       "19  4.6  2     9 \n",
       "20  3.4  2     10"
      ]
     },
     "metadata": {},
     "output_type": "display_data"
    }
   ],
   "source": [
    "sleep"
   ]
  },
  {
   "cell_type": "markdown",
   "metadata": {},
   "source": [
    "Wir können auch Daten aus externen Datenpaketn laden. Z.B. so kann man bio-medizinische Daten aus dem \"survival\"-Paket laden:"
   ]
  },
  {
   "cell_type": "code",
   "execution_count": 6,
   "metadata": {},
   "outputs": [
    {
     "name": "stdout",
     "output_type": "stream",
     "text": [
      "package 'survival' successfully unpacked and MD5 sums checked\n",
      "\n",
      "The downloaded binary packages are in\n",
      "\tC:\\Users\\dm_78\\AppData\\Local\\Temp\\Rtmp6bbZNZ\\downloaded_packages\n"
     ]
    }
   ],
   "source": [
    "install.packages('survival')"
   ]
  },
  {
   "cell_type": "code",
   "execution_count": 7,
   "metadata": {},
   "outputs": [],
   "source": [
    "library(survival)\n",
    "data()"
   ]
  },
  {
   "cell_type": "code",
   "execution_count": 8,
   "metadata": {},
   "outputs": [
    {
     "data": {
      "text/html": [
       "<table>\n",
       "<thead><tr><th scope=col>start</th><th scope=col>stop</th><th scope=col>event</th><th scope=col>age</th><th scope=col>year</th><th scope=col>surgery</th><th scope=col>transplant</th><th scope=col>id</th></tr></thead>\n",
       "<tbody>\n",
       "\t<tr><td> 0          </td><td>  50        </td><td>1           </td><td>-17.15537303</td><td>0.1232033   </td><td>0           </td><td>0           </td><td> 1          </td></tr>\n",
       "\t<tr><td> 0          </td><td>   6        </td><td>1           </td><td>  3.83572895</td><td>0.2546201   </td><td>0           </td><td>0           </td><td> 2          </td></tr>\n",
       "\t<tr><td> 0          </td><td>   1        </td><td>0           </td><td>  6.29705681</td><td>0.2655715   </td><td>0           </td><td>0           </td><td> 3          </td></tr>\n",
       "\t<tr><td> 1          </td><td>  16        </td><td>1           </td><td>  6.29705681</td><td>0.2655715   </td><td>0           </td><td>1           </td><td> 3          </td></tr>\n",
       "\t<tr><td> 0          </td><td>  36        </td><td>0           </td><td> -7.73716632</td><td>0.4900753   </td><td>0           </td><td>0           </td><td> 4          </td></tr>\n",
       "\t<tr><td>36          </td><td>  39        </td><td>1           </td><td> -7.73716632</td><td>0.4900753   </td><td>0           </td><td>1           </td><td> 4          </td></tr>\n",
       "\t<tr><td> 0          </td><td>  18        </td><td>1           </td><td>-27.21423682</td><td>0.6078029   </td><td>0           </td><td>0           </td><td> 5          </td></tr>\n",
       "\t<tr><td> 0          </td><td>   3        </td><td>1           </td><td>  6.59548255</td><td>0.7008898   </td><td>0           </td><td>0           </td><td> 6          </td></tr>\n",
       "\t<tr><td> 0          </td><td>  51        </td><td>0           </td><td>  2.86926762</td><td>0.7802875   </td><td>0           </td><td>0           </td><td> 7          </td></tr>\n",
       "\t<tr><td>51          </td><td> 675        </td><td>1           </td><td>  2.86926762</td><td>0.7802875   </td><td>0           </td><td>1           </td><td> 7          </td></tr>\n",
       "\t<tr><td> 0          </td><td>  40        </td><td>1           </td><td> -2.65023956</td><td>0.8350445   </td><td>0           </td><td>0           </td><td> 8          </td></tr>\n",
       "\t<tr><td> 0          </td><td>  85        </td><td>1           </td><td> -0.83778234</td><td>0.8569473   </td><td>0           </td><td>0           </td><td> 9          </td></tr>\n",
       "\t<tr><td> 0          </td><td>  12        </td><td>0           </td><td> -5.49760438</td><td>0.8624230   </td><td>0           </td><td>0           </td><td>10          </td></tr>\n",
       "\t<tr><td>12          </td><td>  58        </td><td>1           </td><td> -5.49760438</td><td>0.8624230   </td><td>0           </td><td>1           </td><td>10          </td></tr>\n",
       "\t<tr><td> 0          </td><td>  26        </td><td>0           </td><td> -0.01916496</td><td>0.8733744   </td><td>0           </td><td>0           </td><td>11          </td></tr>\n",
       "\t<tr><td>26          </td><td> 153        </td><td>1           </td><td> -0.01916496</td><td>0.8733744   </td><td>0           </td><td>1           </td><td>11          </td></tr>\n",
       "\t<tr><td> 0          </td><td>   8        </td><td>1           </td><td>  5.19370294</td><td>0.9637235   </td><td>0           </td><td>0           </td><td>12          </td></tr>\n",
       "\t<tr><td> 0          </td><td>  17        </td><td>0           </td><td>  6.57357974</td><td>0.9691992   </td><td>0           </td><td>0           </td><td>13          </td></tr>\n",
       "\t<tr><td>17          </td><td>  81        </td><td>1           </td><td>  6.57357974</td><td>0.9691992   </td><td>0           </td><td>1           </td><td>13          </td></tr>\n",
       "\t<tr><td> 0          </td><td>  37        </td><td>0           </td><td>  6.01232033</td><td>0.9719370   </td><td>0           </td><td>0           </td><td>14          </td></tr>\n",
       "\t<tr><td>37          </td><td>1387        </td><td>1           </td><td>  6.01232033</td><td>0.9719370   </td><td>0           </td><td>1           </td><td>14          </td></tr>\n",
       "\t<tr><td> 0          </td><td>   1        </td><td>1           </td><td>  5.81519507</td><td>0.9911020   </td><td>1           </td><td>0           </td><td>15          </td></tr>\n",
       "\t<tr><td> 0          </td><td>  28        </td><td>0           </td><td>  1.44832307</td><td>1.0704997   </td><td>0           </td><td>0           </td><td>16          </td></tr>\n",
       "\t<tr><td>28          </td><td> 308        </td><td>1           </td><td>  1.44832307</td><td>1.0704997   </td><td>0           </td><td>1           </td><td>16          </td></tr>\n",
       "\t<tr><td> 0          </td><td>  36        </td><td>1           </td><td>-27.66872005</td><td>1.0759754   </td><td>0           </td><td>0           </td><td>17          </td></tr>\n",
       "\t<tr><td> 0          </td><td>  20        </td><td>0           </td><td>  8.84873374</td><td>1.0869268   </td><td>0           </td><td>0           </td><td>18          </td></tr>\n",
       "\t<tr><td>20          </td><td>  43        </td><td>1           </td><td>  8.84873374</td><td>1.0869268   </td><td>0           </td><td>1           </td><td>18          </td></tr>\n",
       "\t<tr><td> 0          </td><td>  37        </td><td>1           </td><td> 11.12388775</td><td>1.1334702   </td><td>0           </td><td>0           </td><td>19          </td></tr>\n",
       "\t<tr><td> 0          </td><td>  18        </td><td>0           </td><td>  7.27994524</td><td>1.3305955   </td><td>0           </td><td>0           </td><td>20          </td></tr>\n",
       "\t<tr><td>18          </td><td>  28        </td><td>1           </td><td>  7.27994524</td><td>1.3305955   </td><td>0           </td><td>1           </td><td>20          </td></tr>\n",
       "\t<tr><td>...</td><td>...</td><td>...</td><td>...</td><td>...</td><td>...</td><td>...</td><td>...</td></tr>\n",
       "\t<tr><td>  8        </td><td>397        </td><td>0          </td><td>  0.9199179</td><td> 5.41546886</td><td>0          </td><td>1          </td><td> 86        </td></tr>\n",
       "\t<tr><td>  0        </td><td> 60        </td><td>0          </td><td> -1.7467488</td><td> 5.47022587</td><td>0          </td><td>0          </td><td> 87        </td></tr>\n",
       "\t<tr><td> 60        </td><td>110        </td><td>1          </td><td> -1.7467488</td><td> 5.47022587</td><td>0          </td><td>1          </td><td> 87        </td></tr>\n",
       "\t<tr><td>  0        </td><td> 31        </td><td>0          </td><td>  6.3627652</td><td> 5.48939083</td><td>0          </td><td>0          </td><td> 88        </td></tr>\n",
       "\t<tr><td> 31        </td><td>370        </td><td>0          </td><td>  6.3627652</td><td> 5.48939083</td><td>0          </td><td>1          </td><td> 88        </td></tr>\n",
       "\t<tr><td>  0        </td><td>139        </td><td>0          </td><td>  3.0472279</td><td> 5.51129363</td><td>0          </td><td>0          </td><td> 89        </td></tr>\n",
       "\t<tr><td>139        </td><td>207        </td><td>1          </td><td>  3.0472279</td><td> 5.51129363</td><td>0          </td><td>1          </td><td> 89        </td></tr>\n",
       "\t<tr><td>  0        </td><td>160        </td><td>0          </td><td>  4.0328542</td><td> 5.51403149</td><td>1          </td><td>0          </td><td> 90        </td></tr>\n",
       "\t<tr><td>160        </td><td>186        </td><td>1          </td><td>  4.0328542</td><td> 5.51403149</td><td>1          </td><td>1          </td><td> 90        </td></tr>\n",
       "\t<tr><td>  0        </td><td>340        </td><td>1          </td><td> -0.4052019</td><td> 5.53319644</td><td>0          </td><td>0          </td><td> 91        </td></tr>\n",
       "\t<tr><td>  0        </td><td>310        </td><td>0          </td><td> -3.0171116</td><td> 5.57152635</td><td>0          </td><td>0          </td><td> 92        </td></tr>\n",
       "\t<tr><td>310        </td><td>340        </td><td>0          </td><td> -3.0171116</td><td> 5.57152635</td><td>0          </td><td>1          </td><td> 92        </td></tr>\n",
       "\t<tr><td>  0        </td><td> 28        </td><td>0          </td><td> -0.2491444</td><td> 5.77686516</td><td>0          </td><td>0          </td><td> 93        </td></tr>\n",
       "\t<tr><td> 28        </td><td>265        </td><td>0          </td><td> -0.2491444</td><td> 5.77686516</td><td>0          </td><td>1          </td><td> 93        </td></tr>\n",
       "\t<tr><td>  0        </td><td>  4        </td><td>0          </td><td> -4.1587953</td><td> 5.95482546</td><td>1          </td><td>0          </td><td> 94        </td></tr>\n",
       "\t<tr><td>  4        </td><td>165        </td><td>1          </td><td> -4.1587953</td><td> 5.95482546</td><td>1          </td><td>1          </td><td> 94        </td></tr>\n",
       "\t<tr><td>  0        </td><td>  2        </td><td>0          </td><td> -7.7180014</td><td> 5.97672827</td><td>0          </td><td>0          </td><td> 95        </td></tr>\n",
       "\t<tr><td>  2        </td><td> 16        </td><td>1          </td><td> -7.7180014</td><td> 5.97672827</td><td>0          </td><td>1          </td><td> 95        </td></tr>\n",
       "\t<tr><td>  0        </td><td> 13        </td><td>0          </td><td>-21.3497604</td><td> 6.00958248</td><td>0          </td><td>0          </td><td> 96        </td></tr>\n",
       "\t<tr><td> 13        </td><td>180        </td><td>0          </td><td>-21.3497604</td><td> 6.00958248</td><td>0          </td><td>1          </td><td> 96        </td></tr>\n",
       "\t<tr><td>  0        </td><td> 21        </td><td>0          </td><td>-24.3832991</td><td> 6.14373717</td><td>0          </td><td>0          </td><td> 97        </td></tr>\n",
       "\t<tr><td> 21        </td><td>131        </td><td>0          </td><td>-24.3832991</td><td> 6.14373717</td><td>0          </td><td>1          </td><td> 97        </td></tr>\n",
       "\t<tr><td>  0        </td><td> 96        </td><td>0          </td><td>-19.3702943</td><td> 6.20396988</td><td>0          </td><td>0          </td><td> 98        </td></tr>\n",
       "\t<tr><td> 96        </td><td>109        </td><td>0          </td><td>-19.3702943</td><td> 6.20396988</td><td>0          </td><td>1          </td><td> 98        </td></tr>\n",
       "\t<tr><td>  0        </td><td> 21        </td><td>1          </td><td>  1.8343600</td><td> 6.23408624</td><td>0          </td><td>0          </td><td> 99        </td></tr>\n",
       "\t<tr><td>  0        </td><td> 38        </td><td>0          </td><td>-12.9390828</td><td> 6.39561944</td><td>1          </td><td>0          </td><td>100        </td></tr>\n",
       "\t<tr><td> 38        </td><td> 39        </td><td>0          </td><td>-12.9390828</td><td> 6.39561944</td><td>1          </td><td>1          </td><td>100        </td></tr>\n",
       "\t<tr><td>  0        </td><td> 31        </td><td>0          </td><td>  1.5167693</td><td> 6.41752225</td><td>0          </td><td>0          </td><td>101        </td></tr>\n",
       "\t<tr><td>  0        </td><td> 11        </td><td>0          </td><td> -7.6084873</td><td> 6.47227926</td><td>0          </td><td>0          </td><td>102        </td></tr>\n",
       "\t<tr><td>  0        </td><td>  6        </td><td>1          </td><td> -8.6844627</td><td>-0.04928131</td><td>0          </td><td>0          </td><td>103        </td></tr>\n",
       "</tbody>\n",
       "</table>\n"
      ],
      "text/latex": [
       "\\begin{tabular}{r|llllllll}\n",
       " start & stop & event & age & year & surgery & transplant & id\\\\\n",
       "\\hline\n",
       "\t  0           &   50         & 1            & -17.15537303 & 0.1232033    & 0            & 0            &  1          \\\\\n",
       "\t  0           &    6         & 1            &   3.83572895 & 0.2546201    & 0            & 0            &  2          \\\\\n",
       "\t  0           &    1         & 0            &   6.29705681 & 0.2655715    & 0            & 0            &  3          \\\\\n",
       "\t  1           &   16         & 1            &   6.29705681 & 0.2655715    & 0            & 1            &  3          \\\\\n",
       "\t  0           &   36         & 0            &  -7.73716632 & 0.4900753    & 0            & 0            &  4          \\\\\n",
       "\t 36           &   39         & 1            &  -7.73716632 & 0.4900753    & 0            & 1            &  4          \\\\\n",
       "\t  0           &   18         & 1            & -27.21423682 & 0.6078029    & 0            & 0            &  5          \\\\\n",
       "\t  0           &    3         & 1            &   6.59548255 & 0.7008898    & 0            & 0            &  6          \\\\\n",
       "\t  0           &   51         & 0            &   2.86926762 & 0.7802875    & 0            & 0            &  7          \\\\\n",
       "\t 51           &  675         & 1            &   2.86926762 & 0.7802875    & 0            & 1            &  7          \\\\\n",
       "\t  0           &   40         & 1            &  -2.65023956 & 0.8350445    & 0            & 0            &  8          \\\\\n",
       "\t  0           &   85         & 1            &  -0.83778234 & 0.8569473    & 0            & 0            &  9          \\\\\n",
       "\t  0           &   12         & 0            &  -5.49760438 & 0.8624230    & 0            & 0            & 10          \\\\\n",
       "\t 12           &   58         & 1            &  -5.49760438 & 0.8624230    & 0            & 1            & 10          \\\\\n",
       "\t  0           &   26         & 0            &  -0.01916496 & 0.8733744    & 0            & 0            & 11          \\\\\n",
       "\t 26           &  153         & 1            &  -0.01916496 & 0.8733744    & 0            & 1            & 11          \\\\\n",
       "\t  0           &    8         & 1            &   5.19370294 & 0.9637235    & 0            & 0            & 12          \\\\\n",
       "\t  0           &   17         & 0            &   6.57357974 & 0.9691992    & 0            & 0            & 13          \\\\\n",
       "\t 17           &   81         & 1            &   6.57357974 & 0.9691992    & 0            & 1            & 13          \\\\\n",
       "\t  0           &   37         & 0            &   6.01232033 & 0.9719370    & 0            & 0            & 14          \\\\\n",
       "\t 37           & 1387         & 1            &   6.01232033 & 0.9719370    & 0            & 1            & 14          \\\\\n",
       "\t  0           &    1         & 1            &   5.81519507 & 0.9911020    & 1            & 0            & 15          \\\\\n",
       "\t  0           &   28         & 0            &   1.44832307 & 1.0704997    & 0            & 0            & 16          \\\\\n",
       "\t 28           &  308         & 1            &   1.44832307 & 1.0704997    & 0            & 1            & 16          \\\\\n",
       "\t  0           &   36         & 1            & -27.66872005 & 1.0759754    & 0            & 0            & 17          \\\\\n",
       "\t  0           &   20         & 0            &   8.84873374 & 1.0869268    & 0            & 0            & 18          \\\\\n",
       "\t 20           &   43         & 1            &   8.84873374 & 1.0869268    & 0            & 1            & 18          \\\\\n",
       "\t  0           &   37         & 1            &  11.12388775 & 1.1334702    & 0            & 0            & 19          \\\\\n",
       "\t  0           &   18         & 0            &   7.27994524 & 1.3305955    & 0            & 0            & 20          \\\\\n",
       "\t 18           &   28         & 1            &   7.27994524 & 1.3305955    & 0            & 1            & 20          \\\\\n",
       "\t ... & ... & ... & ... & ... & ... & ... & ...\\\\\n",
       "\t   8         & 397         & 0           &   0.9199179 &  5.41546886 & 0           & 1           &  86        \\\\\n",
       "\t   0         &  60         & 0           &  -1.7467488 &  5.47022587 & 0           & 0           &  87        \\\\\n",
       "\t  60         & 110         & 1           &  -1.7467488 &  5.47022587 & 0           & 1           &  87        \\\\\n",
       "\t   0         &  31         & 0           &   6.3627652 &  5.48939083 & 0           & 0           &  88        \\\\\n",
       "\t  31         & 370         & 0           &   6.3627652 &  5.48939083 & 0           & 1           &  88        \\\\\n",
       "\t   0         & 139         & 0           &   3.0472279 &  5.51129363 & 0           & 0           &  89        \\\\\n",
       "\t 139         & 207         & 1           &   3.0472279 &  5.51129363 & 0           & 1           &  89        \\\\\n",
       "\t   0         & 160         & 0           &   4.0328542 &  5.51403149 & 1           & 0           &  90        \\\\\n",
       "\t 160         & 186         & 1           &   4.0328542 &  5.51403149 & 1           & 1           &  90        \\\\\n",
       "\t   0         & 340         & 1           &  -0.4052019 &  5.53319644 & 0           & 0           &  91        \\\\\n",
       "\t   0         & 310         & 0           &  -3.0171116 &  5.57152635 & 0           & 0           &  92        \\\\\n",
       "\t 310         & 340         & 0           &  -3.0171116 &  5.57152635 & 0           & 1           &  92        \\\\\n",
       "\t   0         &  28         & 0           &  -0.2491444 &  5.77686516 & 0           & 0           &  93        \\\\\n",
       "\t  28         & 265         & 0           &  -0.2491444 &  5.77686516 & 0           & 1           &  93        \\\\\n",
       "\t   0         &   4         & 0           &  -4.1587953 &  5.95482546 & 1           & 0           &  94        \\\\\n",
       "\t   4         & 165         & 1           &  -4.1587953 &  5.95482546 & 1           & 1           &  94        \\\\\n",
       "\t   0         &   2         & 0           &  -7.7180014 &  5.97672827 & 0           & 0           &  95        \\\\\n",
       "\t   2         &  16         & 1           &  -7.7180014 &  5.97672827 & 0           & 1           &  95        \\\\\n",
       "\t   0         &  13         & 0           & -21.3497604 &  6.00958248 & 0           & 0           &  96        \\\\\n",
       "\t  13         & 180         & 0           & -21.3497604 &  6.00958248 & 0           & 1           &  96        \\\\\n",
       "\t   0         &  21         & 0           & -24.3832991 &  6.14373717 & 0           & 0           &  97        \\\\\n",
       "\t  21         & 131         & 0           & -24.3832991 &  6.14373717 & 0           & 1           &  97        \\\\\n",
       "\t   0         &  96         & 0           & -19.3702943 &  6.20396988 & 0           & 0           &  98        \\\\\n",
       "\t  96         & 109         & 0           & -19.3702943 &  6.20396988 & 0           & 1           &  98        \\\\\n",
       "\t   0         &  21         & 1           &   1.8343600 &  6.23408624 & 0           & 0           &  99        \\\\\n",
       "\t   0         &  38         & 0           & -12.9390828 &  6.39561944 & 1           & 0           & 100        \\\\\n",
       "\t  38         &  39         & 0           & -12.9390828 &  6.39561944 & 1           & 1           & 100        \\\\\n",
       "\t   0         &  31         & 0           &   1.5167693 &  6.41752225 & 0           & 0           & 101        \\\\\n",
       "\t   0         &  11         & 0           &  -7.6084873 &  6.47227926 & 0           & 0           & 102        \\\\\n",
       "\t   0         &   6         & 1           &  -8.6844627 & -0.04928131 & 0           & 0           & 103        \\\\\n",
       "\\end{tabular}\n"
      ],
      "text/markdown": [
       "\n",
       "| start | stop | event | age | year | surgery | transplant | id |\n",
       "|---|---|---|---|---|---|---|---|\n",
       "|  0           |   50         | 1            | -17.15537303 | 0.1232033    | 0            | 0            |  1           |\n",
       "|  0           |    6         | 1            |   3.83572895 | 0.2546201    | 0            | 0            |  2           |\n",
       "|  0           |    1         | 0            |   6.29705681 | 0.2655715    | 0            | 0            |  3           |\n",
       "|  1           |   16         | 1            |   6.29705681 | 0.2655715    | 0            | 1            |  3           |\n",
       "|  0           |   36         | 0            |  -7.73716632 | 0.4900753    | 0            | 0            |  4           |\n",
       "| 36           |   39         | 1            |  -7.73716632 | 0.4900753    | 0            | 1            |  4           |\n",
       "|  0           |   18         | 1            | -27.21423682 | 0.6078029    | 0            | 0            |  5           |\n",
       "|  0           |    3         | 1            |   6.59548255 | 0.7008898    | 0            | 0            |  6           |\n",
       "|  0           |   51         | 0            |   2.86926762 | 0.7802875    | 0            | 0            |  7           |\n",
       "| 51           |  675         | 1            |   2.86926762 | 0.7802875    | 0            | 1            |  7           |\n",
       "|  0           |   40         | 1            |  -2.65023956 | 0.8350445    | 0            | 0            |  8           |\n",
       "|  0           |   85         | 1            |  -0.83778234 | 0.8569473    | 0            | 0            |  9           |\n",
       "|  0           |   12         | 0            |  -5.49760438 | 0.8624230    | 0            | 0            | 10           |\n",
       "| 12           |   58         | 1            |  -5.49760438 | 0.8624230    | 0            | 1            | 10           |\n",
       "|  0           |   26         | 0            |  -0.01916496 | 0.8733744    | 0            | 0            | 11           |\n",
       "| 26           |  153         | 1            |  -0.01916496 | 0.8733744    | 0            | 1            | 11           |\n",
       "|  0           |    8         | 1            |   5.19370294 | 0.9637235    | 0            | 0            | 12           |\n",
       "|  0           |   17         | 0            |   6.57357974 | 0.9691992    | 0            | 0            | 13           |\n",
       "| 17           |   81         | 1            |   6.57357974 | 0.9691992    | 0            | 1            | 13           |\n",
       "|  0           |   37         | 0            |   6.01232033 | 0.9719370    | 0            | 0            | 14           |\n",
       "| 37           | 1387         | 1            |   6.01232033 | 0.9719370    | 0            | 1            | 14           |\n",
       "|  0           |    1         | 1            |   5.81519507 | 0.9911020    | 1            | 0            | 15           |\n",
       "|  0           |   28         | 0            |   1.44832307 | 1.0704997    | 0            | 0            | 16           |\n",
       "| 28           |  308         | 1            |   1.44832307 | 1.0704997    | 0            | 1            | 16           |\n",
       "|  0           |   36         | 1            | -27.66872005 | 1.0759754    | 0            | 0            | 17           |\n",
       "|  0           |   20         | 0            |   8.84873374 | 1.0869268    | 0            | 0            | 18           |\n",
       "| 20           |   43         | 1            |   8.84873374 | 1.0869268    | 0            | 1            | 18           |\n",
       "|  0           |   37         | 1            |  11.12388775 | 1.1334702    | 0            | 0            | 19           |\n",
       "|  0           |   18         | 0            |   7.27994524 | 1.3305955    | 0            | 0            | 20           |\n",
       "| 18           |   28         | 1            |   7.27994524 | 1.3305955    | 0            | 1            | 20           |\n",
       "| ... | ... | ... | ... | ... | ... | ... | ... |\n",
       "|   8         | 397         | 0           |   0.9199179 |  5.41546886 | 0           | 1           |  86         |\n",
       "|   0         |  60         | 0           |  -1.7467488 |  5.47022587 | 0           | 0           |  87         |\n",
       "|  60         | 110         | 1           |  -1.7467488 |  5.47022587 | 0           | 1           |  87         |\n",
       "|   0         |  31         | 0           |   6.3627652 |  5.48939083 | 0           | 0           |  88         |\n",
       "|  31         | 370         | 0           |   6.3627652 |  5.48939083 | 0           | 1           |  88         |\n",
       "|   0         | 139         | 0           |   3.0472279 |  5.51129363 | 0           | 0           |  89         |\n",
       "| 139         | 207         | 1           |   3.0472279 |  5.51129363 | 0           | 1           |  89         |\n",
       "|   0         | 160         | 0           |   4.0328542 |  5.51403149 | 1           | 0           |  90         |\n",
       "| 160         | 186         | 1           |   4.0328542 |  5.51403149 | 1           | 1           |  90         |\n",
       "|   0         | 340         | 1           |  -0.4052019 |  5.53319644 | 0           | 0           |  91         |\n",
       "|   0         | 310         | 0           |  -3.0171116 |  5.57152635 | 0           | 0           |  92         |\n",
       "| 310         | 340         | 0           |  -3.0171116 |  5.57152635 | 0           | 1           |  92         |\n",
       "|   0         |  28         | 0           |  -0.2491444 |  5.77686516 | 0           | 0           |  93         |\n",
       "|  28         | 265         | 0           |  -0.2491444 |  5.77686516 | 0           | 1           |  93         |\n",
       "|   0         |   4         | 0           |  -4.1587953 |  5.95482546 | 1           | 0           |  94         |\n",
       "|   4         | 165         | 1           |  -4.1587953 |  5.95482546 | 1           | 1           |  94         |\n",
       "|   0         |   2         | 0           |  -7.7180014 |  5.97672827 | 0           | 0           |  95         |\n",
       "|   2         |  16         | 1           |  -7.7180014 |  5.97672827 | 0           | 1           |  95         |\n",
       "|   0         |  13         | 0           | -21.3497604 |  6.00958248 | 0           | 0           |  96         |\n",
       "|  13         | 180         | 0           | -21.3497604 |  6.00958248 | 0           | 1           |  96         |\n",
       "|   0         |  21         | 0           | -24.3832991 |  6.14373717 | 0           | 0           |  97         |\n",
       "|  21         | 131         | 0           | -24.3832991 |  6.14373717 | 0           | 1           |  97         |\n",
       "|   0         |  96         | 0           | -19.3702943 |  6.20396988 | 0           | 0           |  98         |\n",
       "|  96         | 109         | 0           | -19.3702943 |  6.20396988 | 0           | 1           |  98         |\n",
       "|   0         |  21         | 1           |   1.8343600 |  6.23408624 | 0           | 0           |  99         |\n",
       "|   0         |  38         | 0           | -12.9390828 |  6.39561944 | 1           | 0           | 100         |\n",
       "|  38         |  39         | 0           | -12.9390828 |  6.39561944 | 1           | 1           | 100         |\n",
       "|   0         |  31         | 0           |   1.5167693 |  6.41752225 | 0           | 0           | 101         |\n",
       "|   0         |  11         | 0           |  -7.6084873 |  6.47227926 | 0           | 0           | 102         |\n",
       "|   0         |   6         | 1           |  -8.6844627 | -0.04928131 | 0           | 0           | 103         |\n",
       "\n"
      ],
      "text/plain": [
       "    start stop event age          year        surgery transplant id \n",
       "1    0      50 1     -17.15537303 0.1232033   0       0           1 \n",
       "2    0       6 1       3.83572895 0.2546201   0       0           2 \n",
       "3    0       1 0       6.29705681 0.2655715   0       0           3 \n",
       "4    1      16 1       6.29705681 0.2655715   0       1           3 \n",
       "5    0      36 0      -7.73716632 0.4900753   0       0           4 \n",
       "6   36      39 1      -7.73716632 0.4900753   0       1           4 \n",
       "7    0      18 1     -27.21423682 0.6078029   0       0           5 \n",
       "8    0       3 1       6.59548255 0.7008898   0       0           6 \n",
       "9    0      51 0       2.86926762 0.7802875   0       0           7 \n",
       "10  51     675 1       2.86926762 0.7802875   0       1           7 \n",
       "11   0      40 1      -2.65023956 0.8350445   0       0           8 \n",
       "12   0      85 1      -0.83778234 0.8569473   0       0           9 \n",
       "13   0      12 0      -5.49760438 0.8624230   0       0          10 \n",
       "14  12      58 1      -5.49760438 0.8624230   0       1          10 \n",
       "15   0      26 0      -0.01916496 0.8733744   0       0          11 \n",
       "16  26     153 1      -0.01916496 0.8733744   0       1          11 \n",
       "17   0       8 1       5.19370294 0.9637235   0       0          12 \n",
       "18   0      17 0       6.57357974 0.9691992   0       0          13 \n",
       "19  17      81 1       6.57357974 0.9691992   0       1          13 \n",
       "20   0      37 0       6.01232033 0.9719370   0       0          14 \n",
       "21  37    1387 1       6.01232033 0.9719370   0       1          14 \n",
       "22   0       1 1       5.81519507 0.9911020   1       0          15 \n",
       "23   0      28 0       1.44832307 1.0704997   0       0          16 \n",
       "24  28     308 1       1.44832307 1.0704997   0       1          16 \n",
       "25   0      36 1     -27.66872005 1.0759754   0       0          17 \n",
       "26   0      20 0       8.84873374 1.0869268   0       0          18 \n",
       "27  20      43 1       8.84873374 1.0869268   0       1          18 \n",
       "28   0      37 1      11.12388775 1.1334702   0       0          19 \n",
       "29   0      18 0       7.27994524 1.3305955   0       0          20 \n",
       "30  18      28 1       7.27994524 1.3305955   0       1          20 \n",
       "... ...   ...  ...   ...          ...         ...     ...        ...\n",
       "143   8   397  0       0.9199179   5.41546886 0       1           86\n",
       "144   0    60  0      -1.7467488   5.47022587 0       0           87\n",
       "145  60   110  1      -1.7467488   5.47022587 0       1           87\n",
       "146   0    31  0       6.3627652   5.48939083 0       0           88\n",
       "147  31   370  0       6.3627652   5.48939083 0       1           88\n",
       "148   0   139  0       3.0472279   5.51129363 0       0           89\n",
       "149 139   207  1       3.0472279   5.51129363 0       1           89\n",
       "150   0   160  0       4.0328542   5.51403149 1       0           90\n",
       "151 160   186  1       4.0328542   5.51403149 1       1           90\n",
       "152   0   340  1      -0.4052019   5.53319644 0       0           91\n",
       "153   0   310  0      -3.0171116   5.57152635 0       0           92\n",
       "154 310   340  0      -3.0171116   5.57152635 0       1           92\n",
       "155   0    28  0      -0.2491444   5.77686516 0       0           93\n",
       "156  28   265  0      -0.2491444   5.77686516 0       1           93\n",
       "157   0     4  0      -4.1587953   5.95482546 1       0           94\n",
       "158   4   165  1      -4.1587953   5.95482546 1       1           94\n",
       "159   0     2  0      -7.7180014   5.97672827 0       0           95\n",
       "160   2    16  1      -7.7180014   5.97672827 0       1           95\n",
       "161   0    13  0     -21.3497604   6.00958248 0       0           96\n",
       "162  13   180  0     -21.3497604   6.00958248 0       1           96\n",
       "163   0    21  0     -24.3832991   6.14373717 0       0           97\n",
       "164  21   131  0     -24.3832991   6.14373717 0       1           97\n",
       "165   0    96  0     -19.3702943   6.20396988 0       0           98\n",
       "166  96   109  0     -19.3702943   6.20396988 0       1           98\n",
       "167   0    21  1       1.8343600   6.23408624 0       0           99\n",
       "168   0    38  0     -12.9390828   6.39561944 1       0          100\n",
       "169  38    39  0     -12.9390828   6.39561944 1       1          100\n",
       "170   0    31  0       1.5167693   6.41752225 0       0          101\n",
       "171   0    11  0      -7.6084873   6.47227926 0       0          102\n",
       "172   0     6  1      -8.6844627  -0.04928131 0       0          103"
      ]
     },
     "metadata": {},
     "output_type": "display_data"
    }
   ],
   "source": [
    "# Daten zur Stanford Herz-Transplantation \n",
    "heart"
   ]
  },
  {
   "cell_type": "code",
   "execution_count": 9,
   "metadata": {},
   "outputs": [
    {
     "data": {
      "text/html": [
       "<table>\n",
       "<thead><tr><th scope=col>futime</th><th scope=col>fustat</th><th scope=col>age</th><th scope=col>resid.ds</th><th scope=col>rx</th><th scope=col>ecog.ps</th></tr></thead>\n",
       "<tbody>\n",
       "\t<tr><td>  59   </td><td>1      </td><td>72.3315</td><td>2      </td><td>1      </td><td>1      </td></tr>\n",
       "\t<tr><td> 115   </td><td>1      </td><td>74.4932</td><td>2      </td><td>1      </td><td>1      </td></tr>\n",
       "\t<tr><td> 156   </td><td>1      </td><td>66.4658</td><td>2      </td><td>1      </td><td>2      </td></tr>\n",
       "\t<tr><td> 421   </td><td>0      </td><td>53.3644</td><td>2      </td><td>2      </td><td>1      </td></tr>\n",
       "\t<tr><td> 431   </td><td>1      </td><td>50.3397</td><td>2      </td><td>1      </td><td>1      </td></tr>\n",
       "\t<tr><td> 448   </td><td>0      </td><td>56.4301</td><td>1      </td><td>1      </td><td>2      </td></tr>\n",
       "\t<tr><td> 464   </td><td>1      </td><td>56.9370</td><td>2      </td><td>2      </td><td>2      </td></tr>\n",
       "\t<tr><td> 475   </td><td>1      </td><td>59.8548</td><td>2      </td><td>2      </td><td>2      </td></tr>\n",
       "\t<tr><td> 477   </td><td>0      </td><td>64.1753</td><td>2      </td><td>1      </td><td>1      </td></tr>\n",
       "\t<tr><td> 563   </td><td>1      </td><td>55.1781</td><td>1      </td><td>2      </td><td>2      </td></tr>\n",
       "\t<tr><td> 638   </td><td>1      </td><td>56.7562</td><td>1      </td><td>1      </td><td>2      </td></tr>\n",
       "\t<tr><td> 744   </td><td>0      </td><td>50.1096</td><td>1      </td><td>2      </td><td>1      </td></tr>\n",
       "\t<tr><td> 769   </td><td>0      </td><td>59.6301</td><td>2      </td><td>2      </td><td>2      </td></tr>\n",
       "\t<tr><td> 770   </td><td>0      </td><td>57.0521</td><td>2      </td><td>2      </td><td>1      </td></tr>\n",
       "\t<tr><td> 803   </td><td>0      </td><td>39.2712</td><td>1      </td><td>1      </td><td>1      </td></tr>\n",
       "\t<tr><td> 855   </td><td>0      </td><td>43.1233</td><td>1      </td><td>1      </td><td>2      </td></tr>\n",
       "\t<tr><td>1040   </td><td>0      </td><td>38.8932</td><td>2      </td><td>1      </td><td>2      </td></tr>\n",
       "\t<tr><td>1106   </td><td>0      </td><td>44.6000</td><td>1      </td><td>1      </td><td>1      </td></tr>\n",
       "\t<tr><td>1129   </td><td>0      </td><td>53.9068</td><td>1      </td><td>2      </td><td>1      </td></tr>\n",
       "\t<tr><td>1206   </td><td>0      </td><td>44.2055</td><td>2      </td><td>2      </td><td>1      </td></tr>\n",
       "\t<tr><td>1227   </td><td>0      </td><td>59.5890</td><td>1      </td><td>2      </td><td>2      </td></tr>\n",
       "\t<tr><td> 268   </td><td>1      </td><td>74.5041</td><td>2      </td><td>1      </td><td>2      </td></tr>\n",
       "\t<tr><td> 329   </td><td>1      </td><td>43.1370</td><td>2      </td><td>1      </td><td>1      </td></tr>\n",
       "\t<tr><td> 353   </td><td>1      </td><td>63.2192</td><td>1      </td><td>2      </td><td>2      </td></tr>\n",
       "\t<tr><td> 365   </td><td>1      </td><td>64.4247</td><td>2      </td><td>2      </td><td>1      </td></tr>\n",
       "\t<tr><td> 377   </td><td>0      </td><td>58.3096</td><td>1      </td><td>2      </td><td>1      </td></tr>\n",
       "</tbody>\n",
       "</table>\n"
      ],
      "text/latex": [
       "\\begin{tabular}{r|llllll}\n",
       " futime & fustat & age & resid.ds & rx & ecog.ps\\\\\n",
       "\\hline\n",
       "\t   59    & 1       & 72.3315 & 2       & 1       & 1      \\\\\n",
       "\t  115    & 1       & 74.4932 & 2       & 1       & 1      \\\\\n",
       "\t  156    & 1       & 66.4658 & 2       & 1       & 2      \\\\\n",
       "\t  421    & 0       & 53.3644 & 2       & 2       & 1      \\\\\n",
       "\t  431    & 1       & 50.3397 & 2       & 1       & 1      \\\\\n",
       "\t  448    & 0       & 56.4301 & 1       & 1       & 2      \\\\\n",
       "\t  464    & 1       & 56.9370 & 2       & 2       & 2      \\\\\n",
       "\t  475    & 1       & 59.8548 & 2       & 2       & 2      \\\\\n",
       "\t  477    & 0       & 64.1753 & 2       & 1       & 1      \\\\\n",
       "\t  563    & 1       & 55.1781 & 1       & 2       & 2      \\\\\n",
       "\t  638    & 1       & 56.7562 & 1       & 1       & 2      \\\\\n",
       "\t  744    & 0       & 50.1096 & 1       & 2       & 1      \\\\\n",
       "\t  769    & 0       & 59.6301 & 2       & 2       & 2      \\\\\n",
       "\t  770    & 0       & 57.0521 & 2       & 2       & 1      \\\\\n",
       "\t  803    & 0       & 39.2712 & 1       & 1       & 1      \\\\\n",
       "\t  855    & 0       & 43.1233 & 1       & 1       & 2      \\\\\n",
       "\t 1040    & 0       & 38.8932 & 2       & 1       & 2      \\\\\n",
       "\t 1106    & 0       & 44.6000 & 1       & 1       & 1      \\\\\n",
       "\t 1129    & 0       & 53.9068 & 1       & 2       & 1      \\\\\n",
       "\t 1206    & 0       & 44.2055 & 2       & 2       & 1      \\\\\n",
       "\t 1227    & 0       & 59.5890 & 1       & 2       & 2      \\\\\n",
       "\t  268    & 1       & 74.5041 & 2       & 1       & 2      \\\\\n",
       "\t  329    & 1       & 43.1370 & 2       & 1       & 1      \\\\\n",
       "\t  353    & 1       & 63.2192 & 1       & 2       & 2      \\\\\n",
       "\t  365    & 1       & 64.4247 & 2       & 2       & 1      \\\\\n",
       "\t  377    & 0       & 58.3096 & 1       & 2       & 1      \\\\\n",
       "\\end{tabular}\n"
      ],
      "text/markdown": [
       "\n",
       "| futime | fustat | age | resid.ds | rx | ecog.ps |\n",
       "|---|---|---|---|---|---|\n",
       "|   59    | 1       | 72.3315 | 2       | 1       | 1       |\n",
       "|  115    | 1       | 74.4932 | 2       | 1       | 1       |\n",
       "|  156    | 1       | 66.4658 | 2       | 1       | 2       |\n",
       "|  421    | 0       | 53.3644 | 2       | 2       | 1       |\n",
       "|  431    | 1       | 50.3397 | 2       | 1       | 1       |\n",
       "|  448    | 0       | 56.4301 | 1       | 1       | 2       |\n",
       "|  464    | 1       | 56.9370 | 2       | 2       | 2       |\n",
       "|  475    | 1       | 59.8548 | 2       | 2       | 2       |\n",
       "|  477    | 0       | 64.1753 | 2       | 1       | 1       |\n",
       "|  563    | 1       | 55.1781 | 1       | 2       | 2       |\n",
       "|  638    | 1       | 56.7562 | 1       | 1       | 2       |\n",
       "|  744    | 0       | 50.1096 | 1       | 2       | 1       |\n",
       "|  769    | 0       | 59.6301 | 2       | 2       | 2       |\n",
       "|  770    | 0       | 57.0521 | 2       | 2       | 1       |\n",
       "|  803    | 0       | 39.2712 | 1       | 1       | 1       |\n",
       "|  855    | 0       | 43.1233 | 1       | 1       | 2       |\n",
       "| 1040    | 0       | 38.8932 | 2       | 1       | 2       |\n",
       "| 1106    | 0       | 44.6000 | 1       | 1       | 1       |\n",
       "| 1129    | 0       | 53.9068 | 1       | 2       | 1       |\n",
       "| 1206    | 0       | 44.2055 | 2       | 2       | 1       |\n",
       "| 1227    | 0       | 59.5890 | 1       | 2       | 2       |\n",
       "|  268    | 1       | 74.5041 | 2       | 1       | 2       |\n",
       "|  329    | 1       | 43.1370 | 2       | 1       | 1       |\n",
       "|  353    | 1       | 63.2192 | 1       | 2       | 2       |\n",
       "|  365    | 1       | 64.4247 | 2       | 2       | 1       |\n",
       "|  377    | 0       | 58.3096 | 1       | 2       | 1       |\n",
       "\n"
      ],
      "text/plain": [
       "   futime fustat age     resid.ds rx ecog.ps\n",
       "1    59   1      72.3315 2        1  1      \n",
       "2   115   1      74.4932 2        1  1      \n",
       "3   156   1      66.4658 2        1  2      \n",
       "4   421   0      53.3644 2        2  1      \n",
       "5   431   1      50.3397 2        1  1      \n",
       "6   448   0      56.4301 1        1  2      \n",
       "7   464   1      56.9370 2        2  2      \n",
       "8   475   1      59.8548 2        2  2      \n",
       "9   477   0      64.1753 2        1  1      \n",
       "10  563   1      55.1781 1        2  2      \n",
       "11  638   1      56.7562 1        1  2      \n",
       "12  744   0      50.1096 1        2  1      \n",
       "13  769   0      59.6301 2        2  2      \n",
       "14  770   0      57.0521 2        2  1      \n",
       "15  803   0      39.2712 1        1  1      \n",
       "16  855   0      43.1233 1        1  2      \n",
       "17 1040   0      38.8932 2        1  2      \n",
       "18 1106   0      44.6000 1        1  1      \n",
       "19 1129   0      53.9068 1        2  1      \n",
       "20 1206   0      44.2055 2        2  1      \n",
       "21 1227   0      59.5890 1        2  2      \n",
       "22  268   1      74.5041 2        1  2      \n",
       "23  329   1      43.1370 2        1  1      \n",
       "24  353   1      63.2192 1        2  2      \n",
       "25  365   1      64.4247 2        2  1      \n",
       "26  377   0      58.3096 1        2  1      "
      ]
     },
     "metadata": {},
     "output_type": "display_data"
    }
   ],
   "source": [
    "ovarian"
   ]
  },
  {
   "cell_type": "markdown",
   "metadata": {},
   "source": [
    "## Mit Data Frames arbeiten\n",
    "\n",
    "Bestimmt ist euch aufgefallen, dass manche Daten sehr umfangreich sind. Wir können die Funktionen `head()` bzw. `tail()` verwenden, um die ersten bzw. letzten 6 Zeilen anzuzeigen. Schauen wir uns das an:"
   ]
  },
  {
   "cell_type": "code",
   "execution_count": 11,
   "metadata": {},
   "outputs": [
    {
     "data": {
      "text/html": [
       "'data.frame'"
      ],
      "text/latex": [
       "'data.frame'"
      ],
      "text/markdown": [
       "'data.frame'"
      ],
      "text/plain": [
       "[1] \"data.frame\""
      ]
     },
     "metadata": {},
     "output_type": "display_data"
    }
   ],
   "source": [
    "# Kurze Variablenzuweisung, um etwas Tippen zu sparen\n",
    "ht <- heart\n",
    "class(ht)"
   ]
  },
  {
   "cell_type": "code",
   "execution_count": 12,
   "metadata": {},
   "outputs": [
    {
     "data": {
      "text/html": [
       "<table>\n",
       "<thead><tr><th scope=col>start</th><th scope=col>stop</th><th scope=col>event</th><th scope=col>age</th><th scope=col>year</th><th scope=col>surgery</th><th scope=col>transplant</th><th scope=col>id</th></tr></thead>\n",
       "<tbody>\n",
       "\t<tr><td> 0        </td><td>50        </td><td>1         </td><td>-17.155373</td><td>0.1232033 </td><td>0         </td><td>0         </td><td>1         </td></tr>\n",
       "\t<tr><td> 0        </td><td> 6        </td><td>1         </td><td>  3.835729</td><td>0.2546201 </td><td>0         </td><td>0         </td><td>2         </td></tr>\n",
       "\t<tr><td> 0        </td><td> 1        </td><td>0         </td><td>  6.297057</td><td>0.2655715 </td><td>0         </td><td>0         </td><td>3         </td></tr>\n",
       "\t<tr><td> 1        </td><td>16        </td><td>1         </td><td>  6.297057</td><td>0.2655715 </td><td>0         </td><td>1         </td><td>3         </td></tr>\n",
       "\t<tr><td> 0        </td><td>36        </td><td>0         </td><td> -7.737166</td><td>0.4900753 </td><td>0         </td><td>0         </td><td>4         </td></tr>\n",
       "\t<tr><td>36        </td><td>39        </td><td>1         </td><td> -7.737166</td><td>0.4900753 </td><td>0         </td><td>1         </td><td>4         </td></tr>\n",
       "</tbody>\n",
       "</table>\n"
      ],
      "text/latex": [
       "\\begin{tabular}{r|llllllll}\n",
       " start & stop & event & age & year & surgery & transplant & id\\\\\n",
       "\\hline\n",
       "\t  0         & 50         & 1          & -17.155373 & 0.1232033  & 0          & 0          & 1         \\\\\n",
       "\t  0         &  6         & 1          &   3.835729 & 0.2546201  & 0          & 0          & 2         \\\\\n",
       "\t  0         &  1         & 0          &   6.297057 & 0.2655715  & 0          & 0          & 3         \\\\\n",
       "\t  1         & 16         & 1          &   6.297057 & 0.2655715  & 0          & 1          & 3         \\\\\n",
       "\t  0         & 36         & 0          &  -7.737166 & 0.4900753  & 0          & 0          & 4         \\\\\n",
       "\t 36         & 39         & 1          &  -7.737166 & 0.4900753  & 0          & 1          & 4         \\\\\n",
       "\\end{tabular}\n"
      ],
      "text/markdown": [
       "\n",
       "| start | stop | event | age | year | surgery | transplant | id |\n",
       "|---|---|---|---|---|---|---|---|\n",
       "|  0         | 50         | 1          | -17.155373 | 0.1232033  | 0          | 0          | 1          |\n",
       "|  0         |  6         | 1          |   3.835729 | 0.2546201  | 0          | 0          | 2          |\n",
       "|  0         |  1         | 0          |   6.297057 | 0.2655715  | 0          | 0          | 3          |\n",
       "|  1         | 16         | 1          |   6.297057 | 0.2655715  | 0          | 1          | 3          |\n",
       "|  0         | 36         | 0          |  -7.737166 | 0.4900753  | 0          | 0          | 4          |\n",
       "| 36         | 39         | 1          |  -7.737166 | 0.4900753  | 0          | 1          | 4          |\n",
       "\n"
      ],
      "text/plain": [
       "  start stop event age        year      surgery transplant id\n",
       "1  0    50   1     -17.155373 0.1232033 0       0          1 \n",
       "2  0     6   1       3.835729 0.2546201 0       0          2 \n",
       "3  0     1   0       6.297057 0.2655715 0       0          3 \n",
       "4  1    16   1       6.297057 0.2655715 0       1          3 \n",
       "5  0    36   0      -7.737166 0.4900753 0       0          4 \n",
       "6 36    39   1      -7.737166 0.4900753 0       1          4 "
      ]
     },
     "metadata": {},
     "output_type": "display_data"
    }
   ],
   "source": [
    "head(ht)"
   ]
  },
  {
   "cell_type": "code",
   "execution_count": 13,
   "metadata": {},
   "outputs": [
    {
     "data": {
      "text/html": [
       "<table>\n",
       "<thead><tr><th></th><th scope=col>start</th><th scope=col>stop</th><th scope=col>event</th><th scope=col>age</th><th scope=col>year</th><th scope=col>surgery</th><th scope=col>transplant</th><th scope=col>id</th></tr></thead>\n",
       "<tbody>\n",
       "\t<tr><th scope=row>167</th><td> 0         </td><td>21         </td><td>1          </td><td>  1.834360 </td><td> 6.23408624</td><td>0          </td><td>0          </td><td> 99        </td></tr>\n",
       "\t<tr><th scope=row>168</th><td> 0         </td><td>38         </td><td>0          </td><td>-12.939083 </td><td> 6.39561944</td><td>1          </td><td>0          </td><td>100        </td></tr>\n",
       "\t<tr><th scope=row>169</th><td>38         </td><td>39         </td><td>0          </td><td>-12.939083 </td><td> 6.39561944</td><td>1          </td><td>1          </td><td>100        </td></tr>\n",
       "\t<tr><th scope=row>170</th><td> 0         </td><td>31         </td><td>0          </td><td>  1.516769 </td><td> 6.41752225</td><td>0          </td><td>0          </td><td>101        </td></tr>\n",
       "\t<tr><th scope=row>171</th><td> 0         </td><td>11         </td><td>0          </td><td> -7.608487 </td><td> 6.47227926</td><td>0          </td><td>0          </td><td>102        </td></tr>\n",
       "\t<tr><th scope=row>172</th><td> 0         </td><td> 6         </td><td>1          </td><td> -8.684463 </td><td>-0.04928131</td><td>0          </td><td>0          </td><td>103        </td></tr>\n",
       "</tbody>\n",
       "</table>\n"
      ],
      "text/latex": [
       "\\begin{tabular}{r|llllllll}\n",
       "  & start & stop & event & age & year & surgery & transplant & id\\\\\n",
       "\\hline\n",
       "\t167 &  0          & 21          & 1           &   1.834360  &  6.23408624 & 0           & 0           &  99        \\\\\n",
       "\t168 &  0          & 38          & 0           & -12.939083  &  6.39561944 & 1           & 0           & 100        \\\\\n",
       "\t169 & 38          & 39          & 0           & -12.939083  &  6.39561944 & 1           & 1           & 100        \\\\\n",
       "\t170 &  0          & 31          & 0           &   1.516769  &  6.41752225 & 0           & 0           & 101        \\\\\n",
       "\t171 &  0          & 11          & 0           &  -7.608487  &  6.47227926 & 0           & 0           & 102        \\\\\n",
       "\t172 &  0          &  6          & 1           &  -8.684463  & -0.04928131 & 0           & 0           & 103        \\\\\n",
       "\\end{tabular}\n"
      ],
      "text/markdown": [
       "\n",
       "| <!--/--> | start | stop | event | age | year | surgery | transplant | id |\n",
       "|---|---|---|---|---|---|---|---|---|\n",
       "| 167 |  0          | 21          | 1           |   1.834360  |  6.23408624 | 0           | 0           |  99         |\n",
       "| 168 |  0          | 38          | 0           | -12.939083  |  6.39561944 | 1           | 0           | 100         |\n",
       "| 169 | 38          | 39          | 0           | -12.939083  |  6.39561944 | 1           | 1           | 100         |\n",
       "| 170 |  0          | 31          | 0           |   1.516769  |  6.41752225 | 0           | 0           | 101         |\n",
       "| 171 |  0          | 11          | 0           |  -7.608487  |  6.47227926 | 0           | 0           | 102         |\n",
       "| 172 |  0          |  6          | 1           |  -8.684463  | -0.04928131 | 0           | 0           | 103         |\n",
       "\n"
      ],
      "text/plain": [
       "    start stop event age        year        surgery transplant id \n",
       "167  0    21   1       1.834360  6.23408624 0       0           99\n",
       "168  0    38   0     -12.939083  6.39561944 1       0          100\n",
       "169 38    39   0     -12.939083  6.39561944 1       1          100\n",
       "170  0    31   0       1.516769  6.41752225 0       0          101\n",
       "171  0    11   0      -7.608487  6.47227926 0       0          102\n",
       "172  0     6   1      -8.684463 -0.04928131 0       0          103"
      ]
     },
     "metadata": {},
     "output_type": "display_data"
    }
   ],
   "source": [
    "tail(ht)"
   ]
  },
  {
   "cell_type": "markdown",
   "metadata": {},
   "source": [
    "### Data Frames - Informationsübersicht\n",
    "\n",
    "Wir können die `str()` Funktion nutzen, um mehr über die Struktur eines Data Frame zu erhalten. Wir erhalten bspw. Informationen über die Variablennamen und Datentypen, die der Data Frame beinhaltet. Zusätzlich können wir `summary()` nutzen, um eine schnelle statistische Auswertung zu erhalten. Für einen ersten Eindruck ist dies außerordentlich nützlich."
   ]
  },
  {
   "cell_type": "code",
   "execution_count": 14,
   "metadata": {},
   "outputs": [
    {
     "data": {
      "text/plain": [
       "   Population        Income       Illiteracy       Life Exp    \n",
       " Min.   :  365   Min.   :3098   Min.   :0.500   Min.   :67.96  \n",
       " 1st Qu.: 1080   1st Qu.:3993   1st Qu.:0.625   1st Qu.:70.12  \n",
       " Median : 2838   Median :4519   Median :0.950   Median :70.67  \n",
       " Mean   : 4246   Mean   :4436   Mean   :1.170   Mean   :70.88  \n",
       " 3rd Qu.: 4968   3rd Qu.:4814   3rd Qu.:1.575   3rd Qu.:71.89  \n",
       " Max.   :21198   Max.   :6315   Max.   :2.800   Max.   :73.60  \n",
       "     Murder          HS Grad          Frost             Area       \n",
       " Min.   : 1.400   Min.   :37.80   Min.   :  0.00   Min.   :  1049  \n",
       " 1st Qu.: 4.350   1st Qu.:48.05   1st Qu.: 66.25   1st Qu.: 36985  \n",
       " Median : 6.850   Median :53.25   Median :114.50   Median : 54277  \n",
       " Mean   : 7.378   Mean   :53.11   Mean   :104.46   Mean   : 70736  \n",
       " 3rd Qu.:10.675   3rd Qu.:59.15   3rd Qu.:139.75   3rd Qu.: 81163  \n",
       " Max.   :15.100   Max.   :67.30   Max.   :188.00   Max.   :566432  "
      ]
     },
     "metadata": {},
     "output_type": "display_data"
    }
   ],
   "source": [
    "# Statistische Zusammenfassung\n",
    "st <- state.x77\n",
    "summary(st)"
   ]
  },
  {
   "cell_type": "code",
   "execution_count": 19,
   "metadata": {},
   "outputs": [
    {
     "data": {
      "text/plain": [
       "  Sepal.Length    Sepal.Width     Petal.Length    Petal.Width   \n",
       " Min.   :4.300   Min.   :2.000   Min.   :1.000   Min.   :0.100  \n",
       " 1st Qu.:5.100   1st Qu.:2.800   1st Qu.:1.600   1st Qu.:0.300  \n",
       " Median :5.800   Median :3.000   Median :4.350   Median :1.300  \n",
       " Mean   :5.843   Mean   :3.057   Mean   :3.758   Mean   :1.199  \n",
       " 3rd Qu.:6.400   3rd Qu.:3.300   3rd Qu.:5.100   3rd Qu.:1.800  \n",
       " Max.   :7.900   Max.   :4.400   Max.   :6.900   Max.   :2.500  \n",
       "       Species  \n",
       " setosa    :50  \n",
       " versicolor:50  \n",
       " virginica :50  \n",
       "                \n",
       "                \n",
       "                "
      ]
     },
     "metadata": {},
     "output_type": "display_data"
    },
    {
     "data": {
      "text/html": [
       "<table>\n",
       "<thead><tr><th scope=col>Sepal.Length</th><th scope=col>Sepal.Width</th><th scope=col>Petal.Length</th><th scope=col>Petal.Width</th><th scope=col>Species</th></tr></thead>\n",
       "<tbody>\n",
       "\t<tr><td>5.1   </td><td>3.5   </td><td>1.4   </td><td>0.2   </td><td>setosa</td></tr>\n",
       "\t<tr><td>4.9   </td><td>3.0   </td><td>1.4   </td><td>0.2   </td><td>setosa</td></tr>\n",
       "\t<tr><td>4.7   </td><td>3.2   </td><td>1.3   </td><td>0.2   </td><td>setosa</td></tr>\n",
       "\t<tr><td>4.6   </td><td>3.1   </td><td>1.5   </td><td>0.2   </td><td>setosa</td></tr>\n",
       "\t<tr><td>5.0   </td><td>3.6   </td><td>1.4   </td><td>0.2   </td><td>setosa</td></tr>\n",
       "\t<tr><td>5.4   </td><td>3.9   </td><td>1.7   </td><td>0.4   </td><td>setosa</td></tr>\n",
       "</tbody>\n",
       "</table>\n"
      ],
      "text/latex": [
       "\\begin{tabular}{r|lllll}\n",
       " Sepal.Length & Sepal.Width & Petal.Length & Petal.Width & Species\\\\\n",
       "\\hline\n",
       "\t 5.1    & 3.5    & 1.4    & 0.2    & setosa\\\\\n",
       "\t 4.9    & 3.0    & 1.4    & 0.2    & setosa\\\\\n",
       "\t 4.7    & 3.2    & 1.3    & 0.2    & setosa\\\\\n",
       "\t 4.6    & 3.1    & 1.5    & 0.2    & setosa\\\\\n",
       "\t 5.0    & 3.6    & 1.4    & 0.2    & setosa\\\\\n",
       "\t 5.4    & 3.9    & 1.7    & 0.4    & setosa\\\\\n",
       "\\end{tabular}\n"
      ],
      "text/markdown": [
       "\n",
       "| Sepal.Length | Sepal.Width | Petal.Length | Petal.Width | Species |\n",
       "|---|---|---|---|---|\n",
       "| 5.1    | 3.5    | 1.4    | 0.2    | setosa |\n",
       "| 4.9    | 3.0    | 1.4    | 0.2    | setosa |\n",
       "| 4.7    | 3.2    | 1.3    | 0.2    | setosa |\n",
       "| 4.6    | 3.1    | 1.5    | 0.2    | setosa |\n",
       "| 5.0    | 3.6    | 1.4    | 0.2    | setosa |\n",
       "| 5.4    | 3.9    | 1.7    | 0.4    | setosa |\n",
       "\n"
      ],
      "text/plain": [
       "  Sepal.Length Sepal.Width Petal.Length Petal.Width Species\n",
       "1 5.1          3.5         1.4          0.2         setosa \n",
       "2 4.9          3.0         1.4          0.2         setosa \n",
       "3 4.7          3.2         1.3          0.2         setosa \n",
       "4 4.6          3.1         1.5          0.2         setosa \n",
       "5 5.0          3.6         1.4          0.2         setosa \n",
       "6 5.4          3.9         1.7          0.4         setosa "
      ]
     },
     "metadata": {},
     "output_type": "display_data"
    }
   ],
   "source": [
    "summary(iris)\n",
    "head(iris)"
   ]
  },
  {
   "cell_type": "code",
   "execution_count": 20,
   "metadata": {},
   "outputs": [
    {
     "data": {
      "text/plain": [
       "     start             stop            event            age          \n",
       " Min.   :  0.00   Min.   :   1.0   Min.   :0.000   Min.   :-39.2142  \n",
       " 1st Qu.:  0.00   1st Qu.:  17.0   1st Qu.:0.000   1st Qu.: -6.6468  \n",
       " Median :  0.00   Median :  45.5   Median :0.000   Median : -0.1136  \n",
       " Mean   : 15.51   Mean   : 201.3   Mean   :0.436   Mean   : -2.4840  \n",
       " 3rd Qu.: 18.25   3rd Qu.: 181.5   3rd Qu.:1.000   3rd Qu.:  4.0459  \n",
       " Max.   :310.00   Max.   :1800.0   Max.   :1.000   Max.   : 16.4079  \n",
       "      year             surgery       transplant       id        \n",
       " Min.   :-0.04928   Min.   :0.0000   0:103      Min.   :  1.00  \n",
       " 1st Qu.: 1.66051   1st Qu.:0.0000   1: 69      1st Qu.: 28.00  \n",
       " Median : 3.75086   Median :0.0000              Median : 53.50  \n",
       " Mean   : 3.45329   Mean   :0.1686              Mean   : 53.06  \n",
       " 3rd Qu.: 5.03491   3rd Qu.:0.0000              3rd Qu.: 78.25  \n",
       " Max.   : 6.47228   Max.   :1.0000              Max.   :103.00  "
      ]
     },
     "metadata": {},
     "output_type": "display_data"
    }
   ],
   "source": [
    "summary(ht)"
   ]
  },
  {
   "cell_type": "code",
   "execution_count": 21,
   "metadata": {},
   "outputs": [
    {
     "name": "stdout",
     "output_type": "stream",
     "text": [
      " num [1:50, 1:8] 3615 365 2212 2110 21198 ...\n",
      " - attr(*, \"dimnames\")=List of 2\n",
      "  ..$ : chr [1:50] \"Alabama\" \"Alaska\" \"Arizona\" \"Arkansas\" ...\n",
      "  ..$ : chr [1:8] \"Population\" \"Income\" \"Illiteracy\" \"Life Exp\" ...\n"
     ]
    }
   ],
   "source": [
    "# Struktur der Daten\n",
    "str(st)"
   ]
  },
  {
   "cell_type": "code",
   "execution_count": 22,
   "metadata": {},
   "outputs": [
    {
     "name": "stdout",
     "output_type": "stream",
     "text": [
      "'data.frame':\t172 obs. of  8 variables:\n",
      " $ start     : num  0 0 0 1 0 36 0 0 0 51 ...\n",
      " $ stop      : num  50 6 1 16 36 39 18 3 51 675 ...\n",
      " $ event     : num  1 1 0 1 0 1 1 1 0 1 ...\n",
      " $ age       : num  -17.16 3.84 6.3 6.3 -7.74 ...\n",
      " $ year      : num  0.123 0.255 0.266 0.266 0.49 ...\n",
      " $ surgery   : num  0 0 0 0 0 0 0 0 0 0 ...\n",
      " $ transplant: Factor w/ 2 levels \"0\",\"1\": 1 1 1 2 1 2 1 1 1 2 ...\n",
      " $ id        : num  1 2 3 3 4 4 5 6 7 7 ...\n"
     ]
    }
   ],
   "source": [
    "str(ht)"
   ]
  },
  {
   "cell_type": "markdown",
   "metadata": {},
   "source": [
    "# Data Frames erstellen\n",
    "\n",
    "*Hinweis: Teilweise verwenden Leute Dataframe als ein Wort. In R ist es jedoch üblich von zwei Worten \"Data Frame\" zu sprechen. Kein wirklich großer Unterschied, doch kann es sein, dass DataFrame sich auf Python/Pandas bezieht, wenn es jemand dementsprechend schreibt.*\n",
    "\n",
    "Wir können Data Frames erstellen, indem wir die `data.frame()` Funktion verwenden und Vektoren als Argumente übergeben. Diese Vektoren werden dann in Spalten des Data Frame umgewandelt. Hier ist ein Beispiel:"
   ]
  },
  {
   "cell_type": "code",
   "execution_count": 29,
   "metadata": {},
   "outputs": [],
   "source": [
    "# Einige erfunden Wetterdaten\n",
    "tage <- c('Mo','Di','Mi','Do','Fr')\n",
    "temp <- c(22.2,NA,NA,24.3,25)\n",
    "regen <- c(TRUE, TRUE, FALSE, FALSE, TRUE)"
   ]
  },
  {
   "cell_type": "code",
   "execution_count": 30,
   "metadata": {},
   "outputs": [],
   "source": [
    "# Die Vektoren übergeben\n",
    "df <- data.frame(tage,temp,regen)"
   ]
  },
  {
   "cell_type": "code",
   "execution_count": 31,
   "metadata": {},
   "outputs": [
    {
     "data": {
      "text/html": [
       "<ol class=list-inline>\n",
       "\t<li>'Mo'</li>\n",
       "\t<li>'Di'</li>\n",
       "\t<li>'Mi'</li>\n",
       "\t<li>'Do'</li>\n",
       "\t<li>'Fr'</li>\n",
       "</ol>\n"
      ],
      "text/latex": [
       "\\begin{enumerate*}\n",
       "\\item 'Mo'\n",
       "\\item 'Di'\n",
       "\\item 'Mi'\n",
       "\\item 'Do'\n",
       "\\item 'Fr'\n",
       "\\end{enumerate*}\n"
      ],
      "text/markdown": [
       "1. 'Mo'\n",
       "2. 'Di'\n",
       "3. 'Mi'\n",
       "4. 'Do'\n",
       "5. 'Fr'\n",
       "\n",
       "\n"
      ],
      "text/plain": [
       "[1] \"Mo\" \"Di\" \"Mi\" \"Do\" \"Fr\""
      ]
     },
     "metadata": {},
     "output_type": "display_data"
    },
    {
     "data": {
      "text/html": [
       "<ol class=list-inline>\n",
       "\t<li>22.2</li>\n",
       "\t<li>&lt;NA&gt;</li>\n",
       "\t<li>&lt;NA&gt;</li>\n",
       "\t<li>24.3</li>\n",
       "\t<li>25</li>\n",
       "</ol>\n"
      ],
      "text/latex": [
       "\\begin{enumerate*}\n",
       "\\item 22.2\n",
       "\\item <NA>\n",
       "\\item <NA>\n",
       "\\item 24.3\n",
       "\\item 25\n",
       "\\end{enumerate*}\n"
      ],
      "text/markdown": [
       "1. 22.2\n",
       "2. &lt;NA&gt;\n",
       "3. &lt;NA&gt;\n",
       "4. 24.3\n",
       "5. 25\n",
       "\n",
       "\n"
      ],
      "text/plain": [
       "[1] 22.2   NA   NA 24.3 25.0"
      ]
     },
     "metadata": {},
     "output_type": "display_data"
    },
    {
     "data": {
      "text/html": [
       "<ol class=list-inline>\n",
       "\t<li>TRUE</li>\n",
       "\t<li>TRUE</li>\n",
       "\t<li>FALSE</li>\n",
       "\t<li>FALSE</li>\n",
       "\t<li>TRUE</li>\n",
       "</ol>\n"
      ],
      "text/latex": [
       "\\begin{enumerate*}\n",
       "\\item TRUE\n",
       "\\item TRUE\n",
       "\\item FALSE\n",
       "\\item FALSE\n",
       "\\item TRUE\n",
       "\\end{enumerate*}\n"
      ],
      "text/markdown": [
       "1. TRUE\n",
       "2. TRUE\n",
       "3. FALSE\n",
       "4. FALSE\n",
       "5. TRUE\n",
       "\n",
       "\n"
      ],
      "text/plain": [
       "[1]  TRUE  TRUE FALSE FALSE  TRUE"
      ]
     },
     "metadata": {},
     "output_type": "display_data"
    },
    {
     "data": {
      "text/html": [
       "<table>\n",
       "<thead><tr><th scope=col>tage</th><th scope=col>temp</th><th scope=col>regen</th></tr></thead>\n",
       "<tbody>\n",
       "\t<tr><td>Mo   </td><td>22.2 </td><td> TRUE</td></tr>\n",
       "\t<tr><td>Di   </td><td>  NA </td><td> TRUE</td></tr>\n",
       "\t<tr><td>Mi   </td><td>  NA </td><td>FALSE</td></tr>\n",
       "\t<tr><td>Do   </td><td>24.3 </td><td>FALSE</td></tr>\n",
       "\t<tr><td>Fr   </td><td>25.0 </td><td> TRUE</td></tr>\n",
       "</tbody>\n",
       "</table>\n"
      ],
      "text/latex": [
       "\\begin{tabular}{r|lll}\n",
       " tage & temp & regen\\\\\n",
       "\\hline\n",
       "\t Mo    & 22.2  &  TRUE\\\\\n",
       "\t Di    &   NA  &  TRUE\\\\\n",
       "\t Mi    &   NA  & FALSE\\\\\n",
       "\t Do    & 24.3  & FALSE\\\\\n",
       "\t Fr    & 25.0  &  TRUE\\\\\n",
       "\\end{tabular}\n"
      ],
      "text/markdown": [
       "\n",
       "| tage | temp | regen |\n",
       "|---|---|---|\n",
       "| Mo    | 22.2  |  TRUE |\n",
       "| Di    |   NA  |  TRUE |\n",
       "| Mi    |   NA  | FALSE |\n",
       "| Do    | 24.3  | FALSE |\n",
       "| Fr    | 25.0  |  TRUE |\n",
       "\n"
      ],
      "text/plain": [
       "  tage temp regen\n",
       "1 Mo   22.2  TRUE\n",
       "2 Di     NA  TRUE\n",
       "3 Mi     NA FALSE\n",
       "4 Do   24.3 FALSE\n",
       "5 Fr   25.0  TRUE"
      ]
     },
     "metadata": {},
     "output_type": "display_data"
    }
   ],
   "source": [
    "tage\n",
    "temp\n",
    "regen\n",
    "\n",
    "df"
   ]
  },
  {
   "cell_type": "code",
   "execution_count": 32,
   "metadata": {},
   "outputs": [
    {
     "name": "stdout",
     "output_type": "stream",
     "text": [
      "'data.frame':\t5 obs. of  3 variables:\n",
      " $ tage : Factor w/ 5 levels \"Di\",\"Do\",\"Fr\",..: 5 1 4 2 3\n",
      " $ temp : num  22.2 NA NA 24.3 25\n",
      " $ regen: logi  TRUE TRUE FALSE FALSE TRUE\n"
     ]
    }
   ],
   "source": [
    "# Struktur überprüfen\n",
    "str(df)"
   ]
  },
  {
   "cell_type": "code",
   "execution_count": 33,
   "metadata": {},
   "outputs": [
    {
     "data": {
      "text/plain": [
       " tage        temp         regen        \n",
       " Di:1   Min.   :22.20   Mode :logical  \n",
       " Do:1   1st Qu.:23.25   FALSE:2        \n",
       " Fr:1   Median :24.30   TRUE :3        \n",
       " Mi:1   Mean   :23.83                  \n",
       " Mo:1   3rd Qu.:24.65                  \n",
       "        Max.   :25.00                  \n",
       "        NA's   :2                      "
      ]
     },
     "metadata": {},
     "output_type": "display_data"
    }
   ],
   "source": [
    "summary(df)"
   ]
  },
  {
   "cell_type": "markdown",
   "metadata": {},
   "source": [
    "Herzlichen Glückwunsch! Sie sind mit Lektion 18. fertig!"
   ]
  }
 ],
 "metadata": {
  "kernelspec": {
   "display_name": "R",
   "language": "R",
   "name": "ir"
  },
  "language_info": {
   "codemirror_mode": "r",
   "file_extension": ".r",
   "mimetype": "text/x-r-source",
   "name": "R",
   "pygments_lexer": "r",
   "version": "3.6.1"
  }
 },
 "nbformat": 4,
 "nbformat_minor": 1
}
