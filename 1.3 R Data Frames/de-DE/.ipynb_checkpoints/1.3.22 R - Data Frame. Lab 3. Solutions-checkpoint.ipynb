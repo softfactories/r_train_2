{
 "cells": [
  {
   "cell_type": "markdown",
   "metadata": {},
   "source": [
    "# Tag 1. Kapitel 3. Data Frame\n",
    "\n",
    "## Lab3. R Data Frames Übung - Lösung\n",
    "\n",
    "In dieser Übnung überprüfen wir dein Wissen zu den Data Frames! Folge den Anweisungen und löse die Aufgaben."
   ]
  },
  {
   "cell_type": "markdown",
   "metadata": {
    "collapsed": true
   },
   "source": [
    "**Erstelle den folgenden Data Frame durch die Nutzung von Vektoren und der data.frame Funktion:**"
   ]
  },
  {
   "cell_type": "code",
   "execution_count": 2,
   "metadata": {},
   "outputs": [
    {
     "data": {
      "text/html": [
       "<table>\n",
       "<thead><tr><th></th><th scope=col>Alter</th><th scope=col>Gewicht</th><th scope=col>Geschlecht</th></tr></thead>\n",
       "<tbody>\n",
       "\t<tr><th scope=row>Sam</th><td>25</td><td>85</td><td>M </td></tr>\n",
       "\t<tr><th scope=row>Frank</th><td>22</td><td>76</td><td>M </td></tr>\n",
       "\t<tr><th scope=row>Anne</th><td>26</td><td>62</td><td>F </td></tr>\n",
       "</tbody>\n",
       "</table>\n"
      ],
      "text/latex": [
       "\\begin{tabular}{r|lll}\n",
       "  & Alter & Gewicht & Geschlecht\\\\\n",
       "\\hline\n",
       "\tSam & 25 & 85 & M \\\\\n",
       "\tFrank & 22 & 76 & M \\\\\n",
       "\tAnne & 26 & 62 & F \\\\\n",
       "\\end{tabular}\n"
      ],
      "text/markdown": [
       "\n",
       "| <!--/--> | Alter | Gewicht | Geschlecht |\n",
       "|---|---|---|---|\n",
       "| Sam | 25 | 85 | M  |\n",
       "| Frank | 22 | 76 | M  |\n",
       "| Anne | 26 | 62 | F  |\n",
       "\n"
      ],
      "text/plain": [
       "      Alter Gewicht Geschlecht\n",
       "Sam   25    85      M         \n",
       "Frank 22    76      M         \n",
       "Anne  26    62      F         "
      ]
     },
     "metadata": {},
     "output_type": "display_data"
    }
   ],
   "source": [
    "Name <- c(\"Sam\",\"Frank\",\"Anne\")\n",
    "Alter <- c(25,22,26)\n",
    "Gewicht <- c(85,76,62)\n",
    "Geschlecht <- c(\"M\", \"M\", \"F\")\n",
    "df <- data.frame (row.names = Name, Alter, Gewicht, Geschlecht)\n",
    "df"
   ]
  },
  {
   "cell_type": "markdown",
   "metadata": {
    "collapsed": true
   },
   "source": [
    "**Überprüfe ob mtcars ein Data Frame ist, indem du is.data.frame() nutzt**"
   ]
  },
  {
   "cell_type": "code",
   "execution_count": 3,
   "metadata": {},
   "outputs": [
    {
     "data": {
      "text/html": [
       "TRUE"
      ],
      "text/latex": [
       "TRUE"
      ],
      "text/markdown": [
       "TRUE"
      ],
      "text/plain": [
       "[1] TRUE"
      ]
     },
     "metadata": {},
     "output_type": "display_data"
    }
   ],
   "source": [
    "is.data.frame(mtcars)"
   ]
  },
  {
   "cell_type": "markdown",
   "metadata": {},
   "source": [
    "**Verwende as.data.frame(), um eine Matrix in einen Data Frame umzuwandeln: **"
   ]
  },
  {
   "cell_type": "code",
   "execution_count": 4,
   "metadata": {},
   "outputs": [
    {
     "data": {
      "text/html": [
       "<table>\n",
       "<thead><tr><th scope=col>V1</th><th scope=col>V2</th><th scope=col>V3</th><th scope=col>V4</th><th scope=col>V5</th></tr></thead>\n",
       "<tbody>\n",
       "\t<tr><td>1 </td><td> 6</td><td>11</td><td>16</td><td>21</td></tr>\n",
       "\t<tr><td>2 </td><td> 7</td><td>12</td><td>17</td><td>22</td></tr>\n",
       "\t<tr><td>3 </td><td> 8</td><td>13</td><td>18</td><td>23</td></tr>\n",
       "\t<tr><td>4 </td><td> 9</td><td>14</td><td>19</td><td>24</td></tr>\n",
       "\t<tr><td>5 </td><td>10</td><td>15</td><td>20</td><td>25</td></tr>\n",
       "</tbody>\n",
       "</table>\n"
      ],
      "text/latex": [
       "\\begin{tabular}{r|lllll}\n",
       " V1 & V2 & V3 & V4 & V5\\\\\n",
       "\\hline\n",
       "\t 1  &  6 & 11 & 16 & 21\\\\\n",
       "\t 2  &  7 & 12 & 17 & 22\\\\\n",
       "\t 3  &  8 & 13 & 18 & 23\\\\\n",
       "\t 4  &  9 & 14 & 19 & 24\\\\\n",
       "\t 5  & 10 & 15 & 20 & 25\\\\\n",
       "\\end{tabular}\n"
      ],
      "text/markdown": [
       "\n",
       "| V1 | V2 | V3 | V4 | V5 |\n",
       "|---|---|---|---|---|\n",
       "| 1  |  6 | 11 | 16 | 21 |\n",
       "| 2  |  7 | 12 | 17 | 22 |\n",
       "| 3  |  8 | 13 | 18 | 23 |\n",
       "| 4  |  9 | 14 | 19 | 24 |\n",
       "| 5  | 10 | 15 | 20 | 25 |\n",
       "\n"
      ],
      "text/plain": [
       "  V1 V2 V3 V4 V5\n",
       "1 1   6 11 16 21\n",
       "2 2   7 12 17 22\n",
       "3 3   8 13 18 23\n",
       "4 4   9 14 19 24\n",
       "5 5  10 15 20 25"
      ]
     },
     "metadata": {},
     "output_type": "display_data"
    }
   ],
   "source": [
    "mat <- matrix(1:25,nrow = 5)\n",
    "as.data.frame(mat)"
   ]
  },
  {
   "cell_type": "markdown",
   "metadata": {},
   "source": [
    "** Setze eine Variable df gleich dem eingebauten Data Frame mtcars. Für den Rest der Übung werden wir diese Variable verwenden.**"
   ]
  },
  {
   "cell_type": "code",
   "execution_count": 5,
   "metadata": {},
   "outputs": [],
   "source": [
    "df <- mtcars"
   ]
  },
  {
   "cell_type": "markdown",
   "metadata": {},
   "source": [
    "**Zeige die ersten 6 Zeilen von df an**"
   ]
  },
  {
   "cell_type": "code",
   "execution_count": 6,
   "metadata": {},
   "outputs": [
    {
     "data": {
      "text/html": [
       "<table>\n",
       "<thead><tr><th></th><th scope=col>mpg</th><th scope=col>cyl</th><th scope=col>disp</th><th scope=col>hp</th><th scope=col>drat</th><th scope=col>wt</th><th scope=col>qsec</th><th scope=col>vs</th><th scope=col>am</th><th scope=col>gear</th><th scope=col>carb</th></tr></thead>\n",
       "<tbody>\n",
       "\t<tr><th scope=row>Mazda RX4</th><td>21.0 </td><td>6    </td><td>160  </td><td>110  </td><td>3.90 </td><td>2.620</td><td>16.46</td><td>0    </td><td>1    </td><td>4    </td><td>4    </td></tr>\n",
       "\t<tr><th scope=row>Mazda RX4 Wag</th><td>21.0 </td><td>6    </td><td>160  </td><td>110  </td><td>3.90 </td><td>2.875</td><td>17.02</td><td>0    </td><td>1    </td><td>4    </td><td>4    </td></tr>\n",
       "\t<tr><th scope=row>Datsun 710</th><td>22.8 </td><td>4    </td><td>108  </td><td> 93  </td><td>3.85 </td><td>2.320</td><td>18.61</td><td>1    </td><td>1    </td><td>4    </td><td>1    </td></tr>\n",
       "\t<tr><th scope=row>Hornet 4 Drive</th><td>21.4 </td><td>6    </td><td>258  </td><td>110  </td><td>3.08 </td><td>3.215</td><td>19.44</td><td>1    </td><td>0    </td><td>3    </td><td>1    </td></tr>\n",
       "\t<tr><th scope=row>Hornet Sportabout</th><td>18.7 </td><td>8    </td><td>360  </td><td>175  </td><td>3.15 </td><td>3.440</td><td>17.02</td><td>0    </td><td>0    </td><td>3    </td><td>2    </td></tr>\n",
       "\t<tr><th scope=row>Valiant</th><td>18.1 </td><td>6    </td><td>225  </td><td>105  </td><td>2.76 </td><td>3.460</td><td>20.22</td><td>1    </td><td>0    </td><td>3    </td><td>1    </td></tr>\n",
       "</tbody>\n",
       "</table>\n"
      ],
      "text/latex": [
       "\\begin{tabular}{r|lllllllllll}\n",
       "  & mpg & cyl & disp & hp & drat & wt & qsec & vs & am & gear & carb\\\\\n",
       "\\hline\n",
       "\tMazda RX4 & 21.0  & 6     & 160   & 110   & 3.90  & 2.620 & 16.46 & 0     & 1     & 4     & 4    \\\\\n",
       "\tMazda RX4 Wag & 21.0  & 6     & 160   & 110   & 3.90  & 2.875 & 17.02 & 0     & 1     & 4     & 4    \\\\\n",
       "\tDatsun 710 & 22.8  & 4     & 108   &  93   & 3.85  & 2.320 & 18.61 & 1     & 1     & 4     & 1    \\\\\n",
       "\tHornet 4 Drive & 21.4  & 6     & 258   & 110   & 3.08  & 3.215 & 19.44 & 1     & 0     & 3     & 1    \\\\\n",
       "\tHornet Sportabout & 18.7  & 8     & 360   & 175   & 3.15  & 3.440 & 17.02 & 0     & 0     & 3     & 2    \\\\\n",
       "\tValiant & 18.1  & 6     & 225   & 105   & 2.76  & 3.460 & 20.22 & 1     & 0     & 3     & 1    \\\\\n",
       "\\end{tabular}\n"
      ],
      "text/markdown": [
       "\n",
       "| <!--/--> | mpg | cyl | disp | hp | drat | wt | qsec | vs | am | gear | carb |\n",
       "|---|---|---|---|---|---|---|---|---|---|---|---|\n",
       "| Mazda RX4 | 21.0  | 6     | 160   | 110   | 3.90  | 2.620 | 16.46 | 0     | 1     | 4     | 4     |\n",
       "| Mazda RX4 Wag | 21.0  | 6     | 160   | 110   | 3.90  | 2.875 | 17.02 | 0     | 1     | 4     | 4     |\n",
       "| Datsun 710 | 22.8  | 4     | 108   |  93   | 3.85  | 2.320 | 18.61 | 1     | 1     | 4     | 1     |\n",
       "| Hornet 4 Drive | 21.4  | 6     | 258   | 110   | 3.08  | 3.215 | 19.44 | 1     | 0     | 3     | 1     |\n",
       "| Hornet Sportabout | 18.7  | 8     | 360   | 175   | 3.15  | 3.440 | 17.02 | 0     | 0     | 3     | 2     |\n",
       "| Valiant | 18.1  | 6     | 225   | 105   | 2.76  | 3.460 | 20.22 | 1     | 0     | 3     | 1     |\n",
       "\n"
      ],
      "text/plain": [
       "                  mpg  cyl disp hp  drat wt    qsec  vs am gear carb\n",
       "Mazda RX4         21.0 6   160  110 3.90 2.620 16.46 0  1  4    4   \n",
       "Mazda RX4 Wag     21.0 6   160  110 3.90 2.875 17.02 0  1  4    4   \n",
       "Datsun 710        22.8 4   108   93 3.85 2.320 18.61 1  1  4    1   \n",
       "Hornet 4 Drive    21.4 6   258  110 3.08 3.215 19.44 1  0  3    1   \n",
       "Hornet Sportabout 18.7 8   360  175 3.15 3.440 17.02 0  0  3    2   \n",
       "Valiant           18.1 6   225  105 2.76 3.460 20.22 1  0  3    1   "
      ]
     },
     "metadata": {},
     "output_type": "display_data"
    }
   ],
   "source": [
    "head(df)"
   ]
  },
  {
   "cell_type": "markdown",
   "metadata": {},
   "source": [
    "**Was ist der durchschnittliche mpg Wert (Verbrauch) aller Autos?**"
   ]
  },
  {
   "cell_type": "code",
   "execution_count": 7,
   "metadata": {},
   "outputs": [
    {
     "data": {
      "text/html": [
       "20.090625"
      ],
      "text/latex": [
       "20.090625"
      ],
      "text/markdown": [
       "20.090625"
      ],
      "text/plain": [
       "[1] 20.09062"
      ]
     },
     "metadata": {},
     "output_type": "display_data"
    }
   ],
   "source": [
    "mean(mtcars$mpg)"
   ]
  },
  {
   "cell_type": "markdown",
   "metadata": {},
   "source": [
    "**Wähle die Zeilen, in denen die Autos 6 Zylinder (Spalte: cyl) haben**"
   ]
  },
  {
   "cell_type": "code",
   "execution_count": 8,
   "metadata": {},
   "outputs": [
    {
     "data": {
      "text/html": [
       "<table>\n",
       "<thead><tr><th></th><th scope=col>mpg</th><th scope=col>cyl</th><th scope=col>disp</th><th scope=col>hp</th><th scope=col>drat</th><th scope=col>wt</th><th scope=col>qsec</th><th scope=col>vs</th><th scope=col>am</th><th scope=col>gear</th><th scope=col>carb</th></tr></thead>\n",
       "<tbody>\n",
       "\t<tr><th scope=row>Mazda RX4</th><td>21.0 </td><td>6    </td><td>160.0</td><td>110  </td><td>3.90 </td><td>2.620</td><td>16.46</td><td>0    </td><td>1    </td><td>4    </td><td>4    </td></tr>\n",
       "\t<tr><th scope=row>Mazda RX4 Wag</th><td>21.0 </td><td>6    </td><td>160.0</td><td>110  </td><td>3.90 </td><td>2.875</td><td>17.02</td><td>0    </td><td>1    </td><td>4    </td><td>4    </td></tr>\n",
       "\t<tr><th scope=row>Hornet 4 Drive</th><td>21.4 </td><td>6    </td><td>258.0</td><td>110  </td><td>3.08 </td><td>3.215</td><td>19.44</td><td>1    </td><td>0    </td><td>3    </td><td>1    </td></tr>\n",
       "\t<tr><th scope=row>Valiant</th><td>18.1 </td><td>6    </td><td>225.0</td><td>105  </td><td>2.76 </td><td>3.460</td><td>20.22</td><td>1    </td><td>0    </td><td>3    </td><td>1    </td></tr>\n",
       "\t<tr><th scope=row>Merc 280</th><td>19.2 </td><td>6    </td><td>167.6</td><td>123  </td><td>3.92 </td><td>3.440</td><td>18.30</td><td>1    </td><td>0    </td><td>4    </td><td>4    </td></tr>\n",
       "\t<tr><th scope=row>Merc 280C</th><td>17.8 </td><td>6    </td><td>167.6</td><td>123  </td><td>3.92 </td><td>3.440</td><td>18.90</td><td>1    </td><td>0    </td><td>4    </td><td>4    </td></tr>\n",
       "\t<tr><th scope=row>Ferrari Dino</th><td>19.7 </td><td>6    </td><td>145.0</td><td>175  </td><td>3.62 </td><td>2.770</td><td>15.50</td><td>0    </td><td>1    </td><td>5    </td><td>6    </td></tr>\n",
       "</tbody>\n",
       "</table>\n"
      ],
      "text/latex": [
       "\\begin{tabular}{r|lllllllllll}\n",
       "  & mpg & cyl & disp & hp & drat & wt & qsec & vs & am & gear & carb\\\\\n",
       "\\hline\n",
       "\tMazda RX4 & 21.0  & 6     & 160.0 & 110   & 3.90  & 2.620 & 16.46 & 0     & 1     & 4     & 4    \\\\\n",
       "\tMazda RX4 Wag & 21.0  & 6     & 160.0 & 110   & 3.90  & 2.875 & 17.02 & 0     & 1     & 4     & 4    \\\\\n",
       "\tHornet 4 Drive & 21.4  & 6     & 258.0 & 110   & 3.08  & 3.215 & 19.44 & 1     & 0     & 3     & 1    \\\\\n",
       "\tValiant & 18.1  & 6     & 225.0 & 105   & 2.76  & 3.460 & 20.22 & 1     & 0     & 3     & 1    \\\\\n",
       "\tMerc 280 & 19.2  & 6     & 167.6 & 123   & 3.92  & 3.440 & 18.30 & 1     & 0     & 4     & 4    \\\\\n",
       "\tMerc 280C & 17.8  & 6     & 167.6 & 123   & 3.92  & 3.440 & 18.90 & 1     & 0     & 4     & 4    \\\\\n",
       "\tFerrari Dino & 19.7  & 6     & 145.0 & 175   & 3.62  & 2.770 & 15.50 & 0     & 1     & 5     & 6    \\\\\n",
       "\\end{tabular}\n"
      ],
      "text/markdown": [
       "\n",
       "| <!--/--> | mpg | cyl | disp | hp | drat | wt | qsec | vs | am | gear | carb |\n",
       "|---|---|---|---|---|---|---|---|---|---|---|---|\n",
       "| Mazda RX4 | 21.0  | 6     | 160.0 | 110   | 3.90  | 2.620 | 16.46 | 0     | 1     | 4     | 4     |\n",
       "| Mazda RX4 Wag | 21.0  | 6     | 160.0 | 110   | 3.90  | 2.875 | 17.02 | 0     | 1     | 4     | 4     |\n",
       "| Hornet 4 Drive | 21.4  | 6     | 258.0 | 110   | 3.08  | 3.215 | 19.44 | 1     | 0     | 3     | 1     |\n",
       "| Valiant | 18.1  | 6     | 225.0 | 105   | 2.76  | 3.460 | 20.22 | 1     | 0     | 3     | 1     |\n",
       "| Merc 280 | 19.2  | 6     | 167.6 | 123   | 3.92  | 3.440 | 18.30 | 1     | 0     | 4     | 4     |\n",
       "| Merc 280C | 17.8  | 6     | 167.6 | 123   | 3.92  | 3.440 | 18.90 | 1     | 0     | 4     | 4     |\n",
       "| Ferrari Dino | 19.7  | 6     | 145.0 | 175   | 3.62  | 2.770 | 15.50 | 0     | 1     | 5     | 6     |\n",
       "\n"
      ],
      "text/plain": [
       "               mpg  cyl disp  hp  drat wt    qsec  vs am gear carb\n",
       "Mazda RX4      21.0 6   160.0 110 3.90 2.620 16.46 0  1  4    4   \n",
       "Mazda RX4 Wag  21.0 6   160.0 110 3.90 2.875 17.02 0  1  4    4   \n",
       "Hornet 4 Drive 21.4 6   258.0 110 3.08 3.215 19.44 1  0  3    1   \n",
       "Valiant        18.1 6   225.0 105 2.76 3.460 20.22 1  0  3    1   \n",
       "Merc 280       19.2 6   167.6 123 3.92 3.440 18.30 1  0  4    4   \n",
       "Merc 280C      17.8 6   167.6 123 3.92 3.440 18.90 1  0  4    4   \n",
       "Ferrari Dino   19.7 6   145.0 175 3.62 2.770 15.50 0  1  5    6   "
      ]
     },
     "metadata": {},
     "output_type": "display_data"
    }
   ],
   "source": [
    "df[df$cyl==6,]"
   ]
  },
  {
   "cell_type": "markdown",
   "metadata": {},
   "source": [
    "**Wähle die Spalten am, gear, und carb**"
   ]
  },
  {
   "cell_type": "code",
   "execution_count": 9,
   "metadata": {},
   "outputs": [
    {
     "data": {
      "text/html": [
       "<table>\n",
       "<thead><tr><th></th><th scope=col>am</th><th scope=col>gear</th><th scope=col>carb</th></tr></thead>\n",
       "<tbody>\n",
       "\t<tr><th scope=row>Mazda RX4</th><td>1</td><td>4</td><td>4</td></tr>\n",
       "\t<tr><th scope=row>Mazda RX4 Wag</th><td>1</td><td>4</td><td>4</td></tr>\n",
       "\t<tr><th scope=row>Datsun 710</th><td>1</td><td>4</td><td>1</td></tr>\n",
       "\t<tr><th scope=row>Hornet 4 Drive</th><td>0</td><td>3</td><td>1</td></tr>\n",
       "\t<tr><th scope=row>Hornet Sportabout</th><td>0</td><td>3</td><td>2</td></tr>\n",
       "\t<tr><th scope=row>Valiant</th><td>0</td><td>3</td><td>1</td></tr>\n",
       "\t<tr><th scope=row>Duster 360</th><td>0</td><td>3</td><td>4</td></tr>\n",
       "\t<tr><th scope=row>Merc 240D</th><td>0</td><td>4</td><td>2</td></tr>\n",
       "\t<tr><th scope=row>Merc 230</th><td>0</td><td>4</td><td>2</td></tr>\n",
       "\t<tr><th scope=row>Merc 280</th><td>0</td><td>4</td><td>4</td></tr>\n",
       "\t<tr><th scope=row>Merc 280C</th><td>0</td><td>4</td><td>4</td></tr>\n",
       "\t<tr><th scope=row>Merc 450SE</th><td>0</td><td>3</td><td>3</td></tr>\n",
       "\t<tr><th scope=row>Merc 450SL</th><td>0</td><td>3</td><td>3</td></tr>\n",
       "\t<tr><th scope=row>Merc 450SLC</th><td>0</td><td>3</td><td>3</td></tr>\n",
       "\t<tr><th scope=row>Cadillac Fleetwood</th><td>0</td><td>3</td><td>4</td></tr>\n",
       "\t<tr><th scope=row>Lincoln Continental</th><td>0</td><td>3</td><td>4</td></tr>\n",
       "\t<tr><th scope=row>Chrysler Imperial</th><td>0</td><td>3</td><td>4</td></tr>\n",
       "\t<tr><th scope=row>Fiat 128</th><td>1</td><td>4</td><td>1</td></tr>\n",
       "\t<tr><th scope=row>Honda Civic</th><td>1</td><td>4</td><td>2</td></tr>\n",
       "\t<tr><th scope=row>Toyota Corolla</th><td>1</td><td>4</td><td>1</td></tr>\n",
       "\t<tr><th scope=row>Toyota Corona</th><td>0</td><td>3</td><td>1</td></tr>\n",
       "\t<tr><th scope=row>Dodge Challenger</th><td>0</td><td>3</td><td>2</td></tr>\n",
       "\t<tr><th scope=row>AMC Javelin</th><td>0</td><td>3</td><td>2</td></tr>\n",
       "\t<tr><th scope=row>Camaro Z28</th><td>0</td><td>3</td><td>4</td></tr>\n",
       "\t<tr><th scope=row>Pontiac Firebird</th><td>0</td><td>3</td><td>2</td></tr>\n",
       "\t<tr><th scope=row>Fiat X1-9</th><td>1</td><td>4</td><td>1</td></tr>\n",
       "\t<tr><th scope=row>Porsche 914-2</th><td>1</td><td>5</td><td>2</td></tr>\n",
       "\t<tr><th scope=row>Lotus Europa</th><td>1</td><td>5</td><td>2</td></tr>\n",
       "\t<tr><th scope=row>Ford Pantera L</th><td>1</td><td>5</td><td>4</td></tr>\n",
       "\t<tr><th scope=row>Ferrari Dino</th><td>1</td><td>5</td><td>6</td></tr>\n",
       "\t<tr><th scope=row>Maserati Bora</th><td>1</td><td>5</td><td>8</td></tr>\n",
       "\t<tr><th scope=row>Volvo 142E</th><td>1</td><td>4</td><td>2</td></tr>\n",
       "</tbody>\n",
       "</table>\n"
      ],
      "text/latex": [
       "\\begin{tabular}{r|lll}\n",
       "  & am & gear & carb\\\\\n",
       "\\hline\n",
       "\tMazda RX4 & 1 & 4 & 4\\\\\n",
       "\tMazda RX4 Wag & 1 & 4 & 4\\\\\n",
       "\tDatsun 710 & 1 & 4 & 1\\\\\n",
       "\tHornet 4 Drive & 0 & 3 & 1\\\\\n",
       "\tHornet Sportabout & 0 & 3 & 2\\\\\n",
       "\tValiant & 0 & 3 & 1\\\\\n",
       "\tDuster 360 & 0 & 3 & 4\\\\\n",
       "\tMerc 240D & 0 & 4 & 2\\\\\n",
       "\tMerc 230 & 0 & 4 & 2\\\\\n",
       "\tMerc 280 & 0 & 4 & 4\\\\\n",
       "\tMerc 280C & 0 & 4 & 4\\\\\n",
       "\tMerc 450SE & 0 & 3 & 3\\\\\n",
       "\tMerc 450SL & 0 & 3 & 3\\\\\n",
       "\tMerc 450SLC & 0 & 3 & 3\\\\\n",
       "\tCadillac Fleetwood & 0 & 3 & 4\\\\\n",
       "\tLincoln Continental & 0 & 3 & 4\\\\\n",
       "\tChrysler Imperial & 0 & 3 & 4\\\\\n",
       "\tFiat 128 & 1 & 4 & 1\\\\\n",
       "\tHonda Civic & 1 & 4 & 2\\\\\n",
       "\tToyota Corolla & 1 & 4 & 1\\\\\n",
       "\tToyota Corona & 0 & 3 & 1\\\\\n",
       "\tDodge Challenger & 0 & 3 & 2\\\\\n",
       "\tAMC Javelin & 0 & 3 & 2\\\\\n",
       "\tCamaro Z28 & 0 & 3 & 4\\\\\n",
       "\tPontiac Firebird & 0 & 3 & 2\\\\\n",
       "\tFiat X1-9 & 1 & 4 & 1\\\\\n",
       "\tPorsche 914-2 & 1 & 5 & 2\\\\\n",
       "\tLotus Europa & 1 & 5 & 2\\\\\n",
       "\tFord Pantera L & 1 & 5 & 4\\\\\n",
       "\tFerrari Dino & 1 & 5 & 6\\\\\n",
       "\tMaserati Bora & 1 & 5 & 8\\\\\n",
       "\tVolvo 142E & 1 & 4 & 2\\\\\n",
       "\\end{tabular}\n"
      ],
      "text/markdown": [
       "\n",
       "| <!--/--> | am | gear | carb |\n",
       "|---|---|---|---|\n",
       "| Mazda RX4 | 1 | 4 | 4 |\n",
       "| Mazda RX4 Wag | 1 | 4 | 4 |\n",
       "| Datsun 710 | 1 | 4 | 1 |\n",
       "| Hornet 4 Drive | 0 | 3 | 1 |\n",
       "| Hornet Sportabout | 0 | 3 | 2 |\n",
       "| Valiant | 0 | 3 | 1 |\n",
       "| Duster 360 | 0 | 3 | 4 |\n",
       "| Merc 240D | 0 | 4 | 2 |\n",
       "| Merc 230 | 0 | 4 | 2 |\n",
       "| Merc 280 | 0 | 4 | 4 |\n",
       "| Merc 280C | 0 | 4 | 4 |\n",
       "| Merc 450SE | 0 | 3 | 3 |\n",
       "| Merc 450SL | 0 | 3 | 3 |\n",
       "| Merc 450SLC | 0 | 3 | 3 |\n",
       "| Cadillac Fleetwood | 0 | 3 | 4 |\n",
       "| Lincoln Continental | 0 | 3 | 4 |\n",
       "| Chrysler Imperial | 0 | 3 | 4 |\n",
       "| Fiat 128 | 1 | 4 | 1 |\n",
       "| Honda Civic | 1 | 4 | 2 |\n",
       "| Toyota Corolla | 1 | 4 | 1 |\n",
       "| Toyota Corona | 0 | 3 | 1 |\n",
       "| Dodge Challenger | 0 | 3 | 2 |\n",
       "| AMC Javelin | 0 | 3 | 2 |\n",
       "| Camaro Z28 | 0 | 3 | 4 |\n",
       "| Pontiac Firebird | 0 | 3 | 2 |\n",
       "| Fiat X1-9 | 1 | 4 | 1 |\n",
       "| Porsche 914-2 | 1 | 5 | 2 |\n",
       "| Lotus Europa | 1 | 5 | 2 |\n",
       "| Ford Pantera L | 1 | 5 | 4 |\n",
       "| Ferrari Dino | 1 | 5 | 6 |\n",
       "| Maserati Bora | 1 | 5 | 8 |\n",
       "| Volvo 142E | 1 | 4 | 2 |\n",
       "\n"
      ],
      "text/plain": [
       "                    am gear carb\n",
       "Mazda RX4           1  4    4   \n",
       "Mazda RX4 Wag       1  4    4   \n",
       "Datsun 710          1  4    1   \n",
       "Hornet 4 Drive      0  3    1   \n",
       "Hornet Sportabout   0  3    2   \n",
       "Valiant             0  3    1   \n",
       "Duster 360          0  3    4   \n",
       "Merc 240D           0  4    2   \n",
       "Merc 230            0  4    2   \n",
       "Merc 280            0  4    4   \n",
       "Merc 280C           0  4    4   \n",
       "Merc 450SE          0  3    3   \n",
       "Merc 450SL          0  3    3   \n",
       "Merc 450SLC         0  3    3   \n",
       "Cadillac Fleetwood  0  3    4   \n",
       "Lincoln Continental 0  3    4   \n",
       "Chrysler Imperial   0  3    4   \n",
       "Fiat 128            1  4    1   \n",
       "Honda Civic         1  4    2   \n",
       "Toyota Corolla      1  4    1   \n",
       "Toyota Corona       0  3    1   \n",
       "Dodge Challenger    0  3    2   \n",
       "AMC Javelin         0  3    2   \n",
       "Camaro Z28          0  3    4   \n",
       "Pontiac Firebird    0  3    2   \n",
       "Fiat X1-9           1  4    1   \n",
       "Porsche 914-2       1  5    2   \n",
       "Lotus Europa        1  5    2   \n",
       "Ford Pantera L      1  5    4   \n",
       "Ferrari Dino        1  5    6   \n",
       "Maserati Bora       1  5    8   \n",
       "Volvo 142E          1  4    2   "
      ]
     },
     "metadata": {},
     "output_type": "display_data"
    }
   ],
   "source": [
    "df[,c('am','gear','carb')]"
   ]
  },
  {
   "cell_type": "markdown",
   "metadata": {},
   "source": [
    "**Erstelle eine neue Spalte \"performance\", die durch hp/wt berechnet wird**"
   ]
  },
  {
   "cell_type": "code",
   "execution_count": 10,
   "metadata": {},
   "outputs": [],
   "source": [
    "df$performance <- df$hp/df$wt"
   ]
  },
  {
   "cell_type": "code",
   "execution_count": 11,
   "metadata": {},
   "outputs": [
    {
     "data": {
      "text/html": [
       "<table>\n",
       "<thead><tr><th></th><th scope=col>mpg</th><th scope=col>cyl</th><th scope=col>disp</th><th scope=col>hp</th><th scope=col>drat</th><th scope=col>wt</th><th scope=col>qsec</th><th scope=col>vs</th><th scope=col>am</th><th scope=col>gear</th><th scope=col>carb</th><th scope=col>performance</th></tr></thead>\n",
       "<tbody>\n",
       "\t<tr><th scope=row>Mazda RX4</th><td>21.0    </td><td>6       </td><td>160     </td><td>110     </td><td>3.90    </td><td>2.620   </td><td>16.46   </td><td>0       </td><td>1       </td><td>4       </td><td>4       </td><td>41.98473</td></tr>\n",
       "\t<tr><th scope=row>Mazda RX4 Wag</th><td>21.0    </td><td>6       </td><td>160     </td><td>110     </td><td>3.90    </td><td>2.875   </td><td>17.02   </td><td>0       </td><td>1       </td><td>4       </td><td>4       </td><td>38.26087</td></tr>\n",
       "\t<tr><th scope=row>Datsun 710</th><td>22.8    </td><td>4       </td><td>108     </td><td> 93     </td><td>3.85    </td><td>2.320   </td><td>18.61   </td><td>1       </td><td>1       </td><td>4       </td><td>1       </td><td>40.08621</td></tr>\n",
       "\t<tr><th scope=row>Hornet 4 Drive</th><td>21.4    </td><td>6       </td><td>258     </td><td>110     </td><td>3.08    </td><td>3.215   </td><td>19.44   </td><td>1       </td><td>0       </td><td>3       </td><td>1       </td><td>34.21462</td></tr>\n",
       "\t<tr><th scope=row>Hornet Sportabout</th><td>18.7    </td><td>8       </td><td>360     </td><td>175     </td><td>3.15    </td><td>3.440   </td><td>17.02   </td><td>0       </td><td>0       </td><td>3       </td><td>2       </td><td>50.87209</td></tr>\n",
       "\t<tr><th scope=row>Valiant</th><td>18.1    </td><td>6       </td><td>225     </td><td>105     </td><td>2.76    </td><td>3.460   </td><td>20.22   </td><td>1       </td><td>0       </td><td>3       </td><td>1       </td><td>30.34682</td></tr>\n",
       "</tbody>\n",
       "</table>\n"
      ],
      "text/latex": [
       "\\begin{tabular}{r|llllllllllll}\n",
       "  & mpg & cyl & disp & hp & drat & wt & qsec & vs & am & gear & carb & performance\\\\\n",
       "\\hline\n",
       "\tMazda RX4 & 21.0     & 6        & 160      & 110      & 3.90     & 2.620    & 16.46    & 0        & 1        & 4        & 4        & 41.98473\\\\\n",
       "\tMazda RX4 Wag & 21.0     & 6        & 160      & 110      & 3.90     & 2.875    & 17.02    & 0        & 1        & 4        & 4        & 38.26087\\\\\n",
       "\tDatsun 710 & 22.8     & 4        & 108      &  93      & 3.85     & 2.320    & 18.61    & 1        & 1        & 4        & 1        & 40.08621\\\\\n",
       "\tHornet 4 Drive & 21.4     & 6        & 258      & 110      & 3.08     & 3.215    & 19.44    & 1        & 0        & 3        & 1        & 34.21462\\\\\n",
       "\tHornet Sportabout & 18.7     & 8        & 360      & 175      & 3.15     & 3.440    & 17.02    & 0        & 0        & 3        & 2        & 50.87209\\\\\n",
       "\tValiant & 18.1     & 6        & 225      & 105      & 2.76     & 3.460    & 20.22    & 1        & 0        & 3        & 1        & 30.34682\\\\\n",
       "\\end{tabular}\n"
      ],
      "text/markdown": [
       "\n",
       "| <!--/--> | mpg | cyl | disp | hp | drat | wt | qsec | vs | am | gear | carb | performance |\n",
       "|---|---|---|---|---|---|---|---|---|---|---|---|---|\n",
       "| Mazda RX4 | 21.0     | 6        | 160      | 110      | 3.90     | 2.620    | 16.46    | 0        | 1        | 4        | 4        | 41.98473 |\n",
       "| Mazda RX4 Wag | 21.0     | 6        | 160      | 110      | 3.90     | 2.875    | 17.02    | 0        | 1        | 4        | 4        | 38.26087 |\n",
       "| Datsun 710 | 22.8     | 4        | 108      |  93      | 3.85     | 2.320    | 18.61    | 1        | 1        | 4        | 1        | 40.08621 |\n",
       "| Hornet 4 Drive | 21.4     | 6        | 258      | 110      | 3.08     | 3.215    | 19.44    | 1        | 0        | 3        | 1        | 34.21462 |\n",
       "| Hornet Sportabout | 18.7     | 8        | 360      | 175      | 3.15     | 3.440    | 17.02    | 0        | 0        | 3        | 2        | 50.87209 |\n",
       "| Valiant | 18.1     | 6        | 225      | 105      | 2.76     | 3.460    | 20.22    | 1        | 0        | 3        | 1        | 30.34682 |\n",
       "\n"
      ],
      "text/plain": [
       "                  mpg  cyl disp hp  drat wt    qsec  vs am gear carb\n",
       "Mazda RX4         21.0 6   160  110 3.90 2.620 16.46 0  1  4    4   \n",
       "Mazda RX4 Wag     21.0 6   160  110 3.90 2.875 17.02 0  1  4    4   \n",
       "Datsun 710        22.8 4   108   93 3.85 2.320 18.61 1  1  4    1   \n",
       "Hornet 4 Drive    21.4 6   258  110 3.08 3.215 19.44 1  0  3    1   \n",
       "Hornet Sportabout 18.7 8   360  175 3.15 3.440 17.02 0  0  3    2   \n",
       "Valiant           18.1 6   225  105 2.76 3.460 20.22 1  0  3    1   \n",
       "                  performance\n",
       "Mazda RX4         41.98473   \n",
       "Mazda RX4 Wag     38.26087   \n",
       "Datsun 710        40.08621   \n",
       "Hornet 4 Drive    34.21462   \n",
       "Hornet Sportabout 50.87209   \n",
       "Valiant           30.34682   "
      ]
     },
     "metadata": {},
     "output_type": "display_data"
    }
   ],
   "source": [
    "head(df)"
   ]
  },
  {
   "cell_type": "markdown",
   "metadata": {},
   "source": [
    "**Die neue Performance Spalte wird Werte mit mehreren Dezimalstellen beinhalten. Finde heraus, wie du diese mit `round()` auf 2 Nachkommastellen reduzieren kannst**"
   ]
  },
  {
   "cell_type": "code",
   "execution_count": 12,
   "metadata": {},
   "outputs": [],
   "source": [
    "df$performance <- round(df$performance,2)"
   ]
  },
  {
   "cell_type": "code",
   "execution_count": 13,
   "metadata": {},
   "outputs": [
    {
     "data": {
      "text/html": [
       "<table>\n",
       "<thead><tr><th></th><th scope=col>mpg</th><th scope=col>cyl</th><th scope=col>disp</th><th scope=col>hp</th><th scope=col>drat</th><th scope=col>wt</th><th scope=col>qsec</th><th scope=col>vs</th><th scope=col>am</th><th scope=col>gear</th><th scope=col>carb</th><th scope=col>performance</th></tr></thead>\n",
       "<tbody>\n",
       "\t<tr><th scope=row>Mazda RX4</th><td>21.0 </td><td>6    </td><td>160  </td><td>110  </td><td>3.90 </td><td>2.620</td><td>16.46</td><td>0    </td><td>1    </td><td>4    </td><td>4    </td><td>41.98</td></tr>\n",
       "\t<tr><th scope=row>Mazda RX4 Wag</th><td>21.0 </td><td>6    </td><td>160  </td><td>110  </td><td>3.90 </td><td>2.875</td><td>17.02</td><td>0    </td><td>1    </td><td>4    </td><td>4    </td><td>38.26</td></tr>\n",
       "\t<tr><th scope=row>Datsun 710</th><td>22.8 </td><td>4    </td><td>108  </td><td> 93  </td><td>3.85 </td><td>2.320</td><td>18.61</td><td>1    </td><td>1    </td><td>4    </td><td>1    </td><td>40.09</td></tr>\n",
       "\t<tr><th scope=row>Hornet 4 Drive</th><td>21.4 </td><td>6    </td><td>258  </td><td>110  </td><td>3.08 </td><td>3.215</td><td>19.44</td><td>1    </td><td>0    </td><td>3    </td><td>1    </td><td>34.21</td></tr>\n",
       "\t<tr><th scope=row>Hornet Sportabout</th><td>18.7 </td><td>8    </td><td>360  </td><td>175  </td><td>3.15 </td><td>3.440</td><td>17.02</td><td>0    </td><td>0    </td><td>3    </td><td>2    </td><td>50.87</td></tr>\n",
       "\t<tr><th scope=row>Valiant</th><td>18.1 </td><td>6    </td><td>225  </td><td>105  </td><td>2.76 </td><td>3.460</td><td>20.22</td><td>1    </td><td>0    </td><td>3    </td><td>1    </td><td>30.35</td></tr>\n",
       "</tbody>\n",
       "</table>\n"
      ],
      "text/latex": [
       "\\begin{tabular}{r|llllllllllll}\n",
       "  & mpg & cyl & disp & hp & drat & wt & qsec & vs & am & gear & carb & performance\\\\\n",
       "\\hline\n",
       "\tMazda RX4 & 21.0  & 6     & 160   & 110   & 3.90  & 2.620 & 16.46 & 0     & 1     & 4     & 4     & 41.98\\\\\n",
       "\tMazda RX4 Wag & 21.0  & 6     & 160   & 110   & 3.90  & 2.875 & 17.02 & 0     & 1     & 4     & 4     & 38.26\\\\\n",
       "\tDatsun 710 & 22.8  & 4     & 108   &  93   & 3.85  & 2.320 & 18.61 & 1     & 1     & 4     & 1     & 40.09\\\\\n",
       "\tHornet 4 Drive & 21.4  & 6     & 258   & 110   & 3.08  & 3.215 & 19.44 & 1     & 0     & 3     & 1     & 34.21\\\\\n",
       "\tHornet Sportabout & 18.7  & 8     & 360   & 175   & 3.15  & 3.440 & 17.02 & 0     & 0     & 3     & 2     & 50.87\\\\\n",
       "\tValiant & 18.1  & 6     & 225   & 105   & 2.76  & 3.460 & 20.22 & 1     & 0     & 3     & 1     & 30.35\\\\\n",
       "\\end{tabular}\n"
      ],
      "text/markdown": [
       "\n",
       "| <!--/--> | mpg | cyl | disp | hp | drat | wt | qsec | vs | am | gear | carb | performance |\n",
       "|---|---|---|---|---|---|---|---|---|---|---|---|---|\n",
       "| Mazda RX4 | 21.0  | 6     | 160   | 110   | 3.90  | 2.620 | 16.46 | 0     | 1     | 4     | 4     | 41.98 |\n",
       "| Mazda RX4 Wag | 21.0  | 6     | 160   | 110   | 3.90  | 2.875 | 17.02 | 0     | 1     | 4     | 4     | 38.26 |\n",
       "| Datsun 710 | 22.8  | 4     | 108   |  93   | 3.85  | 2.320 | 18.61 | 1     | 1     | 4     | 1     | 40.09 |\n",
       "| Hornet 4 Drive | 21.4  | 6     | 258   | 110   | 3.08  | 3.215 | 19.44 | 1     | 0     | 3     | 1     | 34.21 |\n",
       "| Hornet Sportabout | 18.7  | 8     | 360   | 175   | 3.15  | 3.440 | 17.02 | 0     | 0     | 3     | 2     | 50.87 |\n",
       "| Valiant | 18.1  | 6     | 225   | 105   | 2.76  | 3.460 | 20.22 | 1     | 0     | 3     | 1     | 30.35 |\n",
       "\n"
      ],
      "text/plain": [
       "                  mpg  cyl disp hp  drat wt    qsec  vs am gear carb\n",
       "Mazda RX4         21.0 6   160  110 3.90 2.620 16.46 0  1  4    4   \n",
       "Mazda RX4 Wag     21.0 6   160  110 3.90 2.875 17.02 0  1  4    4   \n",
       "Datsun 710        22.8 4   108   93 3.85 2.320 18.61 1  1  4    1   \n",
       "Hornet 4 Drive    21.4 6   258  110 3.08 3.215 19.44 1  0  3    1   \n",
       "Hornet Sportabout 18.7 8   360  175 3.15 3.440 17.02 0  0  3    2   \n",
       "Valiant           18.1 6   225  105 2.76 3.460 20.22 1  0  3    1   \n",
       "                  performance\n",
       "Mazda RX4         41.98      \n",
       "Mazda RX4 Wag     38.26      \n",
       "Datsun 710        40.09      \n",
       "Hornet 4 Drive    34.21      \n",
       "Hornet Sportabout 50.87      \n",
       "Valiant           30.35      "
      ]
     },
     "metadata": {},
     "output_type": "display_data"
    }
   ],
   "source": [
    "head(df)"
   ]
  },
  {
   "cell_type": "markdown",
   "metadata": {},
   "source": [
    "** Was ist der durchschnittliche mpg Wert für Autos mit mehr als 100 PS (en. hp) und einem wt-Wert über 2.5?**"
   ]
  },
  {
   "cell_type": "code",
   "execution_count": 14,
   "metadata": {},
   "outputs": [
    {
     "data": {
      "text/html": [
       "16.8636363636364"
      ],
      "text/latex": [
       "16.8636363636364"
      ],
      "text/markdown": [
       "16.8636363636364"
      ],
      "text/plain": [
       "[1] 16.86364"
      ]
     },
     "metadata": {},
     "output_type": "display_data"
    }
   ],
   "source": [
    "mean(subset(df,hp>100 & wt > 2.5)$mpg)"
   ]
  },
  {
   "cell_type": "code",
   "execution_count": 15,
   "metadata": {},
   "outputs": [
    {
     "data": {
      "text/html": [
       "16.8636363636364"
      ],
      "text/latex": [
       "16.8636363636364"
      ],
      "text/markdown": [
       "16.8636363636364"
      ],
      "text/plain": [
       "[1] 16.86364"
      ]
     },
     "metadata": {},
     "output_type": "display_data"
    }
   ],
   "source": [
    "# Es gibt viele Wege zum Ziel\n",
    "mean(df[df$hp>100 & df$wt > 2.5,]$mpg)"
   ]
  },
  {
   "cell_type": "markdown",
   "metadata": {},
   "source": [
    "**Wie ist der mpg (Verbrauch) des Hornet Sportabout? **"
   ]
  },
  {
   "cell_type": "code",
   "execution_count": 16,
   "metadata": {},
   "outputs": [
    {
     "data": {
      "text/html": [
       "18.7"
      ],
      "text/latex": [
       "18.7"
      ],
      "text/markdown": [
       "18.7"
      ],
      "text/plain": [
       "[1] 18.7"
      ]
     },
     "metadata": {},
     "output_type": "display_data"
    }
   ],
   "source": [
    "df['Hornet Sportabout',]$mpg"
   ]
  },
  {
   "cell_type": "markdown",
   "metadata": {},
   "source": [
    "### In/aus Zwischenablage (Clipboard) schreiben/lesen\n",
    "\n",
    "TODO-Liste:\n",
    "\n",
    "* Gebe den aktuellen df Data Frame aus\n",
    "* Speichere df Data Frame in der Zwischenablage (Clipboard) ab\n",
    "* In einer leeren Excel-Arbeitsmappe (Sheet) die Daten aus der Zwischenablage holen (Ctrl+V)\n",
    "* Passe einige Werte an und/oder füge neue Datensätze in Excel hinzu \n",
    "* Wähle neuen Datensatz in Excel aus und speichere es in der Zwischenablage (Ctrl+C)\n",
    "* Lese angepasste Daten aus der Zwischenablage in einen neuen Data Frame aus\n",
    "* Gebe neu geladene angepasste Daten aus\n",
    "\n",
    "*Tipp: du kannst Lektion 1.3.20.2 als Referenz benutzen*\n",
    "\n",
    "**Fazit: mit schreiben/lesen in/aus Zwischenablage lässt sich Excel als bequemer Tool mit R-Umgebung kombinieren**"
   ]
  },
  {
   "cell_type": "code",
   "execution_count": 54,
   "metadata": {},
   "outputs": [
    {
     "data": {
      "text/html": [
       "<table>\n",
       "<thead><tr><th></th><th scope=col>mpg</th><th scope=col>cyl</th><th scope=col>disp</th><th scope=col>hp</th><th scope=col>drat</th><th scope=col>wt</th><th scope=col>qsec</th><th scope=col>vs</th><th scope=col>am</th><th scope=col>gear</th><th scope=col>carb</th><th scope=col>performance</th></tr></thead>\n",
       "<tbody>\n",
       "\t<tr><th scope=row>Mazda RX4</th><td>21.0 </td><td>6    </td><td>160  </td><td>110  </td><td>3.90 </td><td>2.620</td><td>16.46</td><td>0    </td><td>1    </td><td>4    </td><td>4    </td><td>41.98</td></tr>\n",
       "\t<tr><th scope=row>Mazda RX4 Wag</th><td>21.0 </td><td>6    </td><td>160  </td><td>110  </td><td>3.90 </td><td>2.875</td><td>17.02</td><td>0    </td><td>1    </td><td>4    </td><td>4    </td><td>38.26</td></tr>\n",
       "\t<tr><th scope=row>Datsun 710</th><td>22.8 </td><td>4    </td><td>108  </td><td> 93  </td><td>3.85 </td><td>2.320</td><td>18.61</td><td>1    </td><td>1    </td><td>4    </td><td>1    </td><td>40.09</td></tr>\n",
       "\t<tr><th scope=row>Hornet 4 Drive</th><td>21.4 </td><td>6    </td><td>258  </td><td>110  </td><td>3.08 </td><td>3.215</td><td>19.44</td><td>1    </td><td>0    </td><td>3    </td><td>1    </td><td>34.21</td></tr>\n",
       "\t<tr><th scope=row>Hornet Sportabout</th><td>18.7 </td><td>8    </td><td>360  </td><td>175  </td><td>3.15 </td><td>3.440</td><td>17.02</td><td>0    </td><td>0    </td><td>3    </td><td>2    </td><td>50.87</td></tr>\n",
       "\t<tr><th scope=row>Valiant</th><td>18.1 </td><td>6    </td><td>225  </td><td>105  </td><td>2.76 </td><td>3.460</td><td>20.22</td><td>1    </td><td>0    </td><td>3    </td><td>1    </td><td>30.35</td></tr>\n",
       "</tbody>\n",
       "</table>\n"
      ],
      "text/latex": [
       "\\begin{tabular}{r|llllllllllll}\n",
       "  & mpg & cyl & disp & hp & drat & wt & qsec & vs & am & gear & carb & performance\\\\\n",
       "\\hline\n",
       "\tMazda RX4 & 21.0  & 6     & 160   & 110   & 3.90  & 2.620 & 16.46 & 0     & 1     & 4     & 4     & 41.98\\\\\n",
       "\tMazda RX4 Wag & 21.0  & 6     & 160   & 110   & 3.90  & 2.875 & 17.02 & 0     & 1     & 4     & 4     & 38.26\\\\\n",
       "\tDatsun 710 & 22.8  & 4     & 108   &  93   & 3.85  & 2.320 & 18.61 & 1     & 1     & 4     & 1     & 40.09\\\\\n",
       "\tHornet 4 Drive & 21.4  & 6     & 258   & 110   & 3.08  & 3.215 & 19.44 & 1     & 0     & 3     & 1     & 34.21\\\\\n",
       "\tHornet Sportabout & 18.7  & 8     & 360   & 175   & 3.15  & 3.440 & 17.02 & 0     & 0     & 3     & 2     & 50.87\\\\\n",
       "\tValiant & 18.1  & 6     & 225   & 105   & 2.76  & 3.460 & 20.22 & 1     & 0     & 3     & 1     & 30.35\\\\\n",
       "\\end{tabular}\n"
      ],
      "text/markdown": [
       "\n",
       "| <!--/--> | mpg | cyl | disp | hp | drat | wt | qsec | vs | am | gear | carb | performance |\n",
       "|---|---|---|---|---|---|---|---|---|---|---|---|---|\n",
       "| Mazda RX4 | 21.0  | 6     | 160   | 110   | 3.90  | 2.620 | 16.46 | 0     | 1     | 4     | 4     | 41.98 |\n",
       "| Mazda RX4 Wag | 21.0  | 6     | 160   | 110   | 3.90  | 2.875 | 17.02 | 0     | 1     | 4     | 4     | 38.26 |\n",
       "| Datsun 710 | 22.8  | 4     | 108   |  93   | 3.85  | 2.320 | 18.61 | 1     | 1     | 4     | 1     | 40.09 |\n",
       "| Hornet 4 Drive | 21.4  | 6     | 258   | 110   | 3.08  | 3.215 | 19.44 | 1     | 0     | 3     | 1     | 34.21 |\n",
       "| Hornet Sportabout | 18.7  | 8     | 360   | 175   | 3.15  | 3.440 | 17.02 | 0     | 0     | 3     | 2     | 50.87 |\n",
       "| Valiant | 18.1  | 6     | 225   | 105   | 2.76  | 3.460 | 20.22 | 1     | 0     | 3     | 1     | 30.35 |\n",
       "\n"
      ],
      "text/plain": [
       "                  mpg  cyl disp hp  drat wt    qsec  vs am gear carb\n",
       "Mazda RX4         21.0 6   160  110 3.90 2.620 16.46 0  1  4    4   \n",
       "Mazda RX4 Wag     21.0 6   160  110 3.90 2.875 17.02 0  1  4    4   \n",
       "Datsun 710        22.8 4   108   93 3.85 2.320 18.61 1  1  4    1   \n",
       "Hornet 4 Drive    21.4 6   258  110 3.08 3.215 19.44 1  0  3    1   \n",
       "Hornet Sportabout 18.7 8   360  175 3.15 3.440 17.02 0  0  3    2   \n",
       "Valiant           18.1 6   225  105 2.76 3.460 20.22 1  0  3    1   \n",
       "                  performance\n",
       "Mazda RX4         41.98      \n",
       "Mazda RX4 Wag     38.26      \n",
       "Datsun 710        40.09      \n",
       "Hornet 4 Drive    34.21      \n",
       "Hornet Sportabout 50.87      \n",
       "Valiant           30.35      "
      ]
     },
     "metadata": {},
     "output_type": "display_data"
    }
   ],
   "source": [
    "# aktueller df Data Frame\n",
    "head(df)"
   ]
  },
  {
   "cell_type": "code",
   "execution_count": 52,
   "metadata": {},
   "outputs": [],
   "source": [
    "# df Data Frame in der Zwischenablage (Clipboard) ab\n",
    "write.table(x=mtcars,file = \"clipboard\",sep = \"\\t\", row.names = FALSE)"
   ]
  },
  {
   "cell_type": "code",
   "execution_count": 55,
   "metadata": {},
   "outputs": [
    {
     "data": {
      "text/html": [
       "<table>\n",
       "<thead><tr><th scope=col>mpg</th><th scope=col>cyl</th><th scope=col>disp</th><th scope=col>hp</th><th scope=col>drat</th><th scope=col>wt</th><th scope=col>qsec</th><th scope=col>vs</th><th scope=col>am</th><th scope=col>gear</th><th scope=col>carb</th></tr></thead>\n",
       "<tbody>\n",
       "\t<tr><td>42.0 </td><td>12   </td><td>160  </td><td>490  </td><td>3.90 </td><td>2.620</td><td>16.46</td><td>0    </td><td>1    </td><td>4    </td><td>4    </td></tr>\n",
       "\t<tr><td>21.0 </td><td> 6   </td><td>160  </td><td>110  </td><td>3.90 </td><td>2.620</td><td>16.46</td><td>0    </td><td>1    </td><td>4    </td><td>4    </td></tr>\n",
       "\t<tr><td>21.0 </td><td> 6   </td><td>160  </td><td>110  </td><td>3.90 </td><td>2.875</td><td>17.02</td><td>0    </td><td>1    </td><td>4    </td><td>4    </td></tr>\n",
       "\t<tr><td>22.8 </td><td> 4   </td><td>108  </td><td> 93  </td><td>3.85 </td><td>2.320</td><td>18.61</td><td>1    </td><td>1    </td><td>4    </td><td>1    </td></tr>\n",
       "\t<tr><td>21.4 </td><td> 6   </td><td>258  </td><td>110  </td><td>3.08 </td><td>3.215</td><td>19.44</td><td>1    </td><td>0    </td><td>3    </td><td>1    </td></tr>\n",
       "\t<tr><td>18.7 </td><td> 8   </td><td>360  </td><td>175  </td><td>3.15 </td><td>3.440</td><td>17.02</td><td>0    </td><td>0    </td><td>3    </td><td>2    </td></tr>\n",
       "</tbody>\n",
       "</table>\n"
      ],
      "text/latex": [
       "\\begin{tabular}{r|lllllllllll}\n",
       " mpg & cyl & disp & hp & drat & wt & qsec & vs & am & gear & carb\\\\\n",
       "\\hline\n",
       "\t 42.0  & 12    & 160   & 490   & 3.90  & 2.620 & 16.46 & 0     & 1     & 4     & 4    \\\\\n",
       "\t 21.0  &  6    & 160   & 110   & 3.90  & 2.620 & 16.46 & 0     & 1     & 4     & 4    \\\\\n",
       "\t 21.0  &  6    & 160   & 110   & 3.90  & 2.875 & 17.02 & 0     & 1     & 4     & 4    \\\\\n",
       "\t 22.8  &  4    & 108   &  93   & 3.85  & 2.320 & 18.61 & 1     & 1     & 4     & 1    \\\\\n",
       "\t 21.4  &  6    & 258   & 110   & 3.08  & 3.215 & 19.44 & 1     & 0     & 3     & 1    \\\\\n",
       "\t 18.7  &  8    & 360   & 175   & 3.15  & 3.440 & 17.02 & 0     & 0     & 3     & 2    \\\\\n",
       "\\end{tabular}\n"
      ],
      "text/markdown": [
       "\n",
       "| mpg | cyl | disp | hp | drat | wt | qsec | vs | am | gear | carb |\n",
       "|---|---|---|---|---|---|---|---|---|---|---|\n",
       "| 42.0  | 12    | 160   | 490   | 3.90  | 2.620 | 16.46 | 0     | 1     | 4     | 4     |\n",
       "| 21.0  |  6    | 160   | 110   | 3.90  | 2.620 | 16.46 | 0     | 1     | 4     | 4     |\n",
       "| 21.0  |  6    | 160   | 110   | 3.90  | 2.875 | 17.02 | 0     | 1     | 4     | 4     |\n",
       "| 22.8  |  4    | 108   |  93   | 3.85  | 2.320 | 18.61 | 1     | 1     | 4     | 1     |\n",
       "| 21.4  |  6    | 258   | 110   | 3.08  | 3.215 | 19.44 | 1     | 0     | 3     | 1     |\n",
       "| 18.7  |  8    | 360   | 175   | 3.15  | 3.440 | 17.02 | 0     | 0     | 3     | 2     |\n",
       "\n"
      ],
      "text/plain": [
       "  mpg  cyl disp hp  drat wt    qsec  vs am gear carb\n",
       "1 42.0 12  160  490 3.90 2.620 16.46 0  1  4    4   \n",
       "2 21.0  6  160  110 3.90 2.620 16.46 0  1  4    4   \n",
       "3 21.0  6  160  110 3.90 2.875 17.02 0  1  4    4   \n",
       "4 22.8  4  108   93 3.85 2.320 18.61 1  1  4    1   \n",
       "5 21.4  6  258  110 3.08 3.215 19.44 1  0  3    1   \n",
       "6 18.7  8  360  175 3.15 3.440 17.02 0  0  3    2   "
      ]
     },
     "metadata": {},
     "output_type": "display_data"
    }
   ],
   "source": [
    "# Daten aus der Zwischenablage (Clipboard) lesen\n",
    "df2 <- read.table(file=\"clipboard\",sep=\"\\t\", header=TRUE) # Tabulator (\\t) als Trenner nutzen\n",
    "# geladen Daten ausgeben\n",
    "head(df2)"
   ]
  },
  {
   "cell_type": "markdown",
   "metadata": {},
   "source": [
    "## In/aus CSV-Datei schreiben/lesen\n",
    "\n",
    "TODO-Liste:\n",
    "\n",
    "* Speichere df Data Frame in einer CSV-Datei ab\n",
    "* Lese gespeicherte CSV-Datei in einen neuen Data Frame zurück und gebe die erste geladene Datensätze aus"
   ]
  },
  {
   "cell_type": "code",
   "execution_count": 56,
   "metadata": {},
   "outputs": [],
   "source": [
    "# Ausgabe zu CSV-Datei\n",
    "write.csv(df, file='demo.csv', row.names = TRUE) "
   ]
  },
  {
   "cell_type": "code",
   "execution_count": 57,
   "metadata": {},
   "outputs": [
    {
     "data": {
      "text/html": [
       "<table>\n",
       "<thead><tr><th scope=col>X</th><th scope=col>mpg</th><th scope=col>cyl</th><th scope=col>disp</th><th scope=col>hp</th><th scope=col>drat</th><th scope=col>wt</th><th scope=col>qsec</th><th scope=col>vs</th><th scope=col>am</th><th scope=col>gear</th><th scope=col>carb</th><th scope=col>performance</th></tr></thead>\n",
       "<tbody>\n",
       "\t<tr><td>Mazda RX4        </td><td>21.0             </td><td>6                </td><td>160              </td><td>110              </td><td>3.90             </td><td>2.620            </td><td>16.46            </td><td>0                </td><td>1                </td><td>4                </td><td>4                </td><td>41.98            </td></tr>\n",
       "\t<tr><td>Mazda RX4 Wag    </td><td>21.0             </td><td>6                </td><td>160              </td><td>110              </td><td>3.90             </td><td>2.875            </td><td>17.02            </td><td>0                </td><td>1                </td><td>4                </td><td>4                </td><td>38.26            </td></tr>\n",
       "\t<tr><td>Datsun 710       </td><td>22.8             </td><td>4                </td><td>108              </td><td> 93              </td><td>3.85             </td><td>2.320            </td><td>18.61            </td><td>1                </td><td>1                </td><td>4                </td><td>1                </td><td>40.09            </td></tr>\n",
       "\t<tr><td>Hornet 4 Drive   </td><td>21.4             </td><td>6                </td><td>258              </td><td>110              </td><td>3.08             </td><td>3.215            </td><td>19.44            </td><td>1                </td><td>0                </td><td>3                </td><td>1                </td><td>34.21            </td></tr>\n",
       "\t<tr><td>Hornet Sportabout</td><td>18.7             </td><td>8                </td><td>360              </td><td>175              </td><td>3.15             </td><td>3.440            </td><td>17.02            </td><td>0                </td><td>0                </td><td>3                </td><td>2                </td><td>50.87            </td></tr>\n",
       "\t<tr><td>Valiant          </td><td>18.1             </td><td>6                </td><td>225              </td><td>105              </td><td>2.76             </td><td>3.460            </td><td>20.22            </td><td>1                </td><td>0                </td><td>3                </td><td>1                </td><td>30.35            </td></tr>\n",
       "</tbody>\n",
       "</table>\n"
      ],
      "text/latex": [
       "\\begin{tabular}{r|lllllllllllll}\n",
       " X & mpg & cyl & disp & hp & drat & wt & qsec & vs & am & gear & carb & performance\\\\\n",
       "\\hline\n",
       "\t Mazda RX4         & 21.0              & 6                 & 160               & 110               & 3.90              & 2.620             & 16.46             & 0                 & 1                 & 4                 & 4                 & 41.98            \\\\\n",
       "\t Mazda RX4 Wag     & 21.0              & 6                 & 160               & 110               & 3.90              & 2.875             & 17.02             & 0                 & 1                 & 4                 & 4                 & 38.26            \\\\\n",
       "\t Datsun 710        & 22.8              & 4                 & 108               &  93               & 3.85              & 2.320             & 18.61             & 1                 & 1                 & 4                 & 1                 & 40.09            \\\\\n",
       "\t Hornet 4 Drive    & 21.4              & 6                 & 258               & 110               & 3.08              & 3.215             & 19.44             & 1                 & 0                 & 3                 & 1                 & 34.21            \\\\\n",
       "\t Hornet Sportabout & 18.7              & 8                 & 360               & 175               & 3.15              & 3.440             & 17.02             & 0                 & 0                 & 3                 & 2                 & 50.87            \\\\\n",
       "\t Valiant           & 18.1              & 6                 & 225               & 105               & 2.76              & 3.460             & 20.22             & 1                 & 0                 & 3                 & 1                 & 30.35            \\\\\n",
       "\\end{tabular}\n"
      ],
      "text/markdown": [
       "\n",
       "| X | mpg | cyl | disp | hp | drat | wt | qsec | vs | am | gear | carb | performance |\n",
       "|---|---|---|---|---|---|---|---|---|---|---|---|---|\n",
       "| Mazda RX4         | 21.0              | 6                 | 160               | 110               | 3.90              | 2.620             | 16.46             | 0                 | 1                 | 4                 | 4                 | 41.98             |\n",
       "| Mazda RX4 Wag     | 21.0              | 6                 | 160               | 110               | 3.90              | 2.875             | 17.02             | 0                 | 1                 | 4                 | 4                 | 38.26             |\n",
       "| Datsun 710        | 22.8              | 4                 | 108               |  93               | 3.85              | 2.320             | 18.61             | 1                 | 1                 | 4                 | 1                 | 40.09             |\n",
       "| Hornet 4 Drive    | 21.4              | 6                 | 258               | 110               | 3.08              | 3.215             | 19.44             | 1                 | 0                 | 3                 | 1                 | 34.21             |\n",
       "| Hornet Sportabout | 18.7              | 8                 | 360               | 175               | 3.15              | 3.440             | 17.02             | 0                 | 0                 | 3                 | 2                 | 50.87             |\n",
       "| Valiant           | 18.1              | 6                 | 225               | 105               | 2.76              | 3.460             | 20.22             | 1                 | 0                 | 3                 | 1                 | 30.35             |\n",
       "\n"
      ],
      "text/plain": [
       "  X                 mpg  cyl disp hp  drat wt    qsec  vs am gear carb\n",
       "1 Mazda RX4         21.0 6   160  110 3.90 2.620 16.46 0  1  4    4   \n",
       "2 Mazda RX4 Wag     21.0 6   160  110 3.90 2.875 17.02 0  1  4    4   \n",
       "3 Datsun 710        22.8 4   108   93 3.85 2.320 18.61 1  1  4    1   \n",
       "4 Hornet 4 Drive    21.4 6   258  110 3.08 3.215 19.44 1  0  3    1   \n",
       "5 Hornet Sportabout 18.7 8   360  175 3.15 3.440 17.02 0  0  3    2   \n",
       "6 Valiant           18.1 6   225  105 2.76 3.460 20.22 1  0  3    1   \n",
       "  performance\n",
       "1 41.98      \n",
       "2 38.26      \n",
       "3 40.09      \n",
       "4 34.21      \n",
       "5 50.87      \n",
       "6 30.35      "
      ]
     },
     "metadata": {},
     "output_type": "display_data"
    }
   ],
   "source": [
    "# Aus \"frischgechriebener\" CSV-Datei lesen und Daten anzeigen\n",
    "rd <- read.csv('demo.csv')\n",
    "head(rd)"
   ]
  },
  {
   "cell_type": "markdown",
   "metadata": {},
   "source": [
    "## In/aus Excel-Datei schreiben/lesen\n",
    "\n",
    "TODO-Liste:\n",
    "\n",
    "* Lade ggf. Excel-Paket und Bibliothek (library) \n",
    "* Speichere df Data Frame in einer Excel-Datei ab\n",
    "* Lese gespeicherte Excel-Datei in einen neuen Data Frame zurück und gebe die erste geladene Datensätze aus"
   ]
  },
  {
   "cell_type": "code",
   "execution_count": 63,
   "metadata": {},
   "outputs": [],
   "source": [
    "# Ggf. Excel Schreiben-Pakete laden (wenn nichts bereits passiert)\n",
    "install.packages(\"xlsx\")\n",
    "library(xlsx)"
   ]
  },
  {
   "cell_type": "code",
   "execution_count": 60,
   "metadata": {},
   "outputs": [],
   "source": [
    "write.xlsx(df, 'demo_lab.xlsx', sheetName = 'data', col.names = TRUE, row.names = FALSE, append = FALSE)"
   ]
  },
  {
   "cell_type": "code",
   "execution_count": 64,
   "metadata": {},
   "outputs": [],
   "source": [
    "# Ggf. Excel Lese-Pakete laden (wenn nichts bereits passiert)\n",
    "install.packages(\"readxl\")\n",
    "library(readxl)"
   ]
  },
  {
   "cell_type": "code",
   "execution_count": 62,
   "metadata": {},
   "outputs": [
    {
     "data": {
      "text/html": [
       "<table>\n",
       "<thead><tr><th scope=col>mpg</th><th scope=col>cyl</th><th scope=col>disp</th><th scope=col>hp</th><th scope=col>drat</th><th scope=col>wt</th><th scope=col>qsec</th><th scope=col>vs</th><th scope=col>am</th><th scope=col>gear</th><th scope=col>carb</th><th scope=col>performance</th></tr></thead>\n",
       "<tbody>\n",
       "\t<tr><td>21.0 </td><td>6    </td><td>160  </td><td>110  </td><td>3.90 </td><td>2.620</td><td>16.46</td><td>0    </td><td>1    </td><td>4    </td><td>4    </td><td>41.98</td></tr>\n",
       "\t<tr><td>21.0 </td><td>6    </td><td>160  </td><td>110  </td><td>3.90 </td><td>2.875</td><td>17.02</td><td>0    </td><td>1    </td><td>4    </td><td>4    </td><td>38.26</td></tr>\n",
       "\t<tr><td>22.8 </td><td>4    </td><td>108  </td><td> 93  </td><td>3.85 </td><td>2.320</td><td>18.61</td><td>1    </td><td>1    </td><td>4    </td><td>1    </td><td>40.09</td></tr>\n",
       "\t<tr><td>21.4 </td><td>6    </td><td>258  </td><td>110  </td><td>3.08 </td><td>3.215</td><td>19.44</td><td>1    </td><td>0    </td><td>3    </td><td>1    </td><td>34.21</td></tr>\n",
       "\t<tr><td>18.7 </td><td>8    </td><td>360  </td><td>175  </td><td>3.15 </td><td>3.440</td><td>17.02</td><td>0    </td><td>0    </td><td>3    </td><td>2    </td><td>50.87</td></tr>\n",
       "\t<tr><td>18.1 </td><td>6    </td><td>225  </td><td>105  </td><td>2.76 </td><td>3.460</td><td>20.22</td><td>1    </td><td>0    </td><td>3    </td><td>1    </td><td>30.35</td></tr>\n",
       "</tbody>\n",
       "</table>\n"
      ],
      "text/latex": [
       "\\begin{tabular}{r|llllllllllll}\n",
       " mpg & cyl & disp & hp & drat & wt & qsec & vs & am & gear & carb & performance\\\\\n",
       "\\hline\n",
       "\t 21.0  & 6     & 160   & 110   & 3.90  & 2.620 & 16.46 & 0     & 1     & 4     & 4     & 41.98\\\\\n",
       "\t 21.0  & 6     & 160   & 110   & 3.90  & 2.875 & 17.02 & 0     & 1     & 4     & 4     & 38.26\\\\\n",
       "\t 22.8  & 4     & 108   &  93   & 3.85  & 2.320 & 18.61 & 1     & 1     & 4     & 1     & 40.09\\\\\n",
       "\t 21.4  & 6     & 258   & 110   & 3.08  & 3.215 & 19.44 & 1     & 0     & 3     & 1     & 34.21\\\\\n",
       "\t 18.7  & 8     & 360   & 175   & 3.15  & 3.440 & 17.02 & 0     & 0     & 3     & 2     & 50.87\\\\\n",
       "\t 18.1  & 6     & 225   & 105   & 2.76  & 3.460 & 20.22 & 1     & 0     & 3     & 1     & 30.35\\\\\n",
       "\\end{tabular}\n"
      ],
      "text/markdown": [
       "\n",
       "| mpg | cyl | disp | hp | drat | wt | qsec | vs | am | gear | carb | performance |\n",
       "|---|---|---|---|---|---|---|---|---|---|---|---|\n",
       "| 21.0  | 6     | 160   | 110   | 3.90  | 2.620 | 16.46 | 0     | 1     | 4     | 4     | 41.98 |\n",
       "| 21.0  | 6     | 160   | 110   | 3.90  | 2.875 | 17.02 | 0     | 1     | 4     | 4     | 38.26 |\n",
       "| 22.8  | 4     | 108   |  93   | 3.85  | 2.320 | 18.61 | 1     | 1     | 4     | 1     | 40.09 |\n",
       "| 21.4  | 6     | 258   | 110   | 3.08  | 3.215 | 19.44 | 1     | 0     | 3     | 1     | 34.21 |\n",
       "| 18.7  | 8     | 360   | 175   | 3.15  | 3.440 | 17.02 | 0     | 0     | 3     | 2     | 50.87 |\n",
       "| 18.1  | 6     | 225   | 105   | 2.76  | 3.460 | 20.22 | 1     | 0     | 3     | 1     | 30.35 |\n",
       "\n"
      ],
      "text/plain": [
       "  mpg  cyl disp hp  drat wt    qsec  vs am gear carb performance\n",
       "1 21.0 6   160  110 3.90 2.620 16.46 0  1  4    4    41.98      \n",
       "2 21.0 6   160  110 3.90 2.875 17.02 0  1  4    4    38.26      \n",
       "3 22.8 4   108   93 3.85 2.320 18.61 1  1  4    1    40.09      \n",
       "4 21.4 6   258  110 3.08 3.215 19.44 1  0  3    1    34.21      \n",
       "5 18.7 8   360  175 3.15 3.440 17.02 0  0  3    2    50.87      \n",
       "6 18.1 6   225  105 2.76 3.460 20.22 1  0  3    1    30.35      "
      ]
     },
     "metadata": {},
     "output_type": "display_data"
    }
   ],
   "source": [
    "# Aus \"frischgechriebener\" Excel-Datei lesen und Daten anzeigen\n",
    "d <- read_excel('demo_lab.xlsx', 'data')\n",
    "head(d)"
   ]
  },
  {
   "cell_type": "markdown",
   "metadata": {},
   "source": [
    "Herzlichen Glückwunsch! Sie sind mit Lab 3. fertig."
   ]
  }
 ],
 "metadata": {
  "kernelspec": {
   "display_name": "R",
   "language": "R",
   "name": "ir"
  },
  "language_info": {
   "codemirror_mode": "r",
   "file_extension": ".r",
   "mimetype": "text/x-r-source",
   "name": "R",
   "pygments_lexer": "r",
   "version": "3.6.1"
  }
 },
 "nbformat": 4,
 "nbformat_minor": 1
}
