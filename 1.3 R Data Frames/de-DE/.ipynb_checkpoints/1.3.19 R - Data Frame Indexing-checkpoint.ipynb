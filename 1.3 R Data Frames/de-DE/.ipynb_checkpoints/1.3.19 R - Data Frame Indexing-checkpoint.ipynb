{
 "cells": [
  {
   "cell_type": "markdown",
   "metadata": {
    "collapsed": true
   },
   "source": [
    "# Tag 1. Kapitel 3. Data Frames\n",
    "\n",
    "## Lektion 19. Data Frame Auswahl und Indexierung\n",
    "\n",
    "Wir haben bereits gesehen, wie wir die eingebauten Data Frames aufrufen und unsere eigenen durch `data.frame()` erstellen. Schauen wir uns noch einmal unsere Wetterdaten an. Anschließend können wir lernen, wie wir die Klammern-Notation zur Auswahl und Indexierung verwenden:"
   ]
  },
  {
   "cell_type": "code",
   "execution_count": 1,
   "metadata": {},
   "outputs": [],
   "source": [
    "# Einige erfunden Wetterdaten\n",
    "tage <- c('Mo','Di','Mi','Do','Fr')\n",
    "temp <- c(22.2,21,23,24.3,25)\n",
    "regen <- c(TRUE, TRUE, FALSE, FALSE, TRUE)\n",
    "\n",
    "# Die Vektoren übergeben\n",
    "df <- data.frame(tage,temp,regen)"
   ]
  },
  {
   "cell_type": "code",
   "execution_count": 2,
   "metadata": {},
   "outputs": [
    {
     "data": {
      "text/html": [
       "<table>\n",
       "<thead><tr><th scope=col>tage</th><th scope=col>temp</th><th scope=col>regen</th></tr></thead>\n",
       "<tbody>\n",
       "\t<tr><td>Mo   </td><td>22.2 </td><td> TRUE</td></tr>\n",
       "\t<tr><td>Di   </td><td>21.0 </td><td> TRUE</td></tr>\n",
       "\t<tr><td>Mi   </td><td>23.0 </td><td>FALSE</td></tr>\n",
       "\t<tr><td>Do   </td><td>24.3 </td><td>FALSE</td></tr>\n",
       "\t<tr><td>Fr   </td><td>25.0 </td><td> TRUE</td></tr>\n",
       "</tbody>\n",
       "</table>\n"
      ],
      "text/latex": [
       "\\begin{tabular}{r|lll}\n",
       " tage & temp & regen\\\\\n",
       "\\hline\n",
       "\t Mo    & 22.2  &  TRUE\\\\\n",
       "\t Di    & 21.0  &  TRUE\\\\\n",
       "\t Mi    & 23.0  & FALSE\\\\\n",
       "\t Do    & 24.3  & FALSE\\\\\n",
       "\t Fr    & 25.0  &  TRUE\\\\\n",
       "\\end{tabular}\n"
      ],
      "text/markdown": [
       "\n",
       "| tage | temp | regen |\n",
       "|---|---|---|\n",
       "| Mo    | 22.2  |  TRUE |\n",
       "| Di    | 21.0  |  TRUE |\n",
       "| Mi    | 23.0  | FALSE |\n",
       "| Do    | 24.3  | FALSE |\n",
       "| Fr    | 25.0  |  TRUE |\n",
       "\n"
      ],
      "text/plain": [
       "  tage temp regen\n",
       "1 Mo   22.2  TRUE\n",
       "2 Di   21.0  TRUE\n",
       "3 Mi   23.0 FALSE\n",
       "4 Do   24.3 FALSE\n",
       "5 Fr   25.0  TRUE"
      ]
     },
     "metadata": {},
     "output_type": "display_data"
    }
   ],
   "source": [
    "df"
   ]
  },
  {
   "cell_type": "markdown",
   "metadata": {},
   "source": [
    "Wir können die Klammern-Notation verwenden, die wir von den Matrizen kennen:\n",
    "\n",
    "    df[zeilen,spalten]"
   ]
  },
  {
   "cell_type": "code",
   "execution_count": 3,
   "metadata": {},
   "outputs": [
    {
     "data": {
      "text/html": [
       "<table>\n",
       "<thead><tr><th scope=col>tage</th><th scope=col>temp</th><th scope=col>regen</th></tr></thead>\n",
       "<tbody>\n",
       "\t<tr><td>Mo  </td><td>22.2</td><td>TRUE</td></tr>\n",
       "</tbody>\n",
       "</table>\n"
      ],
      "text/latex": [
       "\\begin{tabular}{r|lll}\n",
       " tage & temp & regen\\\\\n",
       "\\hline\n",
       "\t Mo   & 22.2 & TRUE\\\\\n",
       "\\end{tabular}\n"
      ],
      "text/markdown": [
       "\n",
       "| tage | temp | regen |\n",
       "|---|---|---|\n",
       "| Mo   | 22.2 | TRUE |\n",
       "\n"
      ],
      "text/plain": [
       "  tage temp regen\n",
       "1 Mo   22.2 TRUE "
      ]
     },
     "metadata": {},
     "output_type": "display_data"
    }
   ],
   "source": [
    "# Alles aus der ersten Zeile\n",
    "df[1,]"
   ]
  },
  {
   "cell_type": "code",
   "execution_count": 4,
   "metadata": {},
   "outputs": [
    {
     "data": {
      "text/html": [
       "<ol class=list-inline>\n",
       "\t<li>Mo</li>\n",
       "\t<li>Di</li>\n",
       "\t<li>Mi</li>\n",
       "\t<li>Do</li>\n",
       "\t<li>Fr</li>\n",
       "</ol>\n",
       "\n",
       "<details>\n",
       "\t<summary style=display:list-item;cursor:pointer>\n",
       "\t\t<strong>Levels</strong>:\n",
       "\t</summary>\n",
       "\t<ol class=list-inline>\n",
       "\t\t<li>'Di'</li>\n",
       "\t\t<li>'Do'</li>\n",
       "\t\t<li>'Fr'</li>\n",
       "\t\t<li>'Mi'</li>\n",
       "\t\t<li>'Mo'</li>\n",
       "\t</ol>\n",
       "</details>"
      ],
      "text/latex": [
       "\\begin{enumerate*}\n",
       "\\item Mo\n",
       "\\item Di\n",
       "\\item Mi\n",
       "\\item Do\n",
       "\\item Fr\n",
       "\\end{enumerate*}\n",
       "\n",
       "\\emph{Levels}: \\begin{enumerate*}\n",
       "\\item 'Di'\n",
       "\\item 'Do'\n",
       "\\item 'Fr'\n",
       "\\item 'Mi'\n",
       "\\item 'Mo'\n",
       "\\end{enumerate*}\n"
      ],
      "text/markdown": [
       "1. Mo\n",
       "2. Di\n",
       "3. Mi\n",
       "4. Do\n",
       "5. Fr\n",
       "\n",
       "\n",
       "\n",
       "**Levels**: 1. 'Di'\n",
       "2. 'Do'\n",
       "3. 'Fr'\n",
       "4. 'Mi'\n",
       "5. 'Mo'\n",
       "\n",
       "\n"
      ],
      "text/plain": [
       "[1] Mo Di Mi Do Fr\n",
       "Levels: Di Do Fr Mi Mo"
      ]
     },
     "metadata": {},
     "output_type": "display_data"
    }
   ],
   "source": [
    "# Alles aus der ersten Spalte\n",
    "df[,1]"
   ]
  },
  {
   "cell_type": "code",
   "execution_count": 9,
   "metadata": {},
   "outputs": [
    {
     "data": {
      "text/html": [
       "<table>\n",
       "<thead><tr><th></th><th scope=col>tage</th><th scope=col>temp</th><th scope=col>regen</th></tr></thead>\n",
       "<tbody>\n",
       "\t<tr><th scope=row>5</th><td>Fr  </td><td>25  </td><td>TRUE</td></tr>\n",
       "</tbody>\n",
       "</table>\n"
      ],
      "text/latex": [
       "\\begin{tabular}{r|lll}\n",
       "  & tage & temp & regen\\\\\n",
       "\\hline\n",
       "\t5 & Fr   & 25   & TRUE\\\\\n",
       "\\end{tabular}\n"
      ],
      "text/markdown": [
       "\n",
       "| <!--/--> | tage | temp | regen |\n",
       "|---|---|---|---|\n",
       "| 5 | Fr   | 25   | TRUE |\n",
       "\n"
      ],
      "text/plain": [
       "  tage temp regen\n",
       "5 Fr   25   TRUE "
      ]
     },
     "metadata": {},
     "output_type": "display_data"
    }
   ],
   "source": [
    "# Daten von Freitag\n",
    "df[5,]"
   ]
  },
  {
   "cell_type": "markdown",
   "metadata": {},
   "source": [
    "## Auswahl durch Spaltennamen\n",
    "\n",
    "Jetzt werden wir sehen, was so mächtig an den Data Frames ist. Wir können die Spaltennamen nutzen (anstatt uns Zahlen zu merken), um auf Daten zuzugreifen:"
   ]
  },
  {
   "cell_type": "code",
   "execution_count": 6,
   "metadata": {},
   "outputs": [
    {
     "data": {
      "text/html": [
       "<ol class=list-inline>\n",
       "\t<li>TRUE</li>\n",
       "\t<li>TRUE</li>\n",
       "\t<li>FALSE</li>\n",
       "\t<li>FALSE</li>\n",
       "\t<li>TRUE</li>\n",
       "</ol>\n"
      ],
      "text/latex": [
       "\\begin{enumerate*}\n",
       "\\item TRUE\n",
       "\\item TRUE\n",
       "\\item FALSE\n",
       "\\item FALSE\n",
       "\\item TRUE\n",
       "\\end{enumerate*}\n"
      ],
      "text/markdown": [
       "1. TRUE\n",
       "2. TRUE\n",
       "3. FALSE\n",
       "4. FALSE\n",
       "5. TRUE\n",
       "\n",
       "\n"
      ],
      "text/plain": [
       "[1]  TRUE  TRUE FALSE FALSE  TRUE"
      ]
     },
     "metadata": {},
     "output_type": "display_data"
    }
   ],
   "source": [
    "# Alle Regen-Werte\n",
    "df[,'regen']"
   ]
  },
  {
   "cell_type": "code",
   "execution_count": 7,
   "metadata": {},
   "outputs": [
    {
     "data": {
      "text/html": [
       "<table>\n",
       "<thead><tr><th scope=col>tage</th><th scope=col>temp</th></tr></thead>\n",
       "<tbody>\n",
       "\t<tr><td>Mo  </td><td>22.2</td></tr>\n",
       "\t<tr><td>Di  </td><td>21.0</td></tr>\n",
       "\t<tr><td>Mi  </td><td>23.0</td></tr>\n",
       "\t<tr><td>Do  </td><td>24.3</td></tr>\n",
       "\t<tr><td>Fr  </td><td>25.0</td></tr>\n",
       "</tbody>\n",
       "</table>\n"
      ],
      "text/latex": [
       "\\begin{tabular}{r|ll}\n",
       " tage & temp\\\\\n",
       "\\hline\n",
       "\t Mo   & 22.2\\\\\n",
       "\t Di   & 21.0\\\\\n",
       "\t Mi   & 23.0\\\\\n",
       "\t Do   & 24.3\\\\\n",
       "\t Fr   & 25.0\\\\\n",
       "\\end{tabular}\n"
      ],
      "text/markdown": [
       "\n",
       "| tage | temp |\n",
       "|---|---|\n",
       "| Mo   | 22.2 |\n",
       "| Di   | 21.0 |\n",
       "| Mi   | 23.0 |\n",
       "| Do   | 24.3 |\n",
       "| Fr   | 25.0 |\n",
       "\n"
      ],
      "text/plain": [
       "  tage temp\n",
       "1 Mo   22.2\n",
       "2 Di   21.0\n",
       "3 Mi   23.0\n",
       "4 Do   24.3\n",
       "5 Fr   25.0"
      ]
     },
     "metadata": {},
     "output_type": "display_data"
    }
   ],
   "source": [
    "# Erste 5 Zeilen für tage und temp\n",
    "df[1:5,c('tage','temp')]"
   ]
  },
  {
   "cell_type": "markdown",
   "metadata": {},
   "source": [
    "Wenn wir alle Werte einer bestimmten Spalte erhalten wollen, können wir ein Dollarzeichen nach dem Namen des Data Frames nutzen:\n",
    "\n",
    "    df.name$column.name"
   ]
  },
  {
   "cell_type": "code",
   "execution_count": 10,
   "metadata": {},
   "outputs": [
    {
     "data": {
      "text/html": [
       "<ol class=list-inline>\n",
       "\t<li>TRUE</li>\n",
       "\t<li>TRUE</li>\n",
       "\t<li>FALSE</li>\n",
       "\t<li>FALSE</li>\n",
       "\t<li>TRUE</li>\n",
       "</ol>\n"
      ],
      "text/latex": [
       "\\begin{enumerate*}\n",
       "\\item TRUE\n",
       "\\item TRUE\n",
       "\\item FALSE\n",
       "\\item FALSE\n",
       "\\item TRUE\n",
       "\\end{enumerate*}\n"
      ],
      "text/markdown": [
       "1. TRUE\n",
       "2. TRUE\n",
       "3. FALSE\n",
       "4. FALSE\n",
       "5. TRUE\n",
       "\n",
       "\n"
      ],
      "text/plain": [
       "[1]  TRUE  TRUE FALSE FALSE  TRUE"
      ]
     },
     "metadata": {},
     "output_type": "display_data"
    }
   ],
   "source": [
    "df$regen"
   ]
  },
  {
   "cell_type": "code",
   "execution_count": 11,
   "metadata": {},
   "outputs": [
    {
     "data": {
      "text/html": [
       "<ol class=list-inline>\n",
       "\t<li>Mo</li>\n",
       "\t<li>Di</li>\n",
       "\t<li>Mi</li>\n",
       "\t<li>Do</li>\n",
       "\t<li>Fr</li>\n",
       "</ol>\n",
       "\n",
       "<details>\n",
       "\t<summary style=display:list-item;cursor:pointer>\n",
       "\t\t<strong>Levels</strong>:\n",
       "\t</summary>\n",
       "\t<ol class=list-inline>\n",
       "\t\t<li>'Di'</li>\n",
       "\t\t<li>'Do'</li>\n",
       "\t\t<li>'Fr'</li>\n",
       "\t\t<li>'Mi'</li>\n",
       "\t\t<li>'Mo'</li>\n",
       "\t</ol>\n",
       "</details>"
      ],
      "text/latex": [
       "\\begin{enumerate*}\n",
       "\\item Mo\n",
       "\\item Di\n",
       "\\item Mi\n",
       "\\item Do\n",
       "\\item Fr\n",
       "\\end{enumerate*}\n",
       "\n",
       "\\emph{Levels}: \\begin{enumerate*}\n",
       "\\item 'Di'\n",
       "\\item 'Do'\n",
       "\\item 'Fr'\n",
       "\\item 'Mi'\n",
       "\\item 'Mo'\n",
       "\\end{enumerate*}\n"
      ],
      "text/markdown": [
       "1. Mo\n",
       "2. Di\n",
       "3. Mi\n",
       "4. Do\n",
       "5. Fr\n",
       "\n",
       "\n",
       "\n",
       "**Levels**: 1. 'Di'\n",
       "2. 'Do'\n",
       "3. 'Fr'\n",
       "4. 'Mi'\n",
       "5. 'Mo'\n",
       "\n",
       "\n"
      ],
      "text/plain": [
       "[1] Mo Di Mi Do Fr\n",
       "Levels: Di Do Fr Mi Mo"
      ]
     },
     "metadata": {},
     "output_type": "display_data"
    }
   ],
   "source": [
    "df$tage"
   ]
  },
  {
   "cell_type": "code",
   "execution_count": 16,
   "metadata": {},
   "outputs": [
    {
     "data": {
      "text/html": [
       "<ol class=list-inline>\n",
       "\t<li>22.2</li>\n",
       "\t<li>21</li>\n",
       "\t<li>23</li>\n",
       "\t<li>24.3</li>\n",
       "\t<li>25</li>\n",
       "</ol>\n"
      ],
      "text/latex": [
       "\\begin{enumerate*}\n",
       "\\item 22.2\n",
       "\\item 21\n",
       "\\item 23\n",
       "\\item 24.3\n",
       "\\item 25\n",
       "\\end{enumerate*}\n"
      ],
      "text/markdown": [
       "1. 22.2\n",
       "2. 21\n",
       "3. 23\n",
       "4. 24.3\n",
       "5. 25\n",
       "\n",
       "\n"
      ],
      "text/plain": [
       "[1] 22.2 21.0 23.0 24.3 25.0"
      ]
     },
     "metadata": {},
     "output_type": "display_data"
    },
    {
     "data": {
      "text/html": [
       "'numeric'"
      ],
      "text/latex": [
       "'numeric'"
      ],
      "text/markdown": [
       "'numeric'"
      ],
      "text/plain": [
       "[1] \"numeric\""
      ]
     },
     "metadata": {},
     "output_type": "display_data"
    }
   ],
   "source": [
    "df$temp\n",
    "class(df$temp)"
   ]
  },
  {
   "cell_type": "markdown",
   "metadata": {},
   "source": [
    "Wir können außerdem die Klammern-Notation nutzen, um ein Data Frame Format der selben Informationen zu erhalten:"
   ]
  },
  {
   "cell_type": "code",
   "execution_count": 15,
   "metadata": {},
   "outputs": [
    {
     "data": {
      "text/html": [
       "<table>\n",
       "<thead><tr><th scope=col>regen</th></tr></thead>\n",
       "<tbody>\n",
       "\t<tr><td> TRUE</td></tr>\n",
       "\t<tr><td> TRUE</td></tr>\n",
       "\t<tr><td>FALSE</td></tr>\n",
       "\t<tr><td>FALSE</td></tr>\n",
       "\t<tr><td> TRUE</td></tr>\n",
       "</tbody>\n",
       "</table>\n"
      ],
      "text/latex": [
       "\\begin{tabular}{r|l}\n",
       " regen\\\\\n",
       "\\hline\n",
       "\t  TRUE\\\\\n",
       "\t  TRUE\\\\\n",
       "\t FALSE\\\\\n",
       "\t FALSE\\\\\n",
       "\t  TRUE\\\\\n",
       "\\end{tabular}\n"
      ],
      "text/markdown": [
       "\n",
       "| regen |\n",
       "|---|\n",
       "|  TRUE |\n",
       "|  TRUE |\n",
       "| FALSE |\n",
       "| FALSE |\n",
       "|  TRUE |\n",
       "\n"
      ],
      "text/plain": [
       "  regen\n",
       "1  TRUE\n",
       "2  TRUE\n",
       "3 FALSE\n",
       "4 FALSE\n",
       "5  TRUE"
      ]
     },
     "metadata": {},
     "output_type": "display_data"
    },
    {
     "data": {
      "text/html": [
       "'data.frame'"
      ],
      "text/latex": [
       "'data.frame'"
      ],
      "text/markdown": [
       "'data.frame'"
      ],
      "text/plain": [
       "[1] \"data.frame\""
      ]
     },
     "metadata": {},
     "output_type": "display_data"
    }
   ],
   "source": [
    "df['regen']\n",
    "class(df['regen'])"
   ]
  },
  {
   "cell_type": "code",
   "execution_count": 13,
   "metadata": {},
   "outputs": [
    {
     "data": {
      "text/html": [
       "<table>\n",
       "<thead><tr><th scope=col>tage</th></tr></thead>\n",
       "<tbody>\n",
       "\t<tr><td>Mo</td></tr>\n",
       "\t<tr><td>Di</td></tr>\n",
       "\t<tr><td>Mi</td></tr>\n",
       "\t<tr><td>Do</td></tr>\n",
       "\t<tr><td>Fr</td></tr>\n",
       "</tbody>\n",
       "</table>\n"
      ],
      "text/latex": [
       "\\begin{tabular}{r|l}\n",
       " tage\\\\\n",
       "\\hline\n",
       "\t Mo\\\\\n",
       "\t Di\\\\\n",
       "\t Mi\\\\\n",
       "\t Do\\\\\n",
       "\t Fr\\\\\n",
       "\\end{tabular}\n"
      ],
      "text/markdown": [
       "\n",
       "| tage |\n",
       "|---|\n",
       "| Mo |\n",
       "| Di |\n",
       "| Mi |\n",
       "| Do |\n",
       "| Fr |\n",
       "\n"
      ],
      "text/plain": [
       "  tage\n",
       "1 Mo  \n",
       "2 Di  \n",
       "3 Mi  \n",
       "4 Do  \n",
       "5 Fr  "
      ]
     },
     "metadata": {},
     "output_type": "display_data"
    }
   ],
   "source": [
    "df['tage']"
   ]
  },
  {
   "cell_type": "code",
   "execution_count": 21,
   "metadata": {},
   "outputs": [
    {
     "data": {
      "text/html": [
       "<table>\n",
       "<thead><tr><th scope=col>tage</th><th scope=col>temp</th><th scope=col>regen</th></tr></thead>\n",
       "<tbody>\n",
       "\t<tr><td>Mo   </td><td>22.2 </td><td> TRUE</td></tr>\n",
       "\t<tr><td>Di   </td><td>21.0 </td><td> TRUE</td></tr>\n",
       "\t<tr><td>Mi   </td><td>23.0 </td><td>FALSE</td></tr>\n",
       "\t<tr><td>Do   </td><td>24.3 </td><td>FALSE</td></tr>\n",
       "\t<tr><td>Fr   </td><td>25.0 </td><td> TRUE</td></tr>\n",
       "</tbody>\n",
       "</table>\n"
      ],
      "text/latex": [
       "\\begin{tabular}{r|lll}\n",
       " tage & temp & regen\\\\\n",
       "\\hline\n",
       "\t Mo    & 22.2  &  TRUE\\\\\n",
       "\t Di    & 21.0  &  TRUE\\\\\n",
       "\t Mi    & 23.0  & FALSE\\\\\n",
       "\t Do    & 24.3  & FALSE\\\\\n",
       "\t Fr    & 25.0  &  TRUE\\\\\n",
       "\\end{tabular}\n"
      ],
      "text/markdown": [
       "\n",
       "| tage | temp | regen |\n",
       "|---|---|---|\n",
       "| Mo    | 22.2  |  TRUE |\n",
       "| Di    | 21.0  |  TRUE |\n",
       "| Mi    | 23.0  | FALSE |\n",
       "| Do    | 24.3  | FALSE |\n",
       "| Fr    | 25.0  |  TRUE |\n",
       "\n"
      ],
      "text/plain": [
       "  tage temp regen\n",
       "1 Mo   22.2  TRUE\n",
       "2 Di   21.0  TRUE\n",
       "3 Mi   23.0 FALSE\n",
       "4 Do   24.3 FALSE\n",
       "5 Fr   25.0  TRUE"
      ]
     },
     "metadata": {},
     "output_type": "display_data"
    },
    {
     "data": {
      "text/html": [
       "<table>\n",
       "<thead><tr><th scope=col>regen</th><th scope=col>tage</th><th scope=col>temp</th></tr></thead>\n",
       "<tbody>\n",
       "\t<tr><td> TRUE</td><td>Mo   </td><td>22.2 </td></tr>\n",
       "\t<tr><td> TRUE</td><td>Di   </td><td>21.0 </td></tr>\n",
       "\t<tr><td>FALSE</td><td>Mi   </td><td>23.0 </td></tr>\n",
       "\t<tr><td>FALSE</td><td>Do   </td><td>24.3 </td></tr>\n",
       "\t<tr><td> TRUE</td><td>Fr   </td><td>25.0 </td></tr>\n",
       "</tbody>\n",
       "</table>\n"
      ],
      "text/latex": [
       "\\begin{tabular}{r|lll}\n",
       " regen & tage & temp\\\\\n",
       "\\hline\n",
       "\t  TRUE & Mo    & 22.2 \\\\\n",
       "\t  TRUE & Di    & 21.0 \\\\\n",
       "\t FALSE & Mi    & 23.0 \\\\\n",
       "\t FALSE & Do    & 24.3 \\\\\n",
       "\t  TRUE & Fr    & 25.0 \\\\\n",
       "\\end{tabular}\n"
      ],
      "text/markdown": [
       "\n",
       "| regen | tage | temp |\n",
       "|---|---|---|\n",
       "|  TRUE | Mo    | 22.2  |\n",
       "|  TRUE | Di    | 21.0  |\n",
       "| FALSE | Mi    | 23.0  |\n",
       "| FALSE | Do    | 24.3  |\n",
       "|  TRUE | Fr    | 25.0  |\n",
       "\n"
      ],
      "text/plain": [
       "  regen tage temp\n",
       "1  TRUE Mo   22.2\n",
       "2  TRUE Di   21.0\n",
       "3 FALSE Mi   23.0\n",
       "4 FALSE Do   24.3\n",
       "5  TRUE Fr   25.0"
      ]
     },
     "metadata": {},
     "output_type": "display_data"
    },
    {
     "data": {
      "text/html": [
       "<table>\n",
       "<thead><tr><th scope=col>regen</th><th scope=col>tage</th></tr></thead>\n",
       "<tbody>\n",
       "\t<tr><td> TRUE</td><td>Mo   </td></tr>\n",
       "\t<tr><td> TRUE</td><td>Di   </td></tr>\n",
       "\t<tr><td>FALSE</td><td>Mi   </td></tr>\n",
       "\t<tr><td>FALSE</td><td>Do   </td></tr>\n",
       "\t<tr><td> TRUE</td><td>Fr   </td></tr>\n",
       "</tbody>\n",
       "</table>\n"
      ],
      "text/latex": [
       "\\begin{tabular}{r|ll}\n",
       " regen & tage\\\\\n",
       "\\hline\n",
       "\t  TRUE & Mo   \\\\\n",
       "\t  TRUE & Di   \\\\\n",
       "\t FALSE & Mi   \\\\\n",
       "\t FALSE & Do   \\\\\n",
       "\t  TRUE & Fr   \\\\\n",
       "\\end{tabular}\n"
      ],
      "text/markdown": [
       "\n",
       "| regen | tage |\n",
       "|---|---|\n",
       "|  TRUE | Mo    |\n",
       "|  TRUE | Di    |\n",
       "| FALSE | Mi    |\n",
       "| FALSE | Do    |\n",
       "|  TRUE | Fr    |\n",
       "\n"
      ],
      "text/plain": [
       "  regen tage\n",
       "1  TRUE Mo  \n",
       "2  TRUE Di  \n",
       "3 FALSE Mi  \n",
       "4 FALSE Do  \n",
       "5  TRUE Fr  "
      ]
     },
     "metadata": {},
     "output_type": "display_data"
    }
   ],
   "source": [
    "df\n",
    "df[c('regen', 'tage', 'temp')]\n",
    "df[c('regen', 'tage')]"
   ]
  },
  {
   "cell_type": "markdown",
   "metadata": {},
   "source": [
    "## Filtern mit einer Subset-Bedingung\n",
    "\n",
    "Wir können die `subset()` Funktion verwenden, um ein Subset der Werte aus unserem Data Frame zu erhalten. Außerdem können wir eine Bedingung für dieses Subset definieren. Also zum Beispiel alle Daten für Tage an denen es geregnet hat. Schaut her:"
   ]
  },
  {
   "cell_type": "code",
   "execution_count": 22,
   "metadata": {},
   "outputs": [
    {
     "data": {
      "text/html": [
       "<table>\n",
       "<thead><tr><th></th><th scope=col>tage</th><th scope=col>temp</th><th scope=col>regen</th></tr></thead>\n",
       "<tbody>\n",
       "\t<tr><th scope=row>1</th><td>Mo  </td><td>22.2</td><td>TRUE</td></tr>\n",
       "\t<tr><th scope=row>2</th><td>Di  </td><td>21.0</td><td>TRUE</td></tr>\n",
       "\t<tr><th scope=row>5</th><td>Fr  </td><td>25.0</td><td>TRUE</td></tr>\n",
       "</tbody>\n",
       "</table>\n"
      ],
      "text/latex": [
       "\\begin{tabular}{r|lll}\n",
       "  & tage & temp & regen\\\\\n",
       "\\hline\n",
       "\t1 & Mo   & 22.2 & TRUE\\\\\n",
       "\t2 & Di   & 21.0 & TRUE\\\\\n",
       "\t5 & Fr   & 25.0 & TRUE\\\\\n",
       "\\end{tabular}\n"
      ],
      "text/markdown": [
       "\n",
       "| <!--/--> | tage | temp | regen |\n",
       "|---|---|---|---|\n",
       "| 1 | Mo   | 22.2 | TRUE |\n",
       "| 2 | Di   | 21.0 | TRUE |\n",
       "| 5 | Fr   | 25.0 | TRUE |\n",
       "\n"
      ],
      "text/plain": [
       "  tage temp regen\n",
       "1 Mo   22.2 TRUE \n",
       "2 Di   21.0 TRUE \n",
       "5 Fr   25.0 TRUE "
      ]
     },
     "metadata": {},
     "output_type": "display_data"
    }
   ],
   "source": [
    "subset(df,subset=regen==TRUE)"
   ]
  },
  {
   "cell_type": "markdown",
   "metadata": {},
   "source": [
    "Beachtet wie die Bedingung einen Vergleichsoperator genutzt hat. Im vorherigen Fall \"==\". Schnappen wir uns nun die Tage an denen die Temperatür über 23 lag:'"
   ]
  },
  {
   "cell_type": "code",
   "execution_count": 23,
   "metadata": {},
   "outputs": [
    {
     "data": {
      "text/html": [
       "<table>\n",
       "<thead><tr><th></th><th scope=col>tage</th><th scope=col>temp</th><th scope=col>regen</th></tr></thead>\n",
       "<tbody>\n",
       "\t<tr><th scope=row>4</th><td>Do   </td><td>24.3 </td><td>FALSE</td></tr>\n",
       "\t<tr><th scope=row>5</th><td>Fr   </td><td>25.0 </td><td> TRUE</td></tr>\n",
       "</tbody>\n",
       "</table>\n"
      ],
      "text/latex": [
       "\\begin{tabular}{r|lll}\n",
       "  & tage & temp & regen\\\\\n",
       "\\hline\n",
       "\t4 & Do    & 24.3  & FALSE\\\\\n",
       "\t5 & Fr    & 25.0  &  TRUE\\\\\n",
       "\\end{tabular}\n"
      ],
      "text/markdown": [
       "\n",
       "| <!--/--> | tage | temp | regen |\n",
       "|---|---|---|---|\n",
       "| 4 | Do    | 24.3  | FALSE |\n",
       "| 5 | Fr    | 25.0  |  TRUE |\n",
       "\n"
      ],
      "text/plain": [
       "  tage temp regen\n",
       "4 Do   24.3 FALSE\n",
       "5 Fr   25.0  TRUE"
      ]
     },
     "metadata": {},
     "output_type": "display_data"
    }
   ],
   "source": [
    "subset(df,subset= temp>23)"
   ]
  },
  {
   "cell_type": "markdown",
   "metadata": {},
   "source": [
    "Zu beachten gilt hier, dass wir den Spaltennamen nicht als Zeichen-String übergeben hab. *Subset* weiß, dass es sich dabei um einen Spaltennamen handelt."
   ]
  },
  {
   "cell_type": "code",
   "execution_count": 27,
   "metadata": {},
   "outputs": [
    {
     "data": {
      "text/html": [
       "<table>\n",
       "<thead><tr><th></th><th scope=col>tage</th><th scope=col>temp</th><th scope=col>regen</th></tr></thead>\n",
       "<tbody>\n",
       "\t<tr><th scope=row>5</th><td>Fr  </td><td>25  </td><td>TRUE</td></tr>\n",
       "</tbody>\n",
       "</table>\n"
      ],
      "text/latex": [
       "\\begin{tabular}{r|lll}\n",
       "  & tage & temp & regen\\\\\n",
       "\\hline\n",
       "\t5 & Fr   & 25   & TRUE\\\\\n",
       "\\end{tabular}\n"
      ],
      "text/markdown": [
       "\n",
       "| <!--/--> | tage | temp | regen |\n",
       "|---|---|---|---|\n",
       "| 5 | Fr   | 25   | TRUE |\n",
       "\n"
      ],
      "text/plain": [
       "  tage temp regen\n",
       "5 Fr   25   TRUE "
      ]
     },
     "metadata": {},
     "output_type": "display_data"
    },
    {
     "data": {
      "text/html": [
       "<table>\n",
       "<thead><tr><th></th><th scope=col>tage</th><th scope=col>temp</th><th scope=col>regen</th></tr></thead>\n",
       "<tbody>\n",
       "\t<tr><th scope=row>1</th><td>Mo   </td><td>22.2 </td><td> TRUE</td></tr>\n",
       "\t<tr><th scope=row>2</th><td>Di   </td><td>21.0 </td><td> TRUE</td></tr>\n",
       "\t<tr><th scope=row>4</th><td>Do   </td><td>24.3 </td><td>FALSE</td></tr>\n",
       "\t<tr><th scope=row>5</th><td>Fr   </td><td>25.0 </td><td> TRUE</td></tr>\n",
       "</tbody>\n",
       "</table>\n"
      ],
      "text/latex": [
       "\\begin{tabular}{r|lll}\n",
       "  & tage & temp & regen\\\\\n",
       "\\hline\n",
       "\t1 & Mo    & 22.2  &  TRUE\\\\\n",
       "\t2 & Di    & 21.0  &  TRUE\\\\\n",
       "\t4 & Do    & 24.3  & FALSE\\\\\n",
       "\t5 & Fr    & 25.0  &  TRUE\\\\\n",
       "\\end{tabular}\n"
      ],
      "text/markdown": [
       "\n",
       "| <!--/--> | tage | temp | regen |\n",
       "|---|---|---|---|\n",
       "| 1 | Mo    | 22.2  |  TRUE |\n",
       "| 2 | Di    | 21.0  |  TRUE |\n",
       "| 4 | Do    | 24.3  | FALSE |\n",
       "| 5 | Fr    | 25.0  |  TRUE |\n",
       "\n"
      ],
      "text/plain": [
       "  tage temp regen\n",
       "1 Mo   22.2  TRUE\n",
       "2 Di   21.0  TRUE\n",
       "4 Do   24.3 FALSE\n",
       "5 Fr   25.0  TRUE"
      ]
     },
     "metadata": {},
     "output_type": "display_data"
    }
   ],
   "source": [
    "# regen und wärmer als 23°\n",
    "subset(df,subset=regen==TRUE & temp>23)\n",
    "\n",
    "# regen oder wärmer als 23°\n",
    "subset(df,subset=regen==TRUE | temp>23)"
   ]
  },
  {
   "cell_type": "markdown",
   "metadata": {},
   "source": [
    "## Einen Data Frame sortieren\n",
    "\n",
    "Wir können die Reihenfolge innerhalb unseres Data Frame sortieren indem wir `order()` verwenden. Wir übergeben dazu die Spalte nach der wir die Sortierung vornehmen möchten an die Funktion. Schauen wir uns dazu ein Beispiel an:"
   ]
  },
  {
   "cell_type": "code",
   "execution_count": 28,
   "metadata": {},
   "outputs": [],
   "source": [
    "sortierte.temp <- order(df['temp'])"
   ]
  },
  {
   "cell_type": "code",
   "execution_count": 31,
   "metadata": {},
   "outputs": [
    {
     "data": {
      "text/html": [
       "<table>\n",
       "<thead><tr><th></th><th scope=col>tage</th><th scope=col>temp</th><th scope=col>regen</th></tr></thead>\n",
       "<tbody>\n",
       "\t<tr><th scope=row>2</th><td>Di   </td><td>21.0 </td><td> TRUE</td></tr>\n",
       "\t<tr><th scope=row>1</th><td>Mo   </td><td>22.2 </td><td> TRUE</td></tr>\n",
       "\t<tr><th scope=row>3</th><td>Mi   </td><td>23.0 </td><td>FALSE</td></tr>\n",
       "\t<tr><th scope=row>4</th><td>Do   </td><td>24.3 </td><td>FALSE</td></tr>\n",
       "\t<tr><th scope=row>5</th><td>Fr   </td><td>25.0 </td><td> TRUE</td></tr>\n",
       "</tbody>\n",
       "</table>\n"
      ],
      "text/latex": [
       "\\begin{tabular}{r|lll}\n",
       "  & tage & temp & regen\\\\\n",
       "\\hline\n",
       "\t2 & Di    & 21.0  &  TRUE\\\\\n",
       "\t1 & Mo    & 22.2  &  TRUE\\\\\n",
       "\t3 & Mi    & 23.0  & FALSE\\\\\n",
       "\t4 & Do    & 24.3  & FALSE\\\\\n",
       "\t5 & Fr    & 25.0  &  TRUE\\\\\n",
       "\\end{tabular}\n"
      ],
      "text/markdown": [
       "\n",
       "| <!--/--> | tage | temp | regen |\n",
       "|---|---|---|---|\n",
       "| 2 | Di    | 21.0  |  TRUE |\n",
       "| 1 | Mo    | 22.2  |  TRUE |\n",
       "| 3 | Mi    | 23.0  | FALSE |\n",
       "| 4 | Do    | 24.3  | FALSE |\n",
       "| 5 | Fr    | 25.0  |  TRUE |\n",
       "\n"
      ],
      "text/plain": [
       "  tage temp regen\n",
       "2 Di   21.0  TRUE\n",
       "1 Mo   22.2  TRUE\n",
       "3 Mi   23.0 FALSE\n",
       "4 Do   24.3 FALSE\n",
       "5 Fr   25.0  TRUE"
      ]
     },
     "metadata": {},
     "output_type": "display_data"
    },
    {
     "data": {
      "text/html": [
       "<table>\n",
       "<thead><tr><th></th><th scope=col>tage</th><th scope=col>temp</th><th scope=col>regen</th></tr></thead>\n",
       "<tbody>\n",
       "\t<tr><th scope=row>2</th><td>Di   </td><td>21.0 </td><td> TRUE</td></tr>\n",
       "\t<tr><th scope=row>1</th><td>Mo   </td><td>22.2 </td><td> TRUE</td></tr>\n",
       "\t<tr><th scope=row>3</th><td>Mi   </td><td>23.0 </td><td>FALSE</td></tr>\n",
       "\t<tr><th scope=row>4</th><td>Do   </td><td>24.3 </td><td>FALSE</td></tr>\n",
       "\t<tr><th scope=row>5</th><td>Fr   </td><td>25.0 </td><td> TRUE</td></tr>\n",
       "</tbody>\n",
       "</table>\n"
      ],
      "text/latex": [
       "\\begin{tabular}{r|lll}\n",
       "  & tage & temp & regen\\\\\n",
       "\\hline\n",
       "\t2 & Di    & 21.0  &  TRUE\\\\\n",
       "\t1 & Mo    & 22.2  &  TRUE\\\\\n",
       "\t3 & Mi    & 23.0  & FALSE\\\\\n",
       "\t4 & Do    & 24.3  & FALSE\\\\\n",
       "\t5 & Fr    & 25.0  &  TRUE\\\\\n",
       "\\end{tabular}\n"
      ],
      "text/markdown": [
       "\n",
       "| <!--/--> | tage | temp | regen |\n",
       "|---|---|---|---|\n",
       "| 2 | Di    | 21.0  |  TRUE |\n",
       "| 1 | Mo    | 22.2  |  TRUE |\n",
       "| 3 | Mi    | 23.0  | FALSE |\n",
       "| 4 | Do    | 24.3  | FALSE |\n",
       "| 5 | Fr    | 25.0  |  TRUE |\n",
       "\n"
      ],
      "text/plain": [
       "  tage temp regen\n",
       "2 Di   21.0  TRUE\n",
       "1 Mo   22.2  TRUE\n",
       "3 Mi   23.0 FALSE\n",
       "4 Do   24.3 FALSE\n",
       "5 Fr   25.0  TRUE"
      ]
     },
     "metadata": {},
     "output_type": "display_data"
    }
   ],
   "source": [
    "df[sortierte.temp,]\n",
    "df[order(df['temp']),]"
   ]
  },
  {
   "cell_type": "markdown",
   "metadata": {},
   "source": [
    "Schauen wir uns genauer an, was `sortierte.temp` ist."
   ]
  },
  {
   "cell_type": "code",
   "execution_count": 18,
   "metadata": {},
   "outputs": [
    {
     "data": {
      "text/html": [
       "<ol class=list-inline>\n",
       "\t<li>2</li>\n",
       "\t<li>1</li>\n",
       "\t<li>3</li>\n",
       "\t<li>4</li>\n",
       "\t<li>5</li>\n",
       "</ol>\n"
      ],
      "text/latex": [
       "\\begin{enumerate*}\n",
       "\\item 2\n",
       "\\item 1\n",
       "\\item 3\n",
       "\\item 4\n",
       "\\item 5\n",
       "\\end{enumerate*}\n"
      ],
      "text/markdown": [
       "1. 2\n",
       "2. 1\n",
       "3. 3\n",
       "4. 4\n",
       "5. 5\n",
       "\n",
       "\n"
      ],
      "text/plain": [
       "[1] 2 1 3 4 5"
      ]
     },
     "metadata": {},
     "output_type": "display_data"
    }
   ],
   "source": [
    "sortierte.temp"
   ]
  },
  {
   "cell_type": "markdown",
   "metadata": {},
   "source": [
    "Wir sehen: Es wir der Index der Elemente in bestimmter Reihenfolge abgefragt und gespeichert. Mit einem negativen Vorzeichen (-) können wir eine absteigende Reihenfolge aufrufen:"
   ]
  },
  {
   "cell_type": "code",
   "execution_count": 19,
   "metadata": {},
   "outputs": [],
   "source": [
    "abst.temp <- order(-df['temp'])"
   ]
  },
  {
   "cell_type": "code",
   "execution_count": 22,
   "metadata": {},
   "outputs": [
    {
     "data": {
      "text/html": [
       "<table>\n",
       "<thead><tr><th></th><th scope=col>tage</th><th scope=col>temp</th><th scope=col>regen</th></tr></thead>\n",
       "<tbody>\n",
       "\t<tr><th scope=row>5</th><td>Fr   </td><td>25.0 </td><td> TRUE</td></tr>\n",
       "\t<tr><th scope=row>4</th><td>Do   </td><td>24.3 </td><td>FALSE</td></tr>\n",
       "\t<tr><th scope=row>3</th><td>Mi   </td><td>23.0 </td><td>FALSE</td></tr>\n",
       "\t<tr><th scope=row>1</th><td>Mo   </td><td>22.2 </td><td> TRUE</td></tr>\n",
       "\t<tr><th scope=row>2</th><td>Di   </td><td>21.0 </td><td> TRUE</td></tr>\n",
       "</tbody>\n",
       "</table>\n"
      ],
      "text/latex": [
       "\\begin{tabular}{r|lll}\n",
       "  & tage & temp & regen\\\\\n",
       "\\hline\n",
       "\t5 & Fr    & 25.0  &  TRUE\\\\\n",
       "\t4 & Do    & 24.3  & FALSE\\\\\n",
       "\t3 & Mi    & 23.0  & FALSE\\\\\n",
       "\t1 & Mo    & 22.2  &  TRUE\\\\\n",
       "\t2 & Di    & 21.0  &  TRUE\\\\\n",
       "\\end{tabular}\n"
      ],
      "text/markdown": [
       "\n",
       "| <!--/--> | tage | temp | regen |\n",
       "|---|---|---|---|\n",
       "| 5 | Fr    | 25.0  |  TRUE |\n",
       "| 4 | Do    | 24.3  | FALSE |\n",
       "| 3 | Mi    | 23.0  | FALSE |\n",
       "| 1 | Mo    | 22.2  |  TRUE |\n",
       "| 2 | Di    | 21.0  |  TRUE |\n",
       "\n"
      ],
      "text/plain": [
       "  tage temp regen\n",
       "5 Fr   25.0  TRUE\n",
       "4 Do   24.3 FALSE\n",
       "3 Mi   23.0 FALSE\n",
       "1 Mo   22.2  TRUE\n",
       "2 Di   21.0  TRUE"
      ]
     },
     "metadata": {},
     "output_type": "display_data"
    }
   ],
   "source": [
    "df[abst.temp,]"
   ]
  },
  {
   "cell_type": "markdown",
   "metadata": {},
   "source": [
    "Wir könnten auch die anderen bereits bekannten Notationen verwenden, die wir in dieser Lektion gelernt haben:"
   ]
  },
  {
   "cell_type": "code",
   "execution_count": 23,
   "metadata": {},
   "outputs": [
    {
     "data": {
      "text/html": [
       "<table>\n",
       "<thead><tr><th></th><th scope=col>tage</th><th scope=col>temp</th><th scope=col>regen</th></tr></thead>\n",
       "<tbody>\n",
       "\t<tr><th scope=row>2</th><td>Di   </td><td>21.0 </td><td> TRUE</td></tr>\n",
       "\t<tr><th scope=row>1</th><td>Mo   </td><td>22.2 </td><td> TRUE</td></tr>\n",
       "\t<tr><th scope=row>3</th><td>Mi   </td><td>23.0 </td><td>FALSE</td></tr>\n",
       "\t<tr><th scope=row>4</th><td>Do   </td><td>24.3 </td><td>FALSE</td></tr>\n",
       "\t<tr><th scope=row>5</th><td>Fr   </td><td>25.0 </td><td> TRUE</td></tr>\n",
       "</tbody>\n",
       "</table>\n"
      ],
      "text/latex": [
       "\\begin{tabular}{r|lll}\n",
       "  & tage & temp & regen\\\\\n",
       "\\hline\n",
       "\t2 & Di    & 21.0  &  TRUE\\\\\n",
       "\t1 & Mo    & 22.2  &  TRUE\\\\\n",
       "\t3 & Mi    & 23.0  & FALSE\\\\\n",
       "\t4 & Do    & 24.3  & FALSE\\\\\n",
       "\t5 & Fr    & 25.0  &  TRUE\\\\\n",
       "\\end{tabular}\n"
      ],
      "text/markdown": [
       "\n",
       "| <!--/--> | tage | temp | regen |\n",
       "|---|---|---|---|\n",
       "| 2 | Di    | 21.0  |  TRUE |\n",
       "| 1 | Mo    | 22.2  |  TRUE |\n",
       "| 3 | Mi    | 23.0  | FALSE |\n",
       "| 4 | Do    | 24.3  | FALSE |\n",
       "| 5 | Fr    | 25.0  |  TRUE |\n",
       "\n"
      ],
      "text/plain": [
       "  tage temp regen\n",
       "2 Di   21.0  TRUE\n",
       "1 Mo   22.2  TRUE\n",
       "3 Mi   23.0 FALSE\n",
       "4 Do   24.3 FALSE\n",
       "5 Fr   25.0  TRUE"
      ]
     },
     "metadata": {},
     "output_type": "display_data"
    }
   ],
   "source": [
    "sort.temp <- order(df$temp)\n",
    "df[sort.temp,]"
   ]
  },
  {
   "cell_type": "markdown",
   "metadata": {},
   "source": [
    "Herzlichen Glückwunsch! Sie sind mit Lektion 19 fertig!"
   ]
  }
 ],
 "metadata": {
  "kernelspec": {
   "display_name": "R",
   "language": "R",
   "name": "ir"
  },
  "language_info": {
   "codemirror_mode": "r",
   "file_extension": ".r",
   "mimetype": "text/x-r-source",
   "name": "R",
   "pygments_lexer": "r",
   "version": "3.6.1"
  }
 },
 "nbformat": 4,
 "nbformat_minor": 1
}
