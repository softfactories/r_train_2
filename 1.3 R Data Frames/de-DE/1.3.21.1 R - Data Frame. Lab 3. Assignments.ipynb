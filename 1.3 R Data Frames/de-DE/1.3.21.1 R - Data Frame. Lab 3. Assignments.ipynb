{
 "cells": [
  {
   "cell_type": "markdown",
   "metadata": {},
   "source": [
    "# Tag 1. Kapitel 3. Data Frame\n",
    "\n",
    "## Lab3. R Data Frames Übung\n",
    "\n",
    "In dieser Übnung überprüfen wir dein Wissen zu den Data Frames! Folge den Anweisungen und löse die Aufgaben."
   ]
  },
  {
   "cell_type": "markdown",
   "metadata": {
    "collapsed": true
   },
   "source": [
    "**Erstelle den folgenden Data Frame durch die Nutzung von Vektoren und der data.frame Funktion:**"
   ]
  },
  {
   "cell_type": "code",
   "execution_count": null,
   "metadata": {},
   "outputs": [],
   "source": []
  },
  {
   "cell_type": "markdown",
   "metadata": {
    "collapsed": true
   },
   "source": [
    "**Überprüfe ob mtcars ein Data Frame ist, indem du is.data.frame() nutzt**"
   ]
  },
  {
   "cell_type": "code",
   "execution_count": null,
   "metadata": {},
   "outputs": [],
   "source": []
  },
  {
   "cell_type": "markdown",
   "metadata": {},
   "source": [
    "**Verwende as.data.frame(), um eine Matrix in einen Data Frame umzuwandeln: **"
   ]
  },
  {
   "cell_type": "code",
   "execution_count": null,
   "metadata": {},
   "outputs": [],
   "source": []
  },
  {
   "cell_type": "markdown",
   "metadata": {},
   "source": [
    "** Setze eine Variable df gleich dem eingebauten Data Frame mtcars. Für den Rest der Übung werden wir diese Variable verwenden.**"
   ]
  },
  {
   "cell_type": "code",
   "execution_count": null,
   "metadata": {},
   "outputs": [],
   "source": []
  },
  {
   "cell_type": "markdown",
   "metadata": {},
   "source": [
    "**Zeige die ersten 6 Zeilen von df an**"
   ]
  },
  {
   "cell_type": "code",
   "execution_count": null,
   "metadata": {},
   "outputs": [],
   "source": []
  },
  {
   "cell_type": "markdown",
   "metadata": {},
   "source": [
    "**Was ist der durchschnittliche mpg Wert (Verbrauch) aller Autos?**"
   ]
  },
  {
   "cell_type": "code",
   "execution_count": null,
   "metadata": {},
   "outputs": [],
   "source": []
  },
  {
   "cell_type": "markdown",
   "metadata": {},
   "source": [
    "**Wähle die Zeilen, in denen die Autos 6 Zylinder (Spalte: cyl) haben**"
   ]
  },
  {
   "cell_type": "code",
   "execution_count": null,
   "metadata": {},
   "outputs": [],
   "source": []
  },
  {
   "cell_type": "markdown",
   "metadata": {},
   "source": [
    "**Wähle die Spalten am, gear, und carb**"
   ]
  },
  {
   "cell_type": "code",
   "execution_count": null,
   "metadata": {},
   "outputs": [],
   "source": []
  },
  {
   "cell_type": "markdown",
   "metadata": {},
   "source": [
    "**Erstelle eine neue Spalte \"performance\", die durch hp/wt berechnet wird**"
   ]
  },
  {
   "cell_type": "code",
   "execution_count": null,
   "metadata": {},
   "outputs": [],
   "source": []
  },
  {
   "cell_type": "code",
   "execution_count": null,
   "metadata": {},
   "outputs": [],
   "source": []
  },
  {
   "cell_type": "markdown",
   "metadata": {},
   "source": [
    "**Die neue Performance Spalte wird Werte mit mehreren Dezimalstellen beinhalten. Finde heraus, wie du diese mit `round()` auf 2 Nachkommastellen reduzieren kannst**"
   ]
  },
  {
   "cell_type": "code",
   "execution_count": null,
   "metadata": {},
   "outputs": [],
   "source": []
  },
  {
   "cell_type": "code",
   "execution_count": null,
   "metadata": {},
   "outputs": [],
   "source": []
  },
  {
   "cell_type": "markdown",
   "metadata": {},
   "source": [
    "** Was ist der durchschnittliche mpg Wert für Autos mit mehr als 100 PS (en. hp) und einem wt-Wert über 2.5?**"
   ]
  },
  {
   "cell_type": "code",
   "execution_count": null,
   "metadata": {},
   "outputs": [],
   "source": []
  },
  {
   "cell_type": "code",
   "execution_count": null,
   "metadata": {},
   "outputs": [],
   "source": []
  },
  {
   "cell_type": "markdown",
   "metadata": {},
   "source": [
    "**Wie ist der mpg (Verbrauch) des Hornet Sportabout? **"
   ]
  },
  {
   "cell_type": "code",
   "execution_count": null,
   "metadata": {},
   "outputs": [],
   "source": []
  },
  {
   "cell_type": "markdown",
   "metadata": {},
   "source": [
    "### In/aus Zwischenablage (Clipboard) schreiben/lesen\n",
    "\n",
    "TODO-Liste:\n",
    "\n",
    "* Gebe den aktuellen df Data Frame aus\n",
    "* Speichere df Data Frame in der Zwischenablage (Clipboard) ab\n",
    "* In einer leeren Excel-Arbeitsmappe (Sheet) die Daten aus der Zwischenablage holen (Ctrl+V)\n",
    "* Passe einige Werte an und/oder füge neue Datensätze in Excel hinzu \n",
    "* Wähle neuen Datensatz in Excel aus und speichere es in der Zwischenablage (Ctrl+C)\n",
    "* Lese angepasste Daten aus der Zwischenablage in einen neuen Data Frame aus\n",
    "* Gebe neu geladene angepasste Daten aus\n",
    "\n",
    "*Tipp: du kannst Lektion 1.3.20.2 als Referenz benutzen*\n",
    "\n",
    "**Fazit: mit schreiben/lesen in/aus Zwischenablage lässt sich Excel als bequemer Tool mit R-Umgebung kombinieren**"
   ]
  },
  {
   "cell_type": "code",
   "execution_count": null,
   "metadata": {},
   "outputs": [],
   "source": []
  },
  {
   "cell_type": "code",
   "execution_count": null,
   "metadata": {},
   "outputs": [],
   "source": []
  },
  {
   "cell_type": "code",
   "execution_count": null,
   "metadata": {},
   "outputs": [],
   "source": []
  },
  {
   "cell_type": "markdown",
   "metadata": {},
   "source": [
    "## In/aus CSV-Datei schreiben/lesen\n",
    "\n",
    "TODO-Liste:\n",
    "\n",
    "* Speichere df Data Frame in einer CSV-Datei ab\n",
    "* Lese gespeicherte CSV-Datei in einen neuen Data Frame zurück und gebe die erste geladene Datensätze aus"
   ]
  },
  {
   "cell_type": "code",
   "execution_count": null,
   "metadata": {},
   "outputs": [],
   "source": []
  },
  {
   "cell_type": "code",
   "execution_count": null,
   "metadata": {},
   "outputs": [],
   "source": []
  },
  {
   "cell_type": "markdown",
   "metadata": {},
   "source": [
    "## In/aus Excel-Datei schreiben/lesen\n",
    "\n",
    "TODO-Liste:\n",
    "\n",
    "* Lade ggf. Excel-Paket und Bibliothek (library) \n",
    "* Speichere df Data Frame in einer Excel-Datei ab\n",
    "* Lese gespeicherte Excel-Datei in einen neuen Data Frame zurück und gebe die erste geladene Datensätze aus"
   ]
  },
  {
   "cell_type": "code",
   "execution_count": null,
   "metadata": {},
   "outputs": [],
   "source": []
  },
  {
   "cell_type": "code",
   "execution_count": null,
   "metadata": {},
   "outputs": [],
   "source": []
  },
  {
   "cell_type": "code",
   "execution_count": null,
   "metadata": {},
   "outputs": [],
   "source": []
  },
  {
   "cell_type": "code",
   "execution_count": null,
   "metadata": {},
   "outputs": [],
   "source": []
  },
  {
   "cell_type": "markdown",
   "metadata": {},
   "source": [
    "Herzlichen Glückwunsch! Sie sind mit Lab 3. fertig."
   ]
  }
 ],
 "metadata": {
  "kernelspec": {
   "display_name": "R",
   "language": "R",
   "name": "ir"
  },
  "language_info": {
   "codemirror_mode": "r",
   "file_extension": ".r",
   "mimetype": "text/x-r-source",
   "name": "R",
   "pygments_lexer": "r",
   "version": "3.6.1"
  }
 },
 "nbformat": 4,
 "nbformat_minor": 1
}
