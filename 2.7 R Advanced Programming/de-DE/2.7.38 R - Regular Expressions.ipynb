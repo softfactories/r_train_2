{
 "cells": [
  {
   "cell_type": "markdown",
   "metadata": {},
   "source": [
    "# Tag 2. Kapitel 7. Fortgeschrittene Programmierung\n",
    "\n",
    "## Lektion 38. Reguläre Ausdrücke (Regular Expressions)\n",
    "\n",
    "Mit einem [Regulären Ausdruck](https://de.wikipedia.org/wiki/Regul%C3%A4rer_Ausdruck) (engl. Regular expression) kann man in Strings oder Vektoren von Strings, nach vorgegebenen Textmustern suchen bzw. die Textinhalte nach diesen Mustern zu ersetzen. In R gibt es dafür 7 nützliche Funktionen: \n",
    "\n",
    "\n",
    "**grep**(pattern, x, ignore.case = FALSE, perl = FALSE, value = FALSE,\n",
    "     fixed = FALSE, useBytes = FALSE, invert = FALSE)\n",
    "     \n",
    "**grepl**(pattern, x, ignore.case = FALSE, perl = FALSE,\n",
    "      fixed = FALSE, useBytes = FALSE)\n",
    "\n",
    "**sub**(pattern, replacement, x, ignore.case = FALSE, perl = FALSE,\n",
    "    fixed = FALSE, useBytes = FALSE)\n",
    "\n",
    "**gsub**(pattern, replacement, x, ignore.case = FALSE, perl = FALSE,\n",
    "     fixed = FALSE, useBytes = FALSE)\n",
    "\n",
    "**regexpr**(pattern, text, ignore.case = FALSE, perl = FALSE,\n",
    "        fixed = FALSE, useBytes = FALSE)\n",
    "\n",
    "**gregexpr**(pattern, text, ignore.case = FALSE, perl = FALSE,\n",
    "         fixed = FALSE, useBytes = FALSE)\n",
    "\n",
    "**regexec**(pattern, text, ignore.case = FALSE, perl = FALSE,\n",
    "        fixed = FALSE, useBytes = FALSE)"
   ]
  },
  {
   "cell_type": "code",
   "execution_count": 75,
   "metadata": {},
   "outputs": [],
   "source": [
    "# Hilfe und Details zu regulären ausdrücken aufrufen\n",
    "help('regexpr')"
   ]
  },
  {
   "cell_type": "markdown",
   "metadata": {},
   "source": [
    "Die **grep-** Funktion nimmt Ihren regulären Ausdruck als erstes Argument und den Eingabevektor als zweites Argument. Wenn Sie value = FALSE übergeben oder den value- Parameter weglassen, gibt grep einen neuen *Vektor mit den Indizes der Elemente* im Eingabevektor zurück, die (teilweise) mit dem regulären Ausdruck übereinstimmen könnten. Wenn Sie value = TRUE übergeben , gibt grep einen *Vektor mit Kopien der tatsächlichen Elemente* im Eingabevektor zurück, die (teilweise) übereinstimmen könnten."
   ]
  },
  {
   "cell_type": "code",
   "execution_count": 76,
   "metadata": {},
   "outputs": [
    {
     "data": {
      "text/html": [
       "<ol class=list-inline>\n",
       "\t<li>1</li>\n",
       "\t<li>3</li>\n",
       "\t<li>4</li>\n",
       "\t<li>5</li>\n",
       "</ol>\n"
      ],
      "text/latex": [
       "\\begin{enumerate*}\n",
       "\\item 1\n",
       "\\item 3\n",
       "\\item 4\n",
       "\\item 5\n",
       "\\end{enumerate*}\n"
      ],
      "text/markdown": [
       "1. 1\n",
       "2. 3\n",
       "3. 4\n",
       "4. 5\n",
       "\n",
       "\n"
      ],
      "text/plain": [
       "[1] 1 3 4 5"
      ]
     },
     "metadata": {},
     "output_type": "display_data"
    },
    {
     "data": {
      "text/html": [
       "<ol class=list-inline>\n",
       "\t<li>4</li>\n",
       "\t<li>5</li>\n",
       "</ol>\n"
      ],
      "text/latex": [
       "\\begin{enumerate*}\n",
       "\\item 4\n",
       "\\item 5\n",
       "\\end{enumerate*}\n"
      ],
      "text/markdown": [
       "1. 4\n",
       "2. 5\n",
       "\n",
       "\n"
      ],
      "text/plain": [
       "[1] 4 5"
      ]
     },
     "metadata": {},
     "output_type": "display_data"
    }
   ],
   "source": [
    "# Suchen und Indizen ausgeben \n",
    "grep (\"a+\", c (\"abc\", \"def\", \"cba a\", \"aa\", \"aaa\"), value = FALSE) # mind. ein \"a\" wird gesucht\n",
    "grep (\"a{2}\", c (\"abc\", \"def\", \"cba a\", \"aa\", \"aaa\"), value = FALSE) # mind. 2 \"a\" werden gesucht"
   ]
  },
  {
   "cell_type": "code",
   "execution_count": 77,
   "metadata": {},
   "outputs": [
    {
     "data": {
      "text/html": [
       "<ol class=list-inline>\n",
       "\t<li>'abc'</li>\n",
       "\t<li>'cba a'</li>\n",
       "\t<li>'aa'</li>\n",
       "\t<li>'aaa'</li>\n",
       "</ol>\n"
      ],
      "text/latex": [
       "\\begin{enumerate*}\n",
       "\\item 'abc'\n",
       "\\item 'cba a'\n",
       "\\item 'aa'\n",
       "\\item 'aaa'\n",
       "\\end{enumerate*}\n"
      ],
      "text/markdown": [
       "1. 'abc'\n",
       "2. 'cba a'\n",
       "3. 'aa'\n",
       "4. 'aaa'\n",
       "\n",
       "\n"
      ],
      "text/plain": [
       "[1] \"abc\"   \"cba a\" \"aa\"    \"aaa\"  "
      ]
     },
     "metadata": {},
     "output_type": "display_data"
    },
    {
     "data": {
      "text/html": [
       "<ol class=list-inline>\n",
       "\t<li>'aa'</li>\n",
       "\t<li>'aaa'</li>\n",
       "</ol>\n"
      ],
      "text/latex": [
       "\\begin{enumerate*}\n",
       "\\item 'aa'\n",
       "\\item 'aaa'\n",
       "\\end{enumerate*}\n"
      ],
      "text/markdown": [
       "1. 'aa'\n",
       "2. 'aaa'\n",
       "\n",
       "\n"
      ],
      "text/plain": [
       "[1] \"aa\"  \"aaa\""
      ]
     },
     "metadata": {},
     "output_type": "display_data"
    }
   ],
   "source": [
    "# Suchen und Werte ausgeben \n",
    "grep (\"a+\", c (\"abc\", \"def\", \"cba a\", \"aa\", \"aaa\"), value = TRUE) # mind. ein \"a\" wird gesucht\n",
    "grep (\"a{2}\", c (\"abc\", \"def\", \"cba a\", \"aa\", \"aaa\"), value = TRUE) # mind. 2 \"a\" werden gesucht"
   ]
  },
  {
   "cell_type": "markdown",
   "metadata": {},
   "source": [
    "Die **grepl-** Funktion verwendet dieselben Argumente wie die grep- Funktion, mit Ausnahme des nicht unterstützten value- Arguments. grepl gibt einen *logischen Vektor* mit der gleichen Länge wie der Eingabevektor zurück. Jedes Element im zurückgegebenen Vektor gibt an, ob der Regex eine Übereinstimmung im entsprechenden Zeichenfolgenelement im Eingabevektor finden konnte"
   ]
  },
  {
   "cell_type": "code",
   "execution_count": 78,
   "metadata": {},
   "outputs": [],
   "source": [
    "# Untersuchte Texte definieren\n",
    "text1 <- \"Hallo Welt!\"\n",
    "text2 <- \"Wir kommen um 8.30 an!\""
   ]
  },
  {
   "cell_type": "code",
   "execution_count": 79,
   "metadata": {},
   "outputs": [
    {
     "data": {
      "text/html": [
       "TRUE"
      ],
      "text/latex": [
       "TRUE"
      ],
      "text/markdown": [
       "TRUE"
      ],
      "text/plain": [
       "[1] TRUE"
      ]
     },
     "metadata": {},
     "output_type": "display_data"
    },
    {
     "data": {
      "text/html": [
       "FALSE"
      ],
      "text/latex": [
       "FALSE"
      ],
      "text/markdown": [
       "FALSE"
      ],
      "text/plain": [
       "[1] FALSE"
      ]
     },
     "metadata": {},
     "output_type": "display_data"
    }
   ],
   "source": [
    "# Prüfen, ob untersuchte Texte das \"Hallo\"-Wort enthalten\n",
    "grepl('Hallo',text1)\n",
    "grepl('Hallo',text2)"
   ]
  },
  {
   "cell_type": "code",
   "execution_count": 80,
   "metadata": {},
   "outputs": [
    {
     "data": {
      "text/html": [
       "FALSE"
      ],
      "text/latex": [
       "FALSE"
      ],
      "text/markdown": [
       "FALSE"
      ],
      "text/plain": [
       "[1] FALSE"
      ]
     },
     "metadata": {},
     "output_type": "display_data"
    },
    {
     "data": {
      "text/html": [
       "TRUE"
      ],
      "text/latex": [
       "TRUE"
      ],
      "text/markdown": [
       "TRUE"
      ],
      "text/plain": [
       "[1] TRUE"
      ]
     },
     "metadata": {},
     "output_type": "display_data"
    }
   ],
   "source": [
    "# Prüfen, ob untersuchte Texte Zahlen enthalten\n",
    "grepl('[0-9]+',text1)\n",
    "grepl('[0-9]+',text2)"
   ]
  },
  {
   "cell_type": "markdown",
   "metadata": {},
   "source": [
    "Das gleiche kann man natürlich auch für Vektoren anwenden:"
   ]
  },
  {
   "cell_type": "code",
   "execution_count": 81,
   "metadata": {},
   "outputs": [
    {
     "data": {
      "text/html": [
       "<ol class=list-inline>\n",
       "\t<li>'abc'</li>\n",
       "\t<li>'abc9'</li>\n",
       "\t<li>'fde11'</li>\n",
       "</ol>\n"
      ],
      "text/latex": [
       "\\begin{enumerate*}\n",
       "\\item 'abc'\n",
       "\\item 'abc9'\n",
       "\\item 'fde11'\n",
       "\\end{enumerate*}\n"
      ],
      "text/markdown": [
       "1. 'abc'\n",
       "2. 'abc9'\n",
       "3. 'fde11'\n",
       "\n",
       "\n"
      ],
      "text/plain": [
       "[1] \"abc\"   \"abc9\"  \"fde11\""
      ]
     },
     "metadata": {},
     "output_type": "display_data"
    }
   ],
   "source": [
    "txtVect1 = c(\"abc\", \"abc9\", \"fde11\")\n",
    "txtVect1"
   ]
  },
  {
   "cell_type": "code",
   "execution_count": 61,
   "metadata": {},
   "outputs": [
    {
     "data": {
      "text/html": [
       "<ol class=list-inline>\n",
       "\t<li>TRUE</li>\n",
       "\t<li>TRUE</li>\n",
       "\t<li>FALSE</li>\n",
       "</ol>\n"
      ],
      "text/latex": [
       "\\begin{enumerate*}\n",
       "\\item TRUE\n",
       "\\item TRUE\n",
       "\\item FALSE\n",
       "\\end{enumerate*}\n"
      ],
      "text/markdown": [
       "1. TRUE\n",
       "2. TRUE\n",
       "3. FALSE\n",
       "\n",
       "\n"
      ],
      "text/plain": [
       "[1]  TRUE  TRUE FALSE"
      ]
     },
     "metadata": {},
     "output_type": "display_data"
    }
   ],
   "source": [
    "# Prüfen, ob Vektor-Elemente \"ab\"-Literal enthalten\n",
    "grepl('ab',txtVect1)"
   ]
  },
  {
   "cell_type": "code",
   "execution_count": 62,
   "metadata": {},
   "outputs": [
    {
     "data": {
      "text/html": [
       "<ol class=list-inline>\n",
       "\t<li>FALSE</li>\n",
       "\t<li>TRUE</li>\n",
       "\t<li>TRUE</li>\n",
       "</ol>\n"
      ],
      "text/latex": [
       "\\begin{enumerate*}\n",
       "\\item FALSE\n",
       "\\item TRUE\n",
       "\\item TRUE\n",
       "\\end{enumerate*}\n"
      ],
      "text/markdown": [
       "1. FALSE\n",
       "2. TRUE\n",
       "3. TRUE\n",
       "\n",
       "\n"
      ],
      "text/plain": [
       "[1] FALSE  TRUE  TRUE"
      ]
     },
     "metadata": {},
     "output_type": "display_data"
    }
   ],
   "source": [
    "# Prüfen, ob Vektor-Elemente Zahlen enthalten\n",
    "grepl('[0-9]+',txtVect1)"
   ]
  },
  {
   "cell_type": "markdown",
   "metadata": {},
   "source": [
    "Die Funktion **regexpr** verwendet dieselben Argumente wie *grepl*-Funktion. regexpr gibt einen ganzzahligen Vektor mit der gleichen Länge wie der Eingabevektor zurück. Jedes Element im zurückgegebenen Vektor gibt die **Zeichenposition** in jedem entsprechenden Zeichenfolgenelement im Eingabevektor an, an der die **(erste) Regex-Übereinstimmung** gefunden wurde. Eine Übereinstimmung am Anfang der Zeichenfolge wird mit der Zeichenposition 1 angezeigt. Konnte der Regex in einer bestimmten Zeichenfolge keine Übereinstimmung finden, ist das entsprechende Element im Ergebnisvektor -1. Der zurückgegebene Vektor hat auch ein **match.length-** Attribut. Dies ist ein weiterer ganzzahliger Vektor mit der Anzahl der Zeichen in der (ersten) Regex-Übereinstimmung in jeder Zeichenfolge oder -1 für Zeichenfolgen, die nicht übereinstimmen \n",
    "\n",
    "*Tipp: match.length-Attribut bitte in R Studio testen*"
   ]
  },
  {
   "cell_type": "code",
   "execution_count": 63,
   "metadata": {},
   "outputs": [
    {
     "data": {
      "text/html": [
       "<ol class=list-inline>\n",
       "\t<li>1</li>\n",
       "\t<li>-1</li>\n",
       "\t<li>3</li>\n",
       "\t<li>1</li>\n",
       "</ol>\n"
      ],
      "text/latex": [
       "\\begin{enumerate*}\n",
       "\\item 1\n",
       "\\item -1\n",
       "\\item 3\n",
       "\\item 1\n",
       "\\end{enumerate*}\n"
      ],
      "text/markdown": [
       "1. 1\n",
       "2. -1\n",
       "3. 3\n",
       "4. 1\n",
       "\n",
       "\n"
      ],
      "text/plain": [
       "[1]  1 -1  3  1\n",
       "attr(,\"match.length\")\n",
       "[1]  1 -1  1  2\n",
       "attr(,\"index.type\")\n",
       "[1] \"chars\"\n",
       "attr(,\"useBytes\")\n",
       "[1] TRUE"
      ]
     },
     "metadata": {},
     "output_type": "display_data"
    }
   ],
   "source": [
    "match <- regexpr (\"a+\", c (\"abc\", \"def\", \"cba a\", \"aa\"), perl = TRUE)\n",
    "match"
   ]
  },
  {
   "cell_type": "markdown",
   "metadata": {},
   "source": [
    "Die **gregexpr-** Funktion ist dieselbe wie *regexpr*, findet jedoch **alle Übereinstimmungen** in jeder Zeichenfolge. Es wird ein Vektor mit der gleichen Länge wie der Eingabevektor zurückgegeben. Jedes Element ist ein anderer Vektor, wobei ein Element für jede Übereinstimmung in der Zeichenfolge die Zeichenposition angibt, an der diese Übereinstimmung gefunden wurde. Jedes Vektorelement im zurückgegebenen Vektor hat auch ein match.length- Attribut mit der Länge aller Übereinstimmungen. Wenn in einer bestimmten Zeichenfolge keine Übereinstimmungen gefunden werden konnten, ist das Element im zurückgegebenen Vektor immer noch ein Vektor, jedoch mit nur einem Element -1.\n",
    "\n",
    "*Tipp: match.length-Attribut bitte in R Studio testen*"
   ]
  },
  {
   "cell_type": "code",
   "execution_count": 64,
   "metadata": {},
   "outputs": [
    {
     "data": {
      "text/html": [
       "<ol>\n",
       "\t<li>1</li>\n",
       "\t<li>-1</li>\n",
       "\t<li><ol class=list-inline>\n",
       "\t<li>3</li>\n",
       "\t<li>5</li>\n",
       "</ol>\n",
       "</li>\n",
       "\t<li>1</li>\n",
       "</ol>\n"
      ],
      "text/latex": [
       "\\begin{enumerate}\n",
       "\\item 1\n",
       "\\item -1\n",
       "\\item \\begin{enumerate*}\n",
       "\\item 3\n",
       "\\item 5\n",
       "\\end{enumerate*}\n",
       "\n",
       "\\item 1\n",
       "\\end{enumerate}\n"
      ],
      "text/markdown": [
       "1. 1\n",
       "2. -1\n",
       "3. 1. 3\n",
       "2. 5\n",
       "\n",
       "\n",
       "\n",
       "4. 1\n",
       "\n",
       "\n"
      ],
      "text/plain": [
       "[[1]]\n",
       "[1] 1\n",
       "attr(,\"match.length\")\n",
       "[1] 1\n",
       "attr(,\"index.type\")\n",
       "[1] \"chars\"\n",
       "attr(,\"useBytes\")\n",
       "[1] TRUE\n",
       "\n",
       "[[2]]\n",
       "[1] -1\n",
       "attr(,\"match.length\")\n",
       "[1] -1\n",
       "attr(,\"index.type\")\n",
       "[1] \"chars\"\n",
       "attr(,\"useBytes\")\n",
       "[1] TRUE\n",
       "\n",
       "[[3]]\n",
       "[1] 3 5\n",
       "attr(,\"match.length\")\n",
       "[1] 1 1\n",
       "attr(,\"index.type\")\n",
       "[1] \"chars\"\n",
       "attr(,\"useBytes\")\n",
       "[1] TRUE\n",
       "\n",
       "[[4]]\n",
       "[1] 1\n",
       "attr(,\"match.length\")\n",
       "[1] 2\n",
       "attr(,\"index.type\")\n",
       "[1] \"chars\"\n",
       "attr(,\"useBytes\")\n",
       "[1] TRUE\n"
      ]
     },
     "metadata": {},
     "output_type": "display_data"
    }
   ],
   "source": [
    "gregexpr (\"a+\", c (\"abc\", \"def\", \"cba a\", \"aa\"), perl = TRUE)"
   ]
  },
  {
   "cell_type": "markdown",
   "metadata": {},
   "source": [
    "Die **sub-** Funktion verfügt über drei erforderliche Parameter: \n",
    "* eine Zeichenfolge mit dem regulären Ausdruck\n",
    "* eine Zeichenfolge mit dem Ersetzungstext\n",
    "* Eingabevektor. \n",
    "\n",
    "**sub**-Funktion  gibt einen neuen Vektor mit der gleichen Länge wie der Eingabevektor zurück. \n",
    "Wenn eine Regex-Übereinstimmung in einem Zeichenfolgenelement gefunden wurde, wird sie durch den Ersetzungstext ersetzt. \n",
    "**Nur die erste Übereinstimmung** in jedem Zeichenfolgenelement wird ersetzt. \n",
    "Wenn in einigen Zeichenfolgen keine Übereinstimmungen gefunden wurden, werden diese unverändert in den Ergebnisvektor kopiert."
   ]
  },
  {
   "cell_type": "code",
   "execution_count": 65,
   "metadata": {},
   "outputs": [
    {
     "data": {
      "text/html": [
       "<ol class=list-inline>\n",
       "\t<li>'r Tutorial, r Buch'</li>\n",
       "\t<li>'r Beispiel-Code, r Daten'</li>\n",
       "</ol>\n"
      ],
      "text/latex": [
       "\\begin{enumerate*}\n",
       "\\item 'r Tutorial, r Buch'\n",
       "\\item 'r Beispiel-Code, r Daten'\n",
       "\\end{enumerate*}\n"
      ],
      "text/markdown": [
       "1. 'r Tutorial, r Buch'\n",
       "2. 'r Beispiel-Code, r Daten'\n",
       "\n",
       "\n"
      ],
      "text/plain": [
       "[1] \"r Tutorial, r Buch\"       \"r Beispiel-Code, r Daten\""
      ]
     },
     "metadata": {},
     "output_type": "display_data"
    }
   ],
   "source": [
    "x <- c(\"r Tutorial, r Buch\", \"r Beispiel-Code, r Daten\")\n",
    "x"
   ]
  },
  {
   "cell_type": "code",
   "execution_count": 66,
   "metadata": {},
   "outputs": [
    {
     "data": {
      "text/html": [
       "<ol class=list-inline>\n",
       "\t<li>'HTML Tutorial, r Buch'</li>\n",
       "\t<li>'HTML Beispiel-Code, r Daten'</li>\n",
       "</ol>\n"
      ],
      "text/latex": [
       "\\begin{enumerate*}\n",
       "\\item 'HTML Tutorial, r Buch'\n",
       "\\item 'HTML Beispiel-Code, r Daten'\n",
       "\\end{enumerate*}\n"
      ],
      "text/markdown": [
       "1. 'HTML Tutorial, r Buch'\n",
       "2. 'HTML Beispiel-Code, r Daten'\n",
       "\n",
       "\n"
      ],
      "text/plain": [
       "[1] \"HTML Tutorial, r Buch\"       \"HTML Beispiel-Code, r Daten\""
      ]
     },
     "metadata": {},
     "output_type": "display_data"
    }
   ],
   "source": [
    "y <- sub(\"r \",\"HTML \", x)\n",
    "y"
   ]
  },
  {
   "cell_type": "markdown",
   "metadata": {},
   "source": [
    "Verwenden Sie **gsub** anstelle von *sub* , um **alle Regex-Übereinstimmungen in allen Zeichenfolgenelementen** in Ihrem Vektor zu ersetzen. Abgesehen davon, dass alle Übereinstimmungen ersetzt werden, funktioniert gsub genauso und verwendet genau die gleichen Argumente."
   ]
  },
  {
   "cell_type": "code",
   "execution_count": 67,
   "metadata": {},
   "outputs": [
    {
     "data": {
      "text/html": [
       "<ol class=list-inline>\n",
       "\t<li>'HTML Tutorial, HTML Buch'</li>\n",
       "\t<li>'HTML Beispiel-Code, HTML Daten'</li>\n",
       "</ol>\n"
      ],
      "text/latex": [
       "\\begin{enumerate*}\n",
       "\\item 'HTML Tutorial, HTML Buch'\n",
       "\\item 'HTML Beispiel-Code, HTML Daten'\n",
       "\\end{enumerate*}\n"
      ],
      "text/markdown": [
       "1. 'HTML Tutorial, HTML Buch'\n",
       "2. 'HTML Beispiel-Code, HTML Daten'\n",
       "\n",
       "\n"
      ],
      "text/plain": [
       "[1] \"HTML Tutorial, HTML Buch\"       \"HTML Beispiel-Code, HTML Daten\""
      ]
     },
     "metadata": {},
     "output_type": "display_data"
    }
   ],
   "source": [
    "z <- gsub(\"r \",\"HTML \", x)\n",
    "z"
   ]
  },
  {
   "cell_type": "markdown",
   "metadata": {},
   "source": [
    "Sie können auch Gruppierung beim Ersetzen anwenden:"
   ]
  },
  {
   "cell_type": "code",
   "execution_count": 83,
   "metadata": {},
   "outputs": [
    {
     "data": {
      "text/html": [
       "<ol class=list-inline>\n",
       "\t<li>'abc'</li>\n",
       "\t<li>'def'</li>\n",
       "\t<li>'cba a'</li>\n",
       "\t<li>'aa'</li>\n",
       "</ol>\n"
      ],
      "text/latex": [
       "\\begin{enumerate*}\n",
       "\\item 'abc'\n",
       "\\item 'def'\n",
       "\\item 'cba a'\n",
       "\\item 'aa'\n",
       "\\end{enumerate*}\n"
      ],
      "text/markdown": [
       "1. 'abc'\n",
       "2. 'def'\n",
       "3. 'cba a'\n",
       "4. 'aa'\n",
       "\n",
       "\n"
      ],
      "text/plain": [
       "[1] \"abc\"   \"def\"   \"cba a\" \"aa\"   "
      ]
     },
     "metadata": {},
     "output_type": "display_data"
    },
    {
     "data": {
      "text/html": [
       "<ol class=list-inline>\n",
       "\t<li>'[a]bc'</li>\n",
       "\t<li>'def'</li>\n",
       "\t<li>'cb[a] a'</li>\n",
       "\t<li>'[aa]'</li>\n",
       "</ol>\n"
      ],
      "text/latex": [
       "\\begin{enumerate*}\n",
       "\\item '{[}a{]}bc'\n",
       "\\item 'def'\n",
       "\\item 'cb{[}a{]} a'\n",
       "\\item '{[}aa{]}'\n",
       "\\end{enumerate*}\n"
      ],
      "text/markdown": [
       "1. '[a]bc'\n",
       "2. 'def'\n",
       "3. 'cb[a] a'\n",
       "4. '[aa]'\n",
       "\n",
       "\n"
      ],
      "text/plain": [
       "[1] \"[a]bc\"   \"def\"     \"cb[a] a\" \"[aa]\"   "
      ]
     },
     "metadata": {},
     "output_type": "display_data"
    },
    {
     "data": {
      "text/html": [
       "<ol class=list-inline>\n",
       "\t<li>'[a]bc'</li>\n",
       "\t<li>'def'</li>\n",
       "\t<li>'cb[a] [a]'</li>\n",
       "\t<li>'[aa]'</li>\n",
       "</ol>\n"
      ],
      "text/latex": [
       "\\begin{enumerate*}\n",
       "\\item '{[}a{]}bc'\n",
       "\\item 'def'\n",
       "\\item 'cb{[}a{]} {[}a{]}'\n",
       "\\item '{[}aa{]}'\n",
       "\\end{enumerate*}\n"
      ],
      "text/markdown": [
       "1. '[a]bc'\n",
       "2. 'def'\n",
       "3. 'cb[a] [a]'\n",
       "4. '[aa]'\n",
       "\n",
       "\n"
      ],
      "text/plain": [
       "[1] \"[a]bc\"     \"def\"       \"cb[a] [a]\" \"[aa]\"     "
      ]
     },
     "metadata": {},
     "output_type": "display_data"
    }
   ],
   "source": [
    "# Alle gematchten \"a\"-s in Eckigen klammern einschliessen \n",
    "x <- c(\"abc\", \"def\", \"cba a\", \"aa\")\n",
    "x\n",
    "\n",
    "y = sub (\"(a+)\", \"[\\\\1]\", x, perl = TRUE)\n",
    "y\n",
    "\n",
    "z = gsub (\"(a+)\", \"[\\\\1]\", x, perl = TRUE)\n",
    "z"
   ]
  },
  {
   "cell_type": "code",
   "execution_count": 73,
   "metadata": {},
   "outputs": [
    {
     "data": {
      "text/html": [
       "<ol class=list-inline>\n",
       "\t<li>'[a]bc'</li>\n",
       "\t<li>'def'</li>\n",
       "\t<li>'cb[a] [a]'</li>\n",
       "\t<li>'[a][a]'</li>\n",
       "</ol>\n"
      ],
      "text/latex": [
       "\\begin{enumerate*}\n",
       "\\item '{[}a{]}bc'\n",
       "\\item 'def'\n",
       "\\item 'cb{[}a{]} {[}a{]}'\n",
       "\\item '{[}a{]}{[}a{]}'\n",
       "\\end{enumerate*}\n"
      ],
      "text/markdown": [
       "1. '[a]bc'\n",
       "2. 'def'\n",
       "3. 'cb[a] [a]'\n",
       "4. '[a][a]'\n",
       "\n",
       "\n"
      ],
      "text/plain": [
       "[1] \"[a]bc\"     \"def\"       \"cb[a] [a]\" \"[a][a]\"   "
      ]
     },
     "metadata": {},
     "output_type": "display_data"
    }
   ],
   "source": [
    "# Damit können Sie alle EINZLNE \"a\"-s ansprechen (vergleichen Sie 4. Element [aa] vs. [a][a])\n",
    "w = gsub (\"(a{1})\", \"[\\\\1]\", x, perl = TRUE)\n",
    "w"
   ]
  },
  {
   "cell_type": "markdown",
   "metadata": {},
   "source": [
    "Sie können auch \\U und \\L verwenden relevanten Text in Groß- oder Kleinbuchstaben zu ändern."
   ]
  },
  {
   "cell_type": "code",
   "execution_count": 82,
   "metadata": {},
   "outputs": [
    {
     "data": {
      "text/html": [
       "<ol class=list-inline>\n",
       "\t<li>'Abc'</li>\n",
       "\t<li>'def'</li>\n",
       "\t<li>'cbA a'</li>\n",
       "\t<li>'AA'</li>\n",
       "</ol>\n"
      ],
      "text/latex": [
       "\\begin{enumerate*}\n",
       "\\item 'Abc'\n",
       "\\item 'def'\n",
       "\\item 'cbA a'\n",
       "\\item 'AA'\n",
       "\\end{enumerate*}\n"
      ],
      "text/markdown": [
       "1. 'Abc'\n",
       "2. 'def'\n",
       "3. 'cbA a'\n",
       "4. 'AA'\n",
       "\n",
       "\n"
      ],
      "text/plain": [
       "[1] \"Abc\"   \"def\"   \"cbA a\" \"AA\"   "
      ]
     },
     "metadata": {},
     "output_type": "display_data"
    },
    {
     "data": {
      "text/html": [
       "<ol class=list-inline>\n",
       "\t<li>'abc'</li>\n",
       "\t<li>'def'</li>\n",
       "\t<li>'cba a'</li>\n",
       "\t<li>'aa'</li>\n",
       "</ol>\n"
      ],
      "text/latex": [
       "\\begin{enumerate*}\n",
       "\\item 'abc'\n",
       "\\item 'def'\n",
       "\\item 'cba a'\n",
       "\\item 'aa'\n",
       "\\end{enumerate*}\n"
      ],
      "text/markdown": [
       "1. 'abc'\n",
       "2. 'def'\n",
       "3. 'cba a'\n",
       "4. 'aa'\n",
       "\n",
       "\n"
      ],
      "text/plain": [
       "[1] \"abc\"   \"def\"   \"cba a\" \"aa\"   "
      ]
     },
     "metadata": {},
     "output_type": "display_data"
    }
   ],
   "source": [
    "sub (\"(a+)\", \"\\\\U\\\\1\", c(\"abc\", \"def\", \"cba a\", \"aa\"), perl = TRUE)\n",
    "gsub (\"(A+)\", \"\\\\L\\\\1\", c(\"Abc\", \"def\", \"cbA A\", \"AA\"), perl = TRUE)"
   ]
  },
  {
   "cell_type": "markdown",
   "metadata": {},
   "source": [
    "Weitere Informationen bekommen Sie, wenn Sie einfach help(\"regexpr\") angeben oder auf diese [Reqular-Expressions Webseite](http://www.regular-expressions.info/rlanguage.html).\n",
    "\n",
    "[Hier](https://digitalfortress.tech/tricks/top-15-commonly-used-regex/) können Sie z.B. einige nützliche Reguläre Ausdrücke nachschlagen."
   ]
  },
  {
   "cell_type": "markdown",
   "metadata": {},
   "source": [
    "Herzlichen Glückwunsch! Sie sind mit Lektion 38. fertig!"
   ]
  }
 ],
 "metadata": {
  "kernelspec": {
   "display_name": "R",
   "language": "R",
   "name": "ir"
  },
  "language_info": {
   "codemirror_mode": "r",
   "file_extension": ".r",
   "mimetype": "text/x-r-source",
   "name": "R",
   "pygments_lexer": "r",
   "version": "3.6.1"
  }
 },
 "nbformat": 4,
 "nbformat_minor": 1
}
