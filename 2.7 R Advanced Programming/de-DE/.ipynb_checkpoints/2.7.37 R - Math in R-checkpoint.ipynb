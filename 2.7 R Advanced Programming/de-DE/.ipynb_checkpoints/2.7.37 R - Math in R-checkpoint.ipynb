{
 "cells": [
  {
   "cell_type": "markdown",
   "metadata": {},
   "source": [
    "# Tag 2. Kapitel 3. Fortgeschrittene Programmierung\n",
    "\n",
    "## Lektion 37. Eingebaute R Features - Mathematik\n",
    "\n",
    "Es wurden bereits einige eingebaute mathematische Funktionen und Features in R präsentiert. Schauen wir dennoch uns noch einige davon an:\n",
    "\n",
    "* abs(): Berechnet den Betrag (absoluten Wert)\n",
    "* sum(): Summiert alle eingegbene Werte \n",
    "* mean(): Berechnet das arithmetische Mittel \n",
    "* round(): Rundet eingegbene Werte\n",
    "\n",
    "Hier ein paar kurze Beispiele zu allen davon:"
   ]
  },
  {
   "cell_type": "code",
   "execution_count": 1,
   "metadata": {},
   "outputs": [
    {
     "data": {
      "text/html": [
       "2"
      ],
      "text/latex": [
       "2"
      ],
      "text/markdown": [
       "2"
      ],
      "text/plain": [
       "[1] 2"
      ]
     },
     "metadata": {},
     "output_type": "display_data"
    },
    {
     "data": {
      "text/html": [
       "2"
      ],
      "text/latex": [
       "2"
      ],
      "text/markdown": [
       "2"
      ],
      "text/plain": [
       "[1] 2"
      ]
     },
     "metadata": {},
     "output_type": "display_data"
    },
    {
     "data": {
      "text/html": [
       "100"
      ],
      "text/latex": [
       "100"
      ],
      "text/markdown": [
       "100"
      ],
      "text/plain": [
       "[1] 100"
      ]
     },
     "metadata": {},
     "output_type": "display_data"
    },
    {
     "data": {
      "text/html": [
       "100"
      ],
      "text/latex": [
       "100"
      ],
      "text/markdown": [
       "100"
      ],
      "text/plain": [
       "[1] 100"
      ]
     },
     "metadata": {},
     "output_type": "display_data"
    }
   ],
   "source": [
    "abs(-2)\n",
    "abs(2)\n",
    "abs(-100)\n",
    "abs(100)\n",
    "# usw."
   ]
  },
  {
   "cell_type": "code",
   "execution_count": 9,
   "metadata": {},
   "outputs": [],
   "source": [
    "v <- c(-100.2, 100.2, 0, -2.7, 2.7, 10,-1.5)"
   ]
  },
  {
   "cell_type": "code",
   "execution_count": 10,
   "metadata": {},
   "outputs": [
    {
     "data": {
      "text/html": [
       "<ol class=list-inline>\n",
       "\t<li>-100.2</li>\n",
       "\t<li>100.2</li>\n",
       "\t<li>0</li>\n",
       "\t<li>-2.7</li>\n",
       "\t<li>2.7</li>\n",
       "\t<li>10</li>\n",
       "\t<li>-1.5</li>\n",
       "</ol>\n"
      ],
      "text/latex": [
       "\\begin{enumerate*}\n",
       "\\item -100.2\n",
       "\\item 100.2\n",
       "\\item 0\n",
       "\\item -2.7\n",
       "\\item 2.7\n",
       "\\item 10\n",
       "\\item -1.5\n",
       "\\end{enumerate*}\n"
      ],
      "text/markdown": [
       "1. -100.2\n",
       "2. 100.2\n",
       "3. 0\n",
       "4. -2.7\n",
       "5. 2.7\n",
       "6. 10\n",
       "7. -1.5\n",
       "\n",
       "\n"
      ],
      "text/plain": [
       "[1] -100.2  100.2    0.0   -2.7    2.7   10.0   -1.5"
      ]
     },
     "metadata": {},
     "output_type": "display_data"
    },
    {
     "data": {
      "text/html": [
       "<ol class=list-inline>\n",
       "\t<li>100.2</li>\n",
       "\t<li>100.2</li>\n",
       "\t<li>0</li>\n",
       "\t<li>2.7</li>\n",
       "\t<li>2.7</li>\n",
       "\t<li>10</li>\n",
       "\t<li>1.5</li>\n",
       "</ol>\n"
      ],
      "text/latex": [
       "\\begin{enumerate*}\n",
       "\\item 100.2\n",
       "\\item 100.2\n",
       "\\item 0\n",
       "\\item 2.7\n",
       "\\item 2.7\n",
       "\\item 10\n",
       "\\item 1.5\n",
       "\\end{enumerate*}\n"
      ],
      "text/markdown": [
       "1. 100.2\n",
       "2. 100.2\n",
       "3. 0\n",
       "4. 2.7\n",
       "5. 2.7\n",
       "6. 10\n",
       "7. 1.5\n",
       "\n",
       "\n"
      ],
      "text/plain": [
       "[1] 100.2 100.2   0.0   2.7   2.7  10.0   1.5"
      ]
     },
     "metadata": {},
     "output_type": "display_data"
    }
   ],
   "source": [
    "v\n",
    "abs(v)"
   ]
  },
  {
   "cell_type": "code",
   "execution_count": 11,
   "metadata": {},
   "outputs": [
    {
     "data": {
      "text/html": [
       "8.5"
      ],
      "text/latex": [
       "8.5"
      ],
      "text/markdown": [
       "8.5"
      ],
      "text/plain": [
       "[1] 8.5"
      ]
     },
     "metadata": {},
     "output_type": "display_data"
    }
   ],
   "source": [
    "sum(v)"
   ]
  },
  {
   "cell_type": "code",
   "execution_count": 12,
   "metadata": {},
   "outputs": [
    {
     "data": {
      "text/html": [
       "1.21428571428571"
      ],
      "text/latex": [
       "1.21428571428571"
      ],
      "text/markdown": [
       "1.21428571428571"
      ],
      "text/plain": [
       "[1] 1.214286"
      ]
     },
     "metadata": {},
     "output_type": "display_data"
    }
   ],
   "source": [
    "mean(v)"
   ]
  },
  {
   "cell_type": "code",
   "execution_count": 16,
   "metadata": {},
   "outputs": [
    {
     "data": {
      "text/html": [
       "1"
      ],
      "text/latex": [
       "1"
      ],
      "text/markdown": [
       "1"
      ],
      "text/plain": [
       "[1] 1"
      ]
     },
     "metadata": {},
     "output_type": "display_data"
    },
    {
     "data": {
      "text/html": [
       "2"
      ],
      "text/latex": [
       "2"
      ],
      "text/markdown": [
       "2"
      ],
      "text/plain": [
       "[1] 2"
      ]
     },
     "metadata": {},
     "output_type": "display_data"
    },
    {
     "data": {
      "text/html": [
       "2"
      ],
      "text/latex": [
       "2"
      ],
      "text/markdown": [
       "2"
      ],
      "text/plain": [
       "[1] 2"
      ]
     },
     "metadata": {},
     "output_type": "display_data"
    }
   ],
   "source": [
    "round(1.3)\n",
    "round(1.5)\n",
    "round(1.9)"
   ]
  },
  {
   "cell_type": "code",
   "execution_count": 17,
   "metadata": {},
   "outputs": [
    {
     "data": {
      "text/html": [
       "<ol class=list-inline>\n",
       "\t<li>-100.2</li>\n",
       "\t<li>100.2</li>\n",
       "\t<li>0</li>\n",
       "\t<li>-2.7</li>\n",
       "\t<li>2.7</li>\n",
       "\t<li>10</li>\n",
       "\t<li>-1.5</li>\n",
       "</ol>\n"
      ],
      "text/latex": [
       "\\begin{enumerate*}\n",
       "\\item -100.2\n",
       "\\item 100.2\n",
       "\\item 0\n",
       "\\item -2.7\n",
       "\\item 2.7\n",
       "\\item 10\n",
       "\\item -1.5\n",
       "\\end{enumerate*}\n"
      ],
      "text/markdown": [
       "1. -100.2\n",
       "2. 100.2\n",
       "3. 0\n",
       "4. -2.7\n",
       "5. 2.7\n",
       "6. 10\n",
       "7. -1.5\n",
       "\n",
       "\n"
      ],
      "text/plain": [
       "[1] -100.2  100.2    0.0   -2.7    2.7   10.0   -1.5"
      ]
     },
     "metadata": {},
     "output_type": "display_data"
    },
    {
     "data": {
      "text/html": [
       "<ol class=list-inline>\n",
       "\t<li>-100</li>\n",
       "\t<li>100</li>\n",
       "\t<li>0</li>\n",
       "\t<li>-3</li>\n",
       "\t<li>3</li>\n",
       "\t<li>10</li>\n",
       "\t<li>-2</li>\n",
       "</ol>\n"
      ],
      "text/latex": [
       "\\begin{enumerate*}\n",
       "\\item -100\n",
       "\\item 100\n",
       "\\item 0\n",
       "\\item -3\n",
       "\\item 3\n",
       "\\item 10\n",
       "\\item -2\n",
       "\\end{enumerate*}\n"
      ],
      "text/markdown": [
       "1. -100\n",
       "2. 100\n",
       "3. 0\n",
       "4. -3\n",
       "5. 3\n",
       "6. 10\n",
       "7. -2\n",
       "\n",
       "\n"
      ],
      "text/plain": [
       "[1] -100  100    0   -3    3   10   -2"
      ]
     },
     "metadata": {},
     "output_type": "display_data"
    }
   ],
   "source": [
    "v\n",
    "round(v)"
   ]
  },
  {
   "cell_type": "markdown",
   "metadata": {},
   "source": [
    "Übersicht weiterer mathematischer Funktionen seht ihr hier:\n",
    "\n",
    "<h2>Numerische Funktionen  </h2>\n",
    "\t\t\t\t<p>\n",
    "\t\t\t\t<table border=\"0\">\n",
    "                  <tr>\n",
    "                    <td valign=\"top\"><strong>Funktion</strong></td>\n",
    "                    <td valign=\"top\"><strong>Beschreibung</strong></td>\n",
    "                  </tr>\n",
    "                  <tr>\n",
    "                    <td valign=\"top\"><strong>abs(</strong><em>x</em><strong>)</strong></td>\n",
    "                    <td valign=\"top\">absoluter Wert</td>\n",
    "                  </tr>\n",
    "                  <tr>\n",
    "                    <td valign=\"top\"><strong>sqrt(</strong><em>x</em><strong>)</strong></td>\n",
    "                    <td valign=\"top\">Quadratwurzel</td>\n",
    "                  </tr>\n",
    "                  <tr>\n",
    "                    <td valign=\"top\"><strong>ceiling(</strong><em>x</em><strong>)</strong></td>\n",
    "                    <td valign=\"top\">ceiling(3.475) ist 4 </td>\n",
    "                  </tr>\n",
    "                  <tr>\n",
    "                    <td valign=\"top\"><strong>floor(</strong><em>x</em><strong>)</strong></td>\n",
    "                    <td valign=\"top\">floor(3.475) ist 3 </td>\n",
    "                  </tr>\n",
    "                  <tr>\n",
    "                    <td valign=\"top\"><strong>trunc(</strong><em>x</em><strong>)</strong></td>\n",
    "                    <td valign=\"top\">trunc(5.99) ist 5 </td>\n",
    "                  </tr>\n",
    "                  <tr>\n",
    "                    <td valign=\"top\"><strong>round(</strong><em>x</em><strong>, digits=</strong><em>n</em><strong>) </strong></td>\n",
    "                    <td valign=\"top\">round(3.475, digits=2) ist 3.48 </td>\n",
    "                  </tr>\n",
    "                  <tr>\n",
    "                    <td valign=\"top\"><strong>signif(</strong><em>x</em><strong>, digits=</strong><em>n</em><strong>) </strong></td>\n",
    "                    <td valign=\"top\">signif(3.475, digits=2) ist 3.5 </td>\n",
    "                  </tr>\n",
    "                  <tr>\n",
    "                    <td valign=\"top\"><strong>cos(</strong><em>x</em><strong>), sin(</strong><em>x</em><strong>), tan(</strong><em>x</em><strong>) </strong></td>\n",
    "                    <td valign=\"top\">also acos(<em>x</em>), cosh(<em>x</em>), acosh(<em>x</em>), etc. </td>\n",
    "                  </tr>\n",
    "                  <tr>\n",
    "                    <td valign=\"top\"><strong>log(</strong><em>x</em><strong>)</strong></td>\n",
    "                    <td valign=\"top\">natürlicher Logarithmus</td>\n",
    "                  </tr>\n",
    "                  <tr>\n",
    "                    <td valign=\"top\"><strong>log10(</strong><em>x</em><strong>)</strong></td>\n",
    "                    <td valign=\"top\">Logarithmus </td>\n",
    "                  </tr>\n",
    "                  <tr>\n",
    "                    <td valign=\"top\"><strong>exp(</strong><em>x</em><strong>)</strong></td>\n",
    "                    <td valign=\"top\">e^<em>x</em></td>\n",
    "                  </tr>\n",
    "          </table>\n"
   ]
  },
  {
   "cell_type": "markdown",
   "metadata": {},
   "source": [
    "Außerdem könnt ihr in die Dokumentation von R schauen, um einen detaillierteren Überblick zu gewinnen, z.B.: "
   ]
  },
  {
   "cell_type": "code",
   "execution_count": 20,
   "metadata": {},
   "outputs": [],
   "source": [
    "help(ceiling)"
   ]
  },
  {
   "cell_type": "markdown",
   "metadata": {},
   "source": [
    "Herzlichen Glückwunsch! Sie sind mit Lektion 37. fertig!"
   ]
  }
 ],
 "metadata": {
  "kernelspec": {
   "display_name": "R",
   "language": "R",
   "name": "ir"
  },
  "language_info": {
   "codemirror_mode": "r",
   "file_extension": ".r",
   "mimetype": "text/x-r-source",
   "name": "R",
   "pygments_lexer": "r",
   "version": "3.6.1"
  }
 },
 "nbformat": 4,
 "nbformat_minor": 1
}
