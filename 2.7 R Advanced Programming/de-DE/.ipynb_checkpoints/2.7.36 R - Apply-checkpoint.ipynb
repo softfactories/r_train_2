{
 "cells": [
  {
   "cell_type": "markdown",
   "metadata": {},
   "source": [
    "# Tag 2. Kapitel 3. Fortgeschrittene Programmierung\n",
    "\n",
    "## Lektion 36. Apply\n",
    "\n",
    "In dieser Lektion werden wir 3 verschiedene `apply()` Funktionen kennenlernen. Die grundsätzliche Idee von apply() ist es, eine Funktion auf ein iterierbares Objekt anzuwenden.\n",
    "\n",
    "Starten wir mit `lapply()`:\n",
    "\n",
    "## lapply()\n",
    "\n",
    "`lapply()` wird eine Funktion auf eine Liste oder einen Vektor anwenden:\n",
    "\n",
    "    lapply(X, FUN, ...)\n",
    "    \n",
    "wobei X die Liste/der Vektor ist und FUN die Funktion. Meh Infos erhalten wir in der Doku:"
   ]
  },
  {
   "cell_type": "code",
   "execution_count": 1,
   "metadata": {},
   "outputs": [],
   "source": [
    "help(lapply)"
   ]
  },
  {
   "cell_type": "markdown",
   "metadata": {},
   "source": [
    "Schauen wir uns dazu ein praktisches Beispiel an: eine selbsterstellte Funktion auf einen Vektor anwenden. Zuerst möchte ich euch deshalb eine Funktion (wir werden im Verlauf des Kurses immer wieder nützliche Funktionen wie diese kennenlernen) zeigen, die es uns erlaubt aus einem Vektor eine zufällige Zahl zu ziehen:"
   ]
  },
  {
   "cell_type": "code",
   "execution_count": 4,
   "metadata": {},
   "outputs": [
    {
     "data": {
      "text/html": [
       "6"
      ],
      "text/latex": [
       "6"
      ],
      "text/markdown": [
       "6"
      ],
      "text/plain": [
       "[1] 6"
      ]
     },
     "metadata": {},
     "output_type": "display_data"
    }
   ],
   "source": [
    "# Wählt eine Zufallszahl zwischen 1 und 10\n",
    "sample(x = 1:10,1)"
   ]
  },
  {
   "cell_type": "code",
   "execution_count": 18,
   "metadata": {},
   "outputs": [
    {
     "name": "stdout",
     "output_type": "stream",
     "text": [
      "[1] \"Vektor v:\"\n"
     ]
    },
    {
     "data": {
      "text/html": [
       "<ol class=list-inline>\n",
       "\t<li>11</li>\n",
       "\t<li>12</li>\n",
       "\t<li>13</li>\n",
       "\t<li>14</li>\n",
       "\t<li>15</li>\n",
       "</ol>\n"
      ],
      "text/latex": [
       "\\begin{enumerate*}\n",
       "\\item 11\n",
       "\\item 12\n",
       "\\item 13\n",
       "\\item 14\n",
       "\\item 15\n",
       "\\end{enumerate*}\n"
      ],
      "text/markdown": [
       "1. 11\n",
       "2. 12\n",
       "3. 13\n",
       "4. 14\n",
       "5. 15\n",
       "\n",
       "\n"
      ],
      "text/plain": [
       "[1] 11 12 13 14 15"
      ]
     },
     "metadata": {},
     "output_type": "display_data"
    },
    {
     "name": "stdout",
     "output_type": "stream",
     "text": [
      "[1] \"Vektor-Elemente v[i] (i = 1..5)\"\n"
     ]
    },
    {
     "data": {
      "text/html": [
       "11"
      ],
      "text/latex": [
       "11"
      ],
      "text/markdown": [
       "11"
      ],
      "text/plain": [
       "[1] 11"
      ]
     },
     "metadata": {},
     "output_type": "display_data"
    },
    {
     "data": {
      "text/html": [
       "12"
      ],
      "text/latex": [
       "12"
      ],
      "text/markdown": [
       "12"
      ],
      "text/plain": [
       "[1] 12"
      ]
     },
     "metadata": {},
     "output_type": "display_data"
    },
    {
     "data": {
      "text/html": [
       "13"
      ],
      "text/latex": [
       "13"
      ],
      "text/markdown": [
       "13"
      ],
      "text/plain": [
       "[1] 13"
      ]
     },
     "metadata": {},
     "output_type": "display_data"
    },
    {
     "data": {
      "text/html": [
       "14"
      ],
      "text/latex": [
       "14"
      ],
      "text/markdown": [
       "14"
      ],
      "text/plain": [
       "[1] 14"
      ]
     },
     "metadata": {},
     "output_type": "display_data"
    },
    {
     "data": {
      "text/html": [
       "15"
      ],
      "text/latex": [
       "15"
      ],
      "text/markdown": [
       "15"
      ],
      "text/plain": [
       "[1] 15"
      ]
     },
     "metadata": {},
     "output_type": "display_data"
    }
   ],
   "source": [
    "# definieren wir einen neuen Vektor\n",
    "v <- 11:15\n",
    "print(\"Vektor v:\")\n",
    "v\n",
    "# Einzelne Elemente des v-Vektors v[i] bei i = 1..5\n",
    "print(\"Vektor-Elemente v[i] (i = 1..5)\")\n",
    "v[1]\n",
    "v[2]\n",
    "v[3]\n",
    "v[4]\n",
    "v[5]"
   ]
  },
  {
   "cell_type": "code",
   "execution_count": 34,
   "metadata": {},
   "outputs": [],
   "source": [
    "# Eine Funktion wird definiert, die x-Argument mit einer Zufallszahl addiert\n",
    "addSample <- function(x){\n",
    "    # Erhalte eine zufällige Zahl\n",
    "    randomNumber <-sample(x=1:10,1)\n",
    "    \n",
    "    result <- x + randomNumber\n",
    "    \n",
    "    print(paste(\"Vektor-Element \", toString(x),\" + Zufallszahl \", toString(randomNumber), \" = \", result))\n",
    "    \n",
    "    # Addiere x und die zufällige Zahl und gebe es zurück\n",
    "    return(result)\n",
    "}"
   ]
  },
  {
   "cell_type": "code",
   "execution_count": 37,
   "metadata": {},
   "outputs": [
    {
     "name": "stdout",
     "output_type": "stream",
     "text": [
      "[1] \"Vektor-Element  11  + Zufallszahl  5  =  16\"\n",
      "[1] \"Vektor-Element  12  + Zufallszahl  10  =  22\"\n",
      "[1] \"Vektor-Element  13  + Zufallszahl  3  =  16\"\n",
      "[1] \"Vektor-Element  14  + Zufallszahl  7  =  21\"\n",
      "[1] \"Vektor-Element  15  + Zufallszahl  1  =  16\"\n"
     ]
    },
    {
     "data": {
      "text/html": [
       "<ol>\n",
       "\t<li>16</li>\n",
       "\t<li>22</li>\n",
       "\t<li>16</li>\n",
       "\t<li>21</li>\n",
       "\t<li>16</li>\n",
       "</ol>\n"
      ],
      "text/latex": [
       "\\begin{enumerate}\n",
       "\\item 16\n",
       "\\item 22\n",
       "\\item 16\n",
       "\\item 21\n",
       "\\item 16\n",
       "\\end{enumerate}\n"
      ],
      "text/markdown": [
       "1. 16\n",
       "2. 22\n",
       "3. 16\n",
       "4. 21\n",
       "5. 16\n",
       "\n",
       "\n"
      ],
      "text/plain": [
       "[[1]]\n",
       "[1] 16\n",
       "\n",
       "[[2]]\n",
       "[1] 22\n",
       "\n",
       "[[3]]\n",
       "[1] 16\n",
       "\n",
       "[[4]]\n",
       "[1] 21\n",
       "\n",
       "[[5]]\n",
       "[1] 16\n"
      ]
     },
     "metadata": {},
     "output_type": "display_data"
    }
   ],
   "source": [
    "# lapply() - ruft Funktion addSample(v[i]) fünf Mal auf mit jedem Vektor-Element v[1]..v[5]\n",
    "v2 <- lapply(v, addSample)\n",
    "v2"
   ]
  },
  {
   "cell_type": "markdown",
   "metadata": {},
   "source": [
    "## Anonyme Funktionen\n",
    "\n",
    "Du dürftes im letzen Beispiel bemerkt haben, dass wir die komplette Funktion formell definieren mussten, um sie auf den Vektor anzuwenden. Im praktischen Einsatz macht diese Funktion eigentlich nur etwas sehr einfaches: eine Zufallszahl addieren. Wollen wir dazu wirklich eine Funktion definieren? Nein, insbesondere dann nicht, wenn wir sie nur ein einziges Mal verwenden!\n",
    "\n",
    "Um mit diesem Problem umzugehen bietet R die *anonymen Funktionen* (so genannt, da sie keinen eigenen Namen haben). Die Syntax einer anonymen Funktion lautet:\n",
    "\n",
    "    function(a){code hier}\n",
    "    \n",
    "Das Konzept ist gleich zu dem der *Lambda Ausdrücke* in Python. \n",
    "\n",
    "Wir können die Funktion von gerade eben auch als anonyme Funktion innerhalb von lapply() schreiben:"
   ]
  },
  {
   "cell_type": "code",
   "execution_count": 65,
   "metadata": {},
   "outputs": [
    {
     "data": {
      "text/html": [
       "'numeric'"
      ],
      "text/latex": [
       "'numeric'"
      ],
      "text/markdown": [
       "'numeric'"
      ],
      "text/plain": [
       "[1] \"numeric\""
      ]
     },
     "metadata": {},
     "output_type": "display_data"
    }
   ],
   "source": [
    "v1 = c(11,-50, 2, 3, 9)"
   ]
  },
  {
   "cell_type": "code",
   "execution_count": 46,
   "metadata": {},
   "outputs": [
    {
     "data": {
      "text/html": [
       "<ol>\n",
       "\t<li>62</li>\n",
       "\t<li>44</li>\n",
       "\t<li>21</li>\n",
       "\t<li>8</li>\n",
       "\t<li>76</li>\n",
       "</ol>\n"
      ],
      "text/latex": [
       "\\begin{enumerate}\n",
       "\\item 62\n",
       "\\item 44\n",
       "\\item 21\n",
       "\\item 8\n",
       "\\item 76\n",
       "\\end{enumerate}\n"
      ],
      "text/markdown": [
       "1. 62\n",
       "2. 44\n",
       "3. 21\n",
       "4. 8\n",
       "5. 76\n",
       "\n",
       "\n"
      ],
      "text/plain": [
       "[[1]]\n",
       "[1] 62\n",
       "\n",
       "[[2]]\n",
       "[1] 44\n",
       "\n",
       "[[3]]\n",
       "[1] 21\n",
       "\n",
       "[[4]]\n",
       "[1] 8\n",
       "\n",
       "[[5]]\n",
       "[1] 76\n"
      ]
     },
     "metadata": {},
     "output_type": "display_data"
    }
   ],
   "source": [
    "# Anonyme Funktion mit lapply()\n",
    "lapply(v1, function(a){a+sample(x=1:100,1)})"
   ]
  },
  {
   "cell_type": "markdown",
   "metadata": {},
   "source": [
    "Dabei wird impliziert, dass alles innerhalb der geschwungenen Klammern {} zurückgegeben (return) wird. Hier ist ein einfacherers Beispiel:"
   ]
  },
  {
   "cell_type": "code",
   "execution_count": 47,
   "metadata": {},
   "outputs": [
    {
     "data": {
      "text/html": [
       "<ol>\n",
       "\t<li>111</li>\n",
       "\t<li>50</li>\n",
       "\t<li>102</li>\n",
       "\t<li>103</li>\n",
       "\t<li>109</li>\n",
       "</ol>\n"
      ],
      "text/latex": [
       "\\begin{enumerate}\n",
       "\\item 111\n",
       "\\item 50\n",
       "\\item 102\n",
       "\\item 103\n",
       "\\item 109\n",
       "\\end{enumerate}\n"
      ],
      "text/markdown": [
       "1. 111\n",
       "2. 50\n",
       "3. 102\n",
       "4. 103\n",
       "5. 109\n",
       "\n",
       "\n"
      ],
      "text/plain": [
       "[[1]]\n",
       "[1] 111\n",
       "\n",
       "[[2]]\n",
       "[1] 50\n",
       "\n",
       "[[3]]\n",
       "[1] 102\n",
       "\n",
       "[[4]]\n",
       "[1] 103\n",
       "\n",
       "[[5]]\n",
       "[1] 109\n"
      ]
     },
     "metadata": {},
     "output_type": "display_data"
    }
   ],
   "source": [
    "# Fügt jedem Element zwei hinzu\n",
    "lapply(v1, function(x){x+100})"
   ]
  },
  {
   "cell_type": "markdown",
   "metadata": {},
   "source": [
    "Was würde passieren, wenn unsere Funktion mehrere Parameter hätte? lapply() bietet eine einfache Möglichkeit damit umzugehen. Schauen wir sie uns an:"
   ]
  },
  {
   "cell_type": "code",
   "execution_count": 53,
   "metadata": {},
   "outputs": [
    {
     "data": {
      "text/html": [
       "1000"
      ],
      "text/latex": [
       "1000"
      ],
      "text/markdown": [
       "1000"
      ],
      "text/plain": [
       "[1] 1000"
      ]
     },
     "metadata": {},
     "output_type": "display_data"
    }
   ],
   "source": [
    "add_two_args <- function(num1,num2){\n",
    "    return(num1 + num2)\n",
    "}\n",
    "\n",
    "add_two_args(100,900)"
   ]
  },
  {
   "cell_type": "code",
   "execution_count": 54,
   "metadata": {},
   "outputs": [
    {
     "ename": "ERROR",
     "evalue": "Error in FUN(X[[i]], ...): Argument \"num2\" fehlt (ohne Standardwert)\n",
     "output_type": "error",
     "traceback": [
      "Error in FUN(X[[i]], ...): Argument \"num2\" fehlt (ohne Standardwert)\nTraceback:\n",
      "1. lapply(v1, add_two_args)",
      "2. FUN(X[[i]], ...)"
     ]
    }
   ],
   "source": [
    "# Den zweiten Parameter vergessen!\n",
    "lapply(v1,add_two_args)"
   ]
  },
  {
   "cell_type": "code",
   "execution_count": 55,
   "metadata": {},
   "outputs": [
    {
     "data": {
      "text/html": [
       "<ol>\n",
       "\t<li>111</li>\n",
       "\t<li>50</li>\n",
       "\t<li>102</li>\n",
       "\t<li>103</li>\n",
       "\t<li>109</li>\n",
       "</ol>\n"
      ],
      "text/latex": [
       "\\begin{enumerate}\n",
       "\\item 111\n",
       "\\item 50\n",
       "\\item 102\n",
       "\\item 103\n",
       "\\item 109\n",
       "\\end{enumerate}\n"
      ],
      "text/markdown": [
       "1. 111\n",
       "2. 50\n",
       "3. 102\n",
       "4. 103\n",
       "5. 109\n",
       "\n",
       "\n"
      ],
      "text/plain": [
       "[[1]]\n",
       "[1] 111\n",
       "\n",
       "[[2]]\n",
       "[1] 50\n",
       "\n",
       "[[3]]\n",
       "[1] 102\n",
       "\n",
       "[[4]]\n",
       "[1] 103\n",
       "\n",
       "[[5]]\n",
       "[1] 109\n"
      ]
     },
     "metadata": {},
     "output_type": "display_data"
    }
   ],
   "source": [
    "# So wird funktionieren (2. Argument einfach nach dem Funktionsnamen angeben\n",
    "lapply(v1,add_two_args,num2=100)"
   ]
  },
  {
   "cell_type": "markdown",
   "metadata": {},
   "source": [
    "Das können wir auch mit mehreren Parametern machen; fügt sie einfach hinzu.\n",
    "\n",
    "## sapply() vs. lapply()\n",
    "\n",
    "lapply() hat uns als Ergebnis eine Liste erzeugt. Um den Prozess **s**impler zu gestallten können wir `sapply()` verwenden und so einen Vektor oder eine Matrix erhalten."
   ]
  },
  {
   "cell_type": "code",
   "execution_count": 56,
   "metadata": {},
   "outputs": [],
   "source": [
    "help(sapply)"
   ]
  },
  {
   "cell_type": "code",
   "execution_count": 57,
   "metadata": {},
   "outputs": [
    {
     "data": {
      "text/html": [
       "<ol class=list-inline>\n",
       "\t<li>111</li>\n",
       "\t<li>50</li>\n",
       "\t<li>102</li>\n",
       "\t<li>103</li>\n",
       "\t<li>109</li>\n",
       "</ol>\n"
      ],
      "text/latex": [
       "\\begin{enumerate*}\n",
       "\\item 111\n",
       "\\item 50\n",
       "\\item 102\n",
       "\\item 103\n",
       "\\item 109\n",
       "\\end{enumerate*}\n"
      ],
      "text/markdown": [
       "1. 111\n",
       "2. 50\n",
       "3. 102\n",
       "4. 103\n",
       "5. 109\n",
       "\n",
       "\n"
      ],
      "text/plain": [
       "[1] 111  50 102 103 109"
      ]
     },
     "metadata": {},
     "output_type": "display_data"
    }
   ],
   "source": [
    "# Toll, wir erhalten einen Vektor!\n",
    "sapply(v1,add_two_args,num2=100)"
   ]
  },
  {
   "cell_type": "code",
   "execution_count": 64,
   "metadata": {},
   "outputs": [
    {
     "data": {
      "text/html": [
       "<ol>\n",
       "\t<li>-89</li>\n",
       "\t<li>-88</li>\n",
       "\t<li>-87</li>\n",
       "\t<li>-86</li>\n",
       "\t<li>-85</li>\n",
       "</ol>\n"
      ],
      "text/latex": [
       "\\begin{enumerate}\n",
       "\\item -89\n",
       "\\item -88\n",
       "\\item -87\n",
       "\\item -86\n",
       "\\item -85\n",
       "\\end{enumerate}\n"
      ],
      "text/markdown": [
       "1. -89\n",
       "2. -88\n",
       "3. -87\n",
       "4. -86\n",
       "5. -85\n",
       "\n",
       "\n"
      ],
      "text/plain": [
       "[[1]]\n",
       "[1] -89\n",
       "\n",
       "[[2]]\n",
       "[1] -88\n",
       "\n",
       "[[3]]\n",
       "[1] -87\n",
       "\n",
       "[[4]]\n",
       "[1] -86\n",
       "\n",
       "[[5]]\n",
       "[1] -85\n"
      ]
     },
     "metadata": {},
     "output_type": "display_data"
    },
    {
     "name": "stdout",
     "output_type": "stream",
     "text": [
      "[1] \"Rückgabe-Typ von lapply-Funktion ist:  list\"\n"
     ]
    },
    {
     "data": {
      "text/html": [
       "<ol class=list-inline>\n",
       "\t<li>-89</li>\n",
       "\t<li>-88</li>\n",
       "\t<li>-87</li>\n",
       "\t<li>-86</li>\n",
       "\t<li>-85</li>\n",
       "</ol>\n"
      ],
      "text/latex": [
       "\\begin{enumerate*}\n",
       "\\item -89\n",
       "\\item -88\n",
       "\\item -87\n",
       "\\item -86\n",
       "\\item -85\n",
       "\\end{enumerate*}\n"
      ],
      "text/markdown": [
       "1. -89\n",
       "2. -88\n",
       "3. -87\n",
       "4. -86\n",
       "5. -85\n",
       "\n",
       "\n"
      ],
      "text/plain": [
       "[1] -89 -88 -87 -86 -85"
      ]
     },
     "metadata": {},
     "output_type": "display_data"
    },
    {
     "name": "stdout",
     "output_type": "stream",
     "text": [
      "[1] \"Rückgabe-Typ von sapply-Funktion ist:  numeric\"\n"
     ]
    }
   ],
   "source": [
    "# Rückgabetypen von lapply und sapply:\n",
    "\n",
    "lv1 <- lapply(v,add_wahl,wahl=-100)\n",
    "sv1 <- sapply(v,add_wahl,wahl=-100)\n",
    "\n",
    "# Eine Liste\n",
    "lv1\n",
    "print(paste(\"Rückgabe-Typ von lapply-Funktion ist: \", class(lv1)))\n",
    "\n",
    "# Ein Vektor\n",
    "sv1\n",
    "print(paste(\"Rückgabe-Typ von sapply-Funktion ist: \", class(sv1)))"
   ]
  },
  {
   "cell_type": "markdown",
   "metadata": {},
   "source": [
    "### sapply() Einschränkungen\n",
    "\n",
    "sapply() ist nicht in der Lage automatisch einen Vektor zu erstellen, falls die angewendete Funktion nicht für jedes Element im Vektor ein Ergebnis zurückgibt. Verdeutlichen wir dies an einem Beispiel:"
   ]
  },
  {
   "cell_type": "code",
   "execution_count": 66,
   "metadata": {},
   "outputs": [
    {
     "data": {
      "text/html": [
       "<ol>\n",
       "\t<li></li>\n",
       "\t<li>2</li>\n",
       "\t<li></li>\n",
       "\t<li>4</li>\n",
       "\t<li></li>\n",
       "</ol>\n"
      ],
      "text/latex": [
       "\\begin{enumerate}\n",
       "\\item \n",
       "\\item 2\n",
       "\\item \n",
       "\\item 4\n",
       "\\item \n",
       "\\end{enumerate}\n"
      ],
      "text/markdown": [
       "1. \n",
       "2. 2\n",
       "3. \n",
       "4. 4\n",
       "5. \n",
       "\n",
       "\n"
      ],
      "text/plain": [
       "[[1]]\n",
       "numeric(0)\n",
       "\n",
       "[[2]]\n",
       "[1] 2\n",
       "\n",
       "[[3]]\n",
       "numeric(0)\n",
       "\n",
       "[[4]]\n",
       "[1] 4\n",
       "\n",
       "[[5]]\n",
       "numeric(0)\n"
      ]
     },
     "metadata": {},
     "output_type": "display_data"
    }
   ],
   "source": [
    "# Überprüft gerade Zahlen\n",
    "gerade <- function(x) {\n",
    "  return(x[(x %% 2 == 0)])\n",
    "}\n",
    "\n",
    "nums <- c(1,2,3,4,5)\n",
    "\n",
    "sapply(nums,gerade)"
   ]
  },
  {
   "cell_type": "code",
   "execution_count": 14,
   "metadata": {},
   "outputs": [
    {
     "data": {
      "text/html": [
       "<ol>\n",
       "\t<li></li>\n",
       "\t<li>2</li>\n",
       "\t<li></li>\n",
       "\t<li>4</li>\n",
       "\t<li></li>\n",
       "</ol>\n"
      ],
      "text/latex": [
       "\\begin{enumerate}\n",
       "\\item \n",
       "\\item 2\n",
       "\\item \n",
       "\\item 4\n",
       "\\item \n",
       "\\end{enumerate}\n"
      ],
      "text/markdown": [
       "1. \n",
       "2. 2\n",
       "3. \n",
       "4. 4\n",
       "5. \n",
       "\n",
       "\n"
      ],
      "text/plain": [
       "[[1]]\n",
       "numeric(0)\n",
       "\n",
       "[[2]]\n",
       "[1] 2\n",
       "\n",
       "[[3]]\n",
       "numeric(0)\n",
       "\n",
       "[[4]]\n",
       "[1] 4\n",
       "\n",
       "[[5]]\n",
       "numeric(0)\n"
      ]
     },
     "metadata": {},
     "output_type": "display_data"
    }
   ],
   "source": [
    "lapply(nums,gerade)"
   ]
  },
  {
   "cell_type": "markdown",
   "metadata": {},
   "source": [
    "## Andere *apply()* Funktionen\n",
    "\n",
    "Es gibt noch einige weitere apply() Funktionen in R. Wir haben uns alles angeschaut, was wir bis hierher wissen müssen. Solltest du allerdings neugierig sein, dann schaue in die [Dokumentation](https://www.rdocumentation.org/packages/base/versions/3.6.2/topics/lapply) oder lies diesen [StackOverflow Beitrag](http://stackoverflow.com/questions/3505701/r-grouping-functions-sapply-vs-lapply-vs-apply-vs-tapply-vs-by-vs-aggrega)."
   ]
  },
  {
   "cell_type": "markdown",
   "metadata": {},
   "source": [
    "Herzlichen Glückwunsch! Sie sind mit Lektion 36. fertig!"
   ]
  }
 ],
 "metadata": {
  "kernelspec": {
   "display_name": "R",
   "language": "R",
   "name": "ir"
  },
  "language_info": {
   "codemirror_mode": "r",
   "file_extension": ".r",
   "mimetype": "text/x-r-source",
   "name": "R",
   "pygments_lexer": "r",
   "version": "3.6.1"
  }
 },
 "nbformat": 4,
 "nbformat_minor": 1
}
