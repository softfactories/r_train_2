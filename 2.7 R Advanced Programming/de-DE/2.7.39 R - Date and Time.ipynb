{
 "cells": [
  {
   "cell_type": "markdown",
   "metadata": {},
   "source": [
    "# Tag 2. Kapitel 7. Fortgeschrittene Programmierung\n",
    "\n",
    "## Lektion 39. Datum und Uhrzeit in R\n",
    "\n",
    "R bietet uns eine Vielzahl an Möglichkeitem, um mit Datum und Uhrzeit (eng. Date and Time), die auch als Zeitstempel bekannt (en. timestamp) sind, zu arbeiten. Schauen wir uns als erstes das `Date` (Datum) Objekt an:\n",
    "\n",
    "## Date\n",
    "\n",
    "Du kannst die `as.Date()` Funktion nutzen, um Zeichen-Strings in ein Datums-Objekt zu konvertieren. Dieses Format erlaub es, mehr Informationen zu speichern. Der String muss dabei in einem Standard-Zeitformat vorliegen. \n",
    "\n",
    "Um das heutige Datum zu erhalten könne wir das System (`Sys.`) danach fragen:"
   ]
  },
  {
   "cell_type": "code",
   "execution_count": 17,
   "metadata": {},
   "outputs": [
    {
     "data": {
      "text/html": [
       "<time datetime=\"2019-12-15\">2019-12-15</time>"
      ],
      "text/latex": [
       "2019-12-15"
      ],
      "text/markdown": [
       "2019-12-15"
      ],
      "text/plain": [
       "[1] \"2019-12-15\""
      ]
     },
     "metadata": {},
     "output_type": "display_data"
    }
   ],
   "source": [
    "Sys.Date()"
   ]
  },
  {
   "cell_type": "code",
   "execution_count": 18,
   "metadata": {},
   "outputs": [
    {
     "data": {
      "text/html": [
       "<time datetime=\"2019-12-15\">2019-12-15</time>"
      ],
      "text/latex": [
       "2019-12-15"
      ],
      "text/markdown": [
       "2019-12-15"
      ],
      "text/plain": [
       "[1] \"2019-12-15\""
      ]
     },
     "metadata": {},
     "output_type": "display_data"
    }
   ],
   "source": [
    "# Als Variable festlegen\n",
    "heute <- Sys.Date()\n",
    "heute"
   ]
  },
  {
   "cell_type": "markdown",
   "metadata": {},
   "source": [
    "Wir können außerdem Zeichen-Strings in ein Datum konvertieren, indem wir `as.Date()` verwenden. Dabei können wir einerseits gleich das richtige Format angeben oder andererseits mit % Zeichen das Format selbst definieren:\n",
    "\n",
    "\n",
    "<table border=\"1\">\n",
    "<tr><td>Code</td><td>Wert</td></tr>\n",
    "<tr><td><tt>%d</tt></td><td>Tag des Monats (Dezimalzahl)</td></tr>\n",
    "<tr><td><tt>%m</tt></td><td>Monat (Dezimalzahl)</td></tr>\n",
    "<tr><td><tt>%b</tt></td><td>Monat (abgekürzt)</td></tr>\n",
    "<tr><td><tt>%B</tt></td><td>Monat (vollständiger Name)</td></tr>\n",
    "<tr><td><tt>%y</tt></td><td>Jahr (2 Stellen)</td></tr>\n",
    "<tr><td><tt>%Y</tt></td><td>Jahr (4 Stellen)</td></tr></table>\n",
    "\n",
    "\n",
    "*Hinweis: Achtet dabei darauf, dass bspw. der abgekürzte Monat sich auf die englischen Namen bezieht!*\n",
    "\n",
    "Schauen wir uns nun einige Beispiele an, wie wir `as.Date` und das passende Format einsetzen können:"
   ]
  },
  {
   "cell_type": "code",
   "execution_count": 26,
   "metadata": {},
   "outputs": [
    {
     "data": {
      "text/html": [
       "<time datetime=\"2018-11-03\">2018-11-03</time>"
      ],
      "text/latex": [
       "2018-11-03"
      ],
      "text/markdown": [
       "2018-11-03"
      ],
      "text/plain": [
       "[1] \"2018-11-03\""
      ]
     },
     "metadata": {},
     "output_type": "display_data"
    }
   ],
   "source": [
    "# YYYY-MM-DD\n",
    "as.Date('2018-11-03')"
   ]
  },
  {
   "cell_type": "code",
   "execution_count": 27,
   "metadata": {},
   "outputs": [
    {
     "data": {
      "text/html": [
       "<time datetime=\"2019-12-16\">2019-12-16</time>"
      ],
      "text/latex": [
       "2019-12-16"
      ],
      "text/markdown": [
       "2019-12-16"
      ],
      "text/plain": [
       "[1] \"2019-12-16\""
      ]
     },
     "metadata": {},
     "output_type": "display_data"
    }
   ],
   "source": [
    "# MM.DD.YYYY\n",
    "as.Date(\"16.12.2019\",format=\"%d.%m.%Y\")"
   ]
  },
  {
   "cell_type": "code",
   "execution_count": 28,
   "metadata": {},
   "outputs": [
    {
     "data": {
      "text/html": [
       "<time datetime=\"2019-12-17\">2019-12-17</time>"
      ],
      "text/latex": [
       "2019-12-17"
      ],
      "text/markdown": [
       "2019-12-17"
      ],
      "text/plain": [
       "[1] \"2019-12-17\""
      ]
     },
     "metadata": {},
     "output_type": "display_data"
    }
   ],
   "source": [
    "# MM.DD.YY\n",
    "as.Date(\"17.12.19\",format=\"%d.%m.%y\")"
   ]
  },
  {
   "cell_type": "code",
   "execution_count": 29,
   "metadata": {},
   "outputs": [
    {
     "data": {
      "text/html": [
       "<time datetime=\"2010-11-03\">2010-11-03</time>"
      ],
      "text/latex": [
       "2010-11-03"
      ],
      "text/markdown": [
       "2010-11-03"
      ],
      "text/plain": [
       "[1] \"2010-11-03\""
      ]
     },
     "metadata": {},
     "output_type": "display_data"
    }
   ],
   "source": [
    "# Formatierung nutzen\n",
    "as.Date(\"Nov-03-10\",format=\"%b-%d-%y\")"
   ]
  },
  {
   "cell_type": "code",
   "execution_count": 30,
   "metadata": {},
   "outputs": [
    {
     "data": {
      "text/html": [
       "<time datetime=\"1990-11-03\">1990-11-03</time>"
      ],
      "text/latex": [
       "1990-11-03"
      ],
      "text/markdown": [
       "1990-11-03"
      ],
      "text/plain": [
       "[1] \"1990-11-03\""
      ]
     },
     "metadata": {},
     "output_type": "display_data"
    }
   ],
   "source": [
    "# Formatierung nutzen\n",
    "as.Date(\"November-03-1990\",format=\"%B-%d-%Y\")"
   ]
  },
  {
   "cell_type": "markdown",
   "metadata": {},
   "source": [
    "Durch die Kombination von `as.Date()` und dem `format` Parameter können wir im Grunde genommen jeden String konvertieren, der Datumsinformationen enthält. Das ist extrem nützlich, um Zeitreihen zu analysieren.\n",
    "\n",
    "## Zeit\n",
    "\n",
    "Genau wie mit Daten können wir auch Zeitinformationen aus Strings erhalten. R nutzt den `POSIXct` Objekttyp, um Zeitinformationen zu speichern. \n",
    "\n",
    "Mann kann z.B. `as.POSIXct()` nutzen, um einen String in ein POSIXct Objekt zu konvertieren. Die Formatregelung lesen wir am besten in der Dokumentation der `strptime()` Funktion nach:"
   ]
  },
  {
   "cell_type": "code",
   "execution_count": 31,
   "metadata": {},
   "outputs": [],
   "source": [
    "help(strptime)"
   ]
  },
  {
   "cell_type": "code",
   "execution_count": 32,
   "metadata": {},
   "outputs": [
    {
     "data": {
      "text/plain": [
       "[1] \"2019-12-15 11:02:03 CET\""
      ]
     },
     "metadata": {},
     "output_type": "display_data"
    }
   ],
   "source": [
    "as.POSIXct(\"11:02:03\",format=\"%H:%M:%S\")"
   ]
  },
  {
   "cell_type": "markdown",
   "metadata": {},
   "source": [
    "Achtet dabei darauf, wie das heutige Datum automatisch hinzugefügt wird, da wir es nicht selbst spezifiziert haben. Hätten wir die Information bereits, dann würden wir schreiben:"
   ]
  },
  {
   "cell_type": "code",
   "execution_count": 33,
   "metadata": {},
   "outputs": [
    {
     "data": {
      "text/plain": [
       "[1] \"1990-11-03 11:02:03 CET\""
      ]
     },
     "metadata": {},
     "output_type": "display_data"
    }
   ],
   "source": [
    "as.POSIXct(\"November-03-1990 11:02:03\",format=\"%B-%d-%Y %H:%M:%S\")"
   ]
  },
  {
   "cell_type": "markdown",
   "metadata": {},
   "source": [
    "Meistens benutzt man tatsächlich die `strptime()` Funktion anstatt POSIXct. Hier ist eine kurze Beschreibung der Unterschiede zwischen den Funktionen:\n",
    "\n",
    "Es gibt zwei interne Implementierungen von Datum/Zeit: POSIXct, welches die Sekunden seit Beginn der UNIX Epoche speichert, und POSIXlt, welches eine Liste an Tagen, Monaten, Jahren, Stunden, Minuten und Sekunden speichert.\n",
    "\n",
    "`strptime` ist eine Funktion, um Zeichenvektoren direkt ins POSIXlt Format zu konvertieren.\n",
    "\n",
    "`as.POSIXlt` konvertiert eine Vielzahl an Datentypen zu POSIXlt. Es versucht dabei intelligent zu erkennen, welche Formatierung angebracht ist.\n",
    "\n",
    "`as.POSIXct` konvertiert eine Vielzahl an Datentypen ins POSICct Format. Es versucht ebenso intelligent zu erknnnen, welche Umwandlung angebracht ist. Im Fall von Zeichen führt es zuerst strptime aus und konvertiert anschließend von POSIXlt zu POSIXct.\n",
    "\n",
    "Es ergibt daher Sinn, dass strptime schneller ist, da es nur Zeichen als Input verarbeitet, während die anderen Methoden zuerst zu erkennen versuchen, welche Umwandlung angebracht ist. Außerdem bietet es insofern etwas mehr Sicherheit, dass kein ungewollter Input übergeben werden kann.\n",
    "\n",
    "Schauen wir uns daher ein einfaches Beispiel für strptime an:"
   ]
  },
  {
   "cell_type": "code",
   "execution_count": 37,
   "metadata": {},
   "outputs": [
    {
     "data": {
      "text/plain": [
       "[1] \"2019-12-15 09:01:03 CET\""
      ]
     },
     "metadata": {},
     "output_type": "display_data"
    }
   ],
   "source": [
    "strptime(\"09:01:03\",format=\"%H:%M:%S\")"
   ]
  },
  {
   "cell_type": "markdown",
   "metadata": {},
   "source": [
    "Meistens wird man also direkt strptime() verwenden. Mann sollte am Ende folgendes merken:\n",
    "\n",
    "* Wie man strptime() nutzt und formatiert\n",
    "* Wie du help(strptime) verwenden kannst, um mehr über die Formatierung zu erfahren\n",
    "\n",
    "Herzlichen Glückwunsch! Sie sind mit Lektion 39. fertig!"
   ]
  }
 ],
 "metadata": {
  "kernelspec": {
   "display_name": "R",
   "language": "R",
   "name": "ir"
  },
  "language_info": {
   "codemirror_mode": "r",
   "file_extension": ".r",
   "mimetype": "text/x-r-source",
   "name": "R",
   "pygments_lexer": "r",
   "version": "3.6.1"
  }
 },
 "nbformat": 4,
 "nbformat_minor": 1
}
