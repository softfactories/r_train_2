{
 "cells": [
  {
   "cell_type": "markdown",
   "metadata": {},
   "source": [
    "# Tag 2. Kapitel 9. R Data & Visualisation\n",
    "\n",
    "## Lab7. ggplot2 Übung \n",
    "\n",
    "Stelle die Diagramme nach, die unten zu sehen sind. Dabei ist es nicht wichtig, dass deine Antworten ganz genau übereinstimmen. Es zählt, dass du durch dein Verständnis von ggplot2 zu einem ähnlichen Ergebnis kommst.\n",
    "\n",
    "**Nutze für die ersten Diagrmme den mpg Datensatz. Lade ggplot2 und ggthemes Bibliotheken**"
   ]
  },
  {
   "cell_type": "code",
   "execution_count": 2,
   "metadata": {},
   "outputs": [],
   "source": [
    "#install.packages('ggplot2')\n",
    "#install.packages('ggthemes')\n"
   ]
  },
  {
   "cell_type": "code",
   "execution_count": 3,
   "metadata": {},
   "outputs": [],
   "source": [
    "#library(ggplot2)\n",
    "#library(ggthemes)\n"
   ]
  },
  {
   "cell_type": "markdown",
   "metadata": {},
   "source": [
    "**Histogramm der hwy mpg Werte:**"
   ]
  },
  {
   "cell_type": "code",
   "execution_count": null,
   "metadata": {},
   "outputs": [],
   "source": []
  },
  {
   "cell_type": "markdown",
   "metadata": {},
   "source": [
    "**Balkendiagramm der Autos pro Hersteller mit Farbfüllung nach der Anzahl der Zylinder (cyl):**"
   ]
  },
  {
   "cell_type": "code",
   "execution_count": null,
   "metadata": {},
   "outputs": [],
   "source": []
  },
  {
   "cell_type": "markdown",
   "metadata": {},
   "source": [
    "** Wechsle jetzt zum Datensatz \"txhousing\", der in ggplot2 eingebunden ist**"
   ]
  },
  {
   "cell_type": "code",
   "execution_count": null,
   "metadata": {},
   "outputs": [],
   "source": []
  },
  {
   "cell_type": "markdown",
   "metadata": {},
   "source": [
    "** Erstelle ein Scatterplot von \"volume\" vs. \"sales\". Erhöhe anschließend die Lesbarkeit indem du mit Transparenz (alpha) und Frage (color) arbeitest. **"
   ]
  },
  {
   "cell_type": "code",
   "execution_count": null,
   "metadata": {},
   "outputs": [],
   "source": []
  },
  {
   "cell_type": "markdown",
   "metadata": {},
   "source": [
    "** Füge eine \"smooth fit\" Linie zum Scatterplot von eben hinzu.**\n",
    "*Hinweis: geom_smooth() kann dir weiterhelfen.**"
   ]
  },
  {
   "cell_type": "code",
   "execution_count": null,
   "metadata": {},
   "outputs": [],
   "source": []
  },
  {
   "cell_type": "markdown",
   "metadata": {},
   "source": [
    "Herzlichen Glückwunsch! Sie sind mit Lab. 7 fertig!"
   ]
  }
 ],
 "metadata": {
  "kernelspec": {
   "display_name": "R",
   "language": "R",
   "name": "ir"
  },
  "language_info": {
   "codemirror_mode": "r",
   "file_extension": ".r",
   "mimetype": "text/x-r-source",
   "name": "R",
   "pygments_lexer": "r",
   "version": "3.6.1"
  }
 },
 "nbformat": 4,
 "nbformat_minor": 1
}
