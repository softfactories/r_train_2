{
 "cells": [
  {
   "cell_type": "markdown",
   "metadata": {},
   "source": [
    "# Tag 2. Kapitel 9. R Data & Visualisation\n",
    "\n",
    "## Lektion 45. Gramatik von Grafiken und ggplot2\n",
    "\n",
    "In dieser mehrteiligen Lektion werden wir uns durch einige Beispiele der Visualisierung mit R arbeiten. Dabei lernen wir eine der am weitest verbreitesten Libraries für Daten Visualisierung in R kennen: `ggplot2`. Diese Lektion wird uns eine kurze Einführung zu dieser Library verschaffen und einige Darstellungsoptionen aufzeigen.\n",
    "\n",
    "Und damit zur kurzen Einführung von ggplot2!\n",
    "\n",
    "ggplot2 bietet einige Vorteile:\n",
    "\n",
    "* Hohe Spezifizierungsmöglichkeiten \n",
    "* Sehr flexibel\n",
    "* Themes zur einfachen Gestalltung\n",
    "* Ausgereiftes und umfangreiches Grafiksystem\n",
    "* Viele Nutzer und eine aktive Mailing-Liste\n",
    "* Sehr viel Online-Hilfe-Möglichkeiten (Stackoverflow, etc.)\n",
    "\n",
    "Wozu ggplot2 nicht ideal geeignet ist:\n",
    "\n",
    "* interaktive Grafiken\n",
    "* Grafik Theory Darstellung\n",
    "* 3-D Grafiken\n",
    "\n",
    "Deshalb werden wir später noch weitere Libraries kennenlernen, die diese \"Lücken\" schließen. Während wir durch die Lektionen mit ggplot2 gehen, könnte dieses [Cheatsheet](https://www.rstudio.com/wp-content/uploads/2015/03/ggplot2-cheatsheet.pdf) eine nützliche Referenz sein!\n",
    "\n",
    "Au0erdem beietet ggplot2 eine tolle [Dokumentation](http://docs.ggplot2.org/current/)! Dabei ist es sehr wahrscheinlich, dass du am Anfang oft auf das Cheatsheet oder in die Dokumentation schaust. Mach dir deshalb keinen Kopf! Sich auf die Dokumentation zu beziehen ist ganz normal, wenn man seine Diagramme erstellt.\n",
    "\n",
    "# Grammatik von Grafiken\n",
    "\n",
    "ggplot2 basiert auf der *Grammatik von Grafiken*, dem Konzept dass jede Grafik aus den selben Komponenten erstellt werden kann: ein Datensatz, ein Set an \"geoms-visual marks\", die Datenpunkte repräsentieren und einem Koordinatensystem. Um Datenwerte anzuzeigen werden diese unter Berücksichtigung bestimmter Darstellungsoptionen (en. aesthetics), wie bspw. Größe, Farbe und Platzeirung, im Koordinatensystem positioniert.\n",
    "\n",
    "## Ebenen um Visualisierungen zu erstellen\n",
    "\n",
    "ggplot 2 basiert auf der Grammatik von Grafiken, welche folgendes Paradigma zur Daten Visaulisierung in Ebenen festlegt:\n",
    "____\n",
    "\n",
    "<img src=\"grammar_layers.png\" />\n",
    "\n",
    "___\n",
    "\n",
    "Wir werden diese Philosophie der Grammatik von Grafiken nicht zu genau besprechen, da die beste Erklärung vom Entwickler selbst - Hadley Wickham - stammt, der darüber ein Paer geschrieben hat, dass ihr hier lesen könnt: [Paper](http://vita.had.co.nz/papers/layered-grammar.pdf).\n",
    "\n",
    "Die Syntax von ggplot können wir durch einige Beispiele besser verstehen. In deser Lektion werden wir deshalb einige Syntax-Beispiele betrachten und in den folgenden Lektionen einzelne Typen von speziellen Diagrammtypen besprechen. Dazu nutzen wir sowohl qplot() als auch ggplot().\n",
    "\n",
    "## Daten und Setup\n",
    "\n",
    "Legen wir los:"
   ]
  },
  {
   "cell_type": "code",
   "execution_count": 1,
   "metadata": {},
   "outputs": [],
   "source": [
    "# Import ggplot2\n",
    "library(ggplot2)"
   ]
  },
  {
   "cell_type": "markdown",
   "metadata": {},
   "source": [
    "Die Allgemeine Syntax sieht wie folgt aus:\n",
    "\n",
    "    ggplot(data = <default data set>, \n",
    "           aes(x = <default x axis variable>,\n",
    "               y = <default y axis variable>,\n",
    "               ... <other default aesthetic mappings>),\n",
    "           ... <other plot defaults>) +\n",
    "\n",
    "           geom_<geom type>(aes(size = <size variable for this geom>, \n",
    "                          ... <other aesthetic mappings>),\n",
    "                      data = <data for this point geom>,\n",
    "                      stat = <statistic string or function>,\n",
    "                      position = <position string or function>,\n",
    "                      color = <\"fixed color specification\">,\n",
    "                      <other arguments, possibly passed to the _stat_ function) +\n",
    "\n",
    "      scale_<aesthetic>_<type>(name = <\"scale label\">,\n",
    "                         breaks = <where to put tick marks>,\n",
    "                         labels = <labels for tick marks>,\n",
    "                         ... <other options for the scale>) +\n",
    "\n",
    "      theme(plot.background = element_rect(fill = \"gray\"),\n",
    "            ... <other theme elements>)\n",
    "            \n",
    "Was zunächst kompliziert erscheint werden wir Stück für Stück durchgehen. Doch zuerst brauchen wir Daten. Für diese Lektion werden wir einen Imobilien Datensatz verwenden."
   ]
  },
  {
   "cell_type": "code",
   "execution_count": 3,
   "metadata": {},
   "outputs": [
    {
     "name": "stdout",
     "output_type": "stream",
     "text": [
      "package 'data.table' successfully unpacked and MD5 sums checked\n",
      "\n",
      "The downloaded binary packages are in\n",
      "\tC:\\Users\\dm_78\\AppData\\Local\\Temp\\RtmpimZhRI\\downloaded_packages\n"
     ]
    }
   ],
   "source": [
    "install.packages(\"data.table\")"
   ]
  },
  {
   "cell_type": "code",
   "execution_count": 4,
   "metadata": {},
   "outputs": [
    {
     "name": "stderr",
     "output_type": "stream",
     "text": [
      "Warning message:\n",
      "\"package 'data.table' was built under R version 3.6.2\""
     ]
    }
   ],
   "source": [
    "library(data.table) # s. Lektion 58 (Kapitel 2.10.58)"
   ]
  },
  {
   "cell_type": "code",
   "execution_count": 5,
   "metadata": {},
   "outputs": [],
   "source": [
    "df <- fread('state_real_estate_data.csv')"
   ]
  },
  {
   "cell_type": "code",
   "execution_count": 6,
   "metadata": {},
   "outputs": [
    {
     "data": {
      "text/html": [
       "<table>\n",
       "<thead><tr><th scope=col>State</th><th scope=col>region</th><th scope=col>Date</th><th scope=col>Home.Value</th><th scope=col>Structure.Cost</th><th scope=col>Land.Value</th><th scope=col>Land.Share..Pct.</th><th scope=col>Home.Price.Index</th><th scope=col>Land.Price.Index</th></tr></thead>\n",
       "<tbody>\n",
       "\t<tr><td>AK    </td><td>West  </td><td>20101 </td><td>224952</td><td>160599</td><td>64352 </td><td>28.6  </td><td>1.481 </td><td>1.552 </td></tr>\n",
       "\t<tr><td>AK    </td><td>West  </td><td>20102 </td><td>225511</td><td>160252</td><td>65259 </td><td>28.9  </td><td>1.484 </td><td>1.576 </td></tr>\n",
       "\t<tr><td>AK    </td><td>West  </td><td>20093 </td><td>225820</td><td>163791</td><td>62029 </td><td>27.5  </td><td>1.486 </td><td>1.494 </td></tr>\n",
       "\t<tr><td>AK    </td><td>West  </td><td>20094 </td><td>224994</td><td>161787</td><td>63207 </td><td>28.1  </td><td>1.481 </td><td>1.524 </td></tr>\n",
       "\t<tr><td>AK    </td><td>West  </td><td>20074 </td><td>234590</td><td>155400</td><td>79190 </td><td>33.8  </td><td>1.544 </td><td>1.885 </td></tr>\n",
       "\t<tr><td>AK    </td><td>West  </td><td>20081 </td><td>233714</td><td>157458</td><td>76256 </td><td>32.6  </td><td>1.538 </td><td>1.817 </td></tr>\n",
       "</tbody>\n",
       "</table>\n"
      ],
      "text/latex": [
       "\\begin{tabular}{r|lllllllll}\n",
       " State & region & Date & Home.Value & Structure.Cost & Land.Value & Land.Share..Pct. & Home.Price.Index & Land.Price.Index\\\\\n",
       "\\hline\n",
       "\t AK     & West   & 20101  & 224952 & 160599 & 64352  & 28.6   & 1.481  & 1.552 \\\\\n",
       "\t AK     & West   & 20102  & 225511 & 160252 & 65259  & 28.9   & 1.484  & 1.576 \\\\\n",
       "\t AK     & West   & 20093  & 225820 & 163791 & 62029  & 27.5   & 1.486  & 1.494 \\\\\n",
       "\t AK     & West   & 20094  & 224994 & 161787 & 63207  & 28.1   & 1.481  & 1.524 \\\\\n",
       "\t AK     & West   & 20074  & 234590 & 155400 & 79190  & 33.8   & 1.544  & 1.885 \\\\\n",
       "\t AK     & West   & 20081  & 233714 & 157458 & 76256  & 32.6   & 1.538  & 1.817 \\\\\n",
       "\\end{tabular}\n"
      ],
      "text/markdown": [
       "\n",
       "| State | region | Date | Home.Value | Structure.Cost | Land.Value | Land.Share..Pct. | Home.Price.Index | Land.Price.Index |\n",
       "|---|---|---|---|---|---|---|---|---|\n",
       "| AK     | West   | 20101  | 224952 | 160599 | 64352  | 28.6   | 1.481  | 1.552  |\n",
       "| AK     | West   | 20102  | 225511 | 160252 | 65259  | 28.9   | 1.484  | 1.576  |\n",
       "| AK     | West   | 20093  | 225820 | 163791 | 62029  | 27.5   | 1.486  | 1.494  |\n",
       "| AK     | West   | 20094  | 224994 | 161787 | 63207  | 28.1   | 1.481  | 1.524  |\n",
       "| AK     | West   | 20074  | 234590 | 155400 | 79190  | 33.8   | 1.544  | 1.885  |\n",
       "| AK     | West   | 20081  | 233714 | 157458 | 76256  | 32.6   | 1.538  | 1.817  |\n",
       "\n"
      ],
      "text/plain": [
       "  State region Date  Home.Value Structure.Cost Land.Value Land.Share..Pct.\n",
       "1 AK    West   20101 224952     160599         64352      28.6            \n",
       "2 AK    West   20102 225511     160252         65259      28.9            \n",
       "3 AK    West   20093 225820     163791         62029      27.5            \n",
       "4 AK    West   20094 224994     161787         63207      28.1            \n",
       "5 AK    West   20074 234590     155400         79190      33.8            \n",
       "6 AK    West   20081 233714     157458         76256      32.6            \n",
       "  Home.Price.Index Land.Price.Index\n",
       "1 1.481            1.552           \n",
       "2 1.484            1.576           \n",
       "3 1.486            1.494           \n",
       "4 1.481            1.524           \n",
       "5 1.544            1.885           \n",
       "6 1.538            1.817           "
      ]
     },
     "metadata": {},
     "output_type": "display_data"
    }
   ],
   "source": [
    "head(df)"
   ]
  },
  {
   "cell_type": "code",
   "execution_count": 7,
   "metadata": {},
   "outputs": [
    {
     "data": {
      "text/html": [
       "<table>\n",
       "<thead><tr><th scope=col>State</th><th scope=col>region</th><th scope=col>Date</th><th scope=col>Home.Value</th><th scope=col>Structure.Cost</th><th scope=col>Land.Value</th><th scope=col>Land.Share..Pct.</th><th scope=col>Home.Price.Index</th><th scope=col>Land.Price.Index</th></tr></thead>\n",
       "<tbody>\n",
       "\t<tr><td>DC    </td><td>NA    </td><td>20092 </td><td>630361</td><td>148268</td><td>482092</td><td>76.5  </td><td>2.409 </td><td>2.802 </td></tr>\n",
       "\t<tr><td>DC    </td><td>NA    </td><td>20093 </td><td>632103</td><td>148074</td><td>484029</td><td>76.6  </td><td>2.415 </td><td>2.817 </td></tr>\n",
       "\t<tr><td>DC    </td><td>NA    </td><td>20114 </td><td>676463</td><td>165456</td><td>511007</td><td>75.5  </td><td>2.585 </td><td>3.025 </td></tr>\n",
       "\t<tr><td>DC    </td><td>NA    </td><td>20121 </td><td>690234</td><td>166701</td><td>523532</td><td>75.8  </td><td>2.637 </td><td>3.107 </td></tr>\n",
       "\t<tr><td>DC    </td><td>NA    </td><td>20122 </td><td>705645</td><td>167978</td><td>537666</td><td>76.2  </td><td>2.696 </td><td>3.198 </td></tr>\n",
       "\t<tr><td>DC    </td><td>NA    </td><td>20123 </td><td>722514</td><td>169289</td><td>553225</td><td>76.6  </td><td>2.761 </td><td>3.299 </td></tr>\n",
       "</tbody>\n",
       "</table>\n"
      ],
      "text/latex": [
       "\\begin{tabular}{r|lllllllll}\n",
       " State & region & Date & Home.Value & Structure.Cost & Land.Value & Land.Share..Pct. & Home.Price.Index & Land.Price.Index\\\\\n",
       "\\hline\n",
       "\t DC     & NA     & 20092  & 630361 & 148268 & 482092 & 76.5   & 2.409  & 2.802 \\\\\n",
       "\t DC     & NA     & 20093  & 632103 & 148074 & 484029 & 76.6   & 2.415  & 2.817 \\\\\n",
       "\t DC     & NA     & 20114  & 676463 & 165456 & 511007 & 75.5   & 2.585  & 3.025 \\\\\n",
       "\t DC     & NA     & 20121  & 690234 & 166701 & 523532 & 75.8   & 2.637  & 3.107 \\\\\n",
       "\t DC     & NA     & 20122  & 705645 & 167978 & 537666 & 76.2   & 2.696  & 3.198 \\\\\n",
       "\t DC     & NA     & 20123  & 722514 & 169289 & 553225 & 76.6   & 2.761  & 3.299 \\\\\n",
       "\\end{tabular}\n"
      ],
      "text/markdown": [
       "\n",
       "| State | region | Date | Home.Value | Structure.Cost | Land.Value | Land.Share..Pct. | Home.Price.Index | Land.Price.Index |\n",
       "|---|---|---|---|---|---|---|---|---|\n",
       "| DC     | NA     | 20092  | 630361 | 148268 | 482092 | 76.5   | 2.409  | 2.802  |\n",
       "| DC     | NA     | 20093  | 632103 | 148074 | 484029 | 76.6   | 2.415  | 2.817  |\n",
       "| DC     | NA     | 20114  | 676463 | 165456 | 511007 | 75.5   | 2.585  | 3.025  |\n",
       "| DC     | NA     | 20121  | 690234 | 166701 | 523532 | 75.8   | 2.637  | 3.107  |\n",
       "| DC     | NA     | 20122  | 705645 | 167978 | 537666 | 76.2   | 2.696  | 3.198  |\n",
       "| DC     | NA     | 20123  | 722514 | 169289 | 553225 | 76.6   | 2.761  | 3.299  |\n",
       "\n"
      ],
      "text/plain": [
       "  State region Date  Home.Value Structure.Cost Land.Value Land.Share..Pct.\n",
       "1 DC    NA     20092 630361     148268         482092     76.5            \n",
       "2 DC    NA     20093 632103     148074         484029     76.6            \n",
       "3 DC    NA     20114 676463     165456         511007     75.5            \n",
       "4 DC    NA     20121 690234     166701         523532     75.8            \n",
       "5 DC    NA     20122 705645     167978         537666     76.2            \n",
       "6 DC    NA     20123 722514     169289         553225     76.6            \n",
       "  Home.Price.Index Land.Price.Index\n",
       "1 2.409            2.802           \n",
       "2 2.415            2.817           \n",
       "3 2.585            3.025           \n",
       "4 2.637            3.107           \n",
       "5 2.696            3.198           \n",
       "6 2.761            3.299           "
      ]
     },
     "metadata": {},
     "output_type": "display_data"
    }
   ],
   "source": [
    "tail(df)"
   ]
  },
  {
   "cell_type": "code",
   "execution_count": 5,
   "metadata": {},
   "outputs": [
    {
     "name": "stdout",
     "output_type": "stream",
     "text": [
      "Classes 'data.table' and 'data.frame':\t7803 obs. of  9 variables:\n",
      " $ State           : chr  \"AK\" \"AK\" \"AK\" \"AK\" ...\n",
      " $ region          : chr  \"West\" \"West\" \"West\" \"West\" ...\n",
      " $ Date            : int  20101 20102 20093 20094 20074 20081 20082 20083 20084 20091 ...\n",
      " $ Home.Value      : int  224952 225511 225820 224994 234590 233714 232999 232164 231039 229395 ...\n",
      " $ Structure.Cost  : int  160599 160252 163791 161787 155400 157458 160092 162704 164739 165424 ...\n",
      " $ Land.Value      : int  64352 65259 62029 63207 79190 76256 72906 69460 66299 63971 ...\n",
      " $ Land.Share..Pct.: num  28.6 28.9 27.5 28.1 33.8 32.6 31.3 29.9 28.7 27.9 ...\n",
      " $ Home.Price.Index: num  1.48 1.48 1.49 1.48 1.54 ...\n",
      " $ Land.Price.Index: num  1.55 1.58 1.49 1.52 1.88 ...\n",
      " - attr(*, \".internal.selfref\")=<externalptr> \n"
     ]
    }
   ],
   "source": [
    "str(df)"
   ]
  },
  {
   "cell_type": "code",
   "execution_count": 6,
   "metadata": {},
   "outputs": [
    {
     "data": {
      "text/plain": [
       "    State              region               Date         Home.Value    \n",
       " Length:7803        Length:7803        Min.   :19751   Min.   : 18763  \n",
       " Class :character   Class :character   1st Qu.:19843   1st Qu.: 62235  \n",
       " Mode  :character   Mode  :character   Median :19941   Median :108724  \n",
       "                                       Mean   :19939   Mean   :135313  \n",
       "                                       3rd Qu.:20033   3rd Qu.:172031  \n",
       "                                       Max.   :20131   Max.   :862885  \n",
       " Structure.Cost     Land.Value     Land.Share..Pct. Home.Price.Index\n",
       " Min.   : 17825   Min.   :   938   Min.   : 5.00    Min.   :0.1350  \n",
       " 1st Qu.: 53777   1st Qu.:  4178   1st Qu.: 5.00    1st Qu.:0.4550  \n",
       " Median : 88352   Median :  9478   Median :10.40    Median :0.7830  \n",
       " Mean   : 99534   Mean   : 35779   Mean   :18.17    Mean   :0.8695  \n",
       " 3rd Qu.:134871   3rd Qu.: 38631   3rd Qu.:26.30    3rd Qu.:1.2075  \n",
       " Max.   :325595   Max.   :594417   Max.   :81.70    Max.   :2.8930  \n",
       " Land.Price.Index \n",
       " Min.   : 0.0000  \n",
       " 1st Qu.: 0.0020  \n",
       " Median : 0.2520  \n",
       " Mean   : 0.9912  \n",
       " 3rd Qu.: 1.1510  \n",
       " Max.   :15.4340  "
      ]
     },
     "metadata": {},
     "output_type": "display_data"
    }
   ],
   "source": [
    "summary(df)"
   ]
  },
  {
   "cell_type": "markdown",
   "metadata": {},
   "source": [
    "# Verwendung von ggplot2\n",
    "## Kurzes Beispiel mit Histogrammen\n",
    "\n",
    "Histogramme sind ein toller Weg um schnell die eigenen Daten zu untersuchen. Dazu bieten sich uns einige schnelle Wege, um Histogramme zu erzeugen:\n",
    "\n",
    "* hist()\n",
    "* qplot()\n",
    "* ggplot()\n",
    "\n",
    "Diese drei Methoden unterscheiden sich hauptsächlich in einem Aspekt: Wir sehen uns einem Trade-off zwischen Einfachheit und Kontrolle gegenübergestellt.\n",
    "\n",
    "*Hinweis: In R Studio müssen wir print(plot_name) zum Anzeugen verwenden. Außerdem werden die Diagramme in R Studio viel besser als in den Notebooks aussehen.*"
   ]
  },
  {
   "cell_type": "code",
   "execution_count": 7,
   "metadata": {},
   "outputs": [
    {
     "data": {
      "image/png": "[encoded data removed]",
      "text/plain": [
       "Plot with title \"Histogram of df[[\"Home.Value\"]]\""
      ]
     },
     "metadata": {},
     "output_type": "display_data"
    }
   ],
   "source": [
    "# Eine Spalte an hist() übergeben\n",
    "hist(df[['Home.Value']])"
   ]
  },
  {
   "cell_type": "code",
   "execution_count": 20,
   "metadata": {},
   "outputs": [
    {
     "data": {
      "image/png": "[encoded data removed]",
      "text/plain": [
       "Plot with title \"Histogram of df$Home.Value\""
      ]
     },
     "metadata": {},
     "output_type": "display_data"
    }
   ],
   "source": [
    "# das gleiche ein wenig lesbarer ausgedrückt\n",
    "hist(df$Home.Value)"
   ]
  },
  {
   "cell_type": "markdown",
   "metadata": {},
   "source": [
    "**qplot nutzen**\n",
    "\n",
    "Achtet auf die automatische Anpassung von Farbe und breite der Balken."
   ]
  },
  {
   "cell_type": "code",
   "execution_count": 8,
   "metadata": {},
   "outputs": [
    {
     "name": "stderr",
     "output_type": "stream",
     "text": [
      "`stat_bin()` using `bins = 30`. Pick better value with `binwidth`.\n"
     ]
    },
    {
     "data": {
      "image/png": "[encoded data removed]",
      "text/plain": [
       "plot without title"
      ]
     },
     "metadata": {},
     "output_type": "display_data"
    }
   ],
   "source": [
    "qplot(df$Home.Value)"
   ]
  },
  {
   "cell_type": "code",
   "execution_count": 9,
   "metadata": {},
   "outputs": [
    {
     "name": "stderr",
     "output_type": "stream",
     "text": [
      "`stat_bin()` using `bins = 30`. Pick better value with `binwidth`.\n"
     ]
    },
    {
     "data": {
      "image/png": "[encoded data removed]",
      "text/plain": [
       "plot without title"
      ]
     },
     "metadata": {},
     "output_type": "display_data"
    }
   ],
   "source": [
    "# ggplot bietet uns mehr Gestaltungsmöglichkeiten, ist aber auch etwas komplizierter\n",
    "ggplot(data = df,aes(df$Home.Value))+geom_histogram()"
   ]
  },
  {
   "cell_type": "markdown",
   "metadata": {},
   "source": [
    "Welche Variante sollten wir also wählen? Normalerweise wird uns die `qplot()` Funktion eine gute Balance zwischen Einfachheit und Kontrolle bieten. Schauen wir uns die Syntax von qplot etwas genauer an:\n",
    "\n",
    "## qplot\n",
    "\n",
    "Die qplot() Funktion kann dazu genutzt werden die üblichsten Diagramme darzustellen. Dabei folgt es diesem Format:\n",
    "\n",
    "    qplot(x, y, data=, color=, shape=, size=, alpha=, geom=, method=, formula=, facets=, xlim=, ylim= xlab=, ylab=, main=, sub=)\n",
    "\n",
    "\n",
    "## Kurzes Anpassungsbeispiel"
   ]
  },
  {
   "cell_type": "code",
   "execution_count": 10,
   "metadata": {},
   "outputs": [
    {
     "name": "stderr",
     "output_type": "stream",
     "text": [
      "`stat_bin()` using `bins = 30`. Pick better value with `binwidth`.\n",
      "Warning message:\n",
      "\"Removed 94 rows containing non-finite values (stat_bin).\"Warning message:\n",
      "\"Removed 2 rows containing missing values (geom_bar).\""
     ]
    },
    {
     "data": {
      "image/png": "[encoded data removed]",
      "text/plain": [
       "plot without title"
      ]
     },
     "metadata": {},
     "output_type": "display_data"
    }
   ],
   "source": [
    "qplot(data=df,x=Home.Value,geom = 'histogram',xlim=c(0,500000), color='red')"
   ]
  },
  {
   "cell_type": "markdown",
   "metadata": {},
   "source": [
    "Herzlichen Glückwunsch! Sie sind mit Lektion 45. fertig!"
   ]
  },
  {
   "cell_type": "code",
   "execution_count": null,
   "metadata": {},
   "outputs": [],
   "source": []
  }
 ],
 "metadata": {
  "kernelspec": {
   "display_name": "R",
   "language": "R",
   "name": "ir"
  },
  "language_info": {
   "codemirror_mode": "r",
   "file_extension": ".r",
   "mimetype": "text/x-r-source",
   "name": "R",
   "pygments_lexer": "r",
   "version": "3.6.1"
  }
 },
 "nbformat": 4,
 "nbformat_minor": 1
}
